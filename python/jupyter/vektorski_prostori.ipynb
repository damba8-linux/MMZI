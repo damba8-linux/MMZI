{
 "cells": [
  {
   "cell_type": "markdown",
   "metadata": {},
   "source": [
    "<h1>Vektorski prostori u pythonu</h1>\n",
    "<p>Pokazano je nekoliko standardnih primjera korištenja <i>numpy</i> i <i>sympy</i> modula u rješavanju zadataka iz vektorskih prostora.</p>"
   ]
  },
  {
   "cell_type": "code",
   "execution_count": 1,
   "metadata": {},
   "outputs": [],
   "source": [
    "import platform"
   ]
  },
  {
   "cell_type": "code",
   "execution_count": 2,
   "metadata": {},
   "outputs": [
    {
     "data": {
      "text/plain": [
       "'Linux-5.4.143-1-MANJARO-x86_64-with-glibc2.33'"
      ]
     },
     "execution_count": 2,
     "metadata": {},
     "output_type": "execute_result"
    }
   ],
   "source": [
    "platform.platform()"
   ]
  },
  {
   "cell_type": "code",
   "execution_count": 3,
   "metadata": {},
   "outputs": [
    {
     "data": {
      "text/plain": [
       "'3.9.6'"
      ]
     },
     "execution_count": 3,
     "metadata": {},
     "output_type": "execute_result"
    }
   ],
   "source": [
    "platform.python_version()"
   ]
  },
  {
   "cell_type": "code",
   "execution_count": 4,
   "metadata": {},
   "outputs": [],
   "source": [
    "import numpy as np"
   ]
  },
  {
   "cell_type": "code",
   "execution_count": 5,
   "metadata": {},
   "outputs": [
    {
     "data": {
      "text/plain": [
       "'1.20.3'"
      ]
     },
     "execution_count": 5,
     "metadata": {},
     "output_type": "execute_result"
    }
   ],
   "source": [
    "np.__version__"
   ]
  },
  {
   "cell_type": "code",
   "execution_count": 6,
   "metadata": {},
   "outputs": [],
   "source": [
    "import numpy.linalg as LA"
   ]
  },
  {
   "cell_type": "code",
   "execution_count": 7,
   "metadata": {},
   "outputs": [],
   "source": [
    "import sympy as sp"
   ]
  },
  {
   "cell_type": "code",
   "execution_count": 8,
   "metadata": {},
   "outputs": [],
   "source": [
    "sp.init_printing()"
   ]
  },
  {
   "cell_type": "code",
   "execution_count": 9,
   "metadata": {},
   "outputs": [
    {
     "data": {
      "text/plain": [
       "'1.8'"
      ]
     },
     "execution_count": 9,
     "metadata": {},
     "output_type": "execute_result"
    }
   ],
   "source": [
    "sp.__version__"
   ]
  },
  {
   "cell_type": "markdown",
   "metadata": {},
   "source": [
    "<h2>Nekoliko napomena vezanih uz konačnu aritmetiku na računalu</h2>\n",
    "<p style=\"line-height:30px;\">U egzaktnoj aritmetici je $\\frac{7}{3}-\\frac{4}{3}-1=0$, dok u konačnoj aritmetici dvostruke preciznosti zbog grešaka zaokruživanja rezultat ne ispada nula, nego je broj jako blizu nule.</p>"
   ]
  },
  {
   "cell_type": "code",
   "execution_count": 10,
   "metadata": {},
   "outputs": [
    {
     "data": {
      "image/png": "[encoded data removed]",
      "text/latex": [
       "$\\displaystyle 2.22044604925031 \\cdot 10^{-16}$"
      ],
      "text/plain": [
       "2.220446049250313e-16"
      ]
     },
     "execution_count": 10,
     "metadata": {},
     "output_type": "execute_result"
    }
   ],
   "source": [
    "a=7/3-4/3-1\n",
    "a"
   ]
  },
  {
   "cell_type": "code",
   "execution_count": 11,
   "metadata": {},
   "outputs": [
    {
     "data": {
      "text/plain": [
       "False"
      ]
     },
     "execution_count": 11,
     "metadata": {},
     "output_type": "execute_result"
    }
   ],
   "source": [
    "a==0"
   ]
  },
  {
   "cell_type": "code",
   "execution_count": 12,
   "metadata": {},
   "outputs": [
    {
     "data": {
      "text/plain": [
       "False"
      ]
     },
     "execution_count": 12,
     "metadata": {},
     "output_type": "execute_result"
    }
   ],
   "source": [
    "a==0.0"
   ]
  },
  {
   "cell_type": "markdown",
   "metadata": {},
   "source": [
    "<p style=\"line-height:30px;\">U egzaktnoj aritmetici je $\\frac{10}{3}-\\frac{7}{3}-1=0$, ali i u konačnoj aritmetici dvostruke preciznosti dobivamo točni rezultat. Sve ovisi o pripadnoj binarnoj reprezentaciji realnih brojeva i broju bitova koji se čuvaju za mantisu i eksponent.</p>"
   ]
  },
  {
   "cell_type": "code",
   "execution_count": 13,
   "metadata": {},
   "outputs": [
    {
     "data": {
      "image/png": "[encoded data removed]",
      "text/latex": [
       "$\\displaystyle 0.0$"
      ],
      "text/plain": [
       "0.0"
      ]
     },
     "execution_count": 13,
     "metadata": {},
     "output_type": "execute_result"
    }
   ],
   "source": [
    "b=10/3-7/3-1\n",
    "b"
   ]
  },
  {
   "cell_type": "code",
   "execution_count": 14,
   "metadata": {},
   "outputs": [
    {
     "data": {
      "text/plain": [
       "True"
      ]
     },
     "execution_count": 14,
     "metadata": {},
     "output_type": "execute_result"
    }
   ],
   "source": [
    "b==0"
   ]
  },
  {
   "cell_type": "markdown",
   "metadata": {},
   "source": [
    "<p style=\"line-height:25px;\">Gornja dva jednostavna primjera pokazuju da moramo biti iznimno oprezni kada radimo u konačnoj aritmetici računala. Testiranje je li rezultat nekog numeričkog izračuna jednak nula može naš program odvesti u potpuno krivom smjeru ako nismo dobro upoznati s problemom i ako samo testiranje ne obavimo na inteligentniji način.</p>"
   ]
  },
  {
   "cell_type": "code",
   "execution_count": 15,
   "metadata": {},
   "outputs": [
    {
     "name": "stdout",
     "output_type": "stream",
     "text": [
      "Rezultat nije nula\n"
     ]
    }
   ],
   "source": [
    "if a==0:\n",
    "    print('Rezultat je nula')\n",
    "else:\n",
    "    print('Rezultat nije nula')"
   ]
  },
  {
   "cell_type": "code",
   "execution_count": 16,
   "metadata": {},
   "outputs": [
    {
     "name": "stdout",
     "output_type": "stream",
     "text": [
      "Rezultat je nula\n"
     ]
    }
   ],
   "source": [
    "if np.abs(a) < 1e-12:\n",
    "    print('Rezultat je nula')\n",
    "else:\n",
    "    print('Rezultat nije nula')"
   ]
  },
  {
   "cell_type": "markdown",
   "metadata": {},
   "source": [
    "<p style=\"line-height:25px;\">Sympy modul omogućuje nam da u pythonu provodimo izračune u egzaktnoj aritmetici. Takvi izračuni su bitno sporiji jer ne koriste direktno hardversku aritmetiku računala, već dodatno implementirane algoritme koji troše znatno više resursa.</p>"
   ]
  },
  {
   "cell_type": "code",
   "execution_count": 17,
   "metadata": {},
   "outputs": [
    {
     "data": {
      "image/png": "[encoded data removed]",
      "text/latex": [
       "$\\displaystyle 0$"
      ],
      "text/plain": [
       "0"
      ]
     },
     "execution_count": 17,
     "metadata": {},
     "output_type": "execute_result"
    }
   ],
   "source": [
    "sp.Rational(7,3)-sp.Rational(4,3)-1"
   ]
  },
  {
   "cell_type": "code",
   "execution_count": 18,
   "metadata": {},
   "outputs": [
    {
     "data": {
      "image/png": "[encoded data removed]",
      "text/latex": [
       "$\\displaystyle 0$"
      ],
      "text/plain": [
       "0"
      ]
     },
     "execution_count": 18,
     "metadata": {},
     "output_type": "execute_result"
    }
   ],
   "source": [
    "sp.Rational(10,3)-sp.Rational(7,3)-1"
   ]
  },
  {
   "cell_type": "markdown",
   "metadata": {},
   "source": [
    "<p style=\"line-height:25px;\">Numpy koristi hardversku aritmetiku računala u dvostrukoj preciznosti na 64-bitnom računalu, Sympy koristi egzaktni simbolički račun koji je sporiji od hardverske aritmetike.</p>"
   ]
  },
  {
   "cell_type": "code",
   "execution_count": 19,
   "metadata": {},
   "outputs": [
    {
     "data": {
      "image/png": "[encoded data removed]",
      "text/latex": [
       "$\\displaystyle 3.65028153987288$"
      ],
      "text/plain": [
       "3.6502815398728847"
      ]
     },
     "execution_count": 19,
     "metadata": {},
     "output_type": "execute_result"
    }
   ],
   "source": [
    "np.sqrt(2)+np.sqrt(5)"
   ]
  },
  {
   "cell_type": "code",
   "execution_count": 20,
   "metadata": {},
   "outputs": [
    {
     "data": {
      "image/png": "[encoded data removed]",
      "text/latex": [
       "$\\displaystyle \\sqrt{2} + \\sqrt{5}$"
      ],
      "text/plain": [
       "√2 + √5"
      ]
     },
     "execution_count": 20,
     "metadata": {},
     "output_type": "execute_result"
    }
   ],
   "source": [
    "br=sp.sqrt(2)+sp.sqrt(5)\n",
    "br"
   ]
  },
  {
   "cell_type": "code",
   "execution_count": 21,
   "metadata": {},
   "outputs": [
    {
     "data": {
      "image/png": "[encoded data removed]",
      "text/latex": [
       "$\\displaystyle 3.6502815398728847452108623929409743140102902349885$"
      ],
      "text/plain": [
       "3.6502815398728847452108623929409743140102902349885"
      ]
     },
     "execution_count": 21,
     "metadata": {},
     "output_type": "execute_result"
    }
   ],
   "source": [
    "sp.N(br,50)"
   ]
  },
  {
   "cell_type": "markdown",
   "metadata": {},
   "source": [
    "<h3>Primjer sa singularnom matricom</h3>\n",
    "<p>Matrica $A$ je singularna matrica pa nema inverznu matricu. Pomoću modula sympy to se lagano provjeri.</p>"
   ]
  },
  {
   "cell_type": "code",
   "execution_count": 22,
   "metadata": {},
   "outputs": [],
   "source": [
    "A=sp.Matrix([[4,-2,2],[-4,-3,3],[-9,-3,3]])"
   ]
  },
  {
   "cell_type": "code",
   "execution_count": 23,
   "metadata": {},
   "outputs": [
    {
     "data": {
      "image/png": "[encoded data removed]",
      "text/latex": [
       "$\\displaystyle \\left[\\begin{matrix}4 & -2 & 2\\\\-4 & -3 & 3\\\\-9 & -3 & 3\\end{matrix}\\right]$"
      ],
      "text/plain": [
       "⎡4   -2  2⎤\n",
       "⎢         ⎥\n",
       "⎢-4  -3  3⎥\n",
       "⎢         ⎥\n",
       "⎣-9  -3  3⎦"
      ]
     },
     "execution_count": 23,
     "metadata": {},
     "output_type": "execute_result"
    }
   ],
   "source": [
    "A"
   ]
  },
  {
   "cell_type": "code",
   "execution_count": 24,
   "metadata": {},
   "outputs": [
    {
     "data": {
      "image/png": "[encoded data removed]",
      "text/latex": [
       "$\\displaystyle 0$"
      ],
      "text/plain": [
       "0"
      ]
     },
     "execution_count": 24,
     "metadata": {},
     "output_type": "execute_result"
    }
   ],
   "source": [
    "sp.det(A)"
   ]
  },
  {
   "cell_type": "code",
   "execution_count": 25,
   "metadata": {},
   "outputs": [
    {
     "ename": "NonInvertibleMatrixError",
     "evalue": "Matrix det == 0; not invertible.",
     "output_type": "error",
     "traceback": [
      "\u001b[0;31m---------------------------------------------------------------------------\u001b[0m",
      "\u001b[0;31mNonInvertibleMatrixError\u001b[0m                  Traceback (most recent call last)",
      "\u001b[0;32m/tmp/ipykernel_22427/2114430425.py\u001b[0m in \u001b[0;36m<module>\u001b[0;34m\u001b[0m\n\u001b[0;32m----> 1\u001b[0;31m \u001b[0mA\u001b[0m\u001b[0;34m.\u001b[0m\u001b[0minv\u001b[0m\u001b[0;34m(\u001b[0m\u001b[0;34m)\u001b[0m\u001b[0;34m\u001b[0m\u001b[0;34m\u001b[0m\u001b[0m\n\u001b[0m",
      "\u001b[0;32m/usr/lib/python3.9/site-packages/sympy/matrices/matrices.py\u001b[0m in \u001b[0;36minv\u001b[0;34m(self, method, iszerofunc, try_block_diag)\u001b[0m\n\u001b[1;32m   2197\u001b[0m \u001b[0;34m\u001b[0m\u001b[0m\n\u001b[1;32m   2198\u001b[0m     \u001b[0;32mdef\u001b[0m \u001b[0minv\u001b[0m\u001b[0;34m(\u001b[0m\u001b[0mself\u001b[0m\u001b[0;34m,\u001b[0m \u001b[0mmethod\u001b[0m\u001b[0;34m=\u001b[0m\u001b[0;32mNone\u001b[0m\u001b[0;34m,\u001b[0m \u001b[0miszerofunc\u001b[0m\u001b[0;34m=\u001b[0m\u001b[0m_iszero\u001b[0m\u001b[0;34m,\u001b[0m \u001b[0mtry_block_diag\u001b[0m\u001b[0;34m=\u001b[0m\u001b[0;32mFalse\u001b[0m\u001b[0;34m)\u001b[0m\u001b[0;34m:\u001b[0m\u001b[0;34m\u001b[0m\u001b[0;34m\u001b[0m\u001b[0m\n\u001b[0;32m-> 2199\u001b[0;31m         return _inv(self, method=method, iszerofunc=iszerofunc,\n\u001b[0m\u001b[1;32m   2200\u001b[0m                 try_block_diag=try_block_diag)\n\u001b[1;32m   2201\u001b[0m \u001b[0;34m\u001b[0m\u001b[0m\n",
      "\u001b[0;32m/usr/lib/python3.9/site-packages/sympy/matrices/inverse.py\u001b[0m in \u001b[0;36m_inv\u001b[0;34m(M, method, iszerofunc, try_block_diag)\u001b[0m\n\u001b[1;32m    457\u001b[0m \u001b[0;34m\u001b[0m\u001b[0m\n\u001b[1;32m    458\u001b[0m     \u001b[0;32mif\u001b[0m \u001b[0mmethod\u001b[0m \u001b[0;34m==\u001b[0m \u001b[0;34m\"GE\"\u001b[0m\u001b[0;34m:\u001b[0m\u001b[0;34m\u001b[0m\u001b[0;34m\u001b[0m\u001b[0m\n\u001b[0;32m--> 459\u001b[0;31m         \u001b[0mrv\u001b[0m \u001b[0;34m=\u001b[0m \u001b[0mM\u001b[0m\u001b[0;34m.\u001b[0m\u001b[0minverse_GE\u001b[0m\u001b[0;34m(\u001b[0m\u001b[0miszerofunc\u001b[0m\u001b[0;34m=\u001b[0m\u001b[0miszerofunc\u001b[0m\u001b[0;34m)\u001b[0m\u001b[0;34m\u001b[0m\u001b[0;34m\u001b[0m\u001b[0m\n\u001b[0m\u001b[1;32m    460\u001b[0m     \u001b[0;32melif\u001b[0m \u001b[0mmethod\u001b[0m \u001b[0;34m==\u001b[0m \u001b[0;34m\"LU\"\u001b[0m\u001b[0;34m:\u001b[0m\u001b[0;34m\u001b[0m\u001b[0;34m\u001b[0m\u001b[0m\n\u001b[1;32m    461\u001b[0m         \u001b[0mrv\u001b[0m \u001b[0;34m=\u001b[0m \u001b[0mM\u001b[0m\u001b[0;34m.\u001b[0m\u001b[0minverse_LU\u001b[0m\u001b[0;34m(\u001b[0m\u001b[0miszerofunc\u001b[0m\u001b[0;34m=\u001b[0m\u001b[0miszerofunc\u001b[0m\u001b[0;34m)\u001b[0m\u001b[0;34m\u001b[0m\u001b[0;34m\u001b[0m\u001b[0m\n",
      "\u001b[0;32m/usr/lib/python3.9/site-packages/sympy/matrices/matrices.py\u001b[0m in \u001b[0;36minverse_GE\u001b[0;34m(self, iszerofunc)\u001b[0m\n\u001b[1;32m   2182\u001b[0m \u001b[0;34m\u001b[0m\u001b[0m\n\u001b[1;32m   2183\u001b[0m     \u001b[0;32mdef\u001b[0m \u001b[0minverse_GE\u001b[0m\u001b[0;34m(\u001b[0m\u001b[0mself\u001b[0m\u001b[0;34m,\u001b[0m \u001b[0miszerofunc\u001b[0m\u001b[0;34m=\u001b[0m\u001b[0m_iszero\u001b[0m\u001b[0;34m)\u001b[0m\u001b[0;34m:\u001b[0m\u001b[0;34m\u001b[0m\u001b[0;34m\u001b[0m\u001b[0m\n\u001b[0;32m-> 2184\u001b[0;31m         \u001b[0;32mreturn\u001b[0m \u001b[0m_inv_GE\u001b[0m\u001b[0;34m(\u001b[0m\u001b[0mself\u001b[0m\u001b[0;34m,\u001b[0m \u001b[0miszerofunc\u001b[0m\u001b[0;34m=\u001b[0m\u001b[0miszerofunc\u001b[0m\u001b[0;34m)\u001b[0m\u001b[0;34m\u001b[0m\u001b[0;34m\u001b[0m\u001b[0m\n\u001b[0m\u001b[1;32m   2185\u001b[0m \u001b[0;34m\u001b[0m\u001b[0m\n\u001b[1;32m   2186\u001b[0m     \u001b[0;32mdef\u001b[0m \u001b[0minverse_LU\u001b[0m\u001b[0;34m(\u001b[0m\u001b[0mself\u001b[0m\u001b[0;34m,\u001b[0m \u001b[0miszerofunc\u001b[0m\u001b[0;34m=\u001b[0m\u001b[0m_iszero\u001b[0m\u001b[0;34m)\u001b[0m\u001b[0;34m:\u001b[0m\u001b[0;34m\u001b[0m\u001b[0;34m\u001b[0m\u001b[0m\n",
      "\u001b[0;32m/usr/lib/python3.9/site-packages/sympy/matrices/inverse.py\u001b[0m in \u001b[0;36m_inv_GE\u001b[0;34m(M, iszerofunc)\u001b[0m\n\u001b[1;32m    243\u001b[0m \u001b[0;34m\u001b[0m\u001b[0m\n\u001b[1;32m    244\u001b[0m     \u001b[0;32mif\u001b[0m \u001b[0many\u001b[0m\u001b[0;34m(\u001b[0m\u001b[0miszerofunc\u001b[0m\u001b[0;34m(\u001b[0m\u001b[0mred\u001b[0m\u001b[0;34m[\u001b[0m\u001b[0mj\u001b[0m\u001b[0;34m,\u001b[0m \u001b[0mj\u001b[0m\u001b[0;34m]\u001b[0m\u001b[0;34m)\u001b[0m \u001b[0;32mfor\u001b[0m \u001b[0mj\u001b[0m \u001b[0;32min\u001b[0m \u001b[0mrange\u001b[0m\u001b[0;34m(\u001b[0m\u001b[0mred\u001b[0m\u001b[0;34m.\u001b[0m\u001b[0mrows\u001b[0m\u001b[0;34m)\u001b[0m\u001b[0;34m)\u001b[0m\u001b[0;34m:\u001b[0m\u001b[0;34m\u001b[0m\u001b[0;34m\u001b[0m\u001b[0m\n\u001b[0;32m--> 245\u001b[0;31m         \u001b[0;32mraise\u001b[0m \u001b[0mNonInvertibleMatrixError\u001b[0m\u001b[0;34m(\u001b[0m\u001b[0;34m\"Matrix det == 0; not invertible.\"\u001b[0m\u001b[0;34m)\u001b[0m\u001b[0;34m\u001b[0m\u001b[0;34m\u001b[0m\u001b[0m\n\u001b[0m\u001b[1;32m    246\u001b[0m \u001b[0;34m\u001b[0m\u001b[0m\n\u001b[1;32m    247\u001b[0m     \u001b[0;32mreturn\u001b[0m \u001b[0mM\u001b[0m\u001b[0;34m.\u001b[0m\u001b[0m_new\u001b[0m\u001b[0;34m(\u001b[0m\u001b[0mred\u001b[0m\u001b[0;34m[\u001b[0m\u001b[0;34m:\u001b[0m\u001b[0;34m,\u001b[0m \u001b[0mbig\u001b[0m\u001b[0;34m.\u001b[0m\u001b[0mrows\u001b[0m\u001b[0;34m:\u001b[0m\u001b[0;34m]\u001b[0m\u001b[0;34m)\u001b[0m\u001b[0;34m\u001b[0m\u001b[0;34m\u001b[0m\u001b[0m\n",
      "\u001b[0;31mNonInvertibleMatrixError\u001b[0m: Matrix det == 0; not invertible."
     ]
    }
   ],
   "source": [
    "A.inv()"
   ]
  },
  {
   "cell_type": "markdown",
   "metadata": {},
   "source": [
    "<p>Međutim, numpy modul zbog grešaka zaokruživanja daje potpuno drukčije rezultate.</p>"
   ]
  },
  {
   "cell_type": "code",
   "execution_count": 26,
   "metadata": {},
   "outputs": [],
   "source": [
    "A=np.array([[4,-2,2],[-4,-3,3],[-9,-3,3]])"
   ]
  },
  {
   "cell_type": "code",
   "execution_count": 27,
   "metadata": {},
   "outputs": [
    {
     "data": {
      "image/png": "[encoded data removed]",
      "text/latex": [
       "$\\displaystyle -6.66133814775097 \\cdot 10^{-15}$"
      ],
      "text/plain": [
       "-6.6613381477509716e-15"
      ]
     },
     "execution_count": 27,
     "metadata": {},
     "output_type": "execute_result"
    }
   ],
   "source": [
    "LA.det(A)"
   ]
  },
  {
   "cell_type": "code",
   "execution_count": 28,
   "metadata": {},
   "outputs": [
    {
     "data": {
      "text/plain": [
       "False"
      ]
     },
     "execution_count": 28,
     "metadata": {},
     "output_type": "execute_result"
    }
   ],
   "source": [
    "LA.det(A)==0"
   ]
  },
  {
   "cell_type": "markdown",
   "metadata": {},
   "source": [
    "<p>Čak dobivamo i inverznu matricu</p>"
   ]
  },
  {
   "cell_type": "code",
   "execution_count": 29,
   "metadata": {},
   "outputs": [
    {
     "data": {
      "text/plain": [
       "array([[-0.00000000e+00, -0.00000000e+00, -1.11111111e-01],\n",
       "       [ 2.25179981e+15, -4.50359963e+15,  3.00239975e+15],\n",
       "       [ 2.25179981e+15, -4.50359963e+15,  3.00239975e+15]])"
      ]
     },
     "execution_count": 29,
     "metadata": {},
     "output_type": "execute_result"
    }
   ],
   "source": [
    "LA.inv(A)"
   ]
  },
  {
   "cell_type": "markdown",
   "metadata": {},
   "source": [
    "<p style=\"line-height:25px;\">To nije bug u numpy modulu, to je jednostavno posljedica konačne aritmetike. Trebamo li onda izbjegavati korištenje numpy modula? Naravno da ne trebamo, jer bismo onda trebali izbjegavati hardversku aritmetiku računala i raznorazne kalkulatore, excel i slične programe. Ovi jednostavni primjeri samo pokazuju da moramo biti oprezni s rezultatima koje daje računalo, a ne ih uzimati samo zdravo za gotovo. Konkretno na ovom primjeru matrice, vidimo da je sama determinanta reda veličine $10^{-15}$, što je zaista broj jako blizu nule i već iz tog podatka možemo reći da je zadana matrica najvjerojatnije singularna. Čak ako i u stvarnosti nije možda singularna, bolje ju je proglasiti numerički singularnom jer ćemo na taj način napraviti manje štete. Također, brojevi u navodnoj inverznoj matrici su reda veličine $10^{15}$, što su iznimno veliki brojevi s obzirom na jako male brojeve u početnoj matrici pa nam već to mora sugerirati da sumnjamo u točnost rezultata koje je dalo računalo numeričkim putem. Numerički alati poput <i>Octave</i> će tom prilikom obavijestiti korisnika da je početna matrica najvjerojatnije singularna i da dobivenu inverznu matricu treba zanemariti.</p>"
   ]
  },
  {
   "cell_type": "markdown",
   "metadata": {},
   "source": [
    "<div style=\"background-color: #fef2ec; color: #000000; border: 2px solid #fcc2a0; padding:10px;\">\n",
    "<h4>Napomena</h4>\n",
    "<p style=\"line-height:25px;\">Dobar programer može napraviti veliku štetu ukoliko se upusti u implementaciju numeričkih algoritama ako pritom ne poznaje iznimno detaljno područje numeričke matematike. Implementacije numeričkih algoritama treba prepustiti ljudima koji su veliki stručnjaci u području numeričke matematike: dakle, prije svega moraju dobro znati matematiku, a nakon toga još iznimno jako dobro znati numeričku matematiku. Stoga je uvijek najbolje koristiti gotove numeričke biblioteke i alate ukoliko pojedinac nije detaljno upoznat s numeričkom matematikom, nego se upuštati u izradu vlastitih implementacija jer smo vidjeli da i na sasvim banalnom primjeru sve može krenuti u pogrešnom smjeru. Štoviše, ne mora dobiveni rezultat uopće izgledati čudno, a može biti u potpunosti pogrešan. Kako bismo izbjegli takve situacije, najbolje je koristiti gotove numeričke biblioteke i alate. Jedne od takvih numeričkih biblioteka su <i>numpy</i> i <i>scipy</i> za programski jezik python.</p>\n",
    "</div>"
   ]
  },
  {
   "cell_type": "markdown",
   "metadata": {},
   "source": [
    "<h2>Zadaci</h2>\n",
    "<p style=\"line-height:25px;\">Pokazano je na nekoliko zadataka kako ih brzo riješiti pomoću dostupnih naredbi iz <i>numpy</i> i <i>sympy</i> modula. Kao što je bilo rečeno ranije, <i>numpy</i> koristi hardversku aritmetiku računala, a <i>sympy</i> koristi implementirani egzaktni simbolički račun.</p>"
   ]
  },
  {
   "cell_type": "markdown",
   "metadata": {},
   "source": [
    "<div style=\"background-color: #F5FFFA; color: #000000; border: 2px solid #B0C4DE; border-radius: 15px; padding:0px 10px 25px;\">\n",
    "<h3>1. zadatak</h3>\n",
    "<p style=\"line-height:30px;\">U $\\mathcal{P}_3(t)$ zadani su polinomi $p_1(t)=t^2+t,$ $p_2(t)=t^2-2t+3.$\n",
    "Prikažite, ako je moguće, polinome $p_3(t)=-t^2+8t-9$ i $p_4(t)=t+2$ kao linearne kombinacije polinoma $p_1$ i $p_2$.</p>\n",
    "</div>\n",
    "<h3>Rješenje</h3>"
   ]
  },
  {
   "cell_type": "code",
   "execution_count": 30,
   "metadata": {},
   "outputs": [],
   "source": [
    "A=sp.Matrix([[1,1,0],[1,-2,3],[-1,8,-9],[0,1,2]])\n",
    "A=A.T"
   ]
  },
  {
   "cell_type": "code",
   "execution_count": 31,
   "metadata": {},
   "outputs": [
    {
     "data": {
      "image/png": "[encoded data removed]",
      "text/latex": [
       "$\\displaystyle \\left[\\begin{matrix}1 & 1 & -1 & 0\\\\1 & -2 & 8 & 1\\\\0 & 3 & -9 & 2\\end{matrix}\\right]$"
      ],
      "text/plain": [
       "⎡1  1   -1  0⎤\n",
       "⎢            ⎥\n",
       "⎢1  -2  8   1⎥\n",
       "⎢            ⎥\n",
       "⎣0  3   -9  2⎦"
      ]
     },
     "execution_count": 31,
     "metadata": {},
     "output_type": "execute_result"
    }
   ],
   "source": [
    "A"
   ]
  },
  {
   "cell_type": "markdown",
   "metadata": {},
   "source": [
    "<p style=\"line-height:25px;\">Iz reducirane ešalonske forme vidimo da se polinom $p_3$ može prikazati kao linearna kombinacija polinoma $p_1$ i $p_2$, dok se polinom $p_4$ ne može prikazati kao linearna kombinacija polinoma $p_1$ i $p_2$.</p>"
   ]
  },
  {
   "cell_type": "code",
   "execution_count": 32,
   "metadata": {},
   "outputs": [
    {
     "data": {
      "image/png": "[encoded data removed]",
      "text/latex": [
       "$\\displaystyle \\left( \\left[\\begin{matrix}1 & 0 & 2 & 0\\\\0 & 1 & -3 & 0\\\\0 & 0 & 0 & 1\\end{matrix}\\right], \\  \\left( 0, \\  1, \\  3\\right)\\right)$"
      ],
      "text/plain": [
       "⎛⎡1  0  2   0⎤           ⎞\n",
       "⎜⎢           ⎥           ⎟\n",
       "⎜⎢0  1  -3  0⎥, (0, 1, 3)⎟\n",
       "⎜⎢           ⎥           ⎟\n",
       "⎝⎣0  0  0   1⎦           ⎠"
      ]
     },
     "execution_count": 32,
     "metadata": {},
     "output_type": "execute_result"
    }
   ],
   "source": [
    "A.rref()"
   ]
  },
  {
   "cell_type": "markdown",
   "metadata": {},
   "source": [
    "<p>$p_3(t)=2\\cdot p_1(t)-3\\cdot p_2(t)$</p>"
   ]
  },
  {
   "cell_type": "code",
   "execution_count": 33,
   "metadata": {},
   "outputs": [
    {
     "data": {
      "image/png": "[encoded data removed]",
      "text/latex": [
       "$\\displaystyle \\left\\{\\left( 2, \\  -3\\right)\\right\\}$"
      ],
      "text/plain": [
       "{(2, -3)}"
      ]
     },
     "execution_count": 33,
     "metadata": {},
     "output_type": "execute_result"
    }
   ],
   "source": [
    "sp.var('x y')\n",
    "sp.linsolve((A[:,:2],A[:,2]),x,y)"
   ]
  },
  {
   "cell_type": "markdown",
   "metadata": {},
   "source": [
    "<p>Polinom $p_4$ nije linearna kombinacija polinoma $p_1$ i $p_2$.</p>"
   ]
  },
  {
   "cell_type": "code",
   "execution_count": 34,
   "metadata": {},
   "outputs": [
    {
     "data": {
      "image/png": "[encoded data removed]",
      "text/latex": [
       "$\\displaystyle \\emptyset$"
      ],
      "text/plain": [
       "∅"
      ]
     },
     "execution_count": 34,
     "metadata": {},
     "output_type": "execute_result"
    }
   ],
   "source": [
    "sp.linsolve((A[:,:2],A[:,3]),x,y)"
   ]
  },
  {
   "cell_type": "markdown",
   "metadata": {},
   "source": [
    "<div style=\"background-color: #F5FFFA; color: #000000; border: 2px solid #B0C4DE; border-radius: 15px; padding:0px 10px 25px;\">\n",
    "<h3>2. zadatak</h3>\n",
    "<p>Neka je $W$ potprostor od $\\mathbb{R}^5$ razapet s vektorima</p>\n",
    "<p style=\"line-height:35px;\">$u_1=(1,2,-1,3,4),\\ $ $u_2=(2,4,-2,6,8),\\ $ $u_3=(1,3,2,2,6),\\ $ $u_4=(1,4,5,1,8),\\ $ $u_5=(2,7,3,3,9).$</p>\n",
    "<p>Odredite jednu bazu i dimenziju vektorskog prostora $W$.</p>\n",
    "</div>\n",
    "<h3>Rješenje</h3>"
   ]
  },
  {
   "cell_type": "code",
   "execution_count": 35,
   "metadata": {},
   "outputs": [],
   "source": [
    "M=sp.Matrix([[1,2,-1,3,4],[2,4,-2,6,8],[1,3,2,2,6],[1,4,5,1,8],[2,7,3,3,9]])\n",
    "M=M.T"
   ]
  },
  {
   "cell_type": "code",
   "execution_count": 36,
   "metadata": {},
   "outputs": [
    {
     "data": {
      "image/png": "[encoded data removed]",
      "text/latex": [
       "$\\displaystyle \\left[\\begin{matrix}1 & 2 & 1 & 1 & 2\\\\2 & 4 & 3 & 4 & 7\\\\-1 & -2 & 2 & 5 & 3\\\\3 & 6 & 2 & 1 & 3\\\\4 & 8 & 6 & 8 & 9\\end{matrix}\\right]$"
      ],
      "text/plain": [
       "⎡1   2   1  1  2⎤\n",
       "⎢               ⎥\n",
       "⎢2   4   3  4  7⎥\n",
       "⎢               ⎥\n",
       "⎢-1  -2  2  5  3⎥\n",
       "⎢               ⎥\n",
       "⎢3   6   2  1  3⎥\n",
       "⎢               ⎥\n",
       "⎣4   8   6  8  9⎦"
      ]
     },
     "execution_count": 36,
     "metadata": {},
     "output_type": "execute_result"
    }
   ],
   "source": [
    "M"
   ]
  },
  {
   "cell_type": "markdown",
   "metadata": {},
   "source": [
    "<p>Jedna baza za vektorski prostor $W$</p>"
   ]
  },
  {
   "cell_type": "code",
   "execution_count": 37,
   "metadata": {},
   "outputs": [
    {
     "data": {
      "image/png": "[encoded data removed]",
      "text/latex": [
       "$\\displaystyle \\left[ \\left[\\begin{matrix}1\\\\2\\\\-1\\\\3\\\\4\\end{matrix}\\right], \\  \\left[\\begin{matrix}1\\\\3\\\\2\\\\2\\\\6\\end{matrix}\\right], \\  \\left[\\begin{matrix}2\\\\7\\\\3\\\\3\\\\9\\end{matrix}\\right]\\right]$"
      ],
      "text/plain": [
       "⎡⎡1 ⎤  ⎡1⎤  ⎡2⎤⎤\n",
       "⎢⎢  ⎥  ⎢ ⎥  ⎢ ⎥⎥\n",
       "⎢⎢2 ⎥  ⎢3⎥  ⎢7⎥⎥\n",
       "⎢⎢  ⎥  ⎢ ⎥  ⎢ ⎥⎥\n",
       "⎢⎢-1⎥, ⎢2⎥, ⎢3⎥⎥\n",
       "⎢⎢  ⎥  ⎢ ⎥  ⎢ ⎥⎥\n",
       "⎢⎢3 ⎥  ⎢2⎥  ⎢3⎥⎥\n",
       "⎢⎢  ⎥  ⎢ ⎥  ⎢ ⎥⎥\n",
       "⎣⎣4 ⎦  ⎣6⎦  ⎣9⎦⎦"
      ]
     },
     "execution_count": 37,
     "metadata": {},
     "output_type": "execute_result"
    }
   ],
   "source": [
    "M.columnspace()"
   ]
  },
  {
   "cell_type": "markdown",
   "metadata": {},
   "source": [
    "<p>$\\dim{W}=3$</p>"
   ]
  },
  {
   "cell_type": "code",
   "execution_count": 38,
   "metadata": {},
   "outputs": [
    {
     "data": {
      "image/png": "[encoded data removed]",
      "text/latex": [
       "$\\displaystyle 3$"
      ],
      "text/plain": [
       "3"
      ]
     },
     "execution_count": 38,
     "metadata": {},
     "output_type": "execute_result"
    }
   ],
   "source": [
    "M.rank()"
   ]
  },
  {
   "cell_type": "markdown",
   "metadata": {},
   "source": [
    "<p>Možemo sve dobiti i iz reducirane retčane ešalonske forme</p>"
   ]
  },
  {
   "cell_type": "code",
   "execution_count": 39,
   "metadata": {},
   "outputs": [
    {
     "data": {
      "image/png": "[encoded data removed]",
      "text/latex": [
       "$\\displaystyle \\left( \\left[\\begin{matrix}1 & 2 & 0 & -1 & 0\\\\0 & 0 & 1 & 2 & 0\\\\0 & 0 & 0 & 0 & 1\\\\0 & 0 & 0 & 0 & 0\\\\0 & 0 & 0 & 0 & 0\\end{matrix}\\right], \\  \\left( 0, \\  2, \\  4\\right)\\right)$"
      ],
      "text/plain": [
       "⎛⎡1  2  0  -1  0⎤           ⎞\n",
       "⎜⎢              ⎥           ⎟\n",
       "⎜⎢0  0  1  2   0⎥           ⎟\n",
       "⎜⎢              ⎥           ⎟\n",
       "⎜⎢0  0  0  0   1⎥, (0, 2, 4)⎟\n",
       "⎜⎢              ⎥           ⎟\n",
       "⎜⎢0  0  0  0   0⎥           ⎟\n",
       "⎜⎢              ⎥           ⎟\n",
       "⎝⎣0  0  0  0   0⎦           ⎠"
      ]
     },
     "execution_count": 39,
     "metadata": {},
     "output_type": "execute_result"
    }
   ],
   "source": [
    "M.rref()"
   ]
  },
  {
   "cell_type": "markdown",
   "metadata": {},
   "source": [
    "<p style=\"line-height:25px;\">Pomoću numpy modula možemo odrediti dimenziju prostora $W$. Za određivanje neke baze pomoću <i>numpy</i> modula mogli bismo koristiti određene numeričke metode, ali ovdje nećemo dublje ulaziti u numeričku linearnu algebru.</p>"
   ]
  },
  {
   "cell_type": "code",
   "execution_count": 40,
   "metadata": {},
   "outputs": [],
   "source": [
    "M=np.array([[1,2,-1,3,4],[2,4,-2,6,8],[1,3,2,2,6],[1,4,5,1,8],[2,7,3,3,9]])"
   ]
  },
  {
   "cell_type": "code",
   "execution_count": 41,
   "metadata": {},
   "outputs": [
    {
     "data": {
      "text/plain": [
       "array([[ 1,  2, -1,  3,  4],\n",
       "       [ 2,  4, -2,  6,  8],\n",
       "       [ 1,  3,  2,  2,  6],\n",
       "       [ 1,  4,  5,  1,  8],\n",
       "       [ 2,  7,  3,  3,  9]])"
      ]
     },
     "execution_count": 41,
     "metadata": {},
     "output_type": "execute_result"
    }
   ],
   "source": [
    "M"
   ]
  },
  {
   "cell_type": "code",
   "execution_count": 42,
   "metadata": {},
   "outputs": [
    {
     "data": {
      "text/plain": [
       "3"
      ]
     },
     "execution_count": 42,
     "metadata": {},
     "output_type": "execute_result"
    }
   ],
   "source": [
    "LA.matrix_rank(M)"
   ]
  },
  {
   "cell_type": "markdown",
   "metadata": {},
   "source": [
    "<div style=\"background-color: #F5FFFA; color: #000000; border: 2px solid #B0C4DE; border-radius: 15px; padding:0px 10px 25px;\">\n",
    "<h3>3. zadatak</h3>\n",
    "<p>Odredite dimenziju i jednu bazu vektorskog prostora $R$ svih realnih rješenja homogenog sustava linearnih jednadžbi<p>\n",
    "<p>\\begin{align*}\n",
    "x+2y+z-3t&=0\\\\\n",
    "2x+4y+4z-t&=0\\\\\n",
    "3x+6y+7z+t&=0\n",
    "\\end{align*}</p>\n",
    "<p>i nadopunite dobivenu bazu do baze za $\\mathbb{R}^4$.</p>\n",
    "</div>\n",
    "<h3>Rješenje</h3>"
   ]
  },
  {
   "cell_type": "code",
   "execution_count": 43,
   "metadata": {},
   "outputs": [
    {
     "data": {
      "image/png": "[encoded data removed]",
      "text/latex": [
       "$\\displaystyle \\left[\\begin{matrix}1 & 2 & 1 & -3\\\\2 & 4 & 4 & -1\\\\3 & 6 & 7 & 1\\end{matrix}\\right]$"
      ],
      "text/plain": [
       "⎡1  2  1  -3⎤\n",
       "⎢           ⎥\n",
       "⎢2  4  4  -1⎥\n",
       "⎢           ⎥\n",
       "⎣3  6  7  1 ⎦"
      ]
     },
     "execution_count": 43,
     "metadata": {},
     "output_type": "execute_result"
    }
   ],
   "source": [
    "A=sp.Matrix([[1,2,1,-3],[2,4,4,-1],[3,6,7,1]])\n",
    "A"
   ]
  },
  {
   "cell_type": "markdown",
   "metadata": {},
   "source": [
    "<p>Jedna baza za $R$</p>"
   ]
  },
  {
   "cell_type": "code",
   "execution_count": 44,
   "metadata": {},
   "outputs": [
    {
     "data": {
      "image/png": "[encoded data removed]",
      "text/latex": [
       "$\\displaystyle \\left[ \\left[\\begin{matrix}-2\\\\1\\\\0\\\\0\\end{matrix}\\right], \\  \\left[\\begin{matrix}\\frac{11}{2}\\\\0\\\\- \\frac{5}{2}\\\\1\\end{matrix}\\right]\\right]$"
      ],
      "text/plain": [
       "⎡⎡-2⎤  ⎡11/2⎤⎤\n",
       "⎢⎢  ⎥  ⎢    ⎥⎥\n",
       "⎢⎢1 ⎥  ⎢ 0  ⎥⎥\n",
       "⎢⎢  ⎥, ⎢    ⎥⎥\n",
       "⎢⎢0 ⎥  ⎢-5/2⎥⎥\n",
       "⎢⎢  ⎥  ⎢    ⎥⎥\n",
       "⎣⎣0 ⎦  ⎣ 1  ⎦⎦"
      ]
     },
     "execution_count": 44,
     "metadata": {},
     "output_type": "execute_result"
    }
   ],
   "source": [
    "baza=A.nullspace()\n",
    "baza"
   ]
  },
  {
   "cell_type": "markdown",
   "metadata": {},
   "source": [
    "<p>$\\dim{R}=2$</p>"
   ]
  },
  {
   "cell_type": "code",
   "execution_count": 45,
   "metadata": {},
   "outputs": [
    {
     "data": {
      "image/png": "[encoded data removed]",
      "text/latex": [
       "$\\displaystyle 2$"
      ],
      "text/plain": [
       "2"
      ]
     },
     "execution_count": 45,
     "metadata": {},
     "output_type": "execute_result"
    }
   ],
   "source": [
    "len(baza)"
   ]
  },
  {
   "cell_type": "markdown",
   "metadata": {},
   "source": [
    "<p>Jedna nadopuna do baze za $\\mathbb{R}^4$: $\\big\\{(-2,1,0,0),\\big(\\frac{11}{2},0,-\\frac{5}{2},1\\big),(1,0,0,0),(0,0,1,0)\\big\\}$</p>"
   ]
  },
  {
   "cell_type": "code",
   "execution_count": 46,
   "metadata": {},
   "outputs": [
    {
     "data": {
      "image/png": "[encoded data removed]",
      "text/latex": [
       "$\\displaystyle \\left[\\begin{matrix}-2 & \\frac{11}{2} & 1 & 0 & 0 & 0\\\\1 & 0 & 0 & 1 & 0 & 0\\\\0 & - \\frac{5}{2} & 0 & 0 & 1 & 0\\\\0 & 1 & 0 & 0 & 0 & 1\\end{matrix}\\right]$"
      ],
      "text/plain": [
       "⎡-2  11/2  1  0  0  0⎤\n",
       "⎢                    ⎥\n",
       "⎢1    0    0  1  0  0⎥\n",
       "⎢                    ⎥\n",
       "⎢0   -5/2  0  0  1  0⎥\n",
       "⎢                    ⎥\n",
       "⎣0    1    0  0  0  1⎦"
      ]
     },
     "execution_count": 46,
     "metadata": {},
     "output_type": "execute_result"
    }
   ],
   "source": [
    "M=sp.Matrix([list(baza[0]),list(baza[1]),[1,0,0,0],[0,1,0,0],[0,0,1,0],[0,0,0,1]])\n",
    "M=M.T\n",
    "M"
   ]
  },
  {
   "cell_type": "code",
   "execution_count": 47,
   "metadata": {},
   "outputs": [
    {
     "data": {
      "image/png": "[encoded data removed]",
      "text/latex": [
       "$\\displaystyle \\left( \\left[\\begin{matrix}1 & 0 & 0 & 1 & 0 & 0\\\\0 & 1 & 0 & 0 & 0 & 1\\\\0 & 0 & 1 & 2 & 0 & - \\frac{11}{2}\\\\0 & 0 & 0 & 0 & 1 & \\frac{5}{2}\\end{matrix}\\right], \\  \\left( 0, \\  1, \\  2, \\  4\\right)\\right)$"
      ],
      "text/plain": [
       "⎛⎡1  0  0  1  0    0  ⎤              ⎞\n",
       "⎜⎢                    ⎥              ⎟\n",
       "⎜⎢0  1  0  0  0    1  ⎥              ⎟\n",
       "⎜⎢                    ⎥, (0, 1, 2, 4)⎟\n",
       "⎜⎢0  0  1  2  0  -11/2⎥              ⎟\n",
       "⎜⎢                    ⎥              ⎟\n",
       "⎝⎣0  0  0  0  1   5/2 ⎦              ⎠"
      ]
     },
     "execution_count": 47,
     "metadata": {},
     "output_type": "execute_result"
    }
   ],
   "source": [
    "M.rref()"
   ]
  },
  {
   "cell_type": "markdown",
   "metadata": {},
   "source": [
    "<p style=\"line-height:25px;\">Pomoću numpy modula možemo odrediti $\\dim{R}$ jer je ta dimenzija jednaka broju parametara u općem rješenju homogenog sustava.</p>"
   ]
  },
  {
   "cell_type": "code",
   "execution_count": 48,
   "metadata": {},
   "outputs": [
    {
     "data": {
      "text/plain": [
       "array([[ 1,  2,  1, -3],\n",
       "       [ 2,  4,  4, -1],\n",
       "       [ 3,  6,  7,  1]])"
      ]
     },
     "execution_count": 48,
     "metadata": {},
     "output_type": "execute_result"
    }
   ],
   "source": [
    "A=np.array([[1,2,1,-3],[2,4,4,-1],[3,6,7,1]])\n",
    "A"
   ]
  },
  {
   "cell_type": "markdown",
   "metadata": {},
   "source": [
    "<p>$\\text{broj parametara}=\\text{broj nepoznanica}-r(A)$</p>"
   ]
  },
  {
   "cell_type": "code",
   "execution_count": 49,
   "metadata": {},
   "outputs": [
    {
     "data": {
      "text/plain": [
       "2"
      ]
     },
     "execution_count": 49,
     "metadata": {},
     "output_type": "execute_result"
    }
   ],
   "source": [
    "4-LA.matrix_rank(A)"
   ]
  },
  {
   "cell_type": "markdown",
   "metadata": {},
   "source": [
    "<div style=\"background-color: #F5FFFA; color: #000000; border: 2px solid #B0C4DE; border-radius: 15px; padding:0px 10px 25px;\">\n",
    "<h3>4. zadatak</h3>\n",
    "<p>U $M_2(\\mathbb{R})$ zadan je skup $\\mathcal{B}=\\bigg\\{\\begin{bmatrix}2&3\\\\ 0&1\\end{bmatrix}, \\begin{bmatrix}5&4\\\\ -1&-1\\end{bmatrix}, \\begin{bmatrix}2&2\\\\ 1&1\\end{bmatrix}, \\begin{bmatrix}8&1\\\\ -3&4\\end{bmatrix}\\bigg\\}.$</p>\n",
    "<p>Dokažite da je $\\mathcal{B}$ baza za $M_2(\\mathbb{R})$ i odredite koordinate matrice $A=\\left[\\begin{smallmatrix}2&0\\\\ 0&8\\end{smallmatrix}\\right]$ u bazi $\\mathcal{B}$.</p>\n",
    "</div>\n",
    "<h3>Rješenje</h3>"
   ]
  },
  {
   "cell_type": "markdown",
   "metadata": {},
   "source": [
    "<h4>pomoću sympy modula</h4>"
   ]
  },
  {
   "cell_type": "code",
   "execution_count": 50,
   "metadata": {},
   "outputs": [
    {
     "data": {
      "image/png": "[encoded data removed]",
      "text/latex": [
       "$\\displaystyle \\left[\\begin{matrix}2 & 5 & 2 & 8\\\\3 & 4 & 2 & 1\\\\0 & -1 & 1 & -3\\\\1 & -1 & 1 & 4\\end{matrix}\\right]$"
      ],
      "text/plain": [
       "⎡2  5   2  8 ⎤\n",
       "⎢            ⎥\n",
       "⎢3  4   2  1 ⎥\n",
       "⎢            ⎥\n",
       "⎢0  -1  1  -3⎥\n",
       "⎢            ⎥\n",
       "⎣1  -1  1  4 ⎦"
      ]
     },
     "execution_count": 50,
     "metadata": {},
     "output_type": "execute_result"
    }
   ],
   "source": [
    "B=sp.Matrix([[2,3,0,1],[5,4,-1,-1],[2,2,1,1],[8,1,-3,4]])\n",
    "B=B.T\n",
    "B"
   ]
  },
  {
   "cell_type": "markdown",
   "metadata": {},
   "source": [
    "<p>$\\mathcal{B}$ je baza za $M_2(\\mathbb{R})$ jer je matrica $B$ maksimalnog ranga</p>"
   ]
  },
  {
   "cell_type": "code",
   "execution_count": 51,
   "metadata": {},
   "outputs": [
    {
     "data": {
      "image/png": "[encoded data removed]",
      "text/latex": [
       "$\\displaystyle 4$"
      ],
      "text/plain": [
       "4"
      ]
     },
     "execution_count": 51,
     "metadata": {},
     "output_type": "execute_result"
    }
   ],
   "source": [
    "B.rank()"
   ]
  },
  {
   "cell_type": "markdown",
   "metadata": {},
   "source": [
    "<p>Ili pomoću determinante, $\\mathcal{B}$ je baza za $M_2(\\mathbb{R})$ jer je $\\det{B}\\neq0.$</p>"
   ]
  },
  {
   "cell_type": "code",
   "execution_count": 52,
   "metadata": {},
   "outputs": [
    {
     "data": {
      "image/png": "[encoded data removed]",
      "text/latex": [
       "$\\displaystyle -98$"
      ],
      "text/plain": [
       "-98"
      ]
     },
     "execution_count": 52,
     "metadata": {},
     "output_type": "execute_result"
    }
   ],
   "source": [
    "B.det()"
   ]
  },
  {
   "cell_type": "markdown",
   "metadata": {},
   "source": [
    "<p>Inverzna matrica matrice $B$</p>"
   ]
  },
  {
   "cell_type": "code",
   "execution_count": 53,
   "metadata": {},
   "outputs": [
    {
     "data": {
      "image/png": "[encoded data removed]",
      "text/latex": [
       "$\\displaystyle \\left[\\begin{matrix}- \\frac{3}{7} & \\frac{1}{2} & - \\frac{1}{2} & \\frac{5}{14}\\\\\\frac{1}{7} & 0 & 0 & - \\frac{2}{7}\\\\\\frac{16}{49} & - \\frac{3}{14} & \\frac{11}{14} & - \\frac{1}{98}\\\\\\frac{3}{49} & - \\frac{1}{14} & - \\frac{1}{14} & \\frac{9}{98}\\end{matrix}\\right]$"
      ],
      "text/plain": [
       "⎡-3/7   1/2   -1/2   5/14 ⎤\n",
       "⎢                         ⎥\n",
       "⎢1/7     0      0    -2/7 ⎥\n",
       "⎢                         ⎥\n",
       "⎢ 16           11         ⎥\n",
       "⎢ ──   -3/14   ──    -1/98⎥\n",
       "⎢ 49           14         ⎥\n",
       "⎢                         ⎥\n",
       "⎣3/49  -1/14  -1/14  9/98 ⎦"
      ]
     },
     "execution_count": 53,
     "metadata": {},
     "output_type": "execute_result"
    }
   ],
   "source": [
    "B.inv()"
   ]
  },
  {
   "cell_type": "markdown",
   "metadata": {},
   "source": [
    "<p>Koordinate matrice $A$ u bazi $\\mathcal{B}$</p>"
   ]
  },
  {
   "cell_type": "code",
   "execution_count": 54,
   "metadata": {},
   "outputs": [
    {
     "data": {
      "image/png": "[encoded data removed]",
      "text/latex": [
       "$\\displaystyle \\left[\\begin{matrix}2\\\\-2\\\\\\frac{4}{7}\\\\\\frac{6}{7}\\end{matrix}\\right]$"
      ],
      "text/plain": [
       "⎡ 2 ⎤\n",
       "⎢   ⎥\n",
       "⎢-2 ⎥\n",
       "⎢   ⎥\n",
       "⎢4/7⎥\n",
       "⎢   ⎥\n",
       "⎣6/7⎦"
      ]
     },
     "execution_count": 54,
     "metadata": {},
     "output_type": "execute_result"
    }
   ],
   "source": [
    "v=B.inv()*sp.Matrix([2,0,0,8])\n",
    "v"
   ]
  },
  {
   "cell_type": "code",
   "execution_count": 55,
   "metadata": {},
   "outputs": [
    {
     "data": {
      "image/png": "[encoded data removed]",
      "text/latex": [
       "$\\displaystyle \\left[\\begin{matrix}2.0\\\\-2.0\\\\0.571428571428571\\\\0.857142857142857\\end{matrix}\\right]$"
      ],
      "text/plain": [
       "⎡       2.0       ⎤\n",
       "⎢                 ⎥\n",
       "⎢      -2.0       ⎥\n",
       "⎢                 ⎥\n",
       "⎢0.571428571428571⎥\n",
       "⎢                 ⎥\n",
       "⎣0.857142857142857⎦"
      ]
     },
     "execution_count": 55,
     "metadata": {},
     "output_type": "execute_result"
    }
   ],
   "source": [
    "sp.N(v)"
   ]
  },
  {
   "cell_type": "markdown",
   "metadata": {},
   "source": [
    "<h4>pomoću numpy modula</h4>"
   ]
  },
  {
   "cell_type": "code",
   "execution_count": 56,
   "metadata": {},
   "outputs": [
    {
     "data": {
      "text/plain": [
       "array([[ 2,  3,  0,  1],\n",
       "       [ 5,  4, -1, -1],\n",
       "       [ 2,  2,  1,  1],\n",
       "       [ 8,  1, -3,  4]])"
      ]
     },
     "execution_count": 56,
     "metadata": {},
     "output_type": "execute_result"
    }
   ],
   "source": [
    "B=np.array([[2,3,0,1],[5,4,-1,-1],[2,2,1,1],[8,1,-3,4]])\n",
    "B"
   ]
  },
  {
   "cell_type": "markdown",
   "metadata": {},
   "source": [
    "<p>$\\mathcal{B}$ je baza za $M_2(\\mathbb{R})$ jer je matrica $B$ maksimalnog ranga</p>"
   ]
  },
  {
   "cell_type": "code",
   "execution_count": 57,
   "metadata": {},
   "outputs": [
    {
     "data": {
      "text/plain": [
       "4"
      ]
     },
     "execution_count": 57,
     "metadata": {},
     "output_type": "execute_result"
    }
   ],
   "source": [
    "LA.matrix_rank(B)"
   ]
  },
  {
   "cell_type": "markdown",
   "metadata": {},
   "source": [
    "<p>Ili pomoću determinante, $\\mathcal{B}$ je baza za $M_2(\\mathbb{R})$ jer je $\\det{B}\\neq0.$</p>"
   ]
  },
  {
   "cell_type": "code",
   "execution_count": 58,
   "metadata": {},
   "outputs": [
    {
     "data": {
      "image/png": "[encoded data removed]",
      "text/latex": [
       "$\\displaystyle -98.0$"
      ],
      "text/plain": [
       "-98.00000000000004"
      ]
     },
     "execution_count": 58,
     "metadata": {},
     "output_type": "execute_result"
    }
   ],
   "source": [
    "LA.det(B)"
   ]
  },
  {
   "cell_type": "markdown",
   "metadata": {},
   "source": [
    "<p>Inverzna matrica matrice $B$</p>"
   ]
  },
  {
   "cell_type": "code",
   "execution_count": 59,
   "metadata": {},
   "outputs": [
    {
     "data": {
      "text/plain": [
       "array([[-0.42857143,  0.14285714,  0.32653061,  0.06122449],\n",
       "       [ 0.5       ,  0.        , -0.21428571, -0.07142857],\n",
       "       [-0.5       ,  0.        ,  0.78571429, -0.07142857],\n",
       "       [ 0.35714286, -0.28571429, -0.01020408,  0.09183673]])"
      ]
     },
     "execution_count": 59,
     "metadata": {},
     "output_type": "execute_result"
    }
   ],
   "source": [
    "T=LA.inv(B)\n",
    "T"
   ]
  },
  {
   "cell_type": "markdown",
   "metadata": {},
   "source": [
    "<p>Koordinate matrice $A$ u bazi $\\mathcal{B}$</p>"
   ]
  },
  {
   "cell_type": "code",
   "execution_count": 60,
   "metadata": {},
   "outputs": [
    {
     "data": {
      "text/plain": [
       "array([ 2.        , -2.        ,  0.57142857,  0.85714286])"
      ]
     },
     "execution_count": 60,
     "metadata": {},
     "output_type": "execute_result"
    }
   ],
   "source": [
    "u=np.array([2,0,0,8])\n",
    "np.matmul(u,T)"
   ]
  },
  {
   "cell_type": "markdown",
   "metadata": {},
   "source": [
    "<div style=\"background-color: #fef2ec; color: #000000; border: 2px solid #fcc2a0; padding:10px;\">\n",
    "<h4>Napomena</h4>\n",
    "<p style=\"line-height:25px;\">Ako transponiramo formulu $Y=BX$, tada dobivamo $Y^T=X^TB^T$. Kako su $X$ i $Y$ jednostupčane matrice, tada su $X^T$ i $Y^T$ jednoredne matrice. Isto tako, stupci matrice $B$ postaju retci matrice $B^T$. Drugim riječima, to znači da kod formiranja matrice prijelaza $T$ možemo koordinate pripadnih vektora umjesto u stupce pisati u retke matrice prijelaza $T$. U tom slučaju formula za računanje koordinata vektora umjesto oblika $Y=TX$ poprima oblik $Y=XT$ pri čemu su $X$ i $Y$ jednoredne matrice. Upravo smo tu činjenicu koristili kod računanja koordinata vektora pomoću numpy modula pa nismo trošili vrijeme na transponiranje matrica.</p>\n",
    "<ul>\n",
    "<li style=\"line-height:25px;\">Ako koordinate vektora kod formiranja matrice prijelaza $T$ pišemo u stupce, tada se koordinate vektora računaju po formuli $Y=TX$ pri čemu su $X$ i $Y$ jednostupčane matrice.</li>\n",
    "<li style=\"line-height:25px;\">Ako koordinate vektora kod formiranja matrice prijelaza $T$ pišemo u retke, tada se koordinate vektora računaju po formuli $Y=XT$ pri čemu su $X$ i $Y$ jednoredne matrice.</li>\n",
    "</ul>\n",
    "<p style=\"line-height:25px;\">Koji ćemo pristup odabrati je stvar ukusa, ovisno o tome želimo li radije koordinate vektora pisati u jednostupčane ili jednoredne matrice. Oba pristupa daju na kraju iste koordinate, razlika je samo u zapisu vektora i formi formule.</p>\n",
    "</div>"
   ]
  },
  {
   "cell_type": "markdown",
   "metadata": {},
   "source": [
    "<p style=\"line-height:25px;\">Ako nam se više sviđa stupčani zapis vektora, možemo to isto realizirati u numpy modulu. Međutim, s obzirom na unošenje vektora u numpy modulu, jednostavnije nam je preko formule koja koristi retčani zapis vektora.</p>"
   ]
  },
  {
   "cell_type": "code",
   "execution_count": 61,
   "metadata": {},
   "outputs": [
    {
     "data": {
      "text/plain": [
       "array([[ 2,  3,  0,  1],\n",
       "       [ 5,  4, -1, -1],\n",
       "       [ 2,  2,  1,  1],\n",
       "       [ 8,  1, -3,  4]])"
      ]
     },
     "execution_count": 61,
     "metadata": {},
     "output_type": "execute_result"
    }
   ],
   "source": [
    "B"
   ]
  },
  {
   "cell_type": "code",
   "execution_count": 62,
   "metadata": {},
   "outputs": [
    {
     "data": {
      "text/plain": [
       "array([[ 2,  5,  2,  8],\n",
       "       [ 3,  4,  2,  1],\n",
       "       [ 0, -1,  1, -3],\n",
       "       [ 1, -1,  1,  4]])"
      ]
     },
     "execution_count": 62,
     "metadata": {},
     "output_type": "execute_result"
    }
   ],
   "source": [
    "B=B.transpose()\n",
    "B"
   ]
  },
  {
   "cell_type": "code",
   "execution_count": 63,
   "metadata": {},
   "outputs": [
    {
     "data": {
      "text/plain": [
       "array([[-4.28571429e-01,  5.00000000e-01, -5.00000000e-01,\n",
       "         3.57142857e-01],\n",
       "       [ 1.42857143e-01, -5.94762335e-17, -4.75809868e-17,\n",
       "        -2.85714286e-01],\n",
       "       [ 3.26530612e-01, -2.14285714e-01,  7.85714286e-01,\n",
       "        -1.02040816e-02],\n",
       "       [ 6.12244898e-02, -7.14285714e-02, -7.14285714e-02,\n",
       "         9.18367347e-02]])"
      ]
     },
     "execution_count": 63,
     "metadata": {},
     "output_type": "execute_result"
    }
   ],
   "source": [
    "T=LA.inv(B)\n",
    "T"
   ]
  },
  {
   "cell_type": "code",
   "execution_count": 64,
   "metadata": {},
   "outputs": [
    {
     "data": {
      "text/plain": [
       "array([[ 2.        ],\n",
       "       [-2.        ],\n",
       "       [ 0.57142857],\n",
       "       [ 0.85714286]])"
      ]
     },
     "execution_count": 64,
     "metadata": {},
     "output_type": "execute_result"
    }
   ],
   "source": [
    "u=np.array([[2],[0],[0],[8]])\n",
    "np.matmul(T,u)"
   ]
  },
  {
   "cell_type": "markdown",
   "metadata": {},
   "source": [
    "<p style=\"line-height:25px;\">Kod množenja matrica, jednodimenzionalnu listu numpy zapravo prilagođava kao retčanu ili stupčanu matricu, ovisno o tome nalazi li se ta lista lijevo ili desno od matrice s kojom se množi. Stoga možemo vektor pisati kao jednodimenzionalnu listu i koristiti stupčani zapis linearnog operatora. Na izlazu se opet vraća jednodimenzionalna lista.</p>"
   ]
  },
  {
   "cell_type": "code",
   "execution_count": 65,
   "metadata": {},
   "outputs": [
    {
     "data": {
      "text/plain": [
       "array([ 2.        , -2.        ,  0.57142857,  0.85714286])"
      ]
     },
     "execution_count": 65,
     "metadata": {},
     "output_type": "execute_result"
    }
   ],
   "source": [
    "u1=np.array([2,0,0,8])\n",
    "np.matmul(T,u1)"
   ]
  },
  {
   "cell_type": "markdown",
   "metadata": {},
   "source": [
    "<div style=\"background-color: #F5FFFA; color: #000000; border: 2px solid #B0C4DE; border-radius: 15px; padding:0px 10px 25px;\">\n",
    "<h3>5. zadatak</h3>\n",
    "<p>U $\\mathcal{P}_4(t)$ zadani su polinomi</p>\n",
    "<p>$$\\begin{aligned}p_1(t)&=9t^3-13t^2-t+3\\\\ p_2(t)&=17t^2-6\\\\ p_3(t)&=6t^3+12t^2+26t+17\\\\ p_4(t)&=7t^3-4t^2-21t-6\\\\ \n",
    " q_1(t)&=14t^3+5t^2+6t-1\\\\ q_2(t)&=9t^3-16t^2-5t+17\\\\ q_3(t)&=-21t^3+6t^2+2t-10\\\\ q_4(t)&=-23t^3+15t^2+15t-22\\end{aligned}$$</p>\n",
    "<p>Odredite matricu prijelaza iz baze $\\mathcal{B}_2=\\big\\{q_1,q_2,q_3,q_4\\big\\}$ u bazu $\\mathcal{B}_1=\\big\\{p_1,p_2,p_3,p_4\\big\\}.$</p>\n",
    "</div>\n",
    "<h3>Rješenje</h3>"
   ]
  },
  {
   "cell_type": "markdown",
   "metadata": {},
   "source": [
    "<p>$\\mathcal{B}_{\\tiny\\text{kan}}\\stackrel{\\ T_1\\ }{\\longrightarrow}\\mathcal{B}_1,\\quad \\mathcal{B}_{\\tiny\\text{kan}}\\stackrel{\\ T_2\\ }{\\longrightarrow}\\mathcal{B}_2,\\quad\\mathcal{B}_2\\xrightarrow{\\ T_2^{-1}T_1\\ }\\mathcal{B}_1$</p>\n",
    "<h4>pomoću sympy modula</h4>"
   ]
  },
  {
   "cell_type": "code",
   "execution_count": 66,
   "metadata": {},
   "outputs": [],
   "source": [
    "T1=sp.Matrix([[9,-13,-1,3],[0,17,0,-6],[6,12,26,17],[7,-4,-21,-6]])\n",
    "T1=T1.T"
   ]
  },
  {
   "cell_type": "code",
   "execution_count": 67,
   "metadata": {},
   "outputs": [],
   "source": [
    "T2=sp.Matrix([[14,5,6,-1],[9,-16,-5,17],[-21,6,2,-10],[-23,15,15,-22]])\n",
    "T2=T2.T"
   ]
  },
  {
   "cell_type": "code",
   "execution_count": 68,
   "metadata": {},
   "outputs": [
    {
     "data": {
      "image/png": "[encoded data removed]",
      "text/latex": [
       "$\\displaystyle \\left( \\left[\\begin{matrix}9 & 0 & 6 & 7\\\\-13 & 17 & 12 & -4\\\\-1 & 0 & 26 & -21\\\\3 & -6 & 17 & -6\\end{matrix}\\right], \\  \\left[\\begin{matrix}14 & 9 & -21 & -23\\\\5 & -16 & 6 & 15\\\\6 & -5 & 2 & 15\\\\-1 & 17 & -10 & -22\\end{matrix}\\right]\\right)$"
      ],
      "text/plain": [
       "⎛⎡ 9   0   6    7 ⎤  ⎡14   9   -21  -23⎤⎞\n",
       "⎜⎢                ⎥  ⎢                 ⎥⎟\n",
       "⎜⎢-13  17  12  -4 ⎥  ⎢5   -16   6   15 ⎥⎟\n",
       "⎜⎢                ⎥, ⎢                 ⎥⎟\n",
       "⎜⎢-1   0   26  -21⎥  ⎢6   -5    2   15 ⎥⎟\n",
       "⎜⎢                ⎥  ⎢                 ⎥⎟\n",
       "⎝⎣ 3   -6  17  -6 ⎦  ⎣-1  17   -10  -22⎦⎠"
      ]
     },
     "execution_count": 68,
     "metadata": {},
     "output_type": "execute_result"
    }
   ],
   "source": [
    "T1,T2"
   ]
  },
  {
   "cell_type": "markdown",
   "metadata": {},
   "source": [
    "<p>Matrica prijelaza iz baze $\\mathcal{B}_2$ u bazu $\\mathcal{B}_1$</p>"
   ]
  },
  {
   "cell_type": "code",
   "execution_count": 69,
   "metadata": {},
   "outputs": [
    {
     "data": {
      "image/png": "[encoded data removed]",
      "text/latex": [
       "$\\displaystyle \\left[\\begin{matrix}- \\frac{893}{194} & \\frac{24529}{6402} & \\frac{32475}{2134} & - \\frac{16459}{2134}\\\\- \\frac{161}{194} & - \\frac{601}{6402} & \\frac{13419}{2134} & - \\frac{8689}{2134}\\\\- \\frac{624}{97} & \\frac{15844}{3201} & \\frac{18776}{1067} & - \\frac{9470}{1067}\\\\\\frac{457}{194} & - \\frac{14237}{6402} & - \\frac{9825}{2134} & \\frac{3225}{2134}\\end{matrix}\\right]$"
      ],
      "text/plain": [
       "⎡-893    24529   32475   -16459 ⎤\n",
       "⎢─────   ─────   ─────   ───────⎥\n",
       "⎢ 194     6402    2134     2134 ⎥\n",
       "⎢                               ⎥\n",
       "⎢-161    -601    13419   -8689  ⎥\n",
       "⎢─────   ─────   ─────   ────── ⎥\n",
       "⎢ 194     6402    2134    2134  ⎥\n",
       "⎢                               ⎥\n",
       "⎢-624    15844   18776   -9470  ⎥\n",
       "⎢─────   ─────   ─────   ────── ⎥\n",
       "⎢  97     3201    1067    1067  ⎥\n",
       "⎢                               ⎥\n",
       "⎢ 457   -14237   -9825    3225  ⎥\n",
       "⎢ ───   ───────  ──────   ────  ⎥\n",
       "⎣ 194     6402    2134    2134  ⎦"
      ]
     },
     "execution_count": 69,
     "metadata": {},
     "output_type": "execute_result"
    }
   ],
   "source": [
    "T=T2.inv()*T1\n",
    "T"
   ]
  },
  {
   "cell_type": "code",
   "execution_count": 70,
   "metadata": {},
   "outputs": [
    {
     "data": {
      "image/png": "[encoded data removed]",
      "text/latex": [
       "$\\displaystyle \\left[\\begin{matrix}-4.60309278350515 & 3.83145891908779 & 15.217900656045 & -7.71274601686973\\\\-0.829896907216495 & -0.0938769134645423 & 6.28819119025305 & -4.07169634489222\\\\-6.43298969072165 & 4.94970321774445 & 17.5970009372071 & -8.87535145267104\\\\2.35567010309278 & -2.22383630115589 & -4.60402999062793 & 1.51124648547329\\end{matrix}\\right]$"
      ],
      "text/plain": [
       "⎡-4.60309278350515    3.83145891908779     15.217900656045   -7.71274601686973⎤\n",
       "⎢                                                                             ⎥\n",
       "⎢-0.829896907216495  -0.0938769134645423  6.28819119025305   -4.07169634489222⎥\n",
       "⎢                                                                             ⎥\n",
       "⎢-6.43298969072165    4.94970321774445    17.5970009372071   -8.87535145267104⎥\n",
       "⎢                                                                             ⎥\n",
       "⎣ 2.35567010309278    -2.22383630115589   -4.60402999062793  1.51124648547329 ⎦"
      ]
     },
     "execution_count": 70,
     "metadata": {},
     "output_type": "execute_result"
    }
   ],
   "source": [
    "sp.N(T)"
   ]
  },
  {
   "cell_type": "markdown",
   "metadata": {},
   "source": [
    "<h4>pomoću numpy modula</h4>"
   ]
  },
  {
   "cell_type": "code",
   "execution_count": 71,
   "metadata": {},
   "outputs": [],
   "source": [
    "T1=np.array([[9,-13,-1,3],[0,17,0,-6],[6,12,26,17],[7,-4,-21,-6]])\n",
    "T1=T1.transpose()"
   ]
  },
  {
   "cell_type": "code",
   "execution_count": 72,
   "metadata": {},
   "outputs": [],
   "source": [
    "T2=np.array([[14,5,6,-1],[9,-16,-5,17],[-21,6,2,-10],[-23,15,15,-22]])\n",
    "T2=T2.transpose()"
   ]
  },
  {
   "cell_type": "code",
   "execution_count": 73,
   "metadata": {},
   "outputs": [
    {
     "data": {
      "text/plain": [
       "array([[  9,   0,   6,   7],\n",
       "       [-13,  17,  12,  -4],\n",
       "       [ -1,   0,  26, -21],\n",
       "       [  3,  -6,  17,  -6]])"
      ]
     },
     "execution_count": 73,
     "metadata": {},
     "output_type": "execute_result"
    }
   ],
   "source": [
    "T1"
   ]
  },
  {
   "cell_type": "code",
   "execution_count": 74,
   "metadata": {},
   "outputs": [
    {
     "data": {
      "text/plain": [
       "array([[ 14,   9, -21, -23],\n",
       "       [  5, -16,   6,  15],\n",
       "       [  6,  -5,   2,  15],\n",
       "       [ -1,  17, -10, -22]])"
      ]
     },
     "execution_count": 74,
     "metadata": {},
     "output_type": "execute_result"
    }
   ],
   "source": [
    "T2"
   ]
  },
  {
   "cell_type": "markdown",
   "metadata": {},
   "source": [
    "<p>Matrica prijelaza iz baze $\\mathcal{B}_2$ u bazu $\\mathcal{B}_1$</p>"
   ]
  },
  {
   "cell_type": "code",
   "execution_count": 75,
   "metadata": {},
   "outputs": [
    {
     "data": {
      "text/plain": [
       "array([[-4.60309278,  3.83145892, 15.21790066, -7.71274602],\n",
       "       [-0.82989691, -0.09387691,  6.28819119, -4.07169634],\n",
       "       [-6.43298969,  4.94970322, 17.59700094, -8.87535145],\n",
       "       [ 2.3556701 , -2.2238363 , -4.60402999,  1.51124649]])"
      ]
     },
     "execution_count": 75,
     "metadata": {},
     "output_type": "execute_result"
    }
   ],
   "source": [
    "np.matmul(LA.inv(T2),T1)"
   ]
  },
  {
   "cell_type": "code",
   "execution_count": null,
   "metadata": {},
   "outputs": [],
   "source": []
  }
 ],
 "metadata": {
  "kernelspec": {
   "display_name": "Python 3 (ipykernel)",
   "language": "python",
   "name": "python3"
  },
  "language_info": {
   "codemirror_mode": {
    "name": "ipython",
    "version": 3
   },
   "file_extension": ".py",
   "mimetype": "text/x-python",
   "name": "python",
   "nbconvert_exporter": "python",
   "pygments_lexer": "ipython3",
   "version": "3.9.6"
  }
 },
 "nbformat": 4,
 "nbformat_minor": 4
}
