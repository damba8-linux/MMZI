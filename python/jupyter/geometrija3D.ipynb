{
 "cells": [
  {
   "cell_type": "markdown",
   "metadata": {},
   "source": [
    "<h1>Analitička geometrija prostora u pythonu</h1>\n",
    "<p>Ovdje su pokazane neke implementirane naredbe u <i>sympy</i> modulu vezane uz geometriju trodimenzionalnog prostora.</p>"
   ]
  },
  {
   "cell_type": "code",
   "execution_count": 1,
   "metadata": {},
   "outputs": [],
   "source": [
    "import platform"
   ]
  },
  {
   "cell_type": "code",
   "execution_count": 2,
   "metadata": {},
   "outputs": [
    {
     "data": {
      "text/plain": [
       "'Linux-5.4.143-1-MANJARO-x86_64-with-glibc2.33'"
      ]
     },
     "execution_count": 2,
     "metadata": {},
     "output_type": "execute_result"
    }
   ],
   "source": [
    "platform.platform()"
   ]
  },
  {
   "cell_type": "code",
   "execution_count": 3,
   "metadata": {},
   "outputs": [
    {
     "data": {
      "text/plain": [
       "'3.9.6'"
      ]
     },
     "execution_count": 3,
     "metadata": {},
     "output_type": "execute_result"
    }
   ],
   "source": [
    "platform.python_version()"
   ]
  },
  {
   "cell_type": "code",
   "execution_count": 4,
   "metadata": {},
   "outputs": [],
   "source": [
    "from sympy import *"
   ]
  },
  {
   "cell_type": "code",
   "execution_count": 5,
   "metadata": {},
   "outputs": [],
   "source": [
    "init_printing()"
   ]
  },
  {
   "cell_type": "markdown",
   "metadata": {},
   "source": [
    "<h4 style=\"background-color: #F5FFFA; color: #000000; border: 2px solid #B0C4DE; padding:5px; box-shadow: 2px 2px 6px #B0C4DE; display:inline-flex;\">Zbrajanje i skaliranje radijvektora. Skalarni produkt radijvektora</h4>\n",
    "<p style=\"text-align:center;\"><img src=\"slika21.png\"></p>"
   ]
  },
  {
   "cell_type": "code",
   "execution_count": 6,
   "metadata": {},
   "outputs": [],
   "source": [
    "A=Point3D(1,-2,7)\n",
    "B=Point3D(9,1,-5)"
   ]
  },
  {
   "cell_type": "code",
   "execution_count": 7,
   "metadata": {},
   "outputs": [
    {
     "data": {
      "image/png": "[encoded data removed]",
      "text/latex": [
       "$\\displaystyle Point3D\\left(10, -1, 2\\right)$"
      ],
      "text/plain": [
       "Point3D(10, -1, 2)"
      ]
     },
     "execution_count": 7,
     "metadata": {},
     "output_type": "execute_result"
    }
   ],
   "source": [
    "A+B"
   ]
  },
  {
   "cell_type": "code",
   "execution_count": 8,
   "metadata": {},
   "outputs": [
    {
     "data": {
      "image/png": "[encoded data removed]",
      "text/latex": [
       "$\\displaystyle Point3D\\left(2, -10, -21\\right)$"
      ],
      "text/plain": [
       "Point3D(2, -10, -21)"
      ]
     },
     "execution_count": 8,
     "metadata": {},
     "output_type": "execute_result"
    }
   ],
   "source": [
    "A.scale(2,5,-3)"
   ]
  },
  {
   "cell_type": "code",
   "execution_count": 9,
   "metadata": {},
   "outputs": [
    {
     "data": {
      "image/png": "[encoded data removed]",
      "text/latex": [
       "$\\displaystyle -28$"
      ],
      "text/plain": [
       "-28"
      ]
     },
     "execution_count": 9,
     "metadata": {},
     "output_type": "execute_result"
    }
   ],
   "source": [
    "A.dot(B)"
   ]
  },
  {
   "cell_type": "markdown",
   "metadata": {},
   "source": [
    "<h4 style=\"background-color: #F5FFFA; color: #000000; border: 2px solid #B0C4DE; padding:5px; box-shadow: 2px 2px 6px #B0C4DE; display:inline-flex;\">Vektor određen s dvije točke</h4>\n",
    "<p style=\"text-align:center;\"><img src=\"slika20.png\"></p>"
   ]
  },
  {
   "cell_type": "code",
   "execution_count": 10,
   "metadata": {},
   "outputs": [],
   "source": [
    "A=Point3D(2,3,1)\n",
    "B=Point3D(-4,2,5)"
   ]
  },
  {
   "cell_type": "code",
   "execution_count": 11,
   "metadata": {},
   "outputs": [
    {
     "data": {
      "image/png": "[encoded data removed]",
      "text/latex": [
       "$\\displaystyle -4$"
      ],
      "text/plain": [
       "-4"
      ]
     },
     "execution_count": 11,
     "metadata": {},
     "output_type": "execute_result"
    }
   ],
   "source": [
    "B.x"
   ]
  },
  {
   "cell_type": "code",
   "execution_count": 12,
   "metadata": {},
   "outputs": [
    {
     "data": {
      "image/png": "[encoded data removed]",
      "text/latex": [
       "$\\displaystyle 2$"
      ],
      "text/plain": [
       "2"
      ]
     },
     "execution_count": 12,
     "metadata": {},
     "output_type": "execute_result"
    }
   ],
   "source": [
    "B.y"
   ]
  },
  {
   "cell_type": "code",
   "execution_count": 13,
   "metadata": {},
   "outputs": [
    {
     "data": {
      "image/png": "[encoded data removed]",
      "text/latex": [
       "$\\displaystyle 5$"
      ],
      "text/plain": [
       "5"
      ]
     },
     "execution_count": 13,
     "metadata": {},
     "output_type": "execute_result"
    }
   ],
   "source": [
    "B.z"
   ]
  },
  {
   "cell_type": "markdown",
   "metadata": {},
   "source": [
    "<p>Vektor $\\overrightarrow{AB}$</p>"
   ]
  },
  {
   "cell_type": "code",
   "execution_count": 14,
   "metadata": {},
   "outputs": [
    {
     "data": {
      "image/png": "[encoded data removed]",
      "text/latex": [
       "$\\displaystyle \\left[ -6, \\  -1, \\  4\\right]$"
      ],
      "text/plain": [
       "[-6, -1, 4]"
      ]
     },
     "execution_count": 14,
     "metadata": {},
     "output_type": "execute_result"
    }
   ],
   "source": [
    "A.direction_ratio(B)"
   ]
  },
  {
   "cell_type": "markdown",
   "metadata": {},
   "source": [
    "<h4 style=\"background-color: #F5FFFA; color: #000000; border: 2px solid #B0C4DE; padding:5px; box-shadow: 2px 2px 6px #B0C4DE; display:inline-flex;\">Udaljenost točaka</h4>"
   ]
  },
  {
   "cell_type": "code",
   "execution_count": 15,
   "metadata": {},
   "outputs": [],
   "source": [
    "A=Point3D(1,3,-2)\n",
    "B=Point3D(6,-9,1)"
   ]
  },
  {
   "cell_type": "code",
   "execution_count": 16,
   "metadata": {},
   "outputs": [
    {
     "data": {
      "image/png": "[encoded data removed]",
      "text/latex": [
       "$\\displaystyle \\left( Point3D\\left(1, 3, -2\\right), \\  Point3D\\left(6, -9, 1\\right)\\right)$"
      ],
      "text/plain": [
       "(Point3D(1, 3, -2), Point3D(6, -9, 1))"
      ]
     },
     "execution_count": 16,
     "metadata": {},
     "output_type": "execute_result"
    }
   ],
   "source": [
    "A,B"
   ]
  },
  {
   "cell_type": "markdown",
   "metadata": {},
   "source": [
    "<p>Egzaktna udaljenost</p>"
   ]
  },
  {
   "cell_type": "code",
   "execution_count": 17,
   "metadata": {},
   "outputs": [
    {
     "data": {
      "image/png": "[encoded data removed]",
      "text/latex": [
       "$\\displaystyle \\sqrt{178}$"
      ],
      "text/plain": [
       "√178"
      ]
     },
     "execution_count": 17,
     "metadata": {},
     "output_type": "execute_result"
    }
   ],
   "source": [
    "d=A.distance(B)\n",
    "d"
   ]
  },
  {
   "cell_type": "markdown",
   "metadata": {},
   "source": [
    "<p>Udaljenost na 15 znamenaka (default)</p>"
   ]
  },
  {
   "cell_type": "code",
   "execution_count": 18,
   "metadata": {},
   "outputs": [
    {
     "data": {
      "image/png": "[encoded data removed]",
      "text/latex": [
       "$\\displaystyle 13.3416640641263$"
      ],
      "text/plain": [
       "13.3416640641263"
      ]
     },
     "execution_count": 18,
     "metadata": {},
     "output_type": "execute_result"
    }
   ],
   "source": [
    "N(d)"
   ]
  },
  {
   "cell_type": "markdown",
   "metadata": {},
   "source": [
    "<p>Udaljenost na 50 znamenaka</p>"
   ]
  },
  {
   "cell_type": "code",
   "execution_count": 19,
   "metadata": {},
   "outputs": [
    {
     "data": {
      "image/png": "[encoded data removed]",
      "text/latex": [
       "$\\displaystyle 13.34166406412633371248943627250846646911846482744$"
      ],
      "text/plain": [
       "13.341664064126333712489436272508466469118464827440"
      ]
     },
     "execution_count": 19,
     "metadata": {},
     "output_type": "execute_result"
    }
   ],
   "source": [
    "N(d,50)"
   ]
  },
  {
   "cell_type": "markdown",
   "metadata": {},
   "source": [
    "<h4 style=\"background-color: #F5FFFA; color: #000000; border: 2px solid #B0C4DE; padding:5px; box-shadow: 2px 2px 6px #B0C4DE; display:inline-flex;\">Kolinearnost točaka</h4>\n",
    "<p style=\"text-align:center;\"><img src=\"slika18.png\"></p>"
   ]
  },
  {
   "cell_type": "code",
   "execution_count": 20,
   "metadata": {},
   "outputs": [],
   "source": [
    "A=Point3D(1,2,3)\n",
    "B=Point3D(4,0,-5)\n",
    "C=Point3D(37/16,9/8,-1/2)\n",
    "D=Point3D(0,-3,2/3)"
   ]
  },
  {
   "cell_type": "code",
   "execution_count": 21,
   "metadata": {},
   "outputs": [
    {
     "data": {
      "image/png": "[encoded data removed]",
      "text/latex": [
       "$\\displaystyle Point3D\\left(\\frac{37}{16}, \\frac{9}{8}, - \\frac{1}{2}\\right)$"
      ],
      "text/plain": [
       "Point3D(37/16, 9/8, -1/2)"
      ]
     },
     "execution_count": 21,
     "metadata": {},
     "output_type": "execute_result"
    }
   ],
   "source": [
    "C"
   ]
  },
  {
   "cell_type": "code",
   "execution_count": 22,
   "metadata": {},
   "outputs": [
    {
     "data": {
      "image/png": "[encoded data removed]",
      "text/latex": [
       "$\\displaystyle Point3D\\left(2.3125, 1.125, -0.5\\right)$"
      ],
      "text/plain": [
       "Point3D(2.31250000000000, 1.12500000000000, -0.500000000000000)"
      ]
     },
     "execution_count": 22,
     "metadata": {},
     "output_type": "execute_result"
    }
   ],
   "source": [
    "C.evalf()"
   ]
  },
  {
   "cell_type": "markdown",
   "metadata": {},
   "source": [
    "<p>Točke $A,$ $B$ i $C$ su kolinearne.</p>"
   ]
  },
  {
   "cell_type": "code",
   "execution_count": 23,
   "metadata": {},
   "outputs": [
    {
     "data": {
      "text/plain": [
       "True"
      ]
     },
     "execution_count": 23,
     "metadata": {},
     "output_type": "execute_result"
    }
   ],
   "source": [
    "Point3D.are_collinear(A,B,C)"
   ]
  },
  {
   "cell_type": "markdown",
   "metadata": {},
   "source": [
    "<p>Točke $A,$ $B$ i $D$ nisu kolinearne.</p>"
   ]
  },
  {
   "cell_type": "code",
   "execution_count": 24,
   "metadata": {},
   "outputs": [
    {
     "data": {
      "text/plain": [
       "False"
      ]
     },
     "execution_count": 24,
     "metadata": {},
     "output_type": "execute_result"
    }
   ],
   "source": [
    "Point3D.are_collinear(A,B,D)"
   ]
  },
  {
   "cell_type": "markdown",
   "metadata": {},
   "source": [
    "<p>Točke $A,$ $B,$ $C$ i $D$ nisu kolinearne.</p>"
   ]
  },
  {
   "cell_type": "code",
   "execution_count": 25,
   "metadata": {},
   "outputs": [
    {
     "data": {
      "text/plain": [
       "False"
      ]
     },
     "execution_count": 25,
     "metadata": {},
     "output_type": "execute_result"
    }
   ],
   "source": [
    "Point3D.are_collinear(A,B,C,D)"
   ]
  },
  {
   "cell_type": "markdown",
   "metadata": {},
   "source": [
    "<h4 style=\"background-color: #F5FFFA; color: #000000; border: 2px solid #B0C4DE; padding:5px; box-shadow: 2px 2px 6px #B0C4DE; display:inline-flex;\">Komplanarnost točaka</h4>\n",
    "<p style=\"text-align:center;\"><img src=\"slika19.png\"></p>"
   ]
  },
  {
   "cell_type": "code",
   "execution_count": 26,
   "metadata": {},
   "outputs": [],
   "source": [
    "A=Point3D(0,1,-1)\n",
    "B=Point3D(3,0,-2)\n",
    "C=Point3D(1,1,-2)\n",
    "D=Point3D(0,0,1)\n",
    "E=Point3D(5,4,3)"
   ]
  },
  {
   "cell_type": "markdown",
   "metadata": {},
   "source": [
    "<p>Točke $A,$ $B,$ $C$ i $D$ su komplanarne.</p>"
   ]
  },
  {
   "cell_type": "code",
   "execution_count": 27,
   "metadata": {},
   "outputs": [
    {
     "data": {
      "text/plain": [
       "True"
      ]
     },
     "execution_count": 27,
     "metadata": {},
     "output_type": "execute_result"
    }
   ],
   "source": [
    "Point3D.are_coplanar(A,B,C,D)"
   ]
  },
  {
   "cell_type": "markdown",
   "metadata": {},
   "source": [
    "<p>Točke $A,$ $B,$ $C$ i $E$ nisu komplanarne.</p>"
   ]
  },
  {
   "cell_type": "code",
   "execution_count": 28,
   "metadata": {},
   "outputs": [
    {
     "data": {
      "text/plain": [
       "False"
      ]
     },
     "execution_count": 28,
     "metadata": {},
     "output_type": "execute_result"
    }
   ],
   "source": [
    "Point3D.are_coplanar(A,B,C,E)"
   ]
  },
  {
   "cell_type": "markdown",
   "metadata": {},
   "source": [
    "<p>Točke $A,$ $B,$ $C,$ $D$ i $E$ nisu komplanarne.</p>"
   ]
  },
  {
   "cell_type": "code",
   "execution_count": 29,
   "metadata": {},
   "outputs": [
    {
     "data": {
      "text/plain": [
       "False"
      ]
     },
     "execution_count": 29,
     "metadata": {},
     "output_type": "execute_result"
    }
   ],
   "source": [
    "Point3D.are_coplanar(A,B,C,D,E)"
   ]
  },
  {
   "cell_type": "markdown",
   "metadata": {},
   "source": [
    "<h4 style=\"background-color: #F5FFFA; color: #000000; border: 2px solid #B0C4DE; padding:5px; box-shadow: 2px 2px 6px #B0C4DE; display:inline-flex;\">Kosinusi smjera radijvektora</h4>"
   ]
  },
  {
   "cell_type": "code",
   "execution_count": 30,
   "metadata": {},
   "outputs": [],
   "source": [
    "A=Point3D(1,-2,3)\n",
    "O=Point3D(0,0,0)"
   ]
  },
  {
   "cell_type": "code",
   "execution_count": 31,
   "metadata": {},
   "outputs": [
    {
     "data": {
      "image/png": "[encoded data removed]",
      "text/latex": [
       "$\\displaystyle \\left[ \\frac{\\sqrt{14}}{14}, \\  - \\frac{\\sqrt{14}}{7}, \\  \\frac{3 \\sqrt{14}}{14}\\right]$"
      ],
      "text/plain": [
       "⎡√14  -√14   3⋅√14⎤\n",
       "⎢───, ─────, ─────⎥\n",
       "⎣ 14    7      14 ⎦"
      ]
     },
     "execution_count": 31,
     "metadata": {},
     "output_type": "execute_result"
    }
   ],
   "source": [
    "O.direction_cosine(A)"
   ]
  },
  {
   "cell_type": "markdown",
   "metadata": {},
   "source": [
    "<h4 style=\"background-color: #F5FFFA; color: #000000; border: 2px solid #B0C4DE; padding:5px; box-shadow: 2px 2px 6px #B0C4DE; display:inline-flex;\">Kosinusi smjera vektora određenog s dvije točke</h4>"
   ]
  },
  {
   "cell_type": "code",
   "execution_count": 32,
   "metadata": {},
   "outputs": [],
   "source": [
    "A=Point3D(1,4,-2)\n",
    "B=Point3D(0,-2,1)"
   ]
  },
  {
   "cell_type": "code",
   "execution_count": 33,
   "metadata": {},
   "outputs": [
    {
     "data": {
      "image/png": "[encoded data removed]",
      "text/latex": [
       "$\\displaystyle \\left[ - \\frac{\\sqrt{46}}{46}, \\  - \\frac{3 \\sqrt{46}}{23}, \\  \\frac{3 \\sqrt{46}}{46}\\right]$"
      ],
      "text/plain": [
       "⎡-√46   -3⋅√46   3⋅√46⎤\n",
       "⎢─────, ───────, ─────⎥\n",
       "⎣  46      23      46 ⎦"
      ]
     },
     "execution_count": 33,
     "metadata": {},
     "output_type": "execute_result"
    }
   ],
   "source": [
    "A.direction_cosine(B)"
   ]
  },
  {
   "cell_type": "markdown",
   "metadata": {},
   "source": [
    "<h4 style=\"background-color: #F5FFFA; color: #000000; border: 2px solid #B0C4DE; padding:5px; box-shadow: 2px 2px 6px #B0C4DE; display:inline-flex;\">Zadavanje ravnine pomoću točke i vektora normale</h4>\n",
    "<p style=\"text-align:center;\"><img src=\"slika14.png\"></p>"
   ]
  },
  {
   "cell_type": "code",
   "execution_count": 34,
   "metadata": {},
   "outputs": [],
   "source": [
    "rav=Plane(Point3D(1,2,1),(-2,3,-1))"
   ]
  },
  {
   "cell_type": "code",
   "execution_count": 35,
   "metadata": {},
   "outputs": [
    {
     "data": {
      "image/png": "[encoded data removed]",
      "text/latex": [
       "$\\displaystyle Plane\\left(Point3D\\left(1, 2, 1\\right), \\left( -2, \\  3, \\  -1\\right)\\right)$"
      ],
      "text/plain": [
       "Plane(Point3D(1, 2, 1), (-2, 3, -1))"
      ]
     },
     "execution_count": 35,
     "metadata": {},
     "output_type": "execute_result"
    }
   ],
   "source": [
    "rav"
   ]
  },
  {
   "cell_type": "code",
   "execution_count": 36,
   "metadata": {},
   "outputs": [
    {
     "data": {
      "image/png": "[encoded data removed]",
      "text/latex": [
       "$\\displaystyle Point3D\\left(1, 2, 1\\right)$"
      ],
      "text/plain": [
       "Point3D(1, 2, 1)"
      ]
     },
     "execution_count": 36,
     "metadata": {},
     "output_type": "execute_result"
    }
   ],
   "source": [
    "rav.p1"
   ]
  },
  {
   "cell_type": "code",
   "execution_count": 37,
   "metadata": {},
   "outputs": [
    {
     "data": {
      "image/png": "[encoded data removed]",
      "text/latex": [
       "$\\displaystyle \\left( -2, \\  3, \\  -1\\right)$"
      ],
      "text/plain": [
       "(-2, 3, -1)"
      ]
     },
     "execution_count": 37,
     "metadata": {},
     "output_type": "execute_result"
    }
   ],
   "source": [
    "rav.normal_vector"
   ]
  },
  {
   "cell_type": "markdown",
   "metadata": {},
   "source": [
    "<p>Opći oblik jednadžbe ravnine</p>"
   ]
  },
  {
   "cell_type": "code",
   "execution_count": 38,
   "metadata": {},
   "outputs": [
    {
     "data": {
      "image/png": "[encoded data removed]",
      "text/latex": [
       "$\\displaystyle - 2 x + 3 y - z - 3$"
      ],
      "text/plain": [
       "-2⋅x + 3⋅y - z - 3"
      ]
     },
     "execution_count": 38,
     "metadata": {},
     "output_type": "execute_result"
    }
   ],
   "source": [
    "rav.equation()"
   ]
  },
  {
   "cell_type": "markdown",
   "metadata": {},
   "source": [
    "<p>Neka slučajna točka u ravnini</p>"
   ]
  },
  {
   "cell_type": "code",
   "execution_count": 39,
   "metadata": {},
   "outputs": [],
   "source": [
    "ranT=rav.random_point()"
   ]
  },
  {
   "cell_type": "code",
   "execution_count": 40,
   "metadata": {},
   "outputs": [
    {
     "data": {
      "image/png": "[encoded data removed]",
      "text/latex": [
       "$\\displaystyle Point3D\\left(- \\frac{381787712982347}{562949953421312}, - \\frac{2006389166352743}{140737488355328}, - \\frac{12500972215266079}{281474976710656}\\right)$"
      ],
      "text/plain": [
       "Point3D(-381787712982347/562949953421312, -2006389166352743/140737488355328, -12500972215266079/281474976710656)"
      ]
     },
     "execution_count": 40,
     "metadata": {},
     "output_type": "execute_result"
    }
   ],
   "source": [
    "ranT"
   ]
  },
  {
   "cell_type": "markdown",
   "metadata": {},
   "source": [
    "<p>Koordinate slučajne točke zaokružene na 5 znamenaka</p>"
   ]
  },
  {
   "cell_type": "code",
   "execution_count": 41,
   "metadata": {},
   "outputs": [
    {
     "data": {
      "image/png": "[encoded data removed]",
      "text/latex": [
       "$\\displaystyle Point3D\\left(-0.67819, -14.256, -44.412\\right)$"
      ],
      "text/plain": [
       "Point3D(-0.67819, -14.256, -44.412)"
      ]
     },
     "execution_count": 41,
     "metadata": {},
     "output_type": "execute_result"
    }
   ],
   "source": [
    "ranT.n(5)"
   ]
  },
  {
   "cell_type": "markdown",
   "metadata": {},
   "source": [
    "<p>Neka druga slučajna točka u ravnini</p>"
   ]
  },
  {
   "cell_type": "code",
   "execution_count": 42,
   "metadata": {},
   "outputs": [],
   "source": [
    "ranT2=rav.random_point(seed=41)"
   ]
  },
  {
   "cell_type": "code",
   "execution_count": 43,
   "metadata": {},
   "outputs": [
    {
     "data": {
      "image/png": "[encoded data removed]",
      "text/latex": [
       "$\\displaystyle Point3D\\left(7.2173, 6.0791, 0.8028\\right)$"
      ],
      "text/plain": [
       "Point3D(7.2173, 6.0791, 0.80280)"
      ]
     },
     "execution_count": 43,
     "metadata": {},
     "output_type": "execute_result"
    }
   ],
   "source": [
    "ranT2.n(5)"
   ]
  },
  {
   "cell_type": "markdown",
   "metadata": {},
   "source": [
    "<p>Parametarske jednadžbe ravnine</p>"
   ]
  },
  {
   "cell_type": "code",
   "execution_count": 44,
   "metadata": {},
   "outputs": [],
   "source": [
    "u,v=var('u v')"
   ]
  },
  {
   "cell_type": "code",
   "execution_count": 45,
   "metadata": {},
   "outputs": [
    {
     "data": {
      "image/png": "[encoded data removed]",
      "text/latex": [
       "$\\displaystyle Point3D\\left(- 3 u - 2 v + 1, - 2 u + 3 v + 2, 13 v + 1\\right)$"
      ],
      "text/plain": [
       "Point3D(-3*u - 2*v + 1, -2*u + 3*v + 2, 13*v + 1)"
      ]
     },
     "execution_count": 45,
     "metadata": {},
     "output_type": "execute_result"
    }
   ],
   "source": [
    "par=rav.arbitrary_point(u,v)\n",
    "par"
   ]
  },
  {
   "cell_type": "markdown",
   "metadata": {},
   "source": [
    "<p>Točka u ravnini koja se dobije za $u=2,$ $v=1$</p>"
   ]
  },
  {
   "cell_type": "code",
   "execution_count": 46,
   "metadata": {},
   "outputs": [
    {
     "data": {
      "image/png": "[encoded data removed]",
      "text/latex": [
       "$\\displaystyle Point3D\\left(-7, 1, 14\\right)$"
      ],
      "text/plain": [
       "Point3D(-7, 1, 14)"
      ]
     },
     "execution_count": 46,
     "metadata": {},
     "output_type": "execute_result"
    }
   ],
   "source": [
    "Tp=par.subs({u:2,v:1})\n",
    "Tp"
   ]
  },
  {
   "cell_type": "markdown",
   "metadata": {},
   "source": [
    "<p>Dobivanje parametara za danu točku koja leži u ravnini</p>"
   ]
  },
  {
   "cell_type": "code",
   "execution_count": 47,
   "metadata": {},
   "outputs": [
    {
     "data": {
      "image/png": "[encoded data removed]",
      "text/latex": [
       "$\\displaystyle \\left\\{ u : 2, \\  v : 1\\right\\}$"
      ],
      "text/plain": [
       "{u: 2, v: 1}"
      ]
     },
     "execution_count": 47,
     "metadata": {},
     "output_type": "execute_result"
    }
   ],
   "source": [
    "rav.parameter_value(Tp,u,v)"
   ]
  },
  {
   "cell_type": "markdown",
   "metadata": {},
   "source": [
    "<h4 style=\"background-color: #F5FFFA; color: #000000; border: 2px solid #B0C4DE; padding:5px; box-shadow: 2px 2px 6px #B0C4DE; display:inline-flex;\">Zadavanje ravnine pomoću tri nekolinearne točke</h4>\n",
    "<p style=\"text-align:center;\"><img src=\"slika13.png\"></p>"
   ]
  },
  {
   "cell_type": "code",
   "execution_count": 48,
   "metadata": {},
   "outputs": [],
   "source": [
    "T1=Point3D(1,2,1)\n",
    "T2=Point3D(-1,0,3)\n",
    "T3=Point3D(-2,-1,5)"
   ]
  },
  {
   "cell_type": "code",
   "execution_count": 49,
   "metadata": {},
   "outputs": [
    {
     "data": {
      "image/png": "[encoded data removed]",
      "text/latex": [
       "$\\displaystyle Plane\\left(Point3D\\left(1, 2, 1\\right), \\left( -2, \\  2, \\  0\\right)\\right)$"
      ],
      "text/plain": [
       "Plane(Point3D(1, 2, 1), (-2, 2, 0))"
      ]
     },
     "execution_count": 49,
     "metadata": {},
     "output_type": "execute_result"
    }
   ],
   "source": [
    "rav=Plane(T1,T2,T3)\n",
    "rav"
   ]
  },
  {
   "cell_type": "code",
   "execution_count": 50,
   "metadata": {},
   "outputs": [
    {
     "data": {
      "image/png": "[encoded data removed]",
      "text/latex": [
       "$\\displaystyle \\left( -2, \\  2, \\  0\\right)$"
      ],
      "text/plain": [
       "(-2, 2, 0)"
      ]
     },
     "execution_count": 50,
     "metadata": {},
     "output_type": "execute_result"
    }
   ],
   "source": [
    "rav.normal_vector"
   ]
  },
  {
   "cell_type": "code",
   "execution_count": 51,
   "metadata": {},
   "outputs": [
    {
     "data": {
      "image/png": "[encoded data removed]",
      "text/latex": [
       "$\\displaystyle Point3D\\left(1, 2, 1\\right)$"
      ],
      "text/plain": [
       "Point3D(1, 2, 1)"
      ]
     },
     "execution_count": 51,
     "metadata": {},
     "output_type": "execute_result"
    }
   ],
   "source": [
    "rav.p1"
   ]
  },
  {
   "cell_type": "markdown",
   "metadata": {},
   "source": [
    "<p>Opći oblik jednadžbe ravnine</p>"
   ]
  },
  {
   "cell_type": "code",
   "execution_count": 52,
   "metadata": {},
   "outputs": [
    {
     "data": {
      "image/png": "[encoded data removed]",
      "text/latex": [
       "$\\displaystyle - 2 x + 2 y - 2$"
      ],
      "text/plain": [
       "-2⋅x + 2⋅y - 2"
      ]
     },
     "execution_count": 52,
     "metadata": {},
     "output_type": "execute_result"
    }
   ],
   "source": [
    "rav.equation()"
   ]
  },
  {
   "cell_type": "markdown",
   "metadata": {},
   "source": [
    "<p>Parametarske jednadžbe ravnine</p>"
   ]
  },
  {
   "cell_type": "code",
   "execution_count": 53,
   "metadata": {},
   "outputs": [
    {
     "data": {
      "image/png": "[encoded data removed]",
      "text/latex": [
       "$\\displaystyle Point3D\\left(1 - 2 u, 2 - 2 u, 8 v + 1\\right)$"
      ],
      "text/plain": [
       "Point3D(1 - 2*u, 2 - 2*u, 8*v + 1)"
      ]
     },
     "execution_count": 53,
     "metadata": {},
     "output_type": "execute_result"
    }
   ],
   "source": [
    "par=rav.arbitrary_point(u,v)\n",
    "par"
   ]
  },
  {
   "cell_type": "markdown",
   "metadata": {},
   "source": [
    "<p>Točka u ravnini koja se dobije za $u=3,$ $v=-5$</p>"
   ]
  },
  {
   "cell_type": "code",
   "execution_count": 54,
   "metadata": {},
   "outputs": [
    {
     "data": {
      "image/png": "[encoded data removed]",
      "text/latex": [
       "$\\displaystyle Point3D\\left(-5, -4, 41\\right)$"
      ],
      "text/plain": [
       "Point3D(-5, -4, 41)"
      ]
     },
     "execution_count": 54,
     "metadata": {},
     "output_type": "execute_result"
    }
   ],
   "source": [
    "Tp=par.subs({u:3,v:5})\n",
    "Tp"
   ]
  },
  {
   "cell_type": "markdown",
   "metadata": {},
   "source": [
    "<p>Dobivanje parametara za danu točku koja leži u ravnini</p>"
   ]
  },
  {
   "cell_type": "code",
   "execution_count": 55,
   "metadata": {},
   "outputs": [
    {
     "data": {
      "image/png": "[encoded data removed]",
      "text/latex": [
       "$\\displaystyle \\left\\{ u : 3, \\  v : 5\\right\\}$"
      ],
      "text/plain": [
       "{u: 3, v: 5}"
      ]
     },
     "execution_count": 55,
     "metadata": {},
     "output_type": "execute_result"
    }
   ],
   "source": [
    "rav.parameter_value(Tp,u,v)"
   ]
  },
  {
   "cell_type": "markdown",
   "metadata": {},
   "source": [
    "<h4 style=\"background-color: #F5FFFA; color: #000000; border: 2px solid #B0C4DE; padding:5px; box-shadow: 2px 2px 6px #B0C4DE; display:inline-flex;\">Udaljenost točke od ravnine</h4>\n",
    "<p style=\"text-align:center;\"><img src=\"slika12.png\"></p>\n",
    "<p>točka: $T(1,-2,4)$&nbsp;&nbsp;&nbsp;&nbsp;ravnina: $2x-y+3z-10=0$</p>"
   ]
  },
  {
   "cell_type": "code",
   "execution_count": 56,
   "metadata": {},
   "outputs": [],
   "source": [
    "rav=Plane(Point3D(5,0,0),(2,-1,3))\n",
    "T=Point3D(1,-2,4)"
   ]
  },
  {
   "cell_type": "code",
   "execution_count": 57,
   "metadata": {},
   "outputs": [
    {
     "data": {
      "image/png": "[encoded data removed]",
      "text/latex": [
       "$\\displaystyle \\frac{3 \\sqrt{14}}{7}$"
      ],
      "text/plain": [
       "3⋅√14\n",
       "─────\n",
       "  7  "
      ]
     },
     "execution_count": 57,
     "metadata": {},
     "output_type": "execute_result"
    }
   ],
   "source": [
    "d=rav.distance(T)\n",
    "d"
   ]
  },
  {
   "cell_type": "code",
   "execution_count": 58,
   "metadata": {},
   "outputs": [
    {
     "data": {
      "image/png": "[encoded data removed]",
      "text/latex": [
       "$\\displaystyle 1.60356745147455$"
      ],
      "text/plain": [
       "1.60356745147455"
      ]
     },
     "execution_count": 58,
     "metadata": {},
     "output_type": "execute_result"
    }
   ],
   "source": [
    "N(d)"
   ]
  },
  {
   "cell_type": "markdown",
   "metadata": {},
   "source": [
    "<p>Točka $T$ ne leži u zadanoj ravnini.</p>"
   ]
  },
  {
   "cell_type": "code",
   "execution_count": 59,
   "metadata": {},
   "outputs": [
    {
     "data": {
      "text/plain": [
       "False"
      ]
     },
     "execution_count": 59,
     "metadata": {},
     "output_type": "execute_result"
    }
   ],
   "source": [
    "rav.is_coplanar(T)"
   ]
  },
  {
   "cell_type": "markdown",
   "metadata": {},
   "source": [
    "<h4 style=\"background-color: #F5FFFA; color: #000000; border: 2px solid #B0C4DE; padding:5px; box-shadow: 2px 2px 6px #B0C4DE; display:inline-flex;\">Međusobni položaj ravnina</h4>\n",
    "<p style=\"text-align:center;\"><img src=\"slika22.png\"></p>\n",
    "<p>$\\pi_1\\dotsc 2x+3y-4z+5=0\\qquad$ $\\pi_2\\dotsc x-2y+2z-1=0$</p>"
   ]
  },
  {
   "cell_type": "code",
   "execution_count": 60,
   "metadata": {},
   "outputs": [],
   "source": [
    "rav1=Plane(Point3D(-5/2,0,0),(2,3,-4))\n",
    "rav2=Plane(Point3D(1,0,0),(1,-2,2))"
   ]
  },
  {
   "cell_type": "markdown",
   "metadata": {},
   "source": [
    "<p>kut između normali</p>"
   ]
  },
  {
   "cell_type": "code",
   "execution_count": 61,
   "metadata": {},
   "outputs": [
    {
     "data": {
      "image/png": "[encoded data removed]",
      "text/latex": [
       "$\\displaystyle \\operatorname{acos}{\\left(- \\frac{4 \\sqrt{29}}{29} \\right)}$"
      ],
      "text/plain": [
       "    ⎛-4⋅√29 ⎞\n",
       "acos⎜───────⎟\n",
       "    ⎝   29  ⎠"
      ]
     },
     "execution_count": 61,
     "metadata": {},
     "output_type": "execute_result"
    }
   ],
   "source": [
    "kut1=rav1.angle_between(rav2)\n",
    "kut1"
   ]
  },
  {
   "cell_type": "markdown",
   "metadata": {},
   "source": [
    "<p>kut između normali u radijanima</p>"
   ]
  },
  {
   "cell_type": "code",
   "execution_count": 62,
   "metadata": {},
   "outputs": [
    {
     "data": {
      "image/png": "[encoded data removed]",
      "text/latex": [
       "$\\displaystyle 2.40801132994971$"
      ],
      "text/plain": [
       "2.40801132994971"
      ]
     },
     "execution_count": 62,
     "metadata": {},
     "output_type": "execute_result"
    }
   ],
   "source": [
    "kr=N(kut1)\n",
    "kr"
   ]
  },
  {
   "cell_type": "markdown",
   "metadata": {},
   "source": [
    "kut između normali u stupnjevima"
   ]
  },
  {
   "cell_type": "code",
   "execution_count": 63,
   "metadata": {},
   "outputs": [],
   "source": [
    "ks=N(kut1*180/pi)"
   ]
  },
  {
   "cell_type": "markdown",
   "metadata": {},
   "source": [
    "<p>kut između ravnina u stupnjevima</p>"
   ]
  },
  {
   "cell_type": "code",
   "execution_count": 64,
   "metadata": {},
   "outputs": [
    {
     "data": {
      "image/png": "[encoded data removed]",
      "text/latex": [
       "$\\displaystyle 42.0311137741973$"
      ],
      "text/plain": [
       "42.0311137741973"
      ]
     },
     "execution_count": 64,
     "metadata": {},
     "output_type": "execute_result"
    }
   ],
   "source": [
    "180-ks"
   ]
  },
  {
   "cell_type": "markdown",
   "metadata": {},
   "source": [
    "<p>kut između ravnina u radijanima</p>"
   ]
  },
  {
   "cell_type": "code",
   "execution_count": 65,
   "metadata": {},
   "outputs": [
    {
     "data": {
      "image/png": "[encoded data removed]",
      "text/latex": [
       "$\\displaystyle 0.733581323640083$"
      ],
      "text/plain": [
       "0.733581323640083"
      ]
     },
     "execution_count": 65,
     "metadata": {},
     "output_type": "execute_result"
    }
   ],
   "source": [
    "N(pi-kr)"
   ]
  },
  {
   "cell_type": "markdown",
   "metadata": {},
   "source": [
    "<p>Ravnine nisu paralelne niti okomite.</p>"
   ]
  },
  {
   "cell_type": "code",
   "execution_count": 66,
   "metadata": {},
   "outputs": [
    {
     "data": {
      "text/plain": [
       "False"
      ]
     },
     "execution_count": 66,
     "metadata": {},
     "output_type": "execute_result"
    }
   ],
   "source": [
    "rav1.is_parallel(rav2)"
   ]
  },
  {
   "cell_type": "code",
   "execution_count": 67,
   "metadata": {},
   "outputs": [
    {
     "data": {
      "text/plain": [
       "False"
      ]
     },
     "execution_count": 67,
     "metadata": {},
     "output_type": "execute_result"
    }
   ],
   "source": [
    "rav1.is_perpendicular(rav2)"
   ]
  },
  {
   "cell_type": "markdown",
   "metadata": {},
   "source": [
    "<p>Ravnine su različite.</p>"
   ]
  },
  {
   "cell_type": "code",
   "execution_count": 68,
   "metadata": {
    "scrolled": true
   },
   "outputs": [
    {
     "data": {
      "text/plain": [
       "False"
      ]
     },
     "execution_count": 68,
     "metadata": {},
     "output_type": "execute_result"
    }
   ],
   "source": [
    "rav1.is_coplanar(rav2)"
   ]
  },
  {
   "cell_type": "markdown",
   "metadata": {},
   "source": [
    "<p>Ravnine se sijeku po pravcu koji prolazi točkama $T_1(-1,-1,0)$ i $T_2(-3,-9,-7)$.</p>"
   ]
  },
  {
   "cell_type": "code",
   "execution_count": 69,
   "metadata": {},
   "outputs": [
    {
     "data": {
      "image/png": "[encoded data removed]",
      "text/latex": [
       "$\\displaystyle \\left[ Line3D\\left(Point3D\\left(-1, -1, 0\\right), Point3D\\left(-3, -9, -7\\right)\\right)\\right]$"
      ],
      "text/plain": [
       "[Line3D(Point3D(-1, -1, 0), Point3D(-3, -9, -7))]"
      ]
     },
     "execution_count": 69,
     "metadata": {},
     "output_type": "execute_result"
    }
   ],
   "source": [
    "rav1.intersection(rav2)"
   ]
  },
  {
   "cell_type": "markdown",
   "metadata": {},
   "source": [
    "<h4 style=\"background-color: #F5FFFA; color: #000000; border: 2px solid #B0C4DE; padding:5px; box-shadow: 2px 2px 6px #B0C4DE; display:inline-flex;\">Ortogonalna projekcija točke na ravninu. Simetrična točka</h4>\n",
    "<p style=\"text-align:center;\"><img src=\"slika11.png\" width=\"450\"></p>\n",
    "<p>točka: $M(1,2,3)$&nbsp;&nbsp;&nbsp;&nbsp;ravnina: $2x+y-z-13=0$</p>"
   ]
  },
  {
   "cell_type": "code",
   "execution_count": 70,
   "metadata": {},
   "outputs": [],
   "source": [
    "rav=Plane(Point3D(7,0,1),(2,1,-1))\n",
    "M=Point3D(1,2,3)"
   ]
  },
  {
   "cell_type": "code",
   "execution_count": 71,
   "metadata": {},
   "outputs": [
    {
     "data": {
      "image/png": "[encoded data removed]",
      "text/latex": [
       "$\\displaystyle Point3D\\left(5, 4, 1\\right)$"
      ],
      "text/plain": [
       "Point3D(5, 4, 1)"
      ]
     },
     "execution_count": 71,
     "metadata": {},
     "output_type": "execute_result"
    }
   ],
   "source": [
    "S=rav.projection(M)\n",
    "S"
   ]
  },
  {
   "cell_type": "markdown",
   "metadata": {},
   "source": [
    "<p>Simetrična točka točke $M$ s obzirom na zadanu ravninu.</p>"
   ]
  },
  {
   "cell_type": "code",
   "execution_count": 72,
   "metadata": {},
   "outputs": [
    {
     "data": {
      "image/png": "[encoded data removed]",
      "text/latex": [
       "$\\displaystyle Point3D\\left(9, 6, -1\\right)$"
      ],
      "text/plain": [
       "Point3D(9, 6, -1)"
      ]
     },
     "execution_count": 72,
     "metadata": {},
     "output_type": "execute_result"
    }
   ],
   "source": [
    "S+M.direction_ratio(S)"
   ]
  },
  {
   "cell_type": "markdown",
   "metadata": {},
   "source": [
    "<h4 style=\"background-color: #F5FFFA; color: #000000; border: 2px solid #B0C4DE; padding:5px; box-shadow: 2px 2px 6px #B0C4DE; display:inline-flex;\">Ravnina koja prolazi danom točkom i paralelna je sa zadanom ravninom</h4>\n",
    "<p style=\"text-align:center;\"><img src=\"slika10.png\" width=\"450\"></p>\n",
    "<p>točka: $T(1,-2,7)$&nbsp;&nbsp;&nbsp;&nbsp;ravnina: $2x+3y-5z+10=0$</p>"
   ]
  },
  {
   "cell_type": "code",
   "execution_count": 73,
   "metadata": {},
   "outputs": [],
   "source": [
    "rav=Plane(Point3D(-5,0,0),(2,3,-5))\n",
    "T=Point3D(1,-2,7)"
   ]
  },
  {
   "cell_type": "code",
   "execution_count": 74,
   "metadata": {},
   "outputs": [
    {
     "data": {
      "image/png": "[encoded data removed]",
      "text/latex": [
       "$\\displaystyle Plane\\left(Point3D\\left(1, -2, 7\\right), \\left( 2, \\  3, \\  -5\\right)\\right)$"
      ],
      "text/plain": [
       "Plane(Point3D(1, -2, 7), (2, 3, -5))"
      ]
     },
     "execution_count": 74,
     "metadata": {},
     "output_type": "execute_result"
    }
   ],
   "source": [
    "rav_par=rav.parallel_plane(T)\n",
    "rav_par"
   ]
  },
  {
   "cell_type": "code",
   "execution_count": 75,
   "metadata": {},
   "outputs": [
    {
     "data": {
      "image/png": "[encoded data removed]",
      "text/latex": [
       "$\\displaystyle 2 x + 3 y - 5 z + 39$"
      ],
      "text/plain": [
       "2⋅x + 3⋅y - 5⋅z + 39"
      ]
     },
     "execution_count": 75,
     "metadata": {},
     "output_type": "execute_result"
    }
   ],
   "source": [
    "rav_par.equation()"
   ]
  },
  {
   "cell_type": "markdown",
   "metadata": {},
   "source": [
    "<h4 style=\"background-color: #F5FFFA; color: #000000; border: 2px solid #B0C4DE; padding:5px; box-shadow: 2px 2px 6px #B0C4DE; display:inline-flex;\">Ravnina koja prolazi danim točkama i okomita je na zadanu ravninu</h4>\n",
    "<p style=\"text-align:center;\"><img src=\"slika9.png\"></p>\n",
    "<p>točke: $T_1(1,0,-1),\\,$ $T_2(0,2,5)$&nbsp;&nbsp;&nbsp;&nbsp;ravnina: $2x+y-5z+6=0$</p>"
   ]
  },
  {
   "cell_type": "code",
   "execution_count": 76,
   "metadata": {},
   "outputs": [],
   "source": [
    "rav=Plane(Point3D(-3,0,0),(2,1,-5))\n",
    "T1=Point3D(1,0,-1)\n",
    "T2=Point3D(0,2,5)"
   ]
  },
  {
   "cell_type": "code",
   "execution_count": 77,
   "metadata": {},
   "outputs": [
    {
     "data": {
      "image/png": "[encoded data removed]",
      "text/latex": [
       "$\\displaystyle Plane\\left(Point3D\\left(1, 0, -1\\right), \\left( -16, \\  7, \\  -5\\right)\\right)$"
      ],
      "text/plain": [
       "Plane(Point3D(1, 0, -1), (-16, 7, -5))"
      ]
     },
     "execution_count": 77,
     "metadata": {},
     "output_type": "execute_result"
    }
   ],
   "source": [
    "rav_perp=rav.perpendicular_plane(T1,T2)\n",
    "rav_perp"
   ]
  },
  {
   "cell_type": "code",
   "execution_count": 78,
   "metadata": {},
   "outputs": [
    {
     "data": {
      "image/png": "[encoded data removed]",
      "text/latex": [
       "$\\displaystyle - 16 x + 7 y - 5 z + 11$"
      ],
      "text/plain": [
       "-16⋅x + 7⋅y - 5⋅z + 11"
      ]
     },
     "execution_count": 78,
     "metadata": {},
     "output_type": "execute_result"
    }
   ],
   "source": [
    "rav_perp.equation()"
   ]
  },
  {
   "cell_type": "markdown",
   "metadata": {},
   "source": [
    "<h4 style=\"background-color: #F5FFFA; color: #000000; border: 2px solid #B0C4DE; padding:5px; box-shadow: 2px 2px 6px #B0C4DE; display:inline-flex;\">Pramen ravnina</h4>\n",
    "<p style=\"text-align:center;\"><img src=\"slika8.png\" width=\"250\"></p>\n",
    "<p>Ravnine $2x-y+3z-5=0,$ $x+y-z+1=0$ i $3x+2y-4z-3=0$ ne pripadaju istom pramenu.</p>"
   ]
  },
  {
   "cell_type": "code",
   "execution_count": 79,
   "metadata": {},
   "outputs": [],
   "source": [
    "rav1=Plane(Point3D(0,-5,0),(2,-1,3))\n",
    "rav2=Plane(Point3D(0,0,1),(1,1,-1))\n",
    "rav3=Plane(Point3D(1,0,0),(3,2,-4))"
   ]
  },
  {
   "cell_type": "code",
   "execution_count": 80,
   "metadata": {},
   "outputs": [
    {
     "data": {
      "text/plain": [
       "False"
      ]
     },
     "execution_count": 80,
     "metadata": {},
     "output_type": "execute_result"
    }
   ],
   "source": [
    "Plane.are_concurrent(rav1,rav2,rav3)"
   ]
  },
  {
   "cell_type": "markdown",
   "metadata": {},
   "source": [
    "<h4 style=\"background-color: #F5FFFA; color: #000000; border: 2px solid #B0C4DE; padding:5px; box-shadow: 2px 2px 6px #B0C4DE; display:inline-flex;\">Pravac se zadaje pomoću dvije različite točke</h4>\n",
    "<p style=\"text-align:center;\"><img src=\"slika17.png\"></p>"
   ]
  },
  {
   "cell_type": "code",
   "execution_count": 81,
   "metadata": {},
   "outputs": [],
   "source": [
    "A=Point3D(2,3,-1)\n",
    "B=Point3D(1,0,8)\n",
    "pravac=Line3D(A,B)"
   ]
  },
  {
   "cell_type": "code",
   "execution_count": 82,
   "metadata": {},
   "outputs": [
    {
     "data": {
      "image/png": "[encoded data removed]",
      "text/latex": [
       "$\\displaystyle Line3D\\left(Point3D\\left(2, 3, -1\\right), Point3D\\left(1, 0, 8\\right)\\right)$"
      ],
      "text/plain": [
       "Line3D(Point3D(2, 3, -1), Point3D(1, 0, 8))"
      ]
     },
     "execution_count": 82,
     "metadata": {},
     "output_type": "execute_result"
    }
   ],
   "source": [
    "pravac"
   ]
  },
  {
   "cell_type": "code",
   "execution_count": 83,
   "metadata": {},
   "outputs": [
    {
     "data": {
      "image/png": "[encoded data removed]",
      "text/latex": [
       "$\\displaystyle Point3D\\left(2, 3, -1\\right)$"
      ],
      "text/plain": [
       "Point3D(2, 3, -1)"
      ]
     },
     "execution_count": 83,
     "metadata": {},
     "output_type": "execute_result"
    }
   ],
   "source": [
    "pravac.p1"
   ]
  },
  {
   "cell_type": "code",
   "execution_count": 84,
   "metadata": {},
   "outputs": [
    {
     "data": {
      "image/png": "[encoded data removed]",
      "text/latex": [
       "$\\displaystyle Point3D\\left(1, 0, 8\\right)$"
      ],
      "text/plain": [
       "Point3D(1, 0, 8)"
      ]
     },
     "execution_count": 84,
     "metadata": {},
     "output_type": "execute_result"
    }
   ],
   "source": [
    "pravac.p2"
   ]
  },
  {
   "cell_type": "markdown",
   "metadata": {},
   "source": [
    "<p>vektor smjera pravca</p>"
   ]
  },
  {
   "cell_type": "code",
   "execution_count": 85,
   "metadata": {},
   "outputs": [
    {
     "data": {
      "image/png": "[encoded data removed]",
      "text/latex": [
       "$\\displaystyle Point3D\\left(-1, -3, 9\\right)$"
      ],
      "text/plain": [
       "Point3D(-1, -3, 9)"
      ]
     },
     "execution_count": 85,
     "metadata": {},
     "output_type": "execute_result"
    }
   ],
   "source": [
    "pravac.direction"
   ]
  },
  {
   "cell_type": "code",
   "execution_count": 86,
   "metadata": {},
   "outputs": [
    {
     "data": {
      "image/png": "[encoded data removed]",
      "text/latex": [
       "$\\displaystyle \\left[ -1, \\  -3, \\  9\\right]$"
      ],
      "text/plain": [
       "[-1, -3, 9]"
      ]
     },
     "execution_count": 86,
     "metadata": {},
     "output_type": "execute_result"
    }
   ],
   "source": [
    "pravac.direction_ratio"
   ]
  },
  {
   "cell_type": "markdown",
   "metadata": {},
   "source": [
    "<p>Pripadni jedinični vektor smjera pravca</p>"
   ]
  },
  {
   "cell_type": "code",
   "execution_count": 87,
   "metadata": {},
   "outputs": [
    {
     "data": {
      "image/png": "[encoded data removed]",
      "text/latex": [
       "$\\displaystyle \\left[ - \\frac{\\sqrt{91}}{91}, \\  - \\frac{3 \\sqrt{91}}{91}, \\  \\frac{9 \\sqrt{91}}{91}\\right]$"
      ],
      "text/plain": [
       "⎡-√91   -3⋅√91   9⋅√91⎤\n",
       "⎢─────, ───────, ─────⎥\n",
       "⎣  91      91      91 ⎦"
      ]
     },
     "execution_count": 87,
     "metadata": {},
     "output_type": "execute_result"
    }
   ],
   "source": [
    "pravac.direction_cosine"
   ]
  },
  {
   "cell_type": "markdown",
   "metadata": {},
   "source": [
    "<p>Pravac prikazan kao presjek dvije ravnine</p>"
   ]
  },
  {
   "cell_type": "code",
   "execution_count": 88,
   "metadata": {},
   "outputs": [
    {
     "data": {
      "image/png": "[encoded data removed]",
      "text/latex": [
       "$\\displaystyle \\left( - 3 x + y + 3, \\  9 x + z - 17\\right)$"
      ],
      "text/plain": [
       "(-3⋅x + y + 3, 9⋅x + z - 17)"
      ]
     },
     "execution_count": 88,
     "metadata": {},
     "output_type": "execute_result"
    }
   ],
   "source": [
    "pravac.equation()"
   ]
  },
  {
   "cell_type": "markdown",
   "metadata": {},
   "source": [
    "<p>Neka slučajna točka na pravcu</p>"
   ]
  },
  {
   "cell_type": "code",
   "execution_count": 89,
   "metadata": {},
   "outputs": [],
   "source": [
    "ranT=pravac.random_point()"
   ]
  },
  {
   "cell_type": "code",
   "execution_count": 90,
   "metadata": {},
   "outputs": [
    {
     "data": {
      "image/png": "[encoded data removed]",
      "text/latex": [
       "$\\displaystyle Point3D\\left(\\frac{39341778757571017}{18014398509481984}, \\frac{63982140744267099}{18014398509481984}, - \\frac{47831234156945425}{18014398509481984}\\right)$"
      ],
      "text/plain": [
       "Point3D(39341778757571017/18014398509481984, 63982140744267099/18014398509481984, -47831234156945425/18014398509481984)"
      ]
     },
     "execution_count": 90,
     "metadata": {},
     "output_type": "execute_result"
    }
   ],
   "source": [
    "ranT"
   ]
  },
  {
   "cell_type": "markdown",
   "metadata": {},
   "source": [
    "<p>Koordinate slučajne točke zaokružene na 5 znamenaka</p>"
   ]
  },
  {
   "cell_type": "code",
   "execution_count": 91,
   "metadata": {},
   "outputs": [
    {
     "data": {
      "image/png": "[encoded data removed]",
      "text/latex": [
       "$\\displaystyle Point3D\\left(2.1839, 3.5517, -2.6552\\right)$"
      ],
      "text/plain": [
       "Point3D(2.1839, 3.5517, -2.6552)"
      ]
     },
     "execution_count": 91,
     "metadata": {},
     "output_type": "execute_result"
    }
   ],
   "source": [
    "ranT.n(5)"
   ]
  },
  {
   "cell_type": "markdown",
   "metadata": {},
   "source": [
    "<p>Neka druga slučajna točka na pravcu</p>"
   ]
  },
  {
   "cell_type": "code",
   "execution_count": 92,
   "metadata": {},
   "outputs": [
    {
     "data": {
      "image/png": "[encoded data removed]",
      "text/latex": [
       "$\\displaystyle Point3D\\left(1.3872, 1.1615, 4.5156\\right)$"
      ],
      "text/plain": [
       "Point3D(1.3872, 1.1615, 4.5156)"
      ]
     },
     "execution_count": 92,
     "metadata": {},
     "output_type": "execute_result"
    }
   ],
   "source": [
    "ranT2=pravac.random_point(32)\n",
    "ranT2.n(5)"
   ]
  },
  {
   "cell_type": "markdown",
   "metadata": {},
   "source": [
    "<p>Parametarske jednadžbe pravca</p>"
   ]
  },
  {
   "cell_type": "code",
   "execution_count": 93,
   "metadata": {},
   "outputs": [
    {
     "data": {
      "image/png": "[encoded data removed]",
      "text/latex": [
       "$\\displaystyle Point3D\\left(2 - u, 3 - 3 u, 9 u - 1\\right)$"
      ],
      "text/plain": [
       "Point3D(2 - u, 3 - 3*u, 9*u - 1)"
      ]
     },
     "execution_count": 93,
     "metadata": {},
     "output_type": "execute_result"
    }
   ],
   "source": [
    "par=pravac.arbitrary_point(u)\n",
    "par"
   ]
  },
  {
   "cell_type": "markdown",
   "metadata": {},
   "source": [
    "<p>Točka na pravcu koja se dobije za $u=-2$</p>"
   ]
  },
  {
   "cell_type": "code",
   "execution_count": 94,
   "metadata": {},
   "outputs": [
    {
     "data": {
      "image/png": "[encoded data removed]",
      "text/latex": [
       "$\\displaystyle Point3D\\left(4, 9, -19\\right)$"
      ],
      "text/plain": [
       "Point3D(4, 9, -19)"
      ]
     },
     "execution_count": 94,
     "metadata": {},
     "output_type": "execute_result"
    }
   ],
   "source": [
    "Tp=par.subs({u:-2})\n",
    "Tp"
   ]
  },
  {
   "cell_type": "markdown",
   "metadata": {},
   "source": [
    "<p>Dobivanje parametra za danu točku koja leži na pravcu</p>"
   ]
  },
  {
   "cell_type": "code",
   "execution_count": 95,
   "metadata": {},
   "outputs": [
    {
     "data": {
      "image/png": "[encoded data removed]",
      "text/latex": [
       "$\\displaystyle \\left\\{ u : -2\\right\\}$"
      ],
      "text/plain": [
       "{u: -2}"
      ]
     },
     "execution_count": 95,
     "metadata": {},
     "output_type": "execute_result"
    }
   ],
   "source": [
    "pravac.parameter_value(Tp,u)"
   ]
  },
  {
   "cell_type": "markdown",
   "metadata": {},
   "source": [
    "<h4 style=\"background-color: #F5FFFA; color: #000000; border: 2px solid #B0C4DE; padding:5px; box-shadow: 2px 2px 6px #B0C4DE; display:inline-flex;\">Udaljenost točke od pravca</h4>\n",
    "<p style=\"text-align:center;\"><img src=\"slika16.png\"></p>\n",
    "<p>točka: $T(2,1,3)$&nbsp;&nbsp;&nbsp;&nbsp;pravac: $\\frac{x-1}{1}=\\frac{y-1}{2}=\\frac{z-1}{3}$</p>"
   ]
  },
  {
   "cell_type": "code",
   "execution_count": 96,
   "metadata": {},
   "outputs": [],
   "source": [
    "pravac=Line3D(Point3D(1,1,1),Point3D(0,-1,-2))\n",
    "T=Point3D(2,1,3)"
   ]
  },
  {
   "cell_type": "code",
   "execution_count": 97,
   "metadata": {},
   "outputs": [
    {
     "data": {
      "image/png": "[encoded data removed]",
      "text/latex": [
       "$\\displaystyle \\frac{\\sqrt{6}}{2}$"
      ],
      "text/plain": [
       "√6\n",
       "──\n",
       "2 "
      ]
     },
     "execution_count": 97,
     "metadata": {},
     "output_type": "execute_result"
    }
   ],
   "source": [
    "d=pravac.distance(T)\n",
    "d"
   ]
  },
  {
   "cell_type": "code",
   "execution_count": 98,
   "metadata": {},
   "outputs": [
    {
     "data": {
      "image/png": "[encoded data removed]",
      "text/latex": [
       "$\\displaystyle 1.22474487139159$"
      ],
      "text/plain": [
       "1.22474487139159"
      ]
     },
     "execution_count": 98,
     "metadata": {},
     "output_type": "execute_result"
    }
   ],
   "source": [
    "N(d)"
   ]
  },
  {
   "cell_type": "markdown",
   "metadata": {},
   "source": [
    "<p>Točka $T$ ne leži na zadanom pravcu.</p>"
   ]
  },
  {
   "cell_type": "code",
   "execution_count": 99,
   "metadata": {},
   "outputs": [
    {
     "data": {
      "text/plain": [
       "False"
      ]
     },
     "execution_count": 99,
     "metadata": {},
     "output_type": "execute_result"
    }
   ],
   "source": [
    "pravac.contains(T)"
   ]
  },
  {
   "cell_type": "markdown",
   "metadata": {},
   "source": [
    "<h4 style=\"background-color: #F5FFFA; color: #000000; border: 2px solid #B0C4DE; padding:5px; box-shadow: 2px 2px 6px #B0C4DE; display:inline-flex;\">Međusobni položaj pravaca</h4>\n",
    "<p style=\"text-align:center;\"><img src=\"slika23.png\"></p>\n",
    "<p>$p_1\\dotsc\\dfrac{x-1}{8}=\\dfrac{y+2}{-3}=\\dfrac{z+1}{1},\\qquad p_2\\dotsc\\dfrac{x-6}{2}=\\dfrac{y+3}{1}=\\dfrac{z-1}{3}$</p>"
   ]
  },
  {
   "cell_type": "code",
   "execution_count": 100,
   "metadata": {},
   "outputs": [],
   "source": [
    "p1=Line3D(Point3D(1,-2,-1),Point3D(9,-5,0))\n",
    "p2=Line3D(Point3D(6,-3,1),Point3D(8,-2,4))"
   ]
  },
  {
   "cell_type": "markdown",
   "metadata": {},
   "source": [
    "<p style=\"line-height:25px;\">U ovom slučaju se kut između vektora smjerova podudara s kutom između pravaca jer smo dobili arkus kosinus od pozitivnog broja.</p>"
   ]
  },
  {
   "cell_type": "code",
   "execution_count": 101,
   "metadata": {},
   "outputs": [
    {
     "data": {
      "image/png": "[encoded data removed]",
      "text/latex": [
       "$\\displaystyle \\operatorname{acos}{\\left(\\frac{8 \\sqrt{259}}{259} \\right)}$"
      ],
      "text/plain": [
       "    ⎛8⋅√259⎞\n",
       "acos⎜──────⎟\n",
       "    ⎝ 259  ⎠"
      ]
     },
     "execution_count": 101,
     "metadata": {},
     "output_type": "execute_result"
    }
   ],
   "source": [
    "kut=p1.angle_between(p2)\n",
    "kut"
   ]
  },
  {
   "cell_type": "markdown",
   "metadata": {},
   "source": [
    "<p>Kut između pravaca u radijanima</p>"
   ]
  },
  {
   "cell_type": "code",
   "execution_count": 102,
   "metadata": {},
   "outputs": [
    {
     "data": {
      "image/png": "[encoded data removed]",
      "text/latex": [
       "$\\displaystyle 1.05054778388236$"
      ],
      "text/plain": [
       "1.05054778388236"
      ]
     },
     "execution_count": 102,
     "metadata": {},
     "output_type": "execute_result"
    }
   ],
   "source": [
    "kr=N(kut)\n",
    "kr"
   ]
  },
  {
   "cell_type": "markdown",
   "metadata": {},
   "source": [
    "<p>Kut između pravaca u stupnjevima</p>"
   ]
  },
  {
   "cell_type": "code",
   "execution_count": 103,
   "metadata": {},
   "outputs": [
    {
     "data": {
      "image/png": "[encoded data removed]",
      "text/latex": [
       "$\\displaystyle 60.1919541932807$"
      ],
      "text/plain": [
       "60.1919541932807"
      ]
     },
     "execution_count": 103,
     "metadata": {},
     "output_type": "execute_result"
    }
   ],
   "source": [
    "ks=N(kut*180/pi)\n",
    "ks"
   ]
  },
  {
   "cell_type": "markdown",
   "metadata": {},
   "source": [
    "<p>Pravci su različiti.</p>"
   ]
  },
  {
   "cell_type": "code",
   "execution_count": 104,
   "metadata": {},
   "outputs": [
    {
     "data": {
      "text/plain": [
       "False"
      ]
     },
     "execution_count": 104,
     "metadata": {},
     "output_type": "execute_result"
    }
   ],
   "source": [
    "p1.contains(p2)"
   ]
  },
  {
   "cell_type": "markdown",
   "metadata": {},
   "source": [
    "<p>Pravci nisu paralelni.</p>"
   ]
  },
  {
   "cell_type": "code",
   "execution_count": 105,
   "metadata": {},
   "outputs": [
    {
     "data": {
      "text/plain": [
       "False"
      ]
     },
     "execution_count": 105,
     "metadata": {},
     "output_type": "execute_result"
    }
   ],
   "source": [
    "p1.is_parallel(p2)"
   ]
  },
  {
   "cell_type": "markdown",
   "metadata": {},
   "source": [
    "<p>Pravci nisu okomiti.</p>"
   ]
  },
  {
   "cell_type": "code",
   "execution_count": 106,
   "metadata": {},
   "outputs": [
    {
     "data": {
      "text/plain": [
       "False"
      ]
     },
     "execution_count": 106,
     "metadata": {},
     "output_type": "execute_result"
    }
   ],
   "source": [
    "p1.is_perpendicular(p2)"
   ]
  },
  {
   "cell_type": "markdown",
   "metadata": {},
   "source": [
    "<p>Pravci se sijeku u točki $S\\big(5,-\\frac{7}{2},-\\frac{1}{2}\\big)$</p>"
   ]
  },
  {
   "cell_type": "code",
   "execution_count": 107,
   "metadata": {},
   "outputs": [
    {
     "data": {
      "image/png": "[encoded data removed]",
      "text/latex": [
       "$\\displaystyle \\left[ Point3D\\left(5, - \\frac{7}{2}, - \\frac{1}{2}\\right)\\right]$"
      ],
      "text/plain": [
       "[Point3D(5, -7/2, -1/2)]"
      ]
     },
     "execution_count": 107,
     "metadata": {},
     "output_type": "execute_result"
    }
   ],
   "source": [
    "p1.intersection(p2)"
   ]
  },
  {
   "cell_type": "markdown",
   "metadata": {},
   "source": [
    "<h4 style=\"background-color: #F5FFFA; color: #000000; border: 2px solid #B0C4DE; padding:5px; box-shadow: 2px 2px 6px #B0C4DE; display:inline-flex;\">Ortogonalna projekcija točke na pravac. Simetrična točka</h4>\n",
    "<p>točka: $A(6,1,-5)$&nbsp;&nbsp;&nbsp;&nbsp;pravac: $\\frac{x-2}{3}=\\frac{y+4}{1}=\\frac{z-2}{-1}$</p>\n",
    "<p style=\"text-align:center;\"><img src=\"slika7.png\"></p>"
   ]
  },
  {
   "cell_type": "code",
   "execution_count": 108,
   "metadata": {},
   "outputs": [],
   "source": [
    "pravac=Line3D(Point3D(2,-4,2),Point3D(5,-3,1))\n",
    "A=Point3D(6,1,-5)"
   ]
  },
  {
   "cell_type": "code",
   "execution_count": 109,
   "metadata": {},
   "outputs": [
    {
     "data": {
      "image/png": "[encoded data removed]",
      "text/latex": [
       "$\\displaystyle Point3D\\left(\\frac{94}{11}, - \\frac{20}{11}, - \\frac{2}{11}\\right)$"
      ],
      "text/plain": [
       "Point3D(94/11, -20/11, -2/11)"
      ]
     },
     "execution_count": 109,
     "metadata": {},
     "output_type": "execute_result"
    }
   ],
   "source": [
    "S=pravac.projection(A)\n",
    "S"
   ]
  },
  {
   "cell_type": "markdown",
   "metadata": {},
   "source": [
    "<p>okomita dužina iz točke $A$ na zadani pravac</p>"
   ]
  },
  {
   "cell_type": "code",
   "execution_count": 110,
   "metadata": {},
   "outputs": [
    {
     "data": {
      "image/png": "[encoded data removed]",
      "text/latex": [
       "$\\displaystyle Segment3D\\left(Point3D\\left(6, 1, -5\\right), Point3D\\left(\\frac{94}{11}, - \\frac{20}{11}, - \\frac{2}{11}\\right)\\right)$"
      ],
      "text/plain": [
       "Segment3D(Point3D(6, 1, -5), Point3D(94/11, -20/11, -2/11))"
      ]
     },
     "execution_count": 110,
     "metadata": {},
     "output_type": "execute_result"
    }
   ],
   "source": [
    "pravac.perpendicular_segment(A)"
   ]
  },
  {
   "cell_type": "markdown",
   "metadata": {},
   "source": [
    "<p>normala iz točke $A$ na zadani pravac</p>"
   ]
  },
  {
   "cell_type": "code",
   "execution_count": 111,
   "metadata": {},
   "outputs": [
    {
     "data": {
      "image/png": "[encoded data removed]",
      "text/latex": [
       "$\\displaystyle Line3D\\left(Point3D\\left(6, 1, -5\\right), Point3D\\left(\\frac{94}{11}, - \\frac{20}{11}, - \\frac{2}{11}\\right)\\right)$"
      ],
      "text/plain": [
       "Line3D(Point3D(6, 1, -5), Point3D(94/11, -20/11, -2/11))"
      ]
     },
     "execution_count": 111,
     "metadata": {},
     "output_type": "execute_result"
    }
   ],
   "source": [
    "pravac.perpendicular_line(A)"
   ]
  },
  {
   "cell_type": "markdown",
   "metadata": {},
   "source": [
    "<p>Simetrična točka točke $A$ s obzirom na zadani pravac.</p>"
   ]
  },
  {
   "cell_type": "code",
   "execution_count": 112,
   "metadata": {},
   "outputs": [
    {
     "data": {
      "image/png": "[encoded data removed]",
      "text/latex": [
       "$\\displaystyle Point3D\\left(\\frac{122}{11}, - \\frac{51}{11}, \\frac{51}{11}\\right)$"
      ],
      "text/plain": [
       "Point3D(122/11, -51/11, 51/11)"
      ]
     },
     "execution_count": 112,
     "metadata": {},
     "output_type": "execute_result"
    }
   ],
   "source": [
    "S+A.direction_ratio(S)"
   ]
  },
  {
   "cell_type": "markdown",
   "metadata": {},
   "source": [
    "<p>Pravac koji prolazi točkom $A$ i paralelan je sa zadanim pravcem</p>"
   ]
  },
  {
   "cell_type": "code",
   "execution_count": 113,
   "metadata": {},
   "outputs": [
    {
     "data": {
      "image/png": "[encoded data removed]",
      "text/latex": [
       "$\\displaystyle Line3D\\left(Point3D\\left(6, 1, -5\\right), Point3D\\left(9, 2, -6\\right)\\right)$"
      ],
      "text/plain": [
       "Line3D(Point3D(6, 1, -5), Point3D(9, 2, -6))"
      ]
     },
     "execution_count": 113,
     "metadata": {},
     "output_type": "execute_result"
    }
   ],
   "source": [
    "pravac.parallel_line(A)"
   ]
  },
  {
   "cell_type": "markdown",
   "metadata": {},
   "source": [
    "<h4 style=\"background-color: #F5FFFA; color: #000000; border: 2px solid #B0C4DE; padding:5px; box-shadow: 2px 2px 6px #B0C4DE; display:inline-flex;\">Djelišni omjer</h4>\n",
    "<p style=\"text-align:center;\"><img src=\"slika15.png\"></p>"
   ]
  },
  {
   "cell_type": "code",
   "execution_count": 114,
   "metadata": {},
   "outputs": [],
   "source": [
    "A=Point3D(1,2,3)\n",
    "B=Point3D(4,0,-5)\n",
    "S=Point3D(37/16,9/8,-1/2)"
   ]
  },
  {
   "cell_type": "markdown",
   "metadata": {},
   "source": [
    "<p>Točka $S$ pripada dužini $\\overline{AB}$</p>"
   ]
  },
  {
   "cell_type": "code",
   "execution_count": 115,
   "metadata": {},
   "outputs": [
    {
     "data": {
      "image/png": "[encoded data removed]",
      "text/latex": [
       "$\\displaystyle Segment3D\\left(Point3D\\left(1, 2, 3\\right), Point3D\\left(4, 0, -5\\right)\\right)$"
      ],
      "text/plain": [
       "Segment3D(Point3D(1, 2, 3), Point3D(4, 0, -5))"
      ]
     },
     "execution_count": 115,
     "metadata": {},
     "output_type": "execute_result"
    }
   ],
   "source": [
    "AB=Segment3D(A,B)\n",
    "AB"
   ]
  },
  {
   "cell_type": "code",
   "execution_count": 116,
   "metadata": {},
   "outputs": [
    {
     "data": {
      "text/plain": [
       "True"
      ]
     },
     "execution_count": 116,
     "metadata": {},
     "output_type": "execute_result"
    }
   ],
   "source": [
    "AB.contains(S)"
   ]
  },
  {
   "cell_type": "markdown",
   "metadata": {},
   "source": [
    "$\\dfrac{|AS|}{|BS|}=\\dfrac{7}{9}$"
   ]
  },
  {
   "cell_type": "code",
   "execution_count": 117,
   "metadata": {},
   "outputs": [
    {
     "data": {
      "image/png": "[encoded data removed]",
      "text/latex": [
       "$\\displaystyle \\frac{7}{9}$"
      ],
      "text/plain": [
       "7/9"
      ]
     },
     "execution_count": 117,
     "metadata": {},
     "output_type": "execute_result"
    }
   ],
   "source": [
    "A.distance(S)/B.distance(S)"
   ]
  },
  {
   "cell_type": "markdown",
   "metadata": {},
   "source": [
    "<h4 style=\"background-color: #F5FFFA; color: #000000; border: 2px solid #B0C4DE; padding:5px; box-shadow: 2px 2px 6px #B0C4DE; display:inline-flex;\">Zajednička normala mimosmjernih pravaca</h4>\n",
    "<p>$p_1\\dotsc\\dfrac{x+2}{3}=\\dfrac{y-7}{-4}=\\dfrac{z-2}{4},\\qquad p_2\\dotsc\\dfrac{x+5}{-1}=\\dfrac{y}{1}=\\dfrac{z+3}{5}$</p>\n",
    "<p style=\"text-align:center;\"><img src=\"slika6.png\"></p>"
   ]
  },
  {
   "cell_type": "code",
   "execution_count": 118,
   "metadata": {},
   "outputs": [],
   "source": [
    "p1=Line3D(Point3D(-2,7,2),Point3D(1,3,6))\n",
    "p2=Line3D(Point3D(-5,0,-3),Point3D(-6,1,2))"
   ]
  },
  {
   "cell_type": "markdown",
   "metadata": {},
   "source": [
    "<p>Pravci su mimosmjerni.</p>"
   ]
  },
  {
   "cell_type": "code",
   "execution_count": 119,
   "metadata": {},
   "outputs": [
    {
     "data": {
      "text/plain": [
       "False"
      ]
     },
     "execution_count": 119,
     "metadata": {},
     "output_type": "execute_result"
    }
   ],
   "source": [
    "p1.is_parallel(p2)"
   ]
  },
  {
   "cell_type": "code",
   "execution_count": 120,
   "metadata": {},
   "outputs": [
    {
     "data": {
      "image/png": "[encoded data removed]",
      "text/latex": [
       "$\\displaystyle \\left[ \\right]$"
      ],
      "text/plain": [
       "[]"
      ]
     },
     "execution_count": 120,
     "metadata": {},
     "output_type": "execute_result"
    }
   ],
   "source": [
    "p1.intersection(p2)"
   ]
  },
  {
   "cell_type": "markdown",
   "metadata": {},
   "source": [
    "<p>Vektori smjerova pravaca $p_1$ i $p_2$ kao matrice</p>"
   ]
  },
  {
   "cell_type": "code",
   "execution_count": 121,
   "metadata": {},
   "outputs": [],
   "source": [
    "s1=Matrix(p1.direction_ratio)\n",
    "s2=Matrix(p2.direction_ratio)"
   ]
  },
  {
   "cell_type": "code",
   "execution_count": 122,
   "metadata": {},
   "outputs": [
    {
     "data": {
      "image/png": "[encoded data removed]",
      "text/latex": [
       "$\\displaystyle \\left( \\left[\\begin{matrix}3\\\\-4\\\\4\\end{matrix}\\right], \\  \\left[\\begin{matrix}-1\\\\1\\\\5\\end{matrix}\\right]\\right)$"
      ],
      "text/plain": [
       "⎛⎡3 ⎤  ⎡-1⎤⎞\n",
       "⎜⎢  ⎥  ⎢  ⎥⎟\n",
       "⎜⎢-4⎥, ⎢1 ⎥⎟\n",
       "⎜⎢  ⎥  ⎢  ⎥⎟\n",
       "⎝⎣4 ⎦  ⎣5 ⎦⎠"
      ]
     },
     "execution_count": 122,
     "metadata": {},
     "output_type": "execute_result"
    }
   ],
   "source": [
    "s1,s2"
   ]
  },
  {
   "cell_type": "markdown",
   "metadata": {},
   "source": [
    "<p>Vektor smjera zajedničke normale</p>"
   ]
  },
  {
   "cell_type": "code",
   "execution_count": 123,
   "metadata": {},
   "outputs": [
    {
     "data": {
      "image/png": "[encoded data removed]",
      "text/latex": [
       "$\\displaystyle \\left[\\begin{matrix}-24\\\\-19\\\\-1\\end{matrix}\\right]$"
      ],
      "text/plain": [
       "⎡-24⎤\n",
       "⎢   ⎥\n",
       "⎢-19⎥\n",
       "⎢   ⎥\n",
       "⎣-1 ⎦"
      ]
     },
     "execution_count": 123,
     "metadata": {},
     "output_type": "execute_result"
    }
   ],
   "source": [
    "nor=s1.cross(s2)\n",
    "nor"
   ]
  },
  {
   "cell_type": "markdown",
   "metadata": {},
   "source": [
    "<p>Ravnina $\\pi_1$</p>"
   ]
  },
  {
   "cell_type": "code",
   "execution_count": 124,
   "metadata": {},
   "outputs": [
    {
     "data": {
      "image/png": "[encoded data removed]",
      "text/latex": [
       "$\\displaystyle \\left[\\begin{matrix}80\\\\-93\\\\-153\\end{matrix}\\right]$"
      ],
      "text/plain": [
       "⎡ 80 ⎤\n",
       "⎢    ⎥\n",
       "⎢-93 ⎥\n",
       "⎢    ⎥\n",
       "⎣-153⎦"
      ]
     },
     "execution_count": 124,
     "metadata": {},
     "output_type": "execute_result"
    }
   ],
   "source": [
    "nor_pi1=s1.cross(nor)\n",
    "nor_pi1"
   ]
  },
  {
   "cell_type": "code",
   "execution_count": 125,
   "metadata": {},
   "outputs": [
    {
     "data": {
      "image/png": "[encoded data removed]",
      "text/latex": [
       "$\\displaystyle Plane\\left(Point3D\\left(-2, 7, 2\\right), \\left( 80, \\  -93, \\  -153\\right)\\right)$"
      ],
      "text/plain": [
       "Plane(Point3D(-2, 7, 2), (80, -93, -153))"
      ]
     },
     "execution_count": 125,
     "metadata": {},
     "output_type": "execute_result"
    }
   ],
   "source": [
    "pi1=Plane(Point3D(-2,7,2),nor_pi1)\n",
    "pi1"
   ]
  },
  {
   "cell_type": "code",
   "execution_count": 126,
   "metadata": {},
   "outputs": [
    {
     "data": {
      "image/png": "[encoded data removed]",
      "text/latex": [
       "$\\displaystyle 80 x - 93 y - 153 z + 1117$"
      ],
      "text/plain": [
       "80⋅x - 93⋅y - 153⋅z + 1117"
      ]
     },
     "execution_count": 126,
     "metadata": {},
     "output_type": "execute_result"
    }
   ],
   "source": [
    "pi1.equation()"
   ]
  },
  {
   "cell_type": "markdown",
   "metadata": {},
   "source": [
    "<p>Ravnina $\\pi_2$</p>"
   ]
  },
  {
   "cell_type": "code",
   "execution_count": 127,
   "metadata": {},
   "outputs": [
    {
     "data": {
      "image/png": "[encoded data removed]",
      "text/latex": [
       "$\\displaystyle \\left[\\begin{matrix}94\\\\-121\\\\43\\end{matrix}\\right]$"
      ],
      "text/plain": [
       "⎡ 94 ⎤\n",
       "⎢    ⎥\n",
       "⎢-121⎥\n",
       "⎢    ⎥\n",
       "⎣ 43 ⎦"
      ]
     },
     "execution_count": 127,
     "metadata": {},
     "output_type": "execute_result"
    }
   ],
   "source": [
    "nor_pi2=s2.cross(nor)\n",
    "nor_pi2"
   ]
  },
  {
   "cell_type": "code",
   "execution_count": 128,
   "metadata": {},
   "outputs": [
    {
     "data": {
      "image/png": "[encoded data removed]",
      "text/latex": [
       "$\\displaystyle Plane\\left(Point3D\\left(-5, 0, -3\\right), \\left( 94, \\  -121, \\  43\\right)\\right)$"
      ],
      "text/plain": [
       "Plane(Point3D(-5, 0, -3), (94, -121, 43))"
      ]
     },
     "execution_count": 128,
     "metadata": {},
     "output_type": "execute_result"
    }
   ],
   "source": [
    "pi2=Plane(Point3D(-5,0,-3),nor_pi2)\n",
    "pi2"
   ]
  },
  {
   "cell_type": "code",
   "execution_count": 129,
   "metadata": {},
   "outputs": [
    {
     "data": {
      "image/png": "[encoded data removed]",
      "text/latex": [
       "$\\displaystyle 94 x - 121 y + 43 z + 599$"
      ],
      "text/plain": [
       "94⋅x - 121⋅y + 43⋅z + 599"
      ]
     },
     "execution_count": 129,
     "metadata": {},
     "output_type": "execute_result"
    }
   ],
   "source": [
    "pi2.equation()"
   ]
  },
  {
   "cell_type": "markdown",
   "metadata": {},
   "source": [
    "<h5>Zajednička normala kao presjek ravnina $\\pi_1$ i $\\pi_2$</h5>"
   ]
  },
  {
   "cell_type": "code",
   "execution_count": 130,
   "metadata": {},
   "outputs": [
    {
     "data": {
      "image/png": "[encoded data removed]",
      "text/latex": [
       "$\\displaystyle Line3D\\left(Point3D\\left(- \\frac{5675}{67}, - \\frac{4077}{67}, 0\\right), Point3D\\left(- \\frac{1513979}{67}, - \\frac{1198151}{67}, -938\\right)\\right)$"
      ],
      "text/plain": [
       "Line3D(Point3D(-5675/67, -4077/67, 0), Point3D(-1513979/67, -1198151/67, -938))"
      ]
     },
     "execution_count": 130,
     "metadata": {},
     "output_type": "execute_result"
    }
   ],
   "source": [
    "normala=pi1.intersection(pi2)[0]\n",
    "normala"
   ]
  },
  {
   "cell_type": "markdown",
   "metadata": {},
   "source": [
    "<h5>Nožišta zajedničke normale na pravcima $p_1$ i $p_2$</h5>\n",
    "<p>$N_1\\left(-\\frac{59}{67},\\frac{369}{67},\\frac{234}{67}\\right)\\qquad$ $N_2\\left(-\\frac{419}{67}, \\frac{84}{67}, \\frac{219}{67}\\right)$</p>"
   ]
  },
  {
   "cell_type": "code",
   "execution_count": 131,
   "metadata": {},
   "outputs": [
    {
     "data": {
      "image/png": "[encoded data removed]",
      "text/latex": [
       "$\\displaystyle Point3D\\left(- \\frac{59}{67}, \\frac{369}{67}, \\frac{234}{67}\\right)$"
      ],
      "text/plain": [
       "Point3D(-59/67, 369/67, 234/67)"
      ]
     },
     "execution_count": 131,
     "metadata": {},
     "output_type": "execute_result"
    }
   ],
   "source": [
    "N1=normala.intersection(p1)[0]\n",
    "N1"
   ]
  },
  {
   "cell_type": "code",
   "execution_count": 132,
   "metadata": {},
   "outputs": [
    {
     "data": {
      "image/png": "[encoded data removed]",
      "text/latex": [
       "$\\displaystyle Point3D\\left(- \\frac{419}{67}, \\frac{84}{67}, \\frac{219}{67}\\right)$"
      ],
      "text/plain": [
       "Point3D(-419/67, 84/67, 219/67)"
      ]
     },
     "execution_count": 132,
     "metadata": {},
     "output_type": "execute_result"
    }
   ],
   "source": [
    "N2=normala.intersection(p2)[0]\n",
    "N2"
   ]
  },
  {
   "cell_type": "markdown",
   "metadata": {},
   "source": [
    "<h5>Udaljenost mimosmjernih pravaca</h5>"
   ]
  },
  {
   "cell_type": "code",
   "execution_count": 133,
   "metadata": {},
   "outputs": [
    {
     "data": {
      "image/png": "[encoded data removed]",
      "text/latex": [
       "$\\displaystyle \\frac{15 \\sqrt{938}}{67}$"
      ],
      "text/plain": [
       "15⋅√938\n",
       "───────\n",
       "   67  "
      ]
     },
     "execution_count": 133,
     "metadata": {},
     "output_type": "execute_result"
    }
   ],
   "source": [
    "d=N1.distance(N2)\n",
    "d"
   ]
  },
  {
   "cell_type": "code",
   "execution_count": 134,
   "metadata": {},
   "outputs": [
    {
     "data": {
      "image/png": "[encoded data removed]",
      "text/latex": [
       "$\\displaystyle 6.85674305870756$"
      ],
      "text/plain": [
       "6.85674305870756"
      ]
     },
     "execution_count": 134,
     "metadata": {},
     "output_type": "execute_result"
    }
   ],
   "source": [
    "N(d)"
   ]
  },
  {
   "cell_type": "markdown",
   "metadata": {},
   "source": [
    "<h4 style=\"background-color: #F5FFFA; color: #000000; border: 2px solid #B0C4DE; padding:5px; box-shadow: 2px 2px 6px #B0C4DE; display:inline-flex;\">Međusobni položaj pravca i ravnine</h4>\n",
    "<p style=\"text-align:center;\"><img src=\"slika24.png\"></p>\n",
    "<p>$p\\dotsc\\dfrac{x+1}{2}=\\dfrac{y}{1}=\\dfrac{z}{-1},\\qquad \\Pi\\dotsc x+2y-2z-5=0$</p>"
   ]
  },
  {
   "cell_type": "code",
   "execution_count": 135,
   "metadata": {},
   "outputs": [],
   "source": [
    "pravac=Line3D(Point3D(-1,0,0),Point3D(1,1,-1))\n",
    "ravnina=Plane(Point3D(5,0,0),(1,2,-2))"
   ]
  },
  {
   "cell_type": "markdown",
   "metadata": {},
   "source": [
    "<p style=\"line-height:25px;\">U ovom slučaju se kut između normale ravnine i vektora smjera pravca podudara s kutom između pravca i ravnine jer smo dobili arkus sinus od pozitivnog broja.</p>"
   ]
  },
  {
   "cell_type": "code",
   "execution_count": 136,
   "metadata": {},
   "outputs": [
    {
     "data": {
      "image/png": "[encoded data removed]",
      "text/latex": [
       "$\\displaystyle \\operatorname{asin}{\\left(\\frac{\\sqrt{6}}{3} \\right)}$"
      ],
      "text/plain": [
       "    ⎛√6⎞\n",
       "asin⎜──⎟\n",
       "    ⎝3 ⎠"
      ]
     },
     "execution_count": 136,
     "metadata": {},
     "output_type": "execute_result"
    }
   ],
   "source": [
    "kut=ravnina.angle_between(pravac)\n",
    "kut"
   ]
  },
  {
   "cell_type": "markdown",
   "metadata": {},
   "source": [
    "<p>kut u radijanima</p>"
   ]
  },
  {
   "cell_type": "code",
   "execution_count": 137,
   "metadata": {
    "scrolled": true
   },
   "outputs": [
    {
     "data": {
      "image/png": "[encoded data removed]",
      "text/latex": [
       "$\\displaystyle 0.955316618124509$"
      ],
      "text/plain": [
       "0.955316618124509"
      ]
     },
     "execution_count": 137,
     "metadata": {},
     "output_type": "execute_result"
    }
   ],
   "source": [
    "N(kut)"
   ]
  },
  {
   "cell_type": "markdown",
   "metadata": {},
   "source": [
    "<p>kut u stupnjevima</p>"
   ]
  },
  {
   "cell_type": "code",
   "execution_count": 138,
   "metadata": {},
   "outputs": [
    {
     "data": {
      "image/png": "[encoded data removed]",
      "text/latex": [
       "$\\displaystyle 54.7356103172453$"
      ],
      "text/plain": [
       "54.7356103172453"
      ]
     },
     "execution_count": 138,
     "metadata": {},
     "output_type": "execute_result"
    }
   ],
   "source": [
    "N(kut*180/pi)"
   ]
  },
  {
   "cell_type": "markdown",
   "metadata": {},
   "source": [
    "<p style=\"line-height:25px;\">U slučaju negativnog predznaka, vektor smjera pravca i normala ravnine zatvaraju tupi kut. Kut između pravca i ravnine je tada jednak apsolutnoj vrijednosti tog broja, tj. zaboravimo negativni predznak.</p>"
   ]
  },
  {
   "cell_type": "code",
   "execution_count": 139,
   "metadata": {},
   "outputs": [],
   "source": [
    "pravac2=Line3D(Point3D(1,1,-1),Point3D(-1,0,0))"
   ]
  },
  {
   "cell_type": "code",
   "execution_count": 140,
   "metadata": {},
   "outputs": [
    {
     "data": {
      "image/png": "[encoded data removed]",
      "text/latex": [
       "$\\displaystyle - \\operatorname{asin}{\\left(\\frac{\\sqrt{6}}{3} \\right)}$"
      ],
      "text/plain": [
       "     ⎛√6⎞\n",
       "-asin⎜──⎟\n",
       "     ⎝3 ⎠"
      ]
     },
     "execution_count": 140,
     "metadata": {},
     "output_type": "execute_result"
    }
   ],
   "source": [
    "kut=ravnina.angle_between(pravac2)\n",
    "kut"
   ]
  },
  {
   "cell_type": "markdown",
   "metadata": {},
   "source": [
    "<p>kut između vektora smjera pravca i normale ravnine u radijanima</p>"
   ]
  },
  {
   "cell_type": "code",
   "execution_count": 141,
   "metadata": {},
   "outputs": [
    {
     "data": {
      "image/png": "[encoded data removed]",
      "text/latex": [
       "$\\displaystyle 2.18627603546528$"
      ],
      "text/plain": [
       "2.18627603546528"
      ]
     },
     "execution_count": 141,
     "metadata": {},
     "output_type": "execute_result"
    }
   ],
   "source": [
    "kr=N(kut+pi)\n",
    "kr"
   ]
  },
  {
   "cell_type": "markdown",
   "metadata": {},
   "source": [
    "<p>kut između vektora smjera pravca i normale ravnine u stupnjevima</p>"
   ]
  },
  {
   "cell_type": "code",
   "execution_count": 142,
   "metadata": {},
   "outputs": [
    {
     "data": {
      "image/png": "[encoded data removed]",
      "text/latex": [
       "$\\displaystyle 125.264389682755$"
      ],
      "text/plain": [
       "125.264389682755"
      ]
     },
     "execution_count": 142,
     "metadata": {},
     "output_type": "execute_result"
    }
   ],
   "source": [
    "N(kr*180/pi)"
   ]
  },
  {
   "cell_type": "markdown",
   "metadata": {},
   "source": [
    "<p>kut između pravca i ravnine u radijanima</p>"
   ]
  },
  {
   "cell_type": "code",
   "execution_count": 143,
   "metadata": {},
   "outputs": [
    {
     "data": {
      "image/png": "[encoded data removed]",
      "text/latex": [
       "$\\displaystyle 0.955316618124509$"
      ],
      "text/plain": [
       "0.955316618124509"
      ]
     },
     "execution_count": 143,
     "metadata": {},
     "output_type": "execute_result"
    }
   ],
   "source": [
    "kr=N(Abs(kut))\n",
    "kr"
   ]
  },
  {
   "cell_type": "markdown",
   "metadata": {},
   "source": [
    "<p>kut između pravca i ravnine u stupnjevima</p>"
   ]
  },
  {
   "cell_type": "code",
   "execution_count": 144,
   "metadata": {},
   "outputs": [
    {
     "data": {
      "image/png": "[encoded data removed]",
      "text/latex": [
       "$\\displaystyle 54.7356103172453$"
      ],
      "text/plain": [
       "54.7356103172453"
      ]
     },
     "execution_count": 144,
     "metadata": {},
     "output_type": "execute_result"
    }
   ],
   "source": [
    "N(kr*180/pi)"
   ]
  },
  {
   "cell_type": "markdown",
   "metadata": {},
   "source": [
    "<p>Pravac i ravnina nisu paralelni.</p>"
   ]
  },
  {
   "cell_type": "code",
   "execution_count": 145,
   "metadata": {},
   "outputs": [
    {
     "data": {
      "text/plain": [
       "False"
      ]
     },
     "execution_count": 145,
     "metadata": {},
     "output_type": "execute_result"
    }
   ],
   "source": [
    "ravnina.is_parallel(pravac)"
   ]
  },
  {
   "cell_type": "markdown",
   "metadata": {},
   "source": [
    "<p>Pravac i ravnina nisu okomiti.</p>"
   ]
  },
  {
   "cell_type": "code",
   "execution_count": 146,
   "metadata": {},
   "outputs": [
    {
     "data": {
      "text/plain": [
       "False"
      ]
     },
     "execution_count": 146,
     "metadata": {},
     "output_type": "execute_result"
    }
   ],
   "source": [
    "ravnina.is_perpendicular(pravac)"
   ]
  },
  {
   "cell_type": "markdown",
   "metadata": {},
   "source": [
    "<p>Pravac i ravnina se sijeku u točki $S(1,1,-1)$.</p>"
   ]
  },
  {
   "cell_type": "code",
   "execution_count": 147,
   "metadata": {},
   "outputs": [
    {
     "data": {
      "image/png": "[encoded data removed]",
      "text/latex": [
       "$\\displaystyle \\left[ Point3D\\left(1, 1, -1\\right)\\right]$"
      ],
      "text/plain": [
       "[Point3D(1, 1, -1)]"
      ]
     },
     "execution_count": 147,
     "metadata": {},
     "output_type": "execute_result"
    }
   ],
   "source": [
    "ravnina.intersection(pravac)"
   ]
  },
  {
   "cell_type": "markdown",
   "metadata": {},
   "source": [
    "<h4 style=\"background-color: #F5FFFA; color: #000000; border: 2px solid #B0C4DE; padding:5px; box-shadow: 2px 2px 6px #B0C4DE; display:inline-flex;\">Ortogonalna projekcija pravca na ravninu. Simetrični pravac</h4>\n",
    "<p>$p\\dotsc\\dfrac{x+1}{2}=\\dfrac{y}{1}=\\dfrac{z}{-1},\\qquad \\Pi\\dotsc x+2y-2z-5=0$</p>\n",
    "<p style=\"text-align:center;\"><img src=\"slika5.png\"></p>"
   ]
  },
  {
   "cell_type": "code",
   "execution_count": 148,
   "metadata": {},
   "outputs": [],
   "source": [
    "pravac=Line3D(Point3D(-1,0,0),Point3D(1,1,-1))\n",
    "ravnina=Plane(Point3D(5,0,0),(1,2,-2))"
   ]
  },
  {
   "cell_type": "markdown",
   "metadata": {},
   "source": [
    "<p>Ortogonalna projekcija pravca na ravninu</p>"
   ]
  },
  {
   "cell_type": "code",
   "execution_count": 149,
   "metadata": {},
   "outputs": [
    {
     "data": {
      "image/png": "[encoded data removed]",
      "text/latex": [
       "$\\displaystyle Line3D\\left(Point3D\\left(- \\frac{1}{3}, \\frac{4}{3}, - \\frac{4}{3}\\right), Point3D\\left(1, 1, -1\\right)\\right)$"
      ],
      "text/plain": [
       "Line3D(Point3D(-1/3, 4/3, -4/3), Point3D(1, 1, -1))"
      ]
     },
     "execution_count": 149,
     "metadata": {},
     "output_type": "execute_result"
    }
   ],
   "source": [
    "orto_pr=ravnina.projection_line(pravac)\n",
    "orto_pr"
   ]
  },
  {
   "cell_type": "markdown",
   "metadata": {},
   "source": [
    "<p>Parametarske jednadžbe ortogonalne projekcije pravca $p$ na ravninu $\\Pi$</p>"
   ]
  },
  {
   "cell_type": "code",
   "execution_count": 150,
   "metadata": {},
   "outputs": [
    {
     "data": {
      "image/png": "[encoded data removed]",
      "text/latex": [
       "$\\displaystyle Point3D\\left(\\frac{4 u}{3} - \\frac{1}{3}, \\frac{4}{3} - \\frac{u}{3}, \\frac{u}{3} - \\frac{4}{3}\\right)$"
      ],
      "text/plain": [
       "Point3D(4*u/3 - 1/3, 4/3 - u/3, u/3 - 4/3)"
      ]
     },
     "execution_count": 150,
     "metadata": {},
     "output_type": "execute_result"
    }
   ],
   "source": [
    "orto_pr.arbitrary_point(u)"
   ]
  },
  {
   "cell_type": "markdown",
   "metadata": {},
   "source": [
    "<p>Parametarske jednadžbe simetričnog pravca od pravca $p$ s obzirom na ravninu $\\Pi$</p>"
   ]
  },
  {
   "cell_type": "code",
   "execution_count": 151,
   "metadata": {},
   "outputs": [],
   "source": [
    "S=ravnina.intersection(pravac)[0]\n",
    "ortT=ravnina.projection(pravac.p1)\n",
    "simT=ortT+(pravac.p1).direction_ratio(ortT)"
   ]
  },
  {
   "cell_type": "code",
   "execution_count": 152,
   "metadata": {},
   "outputs": [
    {
     "data": {
      "image/png": "[encoded data removed]",
      "text/latex": [
       "$\\displaystyle Point3D\\left(1 - \\frac{2 u}{3}, \\frac{5 u}{3} + 1, - \\frac{5 u}{3} - 1\\right)$"
      ],
      "text/plain": [
       "Point3D(1 - 2*u/3, 5*u/3 + 1, -5*u/3 - 1)"
      ]
     },
     "execution_count": 152,
     "metadata": {},
     "output_type": "execute_result"
    }
   ],
   "source": [
    "sim_pr=Line3D(S,simT)\n",
    "sim_pr.arbitrary_point(u)"
   ]
  },
  {
   "cell_type": "markdown",
   "metadata": {},
   "source": [
    "<p>Pravac koji prolazi točkom $T(-1,0,0)$ i okomit je na ravninu $\\Pi$</p>"
   ]
  },
  {
   "cell_type": "code",
   "execution_count": 153,
   "metadata": {},
   "outputs": [
    {
     "data": {
      "image/png": "[encoded data removed]",
      "text/latex": [
       "$\\displaystyle Line3D\\left(Point3D\\left(-1, 0, 0\\right), Point3D\\left(0, 2, -2\\right)\\right)$"
      ],
      "text/plain": [
       "Line3D(Point3D(-1, 0, 0), Point3D(0, 2, -2))"
      ]
     },
     "execution_count": 153,
     "metadata": {},
     "output_type": "execute_result"
    }
   ],
   "source": [
    "okomica=ravnina.perpendicular_line(Point3D(-1,0,0))\n",
    "okomica"
   ]
  },
  {
   "cell_type": "code",
   "execution_count": 154,
   "metadata": {},
   "outputs": [
    {
     "data": {
      "image/png": "[encoded data removed]",
      "text/latex": [
       "$\\displaystyle Point3D\\left(u - 1, 2 u, - 2 u\\right)$"
      ],
      "text/plain": [
       "Point3D(u - 1, 2*u, -2*u)"
      ]
     },
     "execution_count": 154,
     "metadata": {},
     "output_type": "execute_result"
    }
   ],
   "source": [
    "okomica.arbitrary_point(u)"
   ]
  },
  {
   "cell_type": "markdown",
   "metadata": {},
   "source": [
    "<div style=\"background-color: #F5FFFA; color: #000000; border: 2px solid #B0C4DE; border-radius: 15px; padding:0px 10px 25px;\">\n",
    "<h3>Zadatak</h3>\n",
    "<p style=\"line-height:30px;\">Napišite jednadžbu ravnine koja prolazi točkom $B(-1,2,-4)$, a okomita je na ravnine $\\Pi_1\\dotsc x+3y-2z+5=0$ i $\\Pi_2\\dotsc -4x+5y-z+3=0$.</p>\n",
    "</div>\n",
    "<h3>Rješenje</h3>\n",
    "<p style=\"text-align:center;\"><img src=\"slika1.png\"></p>"
   ]
  },
  {
   "cell_type": "code",
   "execution_count": 155,
   "metadata": {},
   "outputs": [],
   "source": [
    "B=Point3D(-1,2,-4)\n",
    "nor1=Matrix([1,3,-2])\n",
    "nor2=Matrix([-4,5,-1])"
   ]
  },
  {
   "cell_type": "code",
   "execution_count": 156,
   "metadata": {},
   "outputs": [
    {
     "data": {
      "image/png": "[encoded data removed]",
      "text/latex": [
       "$\\displaystyle \\left[\\begin{matrix}7\\\\9\\\\17\\end{matrix}\\right]$"
      ],
      "text/plain": [
       "⎡7 ⎤\n",
       "⎢  ⎥\n",
       "⎢9 ⎥\n",
       "⎢  ⎥\n",
       "⎣17⎦"
      ]
     },
     "execution_count": 156,
     "metadata": {},
     "output_type": "execute_result"
    }
   ],
   "source": [
    "nor3=nor1.cross(nor2)\n",
    "nor3"
   ]
  },
  {
   "cell_type": "code",
   "execution_count": 157,
   "metadata": {},
   "outputs": [
    {
     "data": {
      "image/png": "[encoded data removed]",
      "text/latex": [
       "$\\displaystyle \\left( 7, \\  9, \\  17\\right)$"
      ],
      "text/plain": [
       "(7, 9, 17)"
      ]
     },
     "execution_count": 157,
     "metadata": {},
     "output_type": "execute_result"
    }
   ],
   "source": [
    "tuple(nor3)"
   ]
  },
  {
   "cell_type": "markdown",
   "metadata": {},
   "source": [
    "Tražena ravnina: $7x+9y+17z+57=0$"
   ]
  },
  {
   "cell_type": "code",
   "execution_count": 158,
   "metadata": {},
   "outputs": [
    {
     "data": {
      "image/png": "[encoded data removed]",
      "text/latex": [
       "$\\displaystyle 7 x + 9 y + 17 z + 57$"
      ],
      "text/plain": [
       "7⋅x + 9⋅y + 17⋅z + 57"
      ]
     },
     "execution_count": 158,
     "metadata": {},
     "output_type": "execute_result"
    }
   ],
   "source": [
    "rav=Plane(B,nor3)\n",
    "rav.equation()"
   ]
  },
  {
   "cell_type": "markdown",
   "metadata": {},
   "source": [
    "<div style=\"background-color: #F5FFFA; color: #000000; border: 2px solid #B0C4DE; border-radius: 15px; padding:0px 10px 25px;\">\n",
    "<h3>Zadatak</h3>\n",
    "<p style=\"line-height:30px;\">Za koju vrijednost parametra $a\\in\\mathbb{R}$ se sijeku pravci $p_1\\dotsc\\frac{x-a}{4}=\\frac{y-2}{3}=\\frac{z}{1}$ i $p_2\\dotsc\\frac{x+3}{-1}=\\frac{y+a}{5}=\\frac{z+1}{1}$. Odredite u tom slučaju jednadžbu ravnine koja sadrži pravce $p_1$ i $p_2$.</p>\n",
    "</div>\n",
    "<h3>Rješenje</h3>\n",
    "<p style=\"text-align:center;\"><img src=\"slika4.png\"></p>"
   ]
  },
  {
   "cell_type": "code",
   "execution_count": 159,
   "metadata": {},
   "outputs": [],
   "source": [
    "a=var('a')\n",
    "s1=Matrix([4,3,1])\n",
    "s2=Matrix([-1,5,1])\n",
    "T1=Matrix([a,2,0])\n",
    "T2=Matrix([-3,-a,-1])\n",
    "vek=T2-T1"
   ]
  },
  {
   "cell_type": "markdown",
   "metadata": {},
   "source": [
    "<p>Uvjet komplanarnosti pravaca</p>"
   ]
  },
  {
   "cell_type": "code",
   "execution_count": 160,
   "metadata": {},
   "outputs": [
    {
     "data": {
      "image/png": "[encoded data removed]",
      "text/latex": [
       "$\\displaystyle 7 a - 7$"
      ],
      "text/plain": [
       "7⋅a - 7"
      ]
     },
     "execution_count": 160,
     "metadata": {},
     "output_type": "execute_result"
    }
   ],
   "source": [
    "uvjet=vek.cross(s1).dot(s2)\n",
    "uvjet"
   ]
  },
  {
   "cell_type": "markdown",
   "metadata": {},
   "source": [
    "<p>Pravci su komplanarni jedino za $a=1$.</p>"
   ]
  },
  {
   "cell_type": "code",
   "execution_count": 161,
   "metadata": {},
   "outputs": [
    {
     "data": {
      "image/png": "[encoded data removed]",
      "text/latex": [
       "$\\displaystyle \\left[ 1\\right]$"
      ],
      "text/plain": [
       "[1]"
      ]
     },
     "execution_count": 161,
     "metadata": {},
     "output_type": "execute_result"
    }
   ],
   "source": [
    "solve(uvjet,a)"
   ]
  },
  {
   "cell_type": "code",
   "execution_count": 162,
   "metadata": {},
   "outputs": [
    {
     "data": {
      "image/png": "[encoded data removed]",
      "text/latex": [
       "$\\displaystyle \\left( Point3D\\left(1, 2, 0\\right), \\  Point3D\\left(-3, -1, -1\\right)\\right)$"
      ],
      "text/plain": [
       "(Point3D(1, 2, 0), Point3D(-3, -1, -1))"
      ]
     },
     "execution_count": 162,
     "metadata": {},
     "output_type": "execute_result"
    }
   ],
   "source": [
    "T1=Point3D(T1).subs({a:1})\n",
    "T2=Point3D(T2).subs({a:1})\n",
    "T1,T2"
   ]
  },
  {
   "cell_type": "markdown",
   "metadata": {},
   "source": [
    "<p style=\"line-height:25px;\">Ravnina $\\pi$ koja sadrži pravce $p_1$ i $p_2$ prolazi npr. kroz točku $T_1$ i ima normalu $\\vec{n}_{\\pi}=\\vec{s}_1\\times\\vec{s}_2$.</p>"
   ]
  },
  {
   "cell_type": "code",
   "execution_count": 163,
   "metadata": {},
   "outputs": [
    {
     "data": {
      "image/png": "[encoded data removed]",
      "text/latex": [
       "$\\displaystyle \\left[\\begin{matrix}-2\\\\-5\\\\23\\end{matrix}\\right]$"
      ],
      "text/plain": [
       "⎡-2⎤\n",
       "⎢  ⎥\n",
       "⎢-5⎥\n",
       "⎢  ⎥\n",
       "⎣23⎦"
      ]
     },
     "execution_count": 163,
     "metadata": {},
     "output_type": "execute_result"
    }
   ],
   "source": [
    "nor=s1.cross(s2)\n",
    "nor"
   ]
  },
  {
   "cell_type": "markdown",
   "metadata": {},
   "source": [
    "<p>Jednadžba tražene ravnine: $-2x-5y+23z+12=0$</p>"
   ]
  },
  {
   "cell_type": "code",
   "execution_count": 164,
   "metadata": {},
   "outputs": [
    {
     "data": {
      "image/png": "[encoded data removed]",
      "text/latex": [
       "$\\displaystyle - 2 x - 5 y + 23 z + 12$"
      ],
      "text/plain": [
       "-2⋅x - 5⋅y + 23⋅z + 12"
      ]
     },
     "execution_count": 164,
     "metadata": {},
     "output_type": "execute_result"
    }
   ],
   "source": [
    "rav=Plane(T1,nor)\n",
    "rav.equation()"
   ]
  },
  {
   "cell_type": "markdown",
   "metadata": {},
   "source": [
    "<div style=\"background-color: #F5FFFA; color: #000000; border: 2px solid #B0C4DE; border-radius: 15px; padding:0px 10px 25px;\">\n",
    "<h3>Zadatak</h3>\n",
    "<p style=\"line-height:30px;\">Odredite vektor smjera pravca $q$ koji prolazi točkom $T(1,0,4)$ i siječe pravac $p\\dotsc\\frac{x-2}{1}=\\frac{y-1}{-1}=\\frac{z+1}{0}$ te je paralelan s ravninom $\\Sigma\\dotsc -2y+z-1=0$.</p>\n",
    "</div>\n",
    "<h3>Rješenje</h3>\n",
    "<p style=\"text-align:center;\"><img src=\"slika2.png\"></p>"
   ]
  },
  {
   "cell_type": "code",
   "execution_count": 165,
   "metadata": {},
   "outputs": [],
   "source": [
    "pravac=Line3D(Point3D(2,1,-1),Point3D(3,0,-1))\n",
    "T=Point3D(1,0,4)\n",
    "nor=Matrix([0,-2,1])"
   ]
  },
  {
   "cell_type": "markdown",
   "metadata": {},
   "source": [
    "<p>Neka je točka $S$ presjek pravaca $p$ i $q$.</p>"
   ]
  },
  {
   "cell_type": "code",
   "execution_count": 166,
   "metadata": {},
   "outputs": [
    {
     "data": {
      "image/png": "[encoded data removed]",
      "text/latex": [
       "$\\displaystyle \\left[ - t - 1, \\  t - 1, \\  5\\right]$"
      ],
      "text/plain": [
       "[-t - 1, t - 1, 5]"
      ]
     },
     "execution_count": 166,
     "metadata": {},
     "output_type": "execute_result"
    }
   ],
   "source": [
    "t=var('t')\n",
    "S=pravac.arbitrary_point(t)\n",
    "ST=S.direction_ratio(T)\n",
    "ST"
   ]
  },
  {
   "cell_type": "markdown",
   "metadata": {},
   "source": [
    "<p style=\"line-height:35px;\">Kako je pravac $q$ paralelan s ravninom $\\Sigma$, mora vrijediti $\\overrightarrow{ST}\\cdot\\vec{n}_{\\Sigma}=0$.</p>"
   ]
  },
  {
   "cell_type": "code",
   "execution_count": 167,
   "metadata": {},
   "outputs": [
    {
     "data": {
      "image/png": "[encoded data removed]",
      "text/latex": [
       "$\\displaystyle 7 - 2 t$"
      ],
      "text/plain": [
       "7 - 2⋅t"
      ]
     },
     "execution_count": 167,
     "metadata": {},
     "output_type": "execute_result"
    }
   ],
   "source": [
    "sp=Matrix(ST).dot(nor)\n",
    "sp"
   ]
  },
  {
   "cell_type": "code",
   "execution_count": 168,
   "metadata": {},
   "outputs": [
    {
     "data": {
      "image/png": "[encoded data removed]",
      "text/latex": [
       "$\\displaystyle \\left[ \\frac{7}{2}\\right]$"
      ],
      "text/plain": [
       "[7/2]"
      ]
     },
     "execution_count": 168,
     "metadata": {},
     "output_type": "execute_result"
    }
   ],
   "source": [
    "rj=solve(sp,t)\n",
    "rj"
   ]
  },
  {
   "cell_type": "markdown",
   "metadata": {},
   "source": [
    "<p>Možemo uzeti $\\vec{s}_{q}=2\\cdot\\overrightarrow{ST}=(-9,5,10)$</p>"
   ]
  },
  {
   "cell_type": "code",
   "execution_count": 169,
   "metadata": {},
   "outputs": [
    {
     "data": {
      "image/png": "[encoded data removed]",
      "text/latex": [
       "$\\displaystyle \\left[\\begin{matrix}-9\\\\5\\\\10\\end{matrix}\\right]$"
      ],
      "text/plain": [
       "⎡-9⎤\n",
       "⎢  ⎥\n",
       "⎢5 ⎥\n",
       "⎢  ⎥\n",
       "⎣10⎦"
      ]
     },
     "execution_count": 169,
     "metadata": {},
     "output_type": "execute_result"
    }
   ],
   "source": [
    "2*Matrix(ST).subs({t:rj[0]})"
   ]
  },
  {
   "cell_type": "markdown",
   "metadata": {},
   "source": [
    "<div style=\"background-color: #F5FFFA; color: #000000; border: 2px solid #B0C4DE; border-radius: 15px; padding:0px 10px 25px;\">\n",
    "<h3>Zadatak</h3>\n",
    "<p style=\"line-height:30px;\">Zraka svjetlosti prolazi točkom $T(-2,-1,1)$ i kreće se u smjeru vektora $\\vec{v}=(-1,0,-1)$ te se reflektira na ravnini $\\Pi_1\\dotsc x+y-2z=0$. U kojoj točki reflektirana zraka siječe ravninu $\\Pi_2\\dotsc x+y+z+18=0$?</p>\n",
    "</div>\n",
    "<h3>Rješenje</h3>\n",
    "<p style=\"text-align:center;\"><img src=\"slika3.png\" width=\"500\"></p>"
   ]
  },
  {
   "cell_type": "code",
   "execution_count": 170,
   "metadata": {},
   "outputs": [],
   "source": [
    "T=Point3D(-2,-1,1)\n",
    "vek=Point3D(-1,0,-1)\n",
    "zraka=Line3D(T,T+vek)\n",
    "pi1=Plane(Point3D(0,0,0),(1,1,-2))\n",
    "pi2=Plane(Point3D(-18,0,0),(1,1,1))"
   ]
  },
  {
   "cell_type": "markdown",
   "metadata": {},
   "source": [
    "<p>Točka $S(-7,-1,-4)$ je presjek zrake i ravnine $\\pi_1$.</p>"
   ]
  },
  {
   "cell_type": "code",
   "execution_count": 171,
   "metadata": {},
   "outputs": [
    {
     "data": {
      "image/png": "[encoded data removed]",
      "text/latex": [
       "$\\displaystyle Point3D\\left(-7, -1, -4\\right)$"
      ],
      "text/plain": [
       "Point3D(-7, -1, -4)"
      ]
     },
     "execution_count": 171,
     "metadata": {},
     "output_type": "execute_result"
    }
   ],
   "source": [
    "S=pi1.intersection(zraka)[0]\n",
    "S"
   ]
  },
  {
   "cell_type": "markdown",
   "metadata": {},
   "source": [
    "<p style=\"line-height:30px;\">Zraka siječe ravninu jer je $t>0$. Zraka je polupravac pa moramo poštivati i orijentaciju vektora $\\vec{v}$.</p>"
   ]
  },
  {
   "cell_type": "code",
   "execution_count": 172,
   "metadata": {},
   "outputs": [
    {
     "data": {
      "image/png": "[encoded data removed]",
      "text/latex": [
       "$\\displaystyle \\left\\{ t : 5\\right\\}$"
      ],
      "text/plain": [
       "{t: 5}"
      ]
     },
     "execution_count": 172,
     "metadata": {},
     "output_type": "execute_result"
    }
   ],
   "source": [
    "zraka.parameter_value(S,t)"
   ]
  },
  {
   "cell_type": "markdown",
   "metadata": {},
   "source": [
    "<p style=\"line-height:25px;\">Neka je $q$ pravac okomit na ravninu $\\Pi_1$ koji prolazi kroz točku $S$. Neka je $P$ ortogonalna projekcija točke $T$ na pravac $q$.</p>"
   ]
  },
  {
   "cell_type": "code",
   "execution_count": 173,
   "metadata": {},
   "outputs": [
    {
     "data": {
      "image/png": "[encoded data removed]",
      "text/latex": [
       "$\\displaystyle Point3D\\left(- \\frac{47}{6}, - \\frac{11}{6}, - \\frac{7}{3}\\right)$"
      ],
      "text/plain": [
       "Point3D(-47/6, -11/6, -7/3)"
      ]
     },
     "execution_count": 173,
     "metadata": {},
     "output_type": "execute_result"
    }
   ],
   "source": [
    "okomica=pi1.perpendicular_line(S)\n",
    "P=okomica.projection(T)\n",
    "P"
   ]
  },
  {
   "cell_type": "markdown",
   "metadata": {},
   "source": [
    "<p>Neka je $T'$ simetrična točka točke $T$ s obzirom na pravac $q$.</p>"
   ]
  },
  {
   "cell_type": "code",
   "execution_count": 174,
   "metadata": {},
   "outputs": [
    {
     "data": {
      "image/png": "[encoded data removed]",
      "text/latex": [
       "$\\displaystyle Point3D\\left(- \\frac{41}{3}, - \\frac{8}{3}, - \\frac{17}{3}\\right)$"
      ],
      "text/plain": [
       "Point3D(-41/3, -8/3, -17/3)"
      ]
     },
     "execution_count": 174,
     "metadata": {},
     "output_type": "execute_result"
    }
   ],
   "source": [
    "Tc=P+T.direction_ratio(P)\n",
    "Tc"
   ]
  },
  {
   "cell_type": "markdown",
   "metadata": {},
   "source": [
    "<p style=\"line-height:25px;\">Reflektirana zraka je polupravac s početkom u točki $S$ koji prolazi točkom $T'$. Reflektirana zraka siječe ravninu $\\Pi_2$ u točki $S'(-11,-2,-5)$.</p>"
   ]
  },
  {
   "cell_type": "code",
   "execution_count": 175,
   "metadata": {},
   "outputs": [
    {
     "data": {
      "image/png": "[encoded data removed]",
      "text/latex": [
       "$\\displaystyle Point3D\\left(-11, -2, -5\\right)$"
      ],
      "text/plain": [
       "Point3D(-11, -2, -5)"
      ]
     },
     "execution_count": 175,
     "metadata": {},
     "output_type": "execute_result"
    }
   ],
   "source": [
    "reflektirana_zraka=Line3D(S,Tc)\n",
    "Sc=pi2.intersection(reflektirana_zraka)[0]\n",
    "Sc"
   ]
  },
  {
   "cell_type": "markdown",
   "metadata": {},
   "source": [
    "<p>Reflektirana zraka siječe ravninu $\\Pi_2$ jer je $t>0$.</p>"
   ]
  },
  {
   "cell_type": "code",
   "execution_count": 176,
   "metadata": {},
   "outputs": [
    {
     "data": {
      "image/png": "[encoded data removed]",
      "text/latex": [
       "$\\displaystyle \\left\\{ t : \\frac{3}{5}\\right\\}$"
      ],
      "text/plain": [
       "{t: 3/5}"
      ]
     },
     "execution_count": 176,
     "metadata": {},
     "output_type": "execute_result"
    }
   ],
   "source": [
    "reflektirana_zraka.parameter_value(Sc,t)"
   ]
  },
  {
   "cell_type": "code",
   "execution_count": null,
   "metadata": {},
   "outputs": [],
   "source": []
  }
 ],
 "metadata": {
  "kernelspec": {
   "display_name": "Python 3 (ipykernel)",
   "language": "python",
   "name": "python3"
  },
  "language_info": {
   "codemirror_mode": {
    "name": "ipython",
    "version": 3
   },
   "file_extension": ".py",
   "mimetype": "text/x-python",
   "name": "python",
   "nbconvert_exporter": "python",
   "pygments_lexer": "ipython3",
   "version": "3.9.6"
  }
 },
 "nbformat": 4,
 "nbformat_minor": 4
}
