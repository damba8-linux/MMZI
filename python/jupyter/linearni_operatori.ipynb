{
 "cells": [
  {
   "cell_type": "markdown",
   "metadata": {},
   "source": [
    "<h1>Linearni operatori u pythonu</h1>"
   ]
  },
  {
   "cell_type": "code",
   "execution_count": 1,
   "metadata": {},
   "outputs": [],
   "source": [
    "import platform"
   ]
  },
  {
   "cell_type": "code",
   "execution_count": 2,
   "metadata": {},
   "outputs": [
    {
     "data": {
      "text/plain": [
       "'Linux-5.4.143-1-MANJARO-x86_64-with-glibc2.33'"
      ]
     },
     "execution_count": 2,
     "metadata": {},
     "output_type": "execute_result"
    }
   ],
   "source": [
    "platform.platform()"
   ]
  },
  {
   "cell_type": "code",
   "execution_count": 3,
   "metadata": {},
   "outputs": [
    {
     "data": {
      "text/plain": [
       "'3.9.6'"
      ]
     },
     "execution_count": 3,
     "metadata": {},
     "output_type": "execute_result"
    }
   ],
   "source": [
    "platform.python_version()"
   ]
  },
  {
   "cell_type": "code",
   "execution_count": 4,
   "metadata": {},
   "outputs": [],
   "source": [
    "import numpy as np"
   ]
  },
  {
   "cell_type": "code",
   "execution_count": 5,
   "metadata": {},
   "outputs": [],
   "source": [
    "import numpy.linalg as LA"
   ]
  },
  {
   "cell_type": "code",
   "execution_count": 6,
   "metadata": {},
   "outputs": [
    {
     "data": {
      "text/plain": [
       "'1.20.3'"
      ]
     },
     "execution_count": 6,
     "metadata": {},
     "output_type": "execute_result"
    }
   ],
   "source": [
    "np.__version__"
   ]
  },
  {
   "cell_type": "code",
   "execution_count": 7,
   "metadata": {},
   "outputs": [],
   "source": [
    "import sympy as sp"
   ]
  },
  {
   "cell_type": "code",
   "execution_count": 8,
   "metadata": {},
   "outputs": [
    {
     "data": {
      "text/plain": [
       "'1.8'"
      ]
     },
     "execution_count": 8,
     "metadata": {},
     "output_type": "execute_result"
    }
   ],
   "source": [
    "sp.__version__"
   ]
  },
  {
   "cell_type": "code",
   "execution_count": 9,
   "metadata": {},
   "outputs": [],
   "source": [
    "sp.init_printing()"
   ]
  },
  {
   "cell_type": "markdown",
   "metadata": {},
   "source": [
    "<p style=\"line-height:25px;\">U datoteci <a href=\"../MMZI.py\" target=\"_blank\">MMZI.py</a> implementirane su funkcije <span style=\"color:red; font-style:italic;\">matrica_prijelaza</span>, <span style=\"color:red; font-style:italic;\">operator_kan</span>, <span style=\"color:red; font-style:italic;\">operator_kanbaza</span> i <span style=\"color:red; font-style:italic;\">operator_baza</span> koje ubrzavaju pronalaženje matrice linearnog operatora u zadanom paru baza.</p>"
   ]
  },
  {
   "cell_type": "markdown",
   "metadata": {},
   "source": [
    "<p style=\"line-height:25px;\">Prve dvije naredbe su potrebne da python traži modul i u roditeljskom direktoriju od tekućeg direktorija. Ovisno o tome gdje se MMZI.py datoteka nalazi, po potrebi treba modificirati drugi redak u donjoj ćeliji. Ako je MMZI.py datoteka u tekućem direktoriju ili na nekoj stazi koju python \"poznaje\", onda prve dvije naredbe nisu uopće potrebne.</p>"
   ]
  },
  {
   "cell_type": "code",
   "execution_count": 10,
   "metadata": {},
   "outputs": [],
   "source": [
    "import sys\n",
    "sys.path.append(\"..\")\n",
    "import MMZI"
   ]
  },
  {
   "cell_type": "markdown",
   "metadata": {},
   "source": [
    "<p style=\"line-height:25px;\">Nećemo opisivati navedene funkcije jer postoje napisane kratke informacije o njima unutar samih implementacija. U nastavku su prikazana tri načina dobivanja tih informacija. Naravno, uvijek možete i direktno otvoriti MMZI.py datoteku i pogledati help koji se nalazi unutar samog koda.</p>"
   ]
  },
  {
   "cell_type": "code",
   "execution_count": 11,
   "metadata": {},
   "outputs": [
    {
     "name": "stdout",
     "output_type": "stream",
     "text": [
      "Help on function operator_baza in module MMZI:\n",
      "\n",
      "operator_baza(f, bazaD1, bazaD2, bazaK1=None, bazaK2=None, klasa='sympy')\n",
      "    Ova funkcija je poopcenje funkcije operator_kanbaza. Ona daje\n",
      "    matricni prikaz linearnog operatora f u paru baza (bazaD2,bazaK2)\n",
      "    ako je on zadan u paru baza (bazaD1,bazaK1).\n",
      "    Ako bazaK1 nije eksplicitno navedena, podrazumijeva se da je bazaK1=bazaD1.\n",
      "    Ako bazaK2 nije eksplicitno navedena, podrazumijeva se da je bazaK2=bazaD2.\n",
      "    \n",
      "    Linearni operator f moze biti:\n",
      "      * prethodno definiran kao funkcija u paru baza (bazaD1,bazaK1)\n",
      "      * definiran na ulazu kao lambda funkcija u paru baza (bazaD1,bazaK1)\n",
      "      * definiran svojim matricnim zapisom u paru baza (bazaD1,bazaK1), \n",
      "        pri cemu matrica mora pripadati klasi navedenoj u varijabli 'klasa'\n",
      "    \n",
      "    --- 1. PRIMJER ---\n",
      "    \n",
      "    Neka je [[2,0],[-1,0]] matrica operatora u paru baza {(1,1),(1,0)} i {(1,0),(0,1)}.\n",
      "    Trazimo matricu tog operatora u bazi B={(1,0),(1,1)}.\n",
      "    Dakle, u ovom slucaju je bazaD1={(1,1),(1,0)}, bazaD2=B, bazaK1={(1,0),(0,1)}, bazaK2=B.\n",
      "    U ovom slucaju je bazaK2=bazaD2 pa ju nema potrebe dolje pisati na zadnjem mjestu.\n",
      "    \n",
      "    operator_baza(sp.Matrix([[2,0],[-1,0]]), [(1,1),(1,0)], [(1,0),(1,1)], [(1,0),(0,1)])\n",
      "    operator_baza(np.array([[2,0],[-1,0]]), bazaD1=[(1,1),(1,0)], bazaD2=[(1,0),(1,1)], bazaK1=[(1,0),(0,1)], klasa='numpy')\n",
      "    \n",
      "    --- 2. PRIMJER ---\n",
      "    \n",
      "    Neka je [[1,0,2],[1,1,1],[1,0,1]] matrica linearnog operatora u bazi {(1,1,1),(1,2,1),(0,1,2)}.\n",
      "    Trazimo matricu tog operatora u bazi {(1,0,1),(-1,0,1),(0,2,0)}.\n",
      "    U ovom slucaju je bazaD1={(1,1,1),(1,2,1),(0,1,2)}, bazaD2={(1,0,1),(-1,0,1),(0,2,0)}, bazaK1=bazaD1, bazaK2=bazaD2.\n",
      "    Kako je bazaK1=bazaD1, bazaK2=bazaD2, nema potrebe posebno pisati baze bazaK1, bazaK2 kod poziva funkcije.\n",
      "    \n",
      "    operator_baza(sp.Matrix([[1,0,2],[1,1,1],[1,0,1]]), [(1,1,1),(1,2,1),(0,1,2)], [(1,0,1),(-1,0,1),(0,2,0)])\n",
      "    operator_baza(np.array([[1,0,2],[1,1,1],[1,0,1]]), [(1,1,1),(1,2,1),(0,1,2)], [(1,0,1),(-1,0,1),(0,2,0)], klasa='numpy')\n",
      "    \n",
      "    Nije greska ako ih i posebno naglasimo.\n",
      "    \n",
      "    operator_baza(sp.Matrix([[1,0,2],[1,1,1],[1,0,1]]), [(1,1,1),(1,2,1),(0,1,2)], [(1,0,1),(-1,0,1),(0,2,0)], [(1,1,1),(1,2,1),(0,1,2)], [(1,0,1),(-1,0,1),(0,2,0)])\n",
      "    \n",
      "    ili da nam bude preglednije\n",
      "    \n",
      "    operator_baza(sp.Matrix([[1,0,2],[1,1,1],[1,0,1]]), bazaD1=[(1,1,1),(1,2,1),(0,1,2)], bazaD2=[(1,0,1),(-1,0,1),(0,2,0)])\n",
      "    operator_baza(sp.Matrix([[1,0,2],[1,1,1],[1,0,1]]), bazaD1=[(1,1,1),(1,2,1),(0,1,2)], bazaD2=[(1,0,1),(-1,0,1),(0,2,0)], \n",
      "                  bazaK1=[(1,1,1),(1,2,1),(0,1,2)], bazaK2=[(1,0,1),(-1,0,1),(0,2,0)])\n",
      "    operator_baza(np.array([[1,0,2],[1,1,1],[1,0,1]]), bazaD1=[(1,1,1),(1,2,1),(0,1,2)], bazaD2=[(1,0,1),(-1,0,1),(0,2,0)], \n",
      "                  bazaK1=[(1,1,1),(1,2,1),(0,1,2)], bazaK2=[(1,0,1),(-1,0,1),(0,2,0)], klasa='numpy')\n",
      "\n"
     ]
    }
   ],
   "source": [
    "help(MMZI.operator_baza)"
   ]
  },
  {
   "cell_type": "code",
   "execution_count": 12,
   "metadata": {},
   "outputs": [
    {
     "name": "stdout",
     "output_type": "stream",
     "text": [
      " Ova funkcija je poopcenje funkcije operator_kanbaza. Ona daje\n",
      "    matricni prikaz linearnog operatora f u paru baza (bazaD2,bazaK2)\n",
      "    ako je on zadan u paru baza (bazaD1,bazaK1).\n",
      "    Ako bazaK1 nije eksplicitno navedena, podrazumijeva se da je bazaK1=bazaD1.\n",
      "    Ako bazaK2 nije eksplicitno navedena, podrazumijeva se da je bazaK2=bazaD2.\n",
      "    \n",
      "    Linearni operator f moze biti:\n",
      "      * prethodno definiran kao funkcija u paru baza (bazaD1,bazaK1)\n",
      "      * definiran na ulazu kao lambda funkcija u paru baza (bazaD1,bazaK1)\n",
      "      * definiran svojim matricnim zapisom u paru baza (bazaD1,bazaK1), \n",
      "        pri cemu matrica mora pripadati klasi navedenoj u varijabli 'klasa'\n",
      "    \n",
      "    --- 1. PRIMJER ---\n",
      "    \n",
      "    Neka je [[2,0],[-1,0]] matrica operatora u paru baza {(1,1),(1,0)} i {(1,0),(0,1)}.\n",
      "    Trazimo matricu tog operatora u bazi B={(1,0),(1,1)}.\n",
      "    Dakle, u ovom slucaju je bazaD1={(1,1),(1,0)}, bazaD2=B, bazaK1={(1,0),(0,1)}, bazaK2=B.\n",
      "    U ovom slucaju je bazaK2=bazaD2 pa ju nema potrebe dolje pisati na zadnjem mjestu.\n",
      "    \n",
      "    operator_baza(sp.Matrix([[2,0],[-1,0]]), [(1,1),(1,0)], [(1,0),(1,1)], [(1,0),(0,1)])\n",
      "    operator_baza(np.array([[2,0],[-1,0]]), bazaD1=[(1,1),(1,0)], bazaD2=[(1,0),(1,1)], bazaK1=[(1,0),(0,1)], klasa='numpy')\n",
      "    \n",
      "    --- 2. PRIMJER ---\n",
      "    \n",
      "    Neka je [[1,0,2],[1,1,1],[1,0,1]] matrica linearnog operatora u bazi {(1,1,1),(1,2,1),(0,1,2)}.\n",
      "    Trazimo matricu tog operatora u bazi {(1,0,1),(-1,0,1),(0,2,0)}.\n",
      "    U ovom slucaju je bazaD1={(1,1,1),(1,2,1),(0,1,2)}, bazaD2={(1,0,1),(-1,0,1),(0,2,0)}, bazaK1=bazaD1, bazaK2=bazaD2.\n",
      "    Kako je bazaK1=bazaD1, bazaK2=bazaD2, nema potrebe posebno pisati baze bazaK1, bazaK2 kod poziva funkcije.\n",
      "    \n",
      "    operator_baza(sp.Matrix([[1,0,2],[1,1,1],[1,0,1]]), [(1,1,1),(1,2,1),(0,1,2)], [(1,0,1),(-1,0,1),(0,2,0)])\n",
      "    operator_baza(np.array([[1,0,2],[1,1,1],[1,0,1]]), [(1,1,1),(1,2,1),(0,1,2)], [(1,0,1),(-1,0,1),(0,2,0)], klasa='numpy')\n",
      "    \n",
      "    Nije greska ako ih i posebno naglasimo.\n",
      "    \n",
      "    operator_baza(sp.Matrix([[1,0,2],[1,1,1],[1,0,1]]), [(1,1,1),(1,2,1),(0,1,2)], [(1,0,1),(-1,0,1),(0,2,0)], [(1,1,1),(1,2,1),(0,1,2)], [(1,0,1),(-1,0,1),(0,2,0)])\n",
      "    \n",
      "    ili da nam bude preglednije\n",
      "    \n",
      "    operator_baza(sp.Matrix([[1,0,2],[1,1,1],[1,0,1]]), bazaD1=[(1,1,1),(1,2,1),(0,1,2)], bazaD2=[(1,0,1),(-1,0,1),(0,2,0)])\n",
      "    operator_baza(sp.Matrix([[1,0,2],[1,1,1],[1,0,1]]), bazaD1=[(1,1,1),(1,2,1),(0,1,2)], bazaD2=[(1,0,1),(-1,0,1),(0,2,0)], \n",
      "                  bazaK1=[(1,1,1),(1,2,1),(0,1,2)], bazaK2=[(1,0,1),(-1,0,1),(0,2,0)])\n",
      "    operator_baza(np.array([[1,0,2],[1,1,1],[1,0,1]]), bazaD1=[(1,1,1),(1,2,1),(0,1,2)], bazaD2=[(1,0,1),(-1,0,1),(0,2,0)], \n",
      "                  bazaK1=[(1,1,1),(1,2,1),(0,1,2)], bazaK2=[(1,0,1),(-1,0,1),(0,2,0)], klasa='numpy')\n",
      "    \n"
     ]
    }
   ],
   "source": [
    "print(MMZI.operator_baza.__doc__)"
   ]
  },
  {
   "cell_type": "markdown",
   "metadata": {},
   "source": [
    "<h5>Ako želimo da se unutar jupyter notebooka help otvori u posebnom prozoru</h5>"
   ]
  },
  {
   "cell_type": "code",
   "execution_count": 13,
   "metadata": {},
   "outputs": [
    {
     "data": {
      "text/plain": [
       "\u001b[0;31mSignature:\u001b[0m\n",
       "\u001b[0mMMZI\u001b[0m\u001b[0;34m.\u001b[0m\u001b[0moperator_baza\u001b[0m\u001b[0;34m(\u001b[0m\u001b[0;34m\u001b[0m\n",
       "\u001b[0;34m\u001b[0m    \u001b[0mf\u001b[0m\u001b[0;34m,\u001b[0m\u001b[0;34m\u001b[0m\n",
       "\u001b[0;34m\u001b[0m    \u001b[0mbazaD1\u001b[0m\u001b[0;34m,\u001b[0m\u001b[0;34m\u001b[0m\n",
       "\u001b[0;34m\u001b[0m    \u001b[0mbazaD2\u001b[0m\u001b[0;34m,\u001b[0m\u001b[0;34m\u001b[0m\n",
       "\u001b[0;34m\u001b[0m    \u001b[0mbazaK1\u001b[0m\u001b[0;34m=\u001b[0m\u001b[0;32mNone\u001b[0m\u001b[0;34m,\u001b[0m\u001b[0;34m\u001b[0m\n",
       "\u001b[0;34m\u001b[0m    \u001b[0mbazaK2\u001b[0m\u001b[0;34m=\u001b[0m\u001b[0;32mNone\u001b[0m\u001b[0;34m,\u001b[0m\u001b[0;34m\u001b[0m\n",
       "\u001b[0;34m\u001b[0m    \u001b[0mklasa\u001b[0m\u001b[0;34m=\u001b[0m\u001b[0;34m'sympy'\u001b[0m\u001b[0;34m,\u001b[0m\u001b[0;34m\u001b[0m\n",
       "\u001b[0;34m\u001b[0m\u001b[0;34m)\u001b[0m\u001b[0;34m\u001b[0m\u001b[0;34m\u001b[0m\u001b[0m\n",
       "\u001b[0;31mDocstring:\u001b[0m\n",
       "Ova funkcija je poopcenje funkcije operator_kanbaza. Ona daje\n",
       "matricni prikaz linearnog operatora f u paru baza (bazaD2,bazaK2)\n",
       "ako je on zadan u paru baza (bazaD1,bazaK1).\n",
       "Ako bazaK1 nije eksplicitno navedena, podrazumijeva se da je bazaK1=bazaD1.\n",
       "Ako bazaK2 nije eksplicitno navedena, podrazumijeva se da je bazaK2=bazaD2.\n",
       "\n",
       "Linearni operator f moze biti:\n",
       "  * prethodno definiran kao funkcija u paru baza (bazaD1,bazaK1)\n",
       "  * definiran na ulazu kao lambda funkcija u paru baza (bazaD1,bazaK1)\n",
       "  * definiran svojim matricnim zapisom u paru baza (bazaD1,bazaK1), \n",
       "    pri cemu matrica mora pripadati klasi navedenoj u varijabli 'klasa'\n",
       "\n",
       "--- 1. PRIMJER ---\n",
       "\n",
       "Neka je [[2,0],[-1,0]] matrica operatora u paru baza {(1,1),(1,0)} i {(1,0),(0,1)}.\n",
       "Trazimo matricu tog operatora u bazi B={(1,0),(1,1)}.\n",
       "Dakle, u ovom slucaju je bazaD1={(1,1),(1,0)}, bazaD2=B, bazaK1={(1,0),(0,1)}, bazaK2=B.\n",
       "U ovom slucaju je bazaK2=bazaD2 pa ju nema potrebe dolje pisati na zadnjem mjestu.\n",
       "\n",
       "operator_baza(sp.Matrix([[2,0],[-1,0]]), [(1,1),(1,0)], [(1,0),(1,1)], [(1,0),(0,1)])\n",
       "operator_baza(np.array([[2,0],[-1,0]]), bazaD1=[(1,1),(1,0)], bazaD2=[(1,0),(1,1)], bazaK1=[(1,0),(0,1)], klasa='numpy')\n",
       "\n",
       "--- 2. PRIMJER ---\n",
       "\n",
       "Neka je [[1,0,2],[1,1,1],[1,0,1]] matrica linearnog operatora u bazi {(1,1,1),(1,2,1),(0,1,2)}.\n",
       "Trazimo matricu tog operatora u bazi {(1,0,1),(-1,0,1),(0,2,0)}.\n",
       "U ovom slucaju je bazaD1={(1,1,1),(1,2,1),(0,1,2)}, bazaD2={(1,0,1),(-1,0,1),(0,2,0)}, bazaK1=bazaD1, bazaK2=bazaD2.\n",
       "Kako je bazaK1=bazaD1, bazaK2=bazaD2, nema potrebe posebno pisati baze bazaK1, bazaK2 kod poziva funkcije.\n",
       "\n",
       "operator_baza(sp.Matrix([[1,0,2],[1,1,1],[1,0,1]]), [(1,1,1),(1,2,1),(0,1,2)], [(1,0,1),(-1,0,1),(0,2,0)])\n",
       "operator_baza(np.array([[1,0,2],[1,1,1],[1,0,1]]), [(1,1,1),(1,2,1),(0,1,2)], [(1,0,1),(-1,0,1),(0,2,0)], klasa='numpy')\n",
       "\n",
       "Nije greska ako ih i posebno naglasimo.\n",
       "\n",
       "operator_baza(sp.Matrix([[1,0,2],[1,1,1],[1,0,1]]), [(1,1,1),(1,2,1),(0,1,2)], [(1,0,1),(-1,0,1),(0,2,0)], [(1,1,1),(1,2,1),(0,1,2)], [(1,0,1),(-1,0,1),(0,2,0)])\n",
       "\n",
       "ili da nam bude preglednije\n",
       "\n",
       "operator_baza(sp.Matrix([[1,0,2],[1,1,1],[1,0,1]]), bazaD1=[(1,1,1),(1,2,1),(0,1,2)], bazaD2=[(1,0,1),(-1,0,1),(0,2,0)])\n",
       "operator_baza(sp.Matrix([[1,0,2],[1,1,1],[1,0,1]]), bazaD1=[(1,1,1),(1,2,1),(0,1,2)], bazaD2=[(1,0,1),(-1,0,1),(0,2,0)], \n",
       "              bazaK1=[(1,1,1),(1,2,1),(0,1,2)], bazaK2=[(1,0,1),(-1,0,1),(0,2,0)])\n",
       "operator_baza(np.array([[1,0,2],[1,1,1],[1,0,1]]), bazaD1=[(1,1,1),(1,2,1),(0,1,2)], bazaD2=[(1,0,1),(-1,0,1),(0,2,0)], \n",
       "              bazaK1=[(1,1,1),(1,2,1),(0,1,2)], bazaK2=[(1,0,1),(-1,0,1),(0,2,0)], klasa='numpy')\n",
       "\u001b[0;31mFile:\u001b[0m      ~/Documents/python/jupyter/MMZI.py\n",
       "\u001b[0;31mType:\u001b[0m      function\n"
      ]
     },
     "metadata": {},
     "output_type": "display_data"
    }
   ],
   "source": [
    "MMZI.operator_baza?"
   ]
  },
  {
   "cell_type": "markdown",
   "metadata": {},
   "source": [
    "<h2>Zadaci</h2>\n",
    "<p style=\"line-height:25px;\">Pokazano je na nekoliko zadataka kako ih brzo riješiti pomoću dostupnih naredbi iz <i>numpy</i> i <i>sympy</i> modula i pomoćnih funkcija iz datoteke <i>MMZI.py</i>.</p>"
   ]
  },
  {
   "cell_type": "markdown",
   "metadata": {},
   "source": [
    "<div style=\"background-color: #F5FFFA; color: #000000; border: 2px solid #B0C4DE; border-radius: 15px; padding:0px 10px 25px; overflow:auto\">\n",
    "<h3>1. zadatak</h3>\n",
    "<p style=\"line-height:35px;\">Zadan je linearni operator $h:M_2(\\mathbb{R})\\to\\mathbb{R}^2$ s $h\\left(\\left[\\begin{smallmatrix}a&b\\\\ c&d\\end{smallmatrix}\\right]\\right)=\\big(a+d,\\,a-b+c\\big).$</p>\n",
    "<ol style=\"list-style-type:lower-alpha;\">\n",
    "    <li style=\"line-height:30px;\">Odredite matrični zapis operatora $h$ u paru kanonskih baza.</li>\n",
    "    <li style=\"line-height:30px;\">Odredite matrični zapis operatora $h$ u paru baza $\\mathcal{A}=\\left\\{\\left[\\begin{smallmatrix}6&4\\\\  8&-2\\end{smallmatrix}\\right],\\left[\\begin{smallmatrix}4&-6\\\\  9&-6\\end{smallmatrix}\\right],\\left[\\begin{smallmatrix}9&-6\\\\  -4&-1\\end{smallmatrix}\\right],\\left[\\begin{smallmatrix}2&-4\\\\  -8&8\\end{smallmatrix}\\right]\\right\\}$ i $\\mathcal{B}=\\{(3,4),(-1,7)\\}.$</li>\n",
    "    <li style=\"line-height:30px;\">Odredite jezgru, sliku, rang i defekt operatora $h.$</li> \n",
    "</ol>\n",
    "</div>\n",
    "<h3>Rješenje</h3>"
   ]
  },
  {
   "cell_type": "code",
   "execution_count": 14,
   "metadata": {},
   "outputs": [],
   "source": [
    "formula = lambda a,b,c,d:(a+d,a-b+c)\n",
    "A=[(6,4,8,-2),(4,-6,9,-6),(9,-6,-4,-1),(2,-4,-8,8)]\n",
    "B=[(3,4),(-1,7)]"
   ]
  },
  {
   "cell_type": "markdown",
   "metadata": {},
   "source": [
    "<h5>Pomoću sympy modula</h5>\n",
    "<h4>a) dio</h4>"
   ]
  },
  {
   "cell_type": "code",
   "execution_count": 15,
   "metadata": {},
   "outputs": [
    {
     "data": {
      "image/png": "[encoded data removed]",
      "text/latex": [
       "$\\displaystyle \\left[\\begin{matrix}1 & 0 & 0 & 1\\\\1 & -1 & 1 & 0\\end{matrix}\\right]$"
      ],
      "text/plain": [
       "⎡1  0   0  1⎤\n",
       "⎢           ⎥\n",
       "⎣1  -1  1  0⎦"
      ]
     },
     "execution_count": 15,
     "metadata": {},
     "output_type": "execute_result"
    }
   ],
   "source": [
    "Hkan=MMZI.operator_kan(formula,klasa='sympy')\n",
    "Hkan"
   ]
  },
  {
   "cell_type": "markdown",
   "metadata": {},
   "source": [
    "<h4>b) dio</h4>"
   ]
  },
  {
   "cell_type": "code",
   "execution_count": 16,
   "metadata": {},
   "outputs": [
    {
     "data": {
      "image/png": "[encoded data removed]",
      "text/latex": [
       "$\\displaystyle \\left[\\begin{matrix}\\frac{38}{25} & \\frac{1}{5} & \\frac{67}{25} & \\frac{68}{25}\\\\\\frac{14}{25} & \\frac{13}{5} & \\frac{1}{25} & - \\frac{46}{25}\\end{matrix}\\right]$"
      ],
      "text/plain": [
       "⎡38         67    68 ⎤\n",
       "⎢──  1/5    ──    ── ⎥\n",
       "⎢25         25    25 ⎥\n",
       "⎢                    ⎥\n",
       "⎢14              -46 ⎥\n",
       "⎢──  13/5  1/25  ────⎥\n",
       "⎣25               25 ⎦"
      ]
     },
     "execution_count": 16,
     "metadata": {},
     "output_type": "execute_result"
    }
   ],
   "source": [
    "H=MMZI.operator_kanbaza(formula,A,B,'sympy')\n",
    "H"
   ]
  },
  {
   "cell_type": "code",
   "execution_count": 17,
   "metadata": {},
   "outputs": [
    {
     "data": {
      "image/png": "[encoded data removed]",
      "text/latex": [
       "$\\displaystyle \\left[\\begin{matrix}\\frac{38}{25} & \\frac{1}{5} & \\frac{67}{25} & \\frac{68}{25}\\\\\\frac{14}{25} & \\frac{13}{5} & \\frac{1}{25} & - \\frac{46}{25}\\end{matrix}\\right]$"
      ],
      "text/plain": [
       "⎡38         67    68 ⎤\n",
       "⎢──  1/5    ──    ── ⎥\n",
       "⎢25         25    25 ⎥\n",
       "⎢                    ⎥\n",
       "⎢14              -46 ⎥\n",
       "⎢──  13/5  1/25  ────⎥\n",
       "⎣25               25 ⎦"
      ]
     },
     "execution_count": 17,
     "metadata": {},
     "output_type": "execute_result"
    }
   ],
   "source": [
    "MMZI.operator_kanbaza(Hkan,A,B,'sympy')"
   ]
  },
  {
   "cell_type": "code",
   "execution_count": 18,
   "metadata": {},
   "outputs": [
    {
     "data": {
      "image/png": "[encoded data removed]",
      "text/latex": [
       "$\\displaystyle \\left[\\begin{matrix}1.52 & 0.2 & 2.68 & 2.72\\\\0.56 & 2.6 & 0.04 & -1.84\\end{matrix}\\right]$"
      ],
      "text/plain": [
       "⎡1.52  0.2  2.68  2.72 ⎤\n",
       "⎢                      ⎥\n",
       "⎣0.56  2.6  0.04  -1.84⎦"
      ]
     },
     "execution_count": 18,
     "metadata": {},
     "output_type": "execute_result"
    }
   ],
   "source": [
    "sp.N(H)"
   ]
  },
  {
   "cell_type": "markdown",
   "metadata": {},
   "source": [
    "<h4>c) dio</h4>\n",
    "<p>Jedna baza za jezgru</p>\n",
    "<p>$\\mathcal{B}_{\\mathop{Ker}{h}}=\\left\\{\\left[\\begin{smallmatrix}0&1\\\\  1&0\\end{smallmatrix}\\right],\\left[\\begin{smallmatrix}-1&-1\\\\  0&1\\end{smallmatrix}\\right]\\right\\}$</p>"
   ]
  },
  {
   "cell_type": "code",
   "execution_count": 19,
   "metadata": {},
   "outputs": [
    {
     "data": {
      "image/png": "[encoded data removed]",
      "text/latex": [
       "$\\displaystyle \\left[ \\left[\\begin{matrix}0\\\\1\\\\1\\\\0\\end{matrix}\\right], \\  \\left[\\begin{matrix}-1\\\\-1\\\\0\\\\1\\end{matrix}\\right]\\right]$"
      ],
      "text/plain": [
       "⎡⎡0⎤  ⎡-1⎤⎤\n",
       "⎢⎢ ⎥  ⎢  ⎥⎥\n",
       "⎢⎢1⎥  ⎢-1⎥⎥\n",
       "⎢⎢ ⎥, ⎢  ⎥⎥\n",
       "⎢⎢1⎥  ⎢0 ⎥⎥\n",
       "⎢⎢ ⎥  ⎢  ⎥⎥\n",
       "⎣⎣0⎦  ⎣1 ⎦⎦"
      ]
     },
     "execution_count": 19,
     "metadata": {},
     "output_type": "execute_result"
    }
   ],
   "source": [
    "jezgraH=Hkan.nullspace()\n",
    "jezgraH"
   ]
  },
  {
   "cell_type": "markdown",
   "metadata": {},
   "source": [
    "<p>defekt: $d(h)=2$</p>"
   ]
  },
  {
   "cell_type": "code",
   "execution_count": 20,
   "metadata": {},
   "outputs": [
    {
     "data": {
      "image/png": "[encoded data removed]",
      "text/latex": [
       "$\\displaystyle 2$"
      ],
      "text/plain": [
       "2"
      ]
     },
     "execution_count": 20,
     "metadata": {},
     "output_type": "execute_result"
    }
   ],
   "source": [
    "len(jezgraH)"
   ]
  },
  {
   "cell_type": "markdown",
   "metadata": {},
   "source": [
    "<p>Jedna baza za sliku: prva dva stupca iz matrice Hkan</p>\n",
    "<p>$\\mathcal{B}_{\\mathop{Im}{h}}=\\{(1,1),(0,-1)\\}$</p>"
   ]
  },
  {
   "cell_type": "code",
   "execution_count": 21,
   "metadata": {},
   "outputs": [
    {
     "data": {
      "image/png": "[encoded data removed]",
      "text/latex": [
       "$\\displaystyle \\left( \\left[\\begin{matrix}1 & 0 & 0 & 1\\\\0 & 1 & -1 & 1\\end{matrix}\\right], \\  \\left( 0, \\  1\\right)\\right)$"
      ],
      "text/plain": [
       "⎛⎡1  0  0   1⎤        ⎞\n",
       "⎜⎢           ⎥, (0, 1)⎟\n",
       "⎝⎣0  1  -1  1⎦        ⎠"
      ]
     },
     "execution_count": 21,
     "metadata": {},
     "output_type": "execute_result"
    }
   ],
   "source": [
    "Hkan.rref()"
   ]
  },
  {
   "cell_type": "code",
   "execution_count": 22,
   "metadata": {},
   "outputs": [
    {
     "data": {
      "image/png": "[encoded data removed]",
      "text/latex": [
       "$\\displaystyle \\left[ \\left[\\begin{matrix}1\\\\1\\end{matrix}\\right], \\  \\left[\\begin{matrix}0\\\\-1\\end{matrix}\\right]\\right]$"
      ],
      "text/plain": [
       "⎡⎡1⎤  ⎡0 ⎤⎤\n",
       "⎢⎢ ⎥, ⎢  ⎥⎥\n",
       "⎣⎣1⎦  ⎣-1⎦⎦"
      ]
     },
     "execution_count": 22,
     "metadata": {},
     "output_type": "execute_result"
    }
   ],
   "source": [
    "Hkan.columnspace()"
   ]
  },
  {
   "cell_type": "markdown",
   "metadata": {},
   "source": [
    "<p>rang: $r(h)=2$</p>"
   ]
  },
  {
   "cell_type": "code",
   "execution_count": 23,
   "metadata": {},
   "outputs": [
    {
     "data": {
      "image/png": "[encoded data removed]",
      "text/latex": [
       "$\\displaystyle 2$"
      ],
      "text/plain": [
       "2"
      ]
     },
     "execution_count": 23,
     "metadata": {},
     "output_type": "execute_result"
    }
   ],
   "source": [
    "Hkan.rank()"
   ]
  },
  {
   "cell_type": "markdown",
   "metadata": {},
   "source": [
    "<p style=\"line-height:25px;\">Možemo koristiti i matricu $H$. No, u tom slučaju dobivene rezultate moramo interpretirati kao koordinate pripadnih vektora u bazama $\\mathcal{A}$ i $\\mathcal{B}$ jer je $H$ matrica operatora u paru baza $(\\mathcal{A},\\mathcal{B}).$</p>"
   ]
  },
  {
   "cell_type": "markdown",
   "metadata": {},
   "source": [
    "<p style=\"line-height:25px;\">Dobiveni vektori baze za jezgru operatora $h$ dani su svojim koordinatama u bazi $\\mathcal{A}.$</p>"
   ]
  },
  {
   "cell_type": "code",
   "execution_count": 24,
   "metadata": {},
   "outputs": [
    {
     "data": {
      "image/png": "[encoded data removed]",
      "text/latex": [
       "$\\displaystyle \\left[ \\left[\\begin{matrix}- \\frac{29}{16}\\\\\\frac{3}{8}\\\\1\\\\0\\end{matrix}\\right], \\  \\left[\\begin{matrix}- \\frac{31}{16}\\\\\\frac{9}{8}\\\\0\\\\1\\end{matrix}\\right]\\right]$"
      ],
      "text/plain": [
       "⎡⎡-29 ⎤  ⎡-31 ⎤⎤\n",
       "⎢⎢────⎥  ⎢────⎥⎥\n",
       "⎢⎢ 16 ⎥  ⎢ 16 ⎥⎥\n",
       "⎢⎢    ⎥  ⎢    ⎥⎥\n",
       "⎢⎢3/8 ⎥, ⎢9/8 ⎥⎥\n",
       "⎢⎢    ⎥  ⎢    ⎥⎥\n",
       "⎢⎢ 1  ⎥  ⎢ 0  ⎥⎥\n",
       "⎢⎢    ⎥  ⎢    ⎥⎥\n",
       "⎣⎣ 0  ⎦  ⎣ 1  ⎦⎦"
      ]
     },
     "execution_count": 24,
     "metadata": {},
     "output_type": "execute_result"
    }
   ],
   "source": [
    "H.nullspace()"
   ]
  },
  {
   "cell_type": "markdown",
   "metadata": {},
   "source": [
    "<p style=\"line-height:25px;\">Pronađimo njihove koordinate u kanonskoj bazi.</p>"
   ]
  },
  {
   "cell_type": "code",
   "execution_count": 25,
   "metadata": {},
   "outputs": [
    {
     "data": {
      "image/png": "[encoded data removed]",
      "text/latex": [
       "$\\displaystyle \\left[\\begin{matrix}6 & 4 & 9 & 2\\\\4 & -6 & -6 & -4\\\\8 & 9 & -4 & -8\\\\-2 & -6 & -1 & 8\\end{matrix}\\right]$"
      ],
      "text/plain": [
       "⎡6   4   9   2 ⎤\n",
       "⎢              ⎥\n",
       "⎢4   -6  -6  -4⎥\n",
       "⎢              ⎥\n",
       "⎢8   9   -4  -8⎥\n",
       "⎢              ⎥\n",
       "⎣-2  -6  -1  8 ⎦"
      ]
     },
     "execution_count": 25,
     "metadata": {},
     "output_type": "execute_result"
    }
   ],
   "source": [
    "Akan=[(1,0,0,0),(0,1,0,0),(0,0,1,0),(0,0,0,1)]\n",
    "T=MMZI.matrica_prijelaza(Akan,A)\n",
    "T"
   ]
  },
  {
   "cell_type": "code",
   "execution_count": 26,
   "metadata": {},
   "outputs": [
    {
     "data": {
      "image/png": "[encoded data removed]",
      "text/latex": [
       "$\\displaystyle \\left[\\begin{matrix}- \\frac{3}{8}\\\\- \\frac{31}{2}\\\\- \\frac{121}{8}\\\\\\frac{3}{8}\\end{matrix}\\right]$"
      ],
      "text/plain": [
       "⎡ -3/8 ⎤\n",
       "⎢      ⎥\n",
       "⎢-31/2 ⎥\n",
       "⎢      ⎥\n",
       "⎢-121/8⎥\n",
       "⎢      ⎥\n",
       "⎣ 3/8  ⎦"
      ]
     },
     "execution_count": 26,
     "metadata": {},
     "output_type": "execute_result"
    }
   ],
   "source": [
    "u1=T*sp.Matrix([sp.Rational(-29,16),sp.Rational(3,8),1,0])\n",
    "u1"
   ]
  },
  {
   "cell_type": "code",
   "execution_count": 27,
   "metadata": {},
   "outputs": [
    {
     "data": {
      "image/png": "[encoded data removed]",
      "text/latex": [
       "$\\displaystyle \\left[\\begin{matrix}- \\frac{41}{8}\\\\- \\frac{37}{2}\\\\- \\frac{107}{8}\\\\\\frac{41}{8}\\end{matrix}\\right]$"
      ],
      "text/plain": [
       "⎡-41/8 ⎤\n",
       "⎢      ⎥\n",
       "⎢-37/2 ⎥\n",
       "⎢      ⎥\n",
       "⎢-107/8⎥\n",
       "⎢      ⎥\n",
       "⎣ 41/8 ⎦"
      ]
     },
     "execution_count": 27,
     "metadata": {},
     "output_type": "execute_result"
    }
   ],
   "source": [
    "u2=T*sp.Matrix([sp.Rational(-31,16),sp.Rational(9,8),0,1])\n",
    "u2"
   ]
  },
  {
   "cell_type": "markdown",
   "metadata": {},
   "source": [
    "<p style=\"line-height:30px;\">Matrice $\\begin{bmatrix}- \\frac{3}{8}&-\\frac{31}{2}\\\\ -\\frac{121}{8}&\\frac{3}{8}\\end{bmatrix}$ i $\\begin{bmatrix}-\\frac{41}{8}&-\\frac{37}{2}\\\\ -\\frac{107}{8}&\\frac{41}{8}\\end{bmatrix}$ također čine bazu za jezgru operatora $h$.</p>"
   ]
  },
  {
   "cell_type": "code",
   "execution_count": 28,
   "metadata": {},
   "outputs": [
    {
     "data": {
      "image/png": "[encoded data removed]",
      "text/latex": [
       "$\\displaystyle \\left[\\begin{matrix}0 & -1 & - \\frac{3}{8} & - \\frac{41}{8}\\\\1 & -1 & - \\frac{31}{2} & - \\frac{37}{2}\\\\1 & 0 & - \\frac{121}{8} & - \\frac{107}{8}\\\\0 & 1 & \\frac{3}{8} & \\frac{41}{8}\\end{matrix}\\right]$"
      ],
      "text/plain": [
       "⎡0  -1   -3/8   -41/8 ⎤\n",
       "⎢                     ⎥\n",
       "⎢1  -1  -31/2   -37/2 ⎥\n",
       "⎢                     ⎥\n",
       "⎢1  0   -121/8  -107/8⎥\n",
       "⎢                     ⎥\n",
       "⎣0  1    3/8     41/8 ⎦"
      ]
     },
     "execution_count": 28,
     "metadata": {},
     "output_type": "execute_result"
    }
   ],
   "source": [
    "M=sp.Matrix([list(jezgraH[0]),list(jezgraH[1]),list(u1),list(u2)]).T\n",
    "M"
   ]
  },
  {
   "cell_type": "code",
   "execution_count": 29,
   "metadata": {},
   "outputs": [
    {
     "data": {
      "image/png": "[encoded data removed]",
      "text/latex": [
       "$\\displaystyle \\left( \\left[\\begin{matrix}1 & 0 & - \\frac{121}{8} & - \\frac{107}{8}\\\\0 & 1 & \\frac{3}{8} & \\frac{41}{8}\\\\0 & 0 & 0 & 0\\\\0 & 0 & 0 & 0\\end{matrix}\\right], \\  \\left( 0, \\  1\\right)\\right)$"
      ],
      "text/plain": [
       "⎛⎡1  0  -121/8  -107/8⎤        ⎞\n",
       "⎜⎢                    ⎥        ⎟\n",
       "⎜⎢0  1   3/8     41/8 ⎥        ⎟\n",
       "⎜⎢                    ⎥, (0, 1)⎟\n",
       "⎜⎢0  0    0       0   ⎥        ⎟\n",
       "⎜⎢                    ⎥        ⎟\n",
       "⎝⎣0  0    0       0   ⎦        ⎠"
      ]
     },
     "execution_count": 29,
     "metadata": {},
     "output_type": "execute_result"
    }
   ],
   "source": [
    "M.rref()"
   ]
  },
  {
   "cell_type": "markdown",
   "metadata": {},
   "source": [
    "<p style=\"line-height:25px;\">Dobiveni vektori baze za sliku operatora $h$ dani su svojim koordinatama u bazi $\\mathcal{B}.$</p>"
   ]
  },
  {
   "cell_type": "code",
   "execution_count": 30,
   "metadata": {},
   "outputs": [
    {
     "data": {
      "image/png": "[encoded data removed]",
      "text/latex": [
       "$\\displaystyle \\left[ \\left[\\begin{matrix}\\frac{38}{25}\\\\\\frac{14}{25}\\end{matrix}\\right], \\  \\left[\\begin{matrix}\\frac{1}{5}\\\\\\frac{13}{5}\\end{matrix}\\right]\\right]$"
      ],
      "text/plain": [
       "⎡⎡38⎤        ⎤\n",
       "⎢⎢──⎥        ⎥\n",
       "⎢⎢25⎥  ⎡1/5 ⎤⎥\n",
       "⎢⎢  ⎥, ⎢    ⎥⎥\n",
       "⎢⎢14⎥  ⎣13/5⎦⎥\n",
       "⎢⎢──⎥        ⎥\n",
       "⎣⎣25⎦        ⎦"
      ]
     },
     "execution_count": 30,
     "metadata": {},
     "output_type": "execute_result"
    }
   ],
   "source": [
    "H.columnspace()"
   ]
  },
  {
   "cell_type": "markdown",
   "metadata": {},
   "source": [
    "<p style=\"line-height:25px;\">Pronađimo njihove koordinate u kanonskoj bazi.</p>"
   ]
  },
  {
   "cell_type": "code",
   "execution_count": 31,
   "metadata": {},
   "outputs": [
    {
     "data": {
      "image/png": "[encoded data removed]",
      "text/latex": [
       "$\\displaystyle \\left[\\begin{matrix}3 & -1\\\\4 & 7\\end{matrix}\\right]$"
      ],
      "text/plain": [
       "⎡3  -1⎤\n",
       "⎢     ⎥\n",
       "⎣4  7 ⎦"
      ]
     },
     "execution_count": 31,
     "metadata": {},
     "output_type": "execute_result"
    }
   ],
   "source": [
    "Bkan=[(1,0),(0,1)]\n",
    "T2=MMZI.matrica_prijelaza(Bkan,B)\n",
    "T2"
   ]
  },
  {
   "cell_type": "code",
   "execution_count": 32,
   "metadata": {},
   "outputs": [
    {
     "data": {
      "image/png": "[encoded data removed]",
      "text/latex": [
       "$\\displaystyle \\left[\\begin{matrix}4\\\\10\\end{matrix}\\right]$"
      ],
      "text/plain": [
       "⎡4 ⎤\n",
       "⎢  ⎥\n",
       "⎣10⎦"
      ]
     },
     "execution_count": 32,
     "metadata": {},
     "output_type": "execute_result"
    }
   ],
   "source": [
    "v1=T2*sp.Matrix([sp.Rational(38,25),sp.Rational(14,25)])\n",
    "v1"
   ]
  },
  {
   "cell_type": "code",
   "execution_count": 33,
   "metadata": {},
   "outputs": [
    {
     "data": {
      "image/png": "[encoded data removed]",
      "text/latex": [
       "$\\displaystyle \\left[\\begin{matrix}-2\\\\19\\end{matrix}\\right]$"
      ],
      "text/plain": [
       "⎡-2⎤\n",
       "⎢  ⎥\n",
       "⎣19⎦"
      ]
     },
     "execution_count": 33,
     "metadata": {},
     "output_type": "execute_result"
    }
   ],
   "source": [
    "v2=T2*sp.Matrix([sp.Rational(1,5),sp.Rational(13,5)])\n",
    "v2"
   ]
  },
  {
   "cell_type": "markdown",
   "metadata": {},
   "source": [
    "<h5>Pomoću numpy modula</h5>\n",
    "<h4>a) dio</h4>"
   ]
  },
  {
   "cell_type": "code",
   "execution_count": 34,
   "metadata": {},
   "outputs": [
    {
     "data": {
      "text/plain": [
       "array([[ 1.,  0.,  0.,  1.],\n",
       "       [ 1., -1.,  1.,  0.]])"
      ]
     },
     "execution_count": 34,
     "metadata": {},
     "output_type": "execute_result"
    }
   ],
   "source": [
    "Hkan=MMZI.operator_kan(formula,klasa='numpy')\n",
    "Hkan"
   ]
  },
  {
   "cell_type": "markdown",
   "metadata": {},
   "source": [
    "<h4>b) dio</h4>"
   ]
  },
  {
   "cell_type": "code",
   "execution_count": 35,
   "metadata": {},
   "outputs": [
    {
     "data": {
      "text/plain": [
       "array([[ 1.52,  0.2 ,  2.68,  2.72],\n",
       "       [ 0.56,  2.6 ,  0.04, -1.84]])"
      ]
     },
     "execution_count": 35,
     "metadata": {},
     "output_type": "execute_result"
    }
   ],
   "source": [
    "MMZI.operator_kanbaza(formula,A,B,'numpy')"
   ]
  },
  {
   "cell_type": "code",
   "execution_count": 36,
   "metadata": {},
   "outputs": [
    {
     "data": {
      "text/plain": [
       "array([[ 1.52,  0.2 ,  2.68,  2.72],\n",
       "       [ 0.56,  2.6 ,  0.04, -1.84]])"
      ]
     },
     "execution_count": 36,
     "metadata": {},
     "output_type": "execute_result"
    }
   ],
   "source": [
    "MMZI.operator_kanbaza(Hkan,A,B,'numpy')"
   ]
  },
  {
   "cell_type": "markdown",
   "metadata": {},
   "source": [
    "<h4>c) dio</h4>\n",
    "<p style=\"line-height:25px;\">Numeričkim putem se također može doći do neke baze za jezgru i sliku linearnog operatora, ali ovdje nećemo dublje ulaziti u numeričku matematiku pa ćemo samo odrediti rang i defekt.</p>"
   ]
  },
  {
   "cell_type": "code",
   "execution_count": 37,
   "metadata": {},
   "outputs": [
    {
     "data": {
      "text/plain": [
       "2"
      ]
     },
     "execution_count": 37,
     "metadata": {},
     "output_type": "execute_result"
    }
   ],
   "source": [
    "rang=LA.matrix_rank(Hkan)\n",
    "rang"
   ]
  },
  {
   "cell_type": "markdown",
   "metadata": {},
   "source": [
    "<p style=\"line-height:25px;\">Iz teorema o rangu i defektu odredimo defekt.</p>"
   ]
  },
  {
   "cell_type": "code",
   "execution_count": 38,
   "metadata": {},
   "outputs": [
    {
     "data": {
      "image/png": "[encoded data removed]",
      "text/latex": [
       "$\\displaystyle \\left( 2, \\  4\\right)$"
      ],
      "text/plain": [
       "(2, 4)"
      ]
     },
     "execution_count": 38,
     "metadata": {},
     "output_type": "execute_result"
    }
   ],
   "source": [
    "Hkan.shape"
   ]
  },
  {
   "cell_type": "code",
   "execution_count": 39,
   "metadata": {},
   "outputs": [
    {
     "data": {
      "text/plain": [
       "2"
      ]
     },
     "execution_count": 39,
     "metadata": {},
     "output_type": "execute_result"
    }
   ],
   "source": [
    "defekt=Hkan.shape[1]-rang\n",
    "defekt"
   ]
  },
  {
   "cell_type": "markdown",
   "metadata": {},
   "source": [
    "<div style=\"background-color: #F5FFFA; color: #000000; border: 2px solid #B0C4DE; border-radius: 15px; padding:0px 10px 25px; overflow:auto\">\n",
    "<h3>2. zadatak</h3>\n",
    "<p style=\"line-height:35px;\">Zadana je matrica $A=\\begin{bmatrix}4&1&-1\\\\ 2&5&-2\\\\ 1&1&2\\end{bmatrix}$.</p>\n",
    "<ol style=\"list-style-type:lower-alpha;\">\n",
    "    <li style=\"line-height:30px;\">Odredite karakteristični polinom matrice $A$.</li>\n",
    "    <li style=\"line-height:30px;\">Odredite svojstvene vrijednosti matrice $A$.</li>\n",
    "    <li style=\"line-height:30px;\">Odredite svojstvene potprostore matrice $A$.</li>\n",
    "    <li style=\"line-height:30px;\">Odredite minimalni polinom matrice $A$.</li>\n",
    "</ol>\n",
    "</div>\n",
    "<h3>Rješenje</h3>"
   ]
  },
  {
   "cell_type": "code",
   "execution_count": 40,
   "metadata": {},
   "outputs": [],
   "source": [
    "A=sp.Matrix([[4,1,-1],[2,5,-2],[1,1,2]])\n",
    "t=sp.Symbol('t')"
   ]
  },
  {
   "cell_type": "markdown",
   "metadata": {},
   "source": [
    "<h4>a) dio</h4>"
   ]
  },
  {
   "cell_type": "code",
   "execution_count": 41,
   "metadata": {},
   "outputs": [
    {
     "data": {
      "image/png": "[encoded data removed]",
      "text/latex": [
       "$\\displaystyle \\operatorname{PurePoly}{\\left( t^{3} - 11 t^{2} + 39 t - 45, t, domain=\\mathbb{Z} \\right)}$"
      ],
      "text/plain": [
       "PurePoly(t**3 - 11*t**2 + 39*t - 45, t, domain='ZZ')"
      ]
     },
     "execution_count": 41,
     "metadata": {},
     "output_type": "execute_result"
    }
   ],
   "source": [
    "pol=A.charpoly(t)\n",
    "pol"
   ]
  },
  {
   "cell_type": "code",
   "execution_count": 42,
   "metadata": {},
   "outputs": [
    {
     "data": {
      "image/png": "[encoded data removed]",
      "text/latex": [
       "$\\displaystyle t^{3} - 11 t^{2} + 39 t - 45$"
      ],
      "text/plain": [
       " 3       2            \n",
       "t  - 11⋅t  + 39⋅t - 45"
      ]
     },
     "execution_count": 42,
     "metadata": {},
     "output_type": "execute_result"
    }
   ],
   "source": [
    "pol.as_expr()"
   ]
  },
  {
   "cell_type": "markdown",
   "metadata": {},
   "source": [
    "<h4>b) dio</h4>\n",
    "<p style=\"line-height:25px;\">Svojstvene vrijednosti su 3 i 5, a njihove algebarske kratnosti su redom 2 i 1.</p>"
   ]
  },
  {
   "cell_type": "code",
   "execution_count": 43,
   "metadata": {},
   "outputs": [
    {
     "data": {
      "image/png": "[encoded data removed]",
      "text/latex": [
       "$\\displaystyle \\left\\{ 3 : 2, \\  5 : 1\\right\\}$"
      ],
      "text/plain": [
       "{3: 2, 5: 1}"
      ]
     },
     "execution_count": 43,
     "metadata": {},
     "output_type": "execute_result"
    }
   ],
   "source": [
    "A.eigenvals()"
   ]
  },
  {
   "cell_type": "markdown",
   "metadata": {},
   "source": [
    "<h4>c) dio</h4>\n",
    "<p style=\"line-height:25px;\">$\\mathcal{B}_{S(3)}=\\{(-1,1,0),(1,0,1)\\}$, $\\mathcal{B}_{S(5)}=\\{(1,2,1)\\}$</p>"
   ]
  },
  {
   "cell_type": "code",
   "execution_count": 44,
   "metadata": {},
   "outputs": [
    {
     "data": {
      "image/png": "[encoded data removed]",
      "text/latex": [
       "$\\displaystyle \\left[ \\left( 3, \\  2, \\  \\left[ \\left[\\begin{matrix}-1\\\\1\\\\0\\end{matrix}\\right], \\  \\left[\\begin{matrix}1\\\\0\\\\1\\end{matrix}\\right]\\right]\\right), \\  \\left( 5, \\  1, \\  \\left[ \\left[\\begin{matrix}1\\\\2\\\\1\\end{matrix}\\right]\\right]\\right)\\right]$"
      ],
      "text/plain": [
       "⎡⎛      ⎡⎡-1⎤  ⎡1⎤⎤⎞  ⎛      ⎡⎡1⎤⎤⎞⎤\n",
       "⎢⎜      ⎢⎢  ⎥  ⎢ ⎥⎥⎟  ⎜      ⎢⎢ ⎥⎥⎟⎥\n",
       "⎢⎜3, 2, ⎢⎢1 ⎥, ⎢0⎥⎥⎟, ⎜5, 1, ⎢⎢2⎥⎥⎟⎥\n",
       "⎢⎜      ⎢⎢  ⎥  ⎢ ⎥⎥⎟  ⎜      ⎢⎢ ⎥⎥⎟⎥\n",
       "⎣⎝      ⎣⎣0 ⎦  ⎣1⎦⎦⎠  ⎝      ⎣⎣1⎦⎦⎠⎦"
      ]
     },
     "execution_count": 44,
     "metadata": {},
     "output_type": "execute_result"
    }
   ],
   "source": [
    "A.eigenvects()"
   ]
  },
  {
   "cell_type": "markdown",
   "metadata": {},
   "source": [
    "<h4>d) dio</h4>"
   ]
  },
  {
   "cell_type": "code",
   "execution_count": 45,
   "metadata": {},
   "outputs": [
    {
     "data": {
      "image/png": "[encoded data removed]",
      "text/latex": [
       "$\\displaystyle \\left(t - 5\\right) \\left(t - 3\\right)^{2}$"
      ],
      "text/plain": [
       "               2\n",
       "(t - 5)⋅(t - 3) "
      ]
     },
     "execution_count": 45,
     "metadata": {},
     "output_type": "execute_result"
    }
   ],
   "source": [
    "pol.as_expr().factor()"
   ]
  },
  {
   "cell_type": "markdown",
   "metadata": {},
   "source": [
    "<p>minimalni polinom: $m_A(\\lambda)=(\\lambda-5)(\\lambda-3)$</p>"
   ]
  },
  {
   "cell_type": "code",
   "execution_count": 46,
   "metadata": {},
   "outputs": [
    {
     "data": {
      "image/png": "[encoded data removed]",
      "text/latex": [
       "$\\displaystyle \\left[\\begin{matrix}0 & 0 & 0\\\\0 & 0 & 0\\\\0 & 0 & 0\\end{matrix}\\right]$"
      ],
      "text/plain": [
       "⎡0  0  0⎤\n",
       "⎢       ⎥\n",
       "⎢0  0  0⎥\n",
       "⎢       ⎥\n",
       "⎣0  0  0⎦"
      ]
     },
     "execution_count": 46,
     "metadata": {},
     "output_type": "execute_result"
    }
   ],
   "source": [
    "(A-5*sp.eye(3))*(A-3*sp.eye(3))"
   ]
  },
  {
   "cell_type": "markdown",
   "metadata": {},
   "source": [
    "<div style=\"background-color: #F5FFFA; color: #000000; border: 2px solid #B0C4DE; border-radius: 15px; padding:0px 10px 25px; overflow:auto\">\n",
    "<h3>3. zadatak</h3>\n",
    "<p style=\"line-height:35px;\">Odredite spektar matrice</p>\n",
    "    $$D=\\begin{bmatrix}9&-7&6&7&1\\\\ 7&-9&-8&1&-4\\\\ 1&2&-8&2&-1\\\\ -3&4&-6&-1&-8\\\\ -1&7&3&0&-5\\end{bmatrix}.$$\n",
    "</div>\n",
    "<h3>Rješenje</h3>"
   ]
  },
  {
   "cell_type": "code",
   "execution_count": 47,
   "metadata": {},
   "outputs": [],
   "source": [
    "D=sp.Matrix([[9,-7,6,7,1],[7,-9,-8,1,-4],[1,2,-8,2,-1],[-3,4,-6,-1,-8],[-1,7,3,0,-5]])"
   ]
  },
  {
   "cell_type": "markdown",
   "metadata": {},
   "source": [
    "<p style=\"line-height:25px;\">Pomoću sympy modula ne dobivamo svojstvene vrijednosti jer se one ne mogu egzaktno odrediti.</p>"
   ]
  },
  {
   "cell_type": "code",
   "execution_count": 48,
   "metadata": {},
   "outputs": [
    {
     "data": {
      "image/png": "[encoded data removed]",
      "text/latex": [
       "$\\displaystyle \\left\\{ \\operatorname{CRootOf} {\\left(\\lambda^{5} + 14 \\lambda^{4} + 92 \\lambda^{3} - 236 \\lambda^{2} - 1404 \\lambda + 22941, 0\\right)} : 1, \\  \\operatorname{CRootOf} {\\left(\\lambda^{5} + 14 \\lambda^{4} + 92 \\lambda^{3} - 236 \\lambda^{2} - 1404 \\lambda + 22941, 1\\right)} : 1, \\  \\operatorname{CRootOf} {\\left(\\lambda^{5} + 14 \\lambda^{4} + 92 \\lambda^{3} - 236 \\lambda^{2} - 1404 \\lambda + 22941, 2\\right)} : 1, \\  \\operatorname{CRootOf} {\\left(\\lambda^{5} + 14 \\lambda^{4} + 92 \\lambda^{3} - 236 \\lambda^{2} - 1404 \\lambda + 22941, 3\\right)} : 1, \\  \\operatorname{CRootOf} {\\left(\\lambda^{5} + 14 \\lambda^{4} + 92 \\lambda^{3} - 236 \\lambda^{2} - 1404 \\lambda + 22941, 4\\right)} : 1\\right\\}$"
      ],
      "text/plain": [
       "⎧       ⎛ 5       4       3        2                    ⎞            ⎛ 5       4       3        2                    ⎞            ⎛ 5       4       3        2                    ⎞            ⎛ 5       4       3\n",
       "⎨CRootOf⎝λ  + 14⋅λ  + 92⋅λ  - 236⋅λ  - 1404⋅λ + 22941, 0⎠: 1, CRootOf⎝λ  + 14⋅λ  + 92⋅λ  - 236⋅λ  - 1404⋅λ + 22941, 1⎠: 1, CRootOf⎝λ  + 14⋅λ  + 92⋅λ  - 236⋅λ  - 1404⋅λ + 22941, 2⎠: 1, CRootOf⎝λ  + 14⋅λ  + 92⋅λ \n",
       "⎩                                                                                                                                                                                                                 \n",
       "\n",
       "        2                    ⎞            ⎛ 5       4       3        2                    ⎞   ⎫\n",
       " - 236⋅λ  - 1404⋅λ + 22941, 3⎠: 1, CRootOf⎝λ  + 14⋅λ  + 92⋅λ  - 236⋅λ  - 1404⋅λ + 22941, 4⎠: 1⎬\n",
       "                                                                                              ⎭"
      ]
     },
     "execution_count": 48,
     "metadata": {},
     "output_type": "execute_result"
    }
   ],
   "source": [
    "D.eigenvals()"
   ]
  },
  {
   "cell_type": "markdown",
   "metadata": {},
   "source": [
    "<p>Karakteristični polinom ima stupanj 5.</p>"
   ]
  },
  {
   "cell_type": "code",
   "execution_count": 49,
   "metadata": {},
   "outputs": [
    {
     "data": {
      "image/png": "[encoded data removed]",
      "text/latex": [
       "$\\displaystyle t^{5} + 14 t^{4} + 92 t^{3} - 236 t^{2} - 1404 t + 22941$"
      ],
      "text/plain": [
       " 5       4       3        2                 \n",
       "t  + 14⋅t  + 92⋅t  - 236⋅t  - 1404⋅t + 22941"
      ]
     },
     "execution_count": 49,
     "metadata": {},
     "output_type": "execute_result"
    }
   ],
   "source": [
    "pol=D.charpoly(t)\n",
    "pol.as_expr()"
   ]
  },
  {
   "cell_type": "markdown",
   "metadata": {},
   "source": [
    "<p style=\"line-height:25px;\">Nultočke polinoma petog stupnja se općenito ne mogu egzaktno odrediti.</p>"
   ]
  },
  {
   "cell_type": "code",
   "execution_count": 50,
   "metadata": {},
   "outputs": [
    {
     "data": {
      "image/png": "[encoded data removed]",
      "text/latex": [
       "$\\displaystyle \\left[ \\operatorname{CRootOf} {\\left(\\lambda^{5} + 14 \\lambda^{4} + 92 \\lambda^{3} - 236 \\lambda^{2} - 1404 \\lambda + 22941, 0\\right)}, \\  \\operatorname{CRootOf} {\\left(\\lambda^{5} + 14 \\lambda^{4} + 92 \\lambda^{3} - 236 \\lambda^{2} - 1404 \\lambda + 22941, 1\\right)}, \\  \\operatorname{CRootOf} {\\left(\\lambda^{5} + 14 \\lambda^{4} + 92 \\lambda^{3} - 236 \\lambda^{2} - 1404 \\lambda + 22941, 2\\right)}, \\  \\operatorname{CRootOf} {\\left(\\lambda^{5} + 14 \\lambda^{4} + 92 \\lambda^{3} - 236 \\lambda^{2} - 1404 \\lambda + 22941, 3\\right)}, \\  \\operatorname{CRootOf} {\\left(\\lambda^{5} + 14 \\lambda^{4} + 92 \\lambda^{3} - 236 \\lambda^{2} - 1404 \\lambda + 22941, 4\\right)}\\right]$"
      ],
      "text/plain": [
       "⎡       ⎛ 5       4       3        2                    ⎞         ⎛ 5       4       3        2                    ⎞         ⎛ 5       4       3        2                    ⎞         ⎛ 5       4       3        2\n",
       "⎣CRootOf⎝λ  + 14⋅λ  + 92⋅λ  - 236⋅λ  - 1404⋅λ + 22941, 0⎠, CRootOf⎝λ  + 14⋅λ  + 92⋅λ  - 236⋅λ  - 1404⋅λ + 22941, 1⎠, CRootOf⎝λ  + 14⋅λ  + 92⋅λ  - 236⋅λ  - 1404⋅λ + 22941, 2⎠, CRootOf⎝λ  + 14⋅λ  + 92⋅λ  - 236⋅λ \n",
       "\n",
       "                    ⎞         ⎛ 5       4       3        2                    ⎞⎤\n",
       " - 1404⋅λ + 22941, 3⎠, CRootOf⎝λ  + 14⋅λ  + 92⋅λ  - 236⋅λ  - 1404⋅λ + 22941, 4⎠⎦"
      ]
     },
     "execution_count": 50,
     "metadata": {},
     "output_type": "execute_result"
    }
   ],
   "source": [
    "sp.solve(pol,t)"
   ]
  },
  {
   "cell_type": "markdown",
   "metadata": {},
   "source": [
    "<p style=\"line-height:25px;\">Možemo nultočke (svojstvene vrijednosti) odrediti numeričkim putem.</p>"
   ]
  },
  {
   "cell_type": "code",
   "execution_count": 51,
   "metadata": {},
   "outputs": [
    {
     "name": "stderr",
     "output_type": "stream",
     "text": [
      "/usr/lib/python3.9/site-packages/sympy/core/sympify.py:456: SymPyDeprecationWarning: \n",
      "\n",
      "String fallback in sympify has been deprecated since SymPy 1.6. Use\n",
      "sympify(str(obj)) or sympy.core.sympify.converter or obj._sympy_\n",
      "instead. See https://github.com/sympy/sympy/issues/18066 for more\n",
      "info.\n",
      "\n",
      "  SymPyDeprecationWarning(\n"
     ]
    },
    {
     "data": {
      "image/png": "[encoded data removed]",
      "text/latex": [
       "$\\displaystyle \\left[ -7.69100268563089, \\  -6.88473864426525 - 8.61937775355931 i, \\  -6.88473864426525 + 8.61937775355931 i, \\  3.73023998708069 - 3.25521195280626 i, \\  3.73023998708069 + 3.25521195280626 i\\right]$"
      ],
      "text/plain": [
       "[-7.69100268563089, -6.88473864426525 - 8.61937775355931⋅ⅈ, -6.88473864426525 + 8.61937775355931⋅ⅈ, 3.73023998708069 - 3.25521195280626⋅ⅈ, 3.73023998708069 + 3.25521195280626⋅ⅈ]"
      ]
     },
     "execution_count": 51,
     "metadata": {},
     "output_type": "execute_result"
    }
   ],
   "source": [
    "sv=sp.nroots(pol)\n",
    "sv"
   ]
  },
  {
   "cell_type": "markdown",
   "metadata": {},
   "source": [
    "<p style=\"line-height:25px;\">Matrica $D$ ima samo jednu realnu svojstvenu vrijednost.</p>"
   ]
  },
  {
   "cell_type": "code",
   "execution_count": 52,
   "metadata": {},
   "outputs": [
    {
     "data": {
      "image/png": "[encoded data removed]",
      "text/latex": [
       "$\\displaystyle \\left[ -7.69100268563089\\right]$"
      ],
      "text/plain": [
       "[-7.69100268563089]"
      ]
     },
     "execution_count": 52,
     "metadata": {},
     "output_type": "execute_result"
    }
   ],
   "source": [
    "list(filter(lambda x:x.as_real_imag()[1]==0, sv))"
   ]
  },
  {
   "cell_type": "markdown",
   "metadata": {},
   "source": [
    "<p style=\"line-height:25px;\">Pomoću numpy modula možemo također dobiti svojstvene vrijednosti numeričkim putem. U detalje numeričkih metoda za traženje svojstvenih vrijednosti kvadratne matrice ovdje nećemo ulaziti. Koristit ćemo gotove numpy naredbe.</p>"
   ]
  },
  {
   "cell_type": "code",
   "execution_count": 53,
   "metadata": {},
   "outputs": [],
   "source": [
    "D=np.array([[9,-7,6,7,1],[7,-9,-8,1,-4],[1,2,-8,2,-1],[-3,4,-6,-1,-8],[-1,7,3,0,-5]])"
   ]
  },
  {
   "cell_type": "markdown",
   "metadata": {},
   "source": [
    "<p style=\"line-height:25px;\">Na izlazu se vraća uređeni par. Prvi element uređenog para je jednodimenzionalno polje sa svojstvenim vrijednostima. Drugi element uređenog para je dvodimenzionalno polje (matrica) čiji stupci su svojstveni vektori. $i$-ti stupac je svojstveni vektor pridružen svojstvenoj vrijednosti na $i$-tom mjestu u jednodimenzionalnom polju.</p>"
   ]
  },
  {
   "cell_type": "code",
   "execution_count": 54,
   "metadata": {},
   "outputs": [
    {
     "data": {
      "text/plain": [
       "(array([ 3.73023999+3.25521195j,  3.73023999-3.25521195j,\n",
       "        -6.88473864+8.61937775j, -6.88473864-8.61937775j,\n",
       "        -7.69100269+0.j        ]),\n",
       " array([[-8.01531447e-01+0.j        , -8.01531447e-01-0.j        ,\n",
       "          5.55839005e-02+0.34672821j,  5.55839005e-02-0.34672821j,\n",
       "         -1.55747627e-01+0.j        ],\n",
       "        [-3.16018350e-01+0.05161828j, -3.16018350e-01-0.05161828j,\n",
       "          5.99411963e-01+0.j        ,  5.99411963e-01-0.j        ,\n",
       "         -1.23664815e-01+0.j        ],\n",
       "        [-5.78605990e-02-0.03424872j, -5.78605990e-02+0.03424872j,\n",
       "         -2.14122141e-04-0.18626165j, -2.14122141e-04+0.18626165j,\n",
       "         -4.18434706e-01+0.j        ],\n",
       "        [ 3.58361087e-01-0.3039628j ,  3.58361087e-01+0.3039628j ,\n",
       "          7.51626830e-02-0.4963692j ,  7.51626830e-02+0.4963692j ,\n",
       "          5.02035628e-01+0.j        ],\n",
       "        [-1.49614095e-01+0.08540514j, -1.49614095e-01-0.08540514j,\n",
       "         -2.00487499e-01-0.43643417j, -2.00487499e-01+0.43643417j,\n",
       "          7.30289199e-01+0.j        ]]))"
      ]
     },
     "execution_count": 54,
     "metadata": {},
     "output_type": "execute_result"
    }
   ],
   "source": [
    "LA.eig(D)"
   ]
  },
  {
   "cell_type": "markdown",
   "metadata": {},
   "source": [
    "<p>Ako želimo samo svojstvene vrijednosti</p>"
   ]
  },
  {
   "cell_type": "code",
   "execution_count": 55,
   "metadata": {},
   "outputs": [
    {
     "data": {
      "text/plain": [
       "array([ 3.73023999+3.25521195j,  3.73023999-3.25521195j,\n",
       "       -6.88473864+8.61937775j, -6.88473864-8.61937775j,\n",
       "       -7.69100269+0.j        ])"
      ]
     },
     "execution_count": 55,
     "metadata": {},
     "output_type": "execute_result"
    }
   ],
   "source": [
    "sv=LA.eig(D)[0]\n",
    "sv"
   ]
  },
  {
   "cell_type": "code",
   "execution_count": 56,
   "metadata": {},
   "outputs": [
    {
     "data": {
      "text/plain": [
       "array([ 3.73023999+3.25521195j,  3.73023999-3.25521195j,\n",
       "       -6.88473864+8.61937775j, -6.88473864-8.61937775j,\n",
       "       -7.69100269+0.j        ])"
      ]
     },
     "execution_count": 56,
     "metadata": {},
     "output_type": "execute_result"
    }
   ],
   "source": [
    "LA.eigvals(D)"
   ]
  },
  {
   "cell_type": "markdown",
   "metadata": {},
   "source": [
    "<p>Matrica $D$ ima samo jednu realnu svojstvenu vrijednost.</p>"
   ]
  },
  {
   "cell_type": "code",
   "execution_count": 57,
   "metadata": {
    "scrolled": true
   },
   "outputs": [
    {
     "data": {
      "text/plain": [
       "array([-7.69100269+0.j])"
      ]
     },
     "execution_count": 57,
     "metadata": {},
     "output_type": "execute_result"
    }
   ],
   "source": [
    "resv=np.extract(sv.imag==0, sv)\n",
    "resv"
   ]
  },
  {
   "cell_type": "markdown",
   "metadata": {},
   "source": [
    "<p style=\"line-height:25px;\">Ako želimo samo svojstvene vektore</p>"
   ]
  },
  {
   "cell_type": "code",
   "execution_count": 58,
   "metadata": {},
   "outputs": [
    {
     "data": {
      "text/plain": [
       "array([[-8.01531447e-01+0.j        , -8.01531447e-01-0.j        ,\n",
       "         5.55839005e-02+0.34672821j,  5.55839005e-02-0.34672821j,\n",
       "        -1.55747627e-01+0.j        ],\n",
       "       [-3.16018350e-01+0.05161828j, -3.16018350e-01-0.05161828j,\n",
       "         5.99411963e-01+0.j        ,  5.99411963e-01-0.j        ,\n",
       "        -1.23664815e-01+0.j        ],\n",
       "       [-5.78605990e-02-0.03424872j, -5.78605990e-02+0.03424872j,\n",
       "        -2.14122141e-04-0.18626165j, -2.14122141e-04+0.18626165j,\n",
       "        -4.18434706e-01+0.j        ],\n",
       "       [ 3.58361087e-01-0.3039628j ,  3.58361087e-01+0.3039628j ,\n",
       "         7.51626830e-02-0.4963692j ,  7.51626830e-02+0.4963692j ,\n",
       "         5.02035628e-01+0.j        ],\n",
       "       [-1.49614095e-01+0.08540514j, -1.49614095e-01-0.08540514j,\n",
       "        -2.00487499e-01-0.43643417j, -2.00487499e-01+0.43643417j,\n",
       "         7.30289199e-01+0.j        ]])"
      ]
     },
     "execution_count": 58,
     "metadata": {},
     "output_type": "execute_result"
    }
   ],
   "source": [
    "vek=LA.eig(D)[1]\n",
    "vek"
   ]
  },
  {
   "cell_type": "markdown",
   "metadata": {},
   "source": [
    "<p style=\"line-height:25px;\">Svojstveni vektor pridružen realnoj svojstenoj vrijednosti pripada stupcu s indeksom 4 jer se realna svojstvena vrijednosti nalazi u pripadnom jednodimenzionalnom polju na poziciji s indeksom 4.</p>"
   ]
  },
  {
   "cell_type": "code",
   "execution_count": 59,
   "metadata": {},
   "outputs": [
    {
     "data": {
      "text/plain": [
       "array([-0.15574763+0.j, -0.12366482+0.j, -0.41843471+0.j,  0.50203563+0.j,\n",
       "        0.7302892 +0.j])"
      ]
     },
     "execution_count": 59,
     "metadata": {},
     "output_type": "execute_result"
    }
   ],
   "source": [
    "vek[:,4]"
   ]
  },
  {
   "cell_type": "markdown",
   "metadata": {},
   "source": [
    "<p style=\"line-height:25px;\">Možemo maknuti 0.j ako nas smeta takav zapis kod vektora i realne svojstvene vrijednosti.</p>"
   ]
  },
  {
   "cell_type": "code",
   "execution_count": 60,
   "metadata": {},
   "outputs": [],
   "source": [
    "only_real=lambda x: x.real\n",
    "vector_real = np.vectorize(only_real)"
   ]
  },
  {
   "cell_type": "code",
   "execution_count": 61,
   "metadata": {},
   "outputs": [
    {
     "data": {
      "text/plain": [
       "array([-0.15574763, -0.12366482, -0.41843471,  0.50203563,  0.7302892 ])"
      ]
     },
     "execution_count": 61,
     "metadata": {},
     "output_type": "execute_result"
    }
   ],
   "source": [
    "vector_real(vek[:,4])"
   ]
  },
  {
   "cell_type": "code",
   "execution_count": 62,
   "metadata": {},
   "outputs": [
    {
     "data": {
      "text/plain": [
       "array([-7.69100269])"
      ]
     },
     "execution_count": 62,
     "metadata": {},
     "output_type": "execute_result"
    }
   ],
   "source": [
    "vector_real(resv)"
   ]
  },
  {
   "cell_type": "markdown",
   "metadata": {},
   "source": [
    "<div style=\"background-color: #F5FFFA; color: #000000; border: 2px solid #B0C4DE; border-radius: 15px; padding:0px 10px 25px; overflow:auto\">\n",
    "<h3>4. zadatak</h3>\n",
    "<p style=\"line-height:30px;\">Postoji li linearni operator $f:\\mathbb{R}^3\\to\\mathbb{R}^2$ za kojeg vrijedi\n",
    "$$f(1,0,0)=(1,0),\\quad f(0,1,0)=(1,3),\\quad f(1,1,1)=(2,4)?$$\n",
    "Ako postoji, odredite u tom slučaju $f(0,0,1)$ i njegovu matricu u paru kanonskih baza.</p>\n",
    "</div>\n",
    "<h3>Rješenje</h3>"
   ]
  },
  {
   "cell_type": "markdown",
   "metadata": {},
   "source": [
    "<p style=\"line-height:25px;\">Matrica $B$ ima maksimalni rang pa je skup $\\mathcal{B}=\\{(1,0,0),(0,1,0),(1,1,1)\\}$ jedna baza za $\\mathbb{R}^3.$ Stoga postoji jedinstveni linearni operator koji zadovoljava zadane uvjete.</p>"
   ]
  },
  {
   "cell_type": "code",
   "execution_count": 63,
   "metadata": {},
   "outputs": [
    {
     "data": {
      "text/plain": [
       "array([[1, 0, 0],\n",
       "       [0, 1, 0],\n",
       "       [1, 1, 1]])"
      ]
     },
     "execution_count": 63,
     "metadata": {},
     "output_type": "execute_result"
    }
   ],
   "source": [
    "B=np.array([(1,0,0),(0,1,0),(1,1,1)])\n",
    "B"
   ]
  },
  {
   "cell_type": "code",
   "execution_count": 64,
   "metadata": {},
   "outputs": [
    {
     "data": {
      "text/plain": [
       "3"
      ]
     },
     "execution_count": 64,
     "metadata": {},
     "output_type": "execute_result"
    }
   ],
   "source": [
    "LA.matrix_rank(B)"
   ]
  },
  {
   "cell_type": "code",
   "execution_count": 65,
   "metadata": {},
   "outputs": [],
   "source": [
    "B=[(1,0,0),(0,1,0),(1,1,1)]\n",
    "Bkan=[(1,0,0),(0,1,0),(0,0,1)]\n",
    "Akan=[(1,0),(0,1)]"
   ]
  },
  {
   "cell_type": "markdown",
   "metadata": {},
   "source": [
    "<p style=\"line-height:25px;\">Matrica operatora $f$ u paru baza $\\mathcal{B}=\\{(1,0,0),(0,1,0),(1,1,1)\\}$ i $\\mathcal{A}_{\\mathrm{kan}}=\\{(1,0),(0,1)\\}$</p>"
   ]
  },
  {
   "cell_type": "code",
   "execution_count": 66,
   "metadata": {},
   "outputs": [
    {
     "data": {
      "text/plain": [
       "array([[1, 1, 2],\n",
       "       [0, 3, 4]])"
      ]
     },
     "execution_count": 66,
     "metadata": {},
     "output_type": "execute_result"
    }
   ],
   "source": [
    "F1=np.array([[1,0],[1,3],[2,4]])\n",
    "F1=np.transpose(F1)\n",
    "F1"
   ]
  },
  {
   "cell_type": "markdown",
   "metadata": {},
   "source": [
    "<p style=\"line-height:25px;\">Matrica operatora $f$ u paru kanonskih baza $\\mathcal{B}_{\\mathrm{kan}}=\\{(1,0,0),(0,1,0),(0,0,1)\\}$ i $\\mathcal{A}_{\\mathrm{kan}}=\\{(1,0),(0,1)\\}$</p>"
   ]
  },
  {
   "cell_type": "code",
   "execution_count": 67,
   "metadata": {},
   "outputs": [
    {
     "data": {
      "text/plain": [
       "array([[1., 1., 0.],\n",
       "       [0., 3., 1.]])"
      ]
     },
     "execution_count": 67,
     "metadata": {},
     "output_type": "execute_result"
    }
   ],
   "source": [
    "F2=MMZI.operator_baza(F1, bazaD1=B, bazaD2=Bkan, bazaK1=Akan, bazaK2=Akan, klasa='numpy')\n",
    "F2"
   ]
  },
  {
   "cell_type": "markdown",
   "metadata": {},
   "source": [
    "<p style=\"line-height:25px;\">$f(0,0,1)=(0,1)$</p>"
   ]
  },
  {
   "cell_type": "code",
   "execution_count": 68,
   "metadata": {},
   "outputs": [
    {
     "data": {
      "text/plain": [
       "array([0., 1.])"
      ]
     },
     "execution_count": 68,
     "metadata": {},
     "output_type": "execute_result"
    }
   ],
   "source": [
    "v=np.array([0,0,1])\n",
    "np.matmul(F2,v)"
   ]
  },
  {
   "cell_type": "markdown",
   "metadata": {},
   "source": [
    "<div style=\"background-color: #F5FFFA; color: #000000; border: 2px solid #B0C4DE; border-radius: 15px; padding:0px 10px 25px; overflow:auto\">\n",
    "<h3>5. zadatak</h3>\n",
    "<p style=\"line-height:35px;\">Zadan je linearni operator $h:\\mathbb{R}^3\\rightarrow\\mathcal{P}_4(t)$ s $g(a,b,c)=(a-b)t^3+2ct^2+(b+3c)t+a+b+c.$</p>\n",
    "<ol style=\"list-style-type:lower-alpha;\">\n",
    "    <li style=\"line-height:30px;\">Odredite matricu $H$ linearnog operatora $h$ u paru baza $\\mathcal{A}=\\{(1,0,0),(0,1,0),(0,0,1)\\}$ i $\\mathcal{B}=\\{1+2t,1-t^2,1+t^3,t+t^2\\}.$</li>\n",
    "    <li style=\"line-height:30px;\">Odredite sumu svih elemenata drugog stupca matrice $H$.</li>\n",
    "    <li style=\"line-height:30px;\">Odredite sumu svih elemenata trećeg retka matrice $H$.</li>\n",
    "    <li style=\"line-height:30px;\">Odredite rang i defekt linearnog operatora $h$.</li>\n",
    "</ol>\n",
    "</div>\n",
    "<h3>Rješenje</h3>"
   ]
  },
  {
   "cell_type": "markdown",
   "metadata": {},
   "source": [
    "<p style=\"line-height:25px;\">Zadatak istovremeno rješavamo pomoću sympy i numpy modula.</p>"
   ]
  },
  {
   "cell_type": "code",
   "execution_count": 69,
   "metadata": {},
   "outputs": [],
   "source": [
    "fun=lambda a,b,c:(a+b+c,b+3*c,2*c,a-b)\n",
    "A=[(1,0,0),(0,1,0),(0,0,1)]\n",
    "B=[(1,2,0,0),(1,0,-1,0),(1,0,0,1),(0,1,1,0)]"
   ]
  },
  {
   "cell_type": "markdown",
   "metadata": {},
   "source": [
    "<h4>a) dio</h4>"
   ]
  },
  {
   "cell_type": "code",
   "execution_count": 70,
   "metadata": {},
   "outputs": [
    {
     "data": {
      "image/png": "[encoded data removed]",
      "text/latex": [
       "$\\displaystyle \\left[\\begin{matrix}0 & -1 & 0\\\\0 & 3 & 1\\\\1 & -1 & 0\\\\0 & 3 & 3\\end{matrix}\\right]$"
      ],
      "text/plain": [
       "⎡0  -1  0⎤\n",
       "⎢        ⎥\n",
       "⎢0  3   1⎥\n",
       "⎢        ⎥\n",
       "⎢1  -1  0⎥\n",
       "⎢        ⎥\n",
       "⎣0  3   3⎦"
      ]
     },
     "execution_count": 70,
     "metadata": {},
     "output_type": "execute_result"
    }
   ],
   "source": [
    "Hsp=MMZI.operator_kanbaza(fun,A,B,'sympy')\n",
    "Hsp"
   ]
  },
  {
   "cell_type": "code",
   "execution_count": 71,
   "metadata": {},
   "outputs": [
    {
     "data": {
      "text/plain": [
       "array([[ 0., -1.,  0.],\n",
       "       [ 0.,  3.,  1.],\n",
       "       [ 1., -1.,  0.],\n",
       "       [ 0.,  3.,  3.]])"
      ]
     },
     "execution_count": 71,
     "metadata": {},
     "output_type": "execute_result"
    }
   ],
   "source": [
    "Hnp=MMZI.operator_kanbaza(fun,A,B,'numpy')\n",
    "Hnp"
   ]
  },
  {
   "cell_type": "markdown",
   "metadata": {},
   "source": [
    "<h4>b) dio</h4>\n",
    "<p>Drugi stupac matrice $H$</p>"
   ]
  },
  {
   "cell_type": "code",
   "execution_count": 72,
   "metadata": {},
   "outputs": [
    {
     "data": {
      "image/png": "[encoded data removed]",
      "text/latex": [
       "$\\displaystyle \\left[\\begin{matrix}-1\\\\3\\\\-1\\\\3\\end{matrix}\\right]$"
      ],
      "text/plain": [
       "⎡-1⎤\n",
       "⎢  ⎥\n",
       "⎢3 ⎥\n",
       "⎢  ⎥\n",
       "⎢-1⎥\n",
       "⎢  ⎥\n",
       "⎣3 ⎦"
      ]
     },
     "execution_count": 72,
     "metadata": {},
     "output_type": "execute_result"
    }
   ],
   "source": [
    "Hsp[:,1]"
   ]
  },
  {
   "cell_type": "code",
   "execution_count": 73,
   "metadata": {},
   "outputs": [
    {
     "data": {
      "text/plain": [
       "array([-1.,  3., -1.,  3.])"
      ]
     },
     "execution_count": 73,
     "metadata": {},
     "output_type": "execute_result"
    }
   ],
   "source": [
    "Hnp[:,1]"
   ]
  },
  {
   "cell_type": "markdown",
   "metadata": {},
   "source": [
    "<p style=\"line-height:25px;\">Suma svih elemenata drugog stupca matrice $H$</p>"
   ]
  },
  {
   "cell_type": "code",
   "execution_count": 74,
   "metadata": {},
   "outputs": [
    {
     "data": {
      "image/png": "[encoded data removed]",
      "text/latex": [
       "$\\displaystyle 4$"
      ],
      "text/plain": [
       "4"
      ]
     },
     "execution_count": 74,
     "metadata": {},
     "output_type": "execute_result"
    }
   ],
   "source": [
    "sum(Hsp[:,1])"
   ]
  },
  {
   "cell_type": "code",
   "execution_count": 75,
   "metadata": {},
   "outputs": [
    {
     "data": {
      "image/png": "[encoded data removed]",
      "text/latex": [
       "$\\displaystyle 4.0$"
      ],
      "text/plain": [
       "4.0"
      ]
     },
     "execution_count": 75,
     "metadata": {},
     "output_type": "execute_result"
    }
   ],
   "source": [
    "sum(Hnp[:,1])"
   ]
  },
  {
   "cell_type": "markdown",
   "metadata": {},
   "source": [
    "<h4>c) dio</h4>\n",
    "<p>Treći redak matrice $H$</p>"
   ]
  },
  {
   "cell_type": "code",
   "execution_count": 76,
   "metadata": {},
   "outputs": [
    {
     "data": {
      "image/png": "[encoded data removed]",
      "text/latex": [
       "$\\displaystyle \\left[\\begin{matrix}1 & -1 & 0\\end{matrix}\\right]$"
      ],
      "text/plain": [
       "[1  -1  0]"
      ]
     },
     "execution_count": 76,
     "metadata": {},
     "output_type": "execute_result"
    }
   ],
   "source": [
    "Hsp[2,:]"
   ]
  },
  {
   "cell_type": "code",
   "execution_count": 77,
   "metadata": {},
   "outputs": [
    {
     "data": {
      "text/plain": [
       "array([ 1., -1.,  0.])"
      ]
     },
     "execution_count": 77,
     "metadata": {},
     "output_type": "execute_result"
    }
   ],
   "source": [
    "Hnp[2,:]"
   ]
  },
  {
   "cell_type": "markdown",
   "metadata": {},
   "source": [
    "<p style=\"line-height:25px;\">Suma svih elemenata trećeg retka matrice $H$</p>"
   ]
  },
  {
   "cell_type": "code",
   "execution_count": 78,
   "metadata": {},
   "outputs": [
    {
     "data": {
      "image/png": "[encoded data removed]",
      "text/latex": [
       "$\\displaystyle 0$"
      ],
      "text/plain": [
       "0"
      ]
     },
     "execution_count": 78,
     "metadata": {},
     "output_type": "execute_result"
    }
   ],
   "source": [
    "sum(Hsp[2,:])"
   ]
  },
  {
   "cell_type": "code",
   "execution_count": 79,
   "metadata": {},
   "outputs": [
    {
     "data": {
      "image/png": "[encoded data removed]",
      "text/latex": [
       "$\\displaystyle 0.0$"
      ],
      "text/plain": [
       "0.0"
      ]
     },
     "execution_count": 79,
     "metadata": {},
     "output_type": "execute_result"
    }
   ],
   "source": [
    "sum(Hnp[2,:])"
   ]
  },
  {
   "cell_type": "markdown",
   "metadata": {},
   "source": [
    "<h4>d) dio</h4>\n",
    "<p>Rang operatora $h$</p>"
   ]
  },
  {
   "cell_type": "code",
   "execution_count": 80,
   "metadata": {},
   "outputs": [
    {
     "data": {
      "image/png": "[encoded data removed]",
      "text/latex": [
       "$\\displaystyle 3$"
      ],
      "text/plain": [
       "3"
      ]
     },
     "execution_count": 80,
     "metadata": {},
     "output_type": "execute_result"
    }
   ],
   "source": [
    "Hsp.rank()"
   ]
  },
  {
   "cell_type": "code",
   "execution_count": 81,
   "metadata": {},
   "outputs": [
    {
     "data": {
      "text/plain": [
       "3"
      ]
     },
     "execution_count": 81,
     "metadata": {},
     "output_type": "execute_result"
    }
   ],
   "source": [
    "LA.matrix_rank(Hnp)"
   ]
  },
  {
   "cell_type": "markdown",
   "metadata": {},
   "source": [
    "<p>Defekt operatora $h$</p>"
   ]
  },
  {
   "cell_type": "code",
   "execution_count": 82,
   "metadata": {},
   "outputs": [
    {
     "data": {
      "image/png": "[encoded data removed]",
      "text/latex": [
       "$\\displaystyle 0$"
      ],
      "text/plain": [
       "0"
      ]
     },
     "execution_count": 82,
     "metadata": {},
     "output_type": "execute_result"
    }
   ],
   "source": [
    "Hsp.shape[1]-Hsp.rank()"
   ]
  },
  {
   "cell_type": "code",
   "execution_count": 83,
   "metadata": {},
   "outputs": [
    {
     "data": {
      "text/plain": [
       "0"
      ]
     },
     "execution_count": 83,
     "metadata": {},
     "output_type": "execute_result"
    }
   ],
   "source": [
    "Hnp.shape[1]-LA.matrix_rank(Hnp)"
   ]
  },
  {
   "cell_type": "code",
   "execution_count": null,
   "metadata": {},
   "outputs": [],
   "source": []
  }
 ],
 "metadata": {
  "kernelspec": {
   "display_name": "Python 3 (ipykernel)",
   "language": "python",
   "name": "python3"
  },
  "language_info": {
   "codemirror_mode": {
    "name": "ipython",
    "version": 3
   },
   "file_extension": ".py",
   "mimetype": "text/x-python",
   "name": "python",
   "nbconvert_exporter": "python",
   "pygments_lexer": "ipython3",
   "version": "3.9.6"
  }
 },
 "nbformat": 4,
 "nbformat_minor": 4
}
