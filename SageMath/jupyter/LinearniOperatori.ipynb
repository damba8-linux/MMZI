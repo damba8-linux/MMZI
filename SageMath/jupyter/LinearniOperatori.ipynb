{
 "cells": [
  {
   "cell_type": "markdown",
   "metadata": {},
   "source": [
    "<h1>Linearni operatori u SAGE-u</h1>\n",
    "<p style=\"font-style:italic;\">verzija: SageMath 9.4</p>"
   ]
  },
  {
   "cell_type": "code",
   "execution_count": 1,
   "metadata": {},
   "outputs": [
    {
     "name": "stdout",
     "output_type": "stream",
     "text": [
      "Dodatne funkcije za predmet 'Matematicke metode za informaticare'.\n",
      "MMZI_naredbe je rjecnik u kojemu je po poglavljima dan popis svih dodatnih naredbi koje trenutno postoje.\n"
     ]
    }
   ],
   "source": [
    "load('MMZI.sage')"
   ]
  },
  {
   "cell_type": "code",
   "execution_count": 2,
   "metadata": {},
   "outputs": [],
   "source": [
    "%display latex"
   ]
  },
  {
   "cell_type": "markdown",
   "metadata": {},
   "source": [
    "<div style=\"background-color: #F5FFFA; color: #000000; border: 2px solid #B0C4DE; border-radius: 15px; padding:0px 10px 25px; overflow:auto\">\n",
    "<h3>Definicija</h3>\n",
    "<p style=\"line-height:30px;\">Neka su $U$ i $V$ vektorski prostori nad istim poljem $F$, a $f:U\\to V$ preslikavanje. Kažemo da je $f$ <span style=\"color: #ff0000;\"><em>linearni operator</em></span> ako za svaki $\\alpha,\\beta\\in F$ i za sve $a,b\\in U$ vrijedi $f(\\alpha a+\\beta b)=\\alpha f(a)+\\beta f(b)$.</p>\n",
    "</div>"
   ]
  },
  {
   "cell_type": "markdown",
   "metadata": {},
   "source": [
    "<div style=\"background-color: #F5FFFA; color: #000000; border: 2px solid #B0C4DE; border-radius: 15px; padding:0px 10px 25px; overflow:auto\">\n",
    "<h3>1. zadatak</h3>\n",
    "<p>Jesu li sljedeća preslikavanja linearni operatori?</p>\n",
    "<ol style=\"list-style-type:lower-alpha;\">\n",
    "<li style=\"line-height:30px;\">$f:\\mathbb{R}^3\\to\\mathbb{R},\\quad f(x_1, x_2, x_3)=x_1$</li>\n",
    "<li style=\"line-height:30px;\">$g:\\mathbb{R}^2\\to\\mathbb{R},\\quad g(x_1, x_2)=x_1x_2$</li>\n",
    "<li style=\"line-height:30px;\">$h:\\mathbb{R}^3\\to\\mathbb{R}^3,\\quad h(x_1,x_2,x_3)=(2x_1+x_2-x_3, x_3, x_1+x_2)$</li>\n",
    "<ol>\n",
    "</div>\n",
    "<h3>Rješenje</h3>\n",
    "<p style=\"line-height:25px;\">Moramo provjeriti da vrijedi jednakost iz definicije linearnog operatora. U tu svrhu posebno ćemo raspisati lijevu i desnu stranu te jednakosti i provjeriti jesu li one jednake.</p>"
   ]
  },
  {
   "cell_type": "code",
   "execution_count": 3,
   "metadata": {},
   "outputs": [
    {
     "data": {
      "text/html": [
       "<html>\\[\\newcommand{\\Bold}[1]{\\mathbf{#1}}\\left(x_{1}, x_{2}, x_{3}, y_{1}, y_{2}, y_{3}, k, l\\right)\\]</html>"
      ],
      "text/latex": [
       "$$\\newcommand{\\Bold}[1]{\\mathbf{#1}}\\left(x_{1}, x_{2}, x_{3}, y_{1}, y_{2}, y_{3}, k, l\\right)$$"
      ],
      "text/plain": [
       "(x_1, x_2, x_3, y_1, y_2, y_3, k, l)"
      ]
     },
     "execution_count": 3,
     "metadata": {},
     "output_type": "execute_result"
    }
   ],
   "source": [
    "var(\"x_1 x_2 x_3 y_1 y_2 y_3 k l\")"
   ]
  },
  {
   "cell_type": "markdown",
   "metadata": {},
   "source": [
    "<p><strong>a) dio</strong></p>"
   ]
  },
  {
   "cell_type": "code",
   "execution_count": 4,
   "metadata": {},
   "outputs": [],
   "source": [
    "a=vector((x_1,x_2,x_3))\n",
    "b=vector((y_1,y_2,y_3))\n",
    "f(x_1,x_2,x_3)=x_1"
   ]
  },
  {
   "cell_type": "markdown",
   "metadata": {},
   "source": [
    "<p>lijeva strana</p>"
   ]
  },
  {
   "cell_type": "code",
   "execution_count": 5,
   "metadata": {},
   "outputs": [
    {
     "data": {
      "text/html": [
       "<html>\\[\\newcommand{\\Bold}[1]{\\mathbf{#1}}k x_{1} + l y_{1}\\]</html>"
      ],
      "text/latex": [
       "$$\\newcommand{\\Bold}[1]{\\mathbf{#1}}k x_{1} + l y_{1}$$"
      ],
      "text/plain": [
       "k*x_1 + l*y_1"
      ]
     },
     "execution_count": 5,
     "metadata": {},
     "output_type": "execute_result"
    }
   ],
   "source": [
    "f(*(k*a+l*b))"
   ]
  },
  {
   "cell_type": "markdown",
   "metadata": {},
   "source": [
    "<p>desna strana</p>"
   ]
  },
  {
   "cell_type": "code",
   "execution_count": 6,
   "metadata": {},
   "outputs": [
    {
     "data": {
      "text/html": [
       "<html>\\[\\newcommand{\\Bold}[1]{\\mathbf{#1}}k x_{1} + l y_{1}\\]</html>"
      ],
      "text/latex": [
       "$$\\newcommand{\\Bold}[1]{\\mathbf{#1}}k x_{1} + l y_{1}$$"
      ],
      "text/plain": [
       "k*x_1 + l*y_1"
      ]
     },
     "execution_count": 6,
     "metadata": {},
     "output_type": "execute_result"
    }
   ],
   "source": [
    "k*f(*a)+l*f(*b)"
   ]
  },
  {
   "cell_type": "markdown",
   "metadata": {},
   "source": [
    "<p>Kako su lijeva i desna strana jednake, zaključujemo da je $f$ linearni operator.</p>\n",
    "\n",
    "<p><strong>b) dio</strong></p>"
   ]
  },
  {
   "cell_type": "code",
   "execution_count": 7,
   "metadata": {},
   "outputs": [],
   "source": [
    "a=vector((x_1,x_2))\n",
    "b=vector((y_1,y_2))\n",
    "g(x_1,x_2)=x_1*x_2"
   ]
  },
  {
   "cell_type": "markdown",
   "metadata": {},
   "source": [
    "<p>lijeva strana</p>"
   ]
  },
  {
   "cell_type": "code",
   "execution_count": 8,
   "metadata": {},
   "outputs": [
    {
     "data": {
      "text/html": [
       "<html>\\[\\newcommand{\\Bold}[1]{\\mathbf{#1}}{\\left(k x_{1} + l y_{1}\\right)} {\\left(k x_{2} + l y_{2}\\right)}\\]</html>"
      ],
      "text/latex": [
       "$$\\newcommand{\\Bold}[1]{\\mathbf{#1}}{\\left(k x_{1} + l y_{1}\\right)} {\\left(k x_{2} + l y_{2}\\right)}$$"
      ],
      "text/plain": [
       "(k*x_1 + l*y_1)*(k*x_2 + l*y_2)"
      ]
     },
     "execution_count": 8,
     "metadata": {},
     "output_type": "execute_result"
    }
   ],
   "source": [
    "g(*(k*a+l*b))"
   ]
  },
  {
   "cell_type": "code",
   "execution_count": 9,
   "metadata": {},
   "outputs": [
    {
     "data": {
      "text/html": [
       "<html>\\[\\newcommand{\\Bold}[1]{\\mathbf{#1}}k^{2} x_{1} x_{2} + k l x_{2} y_{1} + k l x_{1} y_{2} + l^{2} y_{1} y_{2}\\]</html>"
      ],
      "text/latex": [
       "$$\\newcommand{\\Bold}[1]{\\mathbf{#1}}k^{2} x_{1} x_{2} + k l x_{2} y_{1} + k l x_{1} y_{2} + l^{2} y_{1} y_{2}$$"
      ],
      "text/plain": [
       "k^2*x_1*x_2 + k*l*x_2*y_1 + k*l*x_1*y_2 + l^2*y_1*y_2"
      ]
     },
     "execution_count": 9,
     "metadata": {},
     "output_type": "execute_result"
    }
   ],
   "source": [
    "expand(g(*(k*a+l*b)))"
   ]
  },
  {
   "cell_type": "markdown",
   "metadata": {},
   "source": [
    "<p>desna strana</p>"
   ]
  },
  {
   "cell_type": "code",
   "execution_count": 10,
   "metadata": {},
   "outputs": [
    {
     "data": {
      "text/html": [
       "<html>\\[\\newcommand{\\Bold}[1]{\\mathbf{#1}}k x_{1} x_{2} + l y_{1} y_{2}\\]</html>"
      ],
      "text/latex": [
       "$$\\newcommand{\\Bold}[1]{\\mathbf{#1}}k x_{1} x_{2} + l y_{1} y_{2}$$"
      ],
      "text/plain": [
       "k*x_1*x_2 + l*y_1*y_2"
      ]
     },
     "execution_count": 10,
     "metadata": {},
     "output_type": "execute_result"
    }
   ],
   "source": [
    "k*g(*a)+l*g(*b)"
   ]
  },
  {
   "cell_type": "markdown",
   "metadata": {},
   "source": [
    "<p>Kako su lijeva i desna strana općenito različite, zaključujemo da $g$ nije linearni operator.</p>\n",
    "\n",
    "<p><strong>c) dio</strong></p>"
   ]
  },
  {
   "cell_type": "code",
   "execution_count": 11,
   "metadata": {},
   "outputs": [],
   "source": [
    "a=vector((x_1,x_2,x_3))\n",
    "b=vector((y_1,y_2,y_3))\n",
    "h(x_1,x_2,x_3)=(2*x_1+x_2-x_3,x_3,x_1+x_2)"
   ]
  },
  {
   "cell_type": "markdown",
   "metadata": {},
   "source": [
    "<p>lijeva strana</p>"
   ]
  },
  {
   "cell_type": "code",
   "execution_count": 12,
   "metadata": {},
   "outputs": [
    {
     "data": {
      "text/html": [
       "<html>\\[\\newcommand{\\Bold}[1]{\\mathbf{#1}}\\left(2 \\, k x_{1} + k x_{2} - k x_{3} + 2 \\, l y_{1} + l y_{2} - l y_{3},\\,k x_{3} + l y_{3},\\,k x_{1} + k x_{2} + l y_{1} + l y_{2}\\right)\\]</html>"
      ],
      "text/latex": [
       "$$\\newcommand{\\Bold}[1]{\\mathbf{#1}}\\left(2 \\, k x_{1} + k x_{2} - k x_{3} + 2 \\, l y_{1} + l y_{2} - l y_{3},\\,k x_{3} + l y_{3},\\,k x_{1} + k x_{2} + l y_{1} + l y_{2}\\right)$$"
      ],
      "text/plain": [
       "(2*k*x_1 + k*x_2 - k*x_3 + 2*l*y_1 + l*y_2 - l*y_3, k*x_3 + l*y_3, k*x_1 + k*x_2 + l*y_1 + l*y_2)"
      ]
     },
     "execution_count": 12,
     "metadata": {},
     "output_type": "execute_result"
    }
   ],
   "source": [
    "lijevo=h(*(k*a+l*b)); lijevo"
   ]
  },
  {
   "cell_type": "markdown",
   "metadata": {},
   "source": [
    "<p>desna strana</p>"
   ]
  },
  {
   "cell_type": "code",
   "execution_count": 13,
   "metadata": {},
   "outputs": [
    {
     "data": {
      "text/html": [
       "<html>\\[\\newcommand{\\Bold}[1]{\\mathbf{#1}}\\left(k {\\left(2 \\, x_{1} + x_{2} - x_{3}\\right)} + l {\\left(2 \\, y_{1} + y_{2} - y_{3}\\right)},\\,k x_{3} + l y_{3},\\,k {\\left(x_{1} + x_{2}\\right)} + l {\\left(y_{1} + y_{2}\\right)}\\right)\\]</html>"
      ],
      "text/latex": [
       "$$\\newcommand{\\Bold}[1]{\\mathbf{#1}}\\left(k {\\left(2 \\, x_{1} + x_{2} - x_{3}\\right)} + l {\\left(2 \\, y_{1} + y_{2} - y_{3}\\right)},\\,k x_{3} + l y_{3},\\,k {\\left(x_{1} + x_{2}\\right)} + l {\\left(y_{1} + y_{2}\\right)}\\right)$$"
      ],
      "text/plain": [
       "(k*(2*x_1 + x_2 - x_3) + l*(2*y_1 + y_2 - y_3), k*x_3 + l*y_3, k*(x_1 + x_2) + l*(y_1 + y_2))"
      ]
     },
     "execution_count": 13,
     "metadata": {},
     "output_type": "execute_result"
    }
   ],
   "source": [
    "desno=k*h(*a)+l*h(*b); desno"
   ]
  },
  {
   "cell_type": "markdown",
   "metadata": {},
   "source": [
    "<p>razlika lijeve i desne strane je nulvektor pa je $h$ linearni operator</p>"
   ]
  },
  {
   "cell_type": "code",
   "execution_count": 14,
   "metadata": {},
   "outputs": [
    {
     "data": {
      "text/html": [
       "<html>\\[\\newcommand{\\Bold}[1]{\\mathbf{#1}}\\left(-k {\\left(2 \\, x_{1} + x_{2} - x_{3}\\right)} + 2 \\, k x_{1} + k x_{2} - k x_{3} - l {\\left(2 \\, y_{1} + y_{2} - y_{3}\\right)} + 2 \\, l y_{1} + l y_{2} - l y_{3},\\,0,\\,-k {\\left(x_{1} + x_{2}\\right)} + k x_{1} + k x_{2} - l {\\left(y_{1} + y_{2}\\right)} + l y_{1} + l y_{2}\\right)\\]</html>"
      ],
      "text/latex": [
       "$$\\newcommand{\\Bold}[1]{\\mathbf{#1}}\\left(-k {\\left(2 \\, x_{1} + x_{2} - x_{3}\\right)} + 2 \\, k x_{1} + k x_{2} - k x_{3} - l {\\left(2 \\, y_{1} + y_{2} - y_{3}\\right)} + 2 \\, l y_{1} + l y_{2} - l y_{3},\\,0,\\,-k {\\left(x_{1} + x_{2}\\right)} + k x_{1} + k x_{2} - l {\\left(y_{1} + y_{2}\\right)} + l y_{1} + l y_{2}\\right)$$"
      ],
      "text/plain": [
       "(-k*(2*x_1 + x_2 - x_3) + 2*k*x_1 + k*x_2 - k*x_3 - l*(2*y_1 + y_2 - y_3) + 2*l*y_1 + l*y_2 - l*y_3, 0, -k*(x_1 + x_2) + k*x_1 + k*x_2 - l*(y_1 + y_2) + l*y_1 + l*y_2)"
      ]
     },
     "execution_count": 14,
     "metadata": {},
     "output_type": "execute_result"
    }
   ],
   "source": [
    "lijevo-desno"
   ]
  },
  {
   "cell_type": "code",
   "execution_count": 15,
   "metadata": {},
   "outputs": [
    {
     "data": {
      "text/html": [
       "<html>\\[\\newcommand{\\Bold}[1]{\\mathbf{#1}}\\left(0,\\,0,\\,0\\right)\\]</html>"
      ],
      "text/latex": [
       "$$\\newcommand{\\Bold}[1]{\\mathbf{#1}}\\left(0,\\,0,\\,0\\right)$$"
      ],
      "text/plain": [
       "(0, 0, 0)"
      ]
     },
     "execution_count": 15,
     "metadata": {},
     "output_type": "execute_result"
    }
   ],
   "source": [
    "vector(lijevo-desno).apply_map(lambda t: expand(t))"
   ]
  },
  {
   "cell_type": "markdown",
   "metadata": {},
   "source": [
    "<h2>Matrični zapis linearnog operatora</h2>\n",
    "<p style=\"line-height:25px;\">U datoteci <span style=\"font-style:italic;color:red;\">OPM.sage</span> implementirane su četiri funkcije koje će ubrzavati rad s linearnim operatorima preko njihovih matričnih zapisa. U zadacima budu pokazane primjene tih funkcija, a ovdje dajemo samo kratki opis tih funkcija.</p>\n",
    "<ul>\n",
    "<li style=\"line-height:25px;\"><span style=\"color: #ff0000;\"><em>operator_kan</em></span>: funkcija koja daje matrični zapis linearnog operatora <span style=\"color: #ff0000;\"><em>f</em></span> u paru kanonskih baza. Linearni operator mora biti prethodno već definiran kao funkcija ili pak može biti definiran na samom ulazu kao lambda funkcija.</li>\n",
    "<br />\n",
    "<li style=\"line-height:25px;\"><span style=\"color: #ff0000;\"><em>operator_kanbaza</em></span>: funkcija koja daje matrični zapis linearnog operatora <span style=\"color: #ff0000;\"><em>f</em></span> u paru baza (<em><span style=\"color: #ff0000;\">baza1</span></em>,<span style=\"color: #ff0000;\"><em> baza2</em></span>). Ako se <em><span style=\"color: #ff0000;\">baza2</span></em> eksplicitno ne navede, podrazumijeva se da je tada <em><span style=\"color: #ff0000;\">baza2</span></em>=<em><span style=\"color: #ff0000;\">baza1</span></em> (to je slučaj kada je domena linearnog operatora jednaka kodomeni i u tom slučaju standardno uzimamo jednake baze za domenu i kodomenu; mada i ne moramo pa u tom slučaju možemo eksplicitno navesti neku drugu bazu za kodomenu). Linearni operator mora biti prethodno već definiran kao funkcija ili pak može biti definiran na samom ulazu kao lambda funkcija. Također, može biti definiran (već prethodno ili na samom ulazu) i svojim matričnim zapisom u paru kanonskih baza.</li>\n",
    "<br />\n",
    "<li><em><span style=\"color: #ff0000;\">matrica_prijelaza</span></em>: funkcija koja daje matricu prijelaza iz baze <em><span style=\"color: #ff0000;\">baza1</span></em> u bazu <span style=\"color: #ff0000;\"><em>baza2</em></span>.</li>\n",
    "<br />\n",
    "<li style=\"line-height:25px;\"><em><span style=\"color: #ff0000;\">operator_baza</span></em>: funkcija koja je poopćenje funkcije <em><span style=\"color: #ff0000;\">operator_kanbaza</span></em>. Ova funkcija daje matrični prikaz linearnog operatora <em><span style=\"color: #ff0000;\">f</span></em> u paru baza (<em><span style=\"color: #ff0000;\">bazaD2</span></em>, <span style=\"color: #ff0000;\"><em>bazaK2</em></span>) ako je on zadan u paru baza (<em><span style=\"color: #ff0000;\">bazaD1</span></em>, <span style=\"color: #ff0000;\"><em>bazaK1</em></span>). Ako baza <span style=\"color: #ff0000;\"><em>bazaK1</em></span> nije eksplicitno navedena podrazumijeva se da je <span style=\"color: #ff0000;\"><em>bazaK1</em></span>=<span style=\"color: #ff0000;\"><em>bazaD1</em></span>. Ako baza <span style=\"color: #ff0000;\"><em>bazaK2</em></span> nije eksplicitno navedena podrazumijeva se da je <span style=\"color: #ff0000;\"><em>bazaK2</em></span>=<span style=\"color: #ff0000;\"><em>bazaD2</em></span>. Linearni operator mora biti prethodno već definiran kao funkcija ili pak  može biti definiran na samom ulazu kao lambda funkcija u paru baza (<span style=\"color: #ff0000;\"><em>bazaD1</em></span>, <span style=\"color: #ff0000;\"><em>bazaK1</em></span>). Također, može  biti definiran (već prethodno ili na samom ulazu) i svojim matričnim  zapisom u paru baza (<span style=\"color: #ff0000;\"><em>bazaD1</em></span>, <span style=\"color: #ff0000;\"><em>bazaK1</em></span>).</li>\n",
    "</ul>"
   ]
  },
  {
   "cell_type": "markdown",
   "metadata": {},
   "source": [
    "<div style=\"background-color: #F5FFFA; color: #000000; border: 2px solid #B0C4DE; border-radius: 15px; padding:0px 10px 25px; overflow:auto\">\n",
    "<h3>2. zadatak</h3>\n",
    "<p>Neka je $f:\\mathbb{R}^3\\to\\mathbb{R}^3$ operator zadan s $f(x,y,z)=(2x,4x-y,2x+3y-z)$.</p>\n",
    "<ol style=\"list-style-type:lower-alpha;\">\n",
    "<li style=\"line-height:30px;\"> Dokažite da je $f$ linearni operator.</li>\n",
    "<li style=\"line-height:30px;\"> Nađite matricu operatora $f$ u kanonskoj bazi.</li>\n",
    "<li style=\"line-height:30px;\"> Izračunajte sliku vektora $(4,3,1)$.</li>\n",
    "<li style=\"line-height:30px;\"> Nađite matricu tog operatora u bazi $\\mathcal{B}=\\{(1,0,0), (1,1,0), (3,4,5)\\}$.</li>\n",
    "</ol>\n",
    "</div>\n",
    "<h3>Rješenje</h3>"
   ]
  },
  {
   "cell_type": "code",
   "execution_count": 16,
   "metadata": {},
   "outputs": [
    {
     "data": {
      "text/html": [
       "<html>\\[\\newcommand{\\Bold}[1]{\\mathbf{#1}}\\left(x_{1}, y_{1}, z_{1}, x_{2}, y_{2}, z_{2}, k, l\\right)\\]</html>"
      ],
      "text/latex": [
       "$$\\newcommand{\\Bold}[1]{\\mathbf{#1}}\\left(x_{1}, y_{1}, z_{1}, x_{2}, y_{2}, z_{2}, k, l\\right)$$"
      ],
      "text/plain": [
       "(x_1, y_1, z_1, x_2, y_2, z_2, k, l)"
      ]
     },
     "execution_count": 16,
     "metadata": {},
     "output_type": "execute_result"
    }
   ],
   "source": [
    "var(\"x_1 y_1 z_1 x_2 y_2 z_2 k l\")"
   ]
  },
  {
   "cell_type": "code",
   "execution_count": 17,
   "metadata": {},
   "outputs": [],
   "source": [
    "def f(x,y,z):\n",
    "    return (2*x,4*x-y,2*x+3*y-z)"
   ]
  },
  {
   "cell_type": "markdown",
   "metadata": {},
   "source": [
    "<p><strong>a) dio</strong></p>"
   ]
  },
  {
   "cell_type": "code",
   "execution_count": 18,
   "metadata": {},
   "outputs": [],
   "source": [
    "a=vector((x_1,y_1,z_1))\n",
    "b=vector((x_2,y_2,z_2))\n",
    "lijevo=f(*(k*a+l*b))\n",
    "desno=k*vector(f(*a))+l*vector(f(*b))"
   ]
  },
  {
   "cell_type": "code",
   "execution_count": 19,
   "metadata": {},
   "outputs": [
    {
     "data": {
      "text/html": [
       "<html>\\[\\newcommand{\\Bold}[1]{\\mathbf{#1}}\\left(0,\\,-k {\\left(4 \\, x_{1} - y_{1}\\right)} + 4 \\, k x_{1} - l {\\left(4 \\, x_{2} - y_{2}\\right)} + 4 \\, l x_{2} - k y_{1} - l y_{2},\\,-k {\\left(2 \\, x_{1} + 3 \\, y_{1} - z_{1}\\right)} + 2 \\, k x_{1} - l {\\left(2 \\, x_{2} + 3 \\, y_{2} - z_{2}\\right)} + 2 \\, l x_{2} + 3 \\, k y_{1} + 3 \\, l y_{2} - k z_{1} - l z_{2}\\right)\\]</html>"
      ],
      "text/latex": [
       "$$\\newcommand{\\Bold}[1]{\\mathbf{#1}}\\left(0,\\,-k {\\left(4 \\, x_{1} - y_{1}\\right)} + 4 \\, k x_{1} - l {\\left(4 \\, x_{2} - y_{2}\\right)} + 4 \\, l x_{2} - k y_{1} - l y_{2},\\,-k {\\left(2 \\, x_{1} + 3 \\, y_{1} - z_{1}\\right)} + 2 \\, k x_{1} - l {\\left(2 \\, x_{2} + 3 \\, y_{2} - z_{2}\\right)} + 2 \\, l x_{2} + 3 \\, k y_{1} + 3 \\, l y_{2} - k z_{1} - l z_{2}\\right)$$"
      ],
      "text/plain": [
       "(0, -k*(4*x_1 - y_1) + 4*k*x_1 - l*(4*x_2 - y_2) + 4*l*x_2 - k*y_1 - l*y_2, -k*(2*x_1 + 3*y_1 - z_1) + 2*k*x_1 - l*(2*x_2 + 3*y_2 - z_2) + 2*l*x_2 + 3*k*y_1 + 3*l*y_2 - k*z_1 - l*z_2)"
      ]
     },
     "execution_count": 19,
     "metadata": {},
     "output_type": "execute_result"
    }
   ],
   "source": [
    "vector(lijevo)-desno"
   ]
  },
  {
   "cell_type": "code",
   "execution_count": 20,
   "metadata": {},
   "outputs": [
    {
     "data": {
      "text/html": [
       "<html>\\[\\newcommand{\\Bold}[1]{\\mathbf{#1}}\\left(0,\\,0,\\,0\\right)\\]</html>"
      ],
      "text/latex": [
       "$$\\newcommand{\\Bold}[1]{\\mathbf{#1}}\\left(0,\\,0,\\,0\\right)$$"
      ],
      "text/plain": [
       "(0, 0, 0)"
      ]
     },
     "execution_count": 20,
     "metadata": {},
     "output_type": "execute_result"
    }
   ],
   "source": [
    "vector(lijevo).apply_map(lambda t: expand(t))-desno.apply_map(lambda t: expand(t))"
   ]
  },
  {
   "cell_type": "markdown",
   "metadata": {},
   "source": [
    "<p><strong>b) dio</strong></p>"
   ]
  },
  {
   "cell_type": "code",
   "execution_count": 21,
   "metadata": {},
   "outputs": [
    {
     "data": {
      "text/html": [
       "<html>\\[\\newcommand{\\Bold}[1]{\\mathbf{#1}}\\left(\\begin{array}{rrr}\n",
       "2 & 0 & 0 \\\\\n",
       "4 & -1 & 0 \\\\\n",
       "2 & 3 & -1\n",
       "\\end{array}\\right)\\]</html>"
      ],
      "text/latex": [
       "$$\\newcommand{\\Bold}[1]{\\mathbf{#1}}\\left(\\begin{array}{rrr}\n",
       "2 & 0 & 0 \\\\\n",
       "4 & -1 & 0 \\\\\n",
       "2 & 3 & -1\n",
       "\\end{array}\\right)$$"
      ],
      "text/plain": [
       "[ 2  0  0]\n",
       "[ 4 -1  0]\n",
       "[ 2  3 -1]"
      ]
     },
     "execution_count": 21,
     "metadata": {},
     "output_type": "execute_result"
    }
   ],
   "source": [
    "operator_kan(f)"
   ]
  },
  {
   "cell_type": "code",
   "execution_count": 22,
   "metadata": {},
   "outputs": [
    {
     "data": {
      "text/html": [
       "<html>\\[\\newcommand{\\Bold}[1]{\\mathbf{#1}}\\left(\\begin{array}{rrr}\n",
       "2 & 0 & 0 \\\\\n",
       "4 & -1 & 0 \\\\\n",
       "2 & 3 & -1\n",
       "\\end{array}\\right)\\]</html>"
      ],
      "text/latex": [
       "$$\\newcommand{\\Bold}[1]{\\mathbf{#1}}\\left(\\begin{array}{rrr}\n",
       "2 & 0 & 0 \\\\\n",
       "4 & -1 & 0 \\\\\n",
       "2 & 3 & -1\n",
       "\\end{array}\\right)$$"
      ],
      "text/plain": [
       "[ 2  0  0]\n",
       "[ 4 -1  0]\n",
       "[ 2  3 -1]"
      ]
     },
     "execution_count": 22,
     "metadata": {},
     "output_type": "execute_result"
    }
   ],
   "source": [
    "operator_kan(lambda x,y,z:(2*x,4*x-y,2*x+3*y-z))"
   ]
  },
  {
   "cell_type": "markdown",
   "metadata": {},
   "source": [
    "<p><strong>c) dio</strong></p>\n",
    "\n",
    "<p>pomoću formule</p>"
   ]
  },
  {
   "cell_type": "code",
   "execution_count": 23,
   "metadata": {},
   "outputs": [
    {
     "data": {
      "text/html": [
       "<html>\\[\\newcommand{\\Bold}[1]{\\mathbf{#1}}\\left(8, 13, 16\\right)\\]</html>"
      ],
      "text/latex": [
       "$$\\newcommand{\\Bold}[1]{\\mathbf{#1}}\\left(8, 13, 16\\right)$$"
      ],
      "text/plain": [
       "(8, 13, 16)"
      ]
     },
     "execution_count": 23,
     "metadata": {},
     "output_type": "execute_result"
    }
   ],
   "source": [
    "f(4,3,1)"
   ]
  },
  {
   "cell_type": "markdown",
   "metadata": {},
   "source": [
    "<p>pomoću matričnog zapisa u kanonskoj bazi</p>"
   ]
  },
  {
   "cell_type": "code",
   "execution_count": 24,
   "metadata": {},
   "outputs": [
    {
     "data": {
      "text/html": [
       "<html>\\[\\newcommand{\\Bold}[1]{\\mathbf{#1}}\\left(8,\\,13,\\,16\\right)\\]</html>"
      ],
      "text/latex": [
       "$$\\newcommand{\\Bold}[1]{\\mathbf{#1}}\\left(8,\\,13,\\,16\\right)$$"
      ],
      "text/plain": [
       "(8, 13, 16)"
      ]
     },
     "execution_count": 24,
     "metadata": {},
     "output_type": "execute_result"
    }
   ],
   "source": [
    "operator_kan(f)*vector((4,3,1))"
   ]
  },
  {
   "cell_type": "markdown",
   "metadata": {},
   "source": [
    "<p><strong>d) dio</strong></p>"
   ]
  },
  {
   "cell_type": "code",
   "execution_count": 25,
   "metadata": {},
   "outputs": [
    {
     "data": {
      "text/html": [
       "<html>\\[\\newcommand{\\Bold}[1]{\\mathbf{#1}}\\left(\\begin{array}{rrr}\n",
       "-\\frac{8}{5} & 0 & \\frac{3}{5} \\\\\n",
       "\\frac{12}{5} & -1 & -\\frac{12}{5} \\\\\n",
       "\\frac{2}{5} & 1 & \\frac{13}{5}\n",
       "\\end{array}\\right)\\]</html>"
      ],
      "text/latex": [
       "$$\\newcommand{\\Bold}[1]{\\mathbf{#1}}\\left(\\begin{array}{rrr}\n",
       "-\\frac{8}{5} & 0 & \\frac{3}{5} \\\\\n",
       "\\frac{12}{5} & -1 & -\\frac{12}{5} \\\\\n",
       "\\frac{2}{5} & 1 & \\frac{13}{5}\n",
       "\\end{array}\\right)$$"
      ],
      "text/plain": [
       "[ -8/5     0   3/5]\n",
       "[ 12/5    -1 -12/5]\n",
       "[  2/5     1  13/5]"
      ]
     },
     "execution_count": 25,
     "metadata": {},
     "output_type": "execute_result"
    }
   ],
   "source": [
    "M=operator_kanbaza(f,[(1,0,0),(1,1,0),(3,4,5)]); M"
   ]
  },
  {
   "cell_type": "markdown",
   "metadata": {},
   "source": [
    "<p style=\"line-height:25px;\">Možemo i matricu $M$ iskoristiti kod računanja slike vektora $(4,3,1)$ za b) dio zadatka, no moramo biti oprezni. U nastavku opisujemo detalje tog računa ako koristimo matricu $M$.</p>\n",
    "\n",
    "<p>Najprije moramo pronaći koordinate vektora $(4,3,1)$ u bazi $\\mathcal{B}$.</p>"
   ]
  },
  {
   "cell_type": "code",
   "execution_count": 26,
   "metadata": {},
   "outputs": [],
   "source": [
    "V=VectorSpace(QQ,3).span_of_basis([(1,0,0),(1,1,0),(3,4,5)])"
   ]
  },
  {
   "cell_type": "code",
   "execution_count": 27,
   "metadata": {},
   "outputs": [
    {
     "data": {
      "text/html": [
       "<html>\\[\\newcommand{\\Bold}[1]{\\mathbf{#1}}\\left[\\frac{6}{5}, \\frac{11}{5}, \\frac{1}{5}\\right]\\]</html>"
      ],
      "text/latex": [
       "$$\\newcommand{\\Bold}[1]{\\mathbf{#1}}\\left[\\frac{6}{5}, \\frac{11}{5}, \\frac{1}{5}\\right]$$"
      ],
      "text/plain": [
       "[6/5, 11/5, 1/5]"
      ]
     },
     "execution_count": 27,
     "metadata": {},
     "output_type": "execute_result"
    }
   ],
   "source": [
    "w=V.coordinates((4,3,1)); w"
   ]
  },
  {
   "cell_type": "markdown",
   "metadata": {},
   "source": [
    "<p style=\"line-height:25px;\">Nakon toga pomnožimo matricu $M$ s koordinatnom matricom vektora $(4,3,1)$ u bazi $\\mathcal{B}$. Dobivamo koordinate slike vektora $(4,3,1)$, ali u bazi $\\mathcal{B}$.</p>"
   ]
  },
  {
   "cell_type": "code",
   "execution_count": 28,
   "metadata": {},
   "outputs": [
    {
     "data": {
      "text/html": [
       "<html>\\[\\newcommand{\\Bold}[1]{\\mathbf{#1}}\\left(-\\frac{9}{5},\\,\\frac{1}{5},\\,\\frac{16}{5}\\right)\\]</html>"
      ],
      "text/latex": [
       "$$\\newcommand{\\Bold}[1]{\\mathbf{#1}}\\left(-\\frac{9}{5},\\,\\frac{1}{5},\\,\\frac{16}{5}\\right)$$"
      ],
      "text/plain": [
       "(-9/5, 1/5, 16/5)"
      ]
     },
     "execution_count": 28,
     "metadata": {},
     "output_type": "execute_result"
    }
   ],
   "source": [
    "slika=M*vector(w); slika"
   ]
  },
  {
   "cell_type": "markdown",
   "metadata": {},
   "source": [
    "<p style=\"line-height:25px;\">Nije problem dobiti koordinate te slike u kanonskoj bazi i vidimo da se radi o istom vektoru kojeg smo dobili i u b) dijelu zadatka, samo što smo ovdje radili u drugoj bazi.</p>"
   ]
  },
  {
   "cell_type": "code",
   "execution_count": 29,
   "metadata": {},
   "outputs": [
    {
     "data": {
      "text/html": [
       "<html>\\[\\newcommand{\\Bold}[1]{\\mathbf{#1}}\\left(8,\\,13,\\,16\\right)\\]</html>"
      ],
      "text/latex": [
       "$$\\newcommand{\\Bold}[1]{\\mathbf{#1}}\\left(8,\\,13,\\,16\\right)$$"
      ],
      "text/plain": [
       "(8, 13, 16)"
      ]
     },
     "execution_count": 29,
     "metadata": {},
     "output_type": "execute_result"
    }
   ],
   "source": [
    "V.linear_combination_of_basis(slika)"
   ]
  },
  {
   "cell_type": "markdown",
   "metadata": {},
   "source": [
    "<div style=\"background-color: #F5FFFA; color: #000000; border: 2px solid #B0C4DE; border-radius: 15px; padding:0px 10px 25px; overflow:auto\">\n",
    "<h3>3. zadatak</h3>\n",
    "<p style=\"line-height:25px;\">Odredite matricu linearnog operatora $f:\\mathbb{R}^2\\to\\mathbb{R}^3$ zadanog s $f(x,y)=(x+y, x-2y, 3y)$ u</p>\n",
    "<ol style=\"list-style-type:lower-alpha;\">\n",
    "<li style=\"line-height:30px;\">paru kanonskih baza,</li>\n",
    "<li style=\"line-height:30px;\">paru baza $A'=\\{(1,-1), (1,0)\\}$, $B'=\\{(0,1,0), (1,2,0), (1,1,1)\\}$.</li>\n",
    "<li style=\"line-height:30px;\">Odredite sliku vektora $(4,1)$.</li>\n",
    "</ol>\n",
    "</div>\n",
    "<h3>Rješenje</h3>"
   ]
  },
  {
   "cell_type": "code",
   "execution_count": 30,
   "metadata": {},
   "outputs": [],
   "source": [
    "def f(x,y):\n",
    "    return (x+y,x-2*y,3*y)"
   ]
  },
  {
   "cell_type": "markdown",
   "metadata": {},
   "source": [
    "<p><strong>a) dio</strong></p>"
   ]
  },
  {
   "cell_type": "code",
   "execution_count": 31,
   "metadata": {},
   "outputs": [
    {
     "data": {
      "text/html": [
       "<html>\\[\\newcommand{\\Bold}[1]{\\mathbf{#1}}\\left(\\begin{array}{rr}\n",
       "1 & 1 \\\\\n",
       "1 & -2 \\\\\n",
       "0 & 3\n",
       "\\end{array}\\right)\\]</html>"
      ],
      "text/latex": [
       "$$\\newcommand{\\Bold}[1]{\\mathbf{#1}}\\left(\\begin{array}{rr}\n",
       "1 & 1 \\\\\n",
       "1 & -2 \\\\\n",
       "0 & 3\n",
       "\\end{array}\\right)$$"
      ],
      "text/plain": [
       "[ 1  1]\n",
       "[ 1 -2]\n",
       "[ 0  3]"
      ]
     },
     "execution_count": 31,
     "metadata": {},
     "output_type": "execute_result"
    }
   ],
   "source": [
    "F1=operator_kan(f); F1"
   ]
  },
  {
   "cell_type": "markdown",
   "metadata": {},
   "source": [
    "<p><strong>b) dio</strong></p>"
   ]
  },
  {
   "cell_type": "code",
   "execution_count": 32,
   "metadata": {},
   "outputs": [
    {
     "data": {
      "text/html": [
       "<html>\\[\\newcommand{\\Bold}[1]{\\mathbf{#1}}\\left(\\begin{array}{rr}\n",
       "0 & -1 \\\\\n",
       "3 & 1 \\\\\n",
       "-3 & 0\n",
       "\\end{array}\\right)\\]</html>"
      ],
      "text/latex": [
       "$$\\newcommand{\\Bold}[1]{\\mathbf{#1}}\\left(\\begin{array}{rr}\n",
       "0 & -1 \\\\\n",
       "3 & 1 \\\\\n",
       "-3 & 0\n",
       "\\end{array}\\right)$$"
      ],
      "text/plain": [
       "[ 0 -1]\n",
       "[ 3  1]\n",
       "[-3  0]"
      ]
     },
     "execution_count": 32,
     "metadata": {},
     "output_type": "execute_result"
    }
   ],
   "source": [
    "F2=operator_kanbaza(f,[(1,-1),(1,0)],[(0,1,0),(1,2,0),(1,1,1)]); F2"
   ]
  },
  {
   "cell_type": "markdown",
   "metadata": {},
   "source": [
    "<p><strong>c) dio</strong></p>\n",
    "\n",
    "<p>pomoću formule</p>"
   ]
  },
  {
   "cell_type": "code",
   "execution_count": 33,
   "metadata": {},
   "outputs": [
    {
     "data": {
      "text/html": [
       "<html>\\[\\newcommand{\\Bold}[1]{\\mathbf{#1}}\\left(5, 2, 3\\right)\\]</html>"
      ],
      "text/latex": [
       "$$\\newcommand{\\Bold}[1]{\\mathbf{#1}}\\left(5, 2, 3\\right)$$"
      ],
      "text/plain": [
       "(5, 2, 3)"
      ]
     },
     "execution_count": 33,
     "metadata": {},
     "output_type": "execute_result"
    }
   ],
   "source": [
    "f(4,1)"
   ]
  },
  {
   "cell_type": "markdown",
   "metadata": {},
   "source": [
    "<p>pomoću matrice $F_1$</p>"
   ]
  },
  {
   "cell_type": "code",
   "execution_count": 34,
   "metadata": {},
   "outputs": [
    {
     "data": {
      "text/html": [
       "<html>\\[\\newcommand{\\Bold}[1]{\\mathbf{#1}}\\left(5,\\,2,\\,3\\right)\\]</html>"
      ],
      "text/latex": [
       "$$\\newcommand{\\Bold}[1]{\\mathbf{#1}}\\left(5,\\,2,\\,3\\right)$$"
      ],
      "text/plain": [
       "(5, 2, 3)"
      ]
     },
     "execution_count": 34,
     "metadata": {},
     "output_type": "execute_result"
    }
   ],
   "source": [
    "F1*vector((4,1))"
   ]
  },
  {
   "cell_type": "markdown",
   "metadata": {},
   "source": [
    "<p>pomoću matrice $F_2$ - najprije pronađemo koordinate vektora $(4,1)$ u bazi $A'$</p>"
   ]
  },
  {
   "cell_type": "code",
   "execution_count": 35,
   "metadata": {},
   "outputs": [
    {
     "data": {
      "text/html": [
       "<html>\\[\\newcommand{\\Bold}[1]{\\mathbf{#1}}\\left[-1, 5\\right]\\]</html>"
      ],
      "text/latex": [
       "$$\\newcommand{\\Bold}[1]{\\mathbf{#1}}\\left[-1, 5\\right]$$"
      ],
      "text/plain": [
       "[-1, 5]"
      ]
     },
     "execution_count": 35,
     "metadata": {},
     "output_type": "execute_result"
    }
   ],
   "source": [
    "V=VectorSpace(QQ,2).span_of_basis([(1,-1),(1,0)])\n",
    "w=V.coordinates((4,1)); w"
   ]
  },
  {
   "cell_type": "markdown",
   "metadata": {},
   "source": [
    "<p style=\"line-height:25px;\">Nakon toga pomnožimo matricu $F_2$ s koordinatnom matricom vektora $(4,1)$ u bazi $A'$ i dobivamo koordinate slike vektora $(4,1)$ u bazi $B'$</p>"
   ]
  },
  {
   "cell_type": "code",
   "execution_count": 36,
   "metadata": {},
   "outputs": [
    {
     "data": {
      "text/html": [
       "<html>\\[\\newcommand{\\Bold}[1]{\\mathbf{#1}}\\left(-5,\\,2,\\,3\\right)\\]</html>"
      ],
      "text/latex": [
       "$$\\newcommand{\\Bold}[1]{\\mathbf{#1}}\\left(-5,\\,2,\\,3\\right)$$"
      ],
      "text/plain": [
       "(-5, 2, 3)"
      ]
     },
     "execution_count": 36,
     "metadata": {},
     "output_type": "execute_result"
    }
   ],
   "source": [
    "slika=F2*vector(w); slika"
   ]
  },
  {
   "cell_type": "markdown",
   "metadata": {},
   "source": [
    "<p>Možemo provjeriti da je to zaista vektor $(5,2,3)$</p>"
   ]
  },
  {
   "cell_type": "code",
   "execution_count": 37,
   "metadata": {},
   "outputs": [
    {
     "data": {
      "text/html": [
       "<html>\\[\\newcommand{\\Bold}[1]{\\mathbf{#1}}\\left(5,\\,2,\\,3\\right)\\]</html>"
      ],
      "text/latex": [
       "$$\\newcommand{\\Bold}[1]{\\mathbf{#1}}\\left(5,\\,2,\\,3\\right)$$"
      ],
      "text/plain": [
       "(5, 2, 3)"
      ]
     },
     "execution_count": 37,
     "metadata": {},
     "output_type": "execute_result"
    }
   ],
   "source": [
    "U=VectorSpace(QQ,3).span_of_basis([(0,1,0),(1,2,0),(1,1,1)])\n",
    "U.linear_combination_of_basis(slika)"
   ]
  },
  {
   "cell_type": "markdown",
   "metadata": {},
   "source": [
    "<div style=\"background-color: #F5FFFA; color: #000000; border: 2px solid #B0C4DE; border-radius: 15px; padding:0px 10px 25px; overflow:auto\">\n",
    "<h3>4. zadatak</h3>\n",
    "<p style=\"line-height:40px;\">Odredite matricu linearnog operatora $R:\\mathbb{R}^3\\to M_2(\\mathbb{R})$ zadanog s $R(x,y,z)=\\begin{bmatrix}x-y&y-z\\\\ z-x&x+2y+3z\\end{bmatrix}$ u paru kanonskih baza.</p>\n",
    "</div>\n",
    "<h3>Rješenje</h3>"
   ]
  },
  {
   "cell_type": "code",
   "execution_count": 38,
   "metadata": {},
   "outputs": [
    {
     "data": {
      "text/html": [
       "<html>\\[\\newcommand{\\Bold}[1]{\\mathbf{#1}}\\left(\\begin{array}{rrr}\n",
       "1 & -1 & 0 \\\\\n",
       "0 & 1 & -1 \\\\\n",
       "-1 & 0 & 1 \\\\\n",
       "1 & 2 & 3\n",
       "\\end{array}\\right)\\]</html>"
      ],
      "text/latex": [
       "$$\\newcommand{\\Bold}[1]{\\mathbf{#1}}\\left(\\begin{array}{rrr}\n",
       "1 & -1 & 0 \\\\\n",
       "0 & 1 & -1 \\\\\n",
       "-1 & 0 & 1 \\\\\n",
       "1 & 2 & 3\n",
       "\\end{array}\\right)$$"
      ],
      "text/plain": [
       "[ 1 -1  0]\n",
       "[ 0  1 -1]\n",
       "[-1  0  1]\n",
       "[ 1  2  3]"
      ]
     },
     "execution_count": 38,
     "metadata": {},
     "output_type": "execute_result"
    }
   ],
   "source": [
    "operator_kan(lambda x,y,z:(x-y,y-z,z-x,x+2*y+3*z))"
   ]
  },
  {
   "cell_type": "markdown",
   "metadata": {},
   "source": [
    "<div style=\"background-color: #F5FFFA; color: #000000; border: 2px solid #B0C4DE; border-radius: 15px; padding:0px 10px 25px; overflow:auto\">\n",
    "<h3>5. zadatak</h3>\n",
    "<p style=\"line-height:30px;\">Linearni operator $f:\\mathbb{R}^3\\to\\mathbb{R}^3$ ima u bazi $\\mathcal{B}=\\{(1,1,1), (1,2,1), (0,1,2)\\}$ matrični prikaz</p>\n",
    "<p>$$F=\\begin{bmatrix}1&0&2\\\\ 1&1&1\\\\ 1&0&1\\end{bmatrix}$$</p>\n",
    "<p>Nađite mu matrični prikaz u bazi $\\mathcal{C}=\\big\\{(1,0,1), (-1,0,1), (0,2,0)\\big\\}$.</p>\n",
    "</div>\n",
    "<h3>Rješenje</h3>"
   ]
  },
  {
   "cell_type": "code",
   "execution_count": 39,
   "metadata": {},
   "outputs": [
    {
     "data": {
      "text/html": [
       "<html>\\[\\newcommand{\\Bold}[1]{\\mathbf{#1}}\\left(\\begin{array}{rrr}\n",
       "5 & 1 & -4 \\\\\n",
       "2 & 0 & -2 \\\\\n",
       "3 & \\frac{1}{2} & -2\n",
       "\\end{array}\\right)\\]</html>"
      ],
      "text/latex": [
       "$$\\newcommand{\\Bold}[1]{\\mathbf{#1}}\\left(\\begin{array}{rrr}\n",
       "5 & 1 & -4 \\\\\n",
       "2 & 0 & -2 \\\\\n",
       "3 & \\frac{1}{2} & -2\n",
       "\\end{array}\\right)$$"
      ],
      "text/plain": [
       "[  5   1  -4]\n",
       "[  2   0  -2]\n",
       "[  3 1/2  -2]"
      ]
     },
     "execution_count": 39,
     "metadata": {},
     "output_type": "execute_result"
    }
   ],
   "source": [
    "operator_baza(matrix([[1,0,2],[1,1,1],[1,0,1]]),[(1,1,1),(1,2,1),(0,1,2)],[(1,0,1),(-1,0,1),(0,2,0)])"
   ]
  },
  {
   "cell_type": "markdown",
   "metadata": {},
   "source": [
    "<div style=\"background-color: #F5FFFA; color: #000000; border: 2px solid #B0C4DE; border-radius: 15px; padding:0px 10px 25px; overflow:auto\">\n",
    "<h3>Definicija</h3>\n",
    "<p style=\"line-height:30px;\">Neka je $f:U\\to V$ linearni operator. <span style=\"color: #ff0000;\"><em>Slika</em></span> od $f$ je skup $$\\mathrm{Im}\\,{f}=\\big\\{f(x) : x\\in U\\big\\},$$ a <em><span style=\"color: #ff0000;\">jezgra</span></em> od $f$ je skup $$\\mathrm{Ker}\\,{f}=\\big\\{x\\in U : f(x)=\\theta_{V}\\big\\}.$$ Slika linearnog operatora $f$ je potprostor od $V$, a jezgra linearnog operatora $f$ je potprostor od $U$. <span style=\"color: #ff0000;\"><em>Rang</em></span> linearnog operatora je dimenzija njegove slike, a <em><span style=\"color: #ff0000;\">defekt</span></em> linearnog operatora je dimenzija njegove jezgre.</p>\n",
    "</div>"
   ]
  },
  {
   "cell_type": "markdown",
   "metadata": {},
   "source": [
    "<div style=\"background-color: #F5FFFA; color: #000000; border: 2px solid #B0C4DE; border-radius: 15px; padding:0px 10px 25px; overflow:auto\">\n",
    "<h3>Teorem</h3>\n",
    "<p style=\"line-height:25px;\">Linearni operator je injekcija ako i samo ako je njegov defekt jednak 0. Linearni operator je surjekcija ako i samo ako je njegov rang jednak dimenziji njegove kodomene (uz pretpostavku da je kodomena konačne dimenzije).</p>\n",
    "</div>"
   ]
  },
  {
   "cell_type": "markdown",
   "metadata": {},
   "source": [
    "<div style=\"background-color: #F5FFFA; color: #000000; border: 2px solid #B0C4DE; border-radius: 15px; padding:0px 10px 25px; overflow:auto\">\n",
    "<h3>Teorem o rangu i defektu</h3>\n",
    "<p>Neka je $f:U\\to V$ linearni operator. Tada vrijedi $r(f)+d(f)=\\dim{U}$.</p>\n",
    "</div>"
   ]
  },
  {
   "cell_type": "markdown",
   "metadata": {},
   "source": [
    "<div style=\"background-color: #F5FFFA; color: #000000; border: 2px solid #B0C4DE; border-radius: 15px; padding:0px 10px 25px; overflow:auto\">\n",
    "<h3>6. zadatak</h3>\n",
    "<p>Na $M_2(\\mathbb{R})$ definiramo funkciju $\\mathrm{tr}$ zvanu trag s</p>\n",
    "<p>$$\\mathrm{tr}\\left(\\begin{bmatrix}a&b\\\\ c&d\\end{bmatrix}\\right)=a+d.$$</p>\n",
    "<p>Dokažite da je $\\mathrm{tr}:M_2(\\mathbb{R})\\to\\mathbb{R}$ linearni operator i pronađite mu jezgru.</p>\n",
    "</div>\n",
    "<h3>Rješenje</h3>"
   ]
  },
  {
   "cell_type": "code",
   "execution_count": 40,
   "metadata": {},
   "outputs": [],
   "source": [
    "var(\"a_1 b_1 c_1 d_1 a_2 b_2 c_2 d_2\")\n",
    "m1=vector((a_1,b_1,c_1,d_1))\n",
    "m2=vector((a_2,b_2,c_2,d_2))\n",
    "tr(a,b,c,d)=a+d"
   ]
  },
  {
   "cell_type": "markdown",
   "metadata": {},
   "source": [
    "<p>dokaz da je $\\mathrm{tr}$ linearni operator</p>"
   ]
  },
  {
   "cell_type": "code",
   "execution_count": 41,
   "metadata": {},
   "outputs": [
    {
     "data": {
      "text/html": [
       "<html>\\[\\newcommand{\\Bold}[1]{\\mathbf{#1}}a_{1} k + d_{1} k + a_{2} l + d_{2} l\\]</html>"
      ],
      "text/latex": [
       "$$\\newcommand{\\Bold}[1]{\\mathbf{#1}}a_{1} k + d_{1} k + a_{2} l + d_{2} l$$"
      ],
      "text/plain": [
       "a_1*k + d_1*k + a_2*l + d_2*l"
      ]
     },
     "execution_count": 41,
     "metadata": {},
     "output_type": "execute_result"
    }
   ],
   "source": [
    "lijevo=tr(*(k*m1+l*m2)); lijevo"
   ]
  },
  {
   "cell_type": "code",
   "execution_count": 42,
   "metadata": {},
   "outputs": [
    {
     "data": {
      "text/html": [
       "<html>\\[\\newcommand{\\Bold}[1]{\\mathbf{#1}}{\\left(a_{1} + d_{1}\\right)} k + {\\left(a_{2} + d_{2}\\right)} l\\]</html>"
      ],
      "text/latex": [
       "$$\\newcommand{\\Bold}[1]{\\mathbf{#1}}{\\left(a_{1} + d_{1}\\right)} k + {\\left(a_{2} + d_{2}\\right)} l$$"
      ],
      "text/plain": [
       "(a_1 + d_1)*k + (a_2 + d_2)*l"
      ]
     },
     "execution_count": 42,
     "metadata": {},
     "output_type": "execute_result"
    }
   ],
   "source": [
    "desno=k*tr(*m1)+l*tr(*m2); desno"
   ]
  },
  {
   "cell_type": "code",
   "execution_count": 43,
   "metadata": {},
   "outputs": [
    {
     "data": {
      "text/html": [
       "<html>\\[\\newcommand{\\Bold}[1]{\\mathbf{#1}}-{\\left(a_{1} + d_{1}\\right)} k + a_{1} k + d_{1} k - {\\left(a_{2} + d_{2}\\right)} l + a_{2} l + d_{2} l\\]</html>"
      ],
      "text/latex": [
       "$$\\newcommand{\\Bold}[1]{\\mathbf{#1}}-{\\left(a_{1} + d_{1}\\right)} k + a_{1} k + d_{1} k - {\\left(a_{2} + d_{2}\\right)} l + a_{2} l + d_{2} l$$"
      ],
      "text/plain": [
       "-(a_1 + d_1)*k + a_1*k + d_1*k - (a_2 + d_2)*l + a_2*l + d_2*l"
      ]
     },
     "execution_count": 43,
     "metadata": {},
     "output_type": "execute_result"
    }
   ],
   "source": [
    "lijevo-desno"
   ]
  },
  {
   "cell_type": "code",
   "execution_count": 44,
   "metadata": {},
   "outputs": [
    {
     "data": {
      "text/html": [
       "<html>\\[\\newcommand{\\Bold}[1]{\\mathbf{#1}}0\\]</html>"
      ],
      "text/latex": [
       "$$\\newcommand{\\Bold}[1]{\\mathbf{#1}}0$$"
      ],
      "text/plain": [
       "0"
      ]
     },
     "execution_count": 44,
     "metadata": {},
     "output_type": "execute_result"
    }
   ],
   "source": [
    "expand(lijevo-desno)"
   ]
  },
  {
   "cell_type": "markdown",
   "metadata": {},
   "source": [
    "<p>jezgra linearnog operatora</p>"
   ]
  },
  {
   "cell_type": "code",
   "execution_count": 45,
   "metadata": {},
   "outputs": [
    {
     "data": {
      "text/html": [
       "<html>\\[\\newcommand{\\Bold}[1]{\\mathbf{#1}}\\left(\\begin{array}{rrrr}\n",
       "1 & 0 & 0 & 1\n",
       "\\end{array}\\right)\\]</html>"
      ],
      "text/latex": [
       "$$\\newcommand{\\Bold}[1]{\\mathbf{#1}}\\left(\\begin{array}{rrrr}\n",
       "1 & 0 & 0 & 1\n",
       "\\end{array}\\right)$$"
      ],
      "text/plain": [
       "[1 0 0 1]"
      ]
     },
     "execution_count": 45,
     "metadata": {},
     "output_type": "execute_result"
    }
   ],
   "source": [
    "M=operator_kan(lambda a,b,c,d: (a+d,)); M"
   ]
  },
  {
   "cell_type": "markdown",
   "metadata": {},
   "source": [
    "<p>Jedna baza za jezgru: $\\bigg\\{\\begin{bmatrix}1&0\\\\ 0&-1\\end{bmatrix}, \\begin{bmatrix}0&1\\\\ 0&0\\end{bmatrix}, \\begin{bmatrix}0&0\\\\ 1&0\\end{bmatrix}\\bigg\\}$</p>"
   ]
  },
  {
   "cell_type": "code",
   "execution_count": 46,
   "metadata": {},
   "outputs": [
    {
     "data": {
      "text/html": [
       "<html>\\[\\newcommand{\\Bold}[1]{\\mathbf{#1}}\\mathrm{RowSpan}_{\\Bold{Z}}\\left(\\begin{array}{rrrr}\n",
       "1 & 0 & 0 & -1 \\\\\n",
       "0 & 1 & 0 & 0 \\\\\n",
       "0 & 0 & 1 & 0\n",
       "\\end{array}\\right)\\]</html>"
      ],
      "text/latex": [
       "$$\\newcommand{\\Bold}[1]{\\mathbf{#1}}\\mathrm{RowSpan}_{\\Bold{Z}}\\left(\\begin{array}{rrrr}\n",
       "1 & 0 & 0 & -1 \\\\\n",
       "0 & 1 & 0 & 0 \\\\\n",
       "0 & 0 & 1 & 0\n",
       "\\end{array}\\right)$$"
      ],
      "text/plain": [
       "Free module of degree 4 and rank 3 over Integer Ring\n",
       "Echelon basis matrix:\n",
       "[ 1  0  0 -1]\n",
       "[ 0  1  0  0]\n",
       "[ 0  0  1  0]"
      ]
     },
     "execution_count": 46,
     "metadata": {},
     "output_type": "execute_result"
    }
   ],
   "source": [
    "M.right_kernel()"
   ]
  },
  {
   "cell_type": "code",
   "execution_count": 47,
   "metadata": {},
   "outputs": [
    {
     "data": {
      "text/html": [
       "<html>\\[\\newcommand{\\Bold}[1]{\\mathbf{#1}}3\\]</html>"
      ],
      "text/latex": [
       "$$\\newcommand{\\Bold}[1]{\\mathbf{#1}}3$$"
      ],
      "text/plain": [
       "3"
      ]
     },
     "execution_count": 47,
     "metadata": {},
     "output_type": "execute_result"
    }
   ],
   "source": [
    "M.right_nullity()"
   ]
  },
  {
   "cell_type": "markdown",
   "metadata": {},
   "source": [
    "<div style=\"background-color: #F5FFFA; color: #000000; border: 2px solid #B0C4DE; border-radius: 15px; padding:0px 10px 25px; overflow:auto\">\n",
    "<h3>7. zadatak</h3>\n",
    "<p>Dokažite da su sljedeća preslikavanja linearni operatori te im odredite sliku, jezgru, rang i defekt.</p>\n",
    "<ol style=\"list-style-type:lower-alpha;\">\n",
    "<li style=\"line-height:30px;\">$f:\\mathbb{R}^3\\to\\mathbb{R}^2,\\quad f(x_1, x_2, x_3)=(x_1, x_2+x_3)$</li>\n",
    "<li style=\"line-height:30px;\">$g:\\mathbb{R}^3\\to\\mathbb{R}^3,\\quad g(x_1, x_2, x_3)=(x_3, x_2, x_1)$</li>\n",
    "<li style=\"line-height:30px;\">$h:\\mathbb{R}^5\\to\\mathbb{R}^4,\\quad h(x_1, x_2, x_3, x_4, x_5)=(0, 4x_1+x_3, 0, 2x_5)$</li>\n",
    "</ol>\n",
    "</div>\n",
    "<h3>Rješenje</h3>"
   ]
  },
  {
   "cell_type": "code",
   "execution_count": 48,
   "metadata": {},
   "outputs": [
    {
     "data": {
      "text/html": [
       "<html>\\[\\newcommand{\\Bold}[1]{\\mathbf{#1}}\\left(x_{1}, x_{2}, x_{3}, x_{4}, x_{5}, y_{1}, y_{2}, y_{3}, y_{4}, y_{5}, k, l\\right)\\]</html>"
      ],
      "text/latex": [
       "$$\\newcommand{\\Bold}[1]{\\mathbf{#1}}\\left(x_{1}, x_{2}, x_{3}, x_{4}, x_{5}, y_{1}, y_{2}, y_{3}, y_{4}, y_{5}, k, l\\right)$$"
      ],
      "text/plain": [
       "(x_1, x_2, x_3, x_4, x_5, y_1, y_2, y_3, y_4, y_5, k, l)"
      ]
     },
     "execution_count": 48,
     "metadata": {},
     "output_type": "execute_result"
    }
   ],
   "source": [
    "var(\"x_1 x_2 x_3 x_4 x_5 y_1 y_2 y_3 y_4 y_5 k l\")"
   ]
  },
  {
   "cell_type": "markdown",
   "metadata": {},
   "source": [
    "<p><strong>a) dio</strong></p>\n",
    "\n",
    "<p>dokaz da je $f$ linearni operator</p>"
   ]
  },
  {
   "cell_type": "code",
   "execution_count": 49,
   "metadata": {},
   "outputs": [],
   "source": [
    "f(x_1,x_2,x_3)=(x_1,x_2+x_3)\n",
    "a=vector((x_1,x_2,x_3))\n",
    "b=vector((y_1,y_2,y_3))\n",
    "lijevo=f(*(k*a+l*b))\n",
    "desno=k*f(*a)+l*f(*b)"
   ]
  },
  {
   "cell_type": "code",
   "execution_count": 50,
   "metadata": {},
   "outputs": [
    {
     "data": {
      "text/html": [
       "<html>\\[\\newcommand{\\Bold}[1]{\\mathbf{#1}}\\left(\\left(k x_{1} + l y_{1},\\,k x_{2} + k x_{3} + l y_{2} + l y_{3}\\right), \\left(k x_{1} + l y_{1},\\,k {\\left(x_{2} + x_{3}\\right)} + l {\\left(y_{2} + y_{3}\\right)}\\right)\\right)\\]</html>"
      ],
      "text/latex": [
       "$$\\newcommand{\\Bold}[1]{\\mathbf{#1}}\\left(\\left(k x_{1} + l y_{1},\\,k x_{2} + k x_{3} + l y_{2} + l y_{3}\\right), \\left(k x_{1} + l y_{1},\\,k {\\left(x_{2} + x_{3}\\right)} + l {\\left(y_{2} + y_{3}\\right)}\\right)\\right)$$"
      ],
      "text/plain": [
       "((k*x_1 + l*y_1, k*x_2 + k*x_3 + l*y_2 + l*y_3),\n",
       " (k*x_1 + l*y_1, k*(x_2 + x_3) + l*(y_2 + y_3)))"
      ]
     },
     "execution_count": 50,
     "metadata": {},
     "output_type": "execute_result"
    }
   ],
   "source": [
    "lijevo,desno"
   ]
  },
  {
   "cell_type": "code",
   "execution_count": 51,
   "metadata": {},
   "outputs": [
    {
     "data": {
      "text/html": [
       "<html>\\[\\newcommand{\\Bold}[1]{\\mathbf{#1}}\\left(0,\\,0\\right)\\]</html>"
      ],
      "text/latex": [
       "$$\\newcommand{\\Bold}[1]{\\mathbf{#1}}\\left(0,\\,0\\right)$$"
      ],
      "text/plain": [
       "(0, 0)"
      ]
     },
     "execution_count": 51,
     "metadata": {},
     "output_type": "execute_result"
    }
   ],
   "source": [
    "lijevo.apply_map(lambda t: expand(t))-desno.apply_map(lambda t: expand(t))"
   ]
  },
  {
   "cell_type": "markdown",
   "metadata": {},
   "source": [
    "<p>matrica operatora $f$ u paru kanonskih baza</p>"
   ]
  },
  {
   "cell_type": "code",
   "execution_count": 52,
   "metadata": {},
   "outputs": [
    {
     "data": {
      "text/html": [
       "<html>\\[\\newcommand{\\Bold}[1]{\\mathbf{#1}}\\left(\\begin{array}{rrr}\n",
       "1 & 0 & 0 \\\\\n",
       "0 & 1 & 1\n",
       "\\end{array}\\right)\\]</html>"
      ],
      "text/latex": [
       "$$\\newcommand{\\Bold}[1]{\\mathbf{#1}}\\left(\\begin{array}{rrr}\n",
       "1 & 0 & 0 \\\\\n",
       "0 & 1 & 1\n",
       "\\end{array}\\right)$$"
      ],
      "text/plain": [
       "[1 0 0]\n",
       "[0 1 1]"
      ]
     },
     "execution_count": 52,
     "metadata": {},
     "output_type": "execute_result"
    }
   ],
   "source": [
    "F=operator_kan(lambda x,y,z: (x,y+z)); F"
   ]
  },
  {
   "cell_type": "markdown",
   "metadata": {},
   "source": [
    "<p>jedna baza za jezgru: $\\mathcal{B}_{\\mathrm{Ker}\\,f}=\\{(0,1,-1)\\}$,&nbsp;&nbsp;&nbsp;defekt operatora $f$: $d(f)=1$ pa $f$ nije injekcija</p>"
   ]
  },
  {
   "cell_type": "code",
   "execution_count": 53,
   "metadata": {},
   "outputs": [
    {
     "data": {
      "text/html": [
       "<html>\\[\\newcommand{\\Bold}[1]{\\mathbf{#1}}\\mathrm{RowSpan}_{\\Bold{Z}}\\left(\\begin{array}{rrr}\n",
       "0 & 1 & -1\n",
       "\\end{array}\\right)\\]</html>"
      ],
      "text/latex": [
       "$$\\newcommand{\\Bold}[1]{\\mathbf{#1}}\\mathrm{RowSpan}_{\\Bold{Z}}\\left(\\begin{array}{rrr}\n",
       "0 & 1 & -1\n",
       "\\end{array}\\right)$$"
      ],
      "text/plain": [
       "Free module of degree 3 and rank 1 over Integer Ring\n",
       "Echelon basis matrix:\n",
       "[ 0  1 -1]"
      ]
     },
     "execution_count": 53,
     "metadata": {},
     "output_type": "execute_result"
    }
   ],
   "source": [
    "F.right_kernel()"
   ]
  },
  {
   "cell_type": "markdown",
   "metadata": {},
   "source": [
    "<p>Ako matricu $F$ gledamo nad poljem $\\mathbb{Q}$, dobivamo ponovo istu bazu za jezgru u ovom slučaju.</p>"
   ]
  },
  {
   "cell_type": "code",
   "execution_count": 54,
   "metadata": {},
   "outputs": [
    {
     "data": {
      "text/html": [
       "<html>\\[\\newcommand{\\Bold}[1]{\\mathbf{#1}}\\mathrm{RowSpan}_{\\Bold{Q}}\\left(\\begin{array}{rrr}\n",
       "0 & 1 & -1\n",
       "\\end{array}\\right)\\]</html>"
      ],
      "text/latex": [
       "$$\\newcommand{\\Bold}[1]{\\mathbf{#1}}\\mathrm{RowSpan}_{\\Bold{Q}}\\left(\\begin{array}{rrr}\n",
       "0 & 1 & -1\n",
       "\\end{array}\\right)$$"
      ],
      "text/plain": [
       "Vector space of degree 3 and dimension 1 over Rational Field\n",
       "Basis matrix:\n",
       "[ 0  1 -1]"
      ]
     },
     "execution_count": 54,
     "metadata": {},
     "output_type": "execute_result"
    }
   ],
   "source": [
    "F.change_ring(QQ).right_kernel()"
   ]
  },
  {
   "cell_type": "code",
   "execution_count": 55,
   "metadata": {},
   "outputs": [
    {
     "data": {
      "text/html": [
       "<html>\\[\\newcommand{\\Bold}[1]{\\mathbf{#1}}1\\]</html>"
      ],
      "text/latex": [
       "$$\\newcommand{\\Bold}[1]{\\mathbf{#1}}1$$"
      ],
      "text/plain": [
       "1"
      ]
     },
     "execution_count": 55,
     "metadata": {},
     "output_type": "execute_result"
    }
   ],
   "source": [
    "F.right_nullity()"
   ]
  },
  {
   "cell_type": "markdown",
   "metadata": {},
   "source": [
    "<p><strong>Slika operatora $f$:</strong> stupci matrice $F$ čine skup izvodnica za $\\mathrm{Im}\\,f$</p>"
   ]
  },
  {
   "cell_type": "code",
   "execution_count": 56,
   "metadata": {},
   "outputs": [
    {
     "data": {
      "text/html": [
       "<html>\\[\\newcommand{\\Bold}[1]{\\mathbf{#1}}\\left(\\begin{array}{rrr}\n",
       "1 & 0 & 0 \\\\\n",
       "0 & 1 & 1\n",
       "\\end{array}\\right)\\]</html>"
      ],
      "text/latex": [
       "$$\\newcommand{\\Bold}[1]{\\mathbf{#1}}\\left(\\begin{array}{rrr}\n",
       "1 & 0 & 0 \\\\\n",
       "0 & 1 & 1\n",
       "\\end{array}\\right)$$"
      ],
      "text/plain": [
       "[1 0 0]\n",
       "[0 1 1]"
      ]
     },
     "execution_count": 56,
     "metadata": {},
     "output_type": "execute_result"
    }
   ],
   "source": [
    "F.echelon_form()"
   ]
  },
  {
   "cell_type": "markdown",
   "metadata": {},
   "source": [
    "<p style=\"line-height:30px;\">Iz retčane kanonske forme matrice $F$ je jasno da prva dva stupca matrice $F$ čine bazu za sliku (dapače, u ovom slučaju je to već jasno i iz same matrice $F$). Dakle, $\\mathcal{B}_{\\mathrm{Im}\\,f}=\\{(1,0), (0,1)\\}$ pa je $r(f)=2$, tj. $\\mathrm{Im}\\,f=\\mathbb{R}^2$ pa je $f$ surjekcija.</p>\n",
    "\n",
    "<p><strong>b) dio</strong></p>\n",
    "\n",
    "<p>dokaz da je $g$ linearni operator</p>"
   ]
  },
  {
   "cell_type": "code",
   "execution_count": 57,
   "metadata": {},
   "outputs": [],
   "source": [
    "g(x_1,x_2,x_3)=(x_3,x_2,x_1)\n",
    "a=vector((x_1,x_2,x_3))\n",
    "b=vector((y_1,y_2,y_3))\n",
    "lijevo=g(*(k*a+l*b))\n",
    "desno=k*g(*a)+l*g(*b)"
   ]
  },
  {
   "cell_type": "code",
   "execution_count": 58,
   "metadata": {},
   "outputs": [
    {
     "data": {
      "text/html": [
       "<html>\\[\\newcommand{\\Bold}[1]{\\mathbf{#1}}\\left(\\left(k x_{3} + l y_{3},\\,k x_{2} + l y_{2},\\,k x_{1} + l y_{1}\\right), \\left(k x_{3} + l y_{3},\\,k x_{2} + l y_{2},\\,k x_{1} + l y_{1}\\right)\\right)\\]</html>"
      ],
      "text/latex": [
       "$$\\newcommand{\\Bold}[1]{\\mathbf{#1}}\\left(\\left(k x_{3} + l y_{3},\\,k x_{2} + l y_{2},\\,k x_{1} + l y_{1}\\right), \\left(k x_{3} + l y_{3},\\,k x_{2} + l y_{2},\\,k x_{1} + l y_{1}\\right)\\right)$$"
      ],
      "text/plain": [
       "((k*x_3 + l*y_3, k*x_2 + l*y_2, k*x_1 + l*y_1),\n",
       " (k*x_3 + l*y_3, k*x_2 + l*y_2, k*x_1 + l*y_1))"
      ]
     },
     "execution_count": 58,
     "metadata": {},
     "output_type": "execute_result"
    }
   ],
   "source": [
    "lijevo,desno"
   ]
  },
  {
   "cell_type": "code",
   "execution_count": 59,
   "metadata": {},
   "outputs": [
    {
     "data": {
      "text/html": [
       "<html>\\[\\newcommand{\\Bold}[1]{\\mathbf{#1}}\\left(0,\\,0,\\,0\\right)\\]</html>"
      ],
      "text/latex": [
       "$$\\newcommand{\\Bold}[1]{\\mathbf{#1}}\\left(0,\\,0,\\,0\\right)$$"
      ],
      "text/plain": [
       "(0, 0, 0)"
      ]
     },
     "execution_count": 59,
     "metadata": {},
     "output_type": "execute_result"
    }
   ],
   "source": [
    "lijevo-desno"
   ]
  },
  {
   "cell_type": "markdown",
   "metadata": {},
   "source": [
    "<p>matrica operatora $g$ u paru kanonskih baza</p>"
   ]
  },
  {
   "cell_type": "code",
   "execution_count": 60,
   "metadata": {},
   "outputs": [
    {
     "data": {
      "text/html": [
       "<html>\\[\\newcommand{\\Bold}[1]{\\mathbf{#1}}\\left(\\begin{array}{rrr}\n",
       "0 & 0 & 1 \\\\\n",
       "0 & 1 & 0 \\\\\n",
       "1 & 0 & 0\n",
       "\\end{array}\\right)\\]</html>"
      ],
      "text/latex": [
       "$$\\newcommand{\\Bold}[1]{\\mathbf{#1}}\\left(\\begin{array}{rrr}\n",
       "0 & 0 & 1 \\\\\n",
       "0 & 1 & 0 \\\\\n",
       "1 & 0 & 0\n",
       "\\end{array}\\right)$$"
      ],
      "text/plain": [
       "[0 0 1]\n",
       "[0 1 0]\n",
       "[1 0 0]"
      ]
     },
     "execution_count": 60,
     "metadata": {},
     "output_type": "execute_result"
    }
   ],
   "source": [
    "G=operator_kan(lambda x,y,z:(z,y,x)); G"
   ]
  },
  {
   "cell_type": "markdown",
   "metadata": {},
   "source": [
    "<p style=\"line-height:30px;\">Jezgra operatora $g$ je trivijalna, tj. $\\mathrm{Ker}\\,g=\\{(0,0,0)\\}$ pa nema bazu. Stoga je $d(g)=0$ pa je $g$ injekcija.</p>"
   ]
  },
  {
   "cell_type": "code",
   "execution_count": 61,
   "metadata": {},
   "outputs": [
    {
     "data": {
      "text/html": [
       "<html>\\[\\newcommand{\\Bold}[1]{\\mathbf{#1}}\\mathrm{RowSpan}_{\\Bold{Z}}()\\]</html>"
      ],
      "text/latex": [
       "$$\\newcommand{\\Bold}[1]{\\mathbf{#1}}\\mathrm{RowSpan}_{\\Bold{Z}}()$$"
      ],
      "text/plain": [
       "Free module of degree 3 and rank 0 over Integer Ring\n",
       "Echelon basis matrix:\n",
       "[]"
      ]
     },
     "execution_count": 61,
     "metadata": {},
     "output_type": "execute_result"
    }
   ],
   "source": [
    "G.right_kernel()"
   ]
  },
  {
   "cell_type": "code",
   "execution_count": 62,
   "metadata": {},
   "outputs": [
    {
     "data": {
      "text/html": [
       "<html>\\[\\newcommand{\\Bold}[1]{\\mathbf{#1}}0\\]</html>"
      ],
      "text/latex": [
       "$$\\newcommand{\\Bold}[1]{\\mathbf{#1}}0$$"
      ],
      "text/plain": [
       "0"
      ]
     },
     "execution_count": 62,
     "metadata": {},
     "output_type": "execute_result"
    }
   ],
   "source": [
    "G.right_nullity()"
   ]
  },
  {
   "cell_type": "markdown",
   "metadata": {},
   "source": [
    "<p style=\"line-height:30px;\"><strong>Slika operatora $g$:</strong> Stupci matrice $G$ čine skup izvodnica za sliku, ali je jasno da su oni i linearno nezavisni pa čine jednu bazu za sliku. Stoga je $r(g)=3$, što je jednako dimenziji kodomene pa je $g$ surjekcija.\n",
    "Dakle, linearni operator $g$ je bijekcija pa je to jedan primjer izomorfizma.</p>\n",
    "<p><strong>c) dio</strong></p>\n",
    "<p>dokaz da je $h$ linearni operator</p>"
   ]
  },
  {
   "cell_type": "code",
   "execution_count": 63,
   "metadata": {},
   "outputs": [],
   "source": [
    "h(x_1,x_2,x_3,x_4,x_5)=(0,4*x_1+x_3,0,2*x_5)\n",
    "a=vector((x_1,x_2,x_3,x_4,x_5))\n",
    "b=vector((y_1,y_2,y_3,y_4,y_5))\n",
    "lijevo=h(*(k*a+l*b))\n",
    "desno=k*h(*a)+l*h(*b)"
   ]
  },
  {
   "cell_type": "code",
   "execution_count": 64,
   "metadata": {},
   "outputs": [
    {
     "data": {
      "text/html": [
       "<html>\\[\\newcommand{\\Bold}[1]{\\mathbf{#1}}\\left(\\left(0,\\,4 \\, k x_{1} + k x_{3} + 4 \\, l y_{1} + l y_{3},\\,0,\\,2 \\, k x_{5} + 2 \\, l y_{5}\\right), \\left(0,\\,k {\\left(4 \\, x_{1} + x_{3}\\right)} + l {\\left(4 \\, y_{1} + y_{3}\\right)},\\,0,\\,2 \\, k x_{5} + 2 \\, l y_{5}\\right)\\right)\\]</html>"
      ],
      "text/latex": [
       "$$\\newcommand{\\Bold}[1]{\\mathbf{#1}}\\left(\\left(0,\\,4 \\, k x_{1} + k x_{3} + 4 \\, l y_{1} + l y_{3},\\,0,\\,2 \\, k x_{5} + 2 \\, l y_{5}\\right), \\left(0,\\,k {\\left(4 \\, x_{1} + x_{3}\\right)} + l {\\left(4 \\, y_{1} + y_{3}\\right)},\\,0,\\,2 \\, k x_{5} + 2 \\, l y_{5}\\right)\\right)$$"
      ],
      "text/plain": [
       "((0, 4*k*x_1 + k*x_3 + 4*l*y_1 + l*y_3, 0, 2*k*x_5 + 2*l*y_5),\n",
       " (0, k*(4*x_1 + x_3) + l*(4*y_1 + y_3), 0, 2*k*x_5 + 2*l*y_5))"
      ]
     },
     "execution_count": 64,
     "metadata": {},
     "output_type": "execute_result"
    }
   ],
   "source": [
    "lijevo,desno"
   ]
  },
  {
   "cell_type": "code",
   "execution_count": 65,
   "metadata": {},
   "outputs": [
    {
     "data": {
      "text/html": [
       "<html>\\[\\newcommand{\\Bold}[1]{\\mathbf{#1}}\\left(0,\\,0,\\,0,\\,0\\right)\\]</html>"
      ],
      "text/latex": [
       "$$\\newcommand{\\Bold}[1]{\\mathbf{#1}}\\left(0,\\,0,\\,0,\\,0\\right)$$"
      ],
      "text/plain": [
       "(0, 0, 0, 0)"
      ]
     },
     "execution_count": 65,
     "metadata": {},
     "output_type": "execute_result"
    }
   ],
   "source": [
    "lijevo-desno.apply_map(lambda t:expand(t))"
   ]
  },
  {
   "cell_type": "markdown",
   "metadata": {},
   "source": [
    "<p>matrica operatora $h$ u paru kanonskih baza</p>"
   ]
  },
  {
   "cell_type": "code",
   "execution_count": 66,
   "metadata": {},
   "outputs": [
    {
     "data": {
      "text/html": [
       "<html>\\[\\newcommand{\\Bold}[1]{\\mathbf{#1}}\\left(\\begin{array}{rrrrr}\n",
       "0 & 0 & 0 & 0 & 0 \\\\\n",
       "4 & 0 & 1 & 0 & 0 \\\\\n",
       "0 & 0 & 0 & 0 & 0 \\\\\n",
       "0 & 0 & 0 & 0 & 2\n",
       "\\end{array}\\right)\\]</html>"
      ],
      "text/latex": [
       "$$\\newcommand{\\Bold}[1]{\\mathbf{#1}}\\left(\\begin{array}{rrrrr}\n",
       "0 & 0 & 0 & 0 & 0 \\\\\n",
       "4 & 0 & 1 & 0 & 0 \\\\\n",
       "0 & 0 & 0 & 0 & 0 \\\\\n",
       "0 & 0 & 0 & 0 & 2\n",
       "\\end{array}\\right)$$"
      ],
      "text/plain": [
       "[0 0 0 0 0]\n",
       "[4 0 1 0 0]\n",
       "[0 0 0 0 0]\n",
       "[0 0 0 0 2]"
      ]
     },
     "execution_count": 66,
     "metadata": {},
     "output_type": "execute_result"
    }
   ],
   "source": [
    "H=operator_kan(lambda x1,x2,x3,x4,x5:(0,4*x1+x3,0,2*x5)); H"
   ]
  },
  {
   "cell_type": "markdown",
   "metadata": {},
   "source": [
    "<p style=\"line-height:30px;\">jedna baza za jezgru:  $\\mathcal{B}_{\\mathrm{Ker}\\,h}=\\{(1,0,-4,0,0), (0,1,0,0,0), (0,0,0,1,0)\\}$,     defekt  operatora $h$: $d(h)=3$ pa $h$ nije injekcija</p>"
   ]
  },
  {
   "cell_type": "code",
   "execution_count": 67,
   "metadata": {},
   "outputs": [
    {
     "data": {
      "text/html": [
       "<html>\\[\\newcommand{\\Bold}[1]{\\mathbf{#1}}\\mathrm{RowSpan}_{\\Bold{Z}}\\left(\\begin{array}{rrrrr}\n",
       "1 & 0 & -4 & 0 & 0 \\\\\n",
       "0 & 1 & 0 & 0 & 0 \\\\\n",
       "0 & 0 & 0 & 1 & 0\n",
       "\\end{array}\\right)\\]</html>"
      ],
      "text/latex": [
       "$$\\newcommand{\\Bold}[1]{\\mathbf{#1}}\\mathrm{RowSpan}_{\\Bold{Z}}\\left(\\begin{array}{rrrrr}\n",
       "1 & 0 & -4 & 0 & 0 \\\\\n",
       "0 & 1 & 0 & 0 & 0 \\\\\n",
       "0 & 0 & 0 & 1 & 0\n",
       "\\end{array}\\right)$$"
      ],
      "text/plain": [
       "Free module of degree 5 and rank 3 over Integer Ring\n",
       "Echelon basis matrix:\n",
       "[ 1  0 -4  0  0]\n",
       "[ 0  1  0  0  0]\n",
       "[ 0  0  0  1  0]"
      ]
     },
     "execution_count": 67,
     "metadata": {},
     "output_type": "execute_result"
    }
   ],
   "source": [
    "H.right_kernel()"
   ]
  },
  {
   "cell_type": "code",
   "execution_count": 68,
   "metadata": {},
   "outputs": [
    {
     "data": {
      "text/html": [
       "<html>\\[\\newcommand{\\Bold}[1]{\\mathbf{#1}}3\\]</html>"
      ],
      "text/latex": [
       "$$\\newcommand{\\Bold}[1]{\\mathbf{#1}}3$$"
      ],
      "text/plain": [
       "3"
      ]
     },
     "execution_count": 68,
     "metadata": {},
     "output_type": "execute_result"
    }
   ],
   "source": [
    "H.right_nullity()"
   ]
  },
  {
   "cell_type": "markdown",
   "metadata": {},
   "source": [
    "<p style=\"line-height:30px;\"><strong>Slika operatora $h$:</strong> stupci matrice $H$ čine skup izvodnica za sliku iz čega je jasno da je jedna baza za sliku $\\mathcal{B}_{\\mathrm{Im}\\,f}=\\{(0,1,0,0), (0,0,0,2)\\}$. Stoga je $r(h)=2$, što nije jednako dimenziji kodomene pa $h$ nije surjekcija.</p>"
   ]
  },
  {
   "cell_type": "markdown",
   "metadata": {},
   "source": [
    "<div style=\"background-color: #F5FFFA; color: #000000; border: 2px solid #B0C4DE; border-radius: 15px; padding:0px 10px 25px; overflow:auto\">\n",
    "<h3>8. zadatak</h3>\n",
    "<p style=\"line-height:40px;\">Je li preslikavanje $g:M_2(\\mathbb{R})\\to M_2(\\mathbb{R})$ zadano s $g(X)=X\\cdot\\begin{bmatrix}1&2\\\\ 1&2\\end{bmatrix}$ linearni operator? Ako jest, odredite mu jezgru i sliku.</p>\n",
    "</div>\n",
    "<h3>Rješenje</h3>\n",
    "<p>dokaz da je $g$ linearni operator</p>"
   ]
  },
  {
   "cell_type": "code",
   "execution_count": 69,
   "metadata": {},
   "outputs": [],
   "source": [
    "def g(X):\n",
    "    return X*matrix([[1,2],[1,2]])"
   ]
  },
  {
   "cell_type": "code",
   "execution_count": 70,
   "metadata": {},
   "outputs": [],
   "source": [
    "var(\"a_1 b_1 c_1 d_1 a_2 b_2 c_2 d_2 k l\")\n",
    "A=matrix([[a_1,b_1],[c_1,d_1]])\n",
    "B=matrix([[a_2,b_2],[c_2,d_2]])\n",
    "lijevo=g(k*A+l*B)\n",
    "desno=k*g(A)+l*g(B)"
   ]
  },
  {
   "cell_type": "code",
   "execution_count": 71,
   "metadata": {},
   "outputs": [
    {
     "data": {
      "text/html": [
       "<html>\\[\\newcommand{\\Bold}[1]{\\mathbf{#1}}\\left(\\begin{array}{rr}\n",
       "-{\\left(a_{1} + b_{1}\\right)} k + a_{1} k + b_{1} k - {\\left(a_{2} + b_{2}\\right)} l + a_{2} l + b_{2} l & -2 \\, {\\left(a_{1} + b_{1}\\right)} k + 2 \\, a_{1} k + 2 \\, b_{1} k - 2 \\, {\\left(a_{2} + b_{2}\\right)} l + 2 \\, a_{2} l + 2 \\, b_{2} l \\\\\n",
       "-{\\left(c_{1} + d_{1}\\right)} k + c_{1} k + d_{1} k - {\\left(c_{2} + d_{2}\\right)} l + c_{2} l + d_{2} l & -2 \\, {\\left(c_{1} + d_{1}\\right)} k + 2 \\, c_{1} k + 2 \\, d_{1} k - 2 \\, {\\left(c_{2} + d_{2}\\right)} l + 2 \\, c_{2} l + 2 \\, d_{2} l\n",
       "\\end{array}\\right)\\]</html>"
      ],
      "text/latex": [
       "$$\\newcommand{\\Bold}[1]{\\mathbf{#1}}\\left(\\begin{array}{rr}\n",
       "-{\\left(a_{1} + b_{1}\\right)} k + a_{1} k + b_{1} k - {\\left(a_{2} + b_{2}\\right)} l + a_{2} l + b_{2} l & -2 \\, {\\left(a_{1} + b_{1}\\right)} k + 2 \\, a_{1} k + 2 \\, b_{1} k - 2 \\, {\\left(a_{2} + b_{2}\\right)} l + 2 \\, a_{2} l + 2 \\, b_{2} l \\\\\n",
       "-{\\left(c_{1} + d_{1}\\right)} k + c_{1} k + d_{1} k - {\\left(c_{2} + d_{2}\\right)} l + c_{2} l + d_{2} l & -2 \\, {\\left(c_{1} + d_{1}\\right)} k + 2 \\, c_{1} k + 2 \\, d_{1} k - 2 \\, {\\left(c_{2} + d_{2}\\right)} l + 2 \\, c_{2} l + 2 \\, d_{2} l\n",
       "\\end{array}\\right)$$"
      ],
      "text/plain": [
       "[            -(a_1 + b_1)*k + a_1*k + b_1*k - (a_2 + b_2)*l + a_2*l + b_2*l -2*(a_1 + b_1)*k + 2*a_1*k + 2*b_1*k - 2*(a_2 + b_2)*l + 2*a_2*l + 2*b_2*l]\n",
       "[            -(c_1 + d_1)*k + c_1*k + d_1*k - (c_2 + d_2)*l + c_2*l + d_2*l -2*(c_1 + d_1)*k + 2*c_1*k + 2*d_1*k - 2*(c_2 + d_2)*l + 2*c_2*l + 2*d_2*l]"
      ]
     },
     "execution_count": 71,
     "metadata": {},
     "output_type": "execute_result"
    }
   ],
   "source": [
    "lijevo-desno"
   ]
  },
  {
   "cell_type": "code",
   "execution_count": 72,
   "metadata": {},
   "outputs": [
    {
     "data": {
      "text/html": [
       "<html>\\[\\newcommand{\\Bold}[1]{\\mathbf{#1}}\\left(\\begin{array}{rr}\n",
       "0 & 0 \\\\\n",
       "0 & 0\n",
       "\\end{array}\\right)\\]</html>"
      ],
      "text/latex": [
       "$$\\newcommand{\\Bold}[1]{\\mathbf{#1}}\\left(\\begin{array}{rr}\n",
       "0 & 0 \\\\\n",
       "0 & 0\n",
       "\\end{array}\\right)$$"
      ],
      "text/plain": [
       "[0 0]\n",
       "[0 0]"
      ]
     },
     "execution_count": 72,
     "metadata": {},
     "output_type": "execute_result"
    }
   ],
   "source": [
    "expand(lijevo-desno)"
   ]
  },
  {
   "cell_type": "markdown",
   "metadata": {},
   "source": [
    "<p>vrijednost operatora $g$ na matrici $A=\\begin{bmatrix}a_1&b_1\\\\ c_1&d_1\\end{bmatrix}$</p>"
   ]
  },
  {
   "cell_type": "code",
   "execution_count": 73,
   "metadata": {},
   "outputs": [
    {
     "data": {
      "text/html": [
       "<html>\\[\\newcommand{\\Bold}[1]{\\mathbf{#1}}\\left(\\begin{array}{rr}\n",
       "a_{1} + b_{1} & 2 \\, a_{1} + 2 \\, b_{1} \\\\\n",
       "c_{1} + d_{1} & 2 \\, c_{1} + 2 \\, d_{1}\n",
       "\\end{array}\\right)\\]</html>"
      ],
      "text/latex": [
       "$$\\newcommand{\\Bold}[1]{\\mathbf{#1}}\\left(\\begin{array}{rr}\n",
       "a_{1} + b_{1} & 2 \\, a_{1} + 2 \\, b_{1} \\\\\n",
       "c_{1} + d_{1} & 2 \\, c_{1} + 2 \\, d_{1}\n",
       "\\end{array}\\right)$$"
      ],
      "text/plain": [
       "[    a_1 + b_1 2*a_1 + 2*b_1]\n",
       "[    c_1 + d_1 2*c_1 + 2*d_1]"
      ]
     },
     "execution_count": 73,
     "metadata": {},
     "output_type": "execute_result"
    }
   ],
   "source": [
    "g(A)"
   ]
  },
  {
   "cell_type": "markdown",
   "metadata": {},
   "source": [
    "<p>matrica operatora $g$ u kanonskoj bazi</p>"
   ]
  },
  {
   "cell_type": "code",
   "execution_count": 74,
   "metadata": {},
   "outputs": [
    {
     "data": {
      "text/html": [
       "<html>\\[\\newcommand{\\Bold}[1]{\\mathbf{#1}}\\left(\\begin{array}{rrrr}\n",
       "1 & 1 & 0 & 0 \\\\\n",
       "2 & 2 & 0 & 0 \\\\\n",
       "0 & 0 & 1 & 1 \\\\\n",
       "0 & 0 & 2 & 2\n",
       "\\end{array}\\right)\\]</html>"
      ],
      "text/latex": [
       "$$\\newcommand{\\Bold}[1]{\\mathbf{#1}}\\left(\\begin{array}{rrrr}\n",
       "1 & 1 & 0 & 0 \\\\\n",
       "2 & 2 & 0 & 0 \\\\\n",
       "0 & 0 & 1 & 1 \\\\\n",
       "0 & 0 & 2 & 2\n",
       "\\end{array}\\right)$$"
      ],
      "text/plain": [
       "[1 1 0 0]\n",
       "[2 2 0 0]\n",
       "[0 0 1 1]\n",
       "[0 0 2 2]"
      ]
     },
     "execution_count": 74,
     "metadata": {},
     "output_type": "execute_result"
    }
   ],
   "source": [
    "G=operator_kan(lambda a,b,c,d: (a+b,2*a+2*b,c+d,2*c+2*d)); G"
   ]
  },
  {
   "cell_type": "markdown",
   "metadata": {},
   "source": [
    "<p>Jedna baza za jezgru: $\\mathcal{B}_{\\mathrm{Ker}\\,g}=\\bigg\\{\\begin{bmatrix}1&-1\\\\ 0&0\\end{bmatrix}, \\begin{bmatrix}0&0\\\\ 1&-1\\end{bmatrix}\\bigg\\}$</p>"
   ]
  },
  {
   "cell_type": "code",
   "execution_count": 75,
   "metadata": {},
   "outputs": [
    {
     "data": {
      "text/html": [
       "<html>\\[\\newcommand{\\Bold}[1]{\\mathbf{#1}}\\mathrm{RowSpan}_{\\Bold{Z}}\\left(\\begin{array}{rrrr}\n",
       "1 & -1 & 0 & 0 \\\\\n",
       "0 & 0 & 1 & -1\n",
       "\\end{array}\\right)\\]</html>"
      ],
      "text/latex": [
       "$$\\newcommand{\\Bold}[1]{\\mathbf{#1}}\\mathrm{RowSpan}_{\\Bold{Z}}\\left(\\begin{array}{rrrr}\n",
       "1 & -1 & 0 & 0 \\\\\n",
       "0 & 0 & 1 & -1\n",
       "\\end{array}\\right)$$"
      ],
      "text/plain": [
       "Free module of degree 4 and rank 2 over Integer Ring\n",
       "Echelon basis matrix:\n",
       "[ 1 -1  0  0]\n",
       "[ 0  0  1 -1]"
      ]
     },
     "execution_count": 75,
     "metadata": {},
     "output_type": "execute_result"
    }
   ],
   "source": [
    "G.right_kernel()"
   ]
  },
  {
   "cell_type": "markdown",
   "metadata": {},
   "source": [
    "<p>Defekt operatora $g$: $d(g)=2$</p>"
   ]
  },
  {
   "cell_type": "code",
   "execution_count": 76,
   "metadata": {},
   "outputs": [
    {
     "data": {
      "text/html": [
       "<html>\\[\\newcommand{\\Bold}[1]{\\mathbf{#1}}2\\]</html>"
      ],
      "text/latex": [
       "$$\\newcommand{\\Bold}[1]{\\mathbf{#1}}2$$"
      ],
      "text/plain": [
       "2"
      ]
     },
     "execution_count": 76,
     "metadata": {},
     "output_type": "execute_result"
    }
   ],
   "source": [
    "G.right_nullity()"
   ]
  },
  {
   "cell_type": "markdown",
   "metadata": {},
   "source": [
    "<p style=\"line-height:30px;\">Stupci matrice $G$ su koordinate vektora u kanonskoj bazi koji čine skup izvodnica za $\\mathrm{Im}\\,g$. Iz same matrice $G$ je jasno da prvi i treći stupac čine jednu bazu za $\\mathrm{Im}\\,g$.</p>\n",
    "<p>$$\\mathcal{B}_{\\mathrm{Im}\\,g}=\\bigg\\{\\begin{bmatrix}1&2\\\\ 0&0\\end{bmatrix}, \\begin{bmatrix}0&0\\\\ 1&2\\end{bmatrix}\\bigg\\}$$</p>\n",
    "<p>Rang operatora $g$: $r(g)=2$</p>"
   ]
  },
  {
   "cell_type": "code",
   "execution_count": 77,
   "metadata": {},
   "outputs": [
    {
     "data": {
      "text/html": [
       "<html>\\[\\newcommand{\\Bold}[1]{\\mathbf{#1}}2\\]</html>"
      ],
      "text/latex": [
       "$$\\newcommand{\\Bold}[1]{\\mathbf{#1}}2$$"
      ],
      "text/plain": [
       "2"
      ]
     },
     "execution_count": 77,
     "metadata": {},
     "output_type": "execute_result"
    }
   ],
   "source": [
    "G.rank()"
   ]
  },
  {
   "cell_type": "markdown",
   "metadata": {},
   "source": [
    "<div style=\"background-color: #F5FFFA; color: #000000; border: 2px solid #B0C4DE; border-radius: 15px; padding:0px 10px 25px; overflow:auto\">\n",
    "<h3>9. zadatak</h3>\n",
    "<p style=\"line-height:30px;\">Linearni operator $A:\\mathbb{R}^3\\to\\mathbb{R}^3$ zadan je matricom $A=\\begin{bmatrix}3&2&1\\\\ 1&1&-1\\\\ 4&-1&5\\end{bmatrix}$ u kanonskoj bazi. Odredite prasliku (original) vektora $y=(5,0,3)$.</p>\n",
    "</div>\n",
    "<h3>Rješenje</h3>\n",
    "<p style=\"line-height:25px;\">Tražimo sve vektore $x\\in\\mathbb{R}^3$ iz domene koji se preslikavaju u vektor $y$ u kodomeni, tj. za koje vrijedi $Ax=y$. Zapravo moramo riješiti sustav linearnih jednadžbi.</p>"
   ]
  },
  {
   "cell_type": "code",
   "execution_count": 78,
   "metadata": {},
   "outputs": [],
   "source": [
    "A=matrix([[3,2,1],[1,1,-1],[4,-1,5]])\n",
    "y=matrix([[5],[0],[3]])\n",
    "x=matrix([[x_1],[x_2],[x_3]])"
   ]
  },
  {
   "cell_type": "code",
   "execution_count": 79,
   "metadata": {},
   "outputs": [
    {
     "data": {
      "text/html": [
       "<html>\\[\\newcommand{\\Bold}[1]{\\mathbf{#1}}\\left(\\begin{array}{r}\n",
       "3 \\, x_{1} + 2 \\, x_{2} + x_{3} \\\\\n",
       "x_{1} + x_{2} - x_{3} \\\\\n",
       "4 \\, x_{1} - x_{2} + 5 \\, x_{3}\n",
       "\\end{array}\\right)\\]</html>"
      ],
      "text/latex": [
       "$$\\newcommand{\\Bold}[1]{\\mathbf{#1}}\\left(\\begin{array}{r}\n",
       "3 \\, x_{1} + 2 \\, x_{2} + x_{3} \\\\\n",
       "x_{1} + x_{2} - x_{3} \\\\\n",
       "4 \\, x_{1} - x_{2} + 5 \\, x_{3}\n",
       "\\end{array}\\right)$$"
      ],
      "text/plain": [
       "[3*x_1 + 2*x_2 + x_3]\n",
       "[    x_1 + x_2 - x_3]\n",
       "[4*x_1 - x_2 + 5*x_3]"
      ]
     },
     "execution_count": 79,
     "metadata": {},
     "output_type": "execute_result"
    }
   ],
   "source": [
    "sustav=A*x; sustav"
   ]
  },
  {
   "cell_type": "code",
   "execution_count": 80,
   "metadata": {},
   "outputs": [
    {
     "data": {
      "text/html": [
       "<html>\\[\\newcommand{\\Bold}[1]{\\mathbf{#1}}\\left[3 \\, x_{1} + 2 \\, x_{2} + x_{3} = 5, x_{1} + x_{2} - x_{3} = 0, 4 \\, x_{1} - x_{2} + 5 \\, x_{3} = 3\\right]\\]</html>"
      ],
      "text/latex": [
       "$$\\newcommand{\\Bold}[1]{\\mathbf{#1}}\\left[3 \\, x_{1} + 2 \\, x_{2} + x_{3} = 5, x_{1} + x_{2} - x_{3} = 0, 4 \\, x_{1} - x_{2} + 5 \\, x_{3} = 3\\right]$$"
      ],
      "text/plain": [
       "[3*x_1 + 2*x_2 + x_3 == 5, x_1 + x_2 - x_3 == 0, 4*x_1 - x_2 + 5*x_3 == 3]"
      ]
     },
     "execution_count": 80,
     "metadata": {},
     "output_type": "execute_result"
    }
   ],
   "source": [
    "[sustav[k,0]==y[k,0] for k in range(3)]"
   ]
  },
  {
   "cell_type": "code",
   "execution_count": 81,
   "metadata": {},
   "outputs": [
    {
     "data": {
      "text/html": [
       "<html>\\[\\newcommand{\\Bold}[1]{\\mathbf{#1}}\\left[\\left[x_{1} = \\left(-1\\right), x_{2} = 3, x_{3} = 2\\right]\\right]\\]</html>"
      ],
      "text/latex": [
       "$$\\newcommand{\\Bold}[1]{\\mathbf{#1}}\\left[\\left[x_{1} = \\left(-1\\right), x_{2} = 3, x_{3} = 2\\right]\\right]$$"
      ],
      "text/plain": [
       "[[x_1 == -1, x_2 == 3, x_3 == 2]]"
      ]
     },
     "execution_count": 81,
     "metadata": {},
     "output_type": "execute_result"
    }
   ],
   "source": [
    "solve([sustav[k,0]==y[k,0] for k in range(3)],[x_1,x_2,x_3])"
   ]
  },
  {
   "cell_type": "markdown",
   "metadata": {},
   "source": [
    "<p style=\"line-height:30px;\">Dakle, praslika vektora $y$ je skup koji se sastoji od samo jednog vektora $(-1,3,2)$, tj. $A^{-1}y=\\{(-1,3,2)\\}$.</p>"
   ]
  },
  {
   "cell_type": "markdown",
   "metadata": {},
   "source": [
    "<div style=\"background-color: #F5FFFA; color: #000000; border: 2px solid #B0C4DE; border-radius: 15px; padding:0px 10px 25px; overflow:auto\">\n",
    "<h3>10. zadatak</h3>\n",
    "<p style=\"line-height:40px;\">Odredite prasliku vektora $y=(1,2)$ ako je linearni operator $A:\\mathbb{R}^3\\to\\mathbb{R}^2$ dan matricom $A=\\begin{bmatrix}1&0&0\\\\ 0&1&1\\end{bmatrix}$.</p>\n",
    "</div>\n",
    "<h3>Rješenje</h3>\n",
    "<p style=\"line-height:25px;\">Tražimo sve vektore $x\\in\\mathbb{R}^3$ iz domene koji se preslikavaju u vektor $y$ u kodomeni, tj. za koje vrijedi $Ax=y$. Zapravo moramo riješiti sustav linearnih jednadžbi.</p>"
   ]
  },
  {
   "cell_type": "code",
   "execution_count": 82,
   "metadata": {},
   "outputs": [],
   "source": [
    "A=matrix([[1,0,0],[0,1,1]])\n",
    "y=matrix([[1],[2]])\n",
    "x=matrix([[x_1],[x_2],[x_3]])"
   ]
  },
  {
   "cell_type": "code",
   "execution_count": 83,
   "metadata": {},
   "outputs": [
    {
     "data": {
      "text/html": [
       "<html>\\[\\newcommand{\\Bold}[1]{\\mathbf{#1}}\\left(\\begin{array}{r}\n",
       "x_{1} \\\\\n",
       "x_{2} + x_{3}\n",
       "\\end{array}\\right)\\]</html>"
      ],
      "text/latex": [
       "$$\\newcommand{\\Bold}[1]{\\mathbf{#1}}\\left(\\begin{array}{r}\n",
       "x_{1} \\\\\n",
       "x_{2} + x_{3}\n",
       "\\end{array}\\right)$$"
      ],
      "text/plain": [
       "[      x_1]\n",
       "[x_2 + x_3]"
      ]
     },
     "execution_count": 83,
     "metadata": {},
     "output_type": "execute_result"
    }
   ],
   "source": [
    "sustav=A*x; sustav"
   ]
  },
  {
   "cell_type": "code",
   "execution_count": 84,
   "metadata": {},
   "outputs": [
    {
     "data": {
      "text/html": [
       "<html>\\[\\newcommand{\\Bold}[1]{\\mathbf{#1}}\\left[x_{1} = 1, x_{2} + x_{3} = 2\\right]\\]</html>"
      ],
      "text/latex": [
       "$$\\newcommand{\\Bold}[1]{\\mathbf{#1}}\\left[x_{1} = 1, x_{2} + x_{3} = 2\\right]$$"
      ],
      "text/plain": [
       "[x_1 == 1, x_2 + x_3 == 2]"
      ]
     },
     "execution_count": 84,
     "metadata": {},
     "output_type": "execute_result"
    }
   ],
   "source": [
    "[sustav[k,0]==y[k,0] for k in range(2)]"
   ]
  },
  {
   "cell_type": "code",
   "execution_count": 85,
   "metadata": {},
   "outputs": [
    {
     "data": {
      "text/html": [
       "<html>\\[\\newcommand{\\Bold}[1]{\\mathbf{#1}}\\left[\\left[x_{1} = 1, x_{2} = -r_{1} + 2, x_{3} = r_{1}\\right]\\right]\\]</html>"
      ],
      "text/latex": [
       "$$\\newcommand{\\Bold}[1]{\\mathbf{#1}}\\left[\\left[x_{1} = 1, x_{2} = -r_{1} + 2, x_{3} = r_{1}\\right]\\right]$$"
      ],
      "text/plain": [
       "[[x_1 == 1, x_2 == -r1 + 2, x_3 == r1]]"
      ]
     },
     "execution_count": 85,
     "metadata": {},
     "output_type": "execute_result"
    }
   ],
   "source": [
    "solve([sustav[k,0]==y[k,0] for k in range(2)],[x_1,x_2,x_3])"
   ]
  },
  {
   "cell_type": "markdown",
   "metadata": {},
   "source": [
    "<p style=\"line-height:30px;\">Dakle, praslika vektora $y$ je skup koji sadrži beskonačno mnogo vektora, tj. preciznije $A^{-1}y=\\{(1,2-t,t): t\\in\\mathbb{R}\\}$.</p>\n",
    "<p><strong>Napomena.</strong> Jedino je praslika nulvektora potprostor, a praslike ostalih vektora nisu potprostori.</p>"
   ]
  },
  {
   "cell_type": "markdown",
   "metadata": {},
   "source": [
    "<div style=\"background-color: #F5FFFA; color: #000000; border: 2px solid #B0C4DE; border-radius: 15px; padding:0px 10px 25px; overflow:auto\">\n",
    "<h3>11. zadatak</h3>\n",
    "<p style=\"line-height:30px;\">Odredite neku bazu za jezgru i neku bazu za sliku linearnog operatora $A:\\mathbb{R}^5\\to\\mathbb{R}^3$ zadanog matricom</p> <p>$$A=\\begin{bmatrix}2&3&5&-3&-2\\\\ 3&4&3&-1&-3\\\\ 5&6&-1&3&-5\\end{bmatrix}.$$</p>\n",
    "</div>\n",
    "<h3>Rješenje</h3>\n",
    "<p style=\"line-height:25px;\">U ovom slučaju SAGE matricu gleda kao matricu s cjelobrojnim elementima pa daje jednu bazu u kojoj su vektori s cjelobrojnim komponentama.</p>\n",
    "<p>$\\mathcal{B}_{\\mathrm{Ker}\\,A}=\\{(1,0,0,0,1), (0,1,3,4,3), (0,0,7,9,4)\\}$</p>"
   ]
  },
  {
   "cell_type": "code",
   "execution_count": 86,
   "metadata": {},
   "outputs": [
    {
     "data": {
      "text/html": [
       "<html>\\[\\newcommand{\\Bold}[1]{\\mathbf{#1}}\\mathrm{RowSpan}_{\\Bold{Z}}\\left(\\begin{array}{rrrrr}\n",
       "1 & 0 & 0 & 0 & 1 \\\\\n",
       "0 & 1 & 3 & 4 & 3 \\\\\n",
       "0 & 0 & 7 & 9 & 4\n",
       "\\end{array}\\right)\\]</html>"
      ],
      "text/latex": [
       "$$\\newcommand{\\Bold}[1]{\\mathbf{#1}}\\mathrm{RowSpan}_{\\Bold{Z}}\\left(\\begin{array}{rrrrr}\n",
       "1 & 0 & 0 & 0 & 1 \\\\\n",
       "0 & 1 & 3 & 4 & 3 \\\\\n",
       "0 & 0 & 7 & 9 & 4\n",
       "\\end{array}\\right)$$"
      ],
      "text/plain": [
       "Free module of degree 5 and rank 3 over Integer Ring\n",
       "Echelon basis matrix:\n",
       "[1 0 0 0 1]\n",
       "[0 1 3 4 3]\n",
       "[0 0 7 9 4]"
      ]
     },
     "execution_count": 86,
     "metadata": {},
     "output_type": "execute_result"
    }
   ],
   "source": [
    "A=matrix([[2,3,5,-3,-2],[3,4,3,-1,-3],[5,6,-1,3,-5]])\n",
    "A.right_kernel()"
   ]
  },
  {
   "cell_type": "markdown",
   "metadata": {},
   "source": [
    "<p style=\"line-height:25px;\">U ovom slučaju SAGE matricu gleda kao matricu s racionalnim elementima  pa daje jednu bazu u kojoj su vektori s racionalnim komponentama.</p>\n",
    "<p>$\\mathcal{B}_{\\mathrm{Ker}\\,A}=\\big\\{(1,0,0,0,1), \\big(0,1,0,\\frac{1}{7},\\frac{9}{7}\\big), \\big(0,0,1,\\frac{9}{7},\\frac{4}{7}\\big)\\big\\}$</p>"
   ]
  },
  {
   "cell_type": "code",
   "execution_count": 87,
   "metadata": {},
   "outputs": [
    {
     "data": {
      "text/html": [
       "<html>\\[\\newcommand{\\Bold}[1]{\\mathbf{#1}}\\mathrm{RowSpan}_{\\Bold{Q}}\\left(\\begin{array}{rrrrr}\n",
       "1 & 0 & 0 & 0 & 1 \\\\\n",
       "0 & 1 & 0 & \\frac{1}{7} & \\frac{9}{7} \\\\\n",
       "0 & 0 & 1 & \\frac{9}{7} & \\frac{4}{7}\n",
       "\\end{array}\\right)\\]</html>"
      ],
      "text/latex": [
       "$$\\newcommand{\\Bold}[1]{\\mathbf{#1}}\\mathrm{RowSpan}_{\\Bold{Q}}\\left(\\begin{array}{rrrrr}\n",
       "1 & 0 & 0 & 0 & 1 \\\\\n",
       "0 & 1 & 0 & \\frac{1}{7} & \\frac{9}{7} \\\\\n",
       "0 & 0 & 1 & \\frac{9}{7} & \\frac{4}{7}\n",
       "\\end{array}\\right)$$"
      ],
      "text/plain": [
       "Vector space of degree 5 and dimension 3 over Rational Field\n",
       "Basis matrix:\n",
       "[  1   0   0   0   1]\n",
       "[  0   1   0 1/7 9/7]\n",
       "[  0   0   1 9/7 4/7]"
      ]
     },
     "execution_count": 87,
     "metadata": {},
     "output_type": "execute_result"
    }
   ],
   "source": [
    "A=matrix(QQ,[[2,3,5,-3,-2],[3,4,3,-1,-3],[5,6,-1,3,-5]])\n",
    "A.right_kernel()"
   ]
  },
  {
   "cell_type": "markdown",
   "metadata": {},
   "source": [
    "<p>Ručnim računanjem jezgru pronalazimo rješavanjem linearnog homogenog sustava $AX=O$.</p>\n",
    "<p>Ako sustav riješimo tako da varijable $x_2, x_4, x_5$ budu parametri, dobivamo da je jedna baza za jezgru</p>\n",
    "<p> $$\\mathcal{B}_{\\mathrm{Ker}\\,A}=\\big\\{\\big(-\\tfrac{11}{9},1,-\\tfrac{1}{9},0,0\\big), \\big(-\\tfrac{4}{9},0,\\tfrac{7}{9},1,0\\big), (1,0,0,0,1)\\big\\}.$$</p>"
   ]
  },
  {
   "cell_type": "code",
   "execution_count": 88,
   "metadata": {},
   "outputs": [
    {
     "data": {
      "text/html": [
       "<html>\\[\\newcommand{\\Bold}[1]{\\mathbf{#1}}\\left[\\left[x_{1} = r_{2} - \\frac{4}{9} \\, r_{3} - \\frac{11}{9} \\, r_{4}, x_{3} = \\frac{7}{9} \\, r_{3} - \\frac{1}{9} \\, r_{4}, x_{2} = r_{4}, x_{4} = r_{3}, x_{5} = r_{2}\\right]\\right]\\]</html>"
      ],
      "text/latex": [
       "$$\\newcommand{\\Bold}[1]{\\mathbf{#1}}\\left[\\left[x_{1} = r_{2} - \\frac{4}{9} \\, r_{3} - \\frac{11}{9} \\, r_{4}, x_{3} = \\frac{7}{9} \\, r_{3} - \\frac{1}{9} \\, r_{4}, x_{2} = r_{4}, x_{4} = r_{3}, x_{5} = r_{2}\\right]\\right]$$"
      ],
      "text/plain": [
       "[[x_1 == r2 - 4/9*r3 - 11/9*r4, x_3 == 7/9*r3 - 1/9*r4, x_2 == r4, x_4 == r3, x_5 == r2]]"
      ]
     },
     "execution_count": 88,
     "metadata": {},
     "output_type": "execute_result"
    }
   ],
   "source": [
    "linear_solve(A,matrix(3,1,[0,0,0]),[x_1,x_2,x_3,x_4,x_5],[x_1,x_3,x_2,x_4,x_5])"
   ]
  },
  {
   "cell_type": "markdown",
   "metadata": {},
   "source": [
    "<p style=\"line-height:25px;\">Kako ćemo provjeriti da sve ove baze zaista jesu baze za $\\mathrm{Ker}\\,A$, tj. da zaista razapinju isti potprostor? Vektore iz tih baza, tj. njihove koordinate u kanonskoj bazi, smjestimo u stupce jedne matrice i izračunamo njezin rang. Ako je rang te matrice jednak broju vektora u pojedinoj bazi (u ovom slučaju 3), tada sve ove baze razapinju isti potprostor, tj. jezgru operatora $A$.</p>"
   ]
  },
  {
   "cell_type": "code",
   "execution_count": 89,
   "metadata": {},
   "outputs": [
    {
     "data": {
      "text/html": [
       "<html>\\[\\newcommand{\\Bold}[1]{\\mathbf{#1}}\\left(\\begin{array}{rrrrrrrrr}\n",
       "1 & 0 & 0 & 1 & 0 & 0 & -\\frac{11}{9} & -\\frac{4}{9} & 1 \\\\\n",
       "0 & 1 & 0 & 0 & 1 & 0 & 1 & 0 & 0 \\\\\n",
       "0 & 3 & 7 & 0 & 0 & 1 & -\\frac{1}{9} & \\frac{7}{9} & 0 \\\\\n",
       "0 & 4 & 9 & 0 & \\frac{1}{7} & \\frac{9}{7} & 0 & 1 & 0 \\\\\n",
       "1 & 3 & 4 & 1 & \\frac{9}{7} & \\frac{4}{7} & 0 & 0 & 1\n",
       "\\end{array}\\right)\\]</html>"
      ],
      "text/latex": [
       "$$\\newcommand{\\Bold}[1]{\\mathbf{#1}}\\left(\\begin{array}{rrrrrrrrr}\n",
       "1 & 0 & 0 & 1 & 0 & 0 & -\\frac{11}{9} & -\\frac{4}{9} & 1 \\\\\n",
       "0 & 1 & 0 & 0 & 1 & 0 & 1 & 0 & 0 \\\\\n",
       "0 & 3 & 7 & 0 & 0 & 1 & -\\frac{1}{9} & \\frac{7}{9} & 0 \\\\\n",
       "0 & 4 & 9 & 0 & \\frac{1}{7} & \\frac{9}{7} & 0 & 1 & 0 \\\\\n",
       "1 & 3 & 4 & 1 & \\frac{9}{7} & \\frac{4}{7} & 0 & 0 & 1\n",
       "\\end{array}\\right)$$"
      ],
      "text/plain": [
       "[    1     0     0     1     0     0 -11/9  -4/9     1]\n",
       "[    0     1     0     0     1     0     1     0     0]\n",
       "[    0     3     7     0     0     1  -1/9   7/9     0]\n",
       "[    0     4     9     0   1/7   9/7     0     1     0]\n",
       "[    1     3     4     1   9/7   4/7     0     0     1]"
      ]
     },
     "execution_count": 89,
     "metadata": {},
     "output_type": "execute_result"
    }
   ],
   "source": [
    "B=matrix([[1,0,0,0,1],[0,1,3,4,3],[0,0,7,9,4],[1,0,0,0,1],[0,1,0,1/7,9/7],[0,0,1,9/7,4/7],\n",
    "          [-11/9,1,-1/9,0,0],[-4/9,0,7/9,1,0],[1,0,0,0,1]]).transpose(); B"
   ]
  },
  {
   "cell_type": "code",
   "execution_count": 90,
   "metadata": {},
   "outputs": [
    {
     "data": {
      "text/html": [
       "<html>\\[\\newcommand{\\Bold}[1]{\\mathbf{#1}}3\\]</html>"
      ],
      "text/latex": [
       "$$\\newcommand{\\Bold}[1]{\\mathbf{#1}}3$$"
      ],
      "text/plain": [
       "3"
      ]
     },
     "execution_count": 90,
     "metadata": {},
     "output_type": "execute_result"
    }
   ],
   "source": [
    "B.rank()"
   ]
  },
  {
   "cell_type": "markdown",
   "metadata": {},
   "source": [
    "<p style=\"line-height:30px;\">Stupci matrice $A$ su skup izvodnica za sliku operatora $A$. Pronađemo retčanu kanonsku formu matrice $A$ iz koje ćemo saznati jednu moguću bazu za $\\mathrm{Im}\\,A$. Iz retčane kanonske forme matrice $A$ je jasno da se jedna baza za sliku može sastojati od vektora iz prvog i drugog stupca matrice $A$. Dakle, $\\mathcal{B}_{\\mathrm{Im}\\,A}=\\{(2,3,5), (3,4,6)\\}$.</p>"
   ]
  },
  {
   "cell_type": "code",
   "execution_count": 91,
   "metadata": {},
   "outputs": [
    {
     "data": {
      "text/html": [
       "<html>\\[\\newcommand{\\Bold}[1]{\\mathbf{#1}}\\left(\\left(\\begin{array}{rrrrr}\n",
       "2 & 3 & 5 & -3 & -2 \\\\\n",
       "3 & 4 & 3 & -1 & -3 \\\\\n",
       "5 & 6 & -1 & 3 & -5\n",
       "\\end{array}\\right), \\left(\\begin{array}{rrrrr}\n",
       "1 & 0 & -11 & 9 & -1 \\\\\n",
       "0 & 1 & 9 & -7 & 0 \\\\\n",
       "0 & 0 & 0 & 0 & 0\n",
       "\\end{array}\\right)\\right)\\]</html>"
      ],
      "text/latex": [
       "$$\\newcommand{\\Bold}[1]{\\mathbf{#1}}\\left(\\left(\\begin{array}{rrrrr}\n",
       "2 & 3 & 5 & -3 & -2 \\\\\n",
       "3 & 4 & 3 & -1 & -3 \\\\\n",
       "5 & 6 & -1 & 3 & -5\n",
       "\\end{array}\\right), \\left(\\begin{array}{rrrrr}\n",
       "1 & 0 & -11 & 9 & -1 \\\\\n",
       "0 & 1 & 9 & -7 & 0 \\\\\n",
       "0 & 0 & 0 & 0 & 0\n",
       "\\end{array}\\right)\\right)$$"
      ],
      "text/plain": [
       "(\n",
       "[ 2  3  5 -3 -2]  [  1   0 -11   9  -1]\n",
       "[ 3  4  3 -1 -3]  [  0   1   9  -7   0]\n",
       "[ 5  6 -1  3 -5], [  0   0   0   0   0]\n",
       ")"
      ]
     },
     "execution_count": 91,
     "metadata": {},
     "output_type": "execute_result"
    }
   ],
   "source": [
    "A,A.echelon_form()"
   ]
  },
  {
   "cell_type": "markdown",
   "metadata": {},
   "source": [
    "<div style=\"background-color: #F5FFFA; color: #000000; border: 2px solid #B0C4DE; border-radius: 15px; padding:0px 10px 25px; overflow:auto\">\n",
    "<h3>12. zadatak</h3>\n",
    "<p>Pokažite da je jezgra linearnog operatora $A$ zadanog relacijama</p>\n",
    "<p>$$\\begin{align*}A(e_1)&=f_1+2f_2+f_3+f_4\\\\[2pt] A(e_2)&=-3f_1+6f_2+f_3+2f_4\\\\[2pt] A(e_3)&=5f_1-5f_2+3f_3-7f_4\\end{align*}$$</p>\n",
    "<p>sastavljena od jednog jedinog vektora.</p>\n",
    "</div>\n",
    "<h3>Rješenje</h3>\n",
    "<p style=\"line-height:25px;\">Zapravo trebamo pokazati da je jezgra operatora $A$ trivijalna, tj. da se sastoji od samo jednog vektora i to nulvektora.</p>\n",
    "<p>matrica operatora $A$ u paru baza $\\{e_1,e_2,e_3\\}$ i $\\{f_1,f_2,f_3,f_4\\}$</p>"
   ]
  },
  {
   "cell_type": "code",
   "execution_count": 92,
   "metadata": {},
   "outputs": [
    {
     "data": {
      "text/html": [
       "<html>\\[\\newcommand{\\Bold}[1]{\\mathbf{#1}}\\left(\\begin{array}{rrr}\n",
       "1 & -3 & 5 \\\\\n",
       "2 & 6 & -5 \\\\\n",
       "1 & 1 & 3 \\\\\n",
       "1 & 2 & -7\n",
       "\\end{array}\\right)\\]</html>"
      ],
      "text/latex": [
       "$$\\newcommand{\\Bold}[1]{\\mathbf{#1}}\\left(\\begin{array}{rrr}\n",
       "1 & -3 & 5 \\\\\n",
       "2 & 6 & -5 \\\\\n",
       "1 & 1 & 3 \\\\\n",
       "1 & 2 & -7\n",
       "\\end{array}\\right)$$"
      ],
      "text/plain": [
       "[ 1 -3  5]\n",
       "[ 2  6 -5]\n",
       "[ 1  1  3]\n",
       "[ 1  2 -7]"
      ]
     },
     "execution_count": 92,
     "metadata": {},
     "output_type": "execute_result"
    }
   ],
   "source": [
    "A=matrix([[1,2,1,1],[-3,6,1,2],[5,-5,3,-7]]).transpose(); A"
   ]
  },
  {
   "cell_type": "markdown",
   "metadata": {},
   "source": [
    "<p style=\"line-height:25px;\">Defekt operatora $A$ jednak je nula, tj. $d(A)=0$, pa je jezgra operatora $A$ trivijalna, tj. sastoji se samo od nulvektora.</p>"
   ]
  },
  {
   "cell_type": "code",
   "execution_count": 93,
   "metadata": {},
   "outputs": [
    {
     "data": {
      "text/html": [
       "<html>\\[\\newcommand{\\Bold}[1]{\\mathbf{#1}}0\\]</html>"
      ],
      "text/latex": [
       "$$\\newcommand{\\Bold}[1]{\\mathbf{#1}}0$$"
      ],
      "text/plain": [
       "0"
      ]
     },
     "execution_count": 93,
     "metadata": {},
     "output_type": "execute_result"
    }
   ],
   "source": [
    "A.right_nullity()"
   ]
  },
  {
   "cell_type": "code",
   "execution_count": 94,
   "metadata": {},
   "outputs": [
    {
     "data": {
      "text/html": [
       "<html>\\[\\newcommand{\\Bold}[1]{\\mathbf{#1}}\\mathrm{RowSpan}_{\\Bold{Z}}()\\]</html>"
      ],
      "text/latex": [
       "$$\\newcommand{\\Bold}[1]{\\mathbf{#1}}\\mathrm{RowSpan}_{\\Bold{Z}}()$$"
      ],
      "text/plain": [
       "Free module of degree 3 and rank 0 over Integer Ring\n",
       "Echelon basis matrix:\n",
       "[]"
      ]
     },
     "execution_count": 94,
     "metadata": {},
     "output_type": "execute_result"
    }
   ],
   "source": [
    "A.right_kernel()"
   ]
  },
  {
   "cell_type": "markdown",
   "metadata": {},
   "source": [
    "<p style=\"line-height:25px;\">Ručnim rješavanjem zadatka rješavamo zapravo homogeni sustav $AX=O$ koji ima samo trivijalno rješenje.</p>"
   ]
  },
  {
   "cell_type": "code",
   "execution_count": 95,
   "metadata": {},
   "outputs": [
    {
     "data": {
      "text/html": [
       "<html>\\[\\newcommand{\\Bold}[1]{\\mathbf{#1}}\\left[\\left[x = 0, y = 0, z = 0\\right]\\right]\\]</html>"
      ],
      "text/latex": [
       "$$\\newcommand{\\Bold}[1]{\\mathbf{#1}}\\left[\\left[x = 0, y = 0, z = 0\\right]\\right]$$"
      ],
      "text/plain": [
       "[[x == 0, y == 0, z == 0]]"
      ]
     },
     "execution_count": 95,
     "metadata": {},
     "output_type": "execute_result"
    }
   ],
   "source": [
    "var(\"x y z\")\n",
    "linear_solve(A,matrix(4,1,[0,0,0,0]),[x,y,z],[x,y,z])"
   ]
  },
  {
   "cell_type": "markdown",
   "metadata": {},
   "source": [
    "<p>možemo odrediti rang matrice $A$ i iskoristiti teorem o rangu i defektu</p>"
   ]
  },
  {
   "cell_type": "code",
   "execution_count": 96,
   "metadata": {},
   "outputs": [
    {
     "data": {
      "text/html": [
       "<html>\\[\\newcommand{\\Bold}[1]{\\mathbf{#1}}3\\]</html>"
      ],
      "text/latex": [
       "$$\\newcommand{\\Bold}[1]{\\mathbf{#1}}3$$"
      ],
      "text/plain": [
       "3"
      ]
     },
     "execution_count": 96,
     "metadata": {},
     "output_type": "execute_result"
    }
   ],
   "source": [
    "A.rank()"
   ]
  },
  {
   "cell_type": "markdown",
   "metadata": {},
   "source": [
    "<p>Iz teorema o rangu i defektu slijedi $r(A)+d(A)=\\dim{\\mathbb{R}^3}$ pa je $d(A)=0$.</p>"
   ]
  },
  {
   "cell_type": "markdown",
   "metadata": {},
   "source": [
    "<div style=\"background-color: #F5FFFA; color: #000000; border: 2px solid #B0C4DE; border-radius: 15px; padding:0px 10px 25px; overflow:auto\">\n",
    "<h3>13. zadatak</h3>\n",
    "<p style=\"line-height:25px;\">Neka je $A:\\mathcal{P}_4\\to\\mathbb{R}^2$ preslikavanje zadano s $A(p)=\\big(p(0), p(2)\\big)$. Dokažite da je $A$ linearni operator, odredite mu jezgru, sliku, rang, defekt i matricu u paru kanonskih baza.</p>\n",
    "</div>\n",
    "<h3>Rješenje</h3>"
   ]
  },
  {
   "cell_type": "code",
   "execution_count": 97,
   "metadata": {},
   "outputs": [],
   "source": [
    "var(\"a_0 a_1 a_2 a_3 b_0 b_1 b_2 b_3 k l\")\n",
    "f(x)=a_0+a_1*x+a_2*x^2+a_3*x^3\n",
    "g(x)=b_0+b_1*x+b_2*x^2+b_3*x^3\n",
    "def A(p):\n",
    "    return vector((p(0),p(2)))"
   ]
  },
  {
   "cell_type": "markdown",
   "metadata": {},
   "source": [
    "<p>dokaz da je $A$ linearni operator</p>"
   ]
  },
  {
   "cell_type": "code",
   "execution_count": 98,
   "metadata": {},
   "outputs": [
    {
     "data": {
      "text/html": [
       "<html>\\[\\newcommand{\\Bold}[1]{\\mathbf{#1}}\\left(a_{0} k + b_{0} l,\\,{\\left(a_{0} + 2 \\, a_{1} + 4 \\, a_{2} + 8 \\, a_{3}\\right)} k + {\\left(b_{0} + 2 \\, b_{1} + 4 \\, b_{2} + 8 \\, b_{3}\\right)} l\\right)\\]</html>"
      ],
      "text/latex": [
       "$$\\newcommand{\\Bold}[1]{\\mathbf{#1}}\\left(a_{0} k + b_{0} l,\\,{\\left(a_{0} + 2 \\, a_{1} + 4 \\, a_{2} + 8 \\, a_{3}\\right)} k + {\\left(b_{0} + 2 \\, b_{1} + 4 \\, b_{2} + 8 \\, b_{3}\\right)} l\\right)$$"
      ],
      "text/plain": [
       "(a_0*k + b_0*l, (a_0 + 2*a_1 + 4*a_2 + 8*a_3)*k + (b_0 + 2*b_1 + 4*b_2 + 8*b_3)*l)"
      ]
     },
     "execution_count": 98,
     "metadata": {},
     "output_type": "execute_result"
    }
   ],
   "source": [
    "lijevo=A(k*f+l*g); lijevo"
   ]
  },
  {
   "cell_type": "code",
   "execution_count": 99,
   "metadata": {},
   "outputs": [
    {
     "data": {
      "text/html": [
       "<html>\\[\\newcommand{\\Bold}[1]{\\mathbf{#1}}\\left(a_{0} k + b_{0} l,\\,{\\left(a_{0} + 2 \\, a_{1} + 4 \\, a_{2} + 8 \\, a_{3}\\right)} k + {\\left(b_{0} + 2 \\, b_{1} + 4 \\, b_{2} + 8 \\, b_{3}\\right)} l\\right)\\]</html>"
      ],
      "text/latex": [
       "$$\\newcommand{\\Bold}[1]{\\mathbf{#1}}\\left(a_{0} k + b_{0} l,\\,{\\left(a_{0} + 2 \\, a_{1} + 4 \\, a_{2} + 8 \\, a_{3}\\right)} k + {\\left(b_{0} + 2 \\, b_{1} + 4 \\, b_{2} + 8 \\, b_{3}\\right)} l\\right)$$"
      ],
      "text/plain": [
       "(a_0*k + b_0*l, (a_0 + 2*a_1 + 4*a_2 + 8*a_3)*k + (b_0 + 2*b_1 + 4*b_2 + 8*b_3)*l)"
      ]
     },
     "execution_count": 99,
     "metadata": {},
     "output_type": "execute_result"
    }
   ],
   "source": [
    "desno=k*A(f)+l*A(g); desno"
   ]
  },
  {
   "cell_type": "code",
   "execution_count": 100,
   "metadata": {},
   "outputs": [
    {
     "data": {
      "text/html": [
       "<html>\\[\\newcommand{\\Bold}[1]{\\mathbf{#1}}\\left(0,\\,0\\right)\\]</html>"
      ],
      "text/latex": [
       "$$\\newcommand{\\Bold}[1]{\\mathbf{#1}}\\left(0,\\,0\\right)$$"
      ],
      "text/plain": [
       "(0, 0)"
      ]
     },
     "execution_count": 100,
     "metadata": {},
     "output_type": "execute_result"
    }
   ],
   "source": [
    "lijevo-desno"
   ]
  },
  {
   "cell_type": "markdown",
   "metadata": {},
   "source": [
    "<p style=\"line-height:30px;\">polinom $p\\in\\mathcal{P}_4,\\ p(t)=a_0+a_1x+a_2x^2+a_3x^3$ možemo poistovjetiti s njegovim koordinatama $(a_0,a_1,a_2,a_3)$ u kanonskoj bazi</p>\n",
    "\n",
    "<p>matrica operatora $A$ u paru kanonskih baza</p>"
   ]
  },
  {
   "cell_type": "code",
   "execution_count": 101,
   "metadata": {},
   "outputs": [
    {
     "data": {
      "text/html": [
       "<html>\\[\\newcommand{\\Bold}[1]{\\mathbf{#1}}\\left(a_{0}, a_{0} + 2 \\, a_{1} + 4 \\, a_{2} + 8 \\, a_{3}\\right)\\]</html>"
      ],
      "text/latex": [
       "$$\\newcommand{\\Bold}[1]{\\mathbf{#1}}\\left(a_{0}, a_{0} + 2 \\, a_{1} + 4 \\, a_{2} + 8 \\, a_{3}\\right)$$"
      ],
      "text/plain": [
       "(a_0, a_0 + 2*a_1 + 4*a_2 + 8*a_3)"
      ]
     },
     "execution_count": 101,
     "metadata": {},
     "output_type": "execute_result"
    }
   ],
   "source": [
    "f(0),f(2)"
   ]
  },
  {
   "cell_type": "code",
   "execution_count": 102,
   "metadata": {},
   "outputs": [
    {
     "data": {
      "text/html": [
       "<html>\\[\\newcommand{\\Bold}[1]{\\mathbf{#1}}\\left(\\begin{array}{rrrr}\n",
       "1 & 0 & 0 & 0 \\\\\n",
       "1 & 2 & 4 & 8\n",
       "\\end{array}\\right)\\]</html>"
      ],
      "text/latex": [
       "$$\\newcommand{\\Bold}[1]{\\mathbf{#1}}\\left(\\begin{array}{rrrr}\n",
       "1 & 0 & 0 & 0 \\\\\n",
       "1 & 2 & 4 & 8\n",
       "\\end{array}\\right)$$"
      ],
      "text/plain": [
       "[1 0 0 0]\n",
       "[1 2 4 8]"
      ]
     },
     "execution_count": 102,
     "metadata": {},
     "output_type": "execute_result"
    }
   ],
   "source": [
    "A=operator_kan(lambda a0,a1,a2,a3:(a0,a0+2*a1+4*a2+8*a3)); A"
   ]
  },
  {
   "cell_type": "markdown",
   "metadata": {},
   "source": [
    "<p>Jedna baza za jezgru: $\\mathcal{B}_{\\mathrm{Ker}\\,A}=\\big\\{2x+x^2-x^3,\\, 2x^2-x^3\\big\\}$</p>"
   ]
  },
  {
   "cell_type": "code",
   "execution_count": 103,
   "metadata": {},
   "outputs": [
    {
     "data": {
      "text/html": [
       "<html>\\[\\newcommand{\\Bold}[1]{\\mathbf{#1}}\\mathrm{RowSpan}_{\\Bold{Z}}\\left(\\begin{array}{rrrr}\n",
       "0 & 2 & 1 & -1 \\\\\n",
       "0 & 0 & 2 & -1\n",
       "\\end{array}\\right)\\]</html>"
      ],
      "text/latex": [
       "$$\\newcommand{\\Bold}[1]{\\mathbf{#1}}\\mathrm{RowSpan}_{\\Bold{Z}}\\left(\\begin{array}{rrrr}\n",
       "0 & 2 & 1 & -1 \\\\\n",
       "0 & 0 & 2 & -1\n",
       "\\end{array}\\right)$$"
      ],
      "text/plain": [
       "Free module of degree 4 and rank 2 over Integer Ring\n",
       "Echelon basis matrix:\n",
       "[ 0  2  1 -1]\n",
       "[ 0  0  2 -1]"
      ]
     },
     "execution_count": 103,
     "metadata": {},
     "output_type": "execute_result"
    }
   ],
   "source": [
    "A.right_kernel()"
   ]
  },
  {
   "cell_type": "markdown",
   "metadata": {},
   "source": [
    "<p>Ako matricu $A$ SAGE gleda kao matricu s racionalnim elementima, dobivamo jednu drugu bazu za jezgru:</p> <p>$$\\mathcal{B}_{\\mathrm{Ker}\\,A}=\\big\\{x-\\tfrac{1}{4}x^3,\\ x^2-\\tfrac{1}{2}x^3\\big\\}$$</p>"
   ]
  },
  {
   "cell_type": "code",
   "execution_count": 104,
   "metadata": {},
   "outputs": [
    {
     "data": {
      "text/html": [
       "<html>\\[\\newcommand{\\Bold}[1]{\\mathbf{#1}}\\mathrm{RowSpan}_{\\Bold{Q}}\\left(\\begin{array}{rrrr}\n",
       "0 & 1 & 0 & -\\frac{1}{4} \\\\\n",
       "0 & 0 & 1 & -\\frac{1}{2}\n",
       "\\end{array}\\right)\\]</html>"
      ],
      "text/latex": [
       "$$\\newcommand{\\Bold}[1]{\\mathbf{#1}}\\mathrm{RowSpan}_{\\Bold{Q}}\\left(\\begin{array}{rrrr}\n",
       "0 & 1 & 0 & -\\frac{1}{4} \\\\\n",
       "0 & 0 & 1 & -\\frac{1}{2}\n",
       "\\end{array}\\right)$$"
      ],
      "text/plain": [
       "Vector space of degree 4 and dimension 2 over Rational Field\n",
       "Basis matrix:\n",
       "[   0    1    0 -1/4]\n",
       "[   0    0    1 -1/2]"
      ]
     },
     "execution_count": 104,
     "metadata": {},
     "output_type": "execute_result"
    }
   ],
   "source": [
    "A.change_ring(QQ).right_kernel()"
   ]
  },
  {
   "cell_type": "markdown",
   "metadata": {},
   "source": [
    "<p style=\"line-height:25px;\">Ručnim rješavanjem zadatka rješavamo linearni homogeni sustav $AX=O$. Ako sustav riješimo tako da zadnje dvije nepoznanice budu parametri, dobivamo jednu novu bazu za jezgru.</p>\n",
    "<p>$$\\mathcal{B}_{\\mathrm{Ker}\\,A}=\\big\\{-2x+x^2,\\, -4x+x^3\\big\\}$$</p>"
   ]
  },
  {
   "cell_type": "code",
   "execution_count": 105,
   "metadata": {},
   "outputs": [
    {
     "data": {
      "text/html": [
       "<html>\\[\\newcommand{\\Bold}[1]{\\mathbf{#1}}\\left[\\left[a_{0} = 0, a_{1} = -4 \\, r_{5} - 2 \\, r_{6}, a_{2} = r_{6}, a_{3} = r_{5}\\right]\\right]\\]</html>"
      ],
      "text/latex": [
       "$$\\newcommand{\\Bold}[1]{\\mathbf{#1}}\\left[\\left[a_{0} = 0, a_{1} = -4 \\, r_{5} - 2 \\, r_{6}, a_{2} = r_{6}, a_{3} = r_{5}\\right]\\right]$$"
      ],
      "text/plain": [
       "[[a_0 == 0, a_1 == -4*r5 - 2*r6, a_2 == r6, a_3 == r5]]"
      ]
     },
     "execution_count": 105,
     "metadata": {},
     "output_type": "execute_result"
    }
   ],
   "source": [
    "linear_solve(A,matrix(2,1,[0,0]),[a_0,a_1,a_2,a_3],[a_0,a_1,a_2,a_3])"
   ]
  },
  {
   "cell_type": "markdown",
   "metadata": {},
   "source": [
    "<p style=\"line-height:25px;\">Kako ćemo provjeriti da sve ove baze zaista jesu baze za  $\\mathrm{Ker}\\,A$, tj. da zaista razapinju isti potprostor? Vektore iz  tih baza, tj. njihove koordinate u kanonskoj bazi, smjestimo u stupce  jedne matrice i izračunamo njezin rang. Ako je rang te matrice jednak  broju vektora u pojedinoj bazi (u ovom slučaju 2), tada sve ove baze  razapinju isti potprostor, tj. jezgru operatora $A$.</p>"
   ]
  },
  {
   "cell_type": "code",
   "execution_count": 106,
   "metadata": {},
   "outputs": [
    {
     "data": {
      "text/html": [
       "<html>\\[\\newcommand{\\Bold}[1]{\\mathbf{#1}}\\left(\\begin{array}{rrrrrr}\n",
       "0 & 0 & 0 & 0 & 0 & 0 \\\\\n",
       "2 & 0 & 1 & 0 & -2 & -4 \\\\\n",
       "1 & 2 & 0 & 1 & 1 & 0 \\\\\n",
       "-1 & -1 & -\\frac{1}{4} & -\\frac{1}{2} & 0 & 1\n",
       "\\end{array}\\right)\\]</html>"
      ],
      "text/latex": [
       "$$\\newcommand{\\Bold}[1]{\\mathbf{#1}}\\left(\\begin{array}{rrrrrr}\n",
       "0 & 0 & 0 & 0 & 0 & 0 \\\\\n",
       "2 & 0 & 1 & 0 & -2 & -4 \\\\\n",
       "1 & 2 & 0 & 1 & 1 & 0 \\\\\n",
       "-1 & -1 & -\\frac{1}{4} & -\\frac{1}{2} & 0 & 1\n",
       "\\end{array}\\right)$$"
      ],
      "text/plain": [
       "[   0    0    0    0    0    0]\n",
       "[   2    0    1    0   -2   -4]\n",
       "[   1    2    0    1    1    0]\n",
       "[  -1   -1 -1/4 -1/2    0    1]"
      ]
     },
     "execution_count": 106,
     "metadata": {},
     "output_type": "execute_result"
    }
   ],
   "source": [
    "B=matrix([[0,2,1,-1],[0,0,2,-1],[0,1,0,-1/4],[0,0,1,-1/2],[0,-2,1,0],[0,-4,0,1]]).transpose(); B"
   ]
  },
  {
   "cell_type": "code",
   "execution_count": 107,
   "metadata": {},
   "outputs": [
    {
     "data": {
      "text/html": [
       "<html>\\[\\newcommand{\\Bold}[1]{\\mathbf{#1}}2\\]</html>"
      ],
      "text/latex": [
       "$$\\newcommand{\\Bold}[1]{\\mathbf{#1}}2$$"
      ],
      "text/plain": [
       "2"
      ]
     },
     "execution_count": 107,
     "metadata": {},
     "output_type": "execute_result"
    }
   ],
   "source": [
    "B.rank()"
   ]
  },
  {
   "cell_type": "markdown",
   "metadata": {},
   "source": [
    "<p>defekt operatora $A$: $d(A)=2$</p>"
   ]
  },
  {
   "cell_type": "code",
   "execution_count": 108,
   "metadata": {},
   "outputs": [
    {
     "data": {
      "text/html": [
       "<html>\\[\\newcommand{\\Bold}[1]{\\mathbf{#1}}2\\]</html>"
      ],
      "text/latex": [
       "$$\\newcommand{\\Bold}[1]{\\mathbf{#1}}2$$"
      ],
      "text/plain": [
       "2"
      ]
     },
     "execution_count": 108,
     "metadata": {},
     "output_type": "execute_result"
    }
   ],
   "source": [
    "A.right_nullity()"
   ]
  },
  {
   "cell_type": "markdown",
   "metadata": {},
   "source": [
    "<p style=\"line-height:25px;\"><strong>Slika operatora $A$:</strong> stupci matrice $A$ čine skup izvodnica za sliku. Već iz same matrice $A$ je jasno da prva dva stupca čine bazu za sliku pa ne treba matricu $A$ svoditi na kanonsku formu.</p>\n",
    "<p>$$\\mathcal{B}_{\\mathrm{Im}\\,A}=\\{(1,1), (0,2)\\}$$</p>\n",
    "<p>Rang linearnog operatora $A$ je stoga jednak 2, tj. $r(A)=2$.</p>"
   ]
  },
  {
   "cell_type": "code",
   "execution_count": 109,
   "metadata": {},
   "outputs": [
    {
     "data": {
      "text/html": [
       "<html>\\[\\newcommand{\\Bold}[1]{\\mathbf{#1}}2\\]</html>"
      ],
      "text/latex": [
       "$$\\newcommand{\\Bold}[1]{\\mathbf{#1}}2$$"
      ],
      "text/plain": [
       "2"
      ]
     },
     "execution_count": 109,
     "metadata": {},
     "output_type": "execute_result"
    }
   ],
   "source": [
    "A.rank()"
   ]
  },
  {
   "cell_type": "markdown",
   "metadata": {},
   "source": [
    "<div style=\"background-color: #F5FFFA; color: #000000; border: 2px solid #B0C4DE; border-radius: 15px; padding:0px 10px 25px; overflow:auto\">\n",
    "<h3>14. zadatak</h3>\n",
    "<p>U kanonskoj bazi nađite matrični prikaz operatora transponiranja na $M_2(\\mathbb{R}).$</p>\n",
    "</div>\n",
    "<h3>Rješenje</h3>\n",
    "<p style=\"line-height:40px;\">Transponiranje matrica jest linearni operator jer vrijedi $(\\alpha A+\\beta B)^{T}=\\alpha A^{T}+\\beta B^{T}$. Specijalno, na $M_2(\\mathbb{R})$ je $\\begin{bmatrix}a&b\\\\ c&d\\end{bmatrix}^T=\\begin{bmatrix}a&c\\\\ b&d\\end{bmatrix}$.</p>"
   ]
  },
  {
   "cell_type": "code",
   "execution_count": 110,
   "metadata": {},
   "outputs": [
    {
     "data": {
      "text/html": [
       "<html>\\[\\newcommand{\\Bold}[1]{\\mathbf{#1}}\\left(\\begin{array}{rrrr}\n",
       "1 & 0 & 0 & 0 \\\\\n",
       "0 & 0 & 1 & 0 \\\\\n",
       "0 & 1 & 0 & 0 \\\\\n",
       "0 & 0 & 0 & 1\n",
       "\\end{array}\\right)\\]</html>"
      ],
      "text/latex": [
       "$$\\newcommand{\\Bold}[1]{\\mathbf{#1}}\\left(\\begin{array}{rrrr}\n",
       "1 & 0 & 0 & 0 \\\\\n",
       "0 & 0 & 1 & 0 \\\\\n",
       "0 & 1 & 0 & 0 \\\\\n",
       "0 & 0 & 0 & 1\n",
       "\\end{array}\\right)$$"
      ],
      "text/plain": [
       "[1 0 0 0]\n",
       "[0 0 1 0]\n",
       "[0 1 0 0]\n",
       "[0 0 0 1]"
      ]
     },
     "execution_count": 110,
     "metadata": {},
     "output_type": "execute_result"
    }
   ],
   "source": [
    "operator_kan(lambda a,b,c,d:(a,c,b,d))"
   ]
  },
  {
   "cell_type": "markdown",
   "metadata": {},
   "source": [
    "<div style=\"background-color: #F5FFFA; color: #000000; border: 2px solid #B0C4DE; border-radius: 15px; padding:0px 10px 25px; overflow:auto\">\n",
    "<h3>15. zadatak</h3>\n",
    "<p style=\"line-height:30px;\">Neka je $A:\\mathbb{R}^3\\to\\mathbb{R}^3$ linearni operator zadan na kanonskoj bazi $(e_1,e_2,e_3)$ relacijama</p>\n",
    "<p>$$\\begin{align*}Ae_1&=5e_1+6e_2-7e_3\\\\[2pt] Ae_2&=-7e_2+8e_3\\\\[2pt] Ae_3&=-11e_3\\end{align*}.$$</p>\n",
    "<p>Odredite:</p>\n",
    "<ol style=\"list-style-type:lower-alpha;\">\n",
    "<li style=\"line-height:30px;\">karakteristični i minimalni polinom operatora $A,$</li>\n",
    "<li style=\"line-height:30px;\">$\\sigma(A), \\det{A}, \\mathrm{tr}\\,A,$</li>\n",
    "<li style=\"line-height:30px;\">svojstvene potprostore operatora $A$.</li>\n",
    "</ol>\n",
    "</div>\n",
    "<h3>Rješenje</h3>"
   ]
  },
  {
   "cell_type": "code",
   "execution_count": 111,
   "metadata": {},
   "outputs": [
    {
     "data": {
      "text/html": [
       "<html>\\[\\newcommand{\\Bold}[1]{\\mathbf{#1}}\\left(\\begin{array}{rrr}\n",
       "5 & 0 & 0 \\\\\n",
       "6 & -7 & 0 \\\\\n",
       "-7 & 8 & -11\n",
       "\\end{array}\\right)\\]</html>"
      ],
      "text/latex": [
       "$$\\newcommand{\\Bold}[1]{\\mathbf{#1}}\\left(\\begin{array}{rrr}\n",
       "5 & 0 & 0 \\\\\n",
       "6 & -7 & 0 \\\\\n",
       "-7 & 8 & -11\n",
       "\\end{array}\\right)$$"
      ],
      "text/plain": [
       "[  5   0   0]\n",
       "[  6  -7   0]\n",
       "[ -7   8 -11]"
      ]
     },
     "execution_count": 111,
     "metadata": {},
     "output_type": "execute_result"
    }
   ],
   "source": [
    "A=matrix([[5,6,-7],[0,-7,8],[0,0,-11]]).transpose(); A"
   ]
  },
  {
   "cell_type": "markdown",
   "metadata": {},
   "source": [
    "<p><strong>a) dio</strong></p>\n",
    "<p>karakteristični polinom</p>"
   ]
  },
  {
   "cell_type": "code",
   "execution_count": 112,
   "metadata": {},
   "outputs": [
    {
     "data": {
      "text/html": [
       "<html>\\[\\newcommand{\\Bold}[1]{\\mathbf{#1}}x^{3} + 13x^{2} - 13x - 385\\]</html>"
      ],
      "text/latex": [
       "$$\\newcommand{\\Bold}[1]{\\mathbf{#1}}x^{3} + 13x^{2} - 13x - 385$$"
      ],
      "text/plain": [
       "x^3 + 13*x^2 - 13*x - 385"
      ]
     },
     "execution_count": 112,
     "metadata": {},
     "output_type": "execute_result"
    }
   ],
   "source": [
    "A.charpoly(x)"
   ]
  },
  {
   "cell_type": "markdown",
   "metadata": {},
   "source": [
    "<p>ako želimo karakteristični polinom u varijabli $t$</p>"
   ]
  },
  {
   "cell_type": "code",
   "execution_count": 113,
   "metadata": {},
   "outputs": [
    {
     "data": {
      "text/html": [
       "<html>\\[\\newcommand{\\Bold}[1]{\\mathbf{#1}}t^{3} + 13t^{2} - 13t - 385\\]</html>"
      ],
      "text/latex": [
       "$$\\newcommand{\\Bold}[1]{\\mathbf{#1}}t^{3} + 13t^{2} - 13t - 385$$"
      ],
      "text/plain": [
       "t^3 + 13*t^2 - 13*t - 385"
      ]
     },
     "execution_count": 113,
     "metadata": {},
     "output_type": "execute_result"
    }
   ],
   "source": [
    "var('t')\n",
    "A.charpoly(t)"
   ]
  },
  {
   "cell_type": "markdown",
   "metadata": {},
   "source": [
    "<p>faktorizirani karakteristični polinom</p>"
   ]
  },
  {
   "cell_type": "code",
   "execution_count": 114,
   "metadata": {},
   "outputs": [
    {
     "data": {
      "text/html": [
       "<html>\\[\\newcommand{\\Bold}[1]{\\mathbf{#1}}(x - 5) \\cdot (x + 7) \\cdot (x + 11)\\]</html>"
      ],
      "text/latex": [
       "$$\\newcommand{\\Bold}[1]{\\mathbf{#1}}(x - 5) \\cdot (x + 7) \\cdot (x + 11)$$"
      ],
      "text/plain": [
       "(x - 5) * (x + 7) * (x + 11)"
      ]
     },
     "execution_count": 114,
     "metadata": {},
     "output_type": "execute_result"
    }
   ],
   "source": [
    "A.fcp()"
   ]
  },
  {
   "cell_type": "markdown",
   "metadata": {},
   "source": [
    "<p>minimalni polinom</p>"
   ]
  },
  {
   "cell_type": "code",
   "execution_count": 115,
   "metadata": {},
   "outputs": [
    {
     "data": {
      "text/html": [
       "<html>\\[\\newcommand{\\Bold}[1]{\\mathbf{#1}}x^{3} + 13x^{2} - 13x - 385\\]</html>"
      ],
      "text/latex": [
       "$$\\newcommand{\\Bold}[1]{\\mathbf{#1}}x^{3} + 13x^{2} - 13x - 385$$"
      ],
      "text/plain": [
       "x^3 + 13*x^2 - 13*x - 385"
      ]
     },
     "execution_count": 115,
     "metadata": {},
     "output_type": "execute_result"
    }
   ],
   "source": [
    "A.minpoly()"
   ]
  },
  {
   "cell_type": "code",
   "execution_count": 116,
   "metadata": {},
   "outputs": [
    {
     "data": {
      "text/html": [
       "<html>\\[\\newcommand{\\Bold}[1]{\\mathbf{#1}}t^{3} + 13t^{2} - 13t - 385\\]</html>"
      ],
      "text/latex": [
       "$$\\newcommand{\\Bold}[1]{\\mathbf{#1}}t^{3} + 13t^{2} - 13t - 385$$"
      ],
      "text/plain": [
       "t^3 + 13*t^2 - 13*t - 385"
      ]
     },
     "execution_count": 116,
     "metadata": {},
     "output_type": "execute_result"
    }
   ],
   "source": [
    "A.minpoly('t')"
   ]
  },
  {
   "cell_type": "markdown",
   "metadata": {},
   "source": [
    "<p><strong>b) dio</strong></p>\n",
    "<p>determinanta i trag</p>"
   ]
  },
  {
   "cell_type": "code",
   "execution_count": 117,
   "metadata": {},
   "outputs": [
    {
     "data": {
      "text/html": [
       "<html>\\[\\newcommand{\\Bold}[1]{\\mathbf{#1}}385\\]</html>"
      ],
      "text/latex": [
       "$$\\newcommand{\\Bold}[1]{\\mathbf{#1}}385$$"
      ],
      "text/plain": [
       "385"
      ]
     },
     "execution_count": 117,
     "metadata": {},
     "output_type": "execute_result"
    }
   ],
   "source": [
    "A.det()"
   ]
  },
  {
   "cell_type": "code",
   "execution_count": 118,
   "metadata": {},
   "outputs": [
    {
     "data": {
      "text/html": [
       "<html>\\[\\newcommand{\\Bold}[1]{\\mathbf{#1}}-13\\]</html>"
      ],
      "text/latex": [
       "$$\\newcommand{\\Bold}[1]{\\mathbf{#1}}-13$$"
      ],
      "text/plain": [
       "-13"
      ]
     },
     "execution_count": 118,
     "metadata": {},
     "output_type": "execute_result"
    }
   ],
   "source": [
    "A.trace()"
   ]
  },
  {
   "cell_type": "markdown",
   "metadata": {},
   "source": [
    "<p>spektar matrice $A$, tj. skup svih svojstvenih vrijednosti: $\\sigma(A)=\\{5,-7,-11\\}$</p>"
   ]
  },
  {
   "cell_type": "code",
   "execution_count": 119,
   "metadata": {},
   "outputs": [
    {
     "data": {
      "text/html": [
       "<html>\\[\\newcommand{\\Bold}[1]{\\mathbf{#1}}\\left[5, -7, -11\\right]\\]</html>"
      ],
      "text/latex": [
       "$$\\newcommand{\\Bold}[1]{\\mathbf{#1}}\\left[5, -7, -11\\right]$$"
      ],
      "text/plain": [
       "[5, -7, -11]"
      ]
     },
     "execution_count": 119,
     "metadata": {},
     "output_type": "execute_result"
    }
   ],
   "source": [
    "A.eigenvalues()"
   ]
  },
  {
   "cell_type": "markdown",
   "metadata": {},
   "source": [
    "<p><strong>c) dio</strong></p>\n",
    "\n",
    "<p style=\"line-height:25px;\">dobivamo listu uređenih trojki: prva komponenta uređene trojke je svojstvena vrijednost, druga komponenta je lista vektora koji čine bazu za pripadni svojstveni potprostor, a treća komponenta je algebarska kratnost svojstvene vrijednosti</p>"
   ]
  },
  {
   "cell_type": "code",
   "execution_count": 120,
   "metadata": {},
   "outputs": [
    {
     "data": {
      "text/html": [
       "<html>\\[\\newcommand{\\Bold}[1]{\\mathbf{#1}}\\left[\\left(5, \\left[\\left(1,\\,\\frac{1}{2},\\,-\\frac{3}{16}\\right)\\right], 1\\right), \\left(-7, \\left[\\left(0,\\,1,\\,2\\right)\\right], 1\\right), \\left(-11, \\left[\\left(0,\\,0,\\,1\\right)\\right], 1\\right)\\right]\\]</html>"
      ],
      "text/latex": [
       "$$\\newcommand{\\Bold}[1]{\\mathbf{#1}}\\left[\\left(5, \\left[\\left(1,\\,\\frac{1}{2},\\,-\\frac{3}{16}\\right)\\right], 1\\right), \\left(-7, \\left[\\left(0,\\,1,\\,2\\right)\\right], 1\\right), \\left(-11, \\left[\\left(0,\\,0,\\,1\\right)\\right], 1\\right)\\right]$$"
      ],
      "text/plain": [
       "[(5,\n",
       "  [\n",
       "  (1, 1/2, -3/16)\n",
       "  ],\n",
       "  1),\n",
       " (-7,\n",
       "  [\n",
       "  (0, 1, 2)\n",
       "  ],\n",
       "  1),\n",
       " (-11,\n",
       "  [\n",
       "  (0, 0, 1)\n",
       "  ],\n",
       "  1)]"
      ]
     },
     "execution_count": 120,
     "metadata": {},
     "output_type": "execute_result"
    }
   ],
   "source": [
    "A.eigenvectors_right()"
   ]
  },
  {
   "cell_type": "markdown",
   "metadata": {},
   "source": [
    "<p>ili ako nam je draže ovako</p>"
   ]
  },
  {
   "cell_type": "code",
   "execution_count": 121,
   "metadata": {},
   "outputs": [
    {
     "data": {
      "text/html": [
       "<html>\\[\\newcommand{\\Bold}[1]{\\mathbf{#1}}\\left[\\left(5, \\mathrm{RowSpan}_{\\Bold{Q}}\\left(\\begin{array}{rrr}\n",
       "1 & \\frac{1}{2} & -\\frac{3}{16}\n",
       "\\end{array}\\right)\\right), \\left(-7, \\mathrm{RowSpan}_{\\Bold{Q}}\\left(\\begin{array}{rrr}\n",
       "0 & 1 & 2\n",
       "\\end{array}\\right)\\right), \\left(-11, \\mathrm{RowSpan}_{\\Bold{Q}}\\left(\\begin{array}{rrr}\n",
       "0 & 0 & 1\n",
       "\\end{array}\\right)\\right)\\right]\\]</html>"
      ],
      "text/latex": [
       "$$\\newcommand{\\Bold}[1]{\\mathbf{#1}}\\left[\\left(5, \\mathrm{RowSpan}_{\\Bold{Q}}\\left(\\begin{array}{rrr}\n",
       "1 & \\frac{1}{2} & -\\frac{3}{16}\n",
       "\\end{array}\\right)\\right), \\left(-7, \\mathrm{RowSpan}_{\\Bold{Q}}\\left(\\begin{array}{rrr}\n",
       "0 & 1 & 2\n",
       "\\end{array}\\right)\\right), \\left(-11, \\mathrm{RowSpan}_{\\Bold{Q}}\\left(\\begin{array}{rrr}\n",
       "0 & 0 & 1\n",
       "\\end{array}\\right)\\right)\\right]$$"
      ],
      "text/plain": [
       "[\n",
       "(5, Vector space of degree 3 and dimension 1 over Rational Field\n",
       "User basis matrix:\n",
       "[    1   1/2 -3/16]),\n",
       "(-7, Vector space of degree 3 and dimension 1 over Rational Field\n",
       "User basis matrix:\n",
       "[0 1 2]),\n",
       "(-11, Vector space of degree 3 and dimension 1 over Rational Field\n",
       "User basis matrix:\n",
       "[0 0 1])\n",
       "]"
      ]
     },
     "execution_count": 121,
     "metadata": {},
     "output_type": "execute_result"
    }
   ],
   "source": [
    "A.eigenspaces_right()"
   ]
  },
  {
   "cell_type": "code",
   "execution_count": 122,
   "metadata": {},
   "outputs": [
    {
     "data": {
      "text/html": [
       "<html>\\[\\newcommand{\\Bold}[1]{\\mathbf{#1}}\\left[\\left(5, \\mathrm{RowSpan}_{\\Bold{Q}}\\left(\\begin{array}{rrr}\n",
       "1 & \\frac{1}{2} & -\\frac{3}{16}\n",
       "\\end{array}\\right), 1\\right), \\left(-7, \\mathrm{RowSpan}_{\\Bold{Q}}\\left(\\begin{array}{rrr}\n",
       "0 & 1 & 2\n",
       "\\end{array}\\right), 1\\right), \\left(-11, \\mathrm{RowSpan}_{\\Bold{Q}}\\left(\\begin{array}{rrr}\n",
       "0 & 0 & 1\n",
       "\\end{array}\\right), 1\\right)\\right]\\]</html>"
      ],
      "text/latex": [
       "$$\\newcommand{\\Bold}[1]{\\mathbf{#1}}\\left[\\left(5, \\mathrm{RowSpan}_{\\Bold{Q}}\\left(\\begin{array}{rrr}\n",
       "1 & \\frac{1}{2} & -\\frac{3}{16}\n",
       "\\end{array}\\right), 1\\right), \\left(-7, \\mathrm{RowSpan}_{\\Bold{Q}}\\left(\\begin{array}{rrr}\n",
       "0 & 1 & 2\n",
       "\\end{array}\\right), 1\\right), \\left(-11, \\mathrm{RowSpan}_{\\Bold{Q}}\\left(\\begin{array}{rrr}\n",
       "0 & 0 & 1\n",
       "\\end{array}\\right), 1\\right)\\right]$$"
      ],
      "text/plain": [
       "[\n",
       "(5, Vector space of degree 3 and dimension 1 over Rational Field\n",
       "User basis matrix:\n",
       "[    1   1/2 -3/16], 1),\n",
       "(-7, Vector space of degree 3 and dimension 1 over Rational Field\n",
       "User basis matrix:\n",
       "[0 1 2], 1),\n",
       "(-11, Vector space of degree 3 and dimension 1 over Rational Field\n",
       "User basis matrix:\n",
       "[0 0 1], 1)\n",
       "]"
      ]
     },
     "execution_count": 122,
     "metadata": {},
     "output_type": "execute_result"
    }
   ],
   "source": [
    "A.eigenspaces_right(algebraic_multiplicity=True)"
   ]
  },
  {
   "cell_type": "markdown",
   "metadata": {},
   "source": [
    "<p style=\"line-height:25px;\">možemo dobiti i dijagonalnu matricu $D$ koja na glavnoj dijagonali ima svojstvene vrijednosti i matricu $P$ čiji stupci se sastoje od svojstvenih vektora.</p>"
   ]
  },
  {
   "cell_type": "code",
   "execution_count": 123,
   "metadata": {},
   "outputs": [
    {
     "data": {
      "text/html": [
       "<html>\\[\\newcommand{\\Bold}[1]{\\mathbf{#1}}\\left(\\left(\\begin{array}{rrr}\n",
       "5 & 0 & 0 \\\\\n",
       "0 & -7 & 0 \\\\\n",
       "0 & 0 & -11\n",
       "\\end{array}\\right), \\left(\\begin{array}{rrr}\n",
       "1 & 0 & 0 \\\\\n",
       "\\frac{1}{2} & 1 & 0 \\\\\n",
       "-\\frac{3}{16} & 2 & 1\n",
       "\\end{array}\\right)\\right)\\]</html>"
      ],
      "text/latex": [
       "$$\\newcommand{\\Bold}[1]{\\mathbf{#1}}\\left(\\left(\\begin{array}{rrr}\n",
       "5 & 0 & 0 \\\\\n",
       "0 & -7 & 0 \\\\\n",
       "0 & 0 & -11\n",
       "\\end{array}\\right), \\left(\\begin{array}{rrr}\n",
       "1 & 0 & 0 \\\\\n",
       "\\frac{1}{2} & 1 & 0 \\\\\n",
       "-\\frac{3}{16} & 2 & 1\n",
       "\\end{array}\\right)\\right)$$"
      ],
      "text/plain": [
       "(\n",
       "[  5   0   0]  [    1     0     0]\n",
       "[  0  -7   0]  [  1/2     1     0]\n",
       "[  0   0 -11], [-3/16     2     1]\n",
       ")"
      ]
     },
     "execution_count": 123,
     "metadata": {},
     "output_type": "execute_result"
    }
   ],
   "source": [
    "A.eigenmatrix_right()"
   ]
  },
  {
   "cell_type": "code",
   "execution_count": 124,
   "metadata": {},
   "outputs": [],
   "source": [
    "D,P=A.eigenmatrix_right()"
   ]
  },
  {
   "cell_type": "code",
   "execution_count": 125,
   "metadata": {},
   "outputs": [
    {
     "data": {
      "text/html": [
       "<html>\\[\\newcommand{\\Bold}[1]{\\mathbf{#1}}\\left(\\begin{array}{rrr}\n",
       "5 & 0 & 0 \\\\\n",
       "0 & -7 & 0 \\\\\n",
       "0 & 0 & -11\n",
       "\\end{array}\\right)\\]</html>"
      ],
      "text/latex": [
       "$$\\newcommand{\\Bold}[1]{\\mathbf{#1}}\\left(\\begin{array}{rrr}\n",
       "5 & 0 & 0 \\\\\n",
       "0 & -7 & 0 \\\\\n",
       "0 & 0 & -11\n",
       "\\end{array}\\right)$$"
      ],
      "text/plain": [
       "[  5   0   0]\n",
       "[  0  -7   0]\n",
       "[  0   0 -11]"
      ]
     },
     "execution_count": 125,
     "metadata": {},
     "output_type": "execute_result"
    }
   ],
   "source": [
    "D"
   ]
  },
  {
   "cell_type": "code",
   "execution_count": 126,
   "metadata": {},
   "outputs": [
    {
     "data": {
      "text/html": [
       "<html>\\[\\newcommand{\\Bold}[1]{\\mathbf{#1}}\\left(\\begin{array}{rrr}\n",
       "1 & 0 & 0 \\\\\n",
       "\\frac{1}{2} & 1 & 0 \\\\\n",
       "-\\frac{3}{16} & 2 & 1\n",
       "\\end{array}\\right)\\]</html>"
      ],
      "text/latex": [
       "$$\\newcommand{\\Bold}[1]{\\mathbf{#1}}\\left(\\begin{array}{rrr}\n",
       "1 & 0 & 0 \\\\\n",
       "\\frac{1}{2} & 1 & 0 \\\\\n",
       "-\\frac{3}{16} & 2 & 1\n",
       "\\end{array}\\right)$$"
      ],
      "text/plain": [
       "[    1     0     0]\n",
       "[  1/2     1     0]\n",
       "[-3/16     2     1]"
      ]
     },
     "execution_count": 126,
     "metadata": {},
     "output_type": "execute_result"
    }
   ],
   "source": [
    "P"
   ]
  },
  {
   "cell_type": "markdown",
   "metadata": {},
   "source": [
    "<p>$P^{-1}AP=D$</p>"
   ]
  },
  {
   "cell_type": "code",
   "execution_count": 127,
   "metadata": {},
   "outputs": [
    {
     "data": {
      "text/html": [
       "<html>\\[\\newcommand{\\Bold}[1]{\\mathbf{#1}}\\left(\\begin{array}{rrr}\n",
       "5 & 0 & 0 \\\\\n",
       "0 & -7 & 0 \\\\\n",
       "0 & 0 & -11\n",
       "\\end{array}\\right)\\]</html>"
      ],
      "text/latex": [
       "$$\\newcommand{\\Bold}[1]{\\mathbf{#1}}\\left(\\begin{array}{rrr}\n",
       "5 & 0 & 0 \\\\\n",
       "0 & -7 & 0 \\\\\n",
       "0 & 0 & -11\n",
       "\\end{array}\\right)$$"
      ],
      "text/plain": [
       "[  5   0   0]\n",
       "[  0  -7   0]\n",
       "[  0   0 -11]"
      ]
     },
     "execution_count": 127,
     "metadata": {},
     "output_type": "execute_result"
    }
   ],
   "source": [
    "P^-1*A*P"
   ]
  },
  {
   "cell_type": "markdown",
   "metadata": {},
   "source": [
    "<div style=\"background-color: #F5FFFA; color: #000000; border: 2px solid #B0C4DE; border-radius: 15px; padding:0px 10px 25px; overflow:auto\">\n",
    "<h3>16. zadatak</h3>\n",
    "<p>Zadana je matrica $A=\\begin{bmatrix}5&-6&-6\\\\ -1&4&2\\\\ 3&-6&-4\\end{bmatrix}$.</p>\n",
    "<p>Odredite:</p>\n",
    "<ol style=\"list-style-type:lower-alpha;\">\n",
    "<li style=\"line-height:30px;\">karakteristični i minimalni polinom matrice $A,$</li>\n",
    "<li style=\"line-height:30px;\">$\\sigma(A), \\det{A}, \\mathrm{tr}\\,A,$</li>\n",
    "<li style=\"line-height:30px;\">svojstvene potprostore matrice $A.$</li>\n",
    "</ol>\n",
    "</div>\n",
    "<h3>Rješenje</h3>"
   ]
  },
  {
   "cell_type": "code",
   "execution_count": 128,
   "metadata": {},
   "outputs": [
    {
     "data": {
      "text/html": [
       "<html>\\[\\newcommand{\\Bold}[1]{\\mathbf{#1}}\\left(\\begin{array}{rrr}\n",
       "5 & -6 & -6 \\\\\n",
       "-1 & 4 & 2 \\\\\n",
       "3 & -6 & -4\n",
       "\\end{array}\\right)\\]</html>"
      ],
      "text/latex": [
       "$$\\newcommand{\\Bold}[1]{\\mathbf{#1}}\\left(\\begin{array}{rrr}\n",
       "5 & -6 & -6 \\\\\n",
       "-1 & 4 & 2 \\\\\n",
       "3 & -6 & -4\n",
       "\\end{array}\\right)$$"
      ],
      "text/plain": [
       "[ 5 -6 -6]\n",
       "[-1  4  2]\n",
       "[ 3 -6 -4]"
      ]
     },
     "execution_count": 128,
     "metadata": {},
     "output_type": "execute_result"
    }
   ],
   "source": [
    "A=matrix([[5,-6,-6],[-1,4,2],[3,-6,-4]]); A"
   ]
  },
  {
   "cell_type": "markdown",
   "metadata": {},
   "source": [
    "<p><strong>a) dio</strong></p>\n",
    "\n",
    "<p>karakteristični polinom</p>"
   ]
  },
  {
   "cell_type": "code",
   "execution_count": 129,
   "metadata": {},
   "outputs": [
    {
     "data": {
      "text/html": [
       "<html>\\[\\newcommand{\\Bold}[1]{\\mathbf{#1}}x^{3} - 5x^{2} + 8x - 4\\]</html>"
      ],
      "text/latex": [
       "$$\\newcommand{\\Bold}[1]{\\mathbf{#1}}x^{3} - 5x^{2} + 8x - 4$$"
      ],
      "text/plain": [
       "x^3 - 5*x^2 + 8*x - 4"
      ]
     },
     "execution_count": 129,
     "metadata": {},
     "output_type": "execute_result"
    }
   ],
   "source": [
    "A.charpoly()"
   ]
  },
  {
   "cell_type": "code",
   "execution_count": 130,
   "metadata": {},
   "outputs": [
    {
     "data": {
      "text/html": [
       "<html>\\[\\newcommand{\\Bold}[1]{\\mathbf{#1}}(x - 1) \\cdot (x - 2)^{2}\\]</html>"
      ],
      "text/latex": [
       "$$\\newcommand{\\Bold}[1]{\\mathbf{#1}}(x - 1) \\cdot (x - 2)^{2}$$"
      ],
      "text/plain": [
       "(x - 1) * (x - 2)^2"
      ]
     },
     "execution_count": 130,
     "metadata": {},
     "output_type": "execute_result"
    }
   ],
   "source": [
    "A.fcp()"
   ]
  },
  {
   "cell_type": "markdown",
   "metadata": {},
   "source": [
    "<p>minimalni polinom</p>"
   ]
  },
  {
   "cell_type": "code",
   "execution_count": 131,
   "metadata": {},
   "outputs": [
    {
     "data": {
      "text/html": [
       "<html>\\[\\newcommand{\\Bold}[1]{\\mathbf{#1}}x^{2} - 3x + 2\\]</html>"
      ],
      "text/latex": [
       "$$\\newcommand{\\Bold}[1]{\\mathbf{#1}}x^{2} - 3x + 2$$"
      ],
      "text/plain": [
       "x^2 - 3*x + 2"
      ]
     },
     "execution_count": 131,
     "metadata": {},
     "output_type": "execute_result"
    }
   ],
   "source": [
    "A.minpoly()"
   ]
  },
  {
   "cell_type": "code",
   "execution_count": 132,
   "metadata": {},
   "outputs": [
    {
     "data": {
      "text/html": [
       "<html>\\[\\newcommand{\\Bold}[1]{\\mathbf{#1}}(x - 2) \\cdot (x - 1)\\]</html>"
      ],
      "text/latex": [
       "$$\\newcommand{\\Bold}[1]{\\mathbf{#1}}(x - 2) \\cdot (x - 1)$$"
      ],
      "text/plain": [
       "(x - 2) * (x - 1)"
      ]
     },
     "execution_count": 132,
     "metadata": {},
     "output_type": "execute_result"
    }
   ],
   "source": [
    "A.minpoly().factor()"
   ]
  },
  {
   "cell_type": "markdown",
   "metadata": {},
   "source": [
    "<p><strong>b) dio</strong></p>\n",
    "\n",
    "<p>determinanta i trag</p>"
   ]
  },
  {
   "cell_type": "code",
   "execution_count": 133,
   "metadata": {},
   "outputs": [
    {
     "data": {
      "text/html": [
       "<html>\\[\\newcommand{\\Bold}[1]{\\mathbf{#1}}\\left(4, 5\\right)\\]</html>"
      ],
      "text/latex": [
       "$$\\newcommand{\\Bold}[1]{\\mathbf{#1}}\\left(4, 5\\right)$$"
      ],
      "text/plain": [
       "(4, 5)"
      ]
     },
     "execution_count": 133,
     "metadata": {},
     "output_type": "execute_result"
    }
   ],
   "source": [
    "A.det(),A.trace()"
   ]
  },
  {
   "cell_type": "markdown",
   "metadata": {},
   "source": [
    "<p>spektar: $\\sigma(A)=\\{1,2\\}$</p>"
   ]
  },
  {
   "cell_type": "code",
   "execution_count": 134,
   "metadata": {},
   "outputs": [
    {
     "data": {
      "text/html": [
       "<html>\\[\\newcommand{\\Bold}[1]{\\mathbf{#1}}\\left[1, 2, 2\\right]\\]</html>"
      ],
      "text/latex": [
       "$$\\newcommand{\\Bold}[1]{\\mathbf{#1}}\\left[1, 2, 2\\right]$$"
      ],
      "text/plain": [
       "[1, 2, 2]"
      ]
     },
     "execution_count": 134,
     "metadata": {},
     "output_type": "execute_result"
    }
   ],
   "source": [
    "A.eigenvalues()"
   ]
  },
  {
   "cell_type": "markdown",
   "metadata": {},
   "source": [
    "<p><strong>c) dio</strong></p>"
   ]
  },
  {
   "cell_type": "code",
   "execution_count": 135,
   "metadata": {},
   "outputs": [
    {
     "data": {
      "text/html": [
       "<html>\\[\\newcommand{\\Bold}[1]{\\mathbf{#1}}\\left[\\left(1, \\left[\\left(1,\\,-\\frac{1}{3},\\,1\\right)\\right], 1\\right), \\left(2, \\left[\\left(1,\\,0,\\,\\frac{1}{2}\\right), \\left(0,\\,1,\\,-1\\right)\\right], 2\\right)\\right]\\]</html>"
      ],
      "text/latex": [
       "$$\\newcommand{\\Bold}[1]{\\mathbf{#1}}\\left[\\left(1, \\left[\\left(1,\\,-\\frac{1}{3},\\,1\\right)\\right], 1\\right), \\left(2, \\left[\\left(1,\\,0,\\,\\frac{1}{2}\\right), \\left(0,\\,1,\\,-1\\right)\\right], 2\\right)\\right]$$"
      ],
      "text/plain": [
       "[(1,\n",
       "  [\n",
       "  (1, -1/3, 1)\n",
       "  ],\n",
       "  1),\n",
       " (2,\n",
       "  [\n",
       "  (1, 0, 1/2),\n",
       "  (0, 1, -1)\n",
       "  ],\n",
       "  2)]"
      ]
     },
     "execution_count": 135,
     "metadata": {},
     "output_type": "execute_result"
    }
   ],
   "source": [
    "A.eigenvectors_right()"
   ]
  },
  {
   "cell_type": "code",
   "execution_count": 136,
   "metadata": {},
   "outputs": [
    {
     "data": {
      "text/html": [
       "<html>\\[\\newcommand{\\Bold}[1]{\\mathbf{#1}}\\left[\\left(1, \\mathrm{RowSpan}_{\\Bold{Q}}\\left(\\begin{array}{rrr}\n",
       "1 & -\\frac{1}{3} & 1\n",
       "\\end{array}\\right)\\right), \\left(2, \\mathrm{RowSpan}_{\\Bold{Q}}\\left(\\begin{array}{rrr}\n",
       "1 & 0 & \\frac{1}{2} \\\\\n",
       "0 & 1 & -1\n",
       "\\end{array}\\right)\\right)\\right]\\]</html>"
      ],
      "text/latex": [
       "$$\\newcommand{\\Bold}[1]{\\mathbf{#1}}\\left[\\left(1, \\mathrm{RowSpan}_{\\Bold{Q}}\\left(\\begin{array}{rrr}\n",
       "1 & -\\frac{1}{3} & 1\n",
       "\\end{array}\\right)\\right), \\left(2, \\mathrm{RowSpan}_{\\Bold{Q}}\\left(\\begin{array}{rrr}\n",
       "1 & 0 & \\frac{1}{2} \\\\\n",
       "0 & 1 & -1\n",
       "\\end{array}\\right)\\right)\\right]$$"
      ],
      "text/plain": [
       "[\n",
       "(1, Vector space of degree 3 and dimension 1 over Rational Field\n",
       "User basis matrix:\n",
       "[   1 -1/3    1]),\n",
       "(2, Vector space of degree 3 and dimension 2 over Rational Field\n",
       "User basis matrix:\n",
       "[  1   0 1/2]\n",
       "[  0   1  -1])\n",
       "]"
      ]
     },
     "execution_count": 136,
     "metadata": {},
     "output_type": "execute_result"
    }
   ],
   "source": [
    "A.eigenspaces_right()"
   ]
  },
  {
   "cell_type": "code",
   "execution_count": 137,
   "metadata": {},
   "outputs": [],
   "source": [
    "D,P=A.eigenmatrix_right()"
   ]
  },
  {
   "cell_type": "code",
   "execution_count": 138,
   "metadata": {},
   "outputs": [
    {
     "data": {
      "text/html": [
       "<html>\\[\\newcommand{\\Bold}[1]{\\mathbf{#1}}\\left(\\left(\\begin{array}{rrr}\n",
       "1 & 0 & 0 \\\\\n",
       "0 & 2 & 0 \\\\\n",
       "0 & 0 & 2\n",
       "\\end{array}\\right), \\left(\\begin{array}{rrr}\n",
       "1 & 1 & 0 \\\\\n",
       "-\\frac{1}{3} & 0 & 1 \\\\\n",
       "1 & \\frac{1}{2} & -1\n",
       "\\end{array}\\right)\\right)\\]</html>"
      ],
      "text/latex": [
       "$$\\newcommand{\\Bold}[1]{\\mathbf{#1}}\\left(\\left(\\begin{array}{rrr}\n",
       "1 & 0 & 0 \\\\\n",
       "0 & 2 & 0 \\\\\n",
       "0 & 0 & 2\n",
       "\\end{array}\\right), \\left(\\begin{array}{rrr}\n",
       "1 & 1 & 0 \\\\\n",
       "-\\frac{1}{3} & 0 & 1 \\\\\n",
       "1 & \\frac{1}{2} & -1\n",
       "\\end{array}\\right)\\right)$$"
      ],
      "text/plain": [
       "(\n",
       "[1 0 0]  [   1    1    0]\n",
       "[0 2 0]  [-1/3    0    1]\n",
       "[0 0 2], [   1  1/2   -1]\n",
       ")"
      ]
     },
     "execution_count": 138,
     "metadata": {},
     "output_type": "execute_result"
    }
   ],
   "source": [
    "D,P"
   ]
  },
  {
   "cell_type": "markdown",
   "metadata": {},
   "source": [
    "<p>$P^{-1}AP=D$</p>"
   ]
  },
  {
   "cell_type": "code",
   "execution_count": 139,
   "metadata": {},
   "outputs": [
    {
     "data": {
      "text/html": [
       "<html>\\[\\newcommand{\\Bold}[1]{\\mathbf{#1}}\\left(\\begin{array}{rrr}\n",
       "1 & 0 & 0 \\\\\n",
       "0 & 2 & 0 \\\\\n",
       "0 & 0 & 2\n",
       "\\end{array}\\right)\\]</html>"
      ],
      "text/latex": [
       "$$\\newcommand{\\Bold}[1]{\\mathbf{#1}}\\left(\\begin{array}{rrr}\n",
       "1 & 0 & 0 \\\\\n",
       "0 & 2 & 0 \\\\\n",
       "0 & 0 & 2\n",
       "\\end{array}\\right)$$"
      ],
      "text/plain": [
       "[1 0 0]\n",
       "[0 2 0]\n",
       "[0 0 2]"
      ]
     },
     "execution_count": 139,
     "metadata": {},
     "output_type": "execute_result"
    }
   ],
   "source": [
    "P^-1*A*P"
   ]
  },
  {
   "cell_type": "markdown",
   "metadata": {},
   "source": [
    "<div style=\"background-color: #F5FFFA; color: #000000; border: 2px solid #B0C4DE; border-radius: 15px; padding:0px 10px 25px; overflow:auto\">\n",
    "<h3>17. zadatak</h3>\n",
    "<p>Zadana je matrica $A=\\begin{bmatrix}4&-4&2\\\\ 2&-2&1\\\\ -4&4&-2\\end{bmatrix}$.</p>\n",
    "<p>Odredite:</p>\n",
    "<ol style=\"list-style-type:lower-alpha;\">\n",
    "<li style=\"line-height:30px;\">karakteristični i minimalni polinom matrice $A,$</li>\n",
    "<li style=\"line-height:30px;\">$\\sigma(A), \\det{A}, \\mathrm{tr}\\,A,$</li>\n",
    "<li style=\"line-height:30px;\">svojstvene potprostore matrice $A.$</li>\n",
    "</ol>\n",
    "</div>\n",
    "<h3>Rješenje</h3>"
   ]
  },
  {
   "cell_type": "code",
   "execution_count": 140,
   "metadata": {},
   "outputs": [
    {
     "data": {
      "text/html": [
       "<html>\\[\\newcommand{\\Bold}[1]{\\mathbf{#1}}\\left(\\begin{array}{rrr}\n",
       "4 & -4 & 2 \\\\\n",
       "2 & -2 & 1 \\\\\n",
       "-4 & 4 & -2\n",
       "\\end{array}\\right)\\]</html>"
      ],
      "text/latex": [
       "$$\\newcommand{\\Bold}[1]{\\mathbf{#1}}\\left(\\begin{array}{rrr}\n",
       "4 & -4 & 2 \\\\\n",
       "2 & -2 & 1 \\\\\n",
       "-4 & 4 & -2\n",
       "\\end{array}\\right)$$"
      ],
      "text/plain": [
       "[ 4 -4  2]\n",
       "[ 2 -2  1]\n",
       "[-4  4 -2]"
      ]
     },
     "execution_count": 140,
     "metadata": {},
     "output_type": "execute_result"
    }
   ],
   "source": [
    "A=matrix([[4,-4,2],[2,-2,1],[-4,4,-2]]); A"
   ]
  },
  {
   "cell_type": "markdown",
   "metadata": {},
   "source": [
    "<p><strong>a) dio</strong></p>\n",
    "\n",
    "<p>karakteristični polinom</p>"
   ]
  },
  {
   "cell_type": "code",
   "execution_count": 141,
   "metadata": {},
   "outputs": [
    {
     "data": {
      "text/html": [
       "<html>\\[\\newcommand{\\Bold}[1]{\\mathbf{#1}}x^{3}\\]</html>"
      ],
      "text/latex": [
       "$$\\newcommand{\\Bold}[1]{\\mathbf{#1}}x^{3}$$"
      ],
      "text/plain": [
       "x^3"
      ]
     },
     "execution_count": 141,
     "metadata": {},
     "output_type": "execute_result"
    }
   ],
   "source": [
    "A.charpoly()"
   ]
  },
  {
   "cell_type": "markdown",
   "metadata": {},
   "source": [
    "<p>minimalni polinom</p>"
   ]
  },
  {
   "cell_type": "code",
   "execution_count": 142,
   "metadata": {},
   "outputs": [
    {
     "data": {
      "text/html": [
       "<html>\\[\\newcommand{\\Bold}[1]{\\mathbf{#1}}x^{2}\\]</html>"
      ],
      "text/latex": [
       "$$\\newcommand{\\Bold}[1]{\\mathbf{#1}}x^{2}$$"
      ],
      "text/plain": [
       "x^2"
      ]
     },
     "execution_count": 142,
     "metadata": {},
     "output_type": "execute_result"
    }
   ],
   "source": [
    "A.minpoly()"
   ]
  },
  {
   "cell_type": "markdown",
   "metadata": {},
   "source": [
    "<p><strong>b) dio</strong></p>\n",
    "\n",
    "<p>determinanta i trag</p>"
   ]
  },
  {
   "cell_type": "code",
   "execution_count": 143,
   "metadata": {},
   "outputs": [
    {
     "data": {
      "text/html": [
       "<html>\\[\\newcommand{\\Bold}[1]{\\mathbf{#1}}\\left(0, 0\\right)\\]</html>"
      ],
      "text/latex": [
       "$$\\newcommand{\\Bold}[1]{\\mathbf{#1}}\\left(0, 0\\right)$$"
      ],
      "text/plain": [
       "(0, 0)"
      ]
     },
     "execution_count": 143,
     "metadata": {},
     "output_type": "execute_result"
    }
   ],
   "source": [
    "A.det(),A.trace()"
   ]
  },
  {
   "cell_type": "markdown",
   "metadata": {},
   "source": [
    "<p>spektar: $\\sigma(A)=\\{0\\}$</p>"
   ]
  },
  {
   "cell_type": "code",
   "execution_count": 144,
   "metadata": {},
   "outputs": [
    {
     "data": {
      "text/html": [
       "<html>\\[\\newcommand{\\Bold}[1]{\\mathbf{#1}}\\left[0, 0, 0\\right]\\]</html>"
      ],
      "text/latex": [
       "$$\\newcommand{\\Bold}[1]{\\mathbf{#1}}\\left[0, 0, 0\\right]$$"
      ],
      "text/plain": [
       "[0, 0, 0]"
      ]
     },
     "execution_count": 144,
     "metadata": {},
     "output_type": "execute_result"
    }
   ],
   "source": [
    "A.eigenvalues()"
   ]
  },
  {
   "cell_type": "markdown",
   "metadata": {},
   "source": [
    "<p><strong>c) dio</strong></p>"
   ]
  },
  {
   "cell_type": "code",
   "execution_count": 145,
   "metadata": {},
   "outputs": [
    {
     "data": {
      "text/html": [
       "<html>\\[\\newcommand{\\Bold}[1]{\\mathbf{#1}}\\left[\\left(0, \\left[\\left(1,\\,0,\\,-2\\right), \\left(0,\\,1,\\,2\\right)\\right], 3\\right)\\right]\\]</html>"
      ],
      "text/latex": [
       "$$\\newcommand{\\Bold}[1]{\\mathbf{#1}}\\left[\\left(0, \\left[\\left(1,\\,0,\\,-2\\right), \\left(0,\\,1,\\,2\\right)\\right], 3\\right)\\right]$$"
      ],
      "text/plain": [
       "[(0,\n",
       "  [\n",
       "  (1, 0, -2),\n",
       "  (0, 1, 2)\n",
       "  ],\n",
       "  3)]"
      ]
     },
     "execution_count": 145,
     "metadata": {},
     "output_type": "execute_result"
    }
   ],
   "source": [
    "A.eigenvectors_right()"
   ]
  },
  {
   "cell_type": "code",
   "execution_count": 146,
   "metadata": {},
   "outputs": [
    {
     "data": {
      "text/html": [
       "<html>\\[\\newcommand{\\Bold}[1]{\\mathbf{#1}}\\left[\\left(0, \\mathrm{RowSpan}_{\\Bold{Q}}\\left(\\begin{array}{rrr}\n",
       "1 & 0 & -2 \\\\\n",
       "0 & 1 & 2\n",
       "\\end{array}\\right)\\right)\\right]\\]</html>"
      ],
      "text/latex": [
       "$$\\newcommand{\\Bold}[1]{\\mathbf{#1}}\\left[\\left(0, \\mathrm{RowSpan}_{\\Bold{Q}}\\left(\\begin{array}{rrr}\n",
       "1 & 0 & -2 \\\\\n",
       "0 & 1 & 2\n",
       "\\end{array}\\right)\\right)\\right]$$"
      ],
      "text/plain": [
       "[\n",
       "(0, Vector space of degree 3 and dimension 2 over Rational Field\n",
       "User basis matrix:\n",
       "[ 1  0 -2]\n",
       "[ 0  1  2])\n",
       "]"
      ]
     },
     "execution_count": 146,
     "metadata": {},
     "output_type": "execute_result"
    }
   ],
   "source": [
    "A.eigenspaces_right()"
   ]
  },
  {
   "cell_type": "markdown",
   "metadata": {},
   "source": [
    "<p>matrica $A$ se ne može dijagonalizirati</p>"
   ]
  },
  {
   "cell_type": "code",
   "execution_count": 147,
   "metadata": {},
   "outputs": [
    {
     "data": {
      "text/html": [
       "<html>\\[\\newcommand{\\Bold}[1]{\\mathbf{#1}}\\left(\\left(\\begin{array}{rrr}\n",
       "0 & 0 & 0 \\\\\n",
       "0 & 0 & 0 \\\\\n",
       "0 & 0 & 0\n",
       "\\end{array}\\right), \\left(\\begin{array}{rrr}\n",
       "1 & 0 & 0 \\\\\n",
       "0 & 1 & 0 \\\\\n",
       "-2 & 2 & 0\n",
       "\\end{array}\\right)\\right)\\]</html>"
      ],
      "text/latex": [
       "$$\\newcommand{\\Bold}[1]{\\mathbf{#1}}\\left(\\left(\\begin{array}{rrr}\n",
       "0 & 0 & 0 \\\\\n",
       "0 & 0 & 0 \\\\\n",
       "0 & 0 & 0\n",
       "\\end{array}\\right), \\left(\\begin{array}{rrr}\n",
       "1 & 0 & 0 \\\\\n",
       "0 & 1 & 0 \\\\\n",
       "-2 & 2 & 0\n",
       "\\end{array}\\right)\\right)$$"
      ],
      "text/plain": [
       "(\n",
       "[0 0 0]  [ 1  0  0]\n",
       "[0 0 0]  [ 0  1  0]\n",
       "[0 0 0], [-2  2  0]\n",
       ")"
      ]
     },
     "execution_count": 147,
     "metadata": {},
     "output_type": "execute_result"
    }
   ],
   "source": [
    "A.eigenmatrix_right()"
   ]
  },
  {
   "cell_type": "markdown",
   "metadata": {},
   "source": [
    "<div style=\"background-color: #F5FFFA; color: #000000; border: 2px solid #B0C4DE; border-radius: 15px; padding:0px 10px 25px; overflow:auto\">\n",
    "<h3>18. zadatak</h3>\n",
    "<p>Zadana je matrica $A=\\begin{bmatrix}1&1&-1\\\\ -1&3&-1\\\\ -1&2&0\\end{bmatrix}$.</p>\n",
    "<p>Odredite:</p>\n",
    "<ol style=\"list-style-type:lower-alpha;\">\n",
    "<li style=\"line-height:30px;\">karakteristični i minimalni polinom matrice $A,$</p>\n",
    "<li style=\"line-height:30px;\">$\\sigma(A), \\det{A}, \\mathrm{tr}\\,A,$</p>\n",
    "<li style=\"line-height:30px;\">svojstvene potprostore matrice $A.$</p>\n",
    "</ol>\n",
    "</div>\n",
    "<h3>Rješenje</h3>"
   ]
  },
  {
   "cell_type": "code",
   "execution_count": 148,
   "metadata": {},
   "outputs": [
    {
     "data": {
      "text/html": [
       "<html>\\[\\newcommand{\\Bold}[1]{\\mathbf{#1}}\\left(\\begin{array}{rrr}\n",
       "1 & 1 & -1 \\\\\n",
       "-1 & 3 & -1 \\\\\n",
       "-1 & 2 & 0\n",
       "\\end{array}\\right)\\]</html>"
      ],
      "text/latex": [
       "$$\\newcommand{\\Bold}[1]{\\mathbf{#1}}\\left(\\begin{array}{rrr}\n",
       "1 & 1 & -1 \\\\\n",
       "-1 & 3 & -1 \\\\\n",
       "-1 & 2 & 0\n",
       "\\end{array}\\right)$$"
      ],
      "text/plain": [
       "[ 1  1 -1]\n",
       "[-1  3 -1]\n",
       "[-1  2  0]"
      ]
     },
     "execution_count": 148,
     "metadata": {},
     "output_type": "execute_result"
    }
   ],
   "source": [
    "A=matrix([[1,1,-1],[-1,3,-1],[-1,2,0]]); A"
   ]
  },
  {
   "cell_type": "markdown",
   "metadata": {},
   "source": [
    "<p><strong>a) dio</strong></p>\n",
    "\n",
    "<p>karakteristični polinom</p>"
   ]
  },
  {
   "cell_type": "code",
   "execution_count": 149,
   "metadata": {},
   "outputs": [
    {
     "data": {
      "text/html": [
       "<html>\\[\\newcommand{\\Bold}[1]{\\mathbf{#1}}x^{3} - 4x^{2} + 5x - 2\\]</html>"
      ],
      "text/latex": [
       "$$\\newcommand{\\Bold}[1]{\\mathbf{#1}}x^{3} - 4x^{2} + 5x - 2$$"
      ],
      "text/plain": [
       "x^3 - 4*x^2 + 5*x - 2"
      ]
     },
     "execution_count": 149,
     "metadata": {},
     "output_type": "execute_result"
    }
   ],
   "source": [
    "A.charpoly()"
   ]
  },
  {
   "cell_type": "code",
   "execution_count": 150,
   "metadata": {},
   "outputs": [
    {
     "data": {
      "text/html": [
       "<html>\\[\\newcommand{\\Bold}[1]{\\mathbf{#1}}(x - 2) \\cdot (x - 1)^{2}\\]</html>"
      ],
      "text/latex": [
       "$$\\newcommand{\\Bold}[1]{\\mathbf{#1}}(x - 2) \\cdot (x - 1)^{2}$$"
      ],
      "text/plain": [
       "(x - 2) * (x - 1)^2"
      ]
     },
     "execution_count": 150,
     "metadata": {},
     "output_type": "execute_result"
    }
   ],
   "source": [
    "A.fcp()"
   ]
  },
  {
   "cell_type": "markdown",
   "metadata": {},
   "source": [
    "<p>minimalni polinom</p>"
   ]
  },
  {
   "cell_type": "code",
   "execution_count": 151,
   "metadata": {},
   "outputs": [
    {
     "data": {
      "text/html": [
       "<html>\\[\\newcommand{\\Bold}[1]{\\mathbf{#1}}x^{3} - 4x^{2} + 5x - 2\\]</html>"
      ],
      "text/latex": [
       "$$\\newcommand{\\Bold}[1]{\\mathbf{#1}}x^{3} - 4x^{2} + 5x - 2$$"
      ],
      "text/plain": [
       "x^3 - 4*x^2 + 5*x - 2"
      ]
     },
     "execution_count": 151,
     "metadata": {},
     "output_type": "execute_result"
    }
   ],
   "source": [
    "A.minpoly()"
   ]
  },
  {
   "cell_type": "markdown",
   "metadata": {},
   "source": [
    "<p><strong>b) dio</strong></p>\n",
    "\n",
    "<p>determinanta i trag</p>"
   ]
  },
  {
   "cell_type": "code",
   "execution_count": 152,
   "metadata": {},
   "outputs": [
    {
     "data": {
      "text/html": [
       "<html>\\[\\newcommand{\\Bold}[1]{\\mathbf{#1}}\\left(2, 4\\right)\\]</html>"
      ],
      "text/latex": [
       "$$\\newcommand{\\Bold}[1]{\\mathbf{#1}}\\left(2, 4\\right)$$"
      ],
      "text/plain": [
       "(2, 4)"
      ]
     },
     "execution_count": 152,
     "metadata": {},
     "output_type": "execute_result"
    }
   ],
   "source": [
    "A.det(),A.trace()"
   ]
  },
  {
   "cell_type": "markdown",
   "metadata": {},
   "source": [
    "<p>spektar: $\\sigma(A)=\\{1,2\\}$</p>"
   ]
  },
  {
   "cell_type": "code",
   "execution_count": 153,
   "metadata": {},
   "outputs": [
    {
     "data": {
      "text/html": [
       "<html>\\[\\newcommand{\\Bold}[1]{\\mathbf{#1}}\\left[2, 1, 1\\right]\\]</html>"
      ],
      "text/latex": [
       "$$\\newcommand{\\Bold}[1]{\\mathbf{#1}}\\left[2, 1, 1\\right]$$"
      ],
      "text/plain": [
       "[2, 1, 1]"
      ]
     },
     "execution_count": 153,
     "metadata": {},
     "output_type": "execute_result"
    }
   ],
   "source": [
    "A.eigenvalues()"
   ]
  },
  {
   "cell_type": "markdown",
   "metadata": {},
   "source": [
    "<p><strong>c) dio</strong></p>"
   ]
  },
  {
   "cell_type": "code",
   "execution_count": 154,
   "metadata": {},
   "outputs": [
    {
     "data": {
      "text/html": [
       "<html>\\[\\newcommand{\\Bold}[1]{\\mathbf{#1}}\\left[\\left(2, \\left[\\left(0,\\,1,\\,1\\right)\\right], 1\\right), \\left(1, \\left[\\left(1,\\,1,\\,1\\right)\\right], 2\\right)\\right]\\]</html>"
      ],
      "text/latex": [
       "$$\\newcommand{\\Bold}[1]{\\mathbf{#1}}\\left[\\left(2, \\left[\\left(0,\\,1,\\,1\\right)\\right], 1\\right), \\left(1, \\left[\\left(1,\\,1,\\,1\\right)\\right], 2\\right)\\right]$$"
      ],
      "text/plain": [
       "[(2,\n",
       "  [\n",
       "  (0, 1, 1)\n",
       "  ],\n",
       "  1),\n",
       " (1,\n",
       "  [\n",
       "  (1, 1, 1)\n",
       "  ],\n",
       "  2)]"
      ]
     },
     "execution_count": 154,
     "metadata": {},
     "output_type": "execute_result"
    }
   ],
   "source": [
    "A.eigenvectors_right()"
   ]
  },
  {
   "cell_type": "code",
   "execution_count": 155,
   "metadata": {},
   "outputs": [
    {
     "data": {
      "text/html": [
       "<html>\\[\\newcommand{\\Bold}[1]{\\mathbf{#1}}\\left[\\left(2, \\mathrm{RowSpan}_{\\Bold{Q}}\\left(\\begin{array}{rrr}\n",
       "0 & 1 & 1\n",
       "\\end{array}\\right)\\right), \\left(1, \\mathrm{RowSpan}_{\\Bold{Q}}\\left(\\begin{array}{rrr}\n",
       "1 & 1 & 1\n",
       "\\end{array}\\right)\\right)\\right]\\]</html>"
      ],
      "text/latex": [
       "$$\\newcommand{\\Bold}[1]{\\mathbf{#1}}\\left[\\left(2, \\mathrm{RowSpan}_{\\Bold{Q}}\\left(\\begin{array}{rrr}\n",
       "0 & 1 & 1\n",
       "\\end{array}\\right)\\right), \\left(1, \\mathrm{RowSpan}_{\\Bold{Q}}\\left(\\begin{array}{rrr}\n",
       "1 & 1 & 1\n",
       "\\end{array}\\right)\\right)\\right]$$"
      ],
      "text/plain": [
       "[\n",
       "(2, Vector space of degree 3 and dimension 1 over Rational Field\n",
       "User basis matrix:\n",
       "[0 1 1]),\n",
       "(1, Vector space of degree 3 and dimension 1 over Rational Field\n",
       "User basis matrix:\n",
       "[1 1 1])\n",
       "]"
      ]
     },
     "execution_count": 155,
     "metadata": {},
     "output_type": "execute_result"
    }
   ],
   "source": [
    "A.eigenspaces_right()"
   ]
  },
  {
   "cell_type": "markdown",
   "metadata": {},
   "source": [
    "<p>matrica $A$ se ne može dijagonalizirati</p>"
   ]
  },
  {
   "cell_type": "code",
   "execution_count": 156,
   "metadata": {},
   "outputs": [
    {
     "data": {
      "text/html": [
       "<html>\\[\\newcommand{\\Bold}[1]{\\mathbf{#1}}\\left(\\left(\\begin{array}{rrr}\n",
       "2 & 0 & 0 \\\\\n",
       "0 & 1 & 0 \\\\\n",
       "0 & 0 & 1\n",
       "\\end{array}\\right), \\left(\\begin{array}{rrr}\n",
       "0 & 1 & 0 \\\\\n",
       "1 & 1 & 0 \\\\\n",
       "1 & 1 & 0\n",
       "\\end{array}\\right)\\right)\\]</html>"
      ],
      "text/latex": [
       "$$\\newcommand{\\Bold}[1]{\\mathbf{#1}}\\left(\\left(\\begin{array}{rrr}\n",
       "2 & 0 & 0 \\\\\n",
       "0 & 1 & 0 \\\\\n",
       "0 & 0 & 1\n",
       "\\end{array}\\right), \\left(\\begin{array}{rrr}\n",
       "0 & 1 & 0 \\\\\n",
       "1 & 1 & 0 \\\\\n",
       "1 & 1 & 0\n",
       "\\end{array}\\right)\\right)$$"
      ],
      "text/plain": [
       "(\n",
       "[2 0 0]  [0 1 0]\n",
       "[0 1 0]  [1 1 0]\n",
       "[0 0 1], [1 1 0]\n",
       ")"
      ]
     },
     "execution_count": 156,
     "metadata": {},
     "output_type": "execute_result"
    }
   ],
   "source": [
    "A.eigenmatrix_right()"
   ]
  },
  {
   "cell_type": "markdown",
   "metadata": {},
   "source": [
    "<div style=\"background-color: #F5FFFA; color: #000000; border: 2px solid #B0C4DE; border-radius: 15px; padding:0px 10px 25px; overflow:auto\">\n",
    "<h3>19. zadatak</h3>\n",
    "<p>Zadana je matrica $A=\\begin{bmatrix}1&1&1&1\\\\ 1&1&1&1\\\\ 1&1&1&1\\\\ 1&1&1&1\\end{bmatrix}$.</p>\n",
    "<p>Odredite:</p>\n",
    "<ol style=\"list-style-type:lower-alpha;\">\n",
    "<li style=\"line-height:30px;\">karakteristični i minimalni polinom matrice $A,$</li>\n",
    "<li style=\"line-height:30px;\">$\\sigma(A), \\det{A}, \\mathrm{tr}\\,A,$</li>\n",
    "<li style=\"line-height:30px;\">svojstvene potprostore matrice $A.$</li>\n",
    "</ol>\n",
    "</div>\n",
    "<h3>Rješenje</h3>"
   ]
  },
  {
   "cell_type": "code",
   "execution_count": 157,
   "metadata": {},
   "outputs": [
    {
     "data": {
      "text/html": [
       "<html>\\[\\newcommand{\\Bold}[1]{\\mathbf{#1}}\\left(\\begin{array}{rrrr}\n",
       "1 & 1 & 1 & 1 \\\\\n",
       "1 & 1 & 1 & 1 \\\\\n",
       "1 & 1 & 1 & 1 \\\\\n",
       "1 & 1 & 1 & 1\n",
       "\\end{array}\\right)\\]</html>"
      ],
      "text/latex": [
       "$$\\newcommand{\\Bold}[1]{\\mathbf{#1}}\\left(\\begin{array}{rrrr}\n",
       "1 & 1 & 1 & 1 \\\\\n",
       "1 & 1 & 1 & 1 \\\\\n",
       "1 & 1 & 1 & 1 \\\\\n",
       "1 & 1 & 1 & 1\n",
       "\\end{array}\\right)$$"
      ],
      "text/plain": [
       "[1 1 1 1]\n",
       "[1 1 1 1]\n",
       "[1 1 1 1]\n",
       "[1 1 1 1]"
      ]
     },
     "execution_count": 157,
     "metadata": {},
     "output_type": "execute_result"
    }
   ],
   "source": [
    "A=matrix([[1,1,1,1],[1,1,1,1],[1,1,1,1],[1,1,1,1]]); A"
   ]
  },
  {
   "cell_type": "markdown",
   "metadata": {},
   "source": [
    "<p><strong>a) dio</strong></p>\n",
    "\n",
    "<p>karakteristični polinom</p>"
   ]
  },
  {
   "cell_type": "code",
   "execution_count": 158,
   "metadata": {},
   "outputs": [
    {
     "data": {
      "text/html": [
       "<html>\\[\\newcommand{\\Bold}[1]{\\mathbf{#1}}x^{4} - 4x^{3}\\]</html>"
      ],
      "text/latex": [
       "$$\\newcommand{\\Bold}[1]{\\mathbf{#1}}x^{4} - 4x^{3}$$"
      ],
      "text/plain": [
       "x^4 - 4*x^3"
      ]
     },
     "execution_count": 158,
     "metadata": {},
     "output_type": "execute_result"
    }
   ],
   "source": [
    "A.charpoly()"
   ]
  },
  {
   "cell_type": "code",
   "execution_count": 159,
   "metadata": {},
   "outputs": [
    {
     "data": {
      "text/html": [
       "<html>\\[\\newcommand{\\Bold}[1]{\\mathbf{#1}}(x - 4) \\cdot x^{3}\\]</html>"
      ],
      "text/latex": [
       "$$\\newcommand{\\Bold}[1]{\\mathbf{#1}}(x - 4) \\cdot x^{3}$$"
      ],
      "text/plain": [
       "(x - 4) * x^3"
      ]
     },
     "execution_count": 159,
     "metadata": {},
     "output_type": "execute_result"
    }
   ],
   "source": [
    "A.fcp()"
   ]
  },
  {
   "cell_type": "markdown",
   "metadata": {},
   "source": [
    "<p>minimalni polinom</p>"
   ]
  },
  {
   "cell_type": "code",
   "execution_count": 160,
   "metadata": {},
   "outputs": [
    {
     "data": {
      "text/html": [
       "<html>\\[\\newcommand{\\Bold}[1]{\\mathbf{#1}}x^{2} - 4x\\]</html>"
      ],
      "text/latex": [
       "$$\\newcommand{\\Bold}[1]{\\mathbf{#1}}x^{2} - 4x$$"
      ],
      "text/plain": [
       "x^2 - 4*x"
      ]
     },
     "execution_count": 160,
     "metadata": {},
     "output_type": "execute_result"
    }
   ],
   "source": [
    "A.minpoly()"
   ]
  },
  {
   "cell_type": "code",
   "execution_count": 161,
   "metadata": {},
   "outputs": [
    {
     "data": {
      "text/html": [
       "<html>\\[\\newcommand{\\Bold}[1]{\\mathbf{#1}}(x - 4) \\cdot x\\]</html>"
      ],
      "text/latex": [
       "$$\\newcommand{\\Bold}[1]{\\mathbf{#1}}(x - 4) \\cdot x$$"
      ],
      "text/plain": [
       "(x - 4) * x"
      ]
     },
     "execution_count": 161,
     "metadata": {},
     "output_type": "execute_result"
    }
   ],
   "source": [
    "A.minpoly().factor()"
   ]
  },
  {
   "cell_type": "markdown",
   "metadata": {},
   "source": [
    "<p><strong>b) dio</strong></p>\n",
    "\n",
    "<p>determinanta i trag</p>"
   ]
  },
  {
   "cell_type": "code",
   "execution_count": 162,
   "metadata": {},
   "outputs": [
    {
     "data": {
      "text/html": [
       "<html>\\[\\newcommand{\\Bold}[1]{\\mathbf{#1}}\\left(0, 4\\right)\\]</html>"
      ],
      "text/latex": [
       "$$\\newcommand{\\Bold}[1]{\\mathbf{#1}}\\left(0, 4\\right)$$"
      ],
      "text/plain": [
       "(0, 4)"
      ]
     },
     "execution_count": 162,
     "metadata": {},
     "output_type": "execute_result"
    }
   ],
   "source": [
    "A.det(),A.trace()"
   ]
  },
  {
   "cell_type": "markdown",
   "metadata": {},
   "source": [
    "<p>spektar: $\\sigma(A)=\\{0,4\\}$</p>"
   ]
  },
  {
   "cell_type": "code",
   "execution_count": 163,
   "metadata": {},
   "outputs": [
    {
     "data": {
      "text/html": [
       "<html>\\[\\newcommand{\\Bold}[1]{\\mathbf{#1}}\\left[4, 0, 0, 0\\right]\\]</html>"
      ],
      "text/latex": [
       "$$\\newcommand{\\Bold}[1]{\\mathbf{#1}}\\left[4, 0, 0, 0\\right]$$"
      ],
      "text/plain": [
       "[4, 0, 0, 0]"
      ]
     },
     "execution_count": 163,
     "metadata": {},
     "output_type": "execute_result"
    }
   ],
   "source": [
    "A.eigenvalues()"
   ]
  },
  {
   "cell_type": "markdown",
   "metadata": {},
   "source": [
    "<p><strong>c) dio</strong></p>"
   ]
  },
  {
   "cell_type": "code",
   "execution_count": 164,
   "metadata": {},
   "outputs": [
    {
     "data": {
      "text/html": [
       "<html>\\[\\newcommand{\\Bold}[1]{\\mathbf{#1}}\\left[\\left(4, \\left[\\left(1,\\,1,\\,1,\\,1\\right)\\right], 1\\right), \\left(0, \\left[\\left(1,\\,0,\\,0,\\,-1\\right), \\left(0,\\,1,\\,0,\\,-1\\right), \\left(0,\\,0,\\,1,\\,-1\\right)\\right], 3\\right)\\right]\\]</html>"
      ],
      "text/latex": [
       "$$\\newcommand{\\Bold}[1]{\\mathbf{#1}}\\left[\\left(4, \\left[\\left(1,\\,1,\\,1,\\,1\\right)\\right], 1\\right), \\left(0, \\left[\\left(1,\\,0,\\,0,\\,-1\\right), \\left(0,\\,1,\\,0,\\,-1\\right), \\left(0,\\,0,\\,1,\\,-1\\right)\\right], 3\\right)\\right]$$"
      ],
      "text/plain": [
       "[(4,\n",
       "  [\n",
       "  (1, 1, 1, 1)\n",
       "  ],\n",
       "  1),\n",
       " (0,\n",
       "  [\n",
       "  (1, 0, 0, -1),\n",
       "  (0, 1, 0, -1),\n",
       "  (0, 0, 1, -1)\n",
       "  ],\n",
       "  3)]"
      ]
     },
     "execution_count": 164,
     "metadata": {},
     "output_type": "execute_result"
    }
   ],
   "source": [
    "A.eigenvectors_right()"
   ]
  },
  {
   "cell_type": "code",
   "execution_count": 165,
   "metadata": {},
   "outputs": [
    {
     "data": {
      "text/html": [
       "<html>\\[\\newcommand{\\Bold}[1]{\\mathbf{#1}}\\left[\\left(4, \\mathrm{RowSpan}_{\\Bold{Q}}\\left(\\begin{array}{rrrr}\n",
       "1 & 1 & 1 & 1\n",
       "\\end{array}\\right)\\right), \\left(0, \\mathrm{RowSpan}_{\\Bold{Q}}\\left(\\begin{array}{rrrr}\n",
       "1 & 0 & 0 & -1 \\\\\n",
       "0 & 1 & 0 & -1 \\\\\n",
       "0 & 0 & 1 & -1\n",
       "\\end{array}\\right)\\right)\\right]\\]</html>"
      ],
      "text/latex": [
       "$$\\newcommand{\\Bold}[1]{\\mathbf{#1}}\\left[\\left(4, \\mathrm{RowSpan}_{\\Bold{Q}}\\left(\\begin{array}{rrrr}\n",
       "1 & 1 & 1 & 1\n",
       "\\end{array}\\right)\\right), \\left(0, \\mathrm{RowSpan}_{\\Bold{Q}}\\left(\\begin{array}{rrrr}\n",
       "1 & 0 & 0 & -1 \\\\\n",
       "0 & 1 & 0 & -1 \\\\\n",
       "0 & 0 & 1 & -1\n",
       "\\end{array}\\right)\\right)\\right]$$"
      ],
      "text/plain": [
       "[\n",
       "(4, Vector space of degree 4 and dimension 1 over Rational Field\n",
       "User basis matrix:\n",
       "[1 1 1 1]),\n",
       "(0, Vector space of degree 4 and dimension 3 over Rational Field\n",
       "User basis matrix:\n",
       "[ 1  0  0 -1]\n",
       "[ 0  1  0 -1]\n",
       "[ 0  0  1 -1])\n",
       "]"
      ]
     },
     "execution_count": 165,
     "metadata": {},
     "output_type": "execute_result"
    }
   ],
   "source": [
    "A.eigenspaces_right()"
   ]
  },
  {
   "cell_type": "code",
   "execution_count": 166,
   "metadata": {},
   "outputs": [],
   "source": [
    "D,P=A.eigenmatrix_right()"
   ]
  },
  {
   "cell_type": "code",
   "execution_count": 167,
   "metadata": {},
   "outputs": [
    {
     "data": {
      "text/html": [
       "<html>\\[\\newcommand{\\Bold}[1]{\\mathbf{#1}}\\left(\\left(\\begin{array}{rrrr}\n",
       "4 & 0 & 0 & 0 \\\\\n",
       "0 & 0 & 0 & 0 \\\\\n",
       "0 & 0 & 0 & 0 \\\\\n",
       "0 & 0 & 0 & 0\n",
       "\\end{array}\\right), \\left(\\begin{array}{rrrr}\n",
       "1 & 1 & 0 & 0 \\\\\n",
       "1 & 0 & 1 & 0 \\\\\n",
       "1 & 0 & 0 & 1 \\\\\n",
       "1 & -1 & -1 & -1\n",
       "\\end{array}\\right)\\right)\\]</html>"
      ],
      "text/latex": [
       "$$\\newcommand{\\Bold}[1]{\\mathbf{#1}}\\left(\\left(\\begin{array}{rrrr}\n",
       "4 & 0 & 0 & 0 \\\\\n",
       "0 & 0 & 0 & 0 \\\\\n",
       "0 & 0 & 0 & 0 \\\\\n",
       "0 & 0 & 0 & 0\n",
       "\\end{array}\\right), \\left(\\begin{array}{rrrr}\n",
       "1 & 1 & 0 & 0 \\\\\n",
       "1 & 0 & 1 & 0 \\\\\n",
       "1 & 0 & 0 & 1 \\\\\n",
       "1 & -1 & -1 & -1\n",
       "\\end{array}\\right)\\right)$$"
      ],
      "text/plain": [
       "(\n",
       "[4 0 0 0]  [ 1  1  0  0]\n",
       "[0 0 0 0]  [ 1  0  1  0]\n",
       "[0 0 0 0]  [ 1  0  0  1]\n",
       "[0 0 0 0], [ 1 -1 -1 -1]\n",
       ")"
      ]
     },
     "execution_count": 167,
     "metadata": {},
     "output_type": "execute_result"
    }
   ],
   "source": [
    "D,P"
   ]
  },
  {
   "cell_type": "markdown",
   "metadata": {},
   "source": [
    "<p>$P^{-1}AP=D$</p>"
   ]
  },
  {
   "cell_type": "code",
   "execution_count": 168,
   "metadata": {},
   "outputs": [
    {
     "data": {
      "text/html": [
       "<html>\\[\\newcommand{\\Bold}[1]{\\mathbf{#1}}\\left(\\begin{array}{rrrr}\n",
       "4 & 0 & 0 & 0 \\\\\n",
       "0 & 0 & 0 & 0 \\\\\n",
       "0 & 0 & 0 & 0 \\\\\n",
       "0 & 0 & 0 & 0\n",
       "\\end{array}\\right)\\]</html>"
      ],
      "text/latex": [
       "$$\\newcommand{\\Bold}[1]{\\mathbf{#1}}\\left(\\begin{array}{rrrr}\n",
       "4 & 0 & 0 & 0 \\\\\n",
       "0 & 0 & 0 & 0 \\\\\n",
       "0 & 0 & 0 & 0 \\\\\n",
       "0 & 0 & 0 & 0\n",
       "\\end{array}\\right)$$"
      ],
      "text/plain": [
       "[4 0 0 0]\n",
       "[0 0 0 0]\n",
       "[0 0 0 0]\n",
       "[0 0 0 0]"
      ]
     },
     "execution_count": 168,
     "metadata": {},
     "output_type": "execute_result"
    }
   ],
   "source": [
    "P^-1*A*P"
   ]
  },
  {
   "cell_type": "markdown",
   "metadata": {},
   "source": [
    "<div style=\"background-color: #F5FFFA; color: #000000; border: 2px solid #B0C4DE; border-radius: 15px; padding:0px 10px 25px; overflow:auto\">\n",
    "<h3>20. zadatak</h3>\n",
    "<p style=\"line-height:30px;\">Linearni operator $f:\\mathbb{R}^2\\to\\mathbb{R}^2$ zadan je svojim djelovanjem na vektorima $(1,1)$ i $(1,0)$ s  $f(1,1)=(2,0),\\ f(1,0)=(-1,0).$</p>\n",
    "<ol style=\"list-style-type:lower-alpha;\">\n",
    "<li style=\"line-height:30px;\">Odredite matrice tog operatora u kanonskoj bazi i u bazi $\\mathcal{B}=\\{(1,0), (1,1)\\}$.</li>\n",
    "<li style=\"line-height:30px;\">Odredite svojstvene vrijednosti i svojstvene potprostore operatora $f$.</li>\n",
    "<li style=\"line-height:30px;\">Da li je $f$ izomorfizam? Objasnite!</li>\n",
    "</ol>\n",
    "</div>\n",
    "<h3>Rješenje</h3>\n",
    "<p><strong>a) dio</strong></p>\n",
    "<p style=\"line-height:25px;\">Ovdje do izražaja dolazi snaga naše implementirane funkcije <span style=\"color: #ff0000;\"><em>operator_baza</em></span> pomoću koje se vrlo brzo i elegantno može riješiti ovaj dio zadatka.</p>\n",
    "<p>Prema uvjetima zadatka, matrica operatora $f$ u paru baza $\\{(1,1), (1,0)\\big\\}$ i $\\big\\{(1,0), (0,1)\\}$ je</p>"
   ]
  },
  {
   "cell_type": "code",
   "execution_count": 169,
   "metadata": {},
   "outputs": [
    {
     "data": {
      "text/html": [
       "<html>\\[\\newcommand{\\Bold}[1]{\\mathbf{#1}}\\left(\\begin{array}{rr}\n",
       "2 & -1 \\\\\n",
       "0 & 0\n",
       "\\end{array}\\right)\\]</html>"
      ],
      "text/latex": [
       "$$\\newcommand{\\Bold}[1]{\\mathbf{#1}}\\left(\\begin{array}{rr}\n",
       "2 & -1 \\\\\n",
       "0 & 0\n",
       "\\end{array}\\right)$$"
      ],
      "text/plain": [
       "[ 2 -1]\n",
       "[ 0  0]"
      ]
     },
     "execution_count": 169,
     "metadata": {},
     "output_type": "execute_result"
    }
   ],
   "source": [
    "F=matrix([[2,0],[-1,0]]).transpose(); F"
   ]
  },
  {
   "cell_type": "markdown",
   "metadata": {},
   "source": [
    "<p>Matrica operatora $f$ u kanonskoj bazi je</p>"
   ]
  },
  {
   "cell_type": "code",
   "execution_count": 170,
   "metadata": {},
   "outputs": [
    {
     "data": {
      "text/html": [
       "<html>\\[\\newcommand{\\Bold}[1]{\\mathbf{#1}}\\left(\\begin{array}{rr}\n",
       "-1 & 3 \\\\\n",
       "0 & 0\n",
       "\\end{array}\\right)\\]</html>"
      ],
      "text/latex": [
       "$$\\newcommand{\\Bold}[1]{\\mathbf{#1}}\\left(\\begin{array}{rr}\n",
       "-1 & 3 \\\\\n",
       "0 & 0\n",
       "\\end{array}\\right)$$"
      ],
      "text/plain": [
       "[-1  3]\n",
       "[ 0  0]"
      ]
     },
     "execution_count": 170,
     "metadata": {},
     "output_type": "execute_result"
    }
   ],
   "source": [
    "Fkan=operator_baza(F,[(1,1),(1,0)],[(1,0),(0,1)],[(1,0),(0,1)]); Fkan"
   ]
  },
  {
   "cell_type": "markdown",
   "metadata": {},
   "source": [
    "<p>Matrica operatora $f$ u bazi $\\mathcal{B}$ (možemo na dva načina: pomoću matrice $\\mathrm{F}$ ili pomoću matrice $\\mathrm{Fkan}$)</p>"
   ]
  },
  {
   "cell_type": "code",
   "execution_count": 171,
   "metadata": {},
   "outputs": [
    {
     "data": {
      "text/html": [
       "<html>\\[\\newcommand{\\Bold}[1]{\\mathbf{#1}}\\left(\\begin{array}{rr}\n",
       "-1 & 2 \\\\\n",
       "0 & 0\n",
       "\\end{array}\\right)\\]</html>"
      ],
      "text/latex": [
       "$$\\newcommand{\\Bold}[1]{\\mathbf{#1}}\\left(\\begin{array}{rr}\n",
       "-1 & 2 \\\\\n",
       "0 & 0\n",
       "\\end{array}\\right)$$"
      ],
      "text/plain": [
       "[-1  2]\n",
       "[ 0  0]"
      ]
     },
     "execution_count": 171,
     "metadata": {},
     "output_type": "execute_result"
    }
   ],
   "source": [
    "F2=operator_baza(F,[(1,1),(1,0)],[(1,0),(1,1)],[(1,0),(0,1)]); F2"
   ]
  },
  {
   "cell_type": "code",
   "execution_count": 172,
   "metadata": {},
   "outputs": [
    {
     "data": {
      "text/html": [
       "<html>\\[\\newcommand{\\Bold}[1]{\\mathbf{#1}}\\left(\\begin{array}{rr}\n",
       "-1 & 2 \\\\\n",
       "0 & 0\n",
       "\\end{array}\\right)\\]</html>"
      ],
      "text/latex": [
       "$$\\newcommand{\\Bold}[1]{\\mathbf{#1}}\\left(\\begin{array}{rr}\n",
       "-1 & 2 \\\\\n",
       "0 & 0\n",
       "\\end{array}\\right)$$"
      ],
      "text/plain": [
       "[-1  2]\n",
       "[ 0  0]"
      ]
     },
     "execution_count": 172,
     "metadata": {},
     "output_type": "execute_result"
    }
   ],
   "source": [
    "operator_baza(Fkan,[(1,0),(0,1)],[(1,0),(1,1)])"
   ]
  },
  {
   "cell_type": "markdown",
   "metadata": {},
   "source": [
    "<p><strong>b) dio</strong></p>\n",
    "<p>Ako koristimo matricu operatora $f$ u kanonskoj bazi</p>"
   ]
  },
  {
   "cell_type": "code",
   "execution_count": 173,
   "metadata": {},
   "outputs": [
    {
     "data": {
      "text/html": [
       "<html>\\[\\newcommand{\\Bold}[1]{\\mathbf{#1}}\\left[0, -1\\right]\\]</html>"
      ],
      "text/latex": [
       "$$\\newcommand{\\Bold}[1]{\\mathbf{#1}}\\left[0, -1\\right]$$"
      ],
      "text/plain": [
       "[0, -1]"
      ]
     },
     "execution_count": 173,
     "metadata": {},
     "output_type": "execute_result"
    }
   ],
   "source": [
    "Fkan.eigenvalues()"
   ]
  },
  {
   "cell_type": "code",
   "execution_count": 174,
   "metadata": {},
   "outputs": [
    {
     "data": {
      "text/html": [
       "<html>\\[\\newcommand{\\Bold}[1]{\\mathbf{#1}}\\left[\\left(0, \\mathrm{RowSpan}_{\\Bold{Q}}\\left(\\begin{array}{rr}\n",
       "1 & \\frac{1}{3}\n",
       "\\end{array}\\right)\\right), \\left(-1, \\mathrm{RowSpan}_{\\Bold{Q}}\\left(\\begin{array}{rr}\n",
       "1 & 0\n",
       "\\end{array}\\right)\\right)\\right]\\]</html>"
      ],
      "text/latex": [
       "$$\\newcommand{\\Bold}[1]{\\mathbf{#1}}\\left[\\left(0, \\mathrm{RowSpan}_{\\Bold{Q}}\\left(\\begin{array}{rr}\n",
       "1 & \\frac{1}{3}\n",
       "\\end{array}\\right)\\right), \\left(-1, \\mathrm{RowSpan}_{\\Bold{Q}}\\left(\\begin{array}{rr}\n",
       "1 & 0\n",
       "\\end{array}\\right)\\right)\\right]$$"
      ],
      "text/plain": [
       "[\n",
       "(0, Vector space of degree 2 and dimension 1 over Rational Field\n",
       "User basis matrix:\n",
       "[  1 1/3]),\n",
       "(-1, Vector space of degree 2 and dimension 1 over Rational Field\n",
       "User basis matrix:\n",
       "[1 0])\n",
       "]"
      ]
     },
     "execution_count": 174,
     "metadata": {},
     "output_type": "execute_result"
    }
   ],
   "source": [
    "Fkan.eigenspaces_right()"
   ]
  },
  {
   "cell_type": "markdown",
   "metadata": {},
   "source": [
    "<p>Ako koristimo matricu operatora $f$ u bazi $\\mathcal{B}$</p>"
   ]
  },
  {
   "cell_type": "code",
   "execution_count": 175,
   "metadata": {},
   "outputs": [
    {
     "data": {
      "text/html": [
       "<html>\\[\\newcommand{\\Bold}[1]{\\mathbf{#1}}\\left[0, -1\\right]\\]</html>"
      ],
      "text/latex": [
       "$$\\newcommand{\\Bold}[1]{\\mathbf{#1}}\\left[0, -1\\right]$$"
      ],
      "text/plain": [
       "[0, -1]"
      ]
     },
     "execution_count": 175,
     "metadata": {},
     "output_type": "execute_result"
    }
   ],
   "source": [
    "F2.eigenvalues()"
   ]
  },
  {
   "cell_type": "code",
   "execution_count": 176,
   "metadata": {},
   "outputs": [
    {
     "data": {
      "text/html": [
       "<html>\\[\\newcommand{\\Bold}[1]{\\mathbf{#1}}\\left[\\left(0, \\mathrm{RowSpan}_{\\Bold{Q}}\\left(\\begin{array}{rr}\n",
       "1 & \\frac{1}{2}\n",
       "\\end{array}\\right)\\right), \\left(-1, \\mathrm{RowSpan}_{\\Bold{Q}}\\left(\\begin{array}{rr}\n",
       "1 & 0\n",
       "\\end{array}\\right)\\right)\\right]\\]</html>"
      ],
      "text/latex": [
       "$$\\newcommand{\\Bold}[1]{\\mathbf{#1}}\\left[\\left(0, \\mathrm{RowSpan}_{\\Bold{Q}}\\left(\\begin{array}{rr}\n",
       "1 & \\frac{1}{2}\n",
       "\\end{array}\\right)\\right), \\left(-1, \\mathrm{RowSpan}_{\\Bold{Q}}\\left(\\begin{array}{rr}\n",
       "1 & 0\n",
       "\\end{array}\\right)\\right)\\right]$$"
      ],
      "text/plain": [
       "[\n",
       "(0, Vector space of degree 2 and dimension 1 over Rational Field\n",
       "User basis matrix:\n",
       "[  1 1/2]),\n",
       "(-1, Vector space of degree 2 and dimension 1 over Rational Field\n",
       "User basis matrix:\n",
       "[1 0])\n",
       "]"
      ]
     },
     "execution_count": 176,
     "metadata": {},
     "output_type": "execute_result"
    }
   ],
   "source": [
    "F2.eigenspaces_right()"
   ]
  },
  {
   "cell_type": "markdown",
   "metadata": {},
   "source": [
    "<p style=\"line-height:30px;\">Zar smo sada dobili drukčije potprostore? Naime, vektori $\\big(1,\\frac{1}{3}\\big)$ i $\\big(1,\\frac{1}{2}\\big)$ ne pripadaju istom potprostoru. Međutim, to je pogrešno razmišljanje.</p>"
   ]
  },
  {
   "cell_type": "code",
   "execution_count": 177,
   "metadata": {},
   "outputs": [],
   "source": [
    "V=VectorSpace(QQ,2).span_of_basis([(1,0),(1,1)])"
   ]
  },
  {
   "cell_type": "code",
   "execution_count": 178,
   "metadata": {},
   "outputs": [
    {
     "data": {
      "text/html": [
       "<html>\\[\\newcommand{\\Bold}[1]{\\mathbf{#1}}\\left(\\frac{3}{2},\\,\\frac{1}{2}\\right)\\]</html>"
      ],
      "text/latex": [
       "$$\\newcommand{\\Bold}[1]{\\mathbf{#1}}\\left(\\frac{3}{2},\\,\\frac{1}{2}\\right)$$"
      ],
      "text/plain": [
       "(3/2, 1/2)"
      ]
     },
     "execution_count": 178,
     "metadata": {},
     "output_type": "execute_result"
    }
   ],
   "source": [
    "V.linear_combination_of_basis([1,1/2])"
   ]
  },
  {
   "cell_type": "markdown",
   "metadata": {},
   "source": [
    "<p style=\"line-height:40px;\">Naime, $\\big(1,\\frac{1}{2}\\big)$ su koordinate vektora  $\\big(\\frac{3}{2},\\frac{1}{2}\\big)$ u bazi $\\mathcal{B}$, a ne u kanonskoj bazi, pa je sve u redu. Dakle, u drugom slučaju smo dobili zapravo da je baza za $S(0)$ vektor $\\big(\\frac{3}{2},\\frac{1}{2}\\big)$ koji je kolinearan s vektorom $\\big(1,\\frac{1}{3}\\big)$ pa smo ponovo dobili isti potprostor za svojstvenu vrijednost 0.</p>\n",
    "<p style=\"line-height:40px;\">Kada  radimo s matričnim prikazom linearnog operatora, moramo paziti u kojem  paru baza je zadan njegov matrični prikaz jer u tom slučaju sve  rezultate dobivamo u tom paru baza. Tako je i bilo u ovom slučaju kada nam je $\\big(1,\\frac{1}{2}\\big)$ zapravo značilo $1\\cdot(1,0)+\\frac{1}{2}\\cdot(1,1)$. Zašto je za svojstvenu vrijednost $-1$ u obje baze ostao isti rezultat $(1,0)$? To je zbog toga što vektor $(1,0)$ u bazi $\\mathcal{B}$ također ima iste koordinate $(1,0)$ kao i u kanonskoj bazi.</p>\n",
    "<p style=\"line-height:25px;\">Najljepše je kad radimo s kanonskim  bazama jer se u tom slučaju vektori podudaraju sa svojim koordinatama. U ostalim slučajevima moramo biti oprezni jer sve vektore dobivamo preko koordinata s obzirom na bazu (ili baze) u kojoj je zadan matrični prikaz linearnog operatora.</p>\n",
    "\n",
    "<p><strong>c) dio</strong></p>\n",
    "<p style=\"line-height:30px;\">Kako je $d(f)\\neq 0$, linearni operator $f$ nije injekcija pa ne može biti izomorfizam. Ili drukčije razmišljanje: kako je 0 svojstvena vrijednost operatora $f$, to znači da osim nulvektora postoje još vektori koje $f$ preslikava u nulvektor pa $f$ nije injekcija, a stoga niti izomorfizam.</p>"
   ]
  },
  {
   "cell_type": "code",
   "execution_count": 179,
   "metadata": {},
   "outputs": [
    {
     "data": {
      "text/html": [
       "<html>\\[\\newcommand{\\Bold}[1]{\\mathbf{#1}}1\\]</html>"
      ],
      "text/latex": [
       "$$\\newcommand{\\Bold}[1]{\\mathbf{#1}}1$$"
      ],
      "text/plain": [
       "1"
      ]
     },
     "execution_count": 179,
     "metadata": {},
     "output_type": "execute_result"
    }
   ],
   "source": [
    "Fkan.right_nullity()"
   ]
  },
  {
   "cell_type": "markdown",
   "metadata": {},
   "source": [
    "<p style=\"line-height:25px;\">Ili preko ranga: matrica linearnog operatora $f$ ima rang manji od dimenzije kodomene pa $f$ nije surjekcija, a onda niti izomorfizam. Svejedno je koju matricu operatora $f$ uzmemo jer rang linearnog operatora ne ovisi njegovom matričnom zapisu, tj. o izboru baze.</p>"
   ]
  },
  {
   "cell_type": "code",
   "execution_count": 180,
   "metadata": {},
   "outputs": [
    {
     "data": {
      "text/html": [
       "<html>\\[\\newcommand{\\Bold}[1]{\\mathbf{#1}}\\left(1, 1, 1\\right)\\]</html>"
      ],
      "text/latex": [
       "$$\\newcommand{\\Bold}[1]{\\mathbf{#1}}\\left(1, 1, 1\\right)$$"
      ],
      "text/plain": [
       "(1, 1, 1)"
      ]
     },
     "execution_count": 180,
     "metadata": {},
     "output_type": "execute_result"
    }
   ],
   "source": [
    "F.rank(),Fkan.rank(),F2.rank()"
   ]
  },
  {
   "cell_type": "code",
   "execution_count": null,
   "metadata": {},
   "outputs": [],
   "source": []
  }
 ],
 "metadata": {
  "kernelspec": {
   "display_name": "SageMath 9.4",
   "language": "sage",
   "name": "sagemath"
  },
  "language": "python",
  "language_info": {
   "codemirror_mode": {
    "name": "ipython",
    "version": 3
   },
   "file_extension": ".py",
   "mimetype": "text/x-python",
   "name": "python",
   "nbconvert_exporter": "python",
   "pygments_lexer": "ipython3",
   "version": "3.9.6"
  }
 },
 "nbformat": 4,
 "nbformat_minor": 4
}
