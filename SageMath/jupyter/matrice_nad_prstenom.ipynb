{
 "cells": [
  {
   "cell_type": "markdown",
   "source": [
    "<h1>Matrice nad općenitim prstenom u SAGE-u</h1>\n",
    "<p style=\"font-style:italic;\">verzija: SageMath 9.4</p>"
   ],
   "metadata": {}
  },
  {
   "cell_type": "code",
   "execution_count": 1,
   "source": [
    "%display latex"
   ],
   "outputs": [],
   "metadata": {}
  },
  {
   "cell_type": "markdown",
   "source": [
    "<h3>Matrice nad prstenom $\\mathbb{Z}$</h3>\n",
    "<p>Uočite da se operacije s matricama odvijaju u prstenu $\\mathbb{Z}$.</p>"
   ],
   "metadata": {}
  },
  {
   "cell_type": "code",
   "execution_count": 2,
   "source": [
    "A=matrix(ZZ,[[2,3,15],[0,16,22]])\n",
    "B=matrix(ZZ,[[19,25,18],[19,23,7]])\n",
    "C=matrix(ZZ,[[1,2,3],[1,0,3],[2,8,1]])"
   ],
   "outputs": [],
   "metadata": {}
  },
  {
   "cell_type": "code",
   "execution_count": 3,
   "source": [
    "A,B,C"
   ],
   "outputs": [
    {
     "output_type": "execute_result",
     "data": {
      "text/html": [
       "<html>\\[\\newcommand{\\Bold}[1]{\\mathbf{#1}}\\left(\\left(\\begin{array}{rrr}\n",
       "2 & 3 & 15 \\\\\n",
       "0 & 16 & 22\n",
       "\\end{array}\\right), \\left(\\begin{array}{rrr}\n",
       "19 & 25 & 18 \\\\\n",
       "19 & 23 & 7\n",
       "\\end{array}\\right), \\left(\\begin{array}{rrr}\n",
       "1 & 2 & 3 \\\\\n",
       "1 & 0 & 3 \\\\\n",
       "2 & 8 & 1\n",
       "\\end{array}\\right)\\right)\\]</html>"
      ],
      "text/latex": [
       "$$\\newcommand{\\Bold}[1]{\\mathbf{#1}}\\left(\\left(\\begin{array}{rrr}\n",
       "2 & 3 & 15 \\\\\n",
       "0 & 16 & 22\n",
       "\\end{array}\\right), \\left(\\begin{array}{rrr}\n",
       "19 & 25 & 18 \\\\\n",
       "19 & 23 & 7\n",
       "\\end{array}\\right), \\left(\\begin{array}{rrr}\n",
       "1 & 2 & 3 \\\\\n",
       "1 & 0 & 3 \\\\\n",
       "2 & 8 & 1\n",
       "\\end{array}\\right)\\right)$$"
      ],
      "text/plain": [
       "(\n",
       "                        [1 2 3]\n",
       "[ 2  3 15]  [19 25 18]  [1 0 3]\n",
       "[ 0 16 22], [19 23  7], [2 8 1]\n",
       ")"
      ]
     },
     "metadata": {},
     "execution_count": 3
    }
   ],
   "metadata": {}
  },
  {
   "cell_type": "code",
   "execution_count": 4,
   "source": [
    "A+B"
   ],
   "outputs": [
    {
     "output_type": "execute_result",
     "data": {
      "text/html": [
       "<html>\\[\\newcommand{\\Bold}[1]{\\mathbf{#1}}\\left(\\begin{array}{rrr}\n",
       "21 & 28 & 33 \\\\\n",
       "19 & 39 & 29\n",
       "\\end{array}\\right)\\]</html>"
      ],
      "text/latex": [
       "$$\\newcommand{\\Bold}[1]{\\mathbf{#1}}\\left(\\begin{array}{rrr}\n",
       "21 & 28 & 33 \\\\\n",
       "19 & 39 & 29\n",
       "\\end{array}\\right)$$"
      ],
      "text/plain": [
       "[21 28 33]\n",
       "[19 39 29]"
      ]
     },
     "metadata": {},
     "execution_count": 4
    }
   ],
   "metadata": {}
  },
  {
   "cell_type": "code",
   "execution_count": 5,
   "source": [
    "5*A"
   ],
   "outputs": [
    {
     "output_type": "execute_result",
     "data": {
      "text/html": [
       "<html>\\[\\newcommand{\\Bold}[1]{\\mathbf{#1}}\\left(\\begin{array}{rrr}\n",
       "10 & 15 & 75 \\\\\n",
       "0 & 80 & 110\n",
       "\\end{array}\\right)\\]</html>"
      ],
      "text/latex": [
       "$$\\newcommand{\\Bold}[1]{\\mathbf{#1}}\\left(\\begin{array}{rrr}\n",
       "10 & 15 & 75 \\\\\n",
       "0 & 80 & 110\n",
       "\\end{array}\\right)$$"
      ],
      "text/plain": [
       "[ 10  15  75]\n",
       "[  0  80 110]"
      ]
     },
     "metadata": {},
     "execution_count": 5
    }
   ],
   "metadata": {}
  },
  {
   "cell_type": "code",
   "execution_count": 6,
   "source": [
    "A-B"
   ],
   "outputs": [
    {
     "output_type": "execute_result",
     "data": {
      "text/html": [
       "<html>\\[\\newcommand{\\Bold}[1]{\\mathbf{#1}}\\left(\\begin{array}{rrr}\n",
       "-17 & -22 & -3 \\\\\n",
       "-19 & -7 & 15\n",
       "\\end{array}\\right)\\]</html>"
      ],
      "text/latex": [
       "$$\\newcommand{\\Bold}[1]{\\mathbf{#1}}\\left(\\begin{array}{rrr}\n",
       "-17 & -22 & -3 \\\\\n",
       "-19 & -7 & 15\n",
       "\\end{array}\\right)$$"
      ],
      "text/plain": [
       "[-17 -22  -3]\n",
       "[-19  -7  15]"
      ]
     },
     "metadata": {},
     "execution_count": 6
    }
   ],
   "metadata": {}
  },
  {
   "cell_type": "code",
   "execution_count": 7,
   "source": [
    "A*C"
   ],
   "outputs": [
    {
     "output_type": "execute_result",
     "data": {
      "text/html": [
       "<html>\\[\\newcommand{\\Bold}[1]{\\mathbf{#1}}\\left(\\begin{array}{rrr}\n",
       "35 & 124 & 30 \\\\\n",
       "60 & 176 & 70\n",
       "\\end{array}\\right)\\]</html>"
      ],
      "text/latex": [
       "$$\\newcommand{\\Bold}[1]{\\mathbf{#1}}\\left(\\begin{array}{rrr}\n",
       "35 & 124 & 30 \\\\\n",
       "60 & 176 & 70\n",
       "\\end{array}\\right)$$"
      ],
      "text/plain": [
       "[ 35 124  30]\n",
       "[ 60 176  70]"
      ]
     },
     "metadata": {},
     "execution_count": 7
    }
   ],
   "metadata": {}
  },
  {
   "cell_type": "markdown",
   "source": [
    "<p>Matrica $C$ ima svoj inverz nad poljem $\\mathbb{Q}$. Kao matrica nad prstenom $\\mathbb{Z}$ nema inverz, ali SAGE u tom slučaju po defaultu traži inverz nad poljem $\\mathbb{Q}$.</p>"
   ],
   "metadata": {}
  },
  {
   "cell_type": "code",
   "execution_count": 8,
   "source": [
    "C^-1"
   ],
   "outputs": [
    {
     "output_type": "execute_result",
     "data": {
      "text/html": [
       "<html>\\[\\newcommand{\\Bold}[1]{\\mathbf{#1}}\\left(\\begin{array}{rrr}\n",
       "-\\frac{12}{5} & \\frac{11}{5} & \\frac{3}{5} \\\\\n",
       "\\frac{1}{2} & -\\frac{1}{2} & 0 \\\\\n",
       "\\frac{4}{5} & -\\frac{2}{5} & -\\frac{1}{5}\n",
       "\\end{array}\\right)\\]</html>"
      ],
      "text/latex": [
       "$$\\newcommand{\\Bold}[1]{\\mathbf{#1}}\\left(\\begin{array}{rrr}\n",
       "-\\frac{12}{5} & \\frac{11}{5} & \\frac{3}{5} \\\\\n",
       "\\frac{1}{2} & -\\frac{1}{2} & 0 \\\\\n",
       "\\frac{4}{5} & -\\frac{2}{5} & -\\frac{1}{5}\n",
       "\\end{array}\\right)$$"
      ],
      "text/plain": [
       "[-12/5  11/5   3/5]\n",
       "[  1/2  -1/2     0]\n",
       "[  4/5  -2/5  -1/5]"
      ]
     },
     "metadata": {},
     "execution_count": 8
    }
   ],
   "metadata": {}
  },
  {
   "cell_type": "markdown",
   "source": [
    "<h3>Matrice nad prstenom $\\mathbb{Z}_{26}$</h3>\n",
    "<p>Uočite da se operacije s matricama odvijaju u prstenu $\\mathbb{Z}_{26}$.</p>"
   ],
   "metadata": {}
  },
  {
   "cell_type": "code",
   "execution_count": 9,
   "source": [
    "A=matrix(Integers(26),[[2,3,15],[0,16,22]])\n",
    "B=matrix(Integers(26),[[19,25,18],[19,23,7]])\n",
    "C=matrix(Integers(26),[[1,2,3],[1,0,3],[2,8,1]])"
   ],
   "outputs": [],
   "metadata": {}
  },
  {
   "cell_type": "code",
   "execution_count": 10,
   "source": [
    "A,B,C"
   ],
   "outputs": [
    {
     "output_type": "execute_result",
     "data": {
      "text/html": [
       "<html>\\[\\newcommand{\\Bold}[1]{\\mathbf{#1}}\\left(\\left(\\begin{array}{rrr}\n",
       "2 & 3 & 15 \\\\\n",
       "0 & 16 & 22\n",
       "\\end{array}\\right), \\left(\\begin{array}{rrr}\n",
       "19 & 25 & 18 \\\\\n",
       "19 & 23 & 7\n",
       "\\end{array}\\right), \\left(\\begin{array}{rrr}\n",
       "1 & 2 & 3 \\\\\n",
       "1 & 0 & 3 \\\\\n",
       "2 & 8 & 1\n",
       "\\end{array}\\right)\\right)\\]</html>"
      ],
      "text/latex": [
       "$$\\newcommand{\\Bold}[1]{\\mathbf{#1}}\\left(\\left(\\begin{array}{rrr}\n",
       "2 & 3 & 15 \\\\\n",
       "0 & 16 & 22\n",
       "\\end{array}\\right), \\left(\\begin{array}{rrr}\n",
       "19 & 25 & 18 \\\\\n",
       "19 & 23 & 7\n",
       "\\end{array}\\right), \\left(\\begin{array}{rrr}\n",
       "1 & 2 & 3 \\\\\n",
       "1 & 0 & 3 \\\\\n",
       "2 & 8 & 1\n",
       "\\end{array}\\right)\\right)$$"
      ],
      "text/plain": [
       "(\n",
       "                        [1 2 3]\n",
       "[ 2  3 15]  [19 25 18]  [1 0 3]\n",
       "[ 0 16 22], [19 23  7], [2 8 1]\n",
       ")"
      ]
     },
     "metadata": {},
     "execution_count": 10
    }
   ],
   "metadata": {}
  },
  {
   "cell_type": "code",
   "execution_count": 11,
   "source": [
    "A+B"
   ],
   "outputs": [
    {
     "output_type": "execute_result",
     "data": {
      "text/html": [
       "<html>\\[\\newcommand{\\Bold}[1]{\\mathbf{#1}}\\left(\\begin{array}{rrr}\n",
       "21 & 2 & 7 \\\\\n",
       "19 & 13 & 3\n",
       "\\end{array}\\right)\\]</html>"
      ],
      "text/latex": [
       "$$\\newcommand{\\Bold}[1]{\\mathbf{#1}}\\left(\\begin{array}{rrr}\n",
       "21 & 2 & 7 \\\\\n",
       "19 & 13 & 3\n",
       "\\end{array}\\right)$$"
      ],
      "text/plain": [
       "[21  2  7]\n",
       "[19 13  3]"
      ]
     },
     "metadata": {},
     "execution_count": 11
    }
   ],
   "metadata": {}
  },
  {
   "cell_type": "code",
   "execution_count": 12,
   "source": [
    "A-B"
   ],
   "outputs": [
    {
     "output_type": "execute_result",
     "data": {
      "text/html": [
       "<html>\\[\\newcommand{\\Bold}[1]{\\mathbf{#1}}\\left(\\begin{array}{rrr}\n",
       "9 & 4 & 23 \\\\\n",
       "7 & 19 & 15\n",
       "\\end{array}\\right)\\]</html>"
      ],
      "text/latex": [
       "$$\\newcommand{\\Bold}[1]{\\mathbf{#1}}\\left(\\begin{array}{rrr}\n",
       "9 & 4 & 23 \\\\\n",
       "7 & 19 & 15\n",
       "\\end{array}\\right)$$"
      ],
      "text/plain": [
       "[ 9  4 23]\n",
       "[ 7 19 15]"
      ]
     },
     "metadata": {},
     "execution_count": 12
    }
   ],
   "metadata": {}
  },
  {
   "cell_type": "code",
   "execution_count": 13,
   "source": [
    "5*A"
   ],
   "outputs": [
    {
     "output_type": "execute_result",
     "data": {
      "text/html": [
       "<html>\\[\\newcommand{\\Bold}[1]{\\mathbf{#1}}\\left(\\begin{array}{rrr}\n",
       "10 & 15 & 23 \\\\\n",
       "0 & 2 & 6\n",
       "\\end{array}\\right)\\]</html>"
      ],
      "text/latex": [
       "$$\\newcommand{\\Bold}[1]{\\mathbf{#1}}\\left(\\begin{array}{rrr}\n",
       "10 & 15 & 23 \\\\\n",
       "0 & 2 & 6\n",
       "\\end{array}\\right)$$"
      ],
      "text/plain": [
       "[10 15 23]\n",
       "[ 0  2  6]"
      ]
     },
     "metadata": {},
     "execution_count": 13
    }
   ],
   "metadata": {}
  },
  {
   "cell_type": "code",
   "execution_count": 14,
   "source": [
    "A*C"
   ],
   "outputs": [
    {
     "output_type": "execute_result",
     "data": {
      "text/html": [
       "<html>\\[\\newcommand{\\Bold}[1]{\\mathbf{#1}}\\left(\\begin{array}{rrr}\n",
       "9 & 20 & 4 \\\\\n",
       "8 & 20 & 18\n",
       "\\end{array}\\right)\\]</html>"
      ],
      "text/latex": [
       "$$\\newcommand{\\Bold}[1]{\\mathbf{#1}}\\left(\\begin{array}{rrr}\n",
       "9 & 20 & 4 \\\\\n",
       "8 & 20 & 18\n",
       "\\end{array}\\right)$$"
      ],
      "text/plain": [
       "[ 9 20  4]\n",
       "[ 8 20 18]"
      ]
     },
     "metadata": {},
     "execution_count": 14
    }
   ],
   "metadata": {}
  },
  {
   "cell_type": "markdown",
   "source": [
    "<p>Matrica $C$ nad prstenom $\\mathbb{Z}_{26}$ nema inverz jer je njezina determinata nad tim prstenom jednaka $10$, a taj broj nije relativno prosti s modulom $26$.</p>"
   ],
   "metadata": {}
  },
  {
   "cell_type": "code",
   "execution_count": 15,
   "source": [
    "C^-1"
   ],
   "outputs": [
    {
     "output_type": "error",
     "ename": "ZeroDivisionError",
     "evalue": "input matrix must be nonsingular",
     "traceback": [
      "\u001b[0;31m---------------------------------------------------------------------------\u001b[0m",
      "\u001b[0;31mTypeError\u001b[0m                                 Traceback (most recent call last)",
      "\u001b[0;32m/usr/lib/python3.9/site-packages/sage/matrix/matrix0.pyx\u001b[0m in \u001b[0;36msage.matrix.matrix0.Matrix.inverse_of_unit (build/cythonized/sage/matrix/matrix0.c:38486)\u001b[0;34m()\u001b[0m\n\u001b[1;32m   5758\u001b[0m             \u001b[0;32mtry\u001b[0m\u001b[0;34m:\u001b[0m\u001b[0;34m\u001b[0m\u001b[0;34m\u001b[0m\u001b[0m\n\u001b[0;32m-> 5759\u001b[0;31m                 \u001b[0;32mreturn\u001b[0m \u001b[0;34m(\u001b[0m\u001b[0;34m~\u001b[0m\u001b[0mself\u001b[0m\u001b[0;34m.\u001b[0m\u001b[0mlift_centered\u001b[0m\u001b[0;34m(\u001b[0m\u001b[0;34m)\u001b[0m\u001b[0;34m)\u001b[0m\u001b[0;34m.\u001b[0m\u001b[0mchange_ring\u001b[0m\u001b[0;34m(\u001b[0m\u001b[0mR\u001b[0m\u001b[0;34m)\u001b[0m\u001b[0;34m\u001b[0m\u001b[0;34m\u001b[0m\u001b[0m\n\u001b[0m\u001b[1;32m   5760\u001b[0m             \u001b[0;32mexcept\u001b[0m \u001b[0;34m(\u001b[0m\u001b[0mTypeError\u001b[0m\u001b[0;34m,\u001b[0m \u001b[0mZeroDivisionError\u001b[0m\u001b[0;34m)\u001b[0m\u001b[0;34m:\u001b[0m\u001b[0;34m\u001b[0m\u001b[0;34m\u001b[0m\u001b[0m\n",
      "\u001b[0;32m/usr/lib/python3.9/site-packages/sage/matrix/matrix_rational_dense.pyx\u001b[0m in \u001b[0;36msage.matrix.matrix_rational_dense.Matrix_rational_dense.change_ring (build/cythonized/sage/matrix/matrix_rational_dense.cpp:14919)\u001b[0;34m()\u001b[0m\n\u001b[1;32m   1493\u001b[0m             \u001b[0;32mif\u001b[0m \u001b[0;32mnot\u001b[0m \u001b[0mb\u001b[0m\u001b[0;34m.\u001b[0m\u001b[0mgcd\u001b[0m\u001b[0;34m(\u001b[0m\u001b[0md\u001b[0m\u001b[0;34m)\u001b[0m\u001b[0;34m.\u001b[0m\u001b[0mis_one\u001b[0m\u001b[0;34m(\u001b[0m\u001b[0;34m)\u001b[0m\u001b[0;34m:\u001b[0m\u001b[0;34m\u001b[0m\u001b[0;34m\u001b[0m\u001b[0m\n\u001b[0;32m-> 1494\u001b[0;31m                 \u001b[0;32mraise\u001b[0m \u001b[0mTypeError\u001b[0m\u001b[0;34m(\u001b[0m\u001b[0;34m\"matrix denominator not coprime to modulus\"\u001b[0m\u001b[0;34m)\u001b[0m\u001b[0;34m\u001b[0m\u001b[0;34m\u001b[0m\u001b[0m\n\u001b[0m\u001b[1;32m   1495\u001b[0m             \u001b[0mB\u001b[0m \u001b[0;34m=\u001b[0m \u001b[0mA\u001b[0m\u001b[0;34m.\u001b[0m\u001b[0m_mod_int\u001b[0m\u001b[0;34m(\u001b[0m\u001b[0mb\u001b[0m\u001b[0;34m)\u001b[0m\u001b[0;34m\u001b[0m\u001b[0;34m\u001b[0m\u001b[0m\n",
      "\u001b[0;31mTypeError\u001b[0m: matrix denominator not coprime to modulus",
      "\nDuring handling of the above exception, another exception occurred:\n",
      "\u001b[0;31mZeroDivisionError\u001b[0m                         Traceback (most recent call last)",
      "\u001b[0;32m/tmp/ipykernel_28418/145294746.py\u001b[0m in \u001b[0;36m<module>\u001b[0;34m\u001b[0m\n\u001b[0;32m----> 1\u001b[0;31m \u001b[0mC\u001b[0m\u001b[0;34m**\u001b[0m\u001b[0;34m-\u001b[0m\u001b[0mInteger\u001b[0m\u001b[0;34m(\u001b[0m\u001b[0;36m1\u001b[0m\u001b[0;34m)\u001b[0m\u001b[0;34m\u001b[0m\u001b[0;34m\u001b[0m\u001b[0m\n\u001b[0m",
      "\u001b[0;32m/usr/lib/python3.9/site-packages/sage/matrix/matrix0.pyx\u001b[0m in \u001b[0;36msage.matrix.matrix0.Matrix.__pow__ (build/cythonized/sage/matrix/matrix0.c:39296)\u001b[0;34m()\u001b[0m\n\u001b[1;32m   5842\u001b[0m             \u001b[0;32mfrom\u001b[0m \u001b[0msage\u001b[0m\u001b[0;34m.\u001b[0m\u001b[0mmatrix\u001b[0m\u001b[0;34m.\u001b[0m\u001b[0mmatrix2\u001b[0m \u001b[0;32mimport\u001b[0m \u001b[0m_matrix_power_symbolic\u001b[0m\u001b[0;34m\u001b[0m\u001b[0;34m\u001b[0m\u001b[0m\n\u001b[1;32m   5843\u001b[0m             \u001b[0;32mreturn\u001b[0m \u001b[0m_matrix_power_symbolic\u001b[0m\u001b[0;34m(\u001b[0m\u001b[0mself\u001b[0m\u001b[0;34m,\u001b[0m \u001b[0mn\u001b[0m\u001b[0;34m)\u001b[0m\u001b[0;34m\u001b[0m\u001b[0;34m\u001b[0m\u001b[0m\n\u001b[0;32m-> 5844\u001b[0;31m         \u001b[0;32mreturn\u001b[0m \u001b[0mgeneric_power\u001b[0m\u001b[0;34m(\u001b[0m\u001b[0mself\u001b[0m\u001b[0;34m,\u001b[0m \u001b[0mn\u001b[0m\u001b[0;34m)\u001b[0m\u001b[0;34m\u001b[0m\u001b[0;34m\u001b[0m\u001b[0m\n\u001b[0m\u001b[1;32m   5845\u001b[0m \u001b[0;34m\u001b[0m\u001b[0m\n\u001b[1;32m   5846\u001b[0m     \u001b[0;31m###################################################\u001b[0m\u001b[0;34m\u001b[0m\u001b[0;34m\u001b[0m\u001b[0m\n",
      "\u001b[0;32m/usr/lib/python3.9/site-packages/sage/arith/power.pyx\u001b[0m in \u001b[0;36msage.arith.power.generic_power (build/cythonized/sage/arith/power.c:2434)\u001b[0;34m()\u001b[0m\n\u001b[1;32m     81\u001b[0m         \u001b[0;32mraise\u001b[0m \u001b[0mNotImplementedError\u001b[0m\u001b[0;34m(\u001b[0m\u001b[0;34m\"non-integral exponents not supported\"\u001b[0m\u001b[0;34m)\u001b[0m\u001b[0;34m\u001b[0m\u001b[0;34m\u001b[0m\u001b[0m\n\u001b[1;32m     82\u001b[0m     \u001b[0;32mif\u001b[0m \u001b[0;32mnot\u001b[0m \u001b[0merr\u001b[0m\u001b[0;34m:\u001b[0m\u001b[0;34m\u001b[0m\u001b[0;34m\u001b[0m\u001b[0m\n\u001b[0;32m---> 83\u001b[0;31m         \u001b[0;32mreturn\u001b[0m \u001b[0mgeneric_power_long\u001b[0m\u001b[0;34m(\u001b[0m\u001b[0ma\u001b[0m\u001b[0;34m,\u001b[0m \u001b[0mvalue\u001b[0m\u001b[0;34m)\u001b[0m\u001b[0;34m\u001b[0m\u001b[0;34m\u001b[0m\u001b[0m\n\u001b[0m\u001b[1;32m     84\u001b[0m \u001b[0;34m\u001b[0m\u001b[0m\n\u001b[1;32m     85\u001b[0m     \u001b[0;32mif\u001b[0m \u001b[0mn\u001b[0m \u001b[0;34m<\u001b[0m \u001b[0;36m0\u001b[0m\u001b[0;34m:\u001b[0m\u001b[0;34m\u001b[0m\u001b[0;34m\u001b[0m\u001b[0m\n",
      "\u001b[0;32m/usr/lib/python3.9/site-packages/sage/arith/power.pyx\u001b[0m in \u001b[0;36msage.arith.power.generic_power_long (build/cythonized/sage/arith/power.c:2708)\u001b[0;34m()\u001b[0m\n\u001b[1;32m     99\u001b[0m     \u001b[0;32mif\u001b[0m \u001b[0mn\u001b[0m \u001b[0;34m<\u001b[0m \u001b[0;36m0\u001b[0m\u001b[0;34m:\u001b[0m\u001b[0;34m\u001b[0m\u001b[0;34m\u001b[0m\u001b[0m\n\u001b[1;32m    100\u001b[0m         \u001b[0mu\u001b[0m \u001b[0;34m=\u001b[0m \u001b[0;34m-\u001b[0m\u001b[0mu\u001b[0m\u001b[0;34m\u001b[0m\u001b[0;34m\u001b[0m\u001b[0m\n\u001b[0;32m--> 101\u001b[0;31m         \u001b[0ma\u001b[0m \u001b[0;34m=\u001b[0m \u001b[0minvert\u001b[0m\u001b[0;34m(\u001b[0m\u001b[0ma\u001b[0m\u001b[0;34m)\u001b[0m\u001b[0;34m\u001b[0m\u001b[0;34m\u001b[0m\u001b[0m\n\u001b[0m\u001b[1;32m    102\u001b[0m     \u001b[0;32mreturn\u001b[0m \u001b[0mgeneric_power_pos\u001b[0m\u001b[0;34m(\u001b[0m\u001b[0ma\u001b[0m\u001b[0;34m,\u001b[0m \u001b[0mu\u001b[0m\u001b[0;34m)\u001b[0m\u001b[0;34m\u001b[0m\u001b[0;34m\u001b[0m\u001b[0m\n\u001b[1;32m    103\u001b[0m \u001b[0;34m\u001b[0m\u001b[0m\n",
      "\u001b[0;32m/usr/lib/python3.9/site-packages/sage/arith/power.pxd\u001b[0m in \u001b[0;36msage.arith.power.invert (build/cythonized/sage/arith/power.c:3747)\u001b[0;34m()\u001b[0m\n\u001b[1;32m     18\u001b[0m     \"\"\"\n\u001b[1;32m     19\u001b[0m     \u001b[0;32mif\u001b[0m \u001b[0misinstance\u001b[0m\u001b[0;34m(\u001b[0m\u001b[0ma\u001b[0m\u001b[0;34m,\u001b[0m \u001b[0mElement\u001b[0m\u001b[0;34m)\u001b[0m\u001b[0;34m:\u001b[0m\u001b[0;34m\u001b[0m\u001b[0;34m\u001b[0m\u001b[0m\n\u001b[0;32m---> 20\u001b[0;31m         \u001b[0;32mreturn\u001b[0m \u001b[0;34m~\u001b[0m\u001b[0ma\u001b[0m\u001b[0;34m\u001b[0m\u001b[0;34m\u001b[0m\u001b[0m\n\u001b[0m\u001b[1;32m     21\u001b[0m     \u001b[0;32mreturn\u001b[0m \u001b[0mPyNumber_TrueDivide\u001b[0m\u001b[0;34m(\u001b[0m\u001b[0mtype\u001b[0m\u001b[0;34m(\u001b[0m\u001b[0ma\u001b[0m\u001b[0;34m)\u001b[0m\u001b[0;34m(\u001b[0m\u001b[0;36m1\u001b[0m\u001b[0;34m)\u001b[0m\u001b[0;34m,\u001b[0m \u001b[0ma\u001b[0m\u001b[0;34m)\u001b[0m\u001b[0;34m\u001b[0m\u001b[0;34m\u001b[0m\u001b[0m\n\u001b[1;32m     22\u001b[0m \u001b[0;34m\u001b[0m\u001b[0m\n",
      "\u001b[0;32m/usr/lib/python3.9/site-packages/sage/matrix/matrix0.pyx\u001b[0m in \u001b[0;36msage.matrix.matrix0.Matrix.__invert__ (build/cythonized/sage/matrix/matrix0.c:37470)\u001b[0;34m()\u001b[0m\n\u001b[1;32m   5643\u001b[0m                 \u001b[0;32mreturn\u001b[0m \u001b[0;34m~\u001b[0m\u001b[0mself\u001b[0m\u001b[0;34m.\u001b[0m\u001b[0mmatrix_over_field\u001b[0m\u001b[0;34m(\u001b[0m\u001b[0;34m)\u001b[0m\u001b[0;34m\u001b[0m\u001b[0;34m\u001b[0m\u001b[0m\n\u001b[1;32m   5644\u001b[0m             \u001b[0;32melse\u001b[0m\u001b[0;34m:\u001b[0m\u001b[0;34m\u001b[0m\u001b[0;34m\u001b[0m\u001b[0m\n\u001b[0;32m-> 5645\u001b[0;31m                 \u001b[0;32mreturn\u001b[0m \u001b[0mself\u001b[0m\u001b[0;34m.\u001b[0m\u001b[0minverse_of_unit\u001b[0m\u001b[0;34m(\u001b[0m\u001b[0;34m)\u001b[0m\u001b[0;34m\u001b[0m\u001b[0;34m\u001b[0m\u001b[0m\n\u001b[0m\u001b[1;32m   5646\u001b[0m         \u001b[0;32melse\u001b[0m\u001b[0;34m:\u001b[0m\u001b[0;34m\u001b[0m\u001b[0;34m\u001b[0m\u001b[0m\n\u001b[1;32m   5647\u001b[0m             \u001b[0mA\u001b[0m \u001b[0;34m=\u001b[0m \u001b[0mself\u001b[0m\u001b[0;34m.\u001b[0m\u001b[0maugment\u001b[0m\u001b[0;34m(\u001b[0m\u001b[0mself\u001b[0m\u001b[0;34m.\u001b[0m\u001b[0mparent\u001b[0m\u001b[0;34m(\u001b[0m\u001b[0;34m)\u001b[0m\u001b[0;34m.\u001b[0m\u001b[0midentity_matrix\u001b[0m\u001b[0;34m(\u001b[0m\u001b[0;34m)\u001b[0m\u001b[0;34m)\u001b[0m\u001b[0;34m\u001b[0m\u001b[0;34m\u001b[0m\u001b[0m\n",
      "\u001b[0;32m/usr/lib/python3.9/site-packages/sage/matrix/matrix0.pyx\u001b[0m in \u001b[0;36msage.matrix.matrix0.Matrix.inverse_of_unit (build/cythonized/sage/matrix/matrix0.c:38533)\u001b[0;34m()\u001b[0m\n\u001b[1;32m   5759\u001b[0m                 \u001b[0;32mreturn\u001b[0m \u001b[0;34m(\u001b[0m\u001b[0;34m~\u001b[0m\u001b[0mself\u001b[0m\u001b[0;34m.\u001b[0m\u001b[0mlift_centered\u001b[0m\u001b[0;34m(\u001b[0m\u001b[0;34m)\u001b[0m\u001b[0;34m)\u001b[0m\u001b[0;34m.\u001b[0m\u001b[0mchange_ring\u001b[0m\u001b[0;34m(\u001b[0m\u001b[0mR\u001b[0m\u001b[0;34m)\u001b[0m\u001b[0;34m\u001b[0m\u001b[0;34m\u001b[0m\u001b[0m\n\u001b[1;32m   5760\u001b[0m             \u001b[0;32mexcept\u001b[0m \u001b[0;34m(\u001b[0m\u001b[0mTypeError\u001b[0m\u001b[0;34m,\u001b[0m \u001b[0mZeroDivisionError\u001b[0m\u001b[0;34m)\u001b[0m\u001b[0;34m:\u001b[0m\u001b[0;34m\u001b[0m\u001b[0;34m\u001b[0m\u001b[0m\n\u001b[0;32m-> 5761\u001b[0;31m                 \u001b[0;32mraise\u001b[0m \u001b[0mZeroDivisionError\u001b[0m\u001b[0;34m(\u001b[0m\u001b[0;34m\"input matrix must be nonsingular\"\u001b[0m\u001b[0;34m)\u001b[0m\u001b[0;34m\u001b[0m\u001b[0;34m\u001b[0m\u001b[0m\n\u001b[0m\u001b[1;32m   5762\u001b[0m         \u001b[0;32melif\u001b[0m \u001b[0malgorithm\u001b[0m \u001b[0;32mis\u001b[0m \u001b[0;32mNone\u001b[0m \u001b[0;32mand\u001b[0m \u001b[0mis_IntegerRing\u001b[0m\u001b[0;34m(\u001b[0m\u001b[0mR\u001b[0m\u001b[0;34m)\u001b[0m\u001b[0;34m:\u001b[0m\u001b[0;34m\u001b[0m\u001b[0;34m\u001b[0m\u001b[0m\n\u001b[1;32m   5763\u001b[0m             \u001b[0;32mtry\u001b[0m\u001b[0;34m:\u001b[0m\u001b[0;34m\u001b[0m\u001b[0;34m\u001b[0m\u001b[0m\n",
      "\u001b[0;31mZeroDivisionError\u001b[0m: input matrix must be nonsingular"
     ]
    }
   ],
   "metadata": {}
  },
  {
   "cell_type": "code",
   "execution_count": 16,
   "source": [
    "det(C)"
   ],
   "outputs": [
    {
     "output_type": "execute_result",
     "data": {
      "text/html": [
       "<html>\\[\\newcommand{\\Bold}[1]{\\mathbf{#1}}10\\]</html>"
      ],
      "text/latex": [
       "$$\\newcommand{\\Bold}[1]{\\mathbf{#1}}10$$"
      ],
      "text/plain": [
       "10"
      ]
     },
     "metadata": {},
     "execution_count": 16
    }
   ],
   "metadata": {}
  },
  {
   "cell_type": "markdown",
   "source": [
    "<h3>$M$ kao matrica nad poljem $\\mathbb{Q}$ </h3>"
   ],
   "metadata": {}
  },
  {
   "cell_type": "code",
   "execution_count": 17,
   "source": [
    "M=matrix(QQ,[[1,3],[11,2]])"
   ],
   "outputs": [],
   "metadata": {}
  },
  {
   "cell_type": "code",
   "execution_count": 18,
   "source": [
    "M"
   ],
   "outputs": [
    {
     "output_type": "execute_result",
     "data": {
      "text/html": [
       "<html>\\[\\newcommand{\\Bold}[1]{\\mathbf{#1}}\\left(\\begin{array}{rr}\n",
       "1 & 3 \\\\\n",
       "11 & 2\n",
       "\\end{array}\\right)\\]</html>"
      ],
      "text/latex": [
       "$$\\newcommand{\\Bold}[1]{\\mathbf{#1}}\\left(\\begin{array}{rr}\n",
       "1 & 3 \\\\\n",
       "11 & 2\n",
       "\\end{array}\\right)$$"
      ],
      "text/plain": [
       "[ 1  3]\n",
       "[11  2]"
      ]
     },
     "metadata": {},
     "execution_count": 18
    }
   ],
   "metadata": {}
  },
  {
   "cell_type": "code",
   "execution_count": 19,
   "source": [
    "det(M)"
   ],
   "outputs": [
    {
     "output_type": "execute_result",
     "data": {
      "text/html": [
       "<html>\\[\\newcommand{\\Bold}[1]{\\mathbf{#1}}-31\\]</html>"
      ],
      "text/latex": [
       "$$\\newcommand{\\Bold}[1]{\\mathbf{#1}}-31$$"
      ],
      "text/plain": [
       "-31"
      ]
     },
     "metadata": {},
     "execution_count": 19
    }
   ],
   "metadata": {}
  },
  {
   "cell_type": "code",
   "execution_count": 20,
   "source": [
    "M^-1"
   ],
   "outputs": [
    {
     "output_type": "execute_result",
     "data": {
      "text/html": [
       "<html>\\[\\newcommand{\\Bold}[1]{\\mathbf{#1}}\\left(\\begin{array}{rr}\n",
       "-\\frac{2}{31} & \\frac{3}{31} \\\\\n",
       "\\frac{11}{31} & -\\frac{1}{31}\n",
       "\\end{array}\\right)\\]</html>"
      ],
      "text/latex": [
       "$$\\newcommand{\\Bold}[1]{\\mathbf{#1}}\\left(\\begin{array}{rr}\n",
       "-\\frac{2}{31} & \\frac{3}{31} \\\\\n",
       "\\frac{11}{31} & -\\frac{1}{31}\n",
       "\\end{array}\\right)$$"
      ],
      "text/plain": [
       "[-2/31  3/31]\n",
       "[11/31 -1/31]"
      ]
     },
     "metadata": {},
     "execution_count": 20
    }
   ],
   "metadata": {}
  },
  {
   "cell_type": "markdown",
   "source": [
    "<h3>$M$ kao matrica nad prstenom $\\mathbb{Z}_{30}$</h3>"
   ],
   "metadata": {}
  },
  {
   "cell_type": "code",
   "execution_count": 21,
   "source": [
    "M=matrix(Integers(30),[[1,3],[11,2]])"
   ],
   "outputs": [],
   "metadata": {}
  },
  {
   "cell_type": "code",
   "execution_count": 22,
   "source": [
    "M"
   ],
   "outputs": [
    {
     "output_type": "execute_result",
     "data": {
      "text/html": [
       "<html>\\[\\newcommand{\\Bold}[1]{\\mathbf{#1}}\\left(\\begin{array}{rr}\n",
       "1 & 3 \\\\\n",
       "11 & 2\n",
       "\\end{array}\\right)\\]</html>"
      ],
      "text/latex": [
       "$$\\newcommand{\\Bold}[1]{\\mathbf{#1}}\\left(\\begin{array}{rr}\n",
       "1 & 3 \\\\\n",
       "11 & 2\n",
       "\\end{array}\\right)$$"
      ],
      "text/plain": [
       "[ 1  3]\n",
       "[11  2]"
      ]
     },
     "metadata": {},
     "execution_count": 22
    }
   ],
   "metadata": {}
  },
  {
   "cell_type": "code",
   "execution_count": 23,
   "source": [
    "det(M)"
   ],
   "outputs": [
    {
     "output_type": "execute_result",
     "data": {
      "text/html": [
       "<html>\\[\\newcommand{\\Bold}[1]{\\mathbf{#1}}29\\]</html>"
      ],
      "text/latex": [
       "$$\\newcommand{\\Bold}[1]{\\mathbf{#1}}29$$"
      ],
      "text/plain": [
       "29"
      ]
     },
     "metadata": {},
     "execution_count": 23
    }
   ],
   "metadata": {}
  },
  {
   "cell_type": "code",
   "execution_count": 24,
   "source": [
    "M^-1"
   ],
   "outputs": [
    {
     "output_type": "execute_result",
     "data": {
      "text/html": [
       "<html>\\[\\newcommand{\\Bold}[1]{\\mathbf{#1}}\\left(\\begin{array}{rr}\n",
       "28 & 3 \\\\\n",
       "11 & 29\n",
       "\\end{array}\\right)\\]</html>"
      ],
      "text/latex": [
       "$$\\newcommand{\\Bold}[1]{\\mathbf{#1}}\\left(\\begin{array}{rr}\n",
       "28 & 3 \\\\\n",
       "11 & 29\n",
       "\\end{array}\\right)$$"
      ],
      "text/plain": [
       "[28  3]\n",
       "[11 29]"
      ]
     },
     "metadata": {},
     "execution_count": 24
    }
   ],
   "metadata": {}
  },
  {
   "cell_type": "markdown",
   "source": [
    "<h2>Ispis velikih matrica</h2>"
   ],
   "metadata": {}
  },
  {
   "cell_type": "code",
   "execution_count": 25,
   "source": [
    "M=matrix(15,30,lambda i,j:(i-j)/(i+j+1))"
   ],
   "outputs": [],
   "metadata": {}
  },
  {
   "cell_type": "code",
   "execution_count": 26,
   "source": [
    "M"
   ],
   "outputs": [
    {
     "output_type": "execute_result",
     "data": {
      "text/html": [
       "<html>\\[\\newcommand{\\Bold}[1]{\\mathbf{#1}}\\left(\\begin{array}{rrrrrrrrrrrrrrrrrrrrrrrrrrrrrr}\n",
       "0 & -\\frac{1}{2} & -\\frac{2}{3} & -\\frac{3}{4} & -\\frac{4}{5} & -\\frac{5}{6} & -\\frac{6}{7} & -\\frac{7}{8} & -\\frac{8}{9} & -\\frac{9}{10} & -\\frac{10}{11} & -\\frac{11}{12} & -\\frac{12}{13} & -\\frac{13}{14} & -\\frac{14}{15} & -\\frac{15}{16} & -\\frac{16}{17} & -\\frac{17}{18} & -\\frac{18}{19} & -\\frac{19}{20} & -\\frac{20}{21} & -\\frac{21}{22} & -\\frac{22}{23} & -\\frac{23}{24} & -\\frac{24}{25} & -\\frac{25}{26} & -\\frac{26}{27} & -\\frac{27}{28} & -\\frac{28}{29} & -\\frac{29}{30} \\\\\n",
       "\\frac{1}{2} & 0 & -\\frac{1}{4} & -\\frac{2}{5} & -\\frac{1}{2} & -\\frac{4}{7} & -\\frac{5}{8} & -\\frac{2}{3} & -\\frac{7}{10} & -\\frac{8}{11} & -\\frac{3}{4} & -\\frac{10}{13} & -\\frac{11}{14} & -\\frac{4}{5} & -\\frac{13}{16} & -\\frac{14}{17} & -\\frac{5}{6} & -\\frac{16}{19} & -\\frac{17}{20} & -\\frac{6}{7} & -\\frac{19}{22} & -\\frac{20}{23} & -\\frac{7}{8} & -\\frac{22}{25} & -\\frac{23}{26} & -\\frac{8}{9} & -\\frac{25}{28} & -\\frac{26}{29} & -\\frac{9}{10} & -\\frac{28}{31} \\\\\n",
       "\\frac{2}{3} & \\frac{1}{4} & 0 & -\\frac{1}{6} & -\\frac{2}{7} & -\\frac{3}{8} & -\\frac{4}{9} & -\\frac{1}{2} & -\\frac{6}{11} & -\\frac{7}{12} & -\\frac{8}{13} & -\\frac{9}{14} & -\\frac{2}{3} & -\\frac{11}{16} & -\\frac{12}{17} & -\\frac{13}{18} & -\\frac{14}{19} & -\\frac{3}{4} & -\\frac{16}{21} & -\\frac{17}{22} & -\\frac{18}{23} & -\\frac{19}{24} & -\\frac{4}{5} & -\\frac{21}{26} & -\\frac{22}{27} & -\\frac{23}{28} & -\\frac{24}{29} & -\\frac{5}{6} & -\\frac{26}{31} & -\\frac{27}{32} \\\\\n",
       "\\frac{3}{4} & \\frac{2}{5} & \\frac{1}{6} & 0 & -\\frac{1}{8} & -\\frac{2}{9} & -\\frac{3}{10} & -\\frac{4}{11} & -\\frac{5}{12} & -\\frac{6}{13} & -\\frac{1}{2} & -\\frac{8}{15} & -\\frac{9}{16} & -\\frac{10}{17} & -\\frac{11}{18} & -\\frac{12}{19} & -\\frac{13}{20} & -\\frac{2}{3} & -\\frac{15}{22} & -\\frac{16}{23} & -\\frac{17}{24} & -\\frac{18}{25} & -\\frac{19}{26} & -\\frac{20}{27} & -\\frac{3}{4} & -\\frac{22}{29} & -\\frac{23}{30} & -\\frac{24}{31} & -\\frac{25}{32} & -\\frac{26}{33} \\\\\n",
       "\\frac{4}{5} & \\frac{1}{2} & \\frac{2}{7} & \\frac{1}{8} & 0 & -\\frac{1}{10} & -\\frac{2}{11} & -\\frac{1}{4} & -\\frac{4}{13} & -\\frac{5}{14} & -\\frac{2}{5} & -\\frac{7}{16} & -\\frac{8}{17} & -\\frac{1}{2} & -\\frac{10}{19} & -\\frac{11}{20} & -\\frac{4}{7} & -\\frac{13}{22} & -\\frac{14}{23} & -\\frac{5}{8} & -\\frac{16}{25} & -\\frac{17}{26} & -\\frac{2}{3} & -\\frac{19}{28} & -\\frac{20}{29} & -\\frac{7}{10} & -\\frac{22}{31} & -\\frac{23}{32} & -\\frac{8}{11} & -\\frac{25}{34} \\\\\n",
       "\\frac{5}{6} & \\frac{4}{7} & \\frac{3}{8} & \\frac{2}{9} & \\frac{1}{10} & 0 & -\\frac{1}{12} & -\\frac{2}{13} & -\\frac{3}{14} & -\\frac{4}{15} & -\\frac{5}{16} & -\\frac{6}{17} & -\\frac{7}{18} & -\\frac{8}{19} & -\\frac{9}{20} & -\\frac{10}{21} & -\\frac{1}{2} & -\\frac{12}{23} & -\\frac{13}{24} & -\\frac{14}{25} & -\\frac{15}{26} & -\\frac{16}{27} & -\\frac{17}{28} & -\\frac{18}{29} & -\\frac{19}{30} & -\\frac{20}{31} & -\\frac{21}{32} & -\\frac{2}{3} & -\\frac{23}{34} & -\\frac{24}{35} \\\\\n",
       "\\frac{6}{7} & \\frac{5}{8} & \\frac{4}{9} & \\frac{3}{10} & \\frac{2}{11} & \\frac{1}{12} & 0 & -\\frac{1}{14} & -\\frac{2}{15} & -\\frac{3}{16} & -\\frac{4}{17} & -\\frac{5}{18} & -\\frac{6}{19} & -\\frac{7}{20} & -\\frac{8}{21} & -\\frac{9}{22} & -\\frac{10}{23} & -\\frac{11}{24} & -\\frac{12}{25} & -\\frac{1}{2} & -\\frac{14}{27} & -\\frac{15}{28} & -\\frac{16}{29} & -\\frac{17}{30} & -\\frac{18}{31} & -\\frac{19}{32} & -\\frac{20}{33} & -\\frac{21}{34} & -\\frac{22}{35} & -\\frac{23}{36} \\\\\n",
       "\\frac{7}{8} & \\frac{2}{3} & \\frac{1}{2} & \\frac{4}{11} & \\frac{1}{4} & \\frac{2}{13} & \\frac{1}{14} & 0 & -\\frac{1}{16} & -\\frac{2}{17} & -\\frac{1}{6} & -\\frac{4}{19} & -\\frac{1}{4} & -\\frac{2}{7} & -\\frac{7}{22} & -\\frac{8}{23} & -\\frac{3}{8} & -\\frac{2}{5} & -\\frac{11}{26} & -\\frac{4}{9} & -\\frac{13}{28} & -\\frac{14}{29} & -\\frac{1}{2} & -\\frac{16}{31} & -\\frac{17}{32} & -\\frac{6}{11} & -\\frac{19}{34} & -\\frac{4}{7} & -\\frac{7}{12} & -\\frac{22}{37} \\\\\n",
       "\\frac{8}{9} & \\frac{7}{10} & \\frac{6}{11} & \\frac{5}{12} & \\frac{4}{13} & \\frac{3}{14} & \\frac{2}{15} & \\frac{1}{16} & 0 & -\\frac{1}{18} & -\\frac{2}{19} & -\\frac{3}{20} & -\\frac{4}{21} & -\\frac{5}{22} & -\\frac{6}{23} & -\\frac{7}{24} & -\\frac{8}{25} & -\\frac{9}{26} & -\\frac{10}{27} & -\\frac{11}{28} & -\\frac{12}{29} & -\\frac{13}{30} & -\\frac{14}{31} & -\\frac{15}{32} & -\\frac{16}{33} & -\\frac{1}{2} & -\\frac{18}{35} & -\\frac{19}{36} & -\\frac{20}{37} & -\\frac{21}{38} \\\\\n",
       "\\frac{9}{10} & \\frac{8}{11} & \\frac{7}{12} & \\frac{6}{13} & \\frac{5}{14} & \\frac{4}{15} & \\frac{3}{16} & \\frac{2}{17} & \\frac{1}{18} & 0 & -\\frac{1}{20} & -\\frac{2}{21} & -\\frac{3}{22} & -\\frac{4}{23} & -\\frac{5}{24} & -\\frac{6}{25} & -\\frac{7}{26} & -\\frac{8}{27} & -\\frac{9}{28} & -\\frac{10}{29} & -\\frac{11}{30} & -\\frac{12}{31} & -\\frac{13}{32} & -\\frac{14}{33} & -\\frac{15}{34} & -\\frac{16}{35} & -\\frac{17}{36} & -\\frac{18}{37} & -\\frac{1}{2} & -\\frac{20}{39} \\\\\n",
       "\\frac{10}{11} & \\frac{3}{4} & \\frac{8}{13} & \\frac{1}{2} & \\frac{2}{5} & \\frac{5}{16} & \\frac{4}{17} & \\frac{1}{6} & \\frac{2}{19} & \\frac{1}{20} & 0 & -\\frac{1}{22} & -\\frac{2}{23} & -\\frac{1}{8} & -\\frac{4}{25} & -\\frac{5}{26} & -\\frac{2}{9} & -\\frac{1}{4} & -\\frac{8}{29} & -\\frac{3}{10} & -\\frac{10}{31} & -\\frac{11}{32} & -\\frac{4}{11} & -\\frac{13}{34} & -\\frac{2}{5} & -\\frac{5}{12} & -\\frac{16}{37} & -\\frac{17}{38} & -\\frac{6}{13} & -\\frac{19}{40} \\\\\n",
       "\\frac{11}{12} & \\frac{10}{13} & \\frac{9}{14} & \\frac{8}{15} & \\frac{7}{16} & \\frac{6}{17} & \\frac{5}{18} & \\frac{4}{19} & \\frac{3}{20} & \\frac{2}{21} & \\frac{1}{22} & 0 & -\\frac{1}{24} & -\\frac{2}{25} & -\\frac{3}{26} & -\\frac{4}{27} & -\\frac{5}{28} & -\\frac{6}{29} & -\\frac{7}{30} & -\\frac{8}{31} & -\\frac{9}{32} & -\\frac{10}{33} & -\\frac{11}{34} & -\\frac{12}{35} & -\\frac{13}{36} & -\\frac{14}{37} & -\\frac{15}{38} & -\\frac{16}{39} & -\\frac{17}{40} & -\\frac{18}{41} \\\\\n",
       "\\frac{12}{13} & \\frac{11}{14} & \\frac{2}{3} & \\frac{9}{16} & \\frac{8}{17} & \\frac{7}{18} & \\frac{6}{19} & \\frac{1}{4} & \\frac{4}{21} & \\frac{3}{22} & \\frac{2}{23} & \\frac{1}{24} & 0 & -\\frac{1}{26} & -\\frac{2}{27} & -\\frac{3}{28} & -\\frac{4}{29} & -\\frac{1}{6} & -\\frac{6}{31} & -\\frac{7}{32} & -\\frac{8}{33} & -\\frac{9}{34} & -\\frac{2}{7} & -\\frac{11}{36} & -\\frac{12}{37} & -\\frac{13}{38} & -\\frac{14}{39} & -\\frac{3}{8} & -\\frac{16}{41} & -\\frac{17}{42} \\\\\n",
       "\\frac{13}{14} & \\frac{4}{5} & \\frac{11}{16} & \\frac{10}{17} & \\frac{1}{2} & \\frac{8}{19} & \\frac{7}{20} & \\frac{2}{7} & \\frac{5}{22} & \\frac{4}{23} & \\frac{1}{8} & \\frac{2}{25} & \\frac{1}{26} & 0 & -\\frac{1}{28} & -\\frac{2}{29} & -\\frac{1}{10} & -\\frac{4}{31} & -\\frac{5}{32} & -\\frac{2}{11} & -\\frac{7}{34} & -\\frac{8}{35} & -\\frac{1}{4} & -\\frac{10}{37} & -\\frac{11}{38} & -\\frac{4}{13} & -\\frac{13}{40} & -\\frac{14}{41} & -\\frac{5}{14} & -\\frac{16}{43} \\\\\n",
       "\\frac{14}{15} & \\frac{13}{16} & \\frac{12}{17} & \\frac{11}{18} & \\frac{10}{19} & \\frac{9}{20} & \\frac{8}{21} & \\frac{7}{22} & \\frac{6}{23} & \\frac{5}{24} & \\frac{4}{25} & \\frac{3}{26} & \\frac{2}{27} & \\frac{1}{28} & 0 & -\\frac{1}{30} & -\\frac{2}{31} & -\\frac{3}{32} & -\\frac{4}{33} & -\\frac{5}{34} & -\\frac{6}{35} & -\\frac{7}{36} & -\\frac{8}{37} & -\\frac{9}{38} & -\\frac{10}{39} & -\\frac{11}{40} & -\\frac{12}{41} & -\\frac{13}{42} & -\\frac{14}{43} & -\\frac{15}{44}\n",
       "\\end{array}\\right)\\]</html>"
      ],
      "text/latex": [
       "$$\\newcommand{\\Bold}[1]{\\mathbf{#1}}\\left(\\begin{array}{rrrrrrrrrrrrrrrrrrrrrrrrrrrrrr}\n",
       "0 & -\\frac{1}{2} & -\\frac{2}{3} & -\\frac{3}{4} & -\\frac{4}{5} & -\\frac{5}{6} & -\\frac{6}{7} & -\\frac{7}{8} & -\\frac{8}{9} & -\\frac{9}{10} & -\\frac{10}{11} & -\\frac{11}{12} & -\\frac{12}{13} & -\\frac{13}{14} & -\\frac{14}{15} & -\\frac{15}{16} & -\\frac{16}{17} & -\\frac{17}{18} & -\\frac{18}{19} & -\\frac{19}{20} & -\\frac{20}{21} & -\\frac{21}{22} & -\\frac{22}{23} & -\\frac{23}{24} & -\\frac{24}{25} & -\\frac{25}{26} & -\\frac{26}{27} & -\\frac{27}{28} & -\\frac{28}{29} & -\\frac{29}{30} \\\\\n",
       "\\frac{1}{2} & 0 & -\\frac{1}{4} & -\\frac{2}{5} & -\\frac{1}{2} & -\\frac{4}{7} & -\\frac{5}{8} & -\\frac{2}{3} & -\\frac{7}{10} & -\\frac{8}{11} & -\\frac{3}{4} & -\\frac{10}{13} & -\\frac{11}{14} & -\\frac{4}{5} & -\\frac{13}{16} & -\\frac{14}{17} & -\\frac{5}{6} & -\\frac{16}{19} & -\\frac{17}{20} & -\\frac{6}{7} & -\\frac{19}{22} & -\\frac{20}{23} & -\\frac{7}{8} & -\\frac{22}{25} & -\\frac{23}{26} & -\\frac{8}{9} & -\\frac{25}{28} & -\\frac{26}{29} & -\\frac{9}{10} & -\\frac{28}{31} \\\\\n",
       "\\frac{2}{3} & \\frac{1}{4} & 0 & -\\frac{1}{6} & -\\frac{2}{7} & -\\frac{3}{8} & -\\frac{4}{9} & -\\frac{1}{2} & -\\frac{6}{11} & -\\frac{7}{12} & -\\frac{8}{13} & -\\frac{9}{14} & -\\frac{2}{3} & -\\frac{11}{16} & -\\frac{12}{17} & -\\frac{13}{18} & -\\frac{14}{19} & -\\frac{3}{4} & -\\frac{16}{21} & -\\frac{17}{22} & -\\frac{18}{23} & -\\frac{19}{24} & -\\frac{4}{5} & -\\frac{21}{26} & -\\frac{22}{27} & -\\frac{23}{28} & -\\frac{24}{29} & -\\frac{5}{6} & -\\frac{26}{31} & -\\frac{27}{32} \\\\\n",
       "\\frac{3}{4} & \\frac{2}{5} & \\frac{1}{6} & 0 & -\\frac{1}{8} & -\\frac{2}{9} & -\\frac{3}{10} & -\\frac{4}{11} & -\\frac{5}{12} & -\\frac{6}{13} & -\\frac{1}{2} & -\\frac{8}{15} & -\\frac{9}{16} & -\\frac{10}{17} & -\\frac{11}{18} & -\\frac{12}{19} & -\\frac{13}{20} & -\\frac{2}{3} & -\\frac{15}{22} & -\\frac{16}{23} & -\\frac{17}{24} & -\\frac{18}{25} & -\\frac{19}{26} & -\\frac{20}{27} & -\\frac{3}{4} & -\\frac{22}{29} & -\\frac{23}{30} & -\\frac{24}{31} & -\\frac{25}{32} & -\\frac{26}{33} \\\\\n",
       "\\frac{4}{5} & \\frac{1}{2} & \\frac{2}{7} & \\frac{1}{8} & 0 & -\\frac{1}{10} & -\\frac{2}{11} & -\\frac{1}{4} & -\\frac{4}{13} & -\\frac{5}{14} & -\\frac{2}{5} & -\\frac{7}{16} & -\\frac{8}{17} & -\\frac{1}{2} & -\\frac{10}{19} & -\\frac{11}{20} & -\\frac{4}{7} & -\\frac{13}{22} & -\\frac{14}{23} & -\\frac{5}{8} & -\\frac{16}{25} & -\\frac{17}{26} & -\\frac{2}{3} & -\\frac{19}{28} & -\\frac{20}{29} & -\\frac{7}{10} & -\\frac{22}{31} & -\\frac{23}{32} & -\\frac{8}{11} & -\\frac{25}{34} \\\\\n",
       "\\frac{5}{6} & \\frac{4}{7} & \\frac{3}{8} & \\frac{2}{9} & \\frac{1}{10} & 0 & -\\frac{1}{12} & -\\frac{2}{13} & -\\frac{3}{14} & -\\frac{4}{15} & -\\frac{5}{16} & -\\frac{6}{17} & -\\frac{7}{18} & -\\frac{8}{19} & -\\frac{9}{20} & -\\frac{10}{21} & -\\frac{1}{2} & -\\frac{12}{23} & -\\frac{13}{24} & -\\frac{14}{25} & -\\frac{15}{26} & -\\frac{16}{27} & -\\frac{17}{28} & -\\frac{18}{29} & -\\frac{19}{30} & -\\frac{20}{31} & -\\frac{21}{32} & -\\frac{2}{3} & -\\frac{23}{34} & -\\frac{24}{35} \\\\\n",
       "\\frac{6}{7} & \\frac{5}{8} & \\frac{4}{9} & \\frac{3}{10} & \\frac{2}{11} & \\frac{1}{12} & 0 & -\\frac{1}{14} & -\\frac{2}{15} & -\\frac{3}{16} & -\\frac{4}{17} & -\\frac{5}{18} & -\\frac{6}{19} & -\\frac{7}{20} & -\\frac{8}{21} & -\\frac{9}{22} & -\\frac{10}{23} & -\\frac{11}{24} & -\\frac{12}{25} & -\\frac{1}{2} & -\\frac{14}{27} & -\\frac{15}{28} & -\\frac{16}{29} & -\\frac{17}{30} & -\\frac{18}{31} & -\\frac{19}{32} & -\\frac{20}{33} & -\\frac{21}{34} & -\\frac{22}{35} & -\\frac{23}{36} \\\\\n",
       "\\frac{7}{8} & \\frac{2}{3} & \\frac{1}{2} & \\frac{4}{11} & \\frac{1}{4} & \\frac{2}{13} & \\frac{1}{14} & 0 & -\\frac{1}{16} & -\\frac{2}{17} & -\\frac{1}{6} & -\\frac{4}{19} & -\\frac{1}{4} & -\\frac{2}{7} & -\\frac{7}{22} & -\\frac{8}{23} & -\\frac{3}{8} & -\\frac{2}{5} & -\\frac{11}{26} & -\\frac{4}{9} & -\\frac{13}{28} & -\\frac{14}{29} & -\\frac{1}{2} & -\\frac{16}{31} & -\\frac{17}{32} & -\\frac{6}{11} & -\\frac{19}{34} & -\\frac{4}{7} & -\\frac{7}{12} & -\\frac{22}{37} \\\\\n",
       "\\frac{8}{9} & \\frac{7}{10} & \\frac{6}{11} & \\frac{5}{12} & \\frac{4}{13} & \\frac{3}{14} & \\frac{2}{15} & \\frac{1}{16} & 0 & -\\frac{1}{18} & -\\frac{2}{19} & -\\frac{3}{20} & -\\frac{4}{21} & -\\frac{5}{22} & -\\frac{6}{23} & -\\frac{7}{24} & -\\frac{8}{25} & -\\frac{9}{26} & -\\frac{10}{27} & -\\frac{11}{28} & -\\frac{12}{29} & -\\frac{13}{30} & -\\frac{14}{31} & -\\frac{15}{32} & -\\frac{16}{33} & -\\frac{1}{2} & -\\frac{18}{35} & -\\frac{19}{36} & -\\frac{20}{37} & -\\frac{21}{38} \\\\\n",
       "\\frac{9}{10} & \\frac{8}{11} & \\frac{7}{12} & \\frac{6}{13} & \\frac{5}{14} & \\frac{4}{15} & \\frac{3}{16} & \\frac{2}{17} & \\frac{1}{18} & 0 & -\\frac{1}{20} & -\\frac{2}{21} & -\\frac{3}{22} & -\\frac{4}{23} & -\\frac{5}{24} & -\\frac{6}{25} & -\\frac{7}{26} & -\\frac{8}{27} & -\\frac{9}{28} & -\\frac{10}{29} & -\\frac{11}{30} & -\\frac{12}{31} & -\\frac{13}{32} & -\\frac{14}{33} & -\\frac{15}{34} & -\\frac{16}{35} & -\\frac{17}{36} & -\\frac{18}{37} & -\\frac{1}{2} & -\\frac{20}{39} \\\\\n",
       "\\frac{10}{11} & \\frac{3}{4} & \\frac{8}{13} & \\frac{1}{2} & \\frac{2}{5} & \\frac{5}{16} & \\frac{4}{17} & \\frac{1}{6} & \\frac{2}{19} & \\frac{1}{20} & 0 & -\\frac{1}{22} & -\\frac{2}{23} & -\\frac{1}{8} & -\\frac{4}{25} & -\\frac{5}{26} & -\\frac{2}{9} & -\\frac{1}{4} & -\\frac{8}{29} & -\\frac{3}{10} & -\\frac{10}{31} & -\\frac{11}{32} & -\\frac{4}{11} & -\\frac{13}{34} & -\\frac{2}{5} & -\\frac{5}{12} & -\\frac{16}{37} & -\\frac{17}{38} & -\\frac{6}{13} & -\\frac{19}{40} \\\\\n",
       "\\frac{11}{12} & \\frac{10}{13} & \\frac{9}{14} & \\frac{8}{15} & \\frac{7}{16} & \\frac{6}{17} & \\frac{5}{18} & \\frac{4}{19} & \\frac{3}{20} & \\frac{2}{21} & \\frac{1}{22} & 0 & -\\frac{1}{24} & -\\frac{2}{25} & -\\frac{3}{26} & -\\frac{4}{27} & -\\frac{5}{28} & -\\frac{6}{29} & -\\frac{7}{30} & -\\frac{8}{31} & -\\frac{9}{32} & -\\frac{10}{33} & -\\frac{11}{34} & -\\frac{12}{35} & -\\frac{13}{36} & -\\frac{14}{37} & -\\frac{15}{38} & -\\frac{16}{39} & -\\frac{17}{40} & -\\frac{18}{41} \\\\\n",
       "\\frac{12}{13} & \\frac{11}{14} & \\frac{2}{3} & \\frac{9}{16} & \\frac{8}{17} & \\frac{7}{18} & \\frac{6}{19} & \\frac{1}{4} & \\frac{4}{21} & \\frac{3}{22} & \\frac{2}{23} & \\frac{1}{24} & 0 & -\\frac{1}{26} & -\\frac{2}{27} & -\\frac{3}{28} & -\\frac{4}{29} & -\\frac{1}{6} & -\\frac{6}{31} & -\\frac{7}{32} & -\\frac{8}{33} & -\\frac{9}{34} & -\\frac{2}{7} & -\\frac{11}{36} & -\\frac{12}{37} & -\\frac{13}{38} & -\\frac{14}{39} & -\\frac{3}{8} & -\\frac{16}{41} & -\\frac{17}{42} \\\\\n",
       "\\frac{13}{14} & \\frac{4}{5} & \\frac{11}{16} & \\frac{10}{17} & \\frac{1}{2} & \\frac{8}{19} & \\frac{7}{20} & \\frac{2}{7} & \\frac{5}{22} & \\frac{4}{23} & \\frac{1}{8} & \\frac{2}{25} & \\frac{1}{26} & 0 & -\\frac{1}{28} & -\\frac{2}{29} & -\\frac{1}{10} & -\\frac{4}{31} & -\\frac{5}{32} & -\\frac{2}{11} & -\\frac{7}{34} & -\\frac{8}{35} & -\\frac{1}{4} & -\\frac{10}{37} & -\\frac{11}{38} & -\\frac{4}{13} & -\\frac{13}{40} & -\\frac{14}{41} & -\\frac{5}{14} & -\\frac{16}{43} \\\\\n",
       "\\frac{14}{15} & \\frac{13}{16} & \\frac{12}{17} & \\frac{11}{18} & \\frac{10}{19} & \\frac{9}{20} & \\frac{8}{21} & \\frac{7}{22} & \\frac{6}{23} & \\frac{5}{24} & \\frac{4}{25} & \\frac{3}{26} & \\frac{2}{27} & \\frac{1}{28} & 0 & -\\frac{1}{30} & -\\frac{2}{31} & -\\frac{3}{32} & -\\frac{4}{33} & -\\frac{5}{34} & -\\frac{6}{35} & -\\frac{7}{36} & -\\frac{8}{37} & -\\frac{9}{38} & -\\frac{10}{39} & -\\frac{11}{40} & -\\frac{12}{41} & -\\frac{13}{42} & -\\frac{14}{43} & -\\frac{15}{44}\n",
       "\\end{array}\\right)$$"
      ],
      "text/plain": [
       "[     0   -1/2   -2/3   -3/4   -4/5   -5/6   -6/7   -7/8   -8/9  -9/10 -10/11 -11/12 -12/13 -13/14 -14/15 -15/16 -16/17 -17/18 -18/19 -19/20 -20/21 -21/22 -22/23 -23/24 -24/25 -25/26 -26/27 -27/28 -28/29 -29/30]\n",
       "[   1/2      0   -1/4   -2/5   -1/2   -4/7   -5/8   -2/3  -7/10  -8/11   -3/4 -10/13 -11/14   -4/5 -13/16 -14/17   -5/6 -16/19 -17/20   -6/7 -19/22 -20/23   -7/8 -22/25 -23/26   -8/9 -25/28 -26/29  -9/10 -28/31]\n",
       "[   2/3    1/4      0   -1/6   -2/7   -3/8   -4/9   -1/2  -6/11  -7/12  -8/13  -9/14   -2/3 -11/16 -12/17 -13/18 -14/19   -3/4 -16/21 -17/22 -18/23 -19/24   -4/5 -21/26 -22/27 -23/28 -24/29   -5/6 -26/31 -27/32]\n",
       "[   3/4    2/5    1/6      0   -1/8   -2/9  -3/10  -4/11  -5/12  -6/13   -1/2  -8/15  -9/16 -10/17 -11/18 -12/19 -13/20   -2/3 -15/22 -16/23 -17/24 -18/25 -19/26 -20/27   -3/4 -22/29 -23/30 -24/31 -25/32 -26/33]\n",
       "[   4/5    1/2    2/7    1/8      0  -1/10  -2/11   -1/4  -4/13  -5/14   -2/5  -7/16  -8/17   -1/2 -10/19 -11/20   -4/7 -13/22 -14/23   -5/8 -16/25 -17/26   -2/3 -19/28 -20/29  -7/10 -22/31 -23/32  -8/11 -25/34]\n",
       "[   5/6    4/7    3/8    2/9   1/10      0  -1/12  -2/13  -3/14  -4/15  -5/16  -6/17  -7/18  -8/19  -9/20 -10/21   -1/2 -12/23 -13/24 -14/25 -15/26 -16/27 -17/28 -18/29 -19/30 -20/31 -21/32   -2/3 -23/34 -24/35]\n",
       "[   6/7    5/8    4/9   3/10   2/11   1/12      0  -1/14  -2/15  -3/16  -4/17  -5/18  -6/19  -7/20  -8/21  -9/22 -10/23 -11/24 -12/25   -1/2 -14/27 -15/28 -16/29 -17/30 -18/31 -19/32 -20/33 -21/34 -22/35 -23/36]\n",
       "[   7/8    2/3    1/2   4/11    1/4   2/13   1/14      0  -1/16  -2/17   -1/6  -4/19   -1/4   -2/7  -7/22  -8/23   -3/8   -2/5 -11/26   -4/9 -13/28 -14/29   -1/2 -16/31 -17/32  -6/11 -19/34   -4/7  -7/12 -22/37]\n",
       "[   8/9   7/10   6/11   5/12   4/13   3/14   2/15   1/16      0  -1/18  -2/19  -3/20  -4/21  -5/22  -6/23  -7/24  -8/25  -9/26 -10/27 -11/28 -12/29 -13/30 -14/31 -15/32 -16/33   -1/2 -18/35 -19/36 -20/37 -21/38]\n",
       "[  9/10   8/11   7/12   6/13   5/14   4/15   3/16   2/17   1/18      0  -1/20  -2/21  -3/22  -4/23  -5/24  -6/25  -7/26  -8/27  -9/28 -10/29 -11/30 -12/31 -13/32 -14/33 -15/34 -16/35 -17/36 -18/37   -1/2 -20/39]\n",
       "[ 10/11    3/4   8/13    1/2    2/5   5/16   4/17    1/6   2/19   1/20      0  -1/22  -2/23   -1/8  -4/25  -5/26   -2/9   -1/4  -8/29  -3/10 -10/31 -11/32  -4/11 -13/34   -2/5  -5/12 -16/37 -17/38  -6/13 -19/40]\n",
       "[ 11/12  10/13   9/14   8/15   7/16   6/17   5/18   4/19   3/20   2/21   1/22      0  -1/24  -2/25  -3/26  -4/27  -5/28  -6/29  -7/30  -8/31  -9/32 -10/33 -11/34 -12/35 -13/36 -14/37 -15/38 -16/39 -17/40 -18/41]\n",
       "[ 12/13  11/14    2/3   9/16   8/17   7/18   6/19    1/4   4/21   3/22   2/23   1/24      0  -1/26  -2/27  -3/28  -4/29   -1/6  -6/31  -7/32  -8/33  -9/34   -2/7 -11/36 -12/37 -13/38 -14/39   -3/8 -16/41 -17/42]\n",
       "[ 13/14    4/5  11/16  10/17    1/2   8/19   7/20    2/7   5/22   4/23    1/8   2/25   1/26      0  -1/28  -2/29  -1/10  -4/31  -5/32  -2/11  -7/34  -8/35   -1/4 -10/37 -11/38  -4/13 -13/40 -14/41  -5/14 -16/43]\n",
       "[ 14/15  13/16  12/17  11/18  10/19   9/20   8/21   7/22   6/23   5/24   4/25   3/26   2/27   1/28      0  -1/30  -2/31  -3/32  -4/33  -5/34  -6/35  -7/36  -8/37  -9/38 -10/39 -11/40 -12/41 -13/42 -14/43 -15/44]"
      ]
     },
     "metadata": {},
     "execution_count": 26
    }
   ],
   "metadata": {}
  },
  {
   "cell_type": "markdown",
   "source": [
    "<p>pretvaranje matrice u string</p>"
   ],
   "metadata": {}
  },
  {
   "cell_type": "code",
   "execution_count": 27,
   "source": [
    "print(M.str())"
   ],
   "outputs": [
    {
     "output_type": "stream",
     "name": "stdout",
     "text": [
      "[     0   -1/2   -2/3   -3/4   -4/5   -5/6   -6/7   -7/8   -8/9  -9/10 -10/11 -11/12 -12/13 -13/14 -14/15 -15/16 -16/17 -17/18 -18/19 -19/20 -20/21 -21/22 -22/23 -23/24 -24/25 -25/26 -26/27 -27/28 -28/29 -29/30]\n",
      "[   1/2      0   -1/4   -2/5   -1/2   -4/7   -5/8   -2/3  -7/10  -8/11   -3/4 -10/13 -11/14   -4/5 -13/16 -14/17   -5/6 -16/19 -17/20   -6/7 -19/22 -20/23   -7/8 -22/25 -23/26   -8/9 -25/28 -26/29  -9/10 -28/31]\n",
      "[   2/3    1/4      0   -1/6   -2/7   -3/8   -4/9   -1/2  -6/11  -7/12  -8/13  -9/14   -2/3 -11/16 -12/17 -13/18 -14/19   -3/4 -16/21 -17/22 -18/23 -19/24   -4/5 -21/26 -22/27 -23/28 -24/29   -5/6 -26/31 -27/32]\n",
      "[   3/4    2/5    1/6      0   -1/8   -2/9  -3/10  -4/11  -5/12  -6/13   -1/2  -8/15  -9/16 -10/17 -11/18 -12/19 -13/20   -2/3 -15/22 -16/23 -17/24 -18/25 -19/26 -20/27   -3/4 -22/29 -23/30 -24/31 -25/32 -26/33]\n",
      "[   4/5    1/2    2/7    1/8      0  -1/10  -2/11   -1/4  -4/13  -5/14   -2/5  -7/16  -8/17   -1/2 -10/19 -11/20   -4/7 -13/22 -14/23   -5/8 -16/25 -17/26   -2/3 -19/28 -20/29  -7/10 -22/31 -23/32  -8/11 -25/34]\n",
      "[   5/6    4/7    3/8    2/9   1/10      0  -1/12  -2/13  -3/14  -4/15  -5/16  -6/17  -7/18  -8/19  -9/20 -10/21   -1/2 -12/23 -13/24 -14/25 -15/26 -16/27 -17/28 -18/29 -19/30 -20/31 -21/32   -2/3 -23/34 -24/35]\n",
      "[   6/7    5/8    4/9   3/10   2/11   1/12      0  -1/14  -2/15  -3/16  -4/17  -5/18  -6/19  -7/20  -8/21  -9/22 -10/23 -11/24 -12/25   -1/2 -14/27 -15/28 -16/29 -17/30 -18/31 -19/32 -20/33 -21/34 -22/35 -23/36]\n",
      "[   7/8    2/3    1/2   4/11    1/4   2/13   1/14      0  -1/16  -2/17   -1/6  -4/19   -1/4   -2/7  -7/22  -8/23   -3/8   -2/5 -11/26   -4/9 -13/28 -14/29   -1/2 -16/31 -17/32  -6/11 -19/34   -4/7  -7/12 -22/37]\n",
      "[   8/9   7/10   6/11   5/12   4/13   3/14   2/15   1/16      0  -1/18  -2/19  -3/20  -4/21  -5/22  -6/23  -7/24  -8/25  -9/26 -10/27 -11/28 -12/29 -13/30 -14/31 -15/32 -16/33   -1/2 -18/35 -19/36 -20/37 -21/38]\n",
      "[  9/10   8/11   7/12   6/13   5/14   4/15   3/16   2/17   1/18      0  -1/20  -2/21  -3/22  -4/23  -5/24  -6/25  -7/26  -8/27  -9/28 -10/29 -11/30 -12/31 -13/32 -14/33 -15/34 -16/35 -17/36 -18/37   -1/2 -20/39]\n",
      "[ 10/11    3/4   8/13    1/2    2/5   5/16   4/17    1/6   2/19   1/20      0  -1/22  -2/23   -1/8  -4/25  -5/26   -2/9   -1/4  -8/29  -3/10 -10/31 -11/32  -4/11 -13/34   -2/5  -5/12 -16/37 -17/38  -6/13 -19/40]\n",
      "[ 11/12  10/13   9/14   8/15   7/16   6/17   5/18   4/19   3/20   2/21   1/22      0  -1/24  -2/25  -3/26  -4/27  -5/28  -6/29  -7/30  -8/31  -9/32 -10/33 -11/34 -12/35 -13/36 -14/37 -15/38 -16/39 -17/40 -18/41]\n",
      "[ 12/13  11/14    2/3   9/16   8/17   7/18   6/19    1/4   4/21   3/22   2/23   1/24      0  -1/26  -2/27  -3/28  -4/29   -1/6  -6/31  -7/32  -8/33  -9/34   -2/7 -11/36 -12/37 -13/38 -14/39   -3/8 -16/41 -17/42]\n",
      "[ 13/14    4/5  11/16  10/17    1/2   8/19   7/20    2/7   5/22   4/23    1/8   2/25   1/26      0  -1/28  -2/29  -1/10  -4/31  -5/32  -2/11  -7/34  -8/35   -1/4 -10/37 -11/38  -4/13 -13/40 -14/41  -5/14 -16/43]\n",
      "[ 14/15  13/16  12/17  11/18  10/19   9/20   8/21   7/22   6/23   5/24   4/25   3/26   2/27   1/28      0  -1/30  -2/31  -3/32  -4/33  -5/34  -6/35  -7/36  -8/37  -9/38 -10/39 -11/40 -12/41 -13/42 -14/43 -15/44]\n"
     ]
    }
   ],
   "metadata": {}
  },
  {
   "cell_type": "markdown",
   "source": [
    "<p>ispis matrice u datoteku</p>"
   ],
   "metadata": {}
  },
  {
   "cell_type": "code",
   "execution_count": 28,
   "source": [
    "f=open('M.txt','w')\n",
    "f.write(M.str())\n",
    "f.close()"
   ],
   "outputs": [],
   "metadata": {}
  },
  {
   "cell_type": "markdown",
   "source": [
    "<a href=\"M.txt\" target=\"_blank\">M.txt</a>"
   ],
   "metadata": {}
  },
  {
   "cell_type": "code",
   "execution_count": 29,
   "source": [
    "M2=matrix(300,200,lambda i,j:2*i-j)"
   ],
   "outputs": [],
   "metadata": {}
  },
  {
   "cell_type": "code",
   "execution_count": 30,
   "source": [
    "f=open('M2.txt','w')\n",
    "f.write(M2.str())\n",
    "f.close()"
   ],
   "outputs": [],
   "metadata": {}
  },
  {
   "cell_type": "markdown",
   "source": [
    "<a href=\"M2.txt\" target=\"_blank\">M2.txt</a>"
   ],
   "metadata": {}
  },
  {
   "cell_type": "code",
   "execution_count": null,
   "source": [],
   "outputs": [],
   "metadata": {}
  }
 ],
 "metadata": {
  "kernelspec": {
   "display_name": "SageMath 9.4",
   "language": "sage",
   "name": "sagemath"
  },
  "language": "python",
  "language_info": {
   "name": "python",
   "version": "3.9.7",
   "mimetype": "text/x-python",
   "codemirror_mode": {
    "name": "ipython",
    "version": 3
   },
   "pygments_lexer": "ipython3",
   "nbconvert_exporter": "python",
   "file_extension": ".py"
  }
 },
 "nbformat": 4,
 "nbformat_minor": 2
}