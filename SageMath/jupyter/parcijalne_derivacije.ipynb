{
 "cells": [
  {
   "cell_type": "markdown",
   "metadata": {},
   "source": [
    "<h1>Parcijalne derivacije u SAGE-u</h1>\n",
    "<p style=\"font-style:italic;\">verzija: SageMath 9.4</p>"
   ]
  },
  {
   "cell_type": "code",
   "execution_count": 1,
   "metadata": {},
   "outputs": [],
   "source": [
    "%display latex"
   ]
  },
  {
   "cell_type": "code",
   "execution_count": 2,
   "metadata": {},
   "outputs": [
    {
     "data": {
      "text/html": [
       "<html>\\[\\newcommand{\\Bold}[1]{\\mathbf{#1}}\\left(y, z\\right)\\]</html>"
      ],
      "text/latex": [
       "$$\\newcommand{\\Bold}[1]{\\mathbf{#1}}\\left(y, z\\right)$$"
      ],
      "text/plain": [
       "(y, z)"
      ]
     },
     "execution_count": 2,
     "metadata": {},
     "output_type": "execute_result"
    }
   ],
   "source": [
    "var('y z')"
   ]
  },
  {
   "cell_type": "markdown",
   "metadata": {},
   "source": [
    "<div style=\"background-color: #F5FFFA; color: #000000; border: 2px solid #B0C4DE; border-radius: 15px; padding:0px 10px 25px; overflow:auto\">\n",
    "<h3>1. zadatak</h3>\n",
    "<p style=\"line-height:20px;\">Odredite parcijalne derivacije sljedećih funkcija:</p>\n",
    "<ol style=\"list-style-type:lower-alpha;line-height:40px;\">\n",
    "<li>$g(x,y)=3x^2+xy+\\sqrt{y}$</li>\n",
    "<li>$z=ye^y+\\sqrt{x}$</li>\n",
    "<li>$u(x,y)=\\frac{2x-y}{x+y}$</li>\n",
    "<li>$z=2^{\\sin{\\frac{y}{x}}}$</li>\n",
    "<li>$z=\\ln{\\left(\\mathop{\\mathrm{tg}}{\\frac{x}{y}}\\right)}$</li>\n",
    "<li>$f(x,y,z)=e^{2xz}-\\log_2{(yz)}+1$</li>\n",
    "</ol>\n",
    "</div>\n",
    "<h3>Rješenje</h3>"
   ]
  },
  {
   "cell_type": "markdown",
   "metadata": {},
   "source": [
    "<h4>a) dio</h4>"
   ]
  },
  {
   "cell_type": "code",
   "execution_count": 3,
   "metadata": {},
   "outputs": [
    {
     "data": {
      "text/html": [
       "<html>\\[\\newcommand{\\Bold}[1]{\\mathbf{#1}}6 \\, x + y\\]</html>"
      ],
      "text/latex": [
       "$$\\newcommand{\\Bold}[1]{\\mathbf{#1}}6 \\, x + y$$"
      ],
      "text/plain": [
       "6*x + y"
      ]
     },
     "execution_count": 3,
     "metadata": {},
     "output_type": "execute_result"
    }
   ],
   "source": [
    "diff(3*x^2+x*y+y^(1/2),x)"
   ]
  },
  {
   "cell_type": "code",
   "execution_count": 4,
   "metadata": {},
   "outputs": [
    {
     "data": {
      "text/html": [
       "<html>\\[\\newcommand{\\Bold}[1]{\\mathbf{#1}}x + \\frac{1}{2 \\, \\sqrt{y}}\\]</html>"
      ],
      "text/latex": [
       "$$\\newcommand{\\Bold}[1]{\\mathbf{#1}}x + \\frac{1}{2 \\, \\sqrt{y}}$$"
      ],
      "text/plain": [
       "x + 1/2/sqrt(y)"
      ]
     },
     "execution_count": 4,
     "metadata": {},
     "output_type": "execute_result"
    }
   ],
   "source": [
    "diff(3*x^2+x*y+y^(1/2),y)"
   ]
  },
  {
   "cell_type": "markdown",
   "metadata": {},
   "source": [
    "<h4>b) dio</h4>"
   ]
  },
  {
   "cell_type": "code",
   "execution_count": 5,
   "metadata": {},
   "outputs": [
    {
     "data": {
      "text/html": [
       "<html>\\[\\newcommand{\\Bold}[1]{\\mathbf{#1}}\\frac{1}{2 \\, \\sqrt{x}}\\]</html>"
      ],
      "text/latex": [
       "$$\\newcommand{\\Bold}[1]{\\mathbf{#1}}\\frac{1}{2 \\, \\sqrt{x}}$$"
      ],
      "text/plain": [
       "1/2/sqrt(x)"
      ]
     },
     "execution_count": 5,
     "metadata": {},
     "output_type": "execute_result"
    }
   ],
   "source": [
    "diff(y*e^y+x^(1/2),x)"
   ]
  },
  {
   "cell_type": "code",
   "execution_count": 6,
   "metadata": {},
   "outputs": [
    {
     "data": {
      "text/html": [
       "<html>\\[\\newcommand{\\Bold}[1]{\\mathbf{#1}}y e^{y} + e^{y}\\]</html>"
      ],
      "text/latex": [
       "$$\\newcommand{\\Bold}[1]{\\mathbf{#1}}y e^{y} + e^{y}$$"
      ],
      "text/plain": [
       "y*e^y + e^y"
      ]
     },
     "execution_count": 6,
     "metadata": {},
     "output_type": "execute_result"
    }
   ],
   "source": [
    "diff(y*e^y+x^(1/2),y)"
   ]
  },
  {
   "cell_type": "code",
   "execution_count": 7,
   "metadata": {},
   "outputs": [
    {
     "data": {
      "text/html": [
       "<html>\\[\\newcommand{\\Bold}[1]{\\mathbf{#1}}{\\left(y + 1\\right)} e^{y}\\]</html>"
      ],
      "text/latex": [
       "$$\\newcommand{\\Bold}[1]{\\mathbf{#1}}{\\left(y + 1\\right)} e^{y}$$"
      ],
      "text/plain": [
       "(y + 1)*e^y"
      ]
     },
     "execution_count": 7,
     "metadata": {},
     "output_type": "execute_result"
    }
   ],
   "source": [
    "factor(diff(y*e^y+x^(1/2),y))"
   ]
  },
  {
   "cell_type": "code",
   "execution_count": 8,
   "metadata": {},
   "outputs": [
    {
     "data": {
      "text/html": [
       "<html>\\[\\newcommand{\\Bold}[1]{\\mathbf{#1}}{\\left(y + 1\\right)} e^{y}\\]</html>"
      ],
      "text/latex": [
       "$$\\newcommand{\\Bold}[1]{\\mathbf{#1}}{\\left(y + 1\\right)} e^{y}$$"
      ],
      "text/plain": [
       "(y + 1)*e^y"
      ]
     },
     "execution_count": 8,
     "metadata": {},
     "output_type": "execute_result"
    }
   ],
   "source": [
    "diff(y*e^y+x^(1/2),y).factor()"
   ]
  },
  {
   "cell_type": "markdown",
   "metadata": {},
   "source": [
    "<h4>c) dio</h4>"
   ]
  },
  {
   "cell_type": "code",
   "execution_count": 9,
   "metadata": {},
   "outputs": [
    {
     "data": {
      "text/html": [
       "<html>\\[\\newcommand{\\Bold}[1]{\\mathbf{#1}}-\\frac{2 \\, x - y}{{\\left(x + y\\right)}^{2}} + \\frac{2}{x + y}\\]</html>"
      ],
      "text/latex": [
       "$$\\newcommand{\\Bold}[1]{\\mathbf{#1}}-\\frac{2 \\, x - y}{{\\left(x + y\\right)}^{2}} + \\frac{2}{x + y}$$"
      ],
      "text/plain": [
       "-(2*x - y)/(x + y)^2 + 2/(x + y)"
      ]
     },
     "execution_count": 9,
     "metadata": {},
     "output_type": "execute_result"
    }
   ],
   "source": [
    "diff((2*x-y)/(x+y),x)"
   ]
  },
  {
   "cell_type": "code",
   "execution_count": 10,
   "metadata": {},
   "outputs": [
    {
     "data": {
      "text/html": [
       "<html>\\[\\newcommand{\\Bold}[1]{\\mathbf{#1}}\\frac{3 \\, y}{{\\left(x + y\\right)}^{2}}\\]</html>"
      ],
      "text/latex": [
       "$$\\newcommand{\\Bold}[1]{\\mathbf{#1}}\\frac{3 \\, y}{{\\left(x + y\\right)}^{2}}$$"
      ],
      "text/plain": [
       "3*y/(x + y)^2"
      ]
     },
     "execution_count": 10,
     "metadata": {},
     "output_type": "execute_result"
    }
   ],
   "source": [
    "diff((2*x-y)/(x+y),x).factor()"
   ]
  },
  {
   "cell_type": "code",
   "execution_count": 11,
   "metadata": {},
   "outputs": [
    {
     "data": {
      "text/html": [
       "<html>\\[\\newcommand{\\Bold}[1]{\\mathbf{#1}}-\\frac{2 \\, x - y}{{\\left(x + y\\right)}^{2}} - \\frac{1}{x + y}\\]</html>"
      ],
      "text/latex": [
       "$$\\newcommand{\\Bold}[1]{\\mathbf{#1}}-\\frac{2 \\, x - y}{{\\left(x + y\\right)}^{2}} - \\frac{1}{x + y}$$"
      ],
      "text/plain": [
       "-(2*x - y)/(x + y)^2 - 1/(x + y)"
      ]
     },
     "execution_count": 11,
     "metadata": {},
     "output_type": "execute_result"
    }
   ],
   "source": [
    "diff((2*x-y)/(x+y),y)"
   ]
  },
  {
   "cell_type": "code",
   "execution_count": 12,
   "metadata": {},
   "outputs": [
    {
     "data": {
      "text/html": [
       "<html>\\[\\newcommand{\\Bold}[1]{\\mathbf{#1}}-\\frac{3 \\, x}{{\\left(x + y\\right)}^{2}}\\]</html>"
      ],
      "text/latex": [
       "$$\\newcommand{\\Bold}[1]{\\mathbf{#1}}-\\frac{3 \\, x}{{\\left(x + y\\right)}^{2}}$$"
      ],
      "text/plain": [
       "-3*x/(x + y)^2"
      ]
     },
     "execution_count": 12,
     "metadata": {},
     "output_type": "execute_result"
    }
   ],
   "source": [
    "diff((2*x-y)/(x+y),y).factor()"
   ]
  },
  {
   "cell_type": "markdown",
   "metadata": {},
   "source": [
    "<h4>d) dio</h4>"
   ]
  },
  {
   "cell_type": "code",
   "execution_count": 13,
   "metadata": {},
   "outputs": [
    {
     "data": {
      "text/html": [
       "<html>\\[\\newcommand{\\Bold}[1]{\\mathbf{#1}}-\\frac{2^{\\sin\\left(\\frac{y}{x}\\right)} y \\cos\\left(\\frac{y}{x}\\right) \\log\\left(2\\right)}{x^{2}}\\]</html>"
      ],
      "text/latex": [
       "$$\\newcommand{\\Bold}[1]{\\mathbf{#1}}-\\frac{2^{\\sin\\left(\\frac{y}{x}\\right)} y \\cos\\left(\\frac{y}{x}\\right) \\log\\left(2\\right)}{x^{2}}$$"
      ],
      "text/plain": [
       "-2^sin(y/x)*y*cos(y/x)*log(2)/x^2"
      ]
     },
     "execution_count": 13,
     "metadata": {},
     "output_type": "execute_result"
    }
   ],
   "source": [
    "diff(2^(sin(y/x)),x)"
   ]
  },
  {
   "cell_type": "code",
   "execution_count": 14,
   "metadata": {},
   "outputs": [
    {
     "data": {
      "text/html": [
       "<html>\\[\\newcommand{\\Bold}[1]{\\mathbf{#1}}\\frac{2^{\\sin\\left(\\frac{y}{x}\\right)} \\cos\\left(\\frac{y}{x}\\right) \\log\\left(2\\right)}{x}\\]</html>"
      ],
      "text/latex": [
       "$$\\newcommand{\\Bold}[1]{\\mathbf{#1}}\\frac{2^{\\sin\\left(\\frac{y}{x}\\right)} \\cos\\left(\\frac{y}{x}\\right) \\log\\left(2\\right)}{x}$$"
      ],
      "text/plain": [
       "2^sin(y/x)*cos(y/x)*log(2)/x"
      ]
     },
     "execution_count": 14,
     "metadata": {},
     "output_type": "execute_result"
    }
   ],
   "source": [
    "diff(2^(sin(y/x)),y)"
   ]
  },
  {
   "cell_type": "markdown",
   "metadata": {},
   "source": [
    "<h4>e) dio</h4>"
   ]
  },
  {
   "cell_type": "code",
   "execution_count": 15,
   "metadata": {},
   "outputs": [
    {
     "data": {
      "text/html": [
       "<html>\\[\\newcommand{\\Bold}[1]{\\mathbf{#1}}\\frac{\\tan\\left(\\frac{x}{y}\\right)^{2} + 1}{y \\tan\\left(\\frac{x}{y}\\right)}\\]</html>"
      ],
      "text/latex": [
       "$$\\newcommand{\\Bold}[1]{\\mathbf{#1}}\\frac{\\tan\\left(\\frac{x}{y}\\right)^{2} + 1}{y \\tan\\left(\\frac{x}{y}\\right)}$$"
      ],
      "text/plain": [
       "(tan(x/y)^2 + 1)/(y*tan(x/y))"
      ]
     },
     "execution_count": 15,
     "metadata": {},
     "output_type": "execute_result"
    }
   ],
   "source": [
    "diff(log(tan(x/y)),x)"
   ]
  },
  {
   "cell_type": "code",
   "execution_count": 16,
   "metadata": {},
   "outputs": [
    {
     "data": {
      "text/html": [
       "<html>\\[\\newcommand{\\Bold}[1]{\\mathbf{#1}}\\frac{1}{y \\cos\\left(\\frac{x}{y}\\right) \\sin\\left(\\frac{x}{y}\\right)}\\]</html>"
      ],
      "text/latex": [
       "$$\\newcommand{\\Bold}[1]{\\mathbf{#1}}\\frac{1}{y \\cos\\left(\\frac{x}{y}\\right) \\sin\\left(\\frac{x}{y}\\right)}$$"
      ],
      "text/plain": [
       "1/(y*cos(x/y)*sin(x/y))"
      ]
     },
     "execution_count": 16,
     "metadata": {},
     "output_type": "execute_result"
    }
   ],
   "source": [
    "diff(log(tan(x/y)),x).simplify_trig()"
   ]
  },
  {
   "cell_type": "code",
   "execution_count": 17,
   "metadata": {},
   "outputs": [
    {
     "data": {
      "text/html": [
       "<html>\\[\\newcommand{\\Bold}[1]{\\mathbf{#1}}-\\frac{{\\left(\\tan\\left(\\frac{x}{y}\\right)^{2} + 1\\right)} x}{y^{2} \\tan\\left(\\frac{x}{y}\\right)}\\]</html>"
      ],
      "text/latex": [
       "$$\\newcommand{\\Bold}[1]{\\mathbf{#1}}-\\frac{{\\left(\\tan\\left(\\frac{x}{y}\\right)^{2} + 1\\right)} x}{y^{2} \\tan\\left(\\frac{x}{y}\\right)}$$"
      ],
      "text/plain": [
       "-(tan(x/y)^2 + 1)*x/(y^2*tan(x/y))"
      ]
     },
     "execution_count": 17,
     "metadata": {},
     "output_type": "execute_result"
    }
   ],
   "source": [
    "diff(log(tan(x/y)),y)"
   ]
  },
  {
   "cell_type": "code",
   "execution_count": 18,
   "metadata": {},
   "outputs": [
    {
     "data": {
      "text/html": [
       "<html>\\[\\newcommand{\\Bold}[1]{\\mathbf{#1}}-\\frac{x}{y^{2} \\cos\\left(\\frac{x}{y}\\right) \\sin\\left(\\frac{x}{y}\\right)}\\]</html>"
      ],
      "text/latex": [
       "$$\\newcommand{\\Bold}[1]{\\mathbf{#1}}-\\frac{x}{y^{2} \\cos\\left(\\frac{x}{y}\\right) \\sin\\left(\\frac{x}{y}\\right)}$$"
      ],
      "text/plain": [
       "-x/(y^2*cos(x/y)*sin(x/y))"
      ]
     },
     "execution_count": 18,
     "metadata": {},
     "output_type": "execute_result"
    }
   ],
   "source": [
    "diff(log(tan(x/y)),y).simplify_trig()"
   ]
  },
  {
   "cell_type": "markdown",
   "metadata": {},
   "source": [
    "<h4>f) dio</h4>"
   ]
  },
  {
   "cell_type": "code",
   "execution_count": 19,
   "metadata": {},
   "outputs": [
    {
     "data": {
      "text/html": [
       "<html>\\[\\newcommand{\\Bold}[1]{\\mathbf{#1}}2 \\, z e^{\\left(2 \\, x z\\right)}\\]</html>"
      ],
      "text/latex": [
       "$$\\newcommand{\\Bold}[1]{\\mathbf{#1}}2 \\, z e^{\\left(2 \\, x z\\right)}$$"
      ],
      "text/plain": [
       "2*z*e^(2*x*z)"
      ]
     },
     "execution_count": 19,
     "metadata": {},
     "output_type": "execute_result"
    }
   ],
   "source": [
    "diff(e^(2*x*z)-log(y*z,2)+1,x)"
   ]
  },
  {
   "cell_type": "code",
   "execution_count": 20,
   "metadata": {},
   "outputs": [
    {
     "data": {
      "text/html": [
       "<html>\\[\\newcommand{\\Bold}[1]{\\mathbf{#1}}-\\frac{1}{y \\log\\left(2\\right)}\\]</html>"
      ],
      "text/latex": [
       "$$\\newcommand{\\Bold}[1]{\\mathbf{#1}}-\\frac{1}{y \\log\\left(2\\right)}$$"
      ],
      "text/plain": [
       "-1/(y*log(2))"
      ]
     },
     "execution_count": 20,
     "metadata": {},
     "output_type": "execute_result"
    }
   ],
   "source": [
    "diff(e^(2*x*z)-log(y*z,2)+1,y)"
   ]
  },
  {
   "cell_type": "code",
   "execution_count": 21,
   "metadata": {},
   "outputs": [
    {
     "data": {
      "text/html": [
       "<html>\\[\\newcommand{\\Bold}[1]{\\mathbf{#1}}2 \\, x e^{\\left(2 \\, x z\\right)} - \\frac{1}{z \\log\\left(2\\right)}\\]</html>"
      ],
      "text/latex": [
       "$$\\newcommand{\\Bold}[1]{\\mathbf{#1}}2 \\, x e^{\\left(2 \\, x z\\right)} - \\frac{1}{z \\log\\left(2\\right)}$$"
      ],
      "text/plain": [
       "2*x*e^(2*x*z) - 1/(z*log(2))"
      ]
     },
     "execution_count": 21,
     "metadata": {},
     "output_type": "execute_result"
    }
   ],
   "source": [
    "diff(e^(2*x*z)-log(y*z,2)+1,z)"
   ]
  },
  {
   "cell_type": "markdown",
   "metadata": {},
   "source": [
    "<div style=\"background-color: #F5FFFA; color: #000000; border: 2px solid #B0C4DE; border-radius: 15px; padding:0px 10px 25px; overflow:auto\">\n",
    "<h3>2. zadatak</h3>\n",
    "<p style=\"line-height:30px;\">Odredite parcijalne derivacije drugog reda funkcije $z=\\ln{\\big(x^2+xy+y^2\\big)}.$</p>\n",
    "</div>\n",
    "<h3>Rješenje</h3>"
   ]
  },
  {
   "cell_type": "code",
   "execution_count": 22,
   "metadata": {},
   "outputs": [],
   "source": [
    "f(x,y)=log(x^2+x*y+y^2)"
   ]
  },
  {
   "cell_type": "markdown",
   "metadata": {},
   "source": [
    "<h4>Parcijalne derivacije prvog reda</h4>"
   ]
  },
  {
   "cell_type": "code",
   "execution_count": 23,
   "metadata": {},
   "outputs": [
    {
     "data": {
      "text/html": [
       "<html>\\[\\newcommand{\\Bold}[1]{\\mathbf{#1}}\\frac{2 \\, x + y}{x^{2} + x y + y^{2}}\\]</html>"
      ],
      "text/latex": [
       "$$\\newcommand{\\Bold}[1]{\\mathbf{#1}}\\frac{2 \\, x + y}{x^{2} + x y + y^{2}}$$"
      ],
      "text/plain": [
       "(2*x + y)/(x^2 + x*y + y^2)"
      ]
     },
     "execution_count": 23,
     "metadata": {},
     "output_type": "execute_result"
    }
   ],
   "source": [
    "diff(f(x,y),x)"
   ]
  },
  {
   "cell_type": "code",
   "execution_count": 24,
   "metadata": {},
   "outputs": [
    {
     "data": {
      "text/html": [
       "<html>\\[\\newcommand{\\Bold}[1]{\\mathbf{#1}}\\frac{x + 2 \\, y}{x^{2} + x y + y^{2}}\\]</html>"
      ],
      "text/latex": [
       "$$\\newcommand{\\Bold}[1]{\\mathbf{#1}}\\frac{x + 2 \\, y}{x^{2} + x y + y^{2}}$$"
      ],
      "text/plain": [
       "(x + 2*y)/(x^2 + x*y + y^2)"
      ]
     },
     "execution_count": 24,
     "metadata": {},
     "output_type": "execute_result"
    }
   ],
   "source": [
    "diff(f(x,y),y)"
   ]
  },
  {
   "cell_type": "markdown",
   "metadata": {},
   "source": [
    "<p>Ako želimo parcijalne derivacije definirati kao nove funkcije</p>"
   ]
  },
  {
   "cell_type": "code",
   "execution_count": 25,
   "metadata": {},
   "outputs": [
    {
     "data": {
      "text/html": [
       "<html>\\[\\newcommand{\\Bold}[1]{\\mathbf{#1}}\\left( x, y \\right) \\ {\\mapsto} \\ \\frac{2 \\, x + y}{x^{2} + x y + y^{2}}\\]</html>"
      ],
      "text/latex": [
       "$$\\newcommand{\\Bold}[1]{\\mathbf{#1}}\\left( x, y \\right) \\ {\\mapsto} \\ \\frac{2 \\, x + y}{x^{2} + x y + y^{2}}$$"
      ],
      "text/plain": [
       "(x, y) |--> (2*x + y)/(x^2 + x*y + y^2)"
      ]
     },
     "execution_count": 25,
     "metadata": {},
     "output_type": "execute_result"
    }
   ],
   "source": [
    "diff(f,x)"
   ]
  },
  {
   "cell_type": "code",
   "execution_count": 26,
   "metadata": {},
   "outputs": [
    {
     "data": {
      "text/html": [
       "<html>\\[\\newcommand{\\Bold}[1]{\\mathbf{#1}}\\left( x, y \\right) \\ {\\mapsto} \\ \\frac{x + 2 \\, y}{x^{2} + x y + y^{2}}\\]</html>"
      ],
      "text/latex": [
       "$$\\newcommand{\\Bold}[1]{\\mathbf{#1}}\\left( x, y \\right) \\ {\\mapsto} \\ \\frac{x + 2 \\, y}{x^{2} + x y + y^{2}}$$"
      ],
      "text/plain": [
       "(x, y) |--> (x + 2*y)/(x^2 + x*y + y^2)"
      ]
     },
     "execution_count": 26,
     "metadata": {},
     "output_type": "execute_result"
    }
   ],
   "source": [
    "diff(f,y)"
   ]
  },
  {
   "cell_type": "code",
   "execution_count": 27,
   "metadata": {},
   "outputs": [],
   "source": [
    "fx(x,y)=diff(f,x)\n",
    "fy(x,y)=diff(f,y)"
   ]
  },
  {
   "cell_type": "markdown",
   "metadata": {},
   "source": [
    "<p>Računanje vrijednosti parcijalnih derivacija u nekoj točki</p>"
   ]
  },
  {
   "cell_type": "code",
   "execution_count": 28,
   "metadata": {},
   "outputs": [
    {
     "data": {
      "text/html": [
       "<html>\\[\\newcommand{\\Bold}[1]{\\mathbf{#1}}\\frac{4}{7}\\]</html>"
      ],
      "text/latex": [
       "$$\\newcommand{\\Bold}[1]{\\mathbf{#1}}\\frac{4}{7}$$"
      ],
      "text/plain": [
       "4/7"
      ]
     },
     "execution_count": 28,
     "metadata": {},
     "output_type": "execute_result"
    }
   ],
   "source": [
    "fx(1,2)"
   ]
  },
  {
   "cell_type": "code",
   "execution_count": 29,
   "metadata": {},
   "outputs": [
    {
     "data": {
      "text/html": [
       "<html>\\[\\newcommand{\\Bold}[1]{\\mathbf{#1}}\\frac{5}{7}\\]</html>"
      ],
      "text/latex": [
       "$$\\newcommand{\\Bold}[1]{\\mathbf{#1}}\\frac{5}{7}$$"
      ],
      "text/plain": [
       "5/7"
      ]
     },
     "execution_count": 29,
     "metadata": {},
     "output_type": "execute_result"
    }
   ],
   "source": [
    "fy(1,2)"
   ]
  },
  {
   "cell_type": "markdown",
   "metadata": {},
   "source": [
    "<h4>Gradijent funkcije</h4>"
   ]
  },
  {
   "cell_type": "code",
   "execution_count": 30,
   "metadata": {},
   "outputs": [
    {
     "data": {
      "text/html": [
       "<html>\\[\\newcommand{\\Bold}[1]{\\mathbf{#1}}\\left(\\frac{2 \\, x + y}{x^{2} + x y + y^{2}},\\,\\frac{x + 2 \\, y}{x^{2} + x y + y^{2}}\\right)\\]</html>"
      ],
      "text/latex": [
       "$$\\newcommand{\\Bold}[1]{\\mathbf{#1}}\\left(\\frac{2 \\, x + y}{x^{2} + x y + y^{2}},\\,\\frac{x + 2 \\, y}{x^{2} + x y + y^{2}}\\right)$$"
      ],
      "text/plain": [
       "((2*x + y)/(x^2 + x*y + y^2), (x + 2*y)/(x^2 + x*y + y^2))"
      ]
     },
     "execution_count": 30,
     "metadata": {},
     "output_type": "execute_result"
    }
   ],
   "source": [
    "f(x,y).gradient()"
   ]
  },
  {
   "cell_type": "code",
   "execution_count": 31,
   "metadata": {},
   "outputs": [
    {
     "data": {
      "text/html": [
       "<html>\\[\\newcommand{\\Bold}[1]{\\mathbf{#1}}\\left( x, y \\right) \\ {\\mapsto} \\ \\left(\\frac{2 \\, x + y}{x^{2} + x y + y^{2}},\\,\\frac{x + 2 \\, y}{x^{2} + x y + y^{2}}\\right)\\]</html>"
      ],
      "text/latex": [
       "$$\\newcommand{\\Bold}[1]{\\mathbf{#1}}\\left( x, y \\right) \\ {\\mapsto} \\ \\left(\\frac{2 \\, x + y}{x^{2} + x y + y^{2}},\\,\\frac{x + 2 \\, y}{x^{2} + x y + y^{2}}\\right)$$"
      ],
      "text/plain": [
       "(x, y) |--> ((2*x + y)/(x^2 + x*y + y^2), (x + 2*y)/(x^2 + x*y + y^2))"
      ]
     },
     "execution_count": 31,
     "metadata": {},
     "output_type": "execute_result"
    }
   ],
   "source": [
    "f.gradient()"
   ]
  },
  {
   "cell_type": "code",
   "execution_count": 32,
   "metadata": {},
   "outputs": [
    {
     "data": {
      "text/html": [
       "<html>\\[\\newcommand{\\Bold}[1]{\\mathbf{#1}}\\left( x, y \\right) \\ {\\mapsto} \\ \\left(\\frac{2 \\, x + y}{x^{2} + x y + y^{2}},\\,\\frac{x + 2 \\, y}{x^{2} + x y + y^{2}}\\right)\\]</html>"
      ],
      "text/latex": [
       "$$\\newcommand{\\Bold}[1]{\\mathbf{#1}}\\left( x, y \\right) \\ {\\mapsto} \\ \\left(\\frac{2 \\, x + y}{x^{2} + x y + y^{2}},\\,\\frac{x + 2 \\, y}{x^{2} + x y + y^{2}}\\right)$$"
      ],
      "text/plain": [
       "(x, y) |--> ((2*x + y)/(x^2 + x*y + y^2), (x + 2*y)/(x^2 + x*y + y^2))"
      ]
     },
     "execution_count": 32,
     "metadata": {},
     "output_type": "execute_result"
    }
   ],
   "source": [
    "f.diff()"
   ]
  },
  {
   "cell_type": "code",
   "execution_count": 33,
   "metadata": {},
   "outputs": [],
   "source": [
    "gradf=f.diff()"
   ]
  },
  {
   "cell_type": "markdown",
   "metadata": {},
   "source": [
    "<p>gradijent funkcije u točki $(1,2)$</p>"
   ]
  },
  {
   "cell_type": "code",
   "execution_count": 34,
   "metadata": {},
   "outputs": [
    {
     "data": {
      "text/html": [
       "<html>\\[\\newcommand{\\Bold}[1]{\\mathbf{#1}}\\left(\\frac{4}{7},\\,\\frac{5}{7}\\right)\\]</html>"
      ],
      "text/latex": [
       "$$\\newcommand{\\Bold}[1]{\\mathbf{#1}}\\left(\\frac{4}{7},\\,\\frac{5}{7}\\right)$$"
      ],
      "text/plain": [
       "(4/7, 5/7)"
      ]
     },
     "execution_count": 34,
     "metadata": {},
     "output_type": "execute_result"
    }
   ],
   "source": [
    "gradf(1,2)"
   ]
  },
  {
   "cell_type": "markdown",
   "metadata": {},
   "source": [
    "<h4>Parcijalne derivacije drugog reda</h4>"
   ]
  },
  {
   "cell_type": "code",
   "execution_count": 35,
   "metadata": {},
   "outputs": [
    {
     "data": {
      "text/html": [
       "<html>\\[\\newcommand{\\Bold}[1]{\\mathbf{#1}}-\\frac{{\\left(2 \\, x + y\\right)}^{2}}{{\\left(x^{2} + x y + y^{2}\\right)}^{2}} + \\frac{2}{x^{2} + x y + y^{2}}\\]</html>"
      ],
      "text/latex": [
       "$$\\newcommand{\\Bold}[1]{\\mathbf{#1}}-\\frac{{\\left(2 \\, x + y\\right)}^{2}}{{\\left(x^{2} + x y + y^{2}\\right)}^{2}} + \\frac{2}{x^{2} + x y + y^{2}}$$"
      ],
      "text/plain": [
       "-(2*x + y)^2/(x^2 + x*y + y^2)^2 + 2/(x^2 + x*y + y^2)"
      ]
     },
     "execution_count": 35,
     "metadata": {},
     "output_type": "execute_result"
    }
   ],
   "source": [
    "diff(f(x,y),x,2)"
   ]
  },
  {
   "cell_type": "code",
   "execution_count": 36,
   "metadata": {},
   "outputs": [
    {
     "data": {
      "text/html": [
       "<html>\\[\\newcommand{\\Bold}[1]{\\mathbf{#1}}-\\frac{2 \\, x^{2} + 2 \\, x y - y^{2}}{{\\left(x^{2} + x y + y^{2}\\right)}^{2}}\\]</html>"
      ],
      "text/latex": [
       "$$\\newcommand{\\Bold}[1]{\\mathbf{#1}}-\\frac{2 \\, x^{2} + 2 \\, x y - y^{2}}{{\\left(x^{2} + x y + y^{2}\\right)}^{2}}$$"
      ],
      "text/plain": [
       "-(2*x^2 + 2*x*y - y^2)/(x^2 + x*y + y^2)^2"
      ]
     },
     "execution_count": 36,
     "metadata": {},
     "output_type": "execute_result"
    }
   ],
   "source": [
    "diff(f(x,y),x,2).factor()"
   ]
  },
  {
   "cell_type": "code",
   "execution_count": 37,
   "metadata": {},
   "outputs": [
    {
     "data": {
      "text/html": [
       "<html>\\[\\newcommand{\\Bold}[1]{\\mathbf{#1}}-\\frac{{\\left(2 \\, x + y\\right)} {\\left(x + 2 \\, y\\right)}}{{\\left(x^{2} + x y + y^{2}\\right)}^{2}} + \\frac{1}{x^{2} + x y + y^{2}}\\]</html>"
      ],
      "text/latex": [
       "$$\\newcommand{\\Bold}[1]{\\mathbf{#1}}-\\frac{{\\left(2 \\, x + y\\right)} {\\left(x + 2 \\, y\\right)}}{{\\left(x^{2} + x y + y^{2}\\right)}^{2}} + \\frac{1}{x^{2} + x y + y^{2}}$$"
      ],
      "text/plain": [
       "-(2*x + y)*(x + 2*y)/(x^2 + x*y + y^2)^2 + 1/(x^2 + x*y + y^2)"
      ]
     },
     "execution_count": 37,
     "metadata": {},
     "output_type": "execute_result"
    }
   ],
   "source": [
    "diff(f(x,y),x,y)"
   ]
  },
  {
   "cell_type": "code",
   "execution_count": 38,
   "metadata": {},
   "outputs": [
    {
     "data": {
      "text/html": [
       "<html>\\[\\newcommand{\\Bold}[1]{\\mathbf{#1}}-\\frac{x^{2} + 4 \\, x y + y^{2}}{{\\left(x^{2} + x y + y^{2}\\right)}^{2}}\\]</html>"
      ],
      "text/latex": [
       "$$\\newcommand{\\Bold}[1]{\\mathbf{#1}}-\\frac{x^{2} + 4 \\, x y + y^{2}}{{\\left(x^{2} + x y + y^{2}\\right)}^{2}}$$"
      ],
      "text/plain": [
       "-(x^2 + 4*x*y + y^2)/(x^2 + x*y + y^2)^2"
      ]
     },
     "execution_count": 38,
     "metadata": {},
     "output_type": "execute_result"
    }
   ],
   "source": [
    "diff(f(x,y),x,y).factor()"
   ]
  },
  {
   "cell_type": "code",
   "execution_count": 39,
   "metadata": {},
   "outputs": [
    {
     "data": {
      "text/html": [
       "<html>\\[\\newcommand{\\Bold}[1]{\\mathbf{#1}}-\\frac{{\\left(2 \\, x + y\\right)} {\\left(x + 2 \\, y\\right)}}{{\\left(x^{2} + x y + y^{2}\\right)}^{2}} + \\frac{1}{x^{2} + x y + y^{2}}\\]</html>"
      ],
      "text/latex": [
       "$$\\newcommand{\\Bold}[1]{\\mathbf{#1}}-\\frac{{\\left(2 \\, x + y\\right)} {\\left(x + 2 \\, y\\right)}}{{\\left(x^{2} + x y + y^{2}\\right)}^{2}} + \\frac{1}{x^{2} + x y + y^{2}}$$"
      ],
      "text/plain": [
       "-(2*x + y)*(x + 2*y)/(x^2 + x*y + y^2)^2 + 1/(x^2 + x*y + y^2)"
      ]
     },
     "execution_count": 39,
     "metadata": {},
     "output_type": "execute_result"
    }
   ],
   "source": [
    "diff(f(x,y),y,x)"
   ]
  },
  {
   "cell_type": "code",
   "execution_count": 40,
   "metadata": {},
   "outputs": [
    {
     "data": {
      "text/html": [
       "<html>\\[\\newcommand{\\Bold}[1]{\\mathbf{#1}}-\\frac{x^{2} + 4 \\, x y + y^{2}}{{\\left(x^{2} + x y + y^{2}\\right)}^{2}}\\]</html>"
      ],
      "text/latex": [
       "$$\\newcommand{\\Bold}[1]{\\mathbf{#1}}-\\frac{x^{2} + 4 \\, x y + y^{2}}{{\\left(x^{2} + x y + y^{2}\\right)}^{2}}$$"
      ],
      "text/plain": [
       "-(x^2 + 4*x*y + y^2)/(x^2 + x*y + y^2)^2"
      ]
     },
     "execution_count": 40,
     "metadata": {},
     "output_type": "execute_result"
    }
   ],
   "source": [
    "diff(f(x,y),y,x).factor()"
   ]
  },
  {
   "cell_type": "code",
   "execution_count": 41,
   "metadata": {},
   "outputs": [
    {
     "data": {
      "text/html": [
       "<html>\\[\\newcommand{\\Bold}[1]{\\mathbf{#1}}-\\frac{{\\left(x + 2 \\, y\\right)}^{2}}{{\\left(x^{2} + x y + y^{2}\\right)}^{2}} + \\frac{2}{x^{2} + x y + y^{2}}\\]</html>"
      ],
      "text/latex": [
       "$$\\newcommand{\\Bold}[1]{\\mathbf{#1}}-\\frac{{\\left(x + 2 \\, y\\right)}^{2}}{{\\left(x^{2} + x y + y^{2}\\right)}^{2}} + \\frac{2}{x^{2} + x y + y^{2}}$$"
      ],
      "text/plain": [
       "-(x + 2*y)^2/(x^2 + x*y + y^2)^2 + 2/(x^2 + x*y + y^2)"
      ]
     },
     "execution_count": 41,
     "metadata": {},
     "output_type": "execute_result"
    }
   ],
   "source": [
    "diff(f(x,y),y,2)"
   ]
  },
  {
   "cell_type": "code",
   "execution_count": 42,
   "metadata": {},
   "outputs": [
    {
     "data": {
      "text/html": [
       "<html>\\[\\newcommand{\\Bold}[1]{\\mathbf{#1}}\\frac{x^{2} - 2 \\, x y - 2 \\, y^{2}}{{\\left(x^{2} + x y + y^{2}\\right)}^{2}}\\]</html>"
      ],
      "text/latex": [
       "$$\\newcommand{\\Bold}[1]{\\mathbf{#1}}\\frac{x^{2} - 2 \\, x y - 2 \\, y^{2}}{{\\left(x^{2} + x y + y^{2}\\right)}^{2}}$$"
      ],
      "text/plain": [
       "(x^2 - 2*x*y - 2*y^2)/(x^2 + x*y + y^2)^2"
      ]
     },
     "execution_count": 42,
     "metadata": {},
     "output_type": "execute_result"
    }
   ],
   "source": [
    "diff(f(x,y),y,2).factor()"
   ]
  },
  {
   "cell_type": "markdown",
   "metadata": {},
   "source": [
    "<h4>Hesseova matrica</h4>"
   ]
  },
  {
   "cell_type": "code",
   "execution_count": 43,
   "metadata": {},
   "outputs": [
    {
     "data": {
      "text/html": [
       "<html>\\[\\newcommand{\\Bold}[1]{\\mathbf{#1}}\\left(\\begin{array}{rr}\n",
       "\\left( x, y \\right) \\ {\\mapsto} \\ -\\frac{{\\left(2 \\, x + y\\right)}^{2}}{{\\left(x^{2} + x y + y^{2}\\right)}^{2}} + \\frac{2}{x^{2} + x y + y^{2}} & \\left( x, y \\right) \\ {\\mapsto} \\ -\\frac{{\\left(2 \\, x + y\\right)} {\\left(x + 2 \\, y\\right)}}{{\\left(x^{2} + x y + y^{2}\\right)}^{2}} + \\frac{1}{x^{2} + x y + y^{2}} \\\\\n",
       "\\left( x, y \\right) \\ {\\mapsto} \\ -\\frac{{\\left(2 \\, x + y\\right)} {\\left(x + 2 \\, y\\right)}}{{\\left(x^{2} + x y + y^{2}\\right)}^{2}} + \\frac{1}{x^{2} + x y + y^{2}} & \\left( x, y \\right) \\ {\\mapsto} \\ -\\frac{{\\left(x + 2 \\, y\\right)}^{2}}{{\\left(x^{2} + x y + y^{2}\\right)}^{2}} + \\frac{2}{x^{2} + x y + y^{2}}\n",
       "\\end{array}\\right)\\]</html>"
      ],
      "text/latex": [
       "$$\\newcommand{\\Bold}[1]{\\mathbf{#1}}\\left(\\begin{array}{rr}\n",
       "\\left( x, y \\right) \\ {\\mapsto} \\ -\\frac{{\\left(2 \\, x + y\\right)}^{2}}{{\\left(x^{2} + x y + y^{2}\\right)}^{2}} + \\frac{2}{x^{2} + x y + y^{2}} & \\left( x, y \\right) \\ {\\mapsto} \\ -\\frac{{\\left(2 \\, x + y\\right)} {\\left(x + 2 \\, y\\right)}}{{\\left(x^{2} + x y + y^{2}\\right)}^{2}} + \\frac{1}{x^{2} + x y + y^{2}} \\\\\n",
       "\\left( x, y \\right) \\ {\\mapsto} \\ -\\frac{{\\left(2 \\, x + y\\right)} {\\left(x + 2 \\, y\\right)}}{{\\left(x^{2} + x y + y^{2}\\right)}^{2}} + \\frac{1}{x^{2} + x y + y^{2}} & \\left( x, y \\right) \\ {\\mapsto} \\ -\\frac{{\\left(x + 2 \\, y\\right)}^{2}}{{\\left(x^{2} + x y + y^{2}\\right)}^{2}} + \\frac{2}{x^{2} + x y + y^{2}}\n",
       "\\end{array}\\right)$$"
      ],
      "text/plain": [
       "[        (x, y) |--> -(2*x + y)^2/(x^2 + x*y + y^2)^2 + 2/(x^2 + x*y + y^2) (x, y) |--> -(2*x + y)*(x + 2*y)/(x^2 + x*y + y^2)^2 + 1/(x^2 + x*y + y^2)]\n",
       "[(x, y) |--> -(2*x + y)*(x + 2*y)/(x^2 + x*y + y^2)^2 + 1/(x^2 + x*y + y^2)         (x, y) |--> -(x + 2*y)^2/(x^2 + x*y + y^2)^2 + 2/(x^2 + x*y + y^2)]"
      ]
     },
     "execution_count": 43,
     "metadata": {},
     "output_type": "execute_result"
    }
   ],
   "source": [
    "f.hessian()"
   ]
  },
  {
   "cell_type": "code",
   "execution_count": 44,
   "metadata": {},
   "outputs": [
    {
     "data": {
      "text/html": [
       "<html>\\[\\newcommand{\\Bold}[1]{\\mathbf{#1}}\\left(\\begin{array}{rr}\n",
       "\\left( x, y \\right) \\ {\\mapsto} \\ -\\frac{2 \\, x^{2} + 2 \\, x y - y^{2}}{{\\left(x^{2} + x y + y^{2}\\right)}^{2}} & \\left( x, y \\right) \\ {\\mapsto} \\ -\\frac{x^{2} + 4 \\, x y + y^{2}}{{\\left(x^{2} + x y + y^{2}\\right)}^{2}} \\\\\n",
       "\\left( x, y \\right) \\ {\\mapsto} \\ -\\frac{x^{2} + 4 \\, x y + y^{2}}{{\\left(x^{2} + x y + y^{2}\\right)}^{2}} & \\left( x, y \\right) \\ {\\mapsto} \\ \\frac{x^{2} - 2 \\, x y - 2 \\, y^{2}}{{\\left(x^{2} + x y + y^{2}\\right)}^{2}}\n",
       "\\end{array}\\right)\\]</html>"
      ],
      "text/latex": [
       "$$\\newcommand{\\Bold}[1]{\\mathbf{#1}}\\left(\\begin{array}{rr}\n",
       "\\left( x, y \\right) \\ {\\mapsto} \\ -\\frac{2 \\, x^{2} + 2 \\, x y - y^{2}}{{\\left(x^{2} + x y + y^{2}\\right)}^{2}} & \\left( x, y \\right) \\ {\\mapsto} \\ -\\frac{x^{2} + 4 \\, x y + y^{2}}{{\\left(x^{2} + x y + y^{2}\\right)}^{2}} \\\\\n",
       "\\left( x, y \\right) \\ {\\mapsto} \\ -\\frac{x^{2} + 4 \\, x y + y^{2}}{{\\left(x^{2} + x y + y^{2}\\right)}^{2}} & \\left( x, y \\right) \\ {\\mapsto} \\ \\frac{x^{2} - 2 \\, x y - 2 \\, y^{2}}{{\\left(x^{2} + x y + y^{2}\\right)}^{2}}\n",
       "\\end{array}\\right)$$"
      ],
      "text/plain": [
       "[(x, y) |--> -(2*x^2 + 2*x*y - y^2)/(x^2 + x*y + y^2)^2   (x, y) |--> -(x^2 + 4*x*y + y^2)/(x^2 + x*y + y^2)^2]\n",
       "[  (x, y) |--> -(x^2 + 4*x*y + y^2)/(x^2 + x*y + y^2)^2  (x, y) |--> (x^2 - 2*x*y - 2*y^2)/(x^2 + x*y + y^2)^2]"
      ]
     },
     "execution_count": 44,
     "metadata": {},
     "output_type": "execute_result"
    }
   ],
   "source": [
    "f.hessian().apply_map(lambda t:t.factor())"
   ]
  },
  {
   "cell_type": "code",
   "execution_count": 45,
   "metadata": {},
   "outputs": [
    {
     "data": {
      "text/html": [
       "<html>\\[\\newcommand{\\Bold}[1]{\\mathbf{#1}}\\left(\\begin{array}{rr}\n",
       "\\left( x, y \\right) \\ {\\mapsto} \\ -\\frac{{\\left(2 \\, x + y\\right)}^{2}}{{\\left(x^{2} + x y + y^{2}\\right)}^{2}} + \\frac{2}{x^{2} + x y + y^{2}} & \\left( x, y \\right) \\ {\\mapsto} \\ -\\frac{{\\left(2 \\, x + y\\right)} {\\left(x + 2 \\, y\\right)}}{{\\left(x^{2} + x y + y^{2}\\right)}^{2}} + \\frac{1}{x^{2} + x y + y^{2}} \\\\\n",
       "\\left( x, y \\right) \\ {\\mapsto} \\ -\\frac{{\\left(2 \\, x + y\\right)} {\\left(x + 2 \\, y\\right)}}{{\\left(x^{2} + x y + y^{2}\\right)}^{2}} + \\frac{1}{x^{2} + x y + y^{2}} & \\left( x, y \\right) \\ {\\mapsto} \\ -\\frac{{\\left(x + 2 \\, y\\right)}^{2}}{{\\left(x^{2} + x y + y^{2}\\right)}^{2}} + \\frac{2}{x^{2} + x y + y^{2}}\n",
       "\\end{array}\\right)\\]</html>"
      ],
      "text/latex": [
       "$$\\newcommand{\\Bold}[1]{\\mathbf{#1}}\\left(\\begin{array}{rr}\n",
       "\\left( x, y \\right) \\ {\\mapsto} \\ -\\frac{{\\left(2 \\, x + y\\right)}^{2}}{{\\left(x^{2} + x y + y^{2}\\right)}^{2}} + \\frac{2}{x^{2} + x y + y^{2}} & \\left( x, y \\right) \\ {\\mapsto} \\ -\\frac{{\\left(2 \\, x + y\\right)} {\\left(x + 2 \\, y\\right)}}{{\\left(x^{2} + x y + y^{2}\\right)}^{2}} + \\frac{1}{x^{2} + x y + y^{2}} \\\\\n",
       "\\left( x, y \\right) \\ {\\mapsto} \\ -\\frac{{\\left(2 \\, x + y\\right)} {\\left(x + 2 \\, y\\right)}}{{\\left(x^{2} + x y + y^{2}\\right)}^{2}} + \\frac{1}{x^{2} + x y + y^{2}} & \\left( x, y \\right) \\ {\\mapsto} \\ -\\frac{{\\left(x + 2 \\, y\\right)}^{2}}{{\\left(x^{2} + x y + y^{2}\\right)}^{2}} + \\frac{2}{x^{2} + x y + y^{2}}\n",
       "\\end{array}\\right)$$"
      ],
      "text/plain": [
       "[        (x, y) |--> -(2*x + y)^2/(x^2 + x*y + y^2)^2 + 2/(x^2 + x*y + y^2) (x, y) |--> -(2*x + y)*(x + 2*y)/(x^2 + x*y + y^2)^2 + 1/(x^2 + x*y + y^2)]\n",
       "[(x, y) |--> -(2*x + y)*(x + 2*y)/(x^2 + x*y + y^2)^2 + 1/(x^2 + x*y + y^2)         (x, y) |--> -(x + 2*y)^2/(x^2 + x*y + y^2)^2 + 2/(x^2 + x*y + y^2)]"
      ]
     },
     "execution_count": 45,
     "metadata": {},
     "output_type": "execute_result"
    }
   ],
   "source": [
    "f.diff(2)"
   ]
  },
  {
   "cell_type": "code",
   "execution_count": 46,
   "metadata": {},
   "outputs": [
    {
     "data": {
      "text/html": [
       "<html>\\[\\newcommand{\\Bold}[1]{\\mathbf{#1}}\\left(\\begin{array}{rr}\n",
       "\\left( x, y \\right) \\ {\\mapsto} \\ -\\frac{2 \\, x^{2} + 2 \\, x y - y^{2}}{{\\left(x^{2} + x y + y^{2}\\right)}^{2}} & \\left( x, y \\right) \\ {\\mapsto} \\ -\\frac{x^{2} + 4 \\, x y + y^{2}}{{\\left(x^{2} + x y + y^{2}\\right)}^{2}} \\\\\n",
       "\\left( x, y \\right) \\ {\\mapsto} \\ -\\frac{x^{2} + 4 \\, x y + y^{2}}{{\\left(x^{2} + x y + y^{2}\\right)}^{2}} & \\left( x, y \\right) \\ {\\mapsto} \\ \\frac{x^{2} - 2 \\, x y - 2 \\, y^{2}}{{\\left(x^{2} + x y + y^{2}\\right)}^{2}}\n",
       "\\end{array}\\right)\\]</html>"
      ],
      "text/latex": [
       "$$\\newcommand{\\Bold}[1]{\\mathbf{#1}}\\left(\\begin{array}{rr}\n",
       "\\left( x, y \\right) \\ {\\mapsto} \\ -\\frac{2 \\, x^{2} + 2 \\, x y - y^{2}}{{\\left(x^{2} + x y + y^{2}\\right)}^{2}} & \\left( x, y \\right) \\ {\\mapsto} \\ -\\frac{x^{2} + 4 \\, x y + y^{2}}{{\\left(x^{2} + x y + y^{2}\\right)}^{2}} \\\\\n",
       "\\left( x, y \\right) \\ {\\mapsto} \\ -\\frac{x^{2} + 4 \\, x y + y^{2}}{{\\left(x^{2} + x y + y^{2}\\right)}^{2}} & \\left( x, y \\right) \\ {\\mapsto} \\ \\frac{x^{2} - 2 \\, x y - 2 \\, y^{2}}{{\\left(x^{2} + x y + y^{2}\\right)}^{2}}\n",
       "\\end{array}\\right)$$"
      ],
      "text/plain": [
       "[(x, y) |--> -(2*x^2 + 2*x*y - y^2)/(x^2 + x*y + y^2)^2   (x, y) |--> -(x^2 + 4*x*y + y^2)/(x^2 + x*y + y^2)^2]\n",
       "[  (x, y) |--> -(x^2 + 4*x*y + y^2)/(x^2 + x*y + y^2)^2  (x, y) |--> (x^2 - 2*x*y - 2*y^2)/(x^2 + x*y + y^2)^2]"
      ]
     },
     "execution_count": 46,
     "metadata": {},
     "output_type": "execute_result"
    }
   ],
   "source": [
    "f.diff(2).apply_map(lambda t:t.factor())"
   ]
  },
  {
   "cell_type": "code",
   "execution_count": 47,
   "metadata": {},
   "outputs": [],
   "source": [
    "hessf=f.diff(2)"
   ]
  },
  {
   "cell_type": "markdown",
   "metadata": {},
   "source": [
    "<p>Hesseova matrica funkcije $f$ u točki $(1,2)$</p>"
   ]
  },
  {
   "cell_type": "code",
   "execution_count": 48,
   "metadata": {},
   "outputs": [
    {
     "data": {
      "text/html": [
       "<html>\\[\\newcommand{\\Bold}[1]{\\mathbf{#1}}\\left(\\begin{array}{rr}\n",
       "-\\frac{2}{49} & -\\frac{13}{49} \\\\\n",
       "-\\frac{13}{49} & -\\frac{11}{49}\n",
       "\\end{array}\\right)\\]</html>"
      ],
      "text/latex": [
       "$$\\newcommand{\\Bold}[1]{\\mathbf{#1}}\\left(\\begin{array}{rr}\n",
       "-\\frac{2}{49} & -\\frac{13}{49} \\\\\n",
       "-\\frac{13}{49} & -\\frac{11}{49}\n",
       "\\end{array}\\right)$$"
      ],
      "text/plain": [
       "[ -2/49 -13/49]\n",
       "[-13/49 -11/49]"
      ]
     },
     "execution_count": 48,
     "metadata": {},
     "output_type": "execute_result"
    }
   ],
   "source": [
    "hessf(x=1,y=2)"
   ]
  },
  {
   "cell_type": "code",
   "execution_count": 49,
   "metadata": {},
   "outputs": [
    {
     "data": {
      "text/html": [
       "<html>\\[\\newcommand{\\Bold}[1]{\\mathbf{#1}}\\left(\\begin{array}{rr}\n",
       "-\\frac{2}{49} & -\\frac{13}{49} \\\\\n",
       "-\\frac{13}{49} & -\\frac{11}{49}\n",
       "\\end{array}\\right)\\]</html>"
      ],
      "text/latex": [
       "$$\\newcommand{\\Bold}[1]{\\mathbf{#1}}\\left(\\begin{array}{rr}\n",
       "-\\frac{2}{49} & -\\frac{13}{49} \\\\\n",
       "-\\frac{13}{49} & -\\frac{11}{49}\n",
       "\\end{array}\\right)$$"
      ],
      "text/plain": [
       "[ -2/49 -13/49]\n",
       "[-13/49 -11/49]"
      ]
     },
     "execution_count": 49,
     "metadata": {},
     "output_type": "execute_result"
    }
   ],
   "source": [
    "hessf(1,2)"
   ]
  },
  {
   "cell_type": "markdown",
   "metadata": {},
   "source": [
    "<div style=\"background-color: #F5FFFA; color: #000000; border: 2px solid #B0C4DE; border-radius: 15px; padding:0px 10px 25px; overflow:auto\">\n",
    "<h3>3. zadatak</h3>\n",
    "<p style=\"line-height:30px;\">Pomoću diferencijala izračunajte približno $1.02^{2.99}.$</p>\n",
    "</div>\n",
    "<h3>Rješenje</h3>"
   ]
  },
  {
   "cell_type": "code",
   "execution_count": 50,
   "metadata": {},
   "outputs": [],
   "source": [
    "g(x,y)=x^y"
   ]
  },
  {
   "cell_type": "markdown",
   "metadata": {},
   "source": [
    "<h4>gradijent funkcije $g$</h4>"
   ]
  },
  {
   "cell_type": "code",
   "execution_count": 51,
   "metadata": {},
   "outputs": [
    {
     "data": {
      "text/html": [
       "<html>\\[\\newcommand{\\Bold}[1]{\\mathbf{#1}}\\left( x, y \\right) \\ {\\mapsto} \\ \\left(x^{y - 1} y,\\,x^{y} \\log\\left(x\\right)\\right)\\]</html>"
      ],
      "text/latex": [
       "$$\\newcommand{\\Bold}[1]{\\mathbf{#1}}\\left( x, y \\right) \\ {\\mapsto} \\ \\left(x^{y - 1} y,\\,x^{y} \\log\\left(x\\right)\\right)$$"
      ],
      "text/plain": [
       "(x, y) |--> (x^(y - 1)*y, x^y*log(x))"
      ]
     },
     "execution_count": 51,
     "metadata": {},
     "output_type": "execute_result"
    }
   ],
   "source": [
    "grad_g=g.diff(); grad_g"
   ]
  },
  {
   "cell_type": "markdown",
   "metadata": {},
   "source": [
    "<h4>gradijent funkcije $g$ u točki $(1,3)$</h4>"
   ]
  },
  {
   "cell_type": "code",
   "execution_count": 52,
   "metadata": {},
   "outputs": [
    {
     "data": {
      "text/html": [
       "<html>\\[\\newcommand{\\Bold}[1]{\\mathbf{#1}}\\left(3,\\,0\\right)\\]</html>"
      ],
      "text/latex": [
       "$$\\newcommand{\\Bold}[1]{\\mathbf{#1}}\\left(3,\\,0\\right)$$"
      ],
      "text/plain": [
       "(3, 0)"
      ]
     },
     "execution_count": 52,
     "metadata": {},
     "output_type": "execute_result"
    }
   ],
   "source": [
    "grad_g(1,3)"
   ]
  },
  {
   "cell_type": "markdown",
   "metadata": {},
   "source": [
    "<p style=\"line-height:30px;\">Aproksimacija prirasta funkcije $g$ u točki $(1,3)$ pomoću diferencijala za pomake $\\Delta x=0.02,\\ \\Delta y=-0.01$</p>"
   ]
  },
  {
   "cell_type": "code",
   "execution_count": 53,
   "metadata": {},
   "outputs": [
    {
     "data": {
      "text/html": [
       "<html>\\[\\newcommand{\\Bold}[1]{\\mathbf{#1}}0.0600000000000000\\]</html>"
      ],
      "text/latex": [
       "$$\\newcommand{\\Bold}[1]{\\mathbf{#1}}0.0600000000000000$$"
      ],
      "text/plain": [
       "0.0600000000000000"
      ]
     },
     "execution_count": 53,
     "metadata": {},
     "output_type": "execute_result"
    }
   ],
   "source": [
    "v1=vector(grad_g(1,3))\n",
    "v2=vector((0.02,-0.01))\n",
    "v1.dot_product(v2)"
   ]
  },
  {
   "cell_type": "markdown",
   "metadata": {},
   "source": [
    "<p style=\"line-height:30px;\">\"Egzaktna\" vrijednost prirasta funkcije $g$ u točki $(1,3)$ za pomake $\\Delta x=0.02,\\ \\Delta y=-0.01$</p>"
   ]
  },
  {
   "cell_type": "code",
   "execution_count": 54,
   "metadata": {},
   "outputs": [
    {
     "data": {
      "text/html": [
       "<html>\\[\\newcommand{\\Bold}[1]{\\mathbf{#1}}0.0609978737408694\\]</html>"
      ],
      "text/latex": [
       "$$\\newcommand{\\Bold}[1]{\\mathbf{#1}}0.0609978737408694$$"
      ],
      "text/plain": [
       "0.0609978737408694"
      ]
     },
     "execution_count": 54,
     "metadata": {},
     "output_type": "execute_result"
    }
   ],
   "source": [
    "g(1.02,2.99)-g(1,3)"
   ]
  },
  {
   "cell_type": "markdown",
   "metadata": {},
   "source": [
    "<p>Aproksimacija vrijednosti $1.02^{2.99}$ pomoću diferencijala</p> "
   ]
  },
  {
   "cell_type": "code",
   "execution_count": 55,
   "metadata": {},
   "outputs": [
    {
     "data": {
      "text/html": [
       "<html>\\[\\newcommand{\\Bold}[1]{\\mathbf{#1}}1.06000000000000\\]</html>"
      ],
      "text/latex": [
       "$$\\newcommand{\\Bold}[1]{\\mathbf{#1}}1.06000000000000$$"
      ],
      "text/plain": [
       "1.06000000000000"
      ]
     },
     "execution_count": 55,
     "metadata": {},
     "output_type": "execute_result"
    }
   ],
   "source": [
    "g(1,3)+v1.dot_product(v2)"
   ]
  },
  {
   "cell_type": "markdown",
   "metadata": {},
   "source": [
    "<p>\"Egzaktna\" vrijednost od $1.02^{2.99}$</p>"
   ]
  },
  {
   "cell_type": "code",
   "execution_count": 56,
   "metadata": {},
   "outputs": [
    {
     "data": {
      "text/html": [
       "<html>\\[\\newcommand{\\Bold}[1]{\\mathbf{#1}}1.06099787374087\\]</html>"
      ],
      "text/latex": [
       "$$\\newcommand{\\Bold}[1]{\\mathbf{#1}}1.06099787374087$$"
      ],
      "text/plain": [
       "1.06099787374087"
      ]
     },
     "execution_count": 56,
     "metadata": {},
     "output_type": "execute_result"
    }
   ],
   "source": [
    "g(1.02,2.99)"
   ]
  },
  {
   "cell_type": "markdown",
   "metadata": {},
   "source": [
    "<div style=\"background-color: #F5FFFA; color: #000000; border: 2px solid #B0C4DE; border-radius: 15px; padding:0px 10px 25px; overflow:auto\">\n",
    "<h3>4. zadatak</h3>\n",
    "<p style=\"line-height:30px;\">Zadana je funkcija $f(x,y)=x^2+y^2$. Odredite derivaciju funkcije $f$ duž vektora $\\vec{u}=2\\vec{i}+3\\vec{j}$ u točki $(3,4)$.</p>\n",
    "</div>\n",
    "<h3>Rješenje</h3>"
   ]
  },
  {
   "cell_type": "code",
   "execution_count": 57,
   "metadata": {},
   "outputs": [],
   "source": [
    "f(x,y)=x^2+y^2"
   ]
  },
  {
   "cell_type": "code",
   "execution_count": 58,
   "metadata": {},
   "outputs": [
    {
     "data": {
      "text/html": [
       "<html>\\[\\newcommand{\\Bold}[1]{\\mathbf{#1}}\\left( x, y \\right) \\ {\\mapsto} \\ \\left(2 \\, x,\\,2 \\, y\\right)\\]</html>"
      ],
      "text/latex": [
       "$$\\newcommand{\\Bold}[1]{\\mathbf{#1}}\\left( x, y \\right) \\ {\\mapsto} \\ \\left(2 \\, x,\\,2 \\, y\\right)$$"
      ],
      "text/plain": [
       "(x, y) |--> (2*x, 2*y)"
      ]
     },
     "execution_count": 58,
     "metadata": {},
     "output_type": "execute_result"
    }
   ],
   "source": [
    "gradf=f.diff(); gradf"
   ]
  },
  {
   "cell_type": "markdown",
   "metadata": {},
   "source": [
    "<p>gradijent funkcije $f$ u točki $(3,4)$</p>"
   ]
  },
  {
   "cell_type": "code",
   "execution_count": 59,
   "metadata": {},
   "outputs": [
    {
     "data": {
      "text/html": [
       "<html>\\[\\newcommand{\\Bold}[1]{\\mathbf{#1}}\\left(6,\\,8\\right)\\]</html>"
      ],
      "text/latex": [
       "$$\\newcommand{\\Bold}[1]{\\mathbf{#1}}\\left(6,\\,8\\right)$$"
      ],
      "text/plain": [
       "(6, 8)"
      ]
     },
     "execution_count": 59,
     "metadata": {},
     "output_type": "execute_result"
    }
   ],
   "source": [
    "gradf(3,4)"
   ]
  },
  {
   "cell_type": "markdown",
   "metadata": {},
   "source": [
    "<p style=\"line-height:30px;\">derivacija funkcije $f$ duž vektora $\\vec{u}$ u točki $(3,4)$</p>"
   ]
  },
  {
   "cell_type": "code",
   "execution_count": 60,
   "metadata": {},
   "outputs": [
    {
     "data": {
      "text/html": [
       "<html>\\[\\newcommand{\\Bold}[1]{\\mathbf{#1}}36\\]</html>"
      ],
      "text/latex": [
       "$$\\newcommand{\\Bold}[1]{\\mathbf{#1}}36$$"
      ],
      "text/plain": [
       "36"
      ]
     },
     "execution_count": 60,
     "metadata": {},
     "output_type": "execute_result"
    }
   ],
   "source": [
    "gr=vector(gradf(3,4))\n",
    "u=vector((2,3))\n",
    "gr.dot_product(u)"
   ]
  },
  {
   "cell_type": "markdown",
   "metadata": {},
   "source": [
    "<h2>Parcijalne derivacije složenih funkcija</h2>"
   ]
  },
  {
   "cell_type": "markdown",
   "metadata": {},
   "source": [
    "<div style=\"background-color: #F5FFFA; color: #000000; border: 2px solid #B0C4DE; border-radius: 15px; padding:0px 10px 25px; overflow:auto\">\n",
    "<h3>5. zadatak</h3>\n",
    "<p style=\"line-height:30px;\">Odredite $\\frac{\\mathrm{d}u}{\\mathrm{d}t}$ ako je</p>\n",
    "<p>$$u=\\frac{z}{\\sqrt{x^2+y^2}},\\quad x=R\\cos{t},\\quad y=R\\sin{t},\\quad z=H.$$</p>\n",
    "</div>\n",
    "<h3>Rješenje</h3>"
   ]
  },
  {
   "cell_type": "code",
   "execution_count": 61,
   "metadata": {},
   "outputs": [],
   "source": [
    "var('R H t')\n",
    "function('u');"
   ]
  },
  {
   "cell_type": "code",
   "execution_count": 62,
   "metadata": {},
   "outputs": [],
   "source": [
    "u(x,y,z)=z/(sqrt(x^2+y^2))"
   ]
  },
  {
   "cell_type": "code",
   "execution_count": 63,
   "metadata": {},
   "outputs": [
    {
     "data": {
      "text/html": [
       "<html>\\[\\newcommand{\\Bold}[1]{\\mathbf{#1}}\\frac{H}{R}\\]</html>"
      ],
      "text/latex": [
       "$$\\newcommand{\\Bold}[1]{\\mathbf{#1}}\\frac{H}{R}$$"
      ],
      "text/plain": [
       "H/R"
      ]
     },
     "execution_count": 63,
     "metadata": {},
     "output_type": "execute_result"
    }
   ],
   "source": [
    "assume(R>0)\n",
    "u(R*cos(t),R*sin(t),H).simplify_full()"
   ]
  },
  {
   "cell_type": "code",
   "execution_count": 64,
   "metadata": {},
   "outputs": [
    {
     "data": {
      "text/html": [
       "<html>\\[\\newcommand{\\Bold}[1]{\\mathbf{#1}}0\\]</html>"
      ],
      "text/latex": [
       "$$\\newcommand{\\Bold}[1]{\\mathbf{#1}}0$$"
      ],
      "text/plain": [
       "0"
      ]
     },
     "execution_count": 64,
     "metadata": {},
     "output_type": "execute_result"
    }
   ],
   "source": [
    "diff(u(R*cos(t),R*sin(t),H),t)"
   ]
  },
  {
   "cell_type": "markdown",
   "metadata": {},
   "source": [
    "<div style=\"background-color: #F5FFFA; color: #000000; border: 2px solid #B0C4DE; border-radius: 15px; padding:0px 10px 25px; overflow:auto\">\n",
    "<h3>6. zadatak</h3>\n",
    "<p style=\"line-height:30px;\">Odredite $\\frac{\\partial z}{\\partial u}$ i $\\frac{\\partial z}{\\partial v}$ ako je</p>\n",
    "<p>$$z=\\mathop{\\mathrm{arctg}}{\\frac{x}{y}},\\quad x=u\\sin{v},\\quad y=u\\cos{v}.$$</p>\n",
    "</div>\n",
    "<h3>Rješenje</h3>"
   ]
  },
  {
   "cell_type": "code",
   "execution_count": 65,
   "metadata": {},
   "outputs": [],
   "source": [
    "function('x y z')\n",
    "var('u v');"
   ]
  },
  {
   "cell_type": "code",
   "execution_count": 66,
   "metadata": {},
   "outputs": [],
   "source": [
    "z(x,y)=arctan(x/y)\n",
    "x(u,v)=u*sin(v)\n",
    "y(u,v)=u*cos(v)"
   ]
  },
  {
   "cell_type": "code",
   "execution_count": 67,
   "metadata": {},
   "outputs": [
    {
     "data": {
      "text/html": [
       "<html>\\[\\newcommand{\\Bold}[1]{\\mathbf{#1}}\\arctan\\left(\\frac{\\sin\\left(v\\right)}{\\cos\\left(v\\right)}\\right)\\]</html>"
      ],
      "text/latex": [
       "$$\\newcommand{\\Bold}[1]{\\mathbf{#1}}\\arctan\\left(\\frac{\\sin\\left(v\\right)}{\\cos\\left(v\\right)}\\right)$$"
      ],
      "text/plain": [
       "arctan(sin(v)/cos(v))"
      ]
     },
     "execution_count": 67,
     "metadata": {},
     "output_type": "execute_result"
    }
   ],
   "source": [
    "z(x(u,v),y(u,v))"
   ]
  },
  {
   "cell_type": "code",
   "execution_count": 68,
   "metadata": {},
   "outputs": [
    {
     "data": {
      "text/html": [
       "<html>\\[\\newcommand{\\Bold}[1]{\\mathbf{#1}}v\\]</html>"
      ],
      "text/latex": [
       "$$\\newcommand{\\Bold}[1]{\\mathbf{#1}}v$$"
      ],
      "text/plain": [
       "v"
      ]
     },
     "execution_count": 68,
     "metadata": {},
     "output_type": "execute_result"
    }
   ],
   "source": [
    "z(x(u,v),y(u,v)).trig_reduce()"
   ]
  },
  {
   "cell_type": "markdown",
   "metadata": {},
   "source": [
    "<p>$\\mathop{\\mathrm{arctg}}{\\left(\\mathop{\\mathrm{tg}}{v}\\right)}=v+k\\pi,\\ \\ k\\in\\mathbb{Z}$</p>"
   ]
  },
  {
   "cell_type": "code",
   "execution_count": 69,
   "metadata": {},
   "outputs": [
    {
     "data": {
      "text/html": [
       "<html>\\[\\newcommand{\\Bold}[1]{\\mathbf{#1}}v\\]</html>"
      ],
      "text/latex": [
       "$$\\newcommand{\\Bold}[1]{\\mathbf{#1}}v$$"
      ],
      "text/plain": [
       "v"
      ]
     },
     "execution_count": 69,
     "metadata": {},
     "output_type": "execute_result"
    }
   ],
   "source": [
    "z(x(u,v),y(u,v)).trig_reduce()"
   ]
  },
  {
   "cell_type": "code",
   "execution_count": 70,
   "metadata": {},
   "outputs": [
    {
     "data": {
      "text/html": [
       "<html>\\[\\newcommand{\\Bold}[1]{\\mathbf{#1}}0\\]</html>"
      ],
      "text/latex": [
       "$$\\newcommand{\\Bold}[1]{\\mathbf{#1}}0$$"
      ],
      "text/plain": [
       "0"
      ]
     },
     "execution_count": 70,
     "metadata": {},
     "output_type": "execute_result"
    }
   ],
   "source": [
    "diff(z(x(u,v),y(u,v)),u)"
   ]
  },
  {
   "cell_type": "code",
   "execution_count": 71,
   "metadata": {},
   "outputs": [
    {
     "data": {
      "text/html": [
       "<html>\\[\\newcommand{\\Bold}[1]{\\mathbf{#1}}1\\]</html>"
      ],
      "text/latex": [
       "$$\\newcommand{\\Bold}[1]{\\mathbf{#1}}1$$"
      ],
      "text/plain": [
       "1"
      ]
     },
     "execution_count": 71,
     "metadata": {},
     "output_type": "execute_result"
    }
   ],
   "source": [
    "diff(z(x(u,v),y(u,v)),v)"
   ]
  },
  {
   "cell_type": "markdown",
   "metadata": {},
   "source": [
    "<div style=\"background-color: #F5FFFA; color: #000000; border: 2px solid #B0C4DE; border-radius: 15px; padding:0px 10px 25px; overflow:auto\">\n",
    "<h3>7. zadatak</h3>\n",
    "<p style=\"line-height:30px;\">Odredite $\\frac{\\partial z}{\\partial x}$ i $\\frac{\\partial z}{\\partial y}$ ako je</p>\n",
    "<p>$$z=f(u,v),\\quad u=x^2-y^2,\\quad v=e^{xy}.$$</p>\n",
    "</div>\n",
    "<h3>Rješenje</h3>"
   ]
  },
  {
   "cell_type": "code",
   "execution_count": 72,
   "metadata": {},
   "outputs": [
    {
     "data": {
      "text/html": [
       "<html>\\[\\newcommand{\\Bold}[1]{\\mathbf{#1}}\\left(x, y\\right)\\]</html>"
      ],
      "text/latex": [
       "$$\\newcommand{\\Bold}[1]{\\mathbf{#1}}\\left(x, y\\right)$$"
      ],
      "text/plain": [
       "(x, y)"
      ]
     },
     "execution_count": 72,
     "metadata": {},
     "output_type": "execute_result"
    }
   ],
   "source": [
    "function('f u v')\n",
    "var('x y')"
   ]
  },
  {
   "cell_type": "code",
   "execution_count": 73,
   "metadata": {},
   "outputs": [],
   "source": [
    "u(x,y)=x^2-y^2\n",
    "v(x,y)=e^(x*y)"
   ]
  },
  {
   "cell_type": "markdown",
   "metadata": {},
   "source": [
    "<p>$\\frac{\\partial z}{\\partial x}=2xf_u(u,v)+ye^{xy}f_v(u,v)$</p>"
   ]
  },
  {
   "cell_type": "code",
   "execution_count": 74,
   "metadata": {
    "scrolled": true
   },
   "outputs": [
    {
     "data": {
      "text/html": [
       "<html>\\[\\newcommand{\\Bold}[1]{\\mathbf{#1}}y e^{\\left(x y\\right)} \\mathrm{D}_{1}\\left(f\\right)\\left(x^{2} - y^{2}, e^{\\left(x y\\right)}\\right) + 2 \\, x \\mathrm{D}_{0}\\left(f\\right)\\left(x^{2} - y^{2}, e^{\\left(x y\\right)}\\right)\\]</html>"
      ],
      "text/latex": [
       "$$\\newcommand{\\Bold}[1]{\\mathbf{#1}}y e^{\\left(x y\\right)} \\mathrm{D}_{1}\\left(f\\right)\\left(x^{2} - y^{2}, e^{\\left(x y\\right)}\\right) + 2 \\, x \\mathrm{D}_{0}\\left(f\\right)\\left(x^{2} - y^{2}, e^{\\left(x y\\right)}\\right)$$"
      ],
      "text/plain": [
       "y*e^(x*y)*D[1](f)(x^2 - y^2, e^(x*y)) + 2*x*D[0](f)(x^2 - y^2, e^(x*y))"
      ]
     },
     "execution_count": 74,
     "metadata": {},
     "output_type": "execute_result"
    }
   ],
   "source": [
    "diff(f(u(x,y),v(x,y)),x)"
   ]
  },
  {
   "cell_type": "markdown",
   "metadata": {},
   "source": [
    "<p>$\\frac{\\partial z}{\\partial y}=-2yf_u(u,v)+xe^{xy}f_v(u,v)$</p>"
   ]
  },
  {
   "cell_type": "code",
   "execution_count": 75,
   "metadata": {},
   "outputs": [
    {
     "data": {
      "text/html": [
       "<html>\\[\\newcommand{\\Bold}[1]{\\mathbf{#1}}x e^{\\left(x y\\right)} \\mathrm{D}_{1}\\left(f\\right)\\left(x^{2} - y^{2}, e^{\\left(x y\\right)}\\right) - 2 \\, y \\mathrm{D}_{0}\\left(f\\right)\\left(x^{2} - y^{2}, e^{\\left(x y\\right)}\\right)\\]</html>"
      ],
      "text/latex": [
       "$$\\newcommand{\\Bold}[1]{\\mathbf{#1}}x e^{\\left(x y\\right)} \\mathrm{D}_{1}\\left(f\\right)\\left(x^{2} - y^{2}, e^{\\left(x y\\right)}\\right) - 2 \\, y \\mathrm{D}_{0}\\left(f\\right)\\left(x^{2} - y^{2}, e^{\\left(x y\\right)}\\right)$$"
      ],
      "text/plain": [
       "x*e^(x*y)*D[1](f)(x^2 - y^2, e^(x*y)) - 2*y*D[0](f)(x^2 - y^2, e^(x*y))"
      ]
     },
     "execution_count": 75,
     "metadata": {},
     "output_type": "execute_result"
    }
   ],
   "source": [
    "diff(f(u(x,y),v(x,y)),y)"
   ]
  },
  {
   "cell_type": "markdown",
   "metadata": {},
   "source": [
    "<div style=\"background-color: #F5FFFA; color: #000000; border: 2px solid #B0C4DE; border-radius: 15px; padding:0px 10px 25px; overflow:auto\">\n",
    "<h3>8. zadatak</h3>\n",
    "<p style=\"line-height:30px;\">Dokažite da funkcija $z=\\varphi\\big(x^2+y^2\\big)$ zadovoljava parcijalnu diferencijalnu jednadžbu</p>\n",
    "<p>$$y\\frac{\\partial z}{\\partial x}-x\\frac{\\partial z}{\\partial y}=0.$$</p>\n",
    "</div>\n",
    "<h3>Rješenje</h3>"
   ]
  },
  {
   "cell_type": "code",
   "execution_count": 76,
   "metadata": {},
   "outputs": [],
   "source": [
    "function('t z')\n",
    "var('x y');"
   ]
  },
  {
   "cell_type": "code",
   "execution_count": 77,
   "metadata": {},
   "outputs": [],
   "source": [
    "t(x,y)=x^2+y^2"
   ]
  },
  {
   "cell_type": "code",
   "execution_count": 78,
   "metadata": {},
   "outputs": [
    {
     "data": {
      "text/html": [
       "<html>\\[\\newcommand{\\Bold}[1]{\\mathbf{#1}}2 \\, x \\mathrm{D}_{0}\\left(z\\right)\\left(x^{2} + y^{2}\\right)\\]</html>"
      ],
      "text/latex": [
       "$$\\newcommand{\\Bold}[1]{\\mathbf{#1}}2 \\, x \\mathrm{D}_{0}\\left(z\\right)\\left(x^{2} + y^{2}\\right)$$"
      ],
      "text/plain": [
       "2*x*D[0](z)(x^2 + y^2)"
      ]
     },
     "execution_count": 78,
     "metadata": {},
     "output_type": "execute_result"
    }
   ],
   "source": [
    "zx=diff(z(t(x,y)),x); zx"
   ]
  },
  {
   "cell_type": "code",
   "execution_count": 79,
   "metadata": {},
   "outputs": [
    {
     "data": {
      "text/html": [
       "<html>\\[\\newcommand{\\Bold}[1]{\\mathbf{#1}}2 \\, y \\mathrm{D}_{0}\\left(z\\right)\\left(x^{2} + y^{2}\\right)\\]</html>"
      ],
      "text/latex": [
       "$$\\newcommand{\\Bold}[1]{\\mathbf{#1}}2 \\, y \\mathrm{D}_{0}\\left(z\\right)\\left(x^{2} + y^{2}\\right)$$"
      ],
      "text/plain": [
       "2*y*D[0](z)(x^2 + y^2)"
      ]
     },
     "execution_count": 79,
     "metadata": {},
     "output_type": "execute_result"
    }
   ],
   "source": [
    "zy=diff(z(t(x,y)),y); zy"
   ]
  },
  {
   "cell_type": "code",
   "execution_count": 80,
   "metadata": {},
   "outputs": [
    {
     "data": {
      "text/html": [
       "<html>\\[\\newcommand{\\Bold}[1]{\\mathbf{#1}}0\\]</html>"
      ],
      "text/latex": [
       "$$\\newcommand{\\Bold}[1]{\\mathbf{#1}}0$$"
      ],
      "text/plain": [
       "0"
      ]
     },
     "execution_count": 80,
     "metadata": {},
     "output_type": "execute_result"
    }
   ],
   "source": [
    "y*zx - x*zy"
   ]
  },
  {
   "cell_type": "markdown",
   "metadata": {},
   "source": [
    "<h2>Parcijalne derivacije implicitno zadane funkcije</h2>"
   ]
  },
  {
   "cell_type": "code",
   "execution_count": 81,
   "metadata": {},
   "outputs": [
    {
     "data": {
      "text/html": [
       "<html>\\[\\newcommand{\\Bold}[1]{\\mathbf{#1}}\\left(x, y, z\\right)\\]</html>"
      ],
      "text/latex": [
       "$$\\newcommand{\\Bold}[1]{\\mathbf{#1}}\\left(x, y, z\\right)$$"
      ],
      "text/plain": [
       "(x, y, z)"
      ]
     },
     "execution_count": 81,
     "metadata": {},
     "output_type": "execute_result"
    }
   ],
   "source": [
    "var('x y z')"
   ]
  },
  {
   "cell_type": "markdown",
   "metadata": {},
   "source": [
    "<div style=\"background-color: #F5FFFA; color: #000000; border: 2px solid #B0C4DE; border-radius: 15px; padding:0px 10px 25px; overflow:auto\">\n",
    "<h3>9. zadatak</h3>\n",
    "<p style=\"line-height:30px;\">Odredite $\\frac{\\mathrm{d}y}{\\mathrm{d}x}$ i $\\frac{\\mathrm{d}^2y}{\\mathrm{d}x^2}$ ako je</p>\n",
    "<p>$$\\big(x^2+y^2\\big)^3-3\\big(x^2+y^2\\big)+1=0.$$</p>\n",
    "</div>\n",
    "<h3>Rješenje</h3>"
   ]
  },
  {
   "cell_type": "code",
   "execution_count": 82,
   "metadata": {},
   "outputs": [],
   "source": [
    "F(x,y)=(x^2+y^2)^3-3*(x^2+y^2)+1"
   ]
  },
  {
   "cell_type": "markdown",
   "metadata": {},
   "source": [
    "$\\dfrac{\\mathrm{d}y}{\\mathrm{d}x}$"
   ]
  },
  {
   "cell_type": "code",
   "execution_count": 83,
   "metadata": {},
   "outputs": [
    {
     "data": {
      "text/html": [
       "<html>\\[\\newcommand{\\Bold}[1]{\\mathbf{#1}}-\\frac{{\\left(x^{2} + y^{2}\\right)}^{2} x - x}{{\\left(x^{2} + y^{2}\\right)}^{2} y - y}\\]</html>"
      ],
      "text/latex": [
       "$$\\newcommand{\\Bold}[1]{\\mathbf{#1}}-\\frac{{\\left(x^{2} + y^{2}\\right)}^{2} x - x}{{\\left(x^{2} + y^{2}\\right)}^{2} y - y}$$"
      ],
      "text/plain": [
       "-((x^2 + y^2)^2*x - x)/((x^2 + y^2)^2*y - y)"
      ]
     },
     "execution_count": 83,
     "metadata": {},
     "output_type": "execute_result"
    }
   ],
   "source": [
    "F.implicit_derivative(y,x)"
   ]
  },
  {
   "cell_type": "code",
   "execution_count": 84,
   "metadata": {},
   "outputs": [
    {
     "data": {
      "text/html": [
       "<html>\\[\\newcommand{\\Bold}[1]{\\mathbf{#1}}-\\frac{x}{y}\\]</html>"
      ],
      "text/latex": [
       "$$\\newcommand{\\Bold}[1]{\\mathbf{#1}}-\\frac{x}{y}$$"
      ],
      "text/plain": [
       "-x/y"
      ]
     },
     "execution_count": 84,
     "metadata": {},
     "output_type": "execute_result"
    }
   ],
   "source": [
    "F.implicit_derivative(y,x).simplify_full()"
   ]
  },
  {
   "cell_type": "markdown",
   "metadata": {},
   "source": [
    "$\\dfrac{\\mathrm{d}^2y}{\\mathrm{d}x^2}$"
   ]
  },
  {
   "cell_type": "code",
   "execution_count": 85,
   "metadata": {
    "scrolled": true
   },
   "outputs": [
    {
     "data": {
      "text/html": [
       "<html>\\[\\newcommand{\\Bold}[1]{\\mathbf{#1}}-\\frac{4 \\, {\\left(x^{2} + y^{2}\\right)} x^{2} - \\frac{4 \\, {\\left({\\left(x^{2} + y^{2}\\right)}^{2} x - x\\right)} {\\left(x^{2} + y^{2}\\right)} x y}{{\\left(x^{2} + y^{2}\\right)}^{2} y - y} + {\\left(x^{2} + y^{2}\\right)}^{2} - 1}{{\\left(x^{2} + y^{2}\\right)}^{2} y - y} + \\frac{{\\left({\\left(x^{2} + y^{2}\\right)}^{2} x - x\\right)} {\\left(4 \\, {\\left(x^{2} + y^{2}\\right)} x y - \\frac{{\\left({\\left(x^{2} + y^{2}\\right)}^{2} x - x\\right)} {\\left(4 \\, {\\left(x^{2} + y^{2}\\right)} y^{2} + {\\left(x^{2} + y^{2}\\right)}^{2} - 1\\right)}}{{\\left(x^{2} + y^{2}\\right)}^{2} y - y}\\right)}}{{\\left({\\left(x^{2} + y^{2}\\right)}^{2} y - y\\right)}^{2}}\\]</html>"
      ],
      "text/latex": [
       "$$\\newcommand{\\Bold}[1]{\\mathbf{#1}}-\\frac{4 \\, {\\left(x^{2} + y^{2}\\right)} x^{2} - \\frac{4 \\, {\\left({\\left(x^{2} + y^{2}\\right)}^{2} x - x\\right)} {\\left(x^{2} + y^{2}\\right)} x y}{{\\left(x^{2} + y^{2}\\right)}^{2} y - y} + {\\left(x^{2} + y^{2}\\right)}^{2} - 1}{{\\left(x^{2} + y^{2}\\right)}^{2} y - y} + \\frac{{\\left({\\left(x^{2} + y^{2}\\right)}^{2} x - x\\right)} {\\left(4 \\, {\\left(x^{2} + y^{2}\\right)} x y - \\frac{{\\left({\\left(x^{2} + y^{2}\\right)}^{2} x - x\\right)} {\\left(4 \\, {\\left(x^{2} + y^{2}\\right)} y^{2} + {\\left(x^{2} + y^{2}\\right)}^{2} - 1\\right)}}{{\\left(x^{2} + y^{2}\\right)}^{2} y - y}\\right)}}{{\\left({\\left(x^{2} + y^{2}\\right)}^{2} y - y\\right)}^{2}}$$"
      ],
      "text/plain": [
       "-(4*(x^2 + y^2)*x^2 - 4*((x^2 + y^2)^2*x - x)*(x^2 + y^2)*x*y/((x^2 + y^2)^2*y - y) + (x^2 + y^2)^2 - 1)/((x^2 + y^2)^2*y - y) + ((x^2 + y^2)^2*x - x)*(4*(x^2 + y^2)*x*y - ((x^2 + y^2)^2*x - x)*(4*(x^2 + y^2)*y^2 + (x^2 + y^2)^2 - 1)/((x^2 + y^2)^2*y - y))/((x^2 + y^2)^2*y - y)^2"
      ]
     },
     "execution_count": 85,
     "metadata": {},
     "output_type": "execute_result"
    }
   ],
   "source": [
    "F.implicit_derivative(y,x,2)"
   ]
  },
  {
   "cell_type": "code",
   "execution_count": 86,
   "metadata": {},
   "outputs": [
    {
     "data": {
      "text/html": [
       "<html>\\[\\newcommand{\\Bold}[1]{\\mathbf{#1}}-\\frac{x^{2} + y^{2}}{y^{3}}\\]</html>"
      ],
      "text/latex": [
       "$$\\newcommand{\\Bold}[1]{\\mathbf{#1}}-\\frac{x^{2} + y^{2}}{y^{3}}$$"
      ],
      "text/plain": [
       "-(x^2 + y^2)/y^3"
      ]
     },
     "execution_count": 86,
     "metadata": {},
     "output_type": "execute_result"
    }
   ],
   "source": [
    "F.implicit_derivative(y,x,2).simplify_full()"
   ]
  },
  {
   "cell_type": "markdown",
   "metadata": {},
   "source": [
    "<div style=\"background-color: #F5FFFA; color: #000000; border: 2px solid #B0C4DE; border-radius: 15px; padding:0px 10px 25px; overflow:auto\">\n",
    "<h3>10. zadatak</h3>\n",
    "<p style=\"line-height:30px;\">Odredite $\\frac{\\partial z}{\\partial x}$ i $\\frac{\\partial z}{\\partial y}$ ako je</p>\n",
    "<p>$$x^2-2y^2+3z^2-yz+y=0.$$</p>\n",
    "</div>\n",
    "<h3>Rješenje</h3>"
   ]
  },
  {
   "cell_type": "code",
   "execution_count": 87,
   "metadata": {},
   "outputs": [],
   "source": [
    "F(x,y,z)=x^2-2*y^2+3*z^2-y*z+y"
   ]
  },
  {
   "cell_type": "markdown",
   "metadata": {},
   "source": [
    "<p>$\\dfrac{\\partial z}{\\partial x}$</p>"
   ]
  },
  {
   "cell_type": "code",
   "execution_count": 88,
   "metadata": {},
   "outputs": [
    {
     "data": {
      "text/html": [
       "<html>\\[\\newcommand{\\Bold}[1]{\\mathbf{#1}}\\frac{2 \\, x}{y - 6 \\, z}\\]</html>"
      ],
      "text/latex": [
       "$$\\newcommand{\\Bold}[1]{\\mathbf{#1}}\\frac{2 \\, x}{y - 6 \\, z}$$"
      ],
      "text/plain": [
       "2*x/(y - 6*z)"
      ]
     },
     "execution_count": 88,
     "metadata": {},
     "output_type": "execute_result"
    }
   ],
   "source": [
    "F.implicit_derivative(z,x)"
   ]
  },
  {
   "cell_type": "markdown",
   "metadata": {},
   "source": [
    "<p>$\\dfrac{\\partial z}{\\partial y}$</p>"
   ]
  },
  {
   "cell_type": "code",
   "execution_count": 89,
   "metadata": {},
   "outputs": [
    {
     "data": {
      "text/html": [
       "<html>\\[\\newcommand{\\Bold}[1]{\\mathbf{#1}}-\\frac{4 \\, y + z - 1}{y - 6 \\, z}\\]</html>"
      ],
      "text/latex": [
       "$$\\newcommand{\\Bold}[1]{\\mathbf{#1}}-\\frac{4 \\, y + z - 1}{y - 6 \\, z}$$"
      ],
      "text/plain": [
       "-(4*y + z - 1)/(y - 6*z)"
      ]
     },
     "execution_count": 89,
     "metadata": {},
     "output_type": "execute_result"
    }
   ],
   "source": [
    "F.implicit_derivative(z,y)"
   ]
  },
  {
   "cell_type": "markdown",
   "metadata": {},
   "source": [
    "<div style=\"background-color: #F5FFFA; color: #000000; border: 2px solid #B0C4DE; border-radius: 15px; padding:0px 10px 25px; overflow:auto\">\n",
    "<h3>11. zadatak</h3>\n",
    "<p style=\"line-height:30px;\">Odredite $\\frac{\\partial z}{\\partial x},\\ \\frac{\\partial z}{\\partial y},\\ \\frac{\\partial x}{\\partial y},\\ \\frac{\\partial x}{\\partial z},\\ \\frac{\\partial y}{\\partial x},\\ \\frac{\\partial y}{\\partial z}$ ako je</p>\n",
    "<p>$$y\\sin{x}+y^3\\ln{z}+xyz^2=0.$$</p>\n",
    "</div>\n",
    "<h3>Rješenje</h3>"
   ]
  },
  {
   "cell_type": "code",
   "execution_count": 90,
   "metadata": {},
   "outputs": [],
   "source": [
    "F(x,y,z)=y*sin(x)+y^3*log(z)+x*y*z^2"
   ]
  },
  {
   "cell_type": "markdown",
   "metadata": {},
   "source": [
    "<p>$\\dfrac{\\partial z}{\\partial x}$</p>"
   ]
  },
  {
   "cell_type": "code",
   "execution_count": 91,
   "metadata": {},
   "outputs": [
    {
     "data": {
      "text/html": [
       "<html>\\[\\newcommand{\\Bold}[1]{\\mathbf{#1}}-\\frac{z^{3} + z \\cos\\left(x\\right)}{2 \\, x z^{2} + y^{2}}\\]</html>"
      ],
      "text/latex": [
       "$$\\newcommand{\\Bold}[1]{\\mathbf{#1}}-\\frac{z^{3} + z \\cos\\left(x\\right)}{2 \\, x z^{2} + y^{2}}$$"
      ],
      "text/plain": [
       "-(z^3 + z*cos(x))/(2*x*z^2 + y^2)"
      ]
     },
     "execution_count": 91,
     "metadata": {},
     "output_type": "execute_result"
    }
   ],
   "source": [
    "F.implicit_derivative(z,x).simplify_full()"
   ]
  },
  {
   "cell_type": "markdown",
   "metadata": {},
   "source": [
    "<p>$\\dfrac{\\partial z}{\\partial y}$</p>"
   ]
  },
  {
   "cell_type": "code",
   "execution_count": 92,
   "metadata": {},
   "outputs": [
    {
     "data": {
      "text/html": [
       "<html>\\[\\newcommand{\\Bold}[1]{\\mathbf{#1}}-\\frac{x z^{3} + 3 \\, y^{2} z \\log\\left(z\\right) + z \\sin\\left(x\\right)}{2 \\, x y z^{2} + y^{3}}\\]</html>"
      ],
      "text/latex": [
       "$$\\newcommand{\\Bold}[1]{\\mathbf{#1}}-\\frac{x z^{3} + 3 \\, y^{2} z \\log\\left(z\\right) + z \\sin\\left(x\\right)}{2 \\, x y z^{2} + y^{3}}$$"
      ],
      "text/plain": [
       "-(x*z^3 + 3*y^2*z*log(z) + z*sin(x))/(2*x*y*z^2 + y^3)"
      ]
     },
     "execution_count": 92,
     "metadata": {},
     "output_type": "execute_result"
    }
   ],
   "source": [
    "F.implicit_derivative(z,y).simplify_full()"
   ]
  },
  {
   "cell_type": "markdown",
   "metadata": {},
   "source": [
    "<p>$\\dfrac{\\partial x}{\\partial y}$</p>"
   ]
  },
  {
   "cell_type": "code",
   "execution_count": 93,
   "metadata": {},
   "outputs": [
    {
     "data": {
      "text/html": [
       "<html>\\[\\newcommand{\\Bold}[1]{\\mathbf{#1}}-\\frac{x z^{2} + 3 \\, y^{2} \\log\\left(z\\right) + \\sin\\left(x\\right)}{y z^{2} + y \\cos\\left(x\\right)}\\]</html>"
      ],
      "text/latex": [
       "$$\\newcommand{\\Bold}[1]{\\mathbf{#1}}-\\frac{x z^{2} + 3 \\, y^{2} \\log\\left(z\\right) + \\sin\\left(x\\right)}{y z^{2} + y \\cos\\left(x\\right)}$$"
      ],
      "text/plain": [
       "-(x*z^2 + 3*y^2*log(z) + sin(x))/(y*z^2 + y*cos(x))"
      ]
     },
     "execution_count": 93,
     "metadata": {},
     "output_type": "execute_result"
    }
   ],
   "source": [
    "F.implicit_derivative(x,y).simplify_full()"
   ]
  },
  {
   "cell_type": "markdown",
   "metadata": {},
   "source": [
    "<p>$\\dfrac{\\partial x}{\\partial z}$</p>"
   ]
  },
  {
   "cell_type": "code",
   "execution_count": 94,
   "metadata": {},
   "outputs": [
    {
     "data": {
      "text/html": [
       "<html>\\[\\newcommand{\\Bold}[1]{\\mathbf{#1}}-\\frac{2 \\, x z^{2} + y^{2}}{z^{3} + z \\cos\\left(x\\right)}\\]</html>"
      ],
      "text/latex": [
       "$$\\newcommand{\\Bold}[1]{\\mathbf{#1}}-\\frac{2 \\, x z^{2} + y^{2}}{z^{3} + z \\cos\\left(x\\right)}$$"
      ],
      "text/plain": [
       "-(2*x*z^2 + y^2)/(z^3 + z*cos(x))"
      ]
     },
     "execution_count": 94,
     "metadata": {},
     "output_type": "execute_result"
    }
   ],
   "source": [
    "F.implicit_derivative(x,z).simplify_full()"
   ]
  },
  {
   "cell_type": "markdown",
   "metadata": {},
   "source": [
    "<p>$\\dfrac{\\partial y}{\\partial x}$</p>"
   ]
  },
  {
   "cell_type": "code",
   "execution_count": 95,
   "metadata": {},
   "outputs": [
    {
     "data": {
      "text/html": [
       "<html>\\[\\newcommand{\\Bold}[1]{\\mathbf{#1}}-\\frac{y z^{2} + y \\cos\\left(x\\right)}{x z^{2} + 3 \\, y^{2} \\log\\left(z\\right) + \\sin\\left(x\\right)}\\]</html>"
      ],
      "text/latex": [
       "$$\\newcommand{\\Bold}[1]{\\mathbf{#1}}-\\frac{y z^{2} + y \\cos\\left(x\\right)}{x z^{2} + 3 \\, y^{2} \\log\\left(z\\right) + \\sin\\left(x\\right)}$$"
      ],
      "text/plain": [
       "-(y*z^2 + y*cos(x))/(x*z^2 + 3*y^2*log(z) + sin(x))"
      ]
     },
     "execution_count": 95,
     "metadata": {},
     "output_type": "execute_result"
    }
   ],
   "source": [
    "F.implicit_derivative(y,x).simplify_full()"
   ]
  },
  {
   "cell_type": "markdown",
   "metadata": {},
   "source": [
    "<p>$\\dfrac{\\partial y}{\\partial z}$</p>"
   ]
  },
  {
   "cell_type": "code",
   "execution_count": 96,
   "metadata": {},
   "outputs": [
    {
     "data": {
      "text/html": [
       "<html>\\[\\newcommand{\\Bold}[1]{\\mathbf{#1}}-\\frac{2 \\, x y z^{2} + y^{3}}{x z^{3} + 3 \\, y^{2} z \\log\\left(z\\right) + z \\sin\\left(x\\right)}\\]</html>"
      ],
      "text/latex": [
       "$$\\newcommand{\\Bold}[1]{\\mathbf{#1}}-\\frac{2 \\, x y z^{2} + y^{3}}{x z^{3} + 3 \\, y^{2} z \\log\\left(z\\right) + z \\sin\\left(x\\right)}$$"
      ],
      "text/plain": [
       "-(2*x*y*z^2 + y^3)/(x*z^3 + 3*y^2*z*log(z) + z*sin(x))"
      ]
     },
     "execution_count": 96,
     "metadata": {},
     "output_type": "execute_result"
    }
   ],
   "source": [
    "F.implicit_derivative(y,z).simplify_full()"
   ]
  },
  {
   "cell_type": "code",
   "execution_count": null,
   "metadata": {},
   "outputs": [],
   "source": []
  }
 ],
 "metadata": {
  "kernelspec": {
   "display_name": "SageMath 9.4",
   "language": "sage",
   "name": "sagemath"
  },
  "language_info": {
   "codemirror_mode": {
    "name": "ipython",
    "version": 3
   },
   "file_extension": ".py",
   "mimetype": "text/x-python",
   "name": "python",
   "nbconvert_exporter": "python",
   "pygments_lexer": "ipython3",
   "version": "3.9.6"
  }
 },
 "nbformat": 4,
 "nbformat_minor": 4
}
