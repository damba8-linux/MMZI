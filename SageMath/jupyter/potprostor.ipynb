{
 "cells": [
  {
   "cell_type": "markdown",
   "metadata": {},
   "source": [
    "<h1>Baza i dimenzija potprostora</h1>\n",
    "<p style=\"font-style:italic;\">verzija: SageMath 9.4</p>"
   ]
  },
  {
   "cell_type": "code",
   "execution_count": 1,
   "metadata": {},
   "outputs": [],
   "source": [
    "%display latex"
   ]
  },
  {
   "cell_type": "code",
   "execution_count": 2,
   "metadata": {},
   "outputs": [
    {
     "data": {
      "text/html": [
       "<html>\\[\\newcommand{\\Bold}[1]{\\mathbf{#1}}\\left(y, z, s, t, a, b, c, d\\right)\\]</html>"
      ],
      "text/latex": [
       "$$\\newcommand{\\Bold}[1]{\\mathbf{#1}}\\left(y, z, s, t, a, b, c, d\\right)$$"
      ],
      "text/plain": [
       "(y, z, s, t, a, b, c, d)"
      ]
     },
     "execution_count": 2,
     "metadata": {},
     "output_type": "execute_result"
    }
   ],
   "source": [
    "var('y z s t a b c d')"
   ]
  },
  {
   "cell_type": "markdown",
   "metadata": {},
   "source": [
    "<h3>Problem</h3>\n",
    "<p style=\"line-height:25px;\">Baza vektorskog prostora nije jedinstvena. U zadacima u kojima treba odrediti neku bazu za neki vektorski prostor ili potprostor u rješenju je uvijek ponuđena jedna moguća baza. Međutim, ako vi dobijete neku drugu bazu, kako provjeriti da li je i vaša baza također dobra? Postavlja se zapravo pitanje kako ispitati za dvije dane baze da li određuju isti potprostor. Pokazat ćemo na dva primjera kako se to efikasno može ispitati.</p>"
   ]
  },
  {
   "cell_type": "markdown",
   "metadata": {},
   "source": [
    "<div style=\"background-color: #F5FFFA; color: #000000; border: 2px solid #B0C4DE; border-radius: 15px; padding:0px 10px 25px;\">\n",
    "<h3>Primjer 1</h3>\n",
    "<p>Neka je $W$ vektorski prostor svih rješenja homogenog sustava linearnih jednadžbi</p>\n",
    "<p>$$\\begin{align}x+2y+2z-s+3t&=0\\\\ x+2y+3z+s+t&=0\\,.\\\\ 3x+6y+8z+s+5t&=0\\end{align}$$</p>\n",
    "<p>Odredite jednu bazu i dimenziju prostora $W$.</p>\n",
    "</div>\n",
    "<h3>Rješenje</h3>"
   ]
  },
  {
   "cell_type": "code",
   "execution_count": 3,
   "metadata": {},
   "outputs": [],
   "source": [
    "sustav=[x+2*y+2*z-s+3*t==0,x+2*y+3*z+s+t==0,3*x+6*y+8*z+s+5*t==0]"
   ]
  },
  {
   "cell_type": "markdown",
   "metadata": {},
   "source": [
    "<p>Riješimo li sustav tako da varijable $y$, $s$ i $t$ budu parametri, dobivamo</p>\n",
    "<p>$$(x,y,z,s,t)=(-2y+5s-7t,\\, y,\\, -2s+2t,\\, s,\\, t)=y(-2,1,0,0,0)+s(5,0,-2,1,0)+t(-7,0,2,0,1)$$</p>\n",
    "<p style=\"line-height: 35px;\">iz čega slijedi da je $\\mathcal{B}_1=\\big\\{(-2,1,0,0,0),\\,(5,0,-2,1,0),\\,(-7,0,2,0,1)\\big\\}$ jedna baza za $W$ pa je $\\dim{W}=3$.</p>"
   ]
  },
  {
   "cell_type": "code",
   "execution_count": 4,
   "metadata": {},
   "outputs": [
    {
     "data": {
      "text/html": [
       "<html>\\[\\newcommand{\\Bold}[1]{\\mathbf{#1}}\\left[\\left[x = -7 \\, r_{1} + 5 \\, r_{2} - 2 \\, r_{3}, y = r_{3}, z = 2 \\, r_{1} - 2 \\, r_{2}, s = r_{2}, t = r_{1}\\right]\\right]\\]</html>"
      ],
      "text/latex": [
       "$$\\newcommand{\\Bold}[1]{\\mathbf{#1}}\\left[\\left[x = -7 \\, r_{1} + 5 \\, r_{2} - 2 \\, r_{3}, y = r_{3}, z = 2 \\, r_{1} - 2 \\, r_{2}, s = r_{2}, t = r_{1}\\right]\\right]$$"
      ],
      "text/plain": [
       "[[x == -7*r1 + 5*r2 - 2*r3, y == r3, z == 2*r1 - 2*r2, s == r2, t == r1]]"
      ]
     },
     "execution_count": 4,
     "metadata": {},
     "output_type": "execute_result"
    }
   ],
   "source": [
    "solve(sustav,[x,y,z,s,t])"
   ]
  },
  {
   "cell_type": "markdown",
   "metadata": {},
   "source": [
    "<p>Riješimo li sustav tako da varijable $x$, $y$ i $z$ budu parametri, dobivamo</p>\n",
    "<p>$$(x,y,z,s,t)=\\Big(x,\\, y,\\, z,\\, -\\frac{1}{2}x-y-\\frac{7}{4}z,\\, -\\frac{1}{2}x-y-\\frac{5}{4}z\\Big)=x\\Big(1,0,0,-\\frac{1}{2},-\\frac{1}{2}\\Big)+y(0,1,0,-1,-1)+z\\Big(0,0,1,-\\frac{7}{4},-\\frac{5}{4}\\Big)$$</p>\n",
    "<p>iz čega slijedi da je $\\mathcal{B}_2=\\left\\{\\Big(1,0,0,-\\frac{1}{2},-\\frac{1}{2}\\Big),\\, (0,1,0,-1,-1),\\, \\Big(0,0,1,-\\frac{7}{4},-\\frac{5}{4}\\Big)\\right\\}$ jedna baza za $W$ pa je $\\dim{W}=3$.</p>"
   ]
  },
  {
   "cell_type": "code",
   "execution_count": 5,
   "metadata": {},
   "outputs": [
    {
     "data": {
      "text/html": [
       "<html>\\[\\newcommand{\\Bold}[1]{\\mathbf{#1}}\\left[\\left[s = -\\frac{7}{4} \\, r_{4} - r_{5} - \\frac{1}{2} \\, r_{6}, t = -\\frac{5}{4} \\, r_{4} - r_{5} - \\frac{1}{2} \\, r_{6}, x = r_{6}, y = r_{5}, z = r_{4}\\right]\\right]\\]</html>"
      ],
      "text/latex": [
       "$$\\newcommand{\\Bold}[1]{\\mathbf{#1}}\\left[\\left[s = -\\frac{7}{4} \\, r_{4} - r_{5} - \\frac{1}{2} \\, r_{6}, t = -\\frac{5}{4} \\, r_{4} - r_{5} - \\frac{1}{2} \\, r_{6}, x = r_{6}, y = r_{5}, z = r_{4}\\right]\\right]$$"
      ],
      "text/plain": [
       "[[s == -7/4*r4 - r5 - 1/2*r6, t == -5/4*r4 - r5 - 1/2*r6, x == r6, y == r5, z == r4]]"
      ]
     },
     "execution_count": 5,
     "metadata": {},
     "output_type": "execute_result"
    }
   ],
   "source": [
    "solve(sustav,[s,t,x,y,z])"
   ]
  },
  {
   "cell_type": "markdown",
   "metadata": {},
   "source": [
    "<p style=\"line-height: 50px;\">Pretpostavimo da je u rješenju dana baza $\\mathcal{B}_1=\\big\\{(-2,1,0,0,0),\\,(5,0,-2,1,0),\\,(-7,0,2,0,1)\\big\\}$ za prostor $W$, a da ste vi tijekom rješavanja sustava dobili bazu $\\mathcal{B}_2=\\left\\{\\Big(1,0,0,-\\frac{1}{2},-\\frac{1}{2}\\Big),\\, (0,1,0,-1,-1),\\, \\Big(0,0,1,-\\frac{7}{4},-\\frac{5}{4}\\Big)\\right\\}$ za prostor $W$.</p>\n",
    "<p style=\"line-height: 35px;\">Pitanje je sada kako ispitati da li je i vaše rješenje za bazu zaista dobro, tj. pitamo se da li baze $\\mathcal{B}_1$ i $\\mathcal{B}_2$ razapinju isti potprostor od $\\mathbb{R}^5$. Kao prvo, vaša baza i baza ponuđena u rješenju moraju imati isti broj elemenata. U ovom slučaju $\\mathcal{B}_1$ i $\\mathcal{B}_2$ imaju isti broj elemenata. No, to još uvijek ne znači da razapinju isti potprostor od $\\mathbb{R}^5$. Sada vektore iz baze $\\mathcal{B}_1$ smjestimo u retke matrice $B_1$, a vektore iz baze $\\mathcal{B}_2$ smjestimo u retke matrice $B_2$. Možemo vektore smjestiti u stupce umjesto u retke, ali lakše je u SAGE-u matricu unositi po recima. Općenito u retke matrice stavljamo zapravo koordinate promatranih vektora s obzirom na kanonsku bazu promatranog vektorskog prostora.</p>"
   ]
  },
  {
   "cell_type": "code",
   "execution_count": 6,
   "metadata": {},
   "outputs": [],
   "source": [
    "B1=matrix(QQ,[[-2,1,0,0,0],[5,0,-2,1,0],[-7,0,2,0,1]])\n",
    "B2=matrix(QQ,[[1,0,0,-1/2,-1/2],[0,1,0,-1,-1],[0,0,1,-7/4,-5/4]])"
   ]
  },
  {
   "cell_type": "code",
   "execution_count": 7,
   "metadata": {},
   "outputs": [
    {
     "data": {
      "text/html": [
       "<html>\\[\\newcommand{\\Bold}[1]{\\mathbf{#1}}\\left(\\left(\\begin{array}{rrrrr}\n",
       "-2 & 1 & 0 & 0 & 0 \\\\\n",
       "5 & 0 & -2 & 1 & 0 \\\\\n",
       "-7 & 0 & 2 & 0 & 1\n",
       "\\end{array}\\right), \\left(\\begin{array}{rrrrr}\n",
       "1 & 0 & 0 & -\\frac{1}{2} & -\\frac{1}{2} \\\\\n",
       "0 & 1 & 0 & -1 & -1 \\\\\n",
       "0 & 0 & 1 & -\\frac{7}{4} & -\\frac{5}{4}\n",
       "\\end{array}\\right)\\right)\\]</html>"
      ],
      "text/latex": [
       "$$\\newcommand{\\Bold}[1]{\\mathbf{#1}}\\left(\\left(\\begin{array}{rrrrr}\n",
       "-2 & 1 & 0 & 0 & 0 \\\\\n",
       "5 & 0 & -2 & 1 & 0 \\\\\n",
       "-7 & 0 & 2 & 0 & 1\n",
       "\\end{array}\\right), \\left(\\begin{array}{rrrrr}\n",
       "1 & 0 & 0 & -\\frac{1}{2} & -\\frac{1}{2} \\\\\n",
       "0 & 1 & 0 & -1 & -1 \\\\\n",
       "0 & 0 & 1 & -\\frac{7}{4} & -\\frac{5}{4}\n",
       "\\end{array}\\right)\\right)$$"
      ],
      "text/plain": [
       "(\n",
       "[-2  1  0  0  0]  [   1    0    0 -1/2 -1/2]\n",
       "[ 5  0 -2  1  0]  [   0    1    0   -1   -1]\n",
       "[-7  0  2  0  1], [   0    0    1 -7/4 -5/4]\n",
       ")"
      ]
     },
     "execution_count": 7,
     "metadata": {},
     "output_type": "execute_result"
    }
   ],
   "source": [
    "B1,B2"
   ]
  },
  {
   "cell_type": "markdown",
   "metadata": {},
   "source": [
    "<p style=\"line-height: 30px;\">Izračunamo rangove matrica $B_1$ i $B_2$. Kako obje matrice imaju rang $3$, to znači da su oba skupa $\\mathcal{B}_1$ i $\\mathcal{B}_2$ linearno nezavisni i zaista oba skupa razapinju potprostore dimenzije $3$.</p>"
   ]
  },
  {
   "cell_type": "code",
   "execution_count": 8,
   "metadata": {},
   "outputs": [
    {
     "data": {
      "text/html": [
       "<html>\\[\\newcommand{\\Bold}[1]{\\mathbf{#1}}\\left(3, 3\\right)\\]</html>"
      ],
      "text/latex": [
       "$$\\newcommand{\\Bold}[1]{\\mathbf{#1}}\\left(3, 3\\right)$$"
      ],
      "text/plain": [
       "(3, 3)"
      ]
     },
     "execution_count": 8,
     "metadata": {},
     "output_type": "execute_result"
    }
   ],
   "source": [
    "rank(B1),rank(B2)"
   ]
  },
  {
   "cell_type": "markdown",
   "metadata": {},
   "source": [
    "<p style=\"line-height: 35px;\">Konačno, sve vektore iz $\\mathcal{B}_1$ i $\\mathcal{B}_2$ smjestimo u retke jedne matrice $B$ i izračunamo njezin rang. Kako je rang te matrice i dalje ostao jednak $3$, to znači da baze $\\mathcal{B}_1$ i $\\mathcal{B}_2$ razapinju isti potprostor od $\\mathbb{R}^5$. Dakle, da bi vaše rješenje bilo dobro, moraju sve tri matrice $B_1$, $B_2$ i $B$ imati isti rang koji je u ovom slučaju jednak $3$, što je jednako dimenziji potprostora $W$.</p>"
   ]
  },
  {
   "cell_type": "code",
   "execution_count": 9,
   "metadata": {},
   "outputs": [
    {
     "data": {
      "text/html": [
       "<html>\\[\\newcommand{\\Bold}[1]{\\mathbf{#1}}\\left(\\begin{array}{rrrrr}\n",
       "-2 & 1 & 0 & 0 & 0 \\\\\n",
       "5 & 0 & -2 & 1 & 0 \\\\\n",
       "-7 & 0 & 2 & 0 & 1 \\\\\n",
       "1 & 0 & 0 & -\\frac{1}{2} & -\\frac{1}{2} \\\\\n",
       "0 & 1 & 0 & -1 & -1 \\\\\n",
       "0 & 0 & 1 & -\\frac{7}{4} & -\\frac{5}{4}\n",
       "\\end{array}\\right)\\]</html>"
      ],
      "text/latex": [
       "$$\\newcommand{\\Bold}[1]{\\mathbf{#1}}\\left(\\begin{array}{rrrrr}\n",
       "-2 & 1 & 0 & 0 & 0 \\\\\n",
       "5 & 0 & -2 & 1 & 0 \\\\\n",
       "-7 & 0 & 2 & 0 & 1 \\\\\n",
       "1 & 0 & 0 & -\\frac{1}{2} & -\\frac{1}{2} \\\\\n",
       "0 & 1 & 0 & -1 & -1 \\\\\n",
       "0 & 0 & 1 & -\\frac{7}{4} & -\\frac{5}{4}\n",
       "\\end{array}\\right)$$"
      ],
      "text/plain": [
       "[  -2    1    0    0    0]\n",
       "[   5    0   -2    1    0]\n",
       "[  -7    0    2    0    1]\n",
       "[   1    0    0 -1/2 -1/2]\n",
       "[   0    1    0   -1   -1]\n",
       "[   0    0    1 -7/4 -5/4]"
      ]
     },
     "execution_count": 9,
     "metadata": {},
     "output_type": "execute_result"
    }
   ],
   "source": [
    "B=B1.stack(B2); B"
   ]
  },
  {
   "cell_type": "code",
   "execution_count": 10,
   "metadata": {},
   "outputs": [
    {
     "data": {
      "text/html": [
       "<html>\\[\\newcommand{\\Bold}[1]{\\mathbf{#1}}3\\]</html>"
      ],
      "text/latex": [
       "$$\\newcommand{\\Bold}[1]{\\mathbf{#1}}3$$"
      ],
      "text/plain": [
       "3"
      ]
     },
     "execution_count": 10,
     "metadata": {},
     "output_type": "execute_result"
    }
   ],
   "source": [
    "rank(B)"
   ]
  },
  {
   "cell_type": "markdown",
   "metadata": {},
   "source": [
    "<p>Dakle, $\\mathcal{B}_1$ i $\\mathcal{B}_2$ su zaista dvije različite baze prostora $W$.</p>"
   ]
  },
  {
   "cell_type": "markdown",
   "metadata": {},
   "source": [
    "<div style=\"background-color: #F5FFFA; color: #000000; border: 2px solid #B0C4DE; border-radius: 15px; padding:0px 10px 25px;\">\n",
    "<h3>Primjer 2</h3>\n",
    "<p>Odredite jednu bazu i dimenziju prostora $V=\\left\\{\\begin{bmatrix}a&b\\\\ c&d\\end{bmatrix}\\in M_2(\\mathbb{R}):\\, c+2d=0,\\  a+b-2c=0\\right\\}$.</p>\n",
    "</div>\n",
    "<h3>Rješenje</h3>"
   ]
  },
  {
   "cell_type": "code",
   "execution_count": 11,
   "metadata": {},
   "outputs": [],
   "source": [
    "sustav2=[c+2*d==0,a+b-2*c==0]"
   ]
  },
  {
   "cell_type": "markdown",
   "metadata": {},
   "source": [
    "<p>Riješimo li sustav $c+2d=0,\\ a+b-2c=0$ tako da varijable $a$ i $c$ budu parametri, dobivamo</p>\n",
    "<p>$$\\begin{bmatrix}a&b\\\\ c&d\\end{bmatrix}=\\begin{bmatrix}a&-a+2c\\\\ c&-\\frac{1}{2}c\\end{bmatrix}=a\\begin{bmatrix}1&-1\\\\ 0&0\\end{bmatrix}+c\\begin{bmatrix}0&2\\\\ 1&-\\frac{1}{2}\\end{bmatrix}$$</p>\n",
    "<p>pa je $\\mathcal{B}_1=\\left\\{\\begin{bmatrix}1&-1\\\\ 0&0\\end{bmatrix},\\ \\begin{bmatrix}0&2\\\\ 1&-\\frac{1}{2}\\end{bmatrix}\\right\\}$ jedna baza za $V$  i  $\\dim{V}=2$.</p>"
   ]
  },
  {
   "cell_type": "code",
   "execution_count": 12,
   "metadata": {},
   "outputs": [
    {
     "data": {
      "text/html": [
       "<html>\\[\\newcommand{\\Bold}[1]{\\mathbf{#1}}\\left[\\left[d = -\\frac{1}{2} \\, r_{8}, b = -r_{7} + 2 \\, r_{8}, c = r_{8}, a = r_{7}\\right]\\right]\\]</html>"
      ],
      "text/latex": [
       "$$\\newcommand{\\Bold}[1]{\\mathbf{#1}}\\left[\\left[d = -\\frac{1}{2} \\, r_{8}, b = -r_{7} + 2 \\, r_{8}, c = r_{8}, a = r_{7}\\right]\\right]$$"
      ],
      "text/plain": [
       "[[d == -1/2*r8, b == -r7 + 2*r8, c == r8, a == r7]]"
      ]
     },
     "execution_count": 12,
     "metadata": {},
     "output_type": "execute_result"
    }
   ],
   "source": [
    "solve(sustav2,[d,b,c,a])"
   ]
  },
  {
   "cell_type": "markdown",
   "metadata": {},
   "source": [
    "<p>Riješimo li sustav $c+2d=0,\\ a+b-2c=0$ tako da varijable $a$ i $b$ budu parametri, dobivamo</p>\n",
    "<p>$$\\begin{bmatrix}a&b\\\\ c&d\\end{bmatrix}=\\begin{bmatrix}a&b\\\\ \\frac{1}{2}a+\\frac{1}{2}b&-\\frac{1}{4}a-\\frac{1}{4}b\\end{bmatrix}=a\\begin{bmatrix}1&0\\\\ \\frac{1}{2}&-\\frac{1}{4}\\end{bmatrix}+b\\begin{bmatrix}0&1\\\\ \\frac{1}{2}&-\\frac{1}{4}\\end{bmatrix}$$</p>\n",
    "<p>pa je $\\mathcal{B}_2=\\left\\{\\begin{bmatrix}1&0\\\\ \\frac{1}{2}&-\\frac{1}{4}\\end{bmatrix},\\ \\begin{bmatrix}0&1\\\\ \\frac{1}{2}&-\\frac{1}{4}\\end{bmatrix}\\right\\}$ jedna baza za $V$  i  $\\dim{V}=2$.</p>"
   ]
  },
  {
   "cell_type": "code",
   "execution_count": 13,
   "metadata": {},
   "outputs": [
    {
     "data": {
      "text/html": [
       "<html>\\[\\newcommand{\\Bold}[1]{\\mathbf{#1}}\\left[\\left[c = \\frac{1}{2} \\, r_{10} + \\frac{1}{2} \\, r_{9}, d = -\\frac{1}{4} \\, r_{10} - \\frac{1}{4} \\, r_{9}, a = r_{10}, b = r_{9}\\right]\\right]\\]</html>"
      ],
      "text/latex": [
       "$$\\newcommand{\\Bold}[1]{\\mathbf{#1}}\\left[\\left[c = \\frac{1}{2} \\, r_{10} + \\frac{1}{2} \\, r_{9}, d = -\\frac{1}{4} \\, r_{10} - \\frac{1}{4} \\, r_{9}, a = r_{10}, b = r_{9}\\right]\\right]$$"
      ],
      "text/plain": [
       "[[c == 1/2*r10 + 1/2*r9, d == -1/4*r10 - 1/4*r9, a == r10, b == r9]]"
      ]
     },
     "execution_count": 13,
     "metadata": {},
     "output_type": "execute_result"
    }
   ],
   "source": [
    "solve(sustav2,[c,d,a,b])"
   ]
  },
  {
   "cell_type": "markdown",
   "metadata": {},
   "source": [
    "<p style=\"line-height: 35px;\">Da bismo provjerili da $\\mathcal{B}_1$ i $\\mathcal{B}_2$ razapinju isti potprostor od $M_2(\\mathbb{R})$, koordinate vektora iz tih skupova u kanonskoj bazi od $M_2(\\mathbb{R})$ smjestimo redom u matrice $B_1$, $B_2$ i $B$ kao i u prethodnom primjeru i provjerimo da sve tri matrice imaju isti rang koji je u ovom slučaju jednak $2$. </p>"
   ]
  },
  {
   "cell_type": "code",
   "execution_count": 14,
   "metadata": {},
   "outputs": [],
   "source": [
    "B1=matrix(QQ,[[1,-1,0,0],[0,2,1,-1/2]])\n",
    "B2=matrix(QQ,[[1,0,1/2,-1/4],[0,1,1/2,-1/4]])\n",
    "B=B1.stack(B2)"
   ]
  },
  {
   "cell_type": "code",
   "execution_count": 15,
   "metadata": {},
   "outputs": [
    {
     "data": {
      "text/html": [
       "<html>\\[\\newcommand{\\Bold}[1]{\\mathbf{#1}}\\left(\\left(\\begin{array}{rrrr}\n",
       "1 & -1 & 0 & 0 \\\\\n",
       "0 & 2 & 1 & -\\frac{1}{2}\n",
       "\\end{array}\\right), \\left(\\begin{array}{rrrr}\n",
       "1 & 0 & \\frac{1}{2} & -\\frac{1}{4} \\\\\n",
       "0 & 1 & \\frac{1}{2} & -\\frac{1}{4}\n",
       "\\end{array}\\right), \\left(\\begin{array}{rrrr}\n",
       "1 & -1 & 0 & 0 \\\\\n",
       "0 & 2 & 1 & -\\frac{1}{2} \\\\\n",
       "1 & 0 & \\frac{1}{2} & -\\frac{1}{4} \\\\\n",
       "0 & 1 & \\frac{1}{2} & -\\frac{1}{4}\n",
       "\\end{array}\\right)\\right)\\]</html>"
      ],
      "text/latex": [
       "$$\\newcommand{\\Bold}[1]{\\mathbf{#1}}\\left(\\left(\\begin{array}{rrrr}\n",
       "1 & -1 & 0 & 0 \\\\\n",
       "0 & 2 & 1 & -\\frac{1}{2}\n",
       "\\end{array}\\right), \\left(\\begin{array}{rrrr}\n",
       "1 & 0 & \\frac{1}{2} & -\\frac{1}{4} \\\\\n",
       "0 & 1 & \\frac{1}{2} & -\\frac{1}{4}\n",
       "\\end{array}\\right), \\left(\\begin{array}{rrrr}\n",
       "1 & -1 & 0 & 0 \\\\\n",
       "0 & 2 & 1 & -\\frac{1}{2} \\\\\n",
       "1 & 0 & \\frac{1}{2} & -\\frac{1}{4} \\\\\n",
       "0 & 1 & \\frac{1}{2} & -\\frac{1}{4}\n",
       "\\end{array}\\right)\\right)$$"
      ],
      "text/plain": [
       "(\n",
       "                                              [   1   -1    0    0]\n",
       "                                              [   0    2    1 -1/2]\n",
       "[   1   -1    0    0]  [   1    0  1/2 -1/4]  [   1    0  1/2 -1/4]\n",
       "[   0    2    1 -1/2], [   0    1  1/2 -1/4], [   0    1  1/2 -1/4]\n",
       ")"
      ]
     },
     "execution_count": 15,
     "metadata": {},
     "output_type": "execute_result"
    }
   ],
   "source": [
    "B1,B2,B"
   ]
  },
  {
   "cell_type": "code",
   "execution_count": 16,
   "metadata": {},
   "outputs": [
    {
     "data": {
      "text/html": [
       "<html>\\[\\newcommand{\\Bold}[1]{\\mathbf{#1}}\\left(2, 2, 2\\right)\\]</html>"
      ],
      "text/latex": [
       "$$\\newcommand{\\Bold}[1]{\\mathbf{#1}}\\left(2, 2, 2\\right)$$"
      ],
      "text/plain": [
       "(2, 2, 2)"
      ]
     },
     "execution_count": 16,
     "metadata": {},
     "output_type": "execute_result"
    }
   ],
   "source": [
    "rank(B1),rank(B2),rank(B)"
   ]
  },
  {
   "cell_type": "markdown",
   "metadata": {},
   "source": [
    "<p>Dakle, $\\mathcal{B}_1$ i $\\mathcal{B}_2$ su zaista dvije različite baze za potprostor $V$.</p>\n",
    "\n",
    "<h2>Maxima</h2>\n",
    "<p style=\"line-height:25px;\">Gore pokazane provjere možemo napraviti i u Maximi. Ovdje ćemo maximu pozvati direktno iz SAGE-a, tako da na početku ćelije napišemo <span style=\"color: #ff0000;\"><em>%%maxima</em></span>. Na taj način govorimo SAGE-u da u toj ćeliji unosimo maxima kod kojeg će onda izvršiti Maxima. Donje kodove možete izvršiti direktno i u programu Maxima bez SAGE-a, na primjer u wxMaxima sučelju u kojemu će se matrice također lijepo ispisati u obliku tablice. Ovdje ćemo samo pokazati provjere na matricama bez prethodnog rješavanja sustava, iako i u maximi također možemo rješavati sustave linearnih jednadžbi pomoću gotove naredbe <span style=\"color: #ff0000;\"><em>linsolve</em></span> slično kao i u SAGE-u pomoću naredbe <span style=\"color: #ff0000;\"><em>solve</em></span>.</p>\n",
    "\n",
    "<h3>Primjer 1</h3>"
   ]
  },
  {
   "cell_type": "code",
   "execution_count": 17,
   "metadata": {},
   "outputs": [
    {
     "name": "stdout",
     "output_type": "stream",
     "text": [
      "matrix([-2,1,0,0,0],[5,0,-2,1,0],[-7,0,2,0,1])\n",
      "matrix([1,0,0,-1/2,-1/2],[0,1,0,-1,-1],[0,0,1,-7/4,-5/4])\n",
      "matrix([-2,1,0,0,0],[5,0,-2,1,0],[-7,0,2,0,1],[1,0,0,-1/2,-1/2],[0,1,0,-1,-1],[0,0,1,-7/4,-5/4])\n",
      "3\n",
      "3\n",
      "3\n"
     ]
    }
   ],
   "source": [
    "%%maxima\n",
    "B1:matrix([-2,1,0,0,0],[5,0,-2,1,0],[-7,0,2,0,1]);\n",
    "B2:matrix([1,0,0,-1/2,-1/2],[0,1,0,-1,-1],[0,0,1,-7/4,-5/4]);\n",
    "B:addrow(B1,B2);\n",
    "rank(B1);\n",
    "rank(B2);\n",
    "rank(B);"
   ]
  },
  {
   "cell_type": "markdown",
   "metadata": {},
   "source": [
    "<h3>Primjer 2</h3>"
   ]
  },
  {
   "cell_type": "code",
   "execution_count": 18,
   "metadata": {},
   "outputs": [
    {
     "name": "stdout",
     "output_type": "stream",
     "text": [
      "matrix([1,-1,0,0],[0,2,1,-1/2])\n",
      "matrix([1,0,1/2,-1/4],[0,1,1/2,-1/4])\n",
      "matrix([1,-1,0,0],[0,2,1,-1/2],[1,0,1/2,-1/4],[0,1,1/2,-1/4])\n",
      "2\n",
      "2\n",
      "2\n"
     ]
    }
   ],
   "source": [
    "%%maxima\n",
    "B1:matrix([1,-1,0,0],[0,2,1,-1/2]);\n",
    "B2:matrix([1,0,1/2,-1/4],[0,1,1/2,-1/4]);\n",
    "B:addrow(B1,B2);\n",
    "rank(B1);\n",
    "rank(B2);\n",
    "rank(B);"
   ]
  },
  {
   "cell_type": "code",
   "execution_count": null,
   "metadata": {},
   "outputs": [],
   "source": []
  }
 ],
 "metadata": {
  "kernelspec": {
   "display_name": "SageMath 9.4",
   "language": "sage",
   "name": "sagemath"
  },
  "language": "python",
  "language_info": {
   "codemirror_mode": {
    "name": "ipython",
    "version": 3
   },
   "file_extension": ".py",
   "mimetype": "text/x-python",
   "name": "python",
   "nbconvert_exporter": "python",
   "pygments_lexer": "ipython3",
   "version": "3.9.6"
  }
 },
 "nbformat": 4,
 "nbformat_minor": 4
}
