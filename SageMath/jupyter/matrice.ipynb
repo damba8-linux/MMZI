{
 "cells": [
  {
   "cell_type": "markdown",
   "source": [
    "<h1>Matrice u SAGE-u</h1>\n",
    "<p><i>verzija: SageMath 9.4</i></p>\n",
    "<h4>Važna napomena</h4>\n",
    "<p>SAGE kao i python počinje numeraciju s brojem nula u listama i matricama. Stoga, prema našoj definiciji element na poziciji $(1,3)$ je u SAGE-u zapravo na poziciji $(0,2)$. Općenito, element na poziciji $(i,j)$ je u SAGE-u na poziciji $(i-1,j-1)$. To treba imati na umu kada radimo s matricama u SAGE-u, što već možete vidjeti u sljedećem zadatku.</p>"
   ],
   "metadata": {}
  },
  {
   "cell_type": "markdown",
   "source": [
    "<div style=\"background-color: #F5FFFA; color: #000000; border: 2px solid #B0C4DE; border-radius: 15px; padding:0px 10px 25px;\">\n",
    "<h3>1. zadatak</h3>\n",
    "<p style=\"line-height:30px;\">Napišite matricu $A=\\big[a_{ij}\\big]$ tipa $(3,4)$ ako je $a_{ij}=\\begin{cases}\\cos{\\frac{i\\pi}{2}},&\\text{ za }i>j\\\\ \\log_2{(i+j)},&\\text{ za }i\\leq j\\end{cases}.$</p>\n",
    "</div>\n",
    "<h3>Rješenje</h3>"
   ],
   "metadata": {}
  },
  {
   "cell_type": "markdown",
   "source": [
    "<p><strong>1. način.</strong> Možemo najprije definirati python listu, a zatim iz nje dobiti matricu pomoću naredbe <span style=\"color: #ff0000;\"><strong>matrix</strong></span>. Python lista nije matrica i ne podržava metode na matricama (poput računanja determinanti, binarne operacije s matricama i slično). Stoga je uvijek važno upotrijebiti ključnu riječ <span style=\"color: #ff0000;\"><strong>matrix </strong></span> kako bismo zaista u SAGE-u kreirali matricu koja će podržavati sve standardne operacije s matricama.</span><strong><br /></strong></p>\n",
    "<p><span style=\"color: #ff0000;\"><strong>a</strong></span> je python lista</p>"
   ],
   "metadata": {}
  },
  {
   "cell_type": "code",
   "execution_count": 1,
   "source": [
    "a=[[cos((i*pi)/2) if i>j else log(i+j,2) for j in range(1,5)] for i in range(1,4)]"
   ],
   "outputs": [],
   "metadata": {}
  },
  {
   "cell_type": "code",
   "execution_count": 2,
   "source": [
    "a"
   ],
   "outputs": [
    {
     "output_type": "execute_result",
     "data": {
      "text/plain": [
       "[[1, log(3)/log(2), 2, log(5)/log(2)],\n",
       " [-1, 2, log(5)/log(2), log(6)/log(2)],\n",
       " [0, 0, log(6)/log(2), log(7)/log(2)]]"
      ]
     },
     "metadata": {},
     "execution_count": 2
    }
   ],
   "metadata": {}
  },
  {
   "cell_type": "markdown",
   "source": [
    "<p><span style=\"color: #ff0000;\"><strong>A</strong></span> je matrica</p>"
   ],
   "metadata": {}
  },
  {
   "cell_type": "code",
   "execution_count": 3,
   "source": [
    "A=matrix(a)\n",
    "A"
   ],
   "outputs": [
    {
     "output_type": "execute_result",
     "data": {
      "text/plain": [
       "[            1 log(3)/log(2)             2 log(5)/log(2)]\n",
       "[           -1             2 log(5)/log(2) log(6)/log(2)]\n",
       "[            0             0 log(6)/log(2) log(7)/log(2)]"
      ]
     },
     "metadata": {},
     "execution_count": 3
    }
   ],
   "metadata": {}
  },
  {
   "cell_type": "code",
   "execution_count": 4,
   "source": [
    "show(A)"
   ],
   "outputs": [
    {
     "output_type": "display_data",
     "data": {
      "text/html": [
       "<html>\\[\\newcommand{\\Bold}[1]{\\mathbf{#1}}\\left(\\begin{array}{rrrr}\n",
       "1 & \\frac{\\log\\left(3\\right)}{\\log\\left(2\\right)} & 2 & \\frac{\\log\\left(5\\right)}{\\log\\left(2\\right)} \\\\\n",
       "-1 & 2 & \\frac{\\log\\left(5\\right)}{\\log\\left(2\\right)} & \\frac{\\log\\left(6\\right)}{\\log\\left(2\\right)} \\\\\n",
       "0 & 0 & \\frac{\\log\\left(6\\right)}{\\log\\left(2\\right)} & \\frac{\\log\\left(7\\right)}{\\log\\left(2\\right)}\n",
       "\\end{array}\\right)\\]</html>"
      ],
      "text/latex": [
       "$$\\newcommand{\\Bold}[1]{\\mathbf{#1}}\\left(\\begin{array}{rrrr}\n",
       "1 & \\frac{\\log\\left(3\\right)}{\\log\\left(2\\right)} & 2 & \\frac{\\log\\left(5\\right)}{\\log\\left(2\\right)} \\\\\n",
       "-1 & 2 & \\frac{\\log\\left(5\\right)}{\\log\\left(2\\right)} & \\frac{\\log\\left(6\\right)}{\\log\\left(2\\right)} \\\\\n",
       "0 & 0 & \\frac{\\log\\left(6\\right)}{\\log\\left(2\\right)} & \\frac{\\log\\left(7\\right)}{\\log\\left(2\\right)}\n",
       "\\end{array}\\right)$$"
      ],
      "text/plain": [
       "[            1 log(3)/log(2)             2 log(5)/log(2)]\n",
       "[           -1             2 log(5)/log(2) log(6)/log(2)]\n",
       "[            0             0 log(6)/log(2) log(7)/log(2)]"
      ]
     },
     "metadata": {}
    }
   ],
   "metadata": {}
  },
  {
   "cell_type": "markdown",
   "source": [
    "<p><span style=\"color: #ff0000;\"><strong>A</strong></span> je matrica nad simboličkim prstenom (zbog logaritamske funkcije)</p>"
   ],
   "metadata": {}
  },
  {
   "cell_type": "code",
   "execution_count": 5,
   "source": [
    "A.parent()"
   ],
   "outputs": [
    {
     "output_type": "execute_result",
     "data": {
      "text/plain": [
       "Full MatrixSpace of 3 by 4 dense matrices over Symbolic Ring"
      ]
     },
     "metadata": {},
     "execution_count": 5
    }
   ],
   "metadata": {}
  },
  {
   "cell_type": "code",
   "execution_count": 6,
   "source": [
    "A.base_ring()"
   ],
   "outputs": [
    {
     "output_type": "execute_result",
     "data": {
      "text/plain": [
       "Symbolic Ring"
      ]
     },
     "metadata": {},
     "execution_count": 6
    }
   ],
   "metadata": {}
  },
  {
   "cell_type": "markdown",
   "source": [
    "<p>element na poziciji $(1,1)$</p>"
   ],
   "metadata": {}
  },
  {
   "cell_type": "code",
   "execution_count": 7,
   "source": [
    "a[0][0]"
   ],
   "outputs": [
    {
     "output_type": "execute_result",
     "data": {
      "text/plain": [
       "1"
      ]
     },
     "metadata": {},
     "execution_count": 7
    }
   ],
   "metadata": {}
  },
  {
   "cell_type": "code",
   "execution_count": 8,
   "source": [
    "A[0,0]"
   ],
   "outputs": [
    {
     "output_type": "execute_result",
     "data": {
      "text/plain": [
       "1"
      ]
     },
     "metadata": {},
     "execution_count": 8
    }
   ],
   "metadata": {}
  },
  {
   "cell_type": "markdown",
   "source": [
    "<p>element na poziciji $(2,3)$</p>"
   ],
   "metadata": {}
  },
  {
   "cell_type": "code",
   "execution_count": 9,
   "source": [
    "a[1][2]"
   ],
   "outputs": [
    {
     "output_type": "execute_result",
     "data": {
      "text/plain": [
       "log(5)/log(2)"
      ]
     },
     "metadata": {},
     "execution_count": 9
    }
   ],
   "metadata": {}
  },
  {
   "cell_type": "code",
   "execution_count": 10,
   "source": [
    "A[1,2]"
   ],
   "outputs": [
    {
     "output_type": "execute_result",
     "data": {
      "text/plain": [
       "log(5)/log(2)"
      ]
     },
     "metadata": {},
     "execution_count": 10
    }
   ],
   "metadata": {}
  },
  {
   "cell_type": "markdown",
   "source": [
    "<p>dimenzije matrice $A$</p>"
   ],
   "metadata": {}
  },
  {
   "cell_type": "code",
   "execution_count": 11,
   "source": [
    "A.nrows(),A.ncols()"
   ],
   "outputs": [
    {
     "output_type": "execute_result",
     "data": {
      "text/plain": [
       "(3, 4)"
      ]
     },
     "metadata": {},
     "execution_count": 11
    }
   ],
   "metadata": {}
  },
  {
   "cell_type": "markdown",
   "source": [
    "<p><strong>2. način.</strong> Možemo odmah kreirati matricu bez da prethodno definiramo python listu. Imajte ovdje na umu spomenutu važnu napomenu. Na prvi pogled malo drukčije izgleda definicija matrice A1, ali to je zbog toga što naša pozicija $(i,j)$ odgovara u SAGE-u poziciji $(i-1,j-1)$. Kada smo gore matricu definirali preko python liste, tu činjenicu smo imali na umu u naredbi <span style=\"color: #ff0000;\"><strong>range</strong></span>.</p>"
   ],
   "metadata": {}
  },
  {
   "cell_type": "code",
   "execution_count": 12,
   "source": [
    "A1=matrix(3,4,lambda i,j: cos((i+1)*pi/2) if i>j else log(i+j+2,2))\n",
    "show(A1)"
   ],
   "outputs": [
    {
     "output_type": "display_data",
     "data": {
      "text/html": [
       "<html>\\[\\newcommand{\\Bold}[1]{\\mathbf{#1}}\\left(\\begin{array}{rrrr}\n",
       "1 & \\frac{\\log\\left(3\\right)}{\\log\\left(2\\right)} & 2 & \\frac{\\log\\left(5\\right)}{\\log\\left(2\\right)} \\\\\n",
       "-1 & 2 & \\frac{\\log\\left(5\\right)}{\\log\\left(2\\right)} & \\frac{\\log\\left(6\\right)}{\\log\\left(2\\right)} \\\\\n",
       "0 & 0 & \\frac{\\log\\left(6\\right)}{\\log\\left(2\\right)} & \\frac{\\log\\left(7\\right)}{\\log\\left(2\\right)}\n",
       "\\end{array}\\right)\\]</html>"
      ],
      "text/latex": [
       "$$\\newcommand{\\Bold}[1]{\\mathbf{#1}}\\left(\\begin{array}{rrrr}\n",
       "1 & \\frac{\\log\\left(3\\right)}{\\log\\left(2\\right)} & 2 & \\frac{\\log\\left(5\\right)}{\\log\\left(2\\right)} \\\\\n",
       "-1 & 2 & \\frac{\\log\\left(5\\right)}{\\log\\left(2\\right)} & \\frac{\\log\\left(6\\right)}{\\log\\left(2\\right)} \\\\\n",
       "0 & 0 & \\frac{\\log\\left(6\\right)}{\\log\\left(2\\right)} & \\frac{\\log\\left(7\\right)}{\\log\\left(2\\right)}\n",
       "\\end{array}\\right)$$"
      ],
      "text/plain": [
       "[            1 log(3)/log(2)             2 log(5)/log(2)]\n",
       "[           -1             2 log(5)/log(2) log(6)/log(2)]\n",
       "[            0             0 log(6)/log(2) log(7)/log(2)]"
      ]
     },
     "metadata": {}
    }
   ],
   "metadata": {}
  },
  {
   "cell_type": "markdown",
   "source": [
    "<p>želite li saznati više detalja o naredbi <span style=\"color: #ff0000;\"><strong>matrix</strong></span></p>"
   ],
   "metadata": {}
  },
  {
   "cell_type": "markdown",
   "source": [
    "<div style=\"background-color: #F5FFFA; color: #000000; border: 2px solid #B0C4DE; border-radius: 15px; padding:0px 10px 25px;\">\n",
    "<h3>2. zadatak</h3>\n",
    "<p>Zadane su matrice</p>\n",
    "$$A=\\begin{bmatrix}1&2\\\\ 0&-3\\\\ 5&4 \\end{bmatrix} \\quad\\text{i}\\quad  B=\\begin{bmatrix}1&0&-2&5\\\\ 8&4&-1&3\\end{bmatrix}.$$\n",
    "<p>Odredite $A^T$, $AB$ i $BA$.</p>\n",
    "</div>\n",
    "<h3>Rješenje</h3>"
   ],
   "metadata": {}
  },
  {
   "cell_type": "code",
   "execution_count": 13,
   "source": [
    "A=matrix([[1,2],[0,-3],[5,4]])\n",
    "B=matrix([[1,0,-2,5],[8,4,-1,3]])"
   ],
   "outputs": [],
   "metadata": {}
  },
  {
   "cell_type": "markdown",
   "source": [
    "<p>$A^T$</p>"
   ],
   "metadata": {}
  },
  {
   "cell_type": "code",
   "execution_count": 14,
   "source": [
    "A.transpose()"
   ],
   "outputs": [
    {
     "output_type": "execute_result",
     "data": {
      "text/plain": [
       "[ 1  0  5]\n",
       "[ 2 -3  4]"
      ]
     },
     "metadata": {},
     "execution_count": 14
    }
   ],
   "metadata": {}
  },
  {
   "cell_type": "markdown",
   "source": [
    "<p>$AB$</p>"
   ],
   "metadata": {}
  },
  {
   "cell_type": "code",
   "execution_count": 15,
   "source": [
    "A*B"
   ],
   "outputs": [
    {
     "output_type": "execute_result",
     "data": {
      "text/plain": [
       "[ 17   8  -4  11]\n",
       "[-24 -12   3  -9]\n",
       "[ 37  16 -14  37]"
      ]
     },
     "metadata": {},
     "execution_count": 15
    }
   ],
   "metadata": {}
  },
  {
   "cell_type": "markdown",
   "source": [
    "<p>SAGE nas upozorava da $BA$ nije definirano</p>"
   ],
   "metadata": {}
  },
  {
   "cell_type": "code",
   "execution_count": 16,
   "source": [
    "B*A"
   ],
   "outputs": [
    {
     "output_type": "error",
     "ename": "TypeError",
     "evalue": "unsupported operand parent(s) for *: 'Full MatrixSpace of 2 by 4 dense matrices over Integer Ring' and 'Full MatrixSpace of 3 by 2 dense matrices over Integer Ring'",
     "traceback": [
      "\u001b[0;31m---------------------------------------------------------------------------\u001b[0m",
      "\u001b[0;31mTypeError\u001b[0m                                 Traceback (most recent call last)",
      "\u001b[0;32m/tmp/ipykernel_15441/3451148411.py\u001b[0m in \u001b[0;36m<module>\u001b[0;34m\u001b[0m\n\u001b[0;32m----> 1\u001b[0;31m \u001b[0mB\u001b[0m\u001b[0;34m*\u001b[0m\u001b[0mA\u001b[0m\u001b[0;34m\u001b[0m\u001b[0;34m\u001b[0m\u001b[0m\n\u001b[0m",
      "\u001b[0;32m/usr/lib/python3.9/site-packages/sage/structure/element.pyx\u001b[0m in \u001b[0;36msage.structure.element.Matrix.__mul__ (build/cythonized/sage/structure/element.c:23966)\u001b[0;34m()\u001b[0m\n\u001b[1;32m   3813\u001b[0m \u001b[0;34m\u001b[0m\u001b[0m\n\u001b[1;32m   3814\u001b[0m         \u001b[0;32mif\u001b[0m \u001b[0mBOTH_ARE_ELEMENT\u001b[0m\u001b[0;34m(\u001b[0m\u001b[0mcl\u001b[0m\u001b[0;34m)\u001b[0m\u001b[0;34m:\u001b[0m\u001b[0;34m\u001b[0m\u001b[0;34m\u001b[0m\u001b[0m\n\u001b[0;32m-> 3815\u001b[0;31m             \u001b[0;32mreturn\u001b[0m \u001b[0mcoercion_model\u001b[0m\u001b[0;34m.\u001b[0m\u001b[0mbin_op\u001b[0m\u001b[0;34m(\u001b[0m\u001b[0mleft\u001b[0m\u001b[0;34m,\u001b[0m \u001b[0mright\u001b[0m\u001b[0;34m,\u001b[0m \u001b[0mmul\u001b[0m\u001b[0;34m)\u001b[0m\u001b[0;34m\u001b[0m\u001b[0;34m\u001b[0m\u001b[0m\n\u001b[0m\u001b[1;32m   3816\u001b[0m \u001b[0;34m\u001b[0m\u001b[0m\n\u001b[1;32m   3817\u001b[0m         \u001b[0mcdef\u001b[0m \u001b[0mlong\u001b[0m \u001b[0mvalue\u001b[0m\u001b[0;34m\u001b[0m\u001b[0;34m\u001b[0m\u001b[0m\n",
      "\u001b[0;32m/usr/lib/python3.9/site-packages/sage/structure/coerce.pyx\u001b[0m in \u001b[0;36msage.structure.coerce.CoercionModel.bin_op (build/cythonized/sage/structure/coerce.c:11723)\u001b[0;34m()\u001b[0m\n\u001b[1;32m   1246\u001b[0m         \u001b[0;31m# We should really include the underlying error.\u001b[0m\u001b[0;34m\u001b[0m\u001b[0;34m\u001b[0m\u001b[0m\n\u001b[1;32m   1247\u001b[0m         \u001b[0;31m# This causes so much headache.\u001b[0m\u001b[0;34m\u001b[0m\u001b[0;34m\u001b[0m\u001b[0m\n\u001b[0;32m-> 1248\u001b[0;31m         \u001b[0;32mraise\u001b[0m \u001b[0mbin_op_exception\u001b[0m\u001b[0;34m(\u001b[0m\u001b[0mop\u001b[0m\u001b[0;34m,\u001b[0m \u001b[0mx\u001b[0m\u001b[0;34m,\u001b[0m \u001b[0my\u001b[0m\u001b[0;34m)\u001b[0m\u001b[0;34m\u001b[0m\u001b[0;34m\u001b[0m\u001b[0m\n\u001b[0m\u001b[1;32m   1249\u001b[0m \u001b[0;34m\u001b[0m\u001b[0m\n\u001b[1;32m   1250\u001b[0m     \u001b[0mcpdef\u001b[0m \u001b[0mcanonical_coercion\u001b[0m\u001b[0;34m(\u001b[0m\u001b[0mself\u001b[0m\u001b[0;34m,\u001b[0m \u001b[0mx\u001b[0m\u001b[0;34m,\u001b[0m \u001b[0my\u001b[0m\u001b[0;34m)\u001b[0m\u001b[0;34m:\u001b[0m\u001b[0;34m\u001b[0m\u001b[0;34m\u001b[0m\u001b[0m\n",
      "\u001b[0;31mTypeError\u001b[0m: unsupported operand parent(s) for *: 'Full MatrixSpace of 2 by 4 dense matrices over Integer Ring' and 'Full MatrixSpace of 3 by 2 dense matrices over Integer Ring'"
     ]
    }
   ],
   "metadata": {}
  },
  {
   "cell_type": "markdown",
   "source": [
    "<div style=\"background-color: #F5FFFA; color: #000000; border: 2px solid #B0C4DE; border-radius: 15px; padding:0px 10px 25px;\">\n",
    "<h3>3. zadatak</h3>\n",
    "<p>Odredite matricu $3AB-7BA$ ako je</p>\n",
    "$$A=\\begin{bmatrix}3&1&-4\\\\ -4&6&-2\\\\ 5&8&5\\end{bmatrix} \\quad\\text{i}\\quad B=\\begin{bmatrix}3&7&-4\\\\ 2&1&0\\\\ -5&3&2\\end{bmatrix}.$$\n",
    "</div>\n",
    "<h3>Rješenje</h3>"
   ],
   "metadata": {}
  },
  {
   "cell_type": "code",
   "execution_count": 17,
   "source": [
    "A=matrix([[3,1,-4],[-4,6,-2],[5,8,5]])\n",
    "B=matrix([[3,7,-4],[2,1,0],[-5,3,2]])"
   ],
   "outputs": [],
   "metadata": {}
  },
  {
   "cell_type": "markdown",
   "source": [
    "<p>$AB$</p>"
   ],
   "metadata": {}
  },
  {
   "cell_type": "code",
   "execution_count": 18,
   "source": [
    "A*B"
   ],
   "outputs": [
    {
     "output_type": "execute_result",
     "data": {
      "text/plain": [
       "[ 31  10 -20]\n",
       "[ 10 -28  12]\n",
       "[  6  58 -10]"
      ]
     },
     "metadata": {},
     "execution_count": 18
    }
   ],
   "metadata": {}
  },
  {
   "cell_type": "markdown",
   "source": [
    "<p>$3AB$</p>"
   ],
   "metadata": {}
  },
  {
   "cell_type": "code",
   "execution_count": 19,
   "source": [
    "3*A*B"
   ],
   "outputs": [
    {
     "output_type": "execute_result",
     "data": {
      "text/plain": [
       "[ 93  30 -60]\n",
       "[ 30 -84  36]\n",
       "[ 18 174 -30]"
      ]
     },
     "metadata": {},
     "execution_count": 19
    }
   ],
   "metadata": {}
  },
  {
   "cell_type": "markdown",
   "source": [
    "<p>$BA$</p>"
   ],
   "metadata": {}
  },
  {
   "cell_type": "code",
   "execution_count": 20,
   "source": [
    "B*A"
   ],
   "outputs": [
    {
     "output_type": "execute_result",
     "data": {
      "text/plain": [
       "[-39  13 -46]\n",
       "[  2   8 -10]\n",
       "[-17  29  24]"
      ]
     },
     "metadata": {},
     "execution_count": 20
    }
   ],
   "metadata": {}
  },
  {
   "cell_type": "markdown",
   "source": [
    "<p>$7BA$</p>"
   ],
   "metadata": {}
  },
  {
   "cell_type": "code",
   "execution_count": 21,
   "source": [
    "7*B*A"
   ],
   "outputs": [
    {
     "output_type": "execute_result",
     "data": {
      "text/plain": [
       "[-273   91 -322]\n",
       "[  14   56  -70]\n",
       "[-119  203  168]"
      ]
     },
     "metadata": {},
     "execution_count": 21
    }
   ],
   "metadata": {}
  },
  {
   "cell_type": "markdown",
   "source": [
    "<p>$3AB-7BA$</p>"
   ],
   "metadata": {}
  },
  {
   "cell_type": "code",
   "execution_count": 22,
   "source": [
    "3*A*B-7*B*A"
   ],
   "outputs": [
    {
     "output_type": "execute_result",
     "data": {
      "text/plain": [
       "[ 366  -61  262]\n",
       "[  16 -140  106]\n",
       "[ 137  -29 -198]"
      ]
     },
     "metadata": {},
     "execution_count": 22
    }
   ],
   "metadata": {}
  },
  {
   "cell_type": "markdown",
   "source": [
    "<div style=\"background-color: #F5FFFA; color: #000000; border: 2px solid #B0C4DE; border-radius: 15px; padding:0px 10px 25px;\">\n",
    "<h3>4. zadatak</h3>\n",
    "<p>Zadana je matrica $A=\\begin{bmatrix}3&-2\\\\ -1&5\\end{bmatrix}$ i polinom $f(x)=x^3+2x^2+3$. Odredite $f(A)$.</p>\n",
    "</div>\n",
    "<h3>Rješenje</h3>"
   ],
   "metadata": {}
  },
  {
   "cell_type": "code",
   "execution_count": 23,
   "source": [
    "A=matrix([[3,-2],[-1,5]])"
   ],
   "outputs": [],
   "metadata": {}
  },
  {
   "cell_type": "markdown",
   "source": [
    "<p>$A$ je matrica nad prstenom $\\mathbb{Z}$</p>"
   ],
   "metadata": {}
  },
  {
   "cell_type": "code",
   "execution_count": 24,
   "source": [
    "A.base_ring()"
   ],
   "outputs": [
    {
     "output_type": "execute_result",
     "data": {
      "text/plain": [
       "Integer Ring"
      ]
     },
     "metadata": {},
     "execution_count": 24
    }
   ],
   "metadata": {}
  },
  {
   "cell_type": "markdown",
   "source": [
    "<p>jedinična matrica reda 2</p>"
   ],
   "metadata": {}
  },
  {
   "cell_type": "code",
   "execution_count": 25,
   "source": [
    "identity_matrix(2)"
   ],
   "outputs": [
    {
     "output_type": "execute_result",
     "data": {
      "text/plain": [
       "[1 0]\n",
       "[0 1]"
      ]
     },
     "metadata": {},
     "execution_count": 25
    }
   ],
   "metadata": {}
  },
  {
   "cell_type": "markdown",
   "source": [
    "<p>jedinična matrica reda 5</p>"
   ],
   "metadata": {}
  },
  {
   "cell_type": "code",
   "execution_count": 26,
   "source": [
    "identity_matrix(5)"
   ],
   "outputs": [
    {
     "output_type": "execute_result",
     "data": {
      "text/plain": [
       "[1 0 0 0 0]\n",
       "[0 1 0 0 0]\n",
       "[0 0 1 0 0]\n",
       "[0 0 0 1 0]\n",
       "[0 0 0 0 1]"
      ]
     },
     "metadata": {},
     "execution_count": 26
    }
   ],
   "metadata": {}
  },
  {
   "cell_type": "markdown",
   "source": [
    "<p>$A^2$</p>"
   ],
   "metadata": {}
  },
  {
   "cell_type": "code",
   "execution_count": 27,
   "source": [
    "A*A"
   ],
   "outputs": [
    {
     "output_type": "execute_result",
     "data": {
      "text/plain": [
       "[ 11 -16]\n",
       "[ -8  27]"
      ]
     },
     "metadata": {},
     "execution_count": 27
    }
   ],
   "metadata": {}
  },
  {
   "cell_type": "code",
   "execution_count": 28,
   "source": [
    "A^2"
   ],
   "outputs": [
    {
     "output_type": "execute_result",
     "data": {
      "text/plain": [
       "[ 11 -16]\n",
       "[ -8  27]"
      ]
     },
     "metadata": {},
     "execution_count": 28
    }
   ],
   "metadata": {}
  },
  {
   "cell_type": "markdown",
   "source": [
    "<p>$A^3$</p>"
   ],
   "metadata": {}
  },
  {
   "cell_type": "code",
   "execution_count": 29,
   "source": [
    "A^3"
   ],
   "outputs": [
    {
     "output_type": "execute_result",
     "data": {
      "text/plain": [
       "[  49 -102]\n",
       "[ -51  151]"
      ]
     },
     "metadata": {},
     "execution_count": 29
    }
   ],
   "metadata": {}
  },
  {
   "cell_type": "markdown",
   "source": [
    "<p>$f(A)=A^3+2A^2+3I$</p>"
   ],
   "metadata": {}
  },
  {
   "cell_type": "code",
   "execution_count": 30,
   "source": [
    "A^3+2*A^2+3*identity_matrix(2)"
   ],
   "outputs": [
    {
     "output_type": "execute_result",
     "data": {
      "text/plain": [
       "[  74 -134]\n",
       "[ -67  208]"
      ]
     },
     "metadata": {},
     "execution_count": 30
    }
   ],
   "metadata": {}
  },
  {
   "cell_type": "markdown",
   "source": [
    "<div style=\"background-color: #F5FFFA; color: #000000; border: 2px solid #B0C4DE; border-radius: 15px; padding:0px 10px 25px;\">\n",
    "<h3>5. zadatak</h3>\n",
    "<p>Izračunajte $\\begin{bmatrix}2&-2&0\\\\ 1&-2&1\\end{bmatrix}\\begin{bmatrix}2\\\\ 1\\\\ 3\\end{bmatrix}$.</p>\n",
    "</div>\n",
    "<h3>Rješenje</h3>"
   ],
   "metadata": {}
  },
  {
   "cell_type": "code",
   "execution_count": 31,
   "source": [
    "matrix([[2,-2,0],[1,-2,1]])*matrix([[2],[1],[3]])"
   ],
   "outputs": [
    {
     "output_type": "execute_result",
     "data": {
      "text/plain": [
       "[2]\n",
       "[3]"
      ]
     },
     "metadata": {},
     "execution_count": 31
    }
   ],
   "metadata": {}
  },
  {
   "cell_type": "markdown",
   "source": [
    "<div style=\"background-color: #F5FFFA; color: #000000; border: 2px solid #B0C4DE; border-radius: 15px; padding:0px 10px 25px;\">\n",
    "<h3>6. zadatak</h3>\n",
    "<p>Izračunajte $AB$ ako je $A=\\begin{bmatrix}2&3\\\\ 1&5\\end{bmatrix}$,  $B=\\dfrac{9}{5}\\begin{bmatrix}1&0&4\\\\ 3&6&8\\end{bmatrix}$.</p>\n",
    "</div>\n",
    "<h3>Rješenje</h3>"
   ],
   "metadata": {}
  },
  {
   "cell_type": "code",
   "execution_count": 32,
   "source": [
    "A=matrix([[2,3],[1,5]])\n",
    "B=9/5*matrix([[1,0,4],[3,6,8]])"
   ],
   "outputs": [],
   "metadata": {}
  },
  {
   "cell_type": "code",
   "execution_count": 33,
   "source": [
    "A*B"
   ],
   "outputs": [
    {
     "output_type": "execute_result",
     "data": {
      "text/plain": [
       "[ 99/5 162/5 288/5]\n",
       "[144/5    54 396/5]"
      ]
     },
     "metadata": {},
     "execution_count": 33
    }
   ],
   "metadata": {}
  },
  {
   "cell_type": "code",
   "execution_count": 34,
   "source": [
    "show(A*B)"
   ],
   "outputs": [
    {
     "output_type": "display_data",
     "data": {
      "text/html": [
       "<html>\\[\\newcommand{\\Bold}[1]{\\mathbf{#1}}\\left(\\begin{array}{rrr}\n",
       "\\frac{99}{5} & \\frac{162}{5} & \\frac{288}{5} \\\\\n",
       "\\frac{144}{5} & 54 & \\frac{396}{5}\n",
       "\\end{array}\\right)\\]</html>"
      ],
      "text/latex": [
       "$$\\newcommand{\\Bold}[1]{\\mathbf{#1}}\\left(\\begin{array}{rrr}\n",
       "\\frac{99}{5} & \\frac{162}{5} & \\frac{288}{5} \\\\\n",
       "\\frac{144}{5} & 54 & \\frac{396}{5}\n",
       "\\end{array}\\right)$$"
      ],
      "text/plain": [
       "[ 99/5 162/5 288/5]\n",
       "[144/5    54 396/5]"
      ]
     },
     "metadata": {}
    }
   ],
   "metadata": {}
  },
  {
   "cell_type": "markdown",
   "source": [
    "<div style=\"background-color: #F5FFFA; color: #000000; border: 2px solid #B0C4DE; border-radius: 15px; padding:0px 10px 25px;\">\n",
    "<h3>7. zadatak</h3>\n",
    "<p>Odredite $A^n$ za proizvoljni $n\\in\\mathbb{N}$ ako je $A=\\begin{bmatrix}1&3\\\\ 0&1\\end{bmatrix}$.</p>\n",
    "</div>\n",
    "<h3>Rješenje</h3>"
   ],
   "metadata": {}
  },
  {
   "cell_type": "code",
   "execution_count": 35,
   "source": [
    "A=matrix([[1,3],[0,1]])"
   ],
   "outputs": [],
   "metadata": {}
  },
  {
   "cell_type": "code",
   "execution_count": 36,
   "source": [
    "for n in range(1,21):\n",
    "    print(\"A^%d=\"%n)\n",
    "    print(A^n)\n",
    "    print(\"\\n\")"
   ],
   "outputs": [
    {
     "output_type": "stream",
     "name": "stdout",
     "text": [
      "A^1=\n",
      "[1 3]\n",
      "[0 1]\n",
      "\n",
      "\n",
      "A^2=\n",
      "[1 6]\n",
      "[0 1]\n",
      "\n",
      "\n",
      "A^3=\n",
      "[1 9]\n",
      "[0 1]\n",
      "\n",
      "\n",
      "A^4=\n",
      "[ 1 12]\n",
      "[ 0  1]\n",
      "\n",
      "\n",
      "A^5=\n",
      "[ 1 15]\n",
      "[ 0  1]\n",
      "\n",
      "\n",
      "A^6=\n",
      "[ 1 18]\n",
      "[ 0  1]\n",
      "\n",
      "\n",
      "A^7=\n",
      "[ 1 21]\n",
      "[ 0  1]\n",
      "\n",
      "\n",
      "A^8=\n",
      "[ 1 24]\n",
      "[ 0  1]\n",
      "\n",
      "\n",
      "A^9=\n",
      "[ 1 27]\n",
      "[ 0  1]\n",
      "\n",
      "\n",
      "A^10=\n",
      "[ 1 30]\n",
      "[ 0  1]\n",
      "\n",
      "\n",
      "A^11=\n",
      "[ 1 33]\n",
      "[ 0  1]\n",
      "\n",
      "\n",
      "A^12=\n",
      "[ 1 36]\n",
      "[ 0  1]\n",
      "\n",
      "\n",
      "A^13=\n",
      "[ 1 39]\n",
      "[ 0  1]\n",
      "\n",
      "\n",
      "A^14=\n",
      "[ 1 42]\n",
      "[ 0  1]\n",
      "\n",
      "\n",
      "A^15=\n",
      "[ 1 45]\n",
      "[ 0  1]\n",
      "\n",
      "\n",
      "A^16=\n",
      "[ 1 48]\n",
      "[ 0  1]\n",
      "\n",
      "\n",
      "A^17=\n",
      "[ 1 51]\n",
      "[ 0  1]\n",
      "\n",
      "\n",
      "A^18=\n",
      "[ 1 54]\n",
      "[ 0  1]\n",
      "\n",
      "\n",
      "A^19=\n",
      "[ 1 57]\n",
      "[ 0  1]\n",
      "\n",
      "\n",
      "A^20=\n",
      "[ 1 60]\n",
      "[ 0  1]\n",
      "\n",
      "\n"
     ]
    }
   ],
   "metadata": {}
  },
  {
   "cell_type": "markdown",
   "source": [
    "<p style=\"line-height:30px;\">Gledajući prvih 20 potencija matrice $A$ razumno je da donesemo hipotezu $A^n=\\left[\\begin{smallmatrix}1&3n\\\\ 0&1\\end{smallmatrix}\\right]$. Naravno, mi tu hipotezu moramo dokazati matematičkom indukcijom. Ovdje smo zapravo proveli nepotpunu indukciju koju matematika ne priznaje kao dokaz.</p>"
   ],
   "metadata": {}
  },
  {
   "cell_type": "markdown",
   "source": [
    "<div style=\"background-color: #F5FFFA; color: #000000; border: 2px solid #B0C4DE; border-radius: 15px; padding:0px 10px 25px;\">\n",
    "<h3>8. zadatak</h3>\n",
    "<p>Odredite sve matrice koje komutiraju s matricom $A$ s obzirom na množenje ako je $A=\\begin{bmatrix}1&1\\\\ 0&1\\end{bmatrix}$.</p>\n",
    "</div>\n",
    "<h3>Rješenje</h3>"
   ],
   "metadata": {}
  },
  {
   "cell_type": "code",
   "execution_count": 37,
   "source": [
    "var('a b c d')\n",
    "A=matrix([[1,1],[0,1]])\n",
    "X=matrix([[a,b],[c,d]])"
   ],
   "outputs": [],
   "metadata": {}
  },
  {
   "cell_type": "code",
   "execution_count": 38,
   "source": [
    "A*X-X*A"
   ],
   "outputs": [
    {
     "output_type": "execute_result",
     "data": {
      "text/plain": [
       "[     c -a + d]\n",
       "[     0     -c]"
      ]
     },
     "metadata": {},
     "execution_count": 38
    }
   ],
   "metadata": {}
  },
  {
   "cell_type": "code",
   "execution_count": 39,
   "source": [
    "solve([c==0,-a+d==0,-c==0],a,b,c,d)"
   ],
   "outputs": [
    {
     "output_type": "execute_result",
     "data": {
      "text/plain": [
       "[[a == r1, b == r2, c == 0, d == r1]]"
      ]
     },
     "metadata": {},
     "execution_count": 39
    }
   ],
   "metadata": {}
  },
  {
   "cell_type": "markdown",
   "source": [
    "<p>Možemo definirati svoju funkciju koja će direktno raditi s matricama</p>"
   ],
   "metadata": {}
  },
  {
   "cell_type": "code",
   "execution_count": 40,
   "source": [
    "def solve_mat(lijevo,desno,varijable):\n",
    "    jednadzbe=[]\n",
    "    for i in range(lijevo.nrows()):\n",
    "        for j in range(lijevo.ncols()):\n",
    "            jednadzbe.append(lijevo[i,j]==desno[i,j])\n",
    "    rj=solve(jednadzbe,*varijable)\n",
    "    return rj"
   ],
   "outputs": [],
   "metadata": {}
  },
  {
   "cell_type": "code",
   "execution_count": 41,
   "source": [
    "solve_mat(A*X,X*A,(a,b,c,d))"
   ],
   "outputs": [
    {
     "output_type": "execute_result",
     "data": {
      "text/plain": [
       "[[a == r3, b == r4, c == 0, d == r3]]"
      ]
     },
     "metadata": {},
     "execution_count": 41
    }
   ],
   "metadata": {}
  },
  {
   "cell_type": "markdown",
   "source": [
    "<div style=\"background-color: #F5FFFA; color: #000000; border: 2px solid #B0C4DE; border-radius: 15px; padding:0px 10px 25px;\">\n",
    "<h3>9. zadatak</h3>\n",
    "<p>Izračunajte determinante:</p>\n",
    "$$\\begin{vmatrix}2&5\\\\ 1&-3\\end{vmatrix},\\quad \\begin{vmatrix}x-a&-a\\\\ a&x+a\\end{vmatrix},\\quad \\begin{vmatrix}\\sin{\\alpha}&\\cos{\\alpha}\\\\ \\sin{\\beta}&\\cos{\\beta}\\end{vmatrix}.$$\n",
    "</div>\n",
    "<h3>Rješenje</h3>"
   ],
   "metadata": {}
  },
  {
   "cell_type": "code",
   "execution_count": 42,
   "source": [
    "det(matrix([[2,5],[1,-3]]))"
   ],
   "outputs": [
    {
     "output_type": "execute_result",
     "data": {
      "text/plain": [
       "-11"
      ]
     },
     "metadata": {},
     "execution_count": 42
    }
   ],
   "metadata": {}
  },
  {
   "cell_type": "code",
   "execution_count": 43,
   "source": [
    "matrix([[2,5],[1,-3]]).det()"
   ],
   "outputs": [
    {
     "output_type": "execute_result",
     "data": {
      "text/plain": [
       "-11"
      ]
     },
     "metadata": {},
     "execution_count": 43
    }
   ],
   "metadata": {}
  },
  {
   "cell_type": "code",
   "execution_count": 44,
   "source": [
    "expand(det(matrix([[x-a,-a],[a,x+a]])))"
   ],
   "outputs": [
    {
     "output_type": "execute_result",
     "data": {
      "text/plain": [
       "x^2"
      ]
     },
     "metadata": {},
     "execution_count": 44
    }
   ],
   "metadata": {}
  },
  {
   "cell_type": "code",
   "execution_count": 45,
   "source": [
    "matrix([[x-a,-a],[a,x+a]]).det().expand()"
   ],
   "outputs": [
    {
     "output_type": "execute_result",
     "data": {
      "text/plain": [
       "x^2"
      ]
     },
     "metadata": {},
     "execution_count": 45
    }
   ],
   "metadata": {}
  },
  {
   "cell_type": "code",
   "execution_count": 46,
   "source": [
    "det(matrix([[sin(a),cos(a)],[sin(b),cos(b)]]))"
   ],
   "outputs": [
    {
     "output_type": "execute_result",
     "data": {
      "text/plain": [
       "cos(b)*sin(a) - cos(a)*sin(b)"
      ]
     },
     "metadata": {},
     "execution_count": 46
    }
   ],
   "metadata": {}
  },
  {
   "cell_type": "markdown",
   "source": [
    "<div style=\"background-color: #F5FFFA; color: #000000; border: 2px solid #B0C4DE; border-radius: 15px; padding:0px 10px 25px;\">\n",
    "<h3>10. zadatak</h3>\n",
    "<p>Izračunajte determinantu matrice $A=\\begin{bmatrix}9&4&-5\\\\ 8&7&-2\\\\ 2&-1&8\\end{bmatrix}$.</p>\n",
    "</div>\n",
    "<h3>Rješenje</h3>"
   ],
   "metadata": {}
  },
  {
   "cell_type": "code",
   "execution_count": 47,
   "source": [
    "A=matrix(3,3,[9,4,-5,8,7,-2,2,-1,8])"
   ],
   "outputs": [],
   "metadata": {}
  },
  {
   "cell_type": "code",
   "execution_count": 48,
   "source": [
    "A"
   ],
   "outputs": [
    {
     "output_type": "execute_result",
     "data": {
      "text/plain": [
       "[ 9  4 -5]\n",
       "[ 8  7 -2]\n",
       "[ 2 -1  8]"
      ]
     },
     "metadata": {},
     "execution_count": 48
    }
   ],
   "metadata": {}
  },
  {
   "cell_type": "code",
   "execution_count": 49,
   "source": [
    "det(A)"
   ],
   "outputs": [
    {
     "output_type": "execute_result",
     "data": {
      "text/plain": [
       "324"
      ]
     },
     "metadata": {},
     "execution_count": 49
    }
   ],
   "metadata": {}
  },
  {
   "cell_type": "code",
   "execution_count": 50,
   "source": [
    "A.det()"
   ],
   "outputs": [
    {
     "output_type": "execute_result",
     "data": {
      "text/plain": [
       "324"
      ]
     },
     "metadata": {},
     "execution_count": 50
    }
   ],
   "metadata": {}
  },
  {
   "cell_type": "markdown",
   "source": [
    "<div style=\"background-color: #F5FFFA; color: #000000; border: 2px solid #B0C4DE; border-radius: 15px; padding:0px 10px 25px;\">\n",
    "<h3>11. zadatak</h3>\n",
    "<p>Izračunajte determinantu matrice $A=\\begin{bmatrix}2&-5&1&2\\\\ -3&7&-1&4\\\\ 5&-9&2&7\\\\ 4&-6&1&2\\end{bmatrix}$.</p>\n",
    "</div>\n",
    "<h3>Rješenje</h3>"
   ],
   "metadata": {}
  },
  {
   "cell_type": "code",
   "execution_count": 51,
   "source": [
    "A=matrix(4,4,[2,-5,1,2,-3,7,-1,4,5,-9,2,7,4,-6,1,2])"
   ],
   "outputs": [],
   "metadata": {}
  },
  {
   "cell_type": "code",
   "execution_count": 52,
   "source": [
    "A"
   ],
   "outputs": [
    {
     "output_type": "execute_result",
     "data": {
      "text/plain": [
       "[ 2 -5  1  2]\n",
       "[-3  7 -1  4]\n",
       "[ 5 -9  2  7]\n",
       "[ 4 -6  1  2]"
      ]
     },
     "metadata": {},
     "execution_count": 52
    }
   ],
   "metadata": {}
  },
  {
   "cell_type": "code",
   "execution_count": 53,
   "source": [
    "det(A)"
   ],
   "outputs": [
    {
     "output_type": "execute_result",
     "data": {
      "text/plain": [
       "-9"
      ]
     },
     "metadata": {},
     "execution_count": 53
    }
   ],
   "metadata": {}
  },
  {
   "cell_type": "code",
   "execution_count": 54,
   "source": [
    "A.det()"
   ],
   "outputs": [
    {
     "output_type": "execute_result",
     "data": {
      "text/plain": [
       "-9"
      ]
     },
     "metadata": {},
     "execution_count": 54
    }
   ],
   "metadata": {}
  },
  {
   "cell_type": "markdown",
   "source": [
    "<div style=\"background-color: #F5FFFA; color: #000000; border: 2px solid #B0C4DE; border-radius: 15px; padding:0px 10px 25px;\">\n",
    "<h3>12. zadatak</h3>\n",
    "<p>Zadana je matrica $A=\\begin{bmatrix}4+x&2&2\\\\ 7&x-1&2\\\\ x+1&5&5\\end{bmatrix}$.</p>\n",
    "<ol style=\"line-height: 35px;list-style-type:lower-alpha;\">\n",
    "<li>Odredite sve $x\\in\\mathbb{N}$ za koje je $\\det{A}=0$.</li>\n",
    "<li>Za $x=-1$ izračunajte $\\det{\\big(A^T\\big)}+5\\det{\\big(A^3\\big)}-2\\det{\\big(\\frac{1}{2}A\\big)}$.</li>\n",
    "</ol>\n",
    "</div>\n",
    "<h3>Rješenje</h3>"
   ],
   "metadata": {}
  },
  {
   "cell_type": "code",
   "execution_count": 55,
   "source": [
    "A=matrix(3,3,[4+x,2,2,7,x-1,2,x+1,5,5])"
   ],
   "outputs": [],
   "metadata": {}
  },
  {
   "cell_type": "markdown",
   "source": [
    "<p><strong>a) dio</strong></p>"
   ],
   "metadata": {}
  },
  {
   "cell_type": "code",
   "execution_count": 56,
   "source": [
    "expand(det(A))"
   ],
   "outputs": [
    {
     "output_type": "execute_result",
     "data": {
      "text/plain": [
       "3*x^2 + 9*x - 54"
      ]
     },
     "metadata": {},
     "execution_count": 56
    }
   ],
   "metadata": {}
  },
  {
   "cell_type": "code",
   "execution_count": 57,
   "source": [
    "solve(det(A)==0,x)"
   ],
   "outputs": [
    {
     "output_type": "execute_result",
     "data": {
      "text/plain": [
       "[x == -6, x == 3]"
      ]
     },
     "metadata": {},
     "execution_count": 57
    }
   ],
   "metadata": {}
  },
  {
   "cell_type": "markdown",
   "source": [
    "<p><strong>b) dio</strong></p>"
   ],
   "metadata": {}
  },
  {
   "cell_type": "code",
   "execution_count": 58,
   "source": [
    "det(A.transpose())+5*det(A^3)-2*det(1/2*A)"
   ],
   "outputs": [
    {
     "output_type": "execute_result",
     "data": {
      "text/plain": [
       "5*((2*(x + 4)*(x + 1) + 34*x + 309)*(((x - 1)^2 + 24)*(x - 1) + 42*x + 156) - 2*(2*(x + 4)*(x + 1) + (7*x + 22)*(x - 1) + 20*x + 265)*((x - 1)^2 + 21*x + 102))*(((x + 4)^2 + 2*x + 16)*(x + 4) + 2*(x + 11)*(x + 1) + 28*x + 112) - 10*(((x + 4)^2 + 11*x + 87)*(((x - 1)^2 + 24)*(x - 1) + 42*x + 156) - 2*((x + 4)^2 + 2*(x + 4)*(x - 1) + 7*x + 71)*((x - 1)^2 + 21*x + 102))*(((x + 4)*(x + 1) + 5*x + 40)*(x + 4) + (2*x + 37)*(x + 1) + 49*x + 154) + 10*(((x + 4)^2 + 11*x + 87)*(2*(x + 4)*(x + 1) + (7*x + 22)*(x - 1) + 20*x + 265) - ((x + 4)^2 + 2*(x + 4)*(x - 1) + 7*x + 71)*(2*(x + 4)*(x + 1) + 34*x + 309))*((16*x + 23)*(x + 4) + 2*(x + 11)*(x + 1) + 7*(x - 1)^2 + 168) - 2*(x + 1)*(x - 1) + 15/4*(x + 4)*(x - 3) + 1/2*(x + 1)*(x - 3) + 4*x + 4"
      ]
     },
     "metadata": {},
     "execution_count": 58
    }
   ],
   "metadata": {}
  },
  {
   "cell_type": "code",
   "execution_count": 59,
   "source": [
    "expand(det(A.transpose())+5*det(A^3)-2*det(1/2*A)).show()"
   ],
   "outputs": [
    {
     "output_type": "display_data",
     "data": {
      "text/html": [
       "<html>\\[\\newcommand{\\Bold}[1]{\\mathbf{#1}}135 \\, x^{6} + 1215 \\, x^{5} - 3645 \\, x^{4} - 40095 \\, x^{3} + \\frac{262449}{4} \\, x^{2} + \\frac{1574667}{4} \\, x - \\frac{1574721}{2}\\]</html>"
      ],
      "text/latex": [
       "$$\\newcommand{\\Bold}[1]{\\mathbf{#1}}135 \\, x^{6} + 1215 \\, x^{5} - 3645 \\, x^{4} - 40095 \\, x^{3} + \\frac{262449}{4} \\, x^{2} + \\frac{1574667}{4} \\, x - \\frac{1574721}{2}$$"
      ],
      "text/plain": [
       "135*x^6 + 1215*x^5 - 3645*x^4 - 40095*x^3 + 262449/4*x^2 + 1574667/4*x - 1574721/2"
      ]
     },
     "metadata": {}
    }
   ],
   "metadata": {}
  },
  {
   "cell_type": "code",
   "execution_count": 60,
   "source": [
    "expand(det(A.transpose())+5*det(A^3)-2*det(1/2*A)).subs(x==-1)"
   ],
   "outputs": [
    {
     "output_type": "execute_result",
     "data": {
      "text/plain": [
       "-1080045"
      ]
     },
     "metadata": {},
     "execution_count": 60
    }
   ],
   "metadata": {}
  },
  {
   "cell_type": "markdown",
   "source": [
    "<p>ili da najprije $x=-1$ uvrstimo u matricu $A$</p>"
   ],
   "metadata": {}
  },
  {
   "cell_type": "code",
   "execution_count": 61,
   "source": [
    "A.subs(x==-1)"
   ],
   "outputs": [
    {
     "output_type": "execute_result",
     "data": {
      "text/plain": [
       "[ 3  2  2]\n",
       "[ 7 -2  2]\n",
       "[ 0  5  5]"
      ]
     },
     "metadata": {},
     "execution_count": 61
    }
   ],
   "metadata": {}
  },
  {
   "cell_type": "code",
   "execution_count": 62,
   "source": [
    "det(A.subs(x==-1))"
   ],
   "outputs": [
    {
     "output_type": "execute_result",
     "data": {
      "text/plain": [
       "-60"
      ]
     },
     "metadata": {},
     "execution_count": 62
    }
   ],
   "metadata": {}
  },
  {
   "cell_type": "code",
   "execution_count": 63,
   "source": [
    "expand(det(A.subs(x==-1).transpose())+5*det(A.subs(x==-1)^3)-2*det(1/2*A.subs(x==-1)))"
   ],
   "outputs": [
    {
     "output_type": "execute_result",
     "data": {
      "text/plain": [
       "-1080045"
      ]
     },
     "metadata": {},
     "execution_count": 63
    }
   ],
   "metadata": {}
  },
  {
   "cell_type": "markdown",
   "source": [
    "<div style=\"background-color: #F5FFFA; color: #000000; border: 2px solid #B0C4DE; border-radius: 15px; padding:0px 10px 25px;\">\n",
    "<h3>13. zadatak</h3>\n",
    "<p>Izračunajte determinantu $\\begin{vmatrix}3&a&3&a\\\\ 6&3&6&3\\\\ 7&7&6&6\\\\ a&5&a&5\\end{vmatrix}$.</p>\n",
    "</div>\n",
    "<h3>Rješenje</h3>"
   ],
   "metadata": {}
  },
  {
   "cell_type": "code",
   "execution_count": 64,
   "source": [
    "det(matrix(4,4,[3,a,3,a,6,3,6,3,7,7,6,6,a,5,a,5]))"
   ],
   "outputs": [
    {
     "output_type": "execute_result",
     "data": {
      "text/plain": [
       "0"
      ]
     },
     "metadata": {},
     "execution_count": 64
    }
   ],
   "metadata": {}
  },
  {
   "cell_type": "code",
   "execution_count": 65,
   "source": [
    "matrix(4,4,[3,a,3,a,6,3,6,3,7,7,6,6,a,5,a,5]).det()"
   ],
   "outputs": [
    {
     "output_type": "execute_result",
     "data": {
      "text/plain": [
       "0"
      ]
     },
     "metadata": {},
     "execution_count": 65
    }
   ],
   "metadata": {}
  },
  {
   "cell_type": "markdown",
   "source": [
    "<div style=\"background-color: #F5FFFA; color: #000000; border: 2px solid #B0C4DE; border-radius: 15px; padding:0px 10px 25px;\">\n",
    "<h3>14. zadatak</h3>\n",
    "<p>Izračunajte determinantu $\\begin{vmatrix}a&a&a&a&a\\\\ -2&a&a&a&a\\\\ 2&0&a&a&a\\\\ -4&0&0&a&a\\\\ 4&0&0&0&a\\end{vmatrix}$.</p>\n",
    "</div>\n",
    "<h3>Rješenje</h3>"
   ],
   "metadata": {}
  },
  {
   "cell_type": "code",
   "execution_count": 66,
   "source": [
    "det(matrix(5,5,[a,a,a,a,a,-2,a,a,a,a,2,0,a,a,a,-4,0,0,a,a,4,0,0,0,a]))"
   ],
   "outputs": [
    {
     "output_type": "execute_result",
     "data": {
      "text/plain": [
       "a^5 + 2*a^4"
      ]
     },
     "metadata": {},
     "execution_count": 66
    }
   ],
   "metadata": {}
  },
  {
   "cell_type": "code",
   "execution_count": 67,
   "source": [
    "det(matrix(5,5,[a,a,a,a,a,-2,a,a,a,a,2,0,a,a,a,-4,0,0,a,a,4,0,0,0,a])).show()"
   ],
   "outputs": [
    {
     "output_type": "display_data",
     "data": {
      "text/html": [
       "<html>\\[\\newcommand{\\Bold}[1]{\\mathbf{#1}}a^{5} + 2 \\, a^{4}\\]</html>"
      ],
      "text/latex": [
       "$$\\newcommand{\\Bold}[1]{\\mathbf{#1}}a^{5} + 2 \\, a^{4}$$"
      ],
      "text/plain": [
       "a^5 + 2*a^4"
      ]
     },
     "metadata": {}
    }
   ],
   "metadata": {}
  },
  {
   "cell_type": "code",
   "execution_count": 68,
   "source": [
    "matrix(5,5,[a,a,a,a,a,-2,a,a,a,a,2,0,a,a,a,-4,0,0,a,a,4,0,0,0,a]).det().show()"
   ],
   "outputs": [
    {
     "output_type": "display_data",
     "data": {
      "text/html": [
       "<html>\\[\\newcommand{\\Bold}[1]{\\mathbf{#1}}a^{5} + 2 \\, a^{4}\\]</html>"
      ],
      "text/latex": [
       "$$\\newcommand{\\Bold}[1]{\\mathbf{#1}}a^{5} + 2 \\, a^{4}$$"
      ],
      "text/plain": [
       "a^5 + 2*a^4"
      ]
     },
     "metadata": {}
    }
   ],
   "metadata": {}
  },
  {
   "cell_type": "markdown",
   "source": [
    "<div style=\"background-color: #F5FFFA; color: #000000; border: 2px solid #B0C4DE; border-radius: 15px; padding:0px 10px 25px;\">\n",
    "<h3>15. zadatak</h3>\n",
    "<p>Riješite jednadžbu $\\begin{vmatrix}x-3&3&3&3\\\\ 3&2x+3&3&3\\\\ 3&3&x-3&3\\\\ 3&3&3&2x+3\\end{vmatrix}=0.$</p>\n",
    "</div>\n",
    "<h3>Rješenje</h3>"
   ],
   "metadata": {}
  },
  {
   "cell_type": "code",
   "execution_count": 69,
   "source": [
    "det(matrix(4,4,[x-3,3,3,3,3,2*x+3,3,3,3,3,x-3,3,3,3,3,2*x+3])).show()"
   ],
   "outputs": [
    {
     "output_type": "display_data",
     "data": {
      "text/html": [
       "<html>\\[\\newcommand{\\Bold}[1]{\\mathbf{#1}}4 \\, x^{4} - 12 \\, x^{3} - 144 \\, x^{2} + 432 \\, x\\]</html>"
      ],
      "text/latex": [
       "$$\\newcommand{\\Bold}[1]{\\mathbf{#1}}4 \\, x^{4} - 12 \\, x^{3} - 144 \\, x^{2} + 432 \\, x$$"
      ],
      "text/plain": [
       "4*x^4 - 12*x^3 - 144*x^2 + 432*x"
      ]
     },
     "metadata": {}
    }
   ],
   "metadata": {}
  },
  {
   "cell_type": "code",
   "execution_count": 70,
   "source": [
    "det(matrix(4,4,[x-3,3,3,3,3,2*x+3,3,3,3,3,x-3,3,3,3,3,2*x+3])).factor().show()"
   ],
   "outputs": [
    {
     "output_type": "display_data",
     "data": {
      "text/html": [
       "<html>\\[\\newcommand{\\Bold}[1]{\\mathbf{#1}}4 \\, {\\left(x + 6\\right)} {\\left(x - 3\\right)} {\\left(x - 6\\right)} x\\]</html>"
      ],
      "text/latex": [
       "$$\\newcommand{\\Bold}[1]{\\mathbf{#1}}4 \\, {\\left(x + 6\\right)} {\\left(x - 3\\right)} {\\left(x - 6\\right)} x$$"
      ],
      "text/plain": [
       "4*(x + 6)*(x - 3)*(x - 6)*x"
      ]
     },
     "metadata": {}
    }
   ],
   "metadata": {}
  },
  {
   "cell_type": "code",
   "execution_count": 71,
   "source": [
    "solve(det(matrix(4,4,[x-3,3,3,3,3,2*x+3,3,3,3,3,x-3,3,3,3,3,2*x+3]))==0,x)"
   ],
   "outputs": [
    {
     "output_type": "execute_result",
     "data": {
      "text/plain": [
       "[x == 3, x == -6, x == 6, x == 0]"
      ]
     },
     "metadata": {},
     "execution_count": 71
    }
   ],
   "metadata": {}
  },
  {
   "cell_type": "code",
   "execution_count": 72,
   "source": [
    "show(solve(det(matrix(4,4,[x-3,3,3,3,3,2*x+3,3,3,3,3,x-3,3,3,3,3,2*x+3]))==0,x))"
   ],
   "outputs": [
    {
     "output_type": "display_data",
     "data": {
      "text/html": [
       "<html>\\[\\newcommand{\\Bold}[1]{\\mathbf{#1}}\\left[x = 3, x = \\left(-6\\right), x = 6, x = 0\\right]\\]</html>"
      ],
      "text/latex": [
       "$$\\newcommand{\\Bold}[1]{\\mathbf{#1}}\\left[x = 3, x = \\left(-6\\right), x = 6, x = 0\\right]$$"
      ],
      "text/plain": [
       "[x == 3, x == -6, x == 6, x == 0]"
      ]
     },
     "metadata": {}
    }
   ],
   "metadata": {}
  },
  {
   "cell_type": "markdown",
   "source": [
    "<div style=\"background-color: #F5FFFA; color: #000000; border: 2px solid #B0C4DE; border-radius: 15px; padding:0px 10px 25px;\">\n",
    "<h3>16. zadatak</h3>\n",
    "<p>Odredite inverzne matrice matrica $A=\\begin{bmatrix}2&1\\\\ -5&4\\end{bmatrix}$  i  $B=\\dfrac{2}{3}\\begin{bmatrix}3&5\\\\ 1&-3\\end{bmatrix}$.</p>\n",
    "</div>\n",
    "<h3>Rješenje</h3>"
   ],
   "metadata": {}
  },
  {
   "cell_type": "code",
   "execution_count": 73,
   "source": [
    "A=matrix([[2,1],[-5,4]])\n",
    "B=2/3*matrix([[3,5],[1,-3]])"
   ],
   "outputs": [],
   "metadata": {}
  },
  {
   "cell_type": "code",
   "execution_count": 74,
   "source": [
    "A^-1"
   ],
   "outputs": [
    {
     "output_type": "execute_result",
     "data": {
      "text/plain": [
       "[ 4/13 -1/13]\n",
       "[ 5/13  2/13]"
      ]
     },
     "metadata": {},
     "execution_count": 74
    }
   ],
   "metadata": {}
  },
  {
   "cell_type": "code",
   "execution_count": 75,
   "source": [
    "show(A^-1)"
   ],
   "outputs": [
    {
     "output_type": "display_data",
     "data": {
      "text/html": [
       "<html>\\[\\newcommand{\\Bold}[1]{\\mathbf{#1}}\\left(\\begin{array}{rr}\n",
       "\\frac{4}{13} & -\\frac{1}{13} \\\\\n",
       "\\frac{5}{13} & \\frac{2}{13}\n",
       "\\end{array}\\right)\\]</html>"
      ],
      "text/latex": [
       "$$\\newcommand{\\Bold}[1]{\\mathbf{#1}}\\left(\\begin{array}{rr}\n",
       "\\frac{4}{13} & -\\frac{1}{13} \\\\\n",
       "\\frac{5}{13} & \\frac{2}{13}\n",
       "\\end{array}\\right)$$"
      ],
      "text/plain": [
       "[ 4/13 -1/13]\n",
       "[ 5/13  2/13]"
      ]
     },
     "metadata": {}
    }
   ],
   "metadata": {}
  },
  {
   "cell_type": "code",
   "execution_count": 76,
   "source": [
    "A.inverse()"
   ],
   "outputs": [
    {
     "output_type": "execute_result",
     "data": {
      "text/plain": [
       "[ 4/13 -1/13]\n",
       "[ 5/13  2/13]"
      ]
     },
     "metadata": {},
     "execution_count": 76
    }
   ],
   "metadata": {}
  },
  {
   "cell_type": "code",
   "execution_count": 77,
   "source": [
    "~A"
   ],
   "outputs": [
    {
     "output_type": "execute_result",
     "data": {
      "text/plain": [
       "[ 4/13 -1/13]\n",
       "[ 5/13  2/13]"
      ]
     },
     "metadata": {},
     "execution_count": 77
    }
   ],
   "metadata": {}
  },
  {
   "cell_type": "code",
   "execution_count": 78,
   "source": [
    "B^-1"
   ],
   "outputs": [
    {
     "output_type": "execute_result",
     "data": {
      "text/plain": [
       "[ 9/28 15/28]\n",
       "[ 3/28 -9/28]"
      ]
     },
     "metadata": {},
     "execution_count": 78
    }
   ],
   "metadata": {}
  },
  {
   "cell_type": "code",
   "execution_count": 79,
   "source": [
    "show(B^-1)"
   ],
   "outputs": [
    {
     "output_type": "display_data",
     "data": {
      "text/html": [
       "<html>\\[\\newcommand{\\Bold}[1]{\\mathbf{#1}}\\left(\\begin{array}{rr}\n",
       "\\frac{9}{28} & \\frac{15}{28} \\\\\n",
       "\\frac{3}{28} & -\\frac{9}{28}\n",
       "\\end{array}\\right)\\]</html>"
      ],
      "text/latex": [
       "$$\\newcommand{\\Bold}[1]{\\mathbf{#1}}\\left(\\begin{array}{rr}\n",
       "\\frac{9}{28} & \\frac{15}{28} \\\\\n",
       "\\frac{3}{28} & -\\frac{9}{28}\n",
       "\\end{array}\\right)$$"
      ],
      "text/plain": [
       "[ 9/28 15/28]\n",
       "[ 3/28 -9/28]"
      ]
     },
     "metadata": {}
    }
   ],
   "metadata": {}
  },
  {
   "cell_type": "code",
   "execution_count": 80,
   "source": [
    "B.inverse()"
   ],
   "outputs": [
    {
     "output_type": "execute_result",
     "data": {
      "text/plain": [
       "[ 9/28 15/28]\n",
       "[ 3/28 -9/28]"
      ]
     },
     "metadata": {},
     "execution_count": 80
    }
   ],
   "metadata": {}
  },
  {
   "cell_type": "code",
   "execution_count": 81,
   "source": [
    "~B"
   ],
   "outputs": [
    {
     "output_type": "execute_result",
     "data": {
      "text/plain": [
       "[ 9/28 15/28]\n",
       "[ 3/28 -9/28]"
      ]
     },
     "metadata": {},
     "execution_count": 81
    }
   ],
   "metadata": {}
  },
  {
   "cell_type": "markdown",
   "source": [
    "<div style=\"background-color: #F5FFFA; color: #000000; border: 2px solid #B0C4DE; border-radius: 15px; padding:0px 10px 25px;\">\n",
    "<h3>17. zadatak</h3>\n",
    "<p>Odredite inverznu matricu matrice $E=\\begin{bmatrix}-3&4&-5\\\\ 4&-3&2\\\\ 1&-3&4\\end{bmatrix}$.</p>\n",
    "</div>\n",
    "<h3>Rješenje</h3>"
   ],
   "metadata": {}
  },
  {
   "cell_type": "code",
   "execution_count": 82,
   "source": [
    "E=matrix(3,3,[-3,4,-5,4,-3,2,1,-3,4])"
   ],
   "outputs": [],
   "metadata": {}
  },
  {
   "cell_type": "code",
   "execution_count": 83,
   "source": [
    "E^-1"
   ],
   "outputs": [
    {
     "output_type": "execute_result",
     "data": {
      "text/plain": [
       "[-6/7 -1/7   -1]\n",
       "[  -2   -1   -2]\n",
       "[-9/7 -5/7   -1]"
      ]
     },
     "metadata": {},
     "execution_count": 83
    }
   ],
   "metadata": {}
  },
  {
   "cell_type": "code",
   "execution_count": 84,
   "source": [
    "show(E^-1)"
   ],
   "outputs": [
    {
     "output_type": "display_data",
     "data": {
      "text/html": [
       "<html>\\[\\newcommand{\\Bold}[1]{\\mathbf{#1}}\\left(\\begin{array}{rrr}\n",
       "-\\frac{6}{7} & -\\frac{1}{7} & -1 \\\\\n",
       "-2 & -1 & -2 \\\\\n",
       "-\\frac{9}{7} & -\\frac{5}{7} & -1\n",
       "\\end{array}\\right)\\]</html>"
      ],
      "text/latex": [
       "$$\\newcommand{\\Bold}[1]{\\mathbf{#1}}\\left(\\begin{array}{rrr}\n",
       "-\\frac{6}{7} & -\\frac{1}{7} & -1 \\\\\n",
       "-2 & -1 & -2 \\\\\n",
       "-\\frac{9}{7} & -\\frac{5}{7} & -1\n",
       "\\end{array}\\right)$$"
      ],
      "text/plain": [
       "[-6/7 -1/7   -1]\n",
       "[  -2   -1   -2]\n",
       "[-9/7 -5/7   -1]"
      ]
     },
     "metadata": {}
    }
   ],
   "metadata": {}
  },
  {
   "cell_type": "code",
   "execution_count": 85,
   "source": [
    "E.inverse()"
   ],
   "outputs": [
    {
     "output_type": "execute_result",
     "data": {
      "text/plain": [
       "[-6/7 -1/7   -1]\n",
       "[  -2   -1   -2]\n",
       "[-9/7 -5/7   -1]"
      ]
     },
     "metadata": {},
     "execution_count": 85
    }
   ],
   "metadata": {}
  },
  {
   "cell_type": "code",
   "execution_count": 86,
   "source": [
    "~E"
   ],
   "outputs": [
    {
     "output_type": "execute_result",
     "data": {
      "text/plain": [
       "[-6/7 -1/7   -1]\n",
       "[  -2   -1   -2]\n",
       "[-9/7 -5/7   -1]"
      ]
     },
     "metadata": {},
     "execution_count": 86
    }
   ],
   "metadata": {}
  },
  {
   "cell_type": "markdown",
   "source": [
    "<p><strong>adjunkta matrice $E$</strong></p>"
   ],
   "metadata": {}
  },
  {
   "cell_type": "code",
   "execution_count": 87,
   "source": [
    "E.adjugate()"
   ],
   "outputs": [
    {
     "output_type": "execute_result",
     "data": {
      "text/plain": [
       "[ -6  -1  -7]\n",
       "[-14  -7 -14]\n",
       "[ -9  -5  -7]"
      ]
     },
     "metadata": {},
     "execution_count": 87
    }
   ],
   "metadata": {}
  },
  {
   "cell_type": "markdown",
   "source": [
    "<div style=\"background-color: #F5FFFA; color: #000000; border: 2px solid #B0C4DE; border-radius: 15px; padding:0px 10px 25px;\">\n",
    "<h3>18. zadatak</h3>\n",
    "<p style=\"line-height:30px;\">Za koje vrijednosti parametara $a,b\\in\\mathbb{R}$ je matrica $AB$ regularna ako je</p>\n",
    "<p></p>\n",
    "$$A=\\begin{bmatrix}a&1&-1\\\\ -1&1&1\\\\ -2&0&0\\end{bmatrix},\\quad B=\\begin{bmatrix}1&0&0\\\\ 0&a^2-1&1\\\\ b&0&1\\end{bmatrix}.$$\n",
    "</div>\n",
    "<h3>Rješenje</h3>"
   ],
   "metadata": {}
  },
  {
   "cell_type": "code",
   "execution_count": 88,
   "source": [
    "A=matrix(3,3,[a,1,-1,-1,1,1,-2,0,0])\n",
    "B=matrix(3,3,[1,0,0,0,a^2-1,1,b,0,1])"
   ],
   "outputs": [],
   "metadata": {}
  },
  {
   "cell_type": "code",
   "execution_count": 89,
   "source": [
    "det(A*B)"
   ],
   "outputs": [
    {
     "output_type": "execute_result",
     "data": {
      "text/plain": [
       "-4*a^2 + 4"
      ]
     },
     "metadata": {},
     "execution_count": 89
    }
   ],
   "metadata": {}
  },
  {
   "cell_type": "code",
   "execution_count": 90,
   "source": [
    "solve(det(A*B)==0,a)"
   ],
   "outputs": [
    {
     "output_type": "execute_result",
     "data": {
      "text/plain": [
       "[a == -1, a == 1]"
      ]
     },
     "metadata": {},
     "execution_count": 90
    }
   ],
   "metadata": {}
  },
  {
   "cell_type": "markdown",
   "source": [
    "<p>Dakle, $\\det{(AB)}=0$ jedino za $a=1$ i $a=-1$. Stoga je $AB$ regularna matrica za svaki $b\\in\\mathbb{R}$ i za sve $a\\in\\mathbb{R}\\setminus\\{-1,1\\}$.</p>"
   ],
   "metadata": {}
  },
  {
   "cell_type": "markdown",
   "source": [
    "<div style=\"background-color: #F5FFFA; color: #000000; border: 2px solid #B0C4DE; border-radius: 15px; padding:0px 10px 25px;\">\n",
    "<h3>19. zadatak</h3>\n",
    "<p>Odredite matricu $X$ tako da vrijedi jednakost $AX=B$ ako je $A=\\begin{bmatrix}1&2\\\\ -2&0\\end{bmatrix}$,  $B=\\begin{bmatrix}2&0&-1\\\\ 0&-2&1\\end{bmatrix}$.</p>\n",
    "</div>\n",
    "<h3>Rješenje</h3>"
   ],
   "metadata": {}
  },
  {
   "cell_type": "code",
   "execution_count": 91,
   "source": [
    "A=matrix(2,2,[1,2,-2,0])\n",
    "B=matrix(2,3,[2,0,-1,0,-2,1])"
   ],
   "outputs": [],
   "metadata": {}
  },
  {
   "cell_type": "markdown",
   "source": [
    "<p><strong>1. način</strong></p>"
   ],
   "metadata": {}
  },
  {
   "cell_type": "code",
   "execution_count": 92,
   "source": [
    "A^-1*B"
   ],
   "outputs": [
    {
     "output_type": "execute_result",
     "data": {
      "text/plain": [
       "[   0    1 -1/2]\n",
       "[   1 -1/2 -1/4]"
      ]
     },
     "metadata": {},
     "execution_count": 92
    }
   ],
   "metadata": {}
  },
  {
   "cell_type": "code",
   "execution_count": 93,
   "source": [
    "show(A^-1*B)"
   ],
   "outputs": [
    {
     "output_type": "display_data",
     "data": {
      "text/html": [
       "<html>\\[\\newcommand{\\Bold}[1]{\\mathbf{#1}}\\left(\\begin{array}{rrr}\n",
       "0 & 1 & -\\frac{1}{2} \\\\\n",
       "1 & -\\frac{1}{2} & -\\frac{1}{4}\n",
       "\\end{array}\\right)\\]</html>"
      ],
      "text/latex": [
       "$$\\newcommand{\\Bold}[1]{\\mathbf{#1}}\\left(\\begin{array}{rrr}\n",
       "0 & 1 & -\\frac{1}{2} \\\\\n",
       "1 & -\\frac{1}{2} & -\\frac{1}{4}\n",
       "\\end{array}\\right)$$"
      ],
      "text/plain": [
       "[   0    1 -1/2]\n",
       "[   1 -1/2 -1/4]"
      ]
     },
     "metadata": {}
    }
   ],
   "metadata": {}
  },
  {
   "cell_type": "markdown",
   "source": [
    "<p><strong>2. način</strong></p>"
   ],
   "metadata": {}
  },
  {
   "cell_type": "code",
   "execution_count": 94,
   "source": [
    "A\\B"
   ],
   "outputs": [
    {
     "output_type": "execute_result",
     "data": {
      "text/plain": [
       "[   0    1 -1/2]\n",
       "[   1 -1/2 -1/4]"
      ]
     },
     "metadata": {},
     "execution_count": 94
    }
   ],
   "metadata": {}
  },
  {
   "cell_type": "code",
   "execution_count": 95,
   "source": [
    "show(A\\B)"
   ],
   "outputs": [
    {
     "output_type": "display_data",
     "data": {
      "text/html": [
       "<html>\\[\\newcommand{\\Bold}[1]{\\mathbf{#1}}\\left(\\begin{array}{rrr}\n",
       "0 & 1 & -\\frac{1}{2} \\\\\n",
       "1 & -\\frac{1}{2} & -\\frac{1}{4}\n",
       "\\end{array}\\right)\\]</html>"
      ],
      "text/latex": [
       "$$\\newcommand{\\Bold}[1]{\\mathbf{#1}}\\left(\\begin{array}{rrr}\n",
       "0 & 1 & -\\frac{1}{2} \\\\\n",
       "1 & -\\frac{1}{2} & -\\frac{1}{4}\n",
       "\\end{array}\\right)$$"
      ],
      "text/plain": [
       "[   0    1 -1/2]\n",
       "[   1 -1/2 -1/4]"
      ]
     },
     "metadata": {}
    }
   ],
   "metadata": {}
  },
  {
   "cell_type": "markdown",
   "source": [
    "<p><strong>3. način</strong></p>"
   ],
   "metadata": {}
  },
  {
   "cell_type": "code",
   "execution_count": 96,
   "source": [
    "A.solve_right(B)"
   ],
   "outputs": [
    {
     "output_type": "execute_result",
     "data": {
      "text/plain": [
       "[   0    1 -1/2]\n",
       "[   1 -1/2 -1/4]"
      ]
     },
     "metadata": {},
     "execution_count": 96
    }
   ],
   "metadata": {}
  },
  {
   "cell_type": "code",
   "execution_count": 97,
   "source": [
    "show(A.solve_right(B))"
   ],
   "outputs": [
    {
     "output_type": "display_data",
     "data": {
      "text/html": [
       "<html>\\[\\newcommand{\\Bold}[1]{\\mathbf{#1}}\\left(\\begin{array}{rrr}\n",
       "0 & 1 & -\\frac{1}{2} \\\\\n",
       "1 & -\\frac{1}{2} & -\\frac{1}{4}\n",
       "\\end{array}\\right)\\]</html>"
      ],
      "text/latex": [
       "$$\\newcommand{\\Bold}[1]{\\mathbf{#1}}\\left(\\begin{array}{rrr}\n",
       "0 & 1 & -\\frac{1}{2} \\\\\n",
       "1 & -\\frac{1}{2} & -\\frac{1}{4}\n",
       "\\end{array}\\right)$$"
      ],
      "text/plain": [
       "[   0    1 -1/2]\n",
       "[   1 -1/2 -1/4]"
      ]
     },
     "metadata": {}
    }
   ],
   "metadata": {}
  },
  {
   "cell_type": "markdown",
   "source": [
    "<p><strong>4. način</strong></p>"
   ],
   "metadata": {}
  },
  {
   "cell_type": "code",
   "execution_count": 98,
   "source": [
    "var('x1,x2,x3,x4,x5,x6')\n",
    "X=matrix(2,3,[x1,x2,x3,x4,x5,x6])"
   ],
   "outputs": [],
   "metadata": {}
  },
  {
   "cell_type": "code",
   "execution_count": 99,
   "source": [
    "solve_mat(A*X,B,(x1,x2,x3,x4,x5,x6))"
   ],
   "outputs": [
    {
     "output_type": "execute_result",
     "data": {
      "text/plain": [
       "[[x1 == 0, x2 == 1, x3 == (-1/2), x4 == 1, x5 == (-1/2), x6 == (-1/4)]]"
      ]
     },
     "metadata": {},
     "execution_count": 99
    }
   ],
   "metadata": {}
  },
  {
   "cell_type": "markdown",
   "source": [
    "<div style=\"background-color: #F5FFFA; color: #000000; border: 2px solid #B0C4DE; border-radius: 15px; padding:0px 10px 25px;\">\n",
    "<h3>20. zadatak</h3>\n",
    "<p>Riješite matričnu jednadžbu $XA=B$ ako je $A=\\begin{bmatrix}1&2\\\\ -2&0\\end{bmatrix}$,  $B=\\begin{bmatrix}2&0\\\\ -1&0\\\\ -2&1\\end{bmatrix}$.</p>\n",
    "</div>\n",
    "<h3>Rješenje</h3>"
   ],
   "metadata": {}
  },
  {
   "cell_type": "code",
   "execution_count": 100,
   "source": [
    "A=matrix(2,2,[1,2,-2,0])\n",
    "B=matrix(3,2,[2,0,-1,0,-2,1])"
   ],
   "outputs": [],
   "metadata": {}
  },
  {
   "cell_type": "markdown",
   "source": [
    "<p><strong>1. način</strong></p>"
   ],
   "metadata": {}
  },
  {
   "cell_type": "code",
   "execution_count": 101,
   "source": [
    "B*A^-1"
   ],
   "outputs": [
    {
     "output_type": "execute_result",
     "data": {
      "text/plain": [
       "[  0  -1]\n",
       "[  0 1/2]\n",
       "[1/2 5/4]"
      ]
     },
     "metadata": {},
     "execution_count": 101
    }
   ],
   "metadata": {}
  },
  {
   "cell_type": "markdown",
   "source": [
    "<p><strong>2. način</strong></p>"
   ],
   "metadata": {}
  },
  {
   "cell_type": "code",
   "execution_count": 102,
   "source": [
    "A.solve_left(B)"
   ],
   "outputs": [
    {
     "output_type": "execute_result",
     "data": {
      "text/plain": [
       "[  0  -1]\n",
       "[  0 1/2]\n",
       "[1/2 5/4]"
      ]
     },
     "metadata": {},
     "execution_count": 102
    }
   ],
   "metadata": {}
  },
  {
   "cell_type": "markdown",
   "source": [
    "<p><strong>3. način</strong></p>"
   ],
   "metadata": {}
  },
  {
   "cell_type": "code",
   "execution_count": 103,
   "source": [
    "X=matrix(3,2,[x1,x2,x3,x4,x5,x6])"
   ],
   "outputs": [],
   "metadata": {}
  },
  {
   "cell_type": "code",
   "execution_count": 104,
   "source": [
    "solve_mat(X*A,B,(x1,x2,x3,x4,x5,x6))"
   ],
   "outputs": [
    {
     "output_type": "execute_result",
     "data": {
      "text/plain": [
       "[[x1 == 0, x2 == -1, x3 == 0, x4 == (1/2), x5 == (1/2), x6 == (5/4)]]"
      ]
     },
     "metadata": {},
     "execution_count": 104
    }
   ],
   "metadata": {}
  },
  {
   "cell_type": "markdown",
   "source": [
    "<div style=\"background-color: #F5FFFA; color: #000000; border: 2px solid #B0C4DE; border-radius: 15px; padding:0px 10px 25px;\">\n",
    "<h3>21. zadatak</h3>\n",
    "<p>Riješite matričnu jednadžbu  $AX=B$ ako je  $A=\\begin{bmatrix}1&1\\\\ 1&1\\end{bmatrix}$,  $B=\\begin{bmatrix}1&2\\\\ 3&0\\end{bmatrix}$.</p>\n",
    "</div>\n",
    "<h3>Rješenje</h3>"
   ],
   "metadata": {}
  },
  {
   "cell_type": "code",
   "execution_count": 105,
   "source": [
    "A=matrix(2,2,[1,1,1,1])\n",
    "B=matrix(2,2,[1,2,3,0])"
   ],
   "outputs": [],
   "metadata": {}
  },
  {
   "cell_type": "code",
   "execution_count": 106,
   "source": [
    "det(A)"
   ],
   "outputs": [
    {
     "output_type": "execute_result",
     "data": {
      "text/plain": [
       "0"
      ]
     },
     "metadata": {},
     "execution_count": 106
    }
   ],
   "metadata": {}
  },
  {
   "cell_type": "code",
   "execution_count": 107,
   "source": [
    "A\\B"
   ],
   "outputs": [
    {
     "output_type": "error",
     "ename": "ValueError",
     "evalue": "matrix equation has no solutions",
     "traceback": [
      "\u001b[0;31m---------------------------------------------------------------------------\u001b[0m",
      "\u001b[0;31mNotFullRankError\u001b[0m                          Traceback (most recent call last)",
      "\u001b[0;32m/usr/lib/python3.9/site-packages/sage/matrix/matrix2.pyx\u001b[0m in \u001b[0;36msage.matrix.matrix2.Matrix.solve_right (build/cythonized/sage/matrix/matrix2.c:8537)\u001b[0;34m()\u001b[0m\n\u001b[1;32m    853\u001b[0m             \u001b[0;32mtry\u001b[0m\u001b[0;34m:\u001b[0m\u001b[0;34m\u001b[0m\u001b[0;34m\u001b[0m\u001b[0m\n\u001b[0;32m--> 854\u001b[0;31m                 \u001b[0mX\u001b[0m \u001b[0;34m=\u001b[0m \u001b[0mself\u001b[0m\u001b[0;34m.\u001b[0m\u001b[0m_solve_right_nonsingular_square\u001b[0m\u001b[0;34m(\u001b[0m\u001b[0mC\u001b[0m\u001b[0;34m,\u001b[0m \u001b[0mcheck_rank\u001b[0m\u001b[0;34m=\u001b[0m\u001b[0;32mTrue\u001b[0m\u001b[0;34m)\u001b[0m\u001b[0;34m\u001b[0m\u001b[0;34m\u001b[0m\u001b[0m\n\u001b[0m\u001b[1;32m    855\u001b[0m             \u001b[0;32mexcept\u001b[0m \u001b[0mNotFullRankError\u001b[0m\u001b[0;34m:\u001b[0m\u001b[0;34m\u001b[0m\u001b[0;34m\u001b[0m\u001b[0m\n",
      "\u001b[0;32m/usr/lib/python3.9/site-packages/sage/matrix/matrix2.pyx\u001b[0m in \u001b[0;36msage.matrix.matrix2.Matrix._solve_right_nonsingular_square (build/cythonized/sage/matrix/matrix2.c:8906)\u001b[0;34m()\u001b[0m\n\u001b[1;32m    899\u001b[0m         \u001b[0;32mif\u001b[0m \u001b[0mcheck_rank\u001b[0m \u001b[0;32mand\u001b[0m \u001b[0mself\u001b[0m\u001b[0;34m.\u001b[0m\u001b[0mrank\u001b[0m\u001b[0;34m(\u001b[0m\u001b[0;34m)\u001b[0m \u001b[0;34m<\u001b[0m \u001b[0mself\u001b[0m\u001b[0;34m.\u001b[0m\u001b[0mnrows\u001b[0m\u001b[0;34m(\u001b[0m\u001b[0;34m)\u001b[0m\u001b[0;34m:\u001b[0m\u001b[0;34m\u001b[0m\u001b[0;34m\u001b[0m\u001b[0m\n\u001b[0;32m--> 900\u001b[0;31m             \u001b[0;32mraise\u001b[0m \u001b[0mNotFullRankError\u001b[0m\u001b[0;34m\u001b[0m\u001b[0;34m\u001b[0m\u001b[0m\n\u001b[0m\u001b[1;32m    901\u001b[0m         \u001b[0mD\u001b[0m \u001b[0;34m=\u001b[0m \u001b[0mself\u001b[0m\u001b[0;34m.\u001b[0m\u001b[0maugment\u001b[0m\u001b[0;34m(\u001b[0m\u001b[0mB\u001b[0m\u001b[0;34m)\u001b[0m\u001b[0;34m\u001b[0m\u001b[0;34m\u001b[0m\u001b[0m\n",
      "\u001b[0;31mNotFullRankError\u001b[0m: ",
      "\nDuring handling of the above exception, another exception occurred:\n",
      "\u001b[0;31mValueError\u001b[0m                                Traceback (most recent call last)",
      "\u001b[0;32m/tmp/ipykernel_15441/1346290215.py\u001b[0m in \u001b[0;36m<module>\u001b[0;34m\u001b[0m\n\u001b[0;32m----> 1\u001b[0;31m \u001b[0mA\u001b[0m \u001b[0;34m*\u001b[0m \u001b[0mBackslashOperator\u001b[0m\u001b[0;34m(\u001b[0m\u001b[0;34m)\u001b[0m \u001b[0;34m*\u001b[0m \u001b[0mB\u001b[0m\u001b[0;34m\u001b[0m\u001b[0;34m\u001b[0m\u001b[0m\n\u001b[0m",
      "\u001b[0;32m/usr/lib/python3.9/site-packages/sage/misc/misc.py\u001b[0m in \u001b[0;36m__mul__\u001b[0;34m(self, right)\u001b[0m\n\u001b[1;32m    831\u001b[0m             \u001b[0;34m(\u001b[0m\u001b[0;36m0.0\u001b[0m\u001b[0;34m,\u001b[0m \u001b[0;36m0.5\u001b[0m\u001b[0;34m,\u001b[0m \u001b[0;36m1.0\u001b[0m\u001b[0;34m,\u001b[0m \u001b[0;36m1.5\u001b[0m\u001b[0;34m,\u001b[0m \u001b[0;36m2.0\u001b[0m\u001b[0;34m)\u001b[0m\u001b[0;34m\u001b[0m\u001b[0;34m\u001b[0m\u001b[0m\n\u001b[1;32m    832\u001b[0m         \"\"\"\n\u001b[0;32m--> 833\u001b[0;31m         \u001b[0;32mreturn\u001b[0m \u001b[0mself\u001b[0m\u001b[0;34m.\u001b[0m\u001b[0mleft\u001b[0m\u001b[0;34m.\u001b[0m\u001b[0m_backslash_\u001b[0m\u001b[0;34m(\u001b[0m\u001b[0mright\u001b[0m\u001b[0;34m)\u001b[0m\u001b[0;34m\u001b[0m\u001b[0;34m\u001b[0m\u001b[0m\n\u001b[0m\u001b[1;32m    834\u001b[0m \u001b[0;34m\u001b[0m\u001b[0m\n\u001b[1;32m    835\u001b[0m \u001b[0;34m\u001b[0m\u001b[0m\n",
      "\u001b[0;32m/usr/lib/python3.9/site-packages/sage/matrix/matrix2.pyx\u001b[0m in \u001b[0;36msage.matrix.matrix2.Matrix._backslash_ (build/cythonized/sage/matrix/matrix2.c:5667)\u001b[0;34m()\u001b[0m\n\u001b[1;32m    151\u001b[0m             \u001b[0;32mTrue\u001b[0m\u001b[0;34m\u001b[0m\u001b[0;34m\u001b[0m\u001b[0m\n\u001b[1;32m    152\u001b[0m         \"\"\"\n\u001b[0;32m--> 153\u001b[0;31m         \u001b[0;32mreturn\u001b[0m \u001b[0mself\u001b[0m\u001b[0;34m.\u001b[0m\u001b[0msolve_right\u001b[0m\u001b[0;34m(\u001b[0m\u001b[0mB\u001b[0m\u001b[0;34m)\u001b[0m\u001b[0;34m\u001b[0m\u001b[0;34m\u001b[0m\u001b[0m\n\u001b[0m\u001b[1;32m    154\u001b[0m \u001b[0;34m\u001b[0m\u001b[0m\n\u001b[1;32m    155\u001b[0m     \u001b[0;32mdef\u001b[0m \u001b[0msubs\u001b[0m\u001b[0;34m(\u001b[0m\u001b[0mself\u001b[0m\u001b[0;34m,\u001b[0m \u001b[0;34m*\u001b[0m\u001b[0margs\u001b[0m\u001b[0;34m,\u001b[0m \u001b[0;34m**\u001b[0m\u001b[0mkwds\u001b[0m\u001b[0;34m)\u001b[0m\u001b[0;34m:\u001b[0m\u001b[0;34m\u001b[0m\u001b[0;34m\u001b[0m\u001b[0m\n",
      "\u001b[0;32m/usr/lib/python3.9/site-packages/sage/matrix/matrix2.pyx\u001b[0m in \u001b[0;36msage.matrix.matrix2.Matrix.solve_right (build/cythonized/sage/matrix/matrix2.c:8604)\u001b[0;34m()\u001b[0m\n\u001b[1;32m    854\u001b[0m                 \u001b[0mX\u001b[0m \u001b[0;34m=\u001b[0m \u001b[0mself\u001b[0m\u001b[0;34m.\u001b[0m\u001b[0m_solve_right_nonsingular_square\u001b[0m\u001b[0;34m(\u001b[0m\u001b[0mC\u001b[0m\u001b[0;34m,\u001b[0m \u001b[0mcheck_rank\u001b[0m\u001b[0;34m=\u001b[0m\u001b[0;32mTrue\u001b[0m\u001b[0;34m)\u001b[0m\u001b[0;34m\u001b[0m\u001b[0;34m\u001b[0m\u001b[0m\n\u001b[1;32m    855\u001b[0m             \u001b[0;32mexcept\u001b[0m \u001b[0mNotFullRankError\u001b[0m\u001b[0;34m:\u001b[0m\u001b[0;34m\u001b[0m\u001b[0;34m\u001b[0m\u001b[0m\n\u001b[0;32m--> 856\u001b[0;31m                 \u001b[0mX\u001b[0m \u001b[0;34m=\u001b[0m \u001b[0mself\u001b[0m\u001b[0;34m.\u001b[0m\u001b[0m_solve_right_general\u001b[0m\u001b[0;34m(\u001b[0m\u001b[0mC\u001b[0m\u001b[0;34m,\u001b[0m \u001b[0mcheck\u001b[0m\u001b[0;34m=\u001b[0m\u001b[0mcheck\u001b[0m\u001b[0;34m)\u001b[0m\u001b[0;34m\u001b[0m\u001b[0;34m\u001b[0m\u001b[0m\n\u001b[0m\u001b[1;32m    857\u001b[0m \u001b[0;34m\u001b[0m\u001b[0m\n\u001b[1;32m    858\u001b[0m         \u001b[0;32mif\u001b[0m \u001b[0mb_is_vec\u001b[0m\u001b[0;34m:\u001b[0m\u001b[0;34m\u001b[0m\u001b[0;34m\u001b[0m\u001b[0m\n",
      "\u001b[0;32m/usr/lib/python3.9/site-packages/sage/matrix/matrix2.pyx\u001b[0m in \u001b[0;36msage.matrix.matrix2.Matrix._solve_right_general (build/cythonized/sage/matrix/matrix2.c:9825)\u001b[0;34m()\u001b[0m\n\u001b[1;32m    972\u001b[0m             \u001b[0;31m# Have to check that we actually solved the equation.\u001b[0m\u001b[0;34m\u001b[0m\u001b[0;34m\u001b[0m\u001b[0m\n\u001b[1;32m    973\u001b[0m             \u001b[0;32mif\u001b[0m \u001b[0mself\u001b[0m\u001b[0;34m*\u001b[0m\u001b[0mX\u001b[0m \u001b[0;34m!=\u001b[0m \u001b[0mB\u001b[0m\u001b[0;34m:\u001b[0m\u001b[0;34m\u001b[0m\u001b[0;34m\u001b[0m\u001b[0m\n\u001b[0;32m--> 974\u001b[0;31m                 \u001b[0;32mraise\u001b[0m \u001b[0mValueError\u001b[0m\u001b[0;34m(\u001b[0m\u001b[0;34m\"matrix equation has no solutions\"\u001b[0m\u001b[0;34m)\u001b[0m\u001b[0;34m\u001b[0m\u001b[0;34m\u001b[0m\u001b[0m\n\u001b[0m\u001b[1;32m    975\u001b[0m         \u001b[0;32mreturn\u001b[0m \u001b[0mX\u001b[0m\u001b[0;34m\u001b[0m\u001b[0;34m\u001b[0m\u001b[0m\n\u001b[1;32m    976\u001b[0m \u001b[0;34m\u001b[0m\u001b[0m\n",
      "\u001b[0;31mValueError\u001b[0m: matrix equation has no solutions"
     ]
    }
   ],
   "metadata": {}
  },
  {
   "cell_type": "code",
   "execution_count": 108,
   "source": [
    "A.solve_right(B)"
   ],
   "outputs": [
    {
     "output_type": "error",
     "ename": "ValueError",
     "evalue": "matrix equation has no solutions",
     "traceback": [
      "\u001b[0;31m---------------------------------------------------------------------------\u001b[0m",
      "\u001b[0;31mNotFullRankError\u001b[0m                          Traceback (most recent call last)",
      "\u001b[0;32m/usr/lib/python3.9/site-packages/sage/matrix/matrix2.pyx\u001b[0m in \u001b[0;36msage.matrix.matrix2.Matrix.solve_right (build/cythonized/sage/matrix/matrix2.c:8537)\u001b[0;34m()\u001b[0m\n\u001b[1;32m    853\u001b[0m             \u001b[0;32mtry\u001b[0m\u001b[0;34m:\u001b[0m\u001b[0;34m\u001b[0m\u001b[0;34m\u001b[0m\u001b[0m\n\u001b[0;32m--> 854\u001b[0;31m                 \u001b[0mX\u001b[0m \u001b[0;34m=\u001b[0m \u001b[0mself\u001b[0m\u001b[0;34m.\u001b[0m\u001b[0m_solve_right_nonsingular_square\u001b[0m\u001b[0;34m(\u001b[0m\u001b[0mC\u001b[0m\u001b[0;34m,\u001b[0m \u001b[0mcheck_rank\u001b[0m\u001b[0;34m=\u001b[0m\u001b[0;32mTrue\u001b[0m\u001b[0;34m)\u001b[0m\u001b[0;34m\u001b[0m\u001b[0;34m\u001b[0m\u001b[0m\n\u001b[0m\u001b[1;32m    855\u001b[0m             \u001b[0;32mexcept\u001b[0m \u001b[0mNotFullRankError\u001b[0m\u001b[0;34m:\u001b[0m\u001b[0;34m\u001b[0m\u001b[0;34m\u001b[0m\u001b[0m\n",
      "\u001b[0;32m/usr/lib/python3.9/site-packages/sage/matrix/matrix2.pyx\u001b[0m in \u001b[0;36msage.matrix.matrix2.Matrix._solve_right_nonsingular_square (build/cythonized/sage/matrix/matrix2.c:8906)\u001b[0;34m()\u001b[0m\n\u001b[1;32m    899\u001b[0m         \u001b[0;32mif\u001b[0m \u001b[0mcheck_rank\u001b[0m \u001b[0;32mand\u001b[0m \u001b[0mself\u001b[0m\u001b[0;34m.\u001b[0m\u001b[0mrank\u001b[0m\u001b[0;34m(\u001b[0m\u001b[0;34m)\u001b[0m \u001b[0;34m<\u001b[0m \u001b[0mself\u001b[0m\u001b[0;34m.\u001b[0m\u001b[0mnrows\u001b[0m\u001b[0;34m(\u001b[0m\u001b[0;34m)\u001b[0m\u001b[0;34m:\u001b[0m\u001b[0;34m\u001b[0m\u001b[0;34m\u001b[0m\u001b[0m\n\u001b[0;32m--> 900\u001b[0;31m             \u001b[0;32mraise\u001b[0m \u001b[0mNotFullRankError\u001b[0m\u001b[0;34m\u001b[0m\u001b[0;34m\u001b[0m\u001b[0m\n\u001b[0m\u001b[1;32m    901\u001b[0m         \u001b[0mD\u001b[0m \u001b[0;34m=\u001b[0m \u001b[0mself\u001b[0m\u001b[0;34m.\u001b[0m\u001b[0maugment\u001b[0m\u001b[0;34m(\u001b[0m\u001b[0mB\u001b[0m\u001b[0;34m)\u001b[0m\u001b[0;34m\u001b[0m\u001b[0;34m\u001b[0m\u001b[0m\n",
      "\u001b[0;31mNotFullRankError\u001b[0m: ",
      "\nDuring handling of the above exception, another exception occurred:\n",
      "\u001b[0;31mValueError\u001b[0m                                Traceback (most recent call last)",
      "\u001b[0;32m/tmp/ipykernel_15441/790423984.py\u001b[0m in \u001b[0;36m<module>\u001b[0;34m\u001b[0m\n\u001b[0;32m----> 1\u001b[0;31m \u001b[0mA\u001b[0m\u001b[0;34m.\u001b[0m\u001b[0msolve_right\u001b[0m\u001b[0;34m(\u001b[0m\u001b[0mB\u001b[0m\u001b[0;34m)\u001b[0m\u001b[0;34m\u001b[0m\u001b[0;34m\u001b[0m\u001b[0m\n\u001b[0m",
      "\u001b[0;32m/usr/lib/python3.9/site-packages/sage/matrix/matrix2.pyx\u001b[0m in \u001b[0;36msage.matrix.matrix2.Matrix.solve_right (build/cythonized/sage/matrix/matrix2.c:8604)\u001b[0;34m()\u001b[0m\n\u001b[1;32m    854\u001b[0m                 \u001b[0mX\u001b[0m \u001b[0;34m=\u001b[0m \u001b[0mself\u001b[0m\u001b[0;34m.\u001b[0m\u001b[0m_solve_right_nonsingular_square\u001b[0m\u001b[0;34m(\u001b[0m\u001b[0mC\u001b[0m\u001b[0;34m,\u001b[0m \u001b[0mcheck_rank\u001b[0m\u001b[0;34m=\u001b[0m\u001b[0;32mTrue\u001b[0m\u001b[0;34m)\u001b[0m\u001b[0;34m\u001b[0m\u001b[0;34m\u001b[0m\u001b[0m\n\u001b[1;32m    855\u001b[0m             \u001b[0;32mexcept\u001b[0m \u001b[0mNotFullRankError\u001b[0m\u001b[0;34m:\u001b[0m\u001b[0;34m\u001b[0m\u001b[0;34m\u001b[0m\u001b[0m\n\u001b[0;32m--> 856\u001b[0;31m                 \u001b[0mX\u001b[0m \u001b[0;34m=\u001b[0m \u001b[0mself\u001b[0m\u001b[0;34m.\u001b[0m\u001b[0m_solve_right_general\u001b[0m\u001b[0;34m(\u001b[0m\u001b[0mC\u001b[0m\u001b[0;34m,\u001b[0m \u001b[0mcheck\u001b[0m\u001b[0;34m=\u001b[0m\u001b[0mcheck\u001b[0m\u001b[0;34m)\u001b[0m\u001b[0;34m\u001b[0m\u001b[0;34m\u001b[0m\u001b[0m\n\u001b[0m\u001b[1;32m    857\u001b[0m \u001b[0;34m\u001b[0m\u001b[0m\n\u001b[1;32m    858\u001b[0m         \u001b[0;32mif\u001b[0m \u001b[0mb_is_vec\u001b[0m\u001b[0;34m:\u001b[0m\u001b[0;34m\u001b[0m\u001b[0;34m\u001b[0m\u001b[0m\n",
      "\u001b[0;32m/usr/lib/python3.9/site-packages/sage/matrix/matrix2.pyx\u001b[0m in \u001b[0;36msage.matrix.matrix2.Matrix._solve_right_general (build/cythonized/sage/matrix/matrix2.c:9825)\u001b[0;34m()\u001b[0m\n\u001b[1;32m    972\u001b[0m             \u001b[0;31m# Have to check that we actually solved the equation.\u001b[0m\u001b[0;34m\u001b[0m\u001b[0;34m\u001b[0m\u001b[0m\n\u001b[1;32m    973\u001b[0m             \u001b[0;32mif\u001b[0m \u001b[0mself\u001b[0m\u001b[0;34m*\u001b[0m\u001b[0mX\u001b[0m \u001b[0;34m!=\u001b[0m \u001b[0mB\u001b[0m\u001b[0;34m:\u001b[0m\u001b[0;34m\u001b[0m\u001b[0;34m\u001b[0m\u001b[0m\n\u001b[0;32m--> 974\u001b[0;31m                 \u001b[0;32mraise\u001b[0m \u001b[0mValueError\u001b[0m\u001b[0;34m(\u001b[0m\u001b[0;34m\"matrix equation has no solutions\"\u001b[0m\u001b[0;34m)\u001b[0m\u001b[0;34m\u001b[0m\u001b[0;34m\u001b[0m\u001b[0m\n\u001b[0m\u001b[1;32m    975\u001b[0m         \u001b[0;32mreturn\u001b[0m \u001b[0mX\u001b[0m\u001b[0;34m\u001b[0m\u001b[0;34m\u001b[0m\u001b[0m\n\u001b[1;32m    976\u001b[0m \u001b[0;34m\u001b[0m\u001b[0m\n",
      "\u001b[0;31mValueError\u001b[0m: matrix equation has no solutions"
     ]
    }
   ],
   "metadata": {}
  },
  {
   "cell_type": "code",
   "execution_count": 109,
   "source": [
    "X=matrix(2,2,[x1,x2,x3,x4])"
   ],
   "outputs": [],
   "metadata": {}
  },
  {
   "cell_type": "code",
   "execution_count": 110,
   "source": [
    "solve_mat(A*X,B,(x1,x2,x3,x4))"
   ],
   "outputs": [
    {
     "output_type": "execute_result",
     "data": {
      "text/plain": [
       "[]"
      ]
     },
     "metadata": {},
     "execution_count": 110
    }
   ],
   "metadata": {}
  },
  {
   "cell_type": "markdown",
   "source": [
    "<p>Zaključujemo da zadana matrična jednadžba nema rješenja.</p>"
   ],
   "metadata": {}
  },
  {
   "cell_type": "markdown",
   "source": [
    "<div style=\"background-color: #F5FFFA; color: #000000; border: 2px solid #B0C4DE; border-radius: 15px; padding:0px 10px 25px;\">\n",
    "<h3>22. zadatak</h3>\n",
    "<p>Riješite matričnu jednadžbu  $AX=B$ ako je   $A=\\begin{bmatrix}1&1\\\\ 1&1\\end{bmatrix}$,   $B=\\begin{bmatrix}2&5\\\\ 2&5\\end{bmatrix}$.</p>\n",
    "</div>\n",
    "<h3>Rješenje</h3>"
   ],
   "metadata": {}
  },
  {
   "cell_type": "code",
   "execution_count": 111,
   "source": [
    "A=matrix(2,2,[1,1,1,1])\n",
    "B=matrix(2,2,[2,5,2,5])"
   ],
   "outputs": [],
   "metadata": {}
  },
  {
   "cell_type": "code",
   "execution_count": 112,
   "source": [
    "det(A)"
   ],
   "outputs": [
    {
     "output_type": "execute_result",
     "data": {
      "text/plain": [
       "0"
      ]
     },
     "metadata": {},
     "execution_count": 112
    }
   ],
   "metadata": {}
  },
  {
   "cell_type": "code",
   "execution_count": 113,
   "source": [
    "A\\B"
   ],
   "outputs": [
    {
     "output_type": "execute_result",
     "data": {
      "text/plain": [
       "[2 5]\n",
       "[0 0]"
      ]
     },
     "metadata": {},
     "execution_count": 113
    }
   ],
   "metadata": {}
  },
  {
   "cell_type": "code",
   "execution_count": 114,
   "source": [
    "A.solve_right(B)"
   ],
   "outputs": [
    {
     "output_type": "execute_result",
     "data": {
      "text/plain": [
       "[2 5]\n",
       "[0 0]"
      ]
     },
     "metadata": {},
     "execution_count": 114
    }
   ],
   "metadata": {}
  },
  {
   "cell_type": "markdown",
   "source": [
    "<p>želimo li dobiti sva rješenja</p>"
   ],
   "metadata": {}
  },
  {
   "cell_type": "code",
   "execution_count": 115,
   "source": [
    "X=matrix(2,2,[x1,x2,x3,x4])\n",
    "solve_mat(A*X,B,(x1,x2,x3,x4))"
   ],
   "outputs": [
    {
     "output_type": "execute_result",
     "data": {
      "text/plain": [
       "[[x1 == -r6 + 2, x2 == -r5 + 5, x3 == r6, x4 == r5]]"
      ]
     },
     "metadata": {},
     "execution_count": 115
    }
   ],
   "metadata": {}
  },
  {
   "cell_type": "markdown",
   "source": [
    "<p>ako želimo da varijable x1 i x2 budu parametri</p>"
   ],
   "metadata": {}
  },
  {
   "cell_type": "code",
   "execution_count": 116,
   "source": [
    "solve_mat(A*X,B,(x3,x4,x1,x2))"
   ],
   "outputs": [
    {
     "output_type": "execute_result",
     "data": {
      "text/plain": [
       "[[x3 == -r8 + 2, x4 == -r7 + 5, x1 == r8, x2 == r7]]"
      ]
     },
     "metadata": {},
     "execution_count": 116
    }
   ],
   "metadata": {}
  },
  {
   "cell_type": "markdown",
   "source": [
    "<div style=\"background-color: #F5FFFA; color: #000000; border: 2px solid #B0C4DE; border-radius: 15px; padding:0px 10px 25px;\">\n",
    "<h3>23. zadatak</h3>\n",
    "<p>Odredite matricu $X$ tako da vrijedi  $XB+A=AXB$ ako je  $A=\\dfrac{1}{3}\\begin{bmatrix}4&-5\\\\ 2&1\\end{bmatrix}$  i  $A+B=I$.</p>\n",
    "</div>\n",
    "<h3>Rješenje</h3>"
   ],
   "metadata": {}
  },
  {
   "cell_type": "code",
   "execution_count": 117,
   "source": [
    "A=1/3*matrix(2,2,[4,-5,2,1])\n",
    "B=identity_matrix(2)-A\n",
    "X=matrix(2,2,[a,b,c,d])"
   ],
   "outputs": [],
   "metadata": {}
  },
  {
   "cell_type": "code",
   "execution_count": 118,
   "source": [
    "solve_mat(X*B+A,A*X*B,(a,b,c,d))"
   ],
   "outputs": [
    {
     "output_type": "execute_result",
     "data": {
      "text/plain": [
       "[[a == (51/32), b == (-75/64), c == (15/32), d == (57/64)]]"
      ]
     },
     "metadata": {},
     "execution_count": 118
    }
   ],
   "metadata": {}
  },
  {
   "cell_type": "code",
   "execution_count": null,
   "source": [],
   "outputs": [],
   "metadata": {}
  }
 ],
 "metadata": {
  "kernelspec": {
   "display_name": "SageMath 9.4",
   "language": "sage",
   "name": "sagemath"
  },
  "language": "python",
  "language_info": {
   "name": "python",
   "version": "3.9.7",
   "mimetype": "text/x-python",
   "codemirror_mode": {
    "name": "ipython",
    "version": 3
   },
   "pygments_lexer": "ipython3",
   "nbconvert_exporter": "python",
   "file_extension": ".py"
  }
 },
 "nbformat": 4,
 "nbformat_minor": 2
}