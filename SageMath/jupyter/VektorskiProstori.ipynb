{
 "cells": [
  {
   "cell_type": "markdown",
   "metadata": {},
   "source": [
    "<h1>Vektorski prostori u SAGE-u</h1>\n",
    "<p style=\"font-style:italic;\">verzija: SageMath 9.4</p>"
   ]
  },
  {
   "cell_type": "code",
   "execution_count": 1,
   "metadata": {},
   "outputs": [
    {
     "name": "stdout",
     "output_type": "stream",
     "text": [
      "Dodatne funkcije za predmet 'Matematicke metode za informaticare'.\n",
      "MMZI_naredbe je rjecnik u kojemu je po poglavljima dan popis svih dodatnih naredbi koje trenutno postoje.\n"
     ]
    }
   ],
   "source": [
    "load('MMZI.sage')"
   ]
  },
  {
   "cell_type": "code",
   "execution_count": 2,
   "metadata": {},
   "outputs": [],
   "source": [
    "%display latex"
   ]
  },
  {
   "cell_type": "markdown",
   "metadata": {},
   "source": [
    "<h2>Generiranje vektorskih prostora</h2>\n",
    "<h3>Vektorski prostor dimenzije 3 nad poljem racionalnih brojeva</h3>\n",
    "<p>U ovom prvom primjeru pokazat ćemo dva načina generiranja istog vektorskog prostora.</p>"
   ]
  },
  {
   "cell_type": "code",
   "execution_count": 3,
   "metadata": {},
   "outputs": [
    {
     "data": {
      "text/html": [
       "<html>\\[\\newcommand{\\Bold}[1]{\\mathbf{#1}}\\Bold{Q}^{3}\\]</html>"
      ],
      "text/latex": [
       "$$\\newcommand{\\Bold}[1]{\\mathbf{#1}}\\Bold{Q}^{3}$$"
      ],
      "text/plain": [
       "Vector space of dimension 3 over Rational Field"
      ]
     },
     "execution_count": 3,
     "metadata": {},
     "output_type": "execute_result"
    }
   ],
   "source": [
    "V=VectorSpace(QQ,3); V"
   ]
  },
  {
   "cell_type": "code",
   "execution_count": 4,
   "metadata": {},
   "outputs": [
    {
     "data": {
      "text/html": [
       "<html>\\[\\newcommand{\\Bold}[1]{\\mathbf{#1}}\\mathrm{RowSpan}_{\\Bold{Q}}\\left(\\begin{array}{rrr}\n",
       "1 & 0 & 0 \\\\\n",
       "0 & 1 & 0 \\\\\n",
       "0 & 0 & 1\n",
       "\\end{array}\\right)\\]</html>"
      ],
      "text/latex": [
       "$$\\newcommand{\\Bold}[1]{\\mathbf{#1}}\\mathrm{RowSpan}_{\\Bold{Q}}\\left(\\begin{array}{rrr}\n",
       "1 & 0 & 0 \\\\\n",
       "0 & 1 & 0 \\\\\n",
       "0 & 0 & 1\n",
       "\\end{array}\\right)$$"
      ],
      "text/plain": [
       "Vector space of degree 3 and dimension 3 over Rational Field\n",
       "Basis matrix:\n",
       "[1 0 0]\n",
       "[0 1 0]\n",
       "[0 0 1]"
      ]
     },
     "execution_count": 4,
     "metadata": {},
     "output_type": "execute_result"
    }
   ],
   "source": [
    "V1=span([[1,0,0],[0,1,0],[0,0,1]],QQ); V1"
   ]
  },
  {
   "cell_type": "code",
   "execution_count": 5,
   "metadata": {},
   "outputs": [
    {
     "data": {
      "text/html": [
       "<html>\\[\\newcommand{\\Bold}[1]{\\mathbf{#1}}\\mathrm{True}\\]</html>"
      ],
      "text/latex": [
       "$$\\newcommand{\\Bold}[1]{\\mathbf{#1}}\\mathrm{True}$$"
      ],
      "text/plain": [
       "True"
      ]
     },
     "execution_count": 5,
     "metadata": {},
     "output_type": "execute_result"
    }
   ],
   "source": [
    "V1==V"
   ]
  },
  {
   "cell_type": "markdown",
   "metadata": {},
   "source": [
    "<p>baza vektorskog prostora</p>"
   ]
  },
  {
   "cell_type": "code",
   "execution_count": 6,
   "metadata": {},
   "outputs": [
    {
     "data": {
      "text/html": [
       "<html>\\[\\newcommand{\\Bold}[1]{\\mathbf{#1}}\\left[\\left(1,\\,0,\\,0\\right), \\left(0,\\,1,\\,0\\right), \\left(0,\\,0,\\,1\\right)\\right]\\]</html>"
      ],
      "text/latex": [
       "$$\\newcommand{\\Bold}[1]{\\mathbf{#1}}\\left[\\left(1,\\,0,\\,0\\right), \\left(0,\\,1,\\,0\\right), \\left(0,\\,0,\\,1\\right)\\right]$$"
      ],
      "text/plain": [
       "[\n",
       "(1, 0, 0),\n",
       "(0, 1, 0),\n",
       "(0, 0, 1)\n",
       "]"
      ]
     },
     "execution_count": 6,
     "metadata": {},
     "output_type": "execute_result"
    }
   ],
   "source": [
    "V.basis()"
   ]
  },
  {
   "cell_type": "markdown",
   "metadata": {},
   "source": [
    "<p>matrica čiji se retci sastoje od vektora iz baze</p>"
   ]
  },
  {
   "cell_type": "code",
   "execution_count": 7,
   "metadata": {},
   "outputs": [
    {
     "data": {
      "text/html": [
       "<html>\\[\\newcommand{\\Bold}[1]{\\mathbf{#1}}\\left(\\begin{array}{rrr}\n",
       "1 & 0 & 0 \\\\\n",
       "0 & 1 & 0 \\\\\n",
       "0 & 0 & 1\n",
       "\\end{array}\\right)\\]</html>"
      ],
      "text/latex": [
       "$$\\newcommand{\\Bold}[1]{\\mathbf{#1}}\\left(\\begin{array}{rrr}\n",
       "1 & 0 & 0 \\\\\n",
       "0 & 1 & 0 \\\\\n",
       "0 & 0 & 1\n",
       "\\end{array}\\right)$$"
      ],
      "text/plain": [
       "[1 0 0]\n",
       "[0 1 0]\n",
       "[0 0 1]"
      ]
     },
     "execution_count": 7,
     "metadata": {},
     "output_type": "execute_result"
    }
   ],
   "source": [
    "V.matrix()"
   ]
  },
  {
   "cell_type": "code",
   "execution_count": 8,
   "metadata": {},
   "outputs": [
    {
     "data": {
      "text/html": [
       "<html>\\[\\newcommand{\\Bold}[1]{\\mathbf{#1}}\\left(\\begin{array}{rrr}\n",
       "1 & 0 & 0 \\\\\n",
       "0 & 1 & 0 \\\\\n",
       "0 & 0 & 1\n",
       "\\end{array}\\right)\\]</html>"
      ],
      "text/latex": [
       "$$\\newcommand{\\Bold}[1]{\\mathbf{#1}}\\left(\\begin{array}{rrr}\n",
       "1 & 0 & 0 \\\\\n",
       "0 & 1 & 0 \\\\\n",
       "0 & 0 & 1\n",
       "\\end{array}\\right)$$"
      ],
      "text/plain": [
       "[1 0 0]\n",
       "[0 1 0]\n",
       "[0 0 1]"
      ]
     },
     "execution_count": 8,
     "metadata": {},
     "output_type": "execute_result"
    }
   ],
   "source": [
    "V.basis_matrix()"
   ]
  },
  {
   "cell_type": "markdown",
   "metadata": {},
   "source": [
    "<p>dimenzija vektorskog prostora</p>"
   ]
  },
  {
   "cell_type": "code",
   "execution_count": 9,
   "metadata": {},
   "outputs": [
    {
     "data": {
      "text/html": [
       "<html>\\[\\newcommand{\\Bold}[1]{\\mathbf{#1}}3\\]</html>"
      ],
      "text/latex": [
       "$$\\newcommand{\\Bold}[1]{\\mathbf{#1}}3$$"
      ],
      "text/plain": [
       "3"
      ]
     },
     "execution_count": 9,
     "metadata": {},
     "output_type": "execute_result"
    }
   ],
   "source": [
    "V.dimension()"
   ]
  },
  {
   "cell_type": "markdown",
   "metadata": {},
   "source": [
    "<p>promjena baze u vektorskom prostoru</p>"
   ]
  },
  {
   "cell_type": "code",
   "execution_count": 10,
   "metadata": {},
   "outputs": [
    {
     "data": {
      "text/html": [
       "<html>\\[\\newcommand{\\Bold}[1]{\\mathbf{#1}}\\mathrm{RowSpan}_{\\Bold{Q}}\\left(\\begin{array}{rrr}\n",
       "1 & 0 & 0 \\\\\n",
       "1 & 2 & 0 \\\\\n",
       "3 & 4 & 5\n",
       "\\end{array}\\right)\\]</html>"
      ],
      "text/latex": [
       "$$\\newcommand{\\Bold}[1]{\\mathbf{#1}}\\mathrm{RowSpan}_{\\Bold{Q}}\\left(\\begin{array}{rrr}\n",
       "1 & 0 & 0 \\\\\n",
       "1 & 2 & 0 \\\\\n",
       "3 & 4 & 5\n",
       "\\end{array}\\right)$$"
      ],
      "text/plain": [
       "Vector space of degree 3 and dimension 3 over Rational Field\n",
       "User basis matrix:\n",
       "[1 0 0]\n",
       "[1 2 0]\n",
       "[3 4 5]"
      ]
     },
     "execution_count": 10,
     "metadata": {},
     "output_type": "execute_result"
    }
   ],
   "source": [
    "V=V.span_of_basis([[1,0,0],[1,2,0],[3,4,5]]); V"
   ]
  },
  {
   "cell_type": "code",
   "execution_count": 11,
   "metadata": {},
   "outputs": [
    {
     "data": {
      "text/html": [
       "<html>\\[\\newcommand{\\Bold}[1]{\\mathbf{#1}}\\left[\\left(1,\\,0,\\,0\\right), \\left(1,\\,2,\\,0\\right), \\left(3,\\,4,\\,5\\right)\\right]\\]</html>"
      ],
      "text/latex": [
       "$$\\newcommand{\\Bold}[1]{\\mathbf{#1}}\\left[\\left(1,\\,0,\\,0\\right), \\left(1,\\,2,\\,0\\right), \\left(3,\\,4,\\,5\\right)\\right]$$"
      ],
      "text/plain": [
       "[\n",
       "(1, 0, 0),\n",
       "(1, 2, 0),\n",
       "(3, 4, 5)\n",
       "]"
      ]
     },
     "execution_count": 11,
     "metadata": {},
     "output_type": "execute_result"
    }
   ],
   "source": [
    "V.basis()"
   ]
  },
  {
   "cell_type": "code",
   "execution_count": 12,
   "metadata": {},
   "outputs": [
    {
     "data": {
      "text/html": [
       "<html>\\[\\newcommand{\\Bold}[1]{\\mathbf{#1}}\\left(\\begin{array}{rrr}\n",
       "1 & 0 & 0 \\\\\n",
       "1 & 2 & 0 \\\\\n",
       "3 & 4 & 5\n",
       "\\end{array}\\right)\\]</html>"
      ],
      "text/latex": [
       "$$\\newcommand{\\Bold}[1]{\\mathbf{#1}}\\left(\\begin{array}{rrr}\n",
       "1 & 0 & 0 \\\\\n",
       "1 & 2 & 0 \\\\\n",
       "3 & 4 & 5\n",
       "\\end{array}\\right)$$"
      ],
      "text/plain": [
       "[1 0 0]\n",
       "[1 2 0]\n",
       "[3 4 5]"
      ]
     },
     "execution_count": 12,
     "metadata": {},
     "output_type": "execute_result"
    }
   ],
   "source": [
    "V.matrix()"
   ]
  },
  {
   "cell_type": "code",
   "execution_count": 13,
   "metadata": {},
   "outputs": [
    {
     "data": {
      "text/html": [
       "<html>\\[\\newcommand{\\Bold}[1]{\\mathbf{#1}}\\mathrm{RowSpan}_{\\Bold{Q}}\\left(\\begin{array}{rrr}\n",
       "1 & 0 & 0 \\\\\n",
       "0 & 1 & 0 \\\\\n",
       "0 & 0 & 1\n",
       "\\end{array}\\right)\\]</html>"
      ],
      "text/latex": [
       "$$\\newcommand{\\Bold}[1]{\\mathbf{#1}}\\mathrm{RowSpan}_{\\Bold{Q}}\\left(\\begin{array}{rrr}\n",
       "1 & 0 & 0 \\\\\n",
       "0 & 1 & 0 \\\\\n",
       "0 & 0 & 1\n",
       "\\end{array}\\right)$$"
      ],
      "text/plain": [
       "Vector space of degree 3 and dimension 3 over Rational Field\n",
       "Basis matrix:\n",
       "[1 0 0]\n",
       "[0 1 0]\n",
       "[0 0 1]"
      ]
     },
     "execution_count": 13,
     "metadata": {},
     "output_type": "execute_result"
    }
   ],
   "source": [
    "V2=span([[1,0,0],[1,2,0],[3,4,5]],QQ); V2"
   ]
  },
  {
   "cell_type": "code",
   "execution_count": 14,
   "metadata": {},
   "outputs": [
    {
     "data": {
      "text/html": [
       "<html>\\[\\newcommand{\\Bold}[1]{\\mathbf{#1}}\\left(\\mathrm{True}, \\mathrm{True}\\right)\\]</html>"
      ],
      "text/latex": [
       "$$\\newcommand{\\Bold}[1]{\\mathbf{#1}}\\left(\\mathrm{True}, \\mathrm{True}\\right)$$"
      ],
      "text/plain": [
       "(True, True)"
      ]
     },
     "execution_count": 14,
     "metadata": {},
     "output_type": "execute_result"
    }
   ],
   "source": [
    "V2==V,V2==V1"
   ]
  },
  {
   "cell_type": "markdown",
   "metadata": {},
   "source": [
    "<p>koji vektori pripadaju vektorskom prostoru $V$</p>"
   ]
  },
  {
   "cell_type": "code",
   "execution_count": 15,
   "metadata": {},
   "outputs": [
    {
     "data": {
      "text/html": [
       "<html>\\[\\newcommand{\\Bold}[1]{\\mathbf{#1}}\\left(\\mathrm{True}, \\mathrm{False}, \\mathrm{False}, \\mathrm{False}\\right)\\]</html>"
      ],
      "text/latex": [
       "$$\\newcommand{\\Bold}[1]{\\mathbf{#1}}\\left(\\mathrm{True}, \\mathrm{False}, \\mathrm{False}, \\mathrm{False}\\right)$$"
      ],
      "text/plain": [
       "(True, False, False, False)"
      ]
     },
     "execution_count": 15,
     "metadata": {},
     "output_type": "execute_result"
    }
   ],
   "source": [
    "vector((1,3,2)) in V, vector((1,2/3,1.41)) in V, vector((1,2/3,2^(1/3))) in V, vector((1,2/3,1.41,5)) in V"
   ]
  },
  {
   "cell_type": "markdown",
   "metadata": {},
   "source": [
    "<h3>Vektorski prostor dimenzije 4 nad poljem realnih brojeva (53-bitna preciznost)</h3>"
   ]
  },
  {
   "cell_type": "code",
   "execution_count": 16,
   "metadata": {},
   "outputs": [
    {
     "data": {
      "text/html": [
       "<html>\\[\\newcommand{\\Bold}[1]{\\mathbf{#1}}\\Bold{R}^{4}\\]</html>"
      ],
      "text/latex": [
       "$$\\newcommand{\\Bold}[1]{\\mathbf{#1}}\\Bold{R}^{4}$$"
      ],
      "text/plain": [
       "Vector space of dimension 4 over Real Field with 53 bits of precision"
      ]
     },
     "execution_count": 16,
     "metadata": {},
     "output_type": "execute_result"
    }
   ],
   "source": [
    "U=VectorSpace(RR,4); U"
   ]
  },
  {
   "cell_type": "markdown",
   "metadata": {},
   "source": [
    "<p>baza vektorskog prostora</p>"
   ]
  },
  {
   "cell_type": "code",
   "execution_count": 17,
   "metadata": {},
   "outputs": [
    {
     "data": {
      "text/html": [
       "<html>\\[\\newcommand{\\Bold}[1]{\\mathbf{#1}}\\left[\\left(1.00000000000000,\\,0.000000000000000,\\,0.000000000000000,\\,0.000000000000000\\right), \\left(0.000000000000000,\\,1.00000000000000,\\,0.000000000000000,\\,0.000000000000000\\right), \\left(0.000000000000000,\\,0.000000000000000,\\,1.00000000000000,\\,0.000000000000000\\right), \\left(0.000000000000000,\\,0.000000000000000,\\,0.000000000000000,\\,1.00000000000000\\right)\\right]\\]</html>"
      ],
      "text/latex": [
       "$$\\newcommand{\\Bold}[1]{\\mathbf{#1}}\\left[\\left(1.00000000000000,\\,0.000000000000000,\\,0.000000000000000,\\,0.000000000000000\\right), \\left(0.000000000000000,\\,1.00000000000000,\\,0.000000000000000,\\,0.000000000000000\\right), \\left(0.000000000000000,\\,0.000000000000000,\\,1.00000000000000,\\,0.000000000000000\\right), \\left(0.000000000000000,\\,0.000000000000000,\\,0.000000000000000,\\,1.00000000000000\\right)\\right]$$"
      ],
      "text/plain": [
       "[\n",
       "(1.00000000000000, 0.000000000000000, 0.000000000000000, 0.000000000000000),\n",
       "(0.000000000000000, 1.00000000000000, 0.000000000000000, 0.000000000000000),\n",
       "(0.000000000000000, 0.000000000000000, 1.00000000000000, 0.000000000000000),\n",
       "(0.000000000000000, 0.000000000000000, 0.000000000000000, 1.00000000000000)\n",
       "]"
      ]
     },
     "execution_count": 17,
     "metadata": {},
     "output_type": "execute_result"
    }
   ],
   "source": [
    "U.basis()"
   ]
  },
  {
   "cell_type": "markdown",
   "metadata": {},
   "source": [
    "<p><span id=\"cell_outer_27\">matrica čiji se retci sastoje od vektora iz baze</span></p>"
   ]
  },
  {
   "cell_type": "code",
   "execution_count": 18,
   "metadata": {},
   "outputs": [
    {
     "data": {
      "text/html": [
       "<html>\\[\\newcommand{\\Bold}[1]{\\mathbf{#1}}\\left(\\begin{array}{rrrr}\n",
       "1.00000000000000 & 0.000000000000000 & 0.000000000000000 & 0.000000000000000 \\\\\n",
       "0.000000000000000 & 1.00000000000000 & 0.000000000000000 & 0.000000000000000 \\\\\n",
       "0.000000000000000 & 0.000000000000000 & 1.00000000000000 & 0.000000000000000 \\\\\n",
       "0.000000000000000 & 0.000000000000000 & 0.000000000000000 & 1.00000000000000\n",
       "\\end{array}\\right)\\]</html>"
      ],
      "text/latex": [
       "$$\\newcommand{\\Bold}[1]{\\mathbf{#1}}\\left(\\begin{array}{rrrr}\n",
       "1.00000000000000 & 0.000000000000000 & 0.000000000000000 & 0.000000000000000 \\\\\n",
       "0.000000000000000 & 1.00000000000000 & 0.000000000000000 & 0.000000000000000 \\\\\n",
       "0.000000000000000 & 0.000000000000000 & 1.00000000000000 & 0.000000000000000 \\\\\n",
       "0.000000000000000 & 0.000000000000000 & 0.000000000000000 & 1.00000000000000\n",
       "\\end{array}\\right)$$"
      ],
      "text/plain": [
       "[ 1.00000000000000 0.000000000000000 0.000000000000000 0.000000000000000]\n",
       "[0.000000000000000  1.00000000000000 0.000000000000000 0.000000000000000]\n",
       "[0.000000000000000 0.000000000000000  1.00000000000000 0.000000000000000]\n",
       "[0.000000000000000 0.000000000000000 0.000000000000000  1.00000000000000]"
      ]
     },
     "execution_count": 18,
     "metadata": {},
     "output_type": "execute_result"
    }
   ],
   "source": [
    "U.matrix()"
   ]
  },
  {
   "cell_type": "markdown",
   "metadata": {},
   "source": [
    "<p><span id=\"cell_outer_28\">dimenzija vektorskog prostora</span></p>"
   ]
  },
  {
   "cell_type": "code",
   "execution_count": 19,
   "metadata": {},
   "outputs": [
    {
     "data": {
      "text/html": [
       "<html>\\[\\newcommand{\\Bold}[1]{\\mathbf{#1}}4\\]</html>"
      ],
      "text/latex": [
       "$$\\newcommand{\\Bold}[1]{\\mathbf{#1}}4$$"
      ],
      "text/plain": [
       "4"
      ]
     },
     "execution_count": 19,
     "metadata": {},
     "output_type": "execute_result"
    }
   ],
   "source": [
    "U.dimension()"
   ]
  },
  {
   "cell_type": "markdown",
   "metadata": {},
   "source": [
    "<p><span id=\"cell_outer_40\">koji vektori pripadaju vektorskom prostoru $U$<br /></span></p>"
   ]
  },
  {
   "cell_type": "code",
   "execution_count": 20,
   "metadata": {},
   "outputs": [
    {
     "data": {
      "text/html": [
       "<html>\\[\\newcommand{\\Bold}[1]{\\mathbf{#1}}\\left(\\mathrm{True}, \\mathrm{False}, \\mathrm{False}, \\mathrm{False}\\right)\\]</html>"
      ],
      "text/latex": [
       "$$\\newcommand{\\Bold}[1]{\\mathbf{#1}}\\left(\\mathrm{True}, \\mathrm{False}, \\mathrm{False}, \\mathrm{False}\\right)$$"
      ],
      "text/plain": [
       "(True, False, False, False)"
      ]
     },
     "execution_count": 20,
     "metadata": {},
     "output_type": "execute_result"
    }
   ],
   "source": [
    "vector((1,3,2/3,5.67)) in U, vector((2,5^(2/3),1,0.33)) in U, vector((2,sin(3),7,2.1)) in U,vector((3,3+I,2,1)) in U"
   ]
  },
  {
   "cell_type": "markdown",
   "metadata": {},
   "source": [
    "<h3>Vektorski prostor dimenzije 4 nad poljem realnih brojeva (200-bitna preciznost)</h3>"
   ]
  },
  {
   "cell_type": "code",
   "execution_count": 21,
   "metadata": {},
   "outputs": [
    {
     "data": {
      "text/html": [
       "<html>\\[\\newcommand{\\Bold}[1]{\\mathbf{#1}}\\Bold{R}^{4}\\]</html>"
      ],
      "text/latex": [
       "$$\\newcommand{\\Bold}[1]{\\mathbf{#1}}\\Bold{R}^{4}$$"
      ],
      "text/plain": [
       "Vector space of dimension 4 over Real Field with 200 bits of precision"
      ]
     },
     "execution_count": 21,
     "metadata": {},
     "output_type": "execute_result"
    }
   ],
   "source": [
    "U1=VectorSpace(RealField(200),4); U1"
   ]
  },
  {
   "cell_type": "markdown",
   "metadata": {},
   "source": [
    "<p>jedan element iz $U_1$</p>"
   ]
  },
  {
   "cell_type": "code",
   "execution_count": 22,
   "metadata": {},
   "outputs": [
    {
     "data": {
      "text/html": [
       "<html>\\[\\newcommand{\\Bold}[1]{\\mathbf{#1}}\\left(1.0000000000000000000000000000000000000000000000000000000000,\\,0.00000000000000000000000000000000000000000000000000000000000,\\,0.00000000000000000000000000000000000000000000000000000000000,\\,0.00000000000000000000000000000000000000000000000000000000000\\right)\\]</html>"
      ],
      "text/latex": [
       "$$\\newcommand{\\Bold}[1]{\\mathbf{#1}}\\left(1.0000000000000000000000000000000000000000000000000000000000,\\,0.00000000000000000000000000000000000000000000000000000000000,\\,0.00000000000000000000000000000000000000000000000000000000000,\\,0.00000000000000000000000000000000000000000000000000000000000\\right)$$"
      ],
      "text/plain": [
       "(1.0000000000000000000000000000000000000000000000000000000000, 0.00000000000000000000000000000000000000000000000000000000000, 0.00000000000000000000000000000000000000000000000000000000000, 0.00000000000000000000000000000000000000000000000000000000000)"
      ]
     },
     "execution_count": 22,
     "metadata": {},
     "output_type": "execute_result"
    }
   ],
   "source": [
    "U1.an_element()"
   ]
  },
  {
   "cell_type": "markdown",
   "metadata": {},
   "source": [
    "<p><span id=\"cell_outer_39\"><span id=\"cell_outer_27\">matrica čiji se retci sastoje od vektora iz baze</span></span></p>"
   ]
  },
  {
   "cell_type": "code",
   "execution_count": 23,
   "metadata": {},
   "outputs": [
    {
     "data": {
      "text/html": [
       "<html>\\[\\newcommand{\\Bold}[1]{\\mathbf{#1}}\\left(\\begin{array}{rrrr}\n",
       "1.0000000000000000000000000000000000000000000000000000000000 & 0.00000000000000000000000000000000000000000000000000000000000 & 0.00000000000000000000000000000000000000000000000000000000000 & 0.00000000000000000000000000000000000000000000000000000000000 \\\\\n",
       "0.00000000000000000000000000000000000000000000000000000000000 & 1.0000000000000000000000000000000000000000000000000000000000 & 0.00000000000000000000000000000000000000000000000000000000000 & 0.00000000000000000000000000000000000000000000000000000000000 \\\\\n",
       "0.00000000000000000000000000000000000000000000000000000000000 & 0.00000000000000000000000000000000000000000000000000000000000 & 1.0000000000000000000000000000000000000000000000000000000000 & 0.00000000000000000000000000000000000000000000000000000000000 \\\\\n",
       "0.00000000000000000000000000000000000000000000000000000000000 & 0.00000000000000000000000000000000000000000000000000000000000 & 0.00000000000000000000000000000000000000000000000000000000000 & 1.0000000000000000000000000000000000000000000000000000000000\n",
       "\\end{array}\\right)\\]</html>"
      ],
      "text/latex": [
       "$$\\newcommand{\\Bold}[1]{\\mathbf{#1}}\\left(\\begin{array}{rrrr}\n",
       "1.0000000000000000000000000000000000000000000000000000000000 & 0.00000000000000000000000000000000000000000000000000000000000 & 0.00000000000000000000000000000000000000000000000000000000000 & 0.00000000000000000000000000000000000000000000000000000000000 \\\\\n",
       "0.00000000000000000000000000000000000000000000000000000000000 & 1.0000000000000000000000000000000000000000000000000000000000 & 0.00000000000000000000000000000000000000000000000000000000000 & 0.00000000000000000000000000000000000000000000000000000000000 \\\\\n",
       "0.00000000000000000000000000000000000000000000000000000000000 & 0.00000000000000000000000000000000000000000000000000000000000 & 1.0000000000000000000000000000000000000000000000000000000000 & 0.00000000000000000000000000000000000000000000000000000000000 \\\\\n",
       "0.00000000000000000000000000000000000000000000000000000000000 & 0.00000000000000000000000000000000000000000000000000000000000 & 0.00000000000000000000000000000000000000000000000000000000000 & 1.0000000000000000000000000000000000000000000000000000000000\n",
       "\\end{array}\\right)$$"
      ],
      "text/plain": [
       "[ 1.0000000000000000000000000000000000000000000000000000000000 0.00000000000000000000000000000000000000000000000000000000000 0.00000000000000000000000000000000000000000000000000000000000 0.00000000000000000000000000000000000000000000000000000000000]\n",
       "[0.00000000000000000000000000000000000000000000000000000000000  1.0000000000000000000000000000000000000000000000000000000000 0.00000000000000000000000000000000000000000000000000000000000 0.00000000000000000000000000000000000000000000000000000000000]\n",
       "[0.00000000000000000000000000000000000000000000000000000000000 0.00000000000000000000000000000000000000000000000000000000000  1.0000000000000000000000000000000000000000000000000000000000 0.00000000000000000000000000000000000000000000000000000000000]\n",
       "[0.00000000000000000000000000000000000000000000000000000000000 0.00000000000000000000000000000000000000000000000000000000000 0.00000000000000000000000000000000000000000000000000000000000  1.0000000000000000000000000000000000000000000000000000000000]"
      ]
     },
     "execution_count": 23,
     "metadata": {},
     "output_type": "execute_result"
    }
   ],
   "source": [
    "U1.matrix()"
   ]
  },
  {
   "cell_type": "markdown",
   "metadata": {},
   "source": [
    "<h3>Vektorski prostor dimenzije 4 nad poljem kompleksnih brojeva (53-bitna preciznost)</h3>"
   ]
  },
  {
   "cell_type": "code",
   "execution_count": 24,
   "metadata": {},
   "outputs": [
    {
     "data": {
      "text/html": [
       "<html>\\[\\newcommand{\\Bold}[1]{\\mathbf{#1}}\\Bold{C}^{4}\\]</html>"
      ],
      "text/latex": [
       "$$\\newcommand{\\Bold}[1]{\\mathbf{#1}}\\Bold{C}^{4}$$"
      ],
      "text/plain": [
       "Vector space of dimension 4 over Complex Field with 53 bits of precision"
      ]
     },
     "execution_count": 24,
     "metadata": {},
     "output_type": "execute_result"
    }
   ],
   "source": [
    "C=VectorSpace(CC,4); C"
   ]
  },
  {
   "cell_type": "markdown",
   "metadata": {},
   "source": [
    "<p>baza vektorskog prostora</p>"
   ]
  },
  {
   "cell_type": "code",
   "execution_count": 25,
   "metadata": {},
   "outputs": [
    {
     "data": {
      "text/html": [
       "<html>\\[\\newcommand{\\Bold}[1]{\\mathbf{#1}}\\left[\\left(1.00000000000000,\\,0.000000000000000,\\,0.000000000000000,\\,0.000000000000000\\right), \\left(0.000000000000000,\\,1.00000000000000,\\,0.000000000000000,\\,0.000000000000000\\right), \\left(0.000000000000000,\\,0.000000000000000,\\,1.00000000000000,\\,0.000000000000000\\right), \\left(0.000000000000000,\\,0.000000000000000,\\,0.000000000000000,\\,1.00000000000000\\right)\\right]\\]</html>"
      ],
      "text/latex": [
       "$$\\newcommand{\\Bold}[1]{\\mathbf{#1}}\\left[\\left(1.00000000000000,\\,0.000000000000000,\\,0.000000000000000,\\,0.000000000000000\\right), \\left(0.000000000000000,\\,1.00000000000000,\\,0.000000000000000,\\,0.000000000000000\\right), \\left(0.000000000000000,\\,0.000000000000000,\\,1.00000000000000,\\,0.000000000000000\\right), \\left(0.000000000000000,\\,0.000000000000000,\\,0.000000000000000,\\,1.00000000000000\\right)\\right]$$"
      ],
      "text/plain": [
       "[\n",
       "(1.00000000000000, 0.000000000000000, 0.000000000000000, 0.000000000000000),\n",
       "(0.000000000000000, 1.00000000000000, 0.000000000000000, 0.000000000000000),\n",
       "(0.000000000000000, 0.000000000000000, 1.00000000000000, 0.000000000000000),\n",
       "(0.000000000000000, 0.000000000000000, 0.000000000000000, 1.00000000000000)\n",
       "]"
      ]
     },
     "execution_count": 25,
     "metadata": {},
     "output_type": "execute_result"
    }
   ],
   "source": [
    "C.basis()"
   ]
  },
  {
   "cell_type": "markdown",
   "metadata": {},
   "source": [
    "<p><span id=\"cell_outer_39\"><span id=\"cell_outer_27\">matrica čiji se retci sastoje od vektora iz baze</span></span></p>"
   ]
  },
  {
   "cell_type": "code",
   "execution_count": 26,
   "metadata": {},
   "outputs": [
    {
     "data": {
      "text/html": [
       "<html>\\[\\newcommand{\\Bold}[1]{\\mathbf{#1}}\\left(\\begin{array}{rrrr}\n",
       "1.00000000000000 & 0.000000000000000 & 0.000000000000000 & 0.000000000000000 \\\\\n",
       "0.000000000000000 & 1.00000000000000 & 0.000000000000000 & 0.000000000000000 \\\\\n",
       "0.000000000000000 & 0.000000000000000 & 1.00000000000000 & 0.000000000000000 \\\\\n",
       "0.000000000000000 & 0.000000000000000 & 0.000000000000000 & 1.00000000000000\n",
       "\\end{array}\\right)\\]</html>"
      ],
      "text/latex": [
       "$$\\newcommand{\\Bold}[1]{\\mathbf{#1}}\\left(\\begin{array}{rrrr}\n",
       "1.00000000000000 & 0.000000000000000 & 0.000000000000000 & 0.000000000000000 \\\\\n",
       "0.000000000000000 & 1.00000000000000 & 0.000000000000000 & 0.000000000000000 \\\\\n",
       "0.000000000000000 & 0.000000000000000 & 1.00000000000000 & 0.000000000000000 \\\\\n",
       "0.000000000000000 & 0.000000000000000 & 0.000000000000000 & 1.00000000000000\n",
       "\\end{array}\\right)$$"
      ],
      "text/plain": [
       "[ 1.00000000000000 0.000000000000000 0.000000000000000 0.000000000000000]\n",
       "[0.000000000000000  1.00000000000000 0.000000000000000 0.000000000000000]\n",
       "[0.000000000000000 0.000000000000000  1.00000000000000 0.000000000000000]\n",
       "[0.000000000000000 0.000000000000000 0.000000000000000  1.00000000000000]"
      ]
     },
     "execution_count": 26,
     "metadata": {},
     "output_type": "execute_result"
    }
   ],
   "source": [
    "C.matrix()"
   ]
  },
  {
   "cell_type": "markdown",
   "metadata": {},
   "source": [
    "<p>dimenzija vektorskog prostora</p>"
   ]
  },
  {
   "cell_type": "code",
   "execution_count": 27,
   "metadata": {},
   "outputs": [
    {
     "data": {
      "text/html": [
       "<html>\\[\\newcommand{\\Bold}[1]{\\mathbf{#1}}4\\]</html>"
      ],
      "text/latex": [
       "$$\\newcommand{\\Bold}[1]{\\mathbf{#1}}4$$"
      ],
      "text/plain": [
       "4"
      ]
     },
     "execution_count": 27,
     "metadata": {},
     "output_type": "execute_result"
    }
   ],
   "source": [
    "C.dimension()"
   ]
  },
  {
   "cell_type": "markdown",
   "metadata": {},
   "source": [
    "<p>koji vektori pripadaju vektorskom prostoru $C$</p>"
   ]
  },
  {
   "cell_type": "code",
   "execution_count": 28,
   "metadata": {},
   "outputs": [
    {
     "data": {
      "text/html": [
       "<html>\\[\\newcommand{\\Bold}[1]{\\mathbf{#1}}\\left(\\mathrm{True}, \\mathrm{False}, \\mathrm{False}, \\mathrm{False}\\right)\\]</html>"
      ],
      "text/latex": [
       "$$\\newcommand{\\Bold}[1]{\\mathbf{#1}}\\left(\\mathrm{True}, \\mathrm{False}, \\mathrm{False}, \\mathrm{False}\\right)$$"
      ],
      "text/plain": [
       "(True, False, False, False)"
      ]
     },
     "execution_count": 28,
     "metadata": {},
     "output_type": "execute_result"
    }
   ],
   "source": [
    "vector((1,3,2/3,5.67)) in C, vector((2,5^(2/3),1,0.33)) in C, vector((2,sin(3),7,2.1)) in C,vector((3,3+sin(6)*I,2,1)) in C"
   ]
  },
  {
   "cell_type": "markdown",
   "metadata": {},
   "source": [
    "<h3>Vektorski prostor dimenzije 3 nad poljem kompleksnih brojeva (200-bitna preciznost)</h3>"
   ]
  },
  {
   "cell_type": "code",
   "execution_count": 29,
   "metadata": {},
   "outputs": [
    {
     "data": {
      "text/html": [
       "<html>\\[\\newcommand{\\Bold}[1]{\\mathbf{#1}}\\Bold{C}^{3}\\]</html>"
      ],
      "text/latex": [
       "$$\\newcommand{\\Bold}[1]{\\mathbf{#1}}\\Bold{C}^{3}$$"
      ],
      "text/plain": [
       "Vector space of dimension 3 over Complex Field with 200 bits of precision"
      ]
     },
     "execution_count": 29,
     "metadata": {},
     "output_type": "execute_result"
    }
   ],
   "source": [
    "C1=VectorSpace(ComplexField(200),3); C1"
   ]
  },
  {
   "cell_type": "markdown",
   "metadata": {},
   "source": [
    "<p>baza vektorskog prostora</p>"
   ]
  },
  {
   "cell_type": "code",
   "execution_count": 30,
   "metadata": {},
   "outputs": [
    {
     "data": {
      "text/html": [
       "<html>\\[\\newcommand{\\Bold}[1]{\\mathbf{#1}}\\left[\\left(1.0000000000000000000000000000000000000000000000000000000000,\\,0.00000000000000000000000000000000000000000000000000000000000,\\,0.00000000000000000000000000000000000000000000000000000000000\\right), \\left(0.00000000000000000000000000000000000000000000000000000000000,\\,1.0000000000000000000000000000000000000000000000000000000000,\\,0.00000000000000000000000000000000000000000000000000000000000\\right), \\left(0.00000000000000000000000000000000000000000000000000000000000,\\,0.00000000000000000000000000000000000000000000000000000000000,\\,1.0000000000000000000000000000000000000000000000000000000000\\right)\\right]\\]</html>"
      ],
      "text/latex": [
       "$$\\newcommand{\\Bold}[1]{\\mathbf{#1}}\\left[\\left(1.0000000000000000000000000000000000000000000000000000000000,\\,0.00000000000000000000000000000000000000000000000000000000000,\\,0.00000000000000000000000000000000000000000000000000000000000\\right), \\left(0.00000000000000000000000000000000000000000000000000000000000,\\,1.0000000000000000000000000000000000000000000000000000000000,\\,0.00000000000000000000000000000000000000000000000000000000000\\right), \\left(0.00000000000000000000000000000000000000000000000000000000000,\\,0.00000000000000000000000000000000000000000000000000000000000,\\,1.0000000000000000000000000000000000000000000000000000000000\\right)\\right]$$"
      ],
      "text/plain": [
       "[\n",
       "(1.0000000000000000000000000000000000000000000000000000000000, 0.00000000000000000000000000000000000000000000000000000000000, 0.00000000000000000000000000000000000000000000000000000000000),\n",
       "(0.00000000000000000000000000000000000000000000000000000000000, 1.0000000000000000000000000000000000000000000000000000000000, 0.00000000000000000000000000000000000000000000000000000000000),\n",
       "(0.00000000000000000000000000000000000000000000000000000000000, 0.00000000000000000000000000000000000000000000000000000000000, 1.0000000000000000000000000000000000000000000000000000000000)\n",
       "]"
      ]
     },
     "execution_count": 30,
     "metadata": {},
     "output_type": "execute_result"
    }
   ],
   "source": [
    "C1.basis()"
   ]
  },
  {
   "cell_type": "markdown",
   "metadata": {},
   "source": [
    "<p><span id=\"cell_outer_40\"><span id=\"cell_outer_39\"><span id=\"cell_outer_27\">matrica čiji se retci sastoje od vektora iz baze</span></span></span></p>"
   ]
  },
  {
   "cell_type": "code",
   "execution_count": 31,
   "metadata": {},
   "outputs": [
    {
     "data": {
      "text/html": [
       "<html>\\[\\newcommand{\\Bold}[1]{\\mathbf{#1}}\\left(\\begin{array}{rrr}\n",
       "1.0000000000000000000000000000000000000000000000000000000000 & 0.00000000000000000000000000000000000000000000000000000000000 & 0.00000000000000000000000000000000000000000000000000000000000 \\\\\n",
       "0.00000000000000000000000000000000000000000000000000000000000 & 1.0000000000000000000000000000000000000000000000000000000000 & 0.00000000000000000000000000000000000000000000000000000000000 \\\\\n",
       "0.00000000000000000000000000000000000000000000000000000000000 & 0.00000000000000000000000000000000000000000000000000000000000 & 1.0000000000000000000000000000000000000000000000000000000000\n",
       "\\end{array}\\right)\\]</html>"
      ],
      "text/latex": [
       "$$\\newcommand{\\Bold}[1]{\\mathbf{#1}}\\left(\\begin{array}{rrr}\n",
       "1.0000000000000000000000000000000000000000000000000000000000 & 0.00000000000000000000000000000000000000000000000000000000000 & 0.00000000000000000000000000000000000000000000000000000000000 \\\\\n",
       "0.00000000000000000000000000000000000000000000000000000000000 & 1.0000000000000000000000000000000000000000000000000000000000 & 0.00000000000000000000000000000000000000000000000000000000000 \\\\\n",
       "0.00000000000000000000000000000000000000000000000000000000000 & 0.00000000000000000000000000000000000000000000000000000000000 & 1.0000000000000000000000000000000000000000000000000000000000\n",
       "\\end{array}\\right)$$"
      ],
      "text/plain": [
       "[ 1.0000000000000000000000000000000000000000000000000000000000 0.00000000000000000000000000000000000000000000000000000000000 0.00000000000000000000000000000000000000000000000000000000000]\n",
       "[0.00000000000000000000000000000000000000000000000000000000000  1.0000000000000000000000000000000000000000000000000000000000 0.00000000000000000000000000000000000000000000000000000000000]\n",
       "[0.00000000000000000000000000000000000000000000000000000000000 0.00000000000000000000000000000000000000000000000000000000000  1.0000000000000000000000000000000000000000000000000000000000]"
      ]
     },
     "execution_count": 31,
     "metadata": {},
     "output_type": "execute_result"
    }
   ],
   "source": [
    "C1.matrix()"
   ]
  },
  {
   "cell_type": "markdown",
   "metadata": {},
   "source": [
    "<h3>Vektorski prostor dimenzije 5 nad simboličkim prstenom $SR$</h3>"
   ]
  },
  {
   "cell_type": "code",
   "execution_count": 32,
   "metadata": {},
   "outputs": [],
   "source": [
    "W=VectorSpace(SR,5)"
   ]
  },
  {
   "cell_type": "markdown",
   "metadata": {},
   "source": [
    "<p><span id=\"cell_outer_40\"><span id=\"cell_outer_39\"><span id=\"cell_outer_27\">matrica čiji se retci sastoje od vektora iz baze</span></span></span></p>"
   ]
  },
  {
   "cell_type": "code",
   "execution_count": 33,
   "metadata": {},
   "outputs": [
    {
     "data": {
      "text/html": [
       "<html>\\[\\newcommand{\\Bold}[1]{\\mathbf{#1}}\\left(\\begin{array}{rrrrr}\n",
       "1 & 0 & 0 & 0 & 0 \\\\\n",
       "0 & 1 & 0 & 0 & 0 \\\\\n",
       "0 & 0 & 1 & 0 & 0 \\\\\n",
       "0 & 0 & 0 & 1 & 0 \\\\\n",
       "0 & 0 & 0 & 0 & 1\n",
       "\\end{array}\\right)\\]</html>"
      ],
      "text/latex": [
       "$$\\newcommand{\\Bold}[1]{\\mathbf{#1}}\\left(\\begin{array}{rrrrr}\n",
       "1 & 0 & 0 & 0 & 0 \\\\\n",
       "0 & 1 & 0 & 0 & 0 \\\\\n",
       "0 & 0 & 1 & 0 & 0 \\\\\n",
       "0 & 0 & 0 & 1 & 0 \\\\\n",
       "0 & 0 & 0 & 0 & 1\n",
       "\\end{array}\\right)$$"
      ],
      "text/plain": [
       "[1 0 0 0 0]\n",
       "[0 1 0 0 0]\n",
       "[0 0 1 0 0]\n",
       "[0 0 0 1 0]\n",
       "[0 0 0 0 1]"
      ]
     },
     "execution_count": 33,
     "metadata": {},
     "output_type": "execute_result"
    }
   ],
   "source": [
    "W.matrix()"
   ]
  },
  {
   "cell_type": "markdown",
   "metadata": {},
   "source": [
    "<p>vektori koji pripadaju prostoru $W$</p>"
   ]
  },
  {
   "cell_type": "code",
   "execution_count": 34,
   "metadata": {},
   "outputs": [
    {
     "data": {
      "text/html": [
       "<html>\\[\\newcommand{\\Bold}[1]{\\mathbf{#1}}\\left(\\mathrm{True}, \\mathrm{True}, \\mathrm{True}, \\mathrm{True}\\right)\\]</html>"
      ],
      "text/latex": [
       "$$\\newcommand{\\Bold}[1]{\\mathbf{#1}}\\left(\\mathrm{True}, \\mathrm{True}, \\mathrm{True}, \\mathrm{True}\\right)$$"
      ],
      "text/plain": [
       "(True, True, True, True)"
      ]
     },
     "execution_count": 34,
     "metadata": {},
     "output_type": "execute_result"
    }
   ],
   "source": [
    "vector((1,3,2/3,5.67,1)) in W, vector((2,5^(2/3),1,0.33,2.2)) in W, vector((2,sin(3),7,2.1,log(2,3))) in W,vector((3,3+I,2,1,0)) in W"
   ]
  },
  {
   "cell_type": "markdown",
   "metadata": {},
   "source": [
    "<h3>Vektorski prostor dimenzije 4 nad konačnim poljem $\\mathbb{F}_3$</h3>"
   ]
  },
  {
   "cell_type": "code",
   "execution_count": 35,
   "metadata": {},
   "outputs": [
    {
     "data": {
      "text/html": [
       "<html>\\[\\newcommand{\\Bold}[1]{\\mathbf{#1}}\\left[0, 1, 2\\right]\\]</html>"
      ],
      "text/latex": [
       "$$\\newcommand{\\Bold}[1]{\\mathbf{#1}}\\left[0, 1, 2\\right]$$"
      ],
      "text/plain": [
       "[0, 1, 2]"
      ]
     },
     "execution_count": 35,
     "metadata": {},
     "output_type": "execute_result"
    }
   ],
   "source": [
    "GF(3).list()"
   ]
  },
  {
   "cell_type": "code",
   "execution_count": 36,
   "metadata": {},
   "outputs": [
    {
     "data": {
      "text/html": [
       "<html>\\[\\newcommand{\\Bold}[1]{\\mathbf{#1}}\\Bold{F}_{3}^{4}\\]</html>"
      ],
      "text/latex": [
       "$$\\newcommand{\\Bold}[1]{\\mathbf{#1}}\\Bold{F}_{3}^{4}$$"
      ],
      "text/plain": [
       "Vector space of dimension 4 over Finite Field of size 3"
      ]
     },
     "execution_count": 36,
     "metadata": {},
     "output_type": "execute_result"
    }
   ],
   "source": [
    "K=VectorSpace(GF(3),4); K"
   ]
  },
  {
   "cell_type": "markdown",
   "metadata": {},
   "source": [
    "<p>baza vektorskog prostora</p>"
   ]
  },
  {
   "cell_type": "code",
   "execution_count": 37,
   "metadata": {},
   "outputs": [
    {
     "data": {
      "text/html": [
       "<html>\\[\\newcommand{\\Bold}[1]{\\mathbf{#1}}\\left[\\left(1,\\,0,\\,0,\\,0\\right), \\left(0,\\,1,\\,0,\\,0\\right), \\left(0,\\,0,\\,1,\\,0\\right), \\left(0,\\,0,\\,0,\\,1\\right)\\right]\\]</html>"
      ],
      "text/latex": [
       "$$\\newcommand{\\Bold}[1]{\\mathbf{#1}}\\left[\\left(1,\\,0,\\,0,\\,0\\right), \\left(0,\\,1,\\,0,\\,0\\right), \\left(0,\\,0,\\,1,\\,0\\right), \\left(0,\\,0,\\,0,\\,1\\right)\\right]$$"
      ],
      "text/plain": [
       "[\n",
       "(1, 0, 0, 0),\n",
       "(0, 1, 0, 0),\n",
       "(0, 0, 1, 0),\n",
       "(0, 0, 0, 1)\n",
       "]"
      ]
     },
     "execution_count": 37,
     "metadata": {},
     "output_type": "execute_result"
    }
   ],
   "source": [
    "K.basis()"
   ]
  },
  {
   "cell_type": "markdown",
   "metadata": {},
   "source": [
    "<p>svi vektori iz vektorskog prostora $K$</p>"
   ]
  },
  {
   "cell_type": "code",
   "execution_count": 38,
   "metadata": {},
   "outputs": [
    {
     "data": {
      "text/html": [
       "<html>\\[\\newcommand{\\Bold}[1]{\\mathbf{#1}}\\left[\\left(0,\\,0,\\,0,\\,0\\right), \\left(1,\\,0,\\,0,\\,0\\right), \\left(2,\\,0,\\,0,\\,0\\right), \\left(0,\\,1,\\,0,\\,0\\right), \\left(1,\\,1,\\,0,\\,0\\right), \\left(2,\\,1,\\,0,\\,0\\right), \\left(0,\\,2,\\,0,\\,0\\right), \\left(1,\\,2,\\,0,\\,0\\right), \\left(2,\\,2,\\,0,\\,0\\right), \\left(0,\\,0,\\,1,\\,0\\right), \\left(1,\\,0,\\,1,\\,0\\right), \\left(2,\\,0,\\,1,\\,0\\right), \\left(0,\\,1,\\,1,\\,0\\right), \\left(1,\\,1,\\,1,\\,0\\right), \\left(2,\\,1,\\,1,\\,0\\right), \\left(0,\\,2,\\,1,\\,0\\right), \\left(1,\\,2,\\,1,\\,0\\right), \\left(2,\\,2,\\,1,\\,0\\right), \\left(0,\\,0,\\,2,\\,0\\right), \\left(1,\\,0,\\,2,\\,0\\right), \\left(2,\\,0,\\,2,\\,0\\right), \\left(0,\\,1,\\,2,\\,0\\right), \\left(1,\\,1,\\,2,\\,0\\right), \\left(2,\\,1,\\,2,\\,0\\right), \\left(0,\\,2,\\,2,\\,0\\right), \\left(1,\\,2,\\,2,\\,0\\right), \\left(2,\\,2,\\,2,\\,0\\right), \\left(0,\\,0,\\,0,\\,1\\right), \\left(1,\\,0,\\,0,\\,1\\right), \\left(2,\\,0,\\,0,\\,1\\right), \\left(0,\\,1,\\,0,\\,1\\right), \\left(1,\\,1,\\,0,\\,1\\right), \\left(2,\\,1,\\,0,\\,1\\right), \\left(0,\\,2,\\,0,\\,1\\right), \\left(1,\\,2,\\,0,\\,1\\right), \\left(2,\\,2,\\,0,\\,1\\right), \\left(0,\\,0,\\,1,\\,1\\right), \\left(1,\\,0,\\,1,\\,1\\right), \\left(2,\\,0,\\,1,\\,1\\right), \\left(0,\\,1,\\,1,\\,1\\right), \\left(1,\\,1,\\,1,\\,1\\right), \\left(2,\\,1,\\,1,\\,1\\right), \\left(0,\\,2,\\,1,\\,1\\right), \\left(1,\\,2,\\,1,\\,1\\right), \\left(2,\\,2,\\,1,\\,1\\right), \\left(0,\\,0,\\,2,\\,1\\right), \\left(1,\\,0,\\,2,\\,1\\right), \\left(2,\\,0,\\,2,\\,1\\right), \\left(0,\\,1,\\,2,\\,1\\right), \\left(1,\\,1,\\,2,\\,1\\right), \\left(2,\\,1,\\,2,\\,1\\right), \\left(0,\\,2,\\,2,\\,1\\right), \\left(1,\\,2,\\,2,\\,1\\right), \\left(2,\\,2,\\,2,\\,1\\right), \\left(0,\\,0,\\,0,\\,2\\right), \\left(1,\\,0,\\,0,\\,2\\right), \\left(2,\\,0,\\,0,\\,2\\right), \\left(0,\\,1,\\,0,\\,2\\right), \\left(1,\\,1,\\,0,\\,2\\right), \\left(2,\\,1,\\,0,\\,2\\right), \\left(0,\\,2,\\,0,\\,2\\right), \\left(1,\\,2,\\,0,\\,2\\right), \\left(2,\\,2,\\,0,\\,2\\right), \\left(0,\\,0,\\,1,\\,2\\right), \\left(1,\\,0,\\,1,\\,2\\right), \\left(2,\\,0,\\,1,\\,2\\right), \\left(0,\\,1,\\,1,\\,2\\right), \\left(1,\\,1,\\,1,\\,2\\right), \\left(2,\\,1,\\,1,\\,2\\right), \\left(0,\\,2,\\,1,\\,2\\right), \\left(1,\\,2,\\,1,\\,2\\right), \\left(2,\\,2,\\,1,\\,2\\right), \\left(0,\\,0,\\,2,\\,2\\right), \\left(1,\\,0,\\,2,\\,2\\right), \\left(2,\\,0,\\,2,\\,2\\right), \\left(0,\\,1,\\,2,\\,2\\right), \\left(1,\\,1,\\,2,\\,2\\right), \\left(2,\\,1,\\,2,\\,2\\right), \\left(0,\\,2,\\,2,\\,2\\right), \\left(1,\\,2,\\,2,\\,2\\right), \\left(2,\\,2,\\,2,\\,2\\right)\\right]\\]</html>"
      ],
      "text/latex": [
       "$$\\newcommand{\\Bold}[1]{\\mathbf{#1}}\\left[\\left(0,\\,0,\\,0,\\,0\\right), \\left(1,\\,0,\\,0,\\,0\\right), \\left(2,\\,0,\\,0,\\,0\\right), \\left(0,\\,1,\\,0,\\,0\\right), \\left(1,\\,1,\\,0,\\,0\\right), \\left(2,\\,1,\\,0,\\,0\\right), \\left(0,\\,2,\\,0,\\,0\\right), \\left(1,\\,2,\\,0,\\,0\\right), \\left(2,\\,2,\\,0,\\,0\\right), \\left(0,\\,0,\\,1,\\,0\\right), \\left(1,\\,0,\\,1,\\,0\\right), \\left(2,\\,0,\\,1,\\,0\\right), \\left(0,\\,1,\\,1,\\,0\\right), \\left(1,\\,1,\\,1,\\,0\\right), \\left(2,\\,1,\\,1,\\,0\\right), \\left(0,\\,2,\\,1,\\,0\\right), \\left(1,\\,2,\\,1,\\,0\\right), \\left(2,\\,2,\\,1,\\,0\\right), \\left(0,\\,0,\\,2,\\,0\\right), \\left(1,\\,0,\\,2,\\,0\\right), \\left(2,\\,0,\\,2,\\,0\\right), \\left(0,\\,1,\\,2,\\,0\\right), \\left(1,\\,1,\\,2,\\,0\\right), \\left(2,\\,1,\\,2,\\,0\\right), \\left(0,\\,2,\\,2,\\,0\\right), \\left(1,\\,2,\\,2,\\,0\\right), \\left(2,\\,2,\\,2,\\,0\\right), \\left(0,\\,0,\\,0,\\,1\\right), \\left(1,\\,0,\\,0,\\,1\\right), \\left(2,\\,0,\\,0,\\,1\\right), \\left(0,\\,1,\\,0,\\,1\\right), \\left(1,\\,1,\\,0,\\,1\\right), \\left(2,\\,1,\\,0,\\,1\\right), \\left(0,\\,2,\\,0,\\,1\\right), \\left(1,\\,2,\\,0,\\,1\\right), \\left(2,\\,2,\\,0,\\,1\\right), \\left(0,\\,0,\\,1,\\,1\\right), \\left(1,\\,0,\\,1,\\,1\\right), \\left(2,\\,0,\\,1,\\,1\\right), \\left(0,\\,1,\\,1,\\,1\\right), \\left(1,\\,1,\\,1,\\,1\\right), \\left(2,\\,1,\\,1,\\,1\\right), \\left(0,\\,2,\\,1,\\,1\\right), \\left(1,\\,2,\\,1,\\,1\\right), \\left(2,\\,2,\\,1,\\,1\\right), \\left(0,\\,0,\\,2,\\,1\\right), \\left(1,\\,0,\\,2,\\,1\\right), \\left(2,\\,0,\\,2,\\,1\\right), \\left(0,\\,1,\\,2,\\,1\\right), \\left(1,\\,1,\\,2,\\,1\\right), \\left(2,\\,1,\\,2,\\,1\\right), \\left(0,\\,2,\\,2,\\,1\\right), \\left(1,\\,2,\\,2,\\,1\\right), \\left(2,\\,2,\\,2,\\,1\\right), \\left(0,\\,0,\\,0,\\,2\\right), \\left(1,\\,0,\\,0,\\,2\\right), \\left(2,\\,0,\\,0,\\,2\\right), \\left(0,\\,1,\\,0,\\,2\\right), \\left(1,\\,1,\\,0,\\,2\\right), \\left(2,\\,1,\\,0,\\,2\\right), \\left(0,\\,2,\\,0,\\,2\\right), \\left(1,\\,2,\\,0,\\,2\\right), \\left(2,\\,2,\\,0,\\,2\\right), \\left(0,\\,0,\\,1,\\,2\\right), \\left(1,\\,0,\\,1,\\,2\\right), \\left(2,\\,0,\\,1,\\,2\\right), \\left(0,\\,1,\\,1,\\,2\\right), \\left(1,\\,1,\\,1,\\,2\\right), \\left(2,\\,1,\\,1,\\,2\\right), \\left(0,\\,2,\\,1,\\,2\\right), \\left(1,\\,2,\\,1,\\,2\\right), \\left(2,\\,2,\\,1,\\,2\\right), \\left(0,\\,0,\\,2,\\,2\\right), \\left(1,\\,0,\\,2,\\,2\\right), \\left(2,\\,0,\\,2,\\,2\\right), \\left(0,\\,1,\\,2,\\,2\\right), \\left(1,\\,1,\\,2,\\,2\\right), \\left(2,\\,1,\\,2,\\,2\\right), \\left(0,\\,2,\\,2,\\,2\\right), \\left(1,\\,2,\\,2,\\,2\\right), \\left(2,\\,2,\\,2,\\,2\\right)\\right]$$"
      ],
      "text/plain": [
       "[(0, 0, 0, 0),\n",
       " (1, 0, 0, 0),\n",
       " (2, 0, 0, 0),\n",
       " (0, 1, 0, 0),\n",
       " (1, 1, 0, 0),\n",
       " (2, 1, 0, 0),\n",
       " (0, 2, 0, 0),\n",
       " (1, 2, 0, 0),\n",
       " (2, 2, 0, 0),\n",
       " (0, 0, 1, 0),\n",
       " (1, 0, 1, 0),\n",
       " (2, 0, 1, 0),\n",
       " (0, 1, 1, 0),\n",
       " (1, 1, 1, 0),\n",
       " (2, 1, 1, 0),\n",
       " (0, 2, 1, 0),\n",
       " (1, 2, 1, 0),\n",
       " (2, 2, 1, 0),\n",
       " (0, 0, 2, 0),\n",
       " (1, 0, 2, 0),\n",
       " (2, 0, 2, 0),\n",
       " (0, 1, 2, 0),\n",
       " (1, 1, 2, 0),\n",
       " (2, 1, 2, 0),\n",
       " (0, 2, 2, 0),\n",
       " (1, 2, 2, 0),\n",
       " (2, 2, 2, 0),\n",
       " (0, 0, 0, 1),\n",
       " (1, 0, 0, 1),\n",
       " (2, 0, 0, 1),\n",
       " (0, 1, 0, 1),\n",
       " (1, 1, 0, 1),\n",
       " (2, 1, 0, 1),\n",
       " (0, 2, 0, 1),\n",
       " (1, 2, 0, 1),\n",
       " (2, 2, 0, 1),\n",
       " (0, 0, 1, 1),\n",
       " (1, 0, 1, 1),\n",
       " (2, 0, 1, 1),\n",
       " (0, 1, 1, 1),\n",
       " (1, 1, 1, 1),\n",
       " (2, 1, 1, 1),\n",
       " (0, 2, 1, 1),\n",
       " (1, 2, 1, 1),\n",
       " (2, 2, 1, 1),\n",
       " (0, 0, 2, 1),\n",
       " (1, 0, 2, 1),\n",
       " (2, 0, 2, 1),\n",
       " (0, 1, 2, 1),\n",
       " (1, 1, 2, 1),\n",
       " (2, 1, 2, 1),\n",
       " (0, 2, 2, 1),\n",
       " (1, 2, 2, 1),\n",
       " (2, 2, 2, 1),\n",
       " (0, 0, 0, 2),\n",
       " (1, 0, 0, 2),\n",
       " (2, 0, 0, 2),\n",
       " (0, 1, 0, 2),\n",
       " (1, 1, 0, 2),\n",
       " (2, 1, 0, 2),\n",
       " (0, 2, 0, 2),\n",
       " (1, 2, 0, 2),\n",
       " (2, 2, 0, 2),\n",
       " (0, 0, 1, 2),\n",
       " (1, 0, 1, 2),\n",
       " (2, 0, 1, 2),\n",
       " (0, 1, 1, 2),\n",
       " (1, 1, 1, 2),\n",
       " (2, 1, 1, 2),\n",
       " (0, 2, 1, 2),\n",
       " (1, 2, 1, 2),\n",
       " (2, 2, 1, 2),\n",
       " (0, 0, 2, 2),\n",
       " (1, 0, 2, 2),\n",
       " (2, 0, 2, 2),\n",
       " (0, 1, 2, 2),\n",
       " (1, 1, 2, 2),\n",
       " (2, 1, 2, 2),\n",
       " (0, 2, 2, 2),\n",
       " (1, 2, 2, 2),\n",
       " (2, 2, 2, 2)]"
      ]
     },
     "execution_count": 38,
     "metadata": {},
     "output_type": "execute_result"
    }
   ],
   "source": [
    "K.list()"
   ]
  },
  {
   "cell_type": "markdown",
   "metadata": {},
   "source": [
    "<p>ukupni broj vektora u vektorskom prostoru $K$</p>"
   ]
  },
  {
   "cell_type": "code",
   "execution_count": 39,
   "metadata": {},
   "outputs": [
    {
     "data": {
      "text/html": [
       "<html>\\[\\newcommand{\\Bold}[1]{\\mathbf{#1}}81\\]</html>"
      ],
      "text/latex": [
       "$$\\newcommand{\\Bold}[1]{\\mathbf{#1}}81$$"
      ],
      "text/plain": [
       "81"
      ]
     },
     "execution_count": 39,
     "metadata": {},
     "output_type": "execute_result"
    }
   ],
   "source": [
    "K.cardinality()"
   ]
  },
  {
   "cell_type": "markdown",
   "metadata": {},
   "source": [
    "<h3>Vektorski prostor dimenzije 3 nad algebarskim zatvorenjem $\\overline{\\mathbb{Q}}$ polja $\\mathbb{Q}$</h3>\n",
    "<p style=\"line-height:25px;\">U polju $\\overline{\\mathbb{Q}}$ se nalaze svi brojevi koji su nultočke polinoma s racionalnim koeficijentima. Intuitivno rečeno, tu su svi racionalni brojevi i svi mogući korijeni. Brojevi kao što su $\\sin{2}, \\log_3{4}, \\pi, e$ ne pripadaju polju $\\overline{\\mathbb{Q}}$.</p>"
   ]
  },
  {
   "cell_type": "code",
   "execution_count": 40,
   "metadata": {},
   "outputs": [
    {
     "data": {
      "text/html": [
       "<html>\\[\\newcommand{\\Bold}[1]{\\mathbf{#1}}\\overline{\\QQ}\\]</html>"
      ],
      "text/latex": [
       "$$\\newcommand{\\Bold}[1]{\\mathbf{#1}}\\overline{\\QQ}$$"
      ],
      "text/plain": [
       "Algebraic Field"
      ]
     },
     "execution_count": 40,
     "metadata": {},
     "output_type": "execute_result"
    }
   ],
   "source": [
    "QQbar"
   ]
  },
  {
   "cell_type": "code",
   "execution_count": 41,
   "metadata": {},
   "outputs": [
    {
     "data": {
      "text/html": [
       "<html>\\[\\newcommand{\\Bold}[1]{\\mathbf{#1}}\\left(\\mathrm{True}, \\mathrm{True}, \\mathrm{False}, \\mathrm{True}, \\mathrm{False}\\right)\\]</html>"
      ],
      "text/latex": [
       "$$\\newcommand{\\Bold}[1]{\\mathbf{#1}}\\left(\\mathrm{True}, \\mathrm{True}, \\mathrm{False}, \\mathrm{True}, \\mathrm{False}\\right)$$"
      ],
      "text/plain": [
       "(True, True, False, True, False)"
      ]
     },
     "execution_count": 41,
     "metadata": {},
     "output_type": "execute_result"
    }
   ],
   "source": [
    "2 in QQbar, 2^(1/3)+5^(3/4) in QQbar, 5.02 in QQbar, 502/100 in QQbar, cos(4) in QQbar"
   ]
  },
  {
   "cell_type": "code",
   "execution_count": 42,
   "metadata": {},
   "outputs": [
    {
     "data": {
      "text/html": [
       "<html>\\[\\newcommand{\\Bold}[1]{\\mathbf{#1}}\\overline{\\QQ}^{3}\\]</html>"
      ],
      "text/latex": [
       "$$\\newcommand{\\Bold}[1]{\\mathbf{#1}}\\overline{\\QQ}^{3}$$"
      ],
      "text/plain": [
       "Vector space of dimension 3 over Algebraic Field"
      ]
     },
     "execution_count": 42,
     "metadata": {},
     "output_type": "execute_result"
    }
   ],
   "source": [
    "T=VectorSpace(QQbar,3); T"
   ]
  },
  {
   "cell_type": "code",
   "execution_count": 43,
   "metadata": {},
   "outputs": [
    {
     "data": {
      "text/html": [
       "<html>\\[\\newcommand{\\Bold}[1]{\\mathbf{#1}}\\left[\\left(1,\\,0,\\,0\\right), \\left(0,\\,1,\\,0\\right), \\left(0,\\,0,\\,1\\right)\\right]\\]</html>"
      ],
      "text/latex": [
       "$$\\newcommand{\\Bold}[1]{\\mathbf{#1}}\\left[\\left(1,\\,0,\\,0\\right), \\left(0,\\,1,\\,0\\right), \\left(0,\\,0,\\,1\\right)\\right]$$"
      ],
      "text/plain": [
       "[\n",
       "(1, 0, 0),\n",
       "(0, 1, 0),\n",
       "(0, 0, 1)\n",
       "]"
      ]
     },
     "execution_count": 43,
     "metadata": {},
     "output_type": "execute_result"
    }
   ],
   "source": [
    "T.basis()"
   ]
  },
  {
   "cell_type": "markdown",
   "metadata": {},
   "source": [
    "<h2>Generiranje vektorskih potprostora</h2>"
   ]
  },
  {
   "cell_type": "markdown",
   "metadata": {},
   "source": [
    "<div style=\"background-color: #F5FFFA; color: #000000; border: 2px solid #B0C4DE; border-radius: 15px; padding:0px 10px 25px; overflow:auto\">\n",
    "<h3>Primjer</h3>\n",
    "<p style=\"line-height:30px;\">Neka je $U$ potprostor od $\\mathbb{R}^4$ razapet s vektorima $u_1=(1,2,-1,3)$, $u_2=(2,4,1,-2)$ i $u_3=(3,6,3,-7)$, a $W$ potprostor razapet s vektorima $w_1=(1,2,-4,11)$ i $w_2=(2,4,-5,14)$. Pokažite da je $U=W$.</p>\n",
    "</div>\n",
    "<p><strong>1. način generiranja potprostora</strong></p>"
   ]
  },
  {
   "cell_type": "code",
   "execution_count": 44,
   "metadata": {},
   "outputs": [],
   "source": [
    "U=span([[1,2,-1,3],[2,4,1,-2],[3,6,3,-7]],QQbar)\n",
    "W=span([[1,2,-4,11],[2,4,-5,14]],QQbar)"
   ]
  },
  {
   "cell_type": "markdown",
   "metadata": {},
   "source": [
    "<p>Ovaj način generiranja potprostora odmah traži i \"kanonske baze\" tih potprostora, tj. traži one vektore za bazu koji imaju čim više nula.</p>"
   ]
  },
  {
   "cell_type": "code",
   "execution_count": 45,
   "metadata": {},
   "outputs": [
    {
     "data": {
      "text/html": [
       "<html>\\[\\newcommand{\\Bold}[1]{\\mathbf{#1}}\\mathrm{RowSpan}_{\\overline{\\QQ}}\\left(\\begin{array}{rrrr}\n",
       "1 & 2 & 0 & \\frac{1}{3} \\\\\n",
       "0 & 0 & 1 & -\\frac{8}{3}\n",
       "\\end{array}\\right)\\]</html>"
      ],
      "text/latex": [
       "$$\\newcommand{\\Bold}[1]{\\mathbf{#1}}\\mathrm{RowSpan}_{\\overline{\\QQ}}\\left(\\begin{array}{rrrr}\n",
       "1 & 2 & 0 & \\frac{1}{3} \\\\\n",
       "0 & 0 & 1 & -\\frac{8}{3}\n",
       "\\end{array}\\right)$$"
      ],
      "text/plain": [
       "Vector space of degree 4 and dimension 2 over Algebraic Field\n",
       "Basis matrix:\n",
       "[   1    2    0  1/3]\n",
       "[   0    0    1 -8/3]"
      ]
     },
     "execution_count": 45,
     "metadata": {},
     "output_type": "execute_result"
    }
   ],
   "source": [
    "U"
   ]
  },
  {
   "cell_type": "code",
   "execution_count": 46,
   "metadata": {},
   "outputs": [
    {
     "data": {
      "text/html": [
       "<html>\\[\\newcommand{\\Bold}[1]{\\mathbf{#1}}\\mathrm{RowSpan}_{\\overline{\\QQ}}\\left(\\begin{array}{rrrr}\n",
       "1 & 2 & 0 & \\frac{1}{3} \\\\\n",
       "0 & 0 & 1 & -\\frac{8}{3}\n",
       "\\end{array}\\right)\\]</html>"
      ],
      "text/latex": [
       "$$\\newcommand{\\Bold}[1]{\\mathbf{#1}}\\mathrm{RowSpan}_{\\overline{\\QQ}}\\left(\\begin{array}{rrrr}\n",
       "1 & 2 & 0 & \\frac{1}{3} \\\\\n",
       "0 & 0 & 1 & -\\frac{8}{3}\n",
       "\\end{array}\\right)$$"
      ],
      "text/plain": [
       "Vector space of degree 4 and dimension 2 over Algebraic Field\n",
       "Basis matrix:\n",
       "[   1    2    0  1/3]\n",
       "[   0    0    1 -8/3]"
      ]
     },
     "execution_count": 46,
     "metadata": {},
     "output_type": "execute_result"
    }
   ],
   "source": [
    "W"
   ]
  },
  {
   "cell_type": "code",
   "execution_count": 47,
   "metadata": {},
   "outputs": [
    {
     "data": {
      "text/html": [
       "<html>\\[\\newcommand{\\Bold}[1]{\\mathbf{#1}}\\left[\\left(1,\\,2,\\,0,\\,\\frac{1}{3}\\right), \\left(0,\\,0,\\,1,\\,-\\frac{8}{3}\\right)\\right]\\]</html>"
      ],
      "text/latex": [
       "$$\\newcommand{\\Bold}[1]{\\mathbf{#1}}\\left[\\left(1,\\,2,\\,0,\\,\\frac{1}{3}\\right), \\left(0,\\,0,\\,1,\\,-\\frac{8}{3}\\right)\\right]$$"
      ],
      "text/plain": [
       "[\n",
       "(1, 2, 0, 1/3),\n",
       "(0, 0, 1, -8/3)\n",
       "]"
      ]
     },
     "execution_count": 47,
     "metadata": {},
     "output_type": "execute_result"
    }
   ],
   "source": [
    "U.basis()"
   ]
  },
  {
   "cell_type": "code",
   "execution_count": 48,
   "metadata": {},
   "outputs": [
    {
     "data": {
      "text/html": [
       "<html>\\[\\newcommand{\\Bold}[1]{\\mathbf{#1}}\\left[\\left(1,\\,2,\\,0,\\,\\frac{1}{3}\\right), \\left(0,\\,0,\\,1,\\,-\\frac{8}{3}\\right)\\right]\\]</html>"
      ],
      "text/latex": [
       "$$\\newcommand{\\Bold}[1]{\\mathbf{#1}}\\left[\\left(1,\\,2,\\,0,\\,\\frac{1}{3}\\right), \\left(0,\\,0,\\,1,\\,-\\frac{8}{3}\\right)\\right]$$"
      ],
      "text/plain": [
       "[\n",
       "(1, 2, 0, 1/3),\n",
       "(0, 0, 1, -8/3)\n",
       "]"
      ]
     },
     "execution_count": 48,
     "metadata": {},
     "output_type": "execute_result"
    }
   ],
   "source": [
    "W.basis()"
   ]
  },
  {
   "cell_type": "code",
   "execution_count": 49,
   "metadata": {},
   "outputs": [
    {
     "data": {
      "text/html": [
       "<html>\\[\\newcommand{\\Bold}[1]{\\mathbf{#1}}\\mathrm{True}\\]</html>"
      ],
      "text/latex": [
       "$$\\newcommand{\\Bold}[1]{\\mathbf{#1}}\\mathrm{True}$$"
      ],
      "text/plain": [
       "True"
      ]
     },
     "execution_count": 49,
     "metadata": {},
     "output_type": "execute_result"
    }
   ],
   "source": [
    "U==W"
   ]
  },
  {
   "cell_type": "markdown",
   "metadata": {},
   "source": [
    "<p><strong>2. način generiranja potprostora</strong></p>\n",
    "<p>Ovaj način generiranja potprostora također odmah traži  \"kanonske baze\" tih potprostora.</p>"
   ]
  },
  {
   "cell_type": "code",
   "execution_count": 50,
   "metadata": {},
   "outputs": [],
   "source": [
    "U1=(QQbar^4).subspace([[1,2,-1,3],[2,4,1,-2],[3,6,3,-7]])\n",
    "W1=(QQbar^4).subspace([[1,2,-4,11],[2,4,-5,14]])"
   ]
  },
  {
   "cell_type": "code",
   "execution_count": 51,
   "metadata": {},
   "outputs": [
    {
     "data": {
      "text/html": [
       "<html>\\[\\newcommand{\\Bold}[1]{\\mathbf{#1}}\\mathrm{RowSpan}_{\\overline{\\QQ}}\\left(\\begin{array}{rrrr}\n",
       "1 & 2 & 0 & \\frac{1}{3} \\\\\n",
       "0 & 0 & 1 & -\\frac{8}{3}\n",
       "\\end{array}\\right)\\]</html>"
      ],
      "text/latex": [
       "$$\\newcommand{\\Bold}[1]{\\mathbf{#1}}\\mathrm{RowSpan}_{\\overline{\\QQ}}\\left(\\begin{array}{rrrr}\n",
       "1 & 2 & 0 & \\frac{1}{3} \\\\\n",
       "0 & 0 & 1 & -\\frac{8}{3}\n",
       "\\end{array}\\right)$$"
      ],
      "text/plain": [
       "Vector space of degree 4 and dimension 2 over Algebraic Field\n",
       "Basis matrix:\n",
       "[   1    2    0  1/3]\n",
       "[   0    0    1 -8/3]"
      ]
     },
     "execution_count": 51,
     "metadata": {},
     "output_type": "execute_result"
    }
   ],
   "source": [
    "U1"
   ]
  },
  {
   "cell_type": "code",
   "execution_count": 52,
   "metadata": {},
   "outputs": [
    {
     "data": {
      "text/html": [
       "<html>\\[\\newcommand{\\Bold}[1]{\\mathbf{#1}}\\mathrm{RowSpan}_{\\overline{\\QQ}}\\left(\\begin{array}{rrrr}\n",
       "1 & 2 & 0 & \\frac{1}{3} \\\\\n",
       "0 & 0 & 1 & -\\frac{8}{3}\n",
       "\\end{array}\\right)\\]</html>"
      ],
      "text/latex": [
       "$$\\newcommand{\\Bold}[1]{\\mathbf{#1}}\\mathrm{RowSpan}_{\\overline{\\QQ}}\\left(\\begin{array}{rrrr}\n",
       "1 & 2 & 0 & \\frac{1}{3} \\\\\n",
       "0 & 0 & 1 & -\\frac{8}{3}\n",
       "\\end{array}\\right)$$"
      ],
      "text/plain": [
       "Vector space of degree 4 and dimension 2 over Algebraic Field\n",
       "Basis matrix:\n",
       "[   1    2    0  1/3]\n",
       "[   0    0    1 -8/3]"
      ]
     },
     "execution_count": 52,
     "metadata": {},
     "output_type": "execute_result"
    }
   ],
   "source": [
    "W1"
   ]
  },
  {
   "cell_type": "code",
   "execution_count": 53,
   "metadata": {},
   "outputs": [
    {
     "data": {
      "text/html": [
       "<html>\\[\\newcommand{\\Bold}[1]{\\mathbf{#1}}\\left(\\mathrm{True}, \\mathrm{True}, \\mathrm{True}, \\mathrm{True}\\right)\\]</html>"
      ],
      "text/latex": [
       "$$\\newcommand{\\Bold}[1]{\\mathbf{#1}}\\left(\\mathrm{True}, \\mathrm{True}, \\mathrm{True}, \\mathrm{True}\\right)$$"
      ],
      "text/plain": [
       "(True, True, True, True)"
      ]
     },
     "execution_count": 53,
     "metadata": {},
     "output_type": "execute_result"
    }
   ],
   "source": [
    "U1==U, U1==W1, W==W1, W==U1"
   ]
  },
  {
   "cell_type": "markdown",
   "metadata": {},
   "source": [
    "<p><strong>3. način generiranja potprostora</strong></p>\n",
    "<p style=\"line-height:25px;\">Ovaj način možemo koristiti kada smo sigurni da su zadani vektori koji razapinju potprostor linearno nezavisni. Ovim načinom će se očuvati početna baza, neće se tražiti \"kanonska\" baza za pripadni potprostor. Ukoliko zadani vektori nisu linearno nezavisni, ovaj način ne funkcionira.</p>"
   ]
  },
  {
   "cell_type": "code",
   "execution_count": 54,
   "metadata": {},
   "outputs": [
    {
     "data": {
      "text/html": [
       "<html>\\[\\newcommand{\\Bold}[1]{\\mathbf{#1}}\\mathrm{RowSpan}_{\\overline{\\QQ}}\\left(\\begin{array}{rrrr}\n",
       "1 & 2 & -4 & 11 \\\\\n",
       "2 & 4 & -5 & 14\n",
       "\\end{array}\\right)\\]</html>"
      ],
      "text/latex": [
       "$$\\newcommand{\\Bold}[1]{\\mathbf{#1}}\\mathrm{RowSpan}_{\\overline{\\QQ}}\\left(\\begin{array}{rrrr}\n",
       "1 & 2 & -4 & 11 \\\\\n",
       "2 & 4 & -5 & 14\n",
       "\\end{array}\\right)$$"
      ],
      "text/plain": [
       "Vector space of degree 4 and dimension 2 over Algebraic Field\n",
       "User basis matrix:\n",
       "[ 1  2 -4 11]\n",
       "[ 2  4 -5 14]"
      ]
     },
     "execution_count": 54,
     "metadata": {},
     "output_type": "execute_result"
    }
   ],
   "source": [
    "W2=(QQbar^4).subspace_with_basis([[1,2,-4,11],[2,4,-5,14]]); W2"
   ]
  },
  {
   "cell_type": "code",
   "execution_count": 55,
   "metadata": {},
   "outputs": [
    {
     "data": {
      "text/html": [
       "<html>\\[\\newcommand{\\Bold}[1]{\\mathbf{#1}}\\left[\\left(1,\\,2,\\,-4,\\,11\\right), \\left(2,\\,4,\\,-5,\\,14\\right)\\right]\\]</html>"
      ],
      "text/latex": [
       "$$\\newcommand{\\Bold}[1]{\\mathbf{#1}}\\left[\\left(1,\\,2,\\,-4,\\,11\\right), \\left(2,\\,4,\\,-5,\\,14\\right)\\right]$$"
      ],
      "text/plain": [
       "[\n",
       "(1, 2, -4, 11),\n",
       "(2, 4, -5, 14)\n",
       "]"
      ]
     },
     "execution_count": 55,
     "metadata": {},
     "output_type": "execute_result"
    }
   ],
   "source": [
    "W2.basis()"
   ]
  },
  {
   "cell_type": "code",
   "execution_count": 56,
   "metadata": {},
   "outputs": [
    {
     "ename": "ValueError",
     "evalue": "The given basis vectors must be linearly independent.",
     "output_type": "error",
     "traceback": [
      "\u001b[0;31m---------------------------------------------------------------------------\u001b[0m",
      "\u001b[0;31mValueError\u001b[0m                                Traceback (most recent call last)",
      "\u001b[0;32m/tmp/ipykernel_12608/128481298.py\u001b[0m in \u001b[0;36m<module>\u001b[0;34m\u001b[0m\n\u001b[0;32m----> 1\u001b[0;31m \u001b[0mU2\u001b[0m\u001b[0;34m=\u001b[0m\u001b[0;34m(\u001b[0m\u001b[0mQQbar\u001b[0m\u001b[0;34m**\u001b[0m\u001b[0mInteger\u001b[0m\u001b[0;34m(\u001b[0m\u001b[0;36m4\u001b[0m\u001b[0;34m)\u001b[0m\u001b[0;34m)\u001b[0m\u001b[0;34m.\u001b[0m\u001b[0msubspace_with_basis\u001b[0m\u001b[0;34m(\u001b[0m\u001b[0;34m[\u001b[0m\u001b[0;34m[\u001b[0m\u001b[0mInteger\u001b[0m\u001b[0;34m(\u001b[0m\u001b[0;36m1\u001b[0m\u001b[0;34m)\u001b[0m\u001b[0;34m,\u001b[0m\u001b[0mInteger\u001b[0m\u001b[0;34m(\u001b[0m\u001b[0;36m2\u001b[0m\u001b[0;34m)\u001b[0m\u001b[0;34m,\u001b[0m\u001b[0;34m-\u001b[0m\u001b[0mInteger\u001b[0m\u001b[0;34m(\u001b[0m\u001b[0;36m1\u001b[0m\u001b[0;34m)\u001b[0m\u001b[0;34m,\u001b[0m\u001b[0mInteger\u001b[0m\u001b[0;34m(\u001b[0m\u001b[0;36m3\u001b[0m\u001b[0;34m)\u001b[0m\u001b[0;34m]\u001b[0m\u001b[0;34m,\u001b[0m\u001b[0;34m[\u001b[0m\u001b[0mInteger\u001b[0m\u001b[0;34m(\u001b[0m\u001b[0;36m2\u001b[0m\u001b[0;34m)\u001b[0m\u001b[0;34m,\u001b[0m\u001b[0mInteger\u001b[0m\u001b[0;34m(\u001b[0m\u001b[0;36m4\u001b[0m\u001b[0;34m)\u001b[0m\u001b[0;34m,\u001b[0m\u001b[0mInteger\u001b[0m\u001b[0;34m(\u001b[0m\u001b[0;36m1\u001b[0m\u001b[0;34m)\u001b[0m\u001b[0;34m,\u001b[0m\u001b[0;34m-\u001b[0m\u001b[0mInteger\u001b[0m\u001b[0;34m(\u001b[0m\u001b[0;36m2\u001b[0m\u001b[0;34m)\u001b[0m\u001b[0;34m]\u001b[0m\u001b[0;34m,\u001b[0m\u001b[0;34m[\u001b[0m\u001b[0mInteger\u001b[0m\u001b[0;34m(\u001b[0m\u001b[0;36m3\u001b[0m\u001b[0;34m)\u001b[0m\u001b[0;34m,\u001b[0m\u001b[0mInteger\u001b[0m\u001b[0;34m(\u001b[0m\u001b[0;36m6\u001b[0m\u001b[0;34m)\u001b[0m\u001b[0;34m,\u001b[0m\u001b[0mInteger\u001b[0m\u001b[0;34m(\u001b[0m\u001b[0;36m3\u001b[0m\u001b[0;34m)\u001b[0m\u001b[0;34m,\u001b[0m\u001b[0;34m-\u001b[0m\u001b[0mInteger\u001b[0m\u001b[0;34m(\u001b[0m\u001b[0;36m7\u001b[0m\u001b[0;34m)\u001b[0m\u001b[0;34m]\u001b[0m\u001b[0;34m]\u001b[0m\u001b[0;34m)\u001b[0m\u001b[0;34m\u001b[0m\u001b[0;34m\u001b[0m\u001b[0m\n\u001b[0m",
      "\u001b[0;32m/usr/lib/python3.9/site-packages/sage/modules/free_module.py\u001b[0m in \u001b[0;36msubspace_with_basis\u001b[0;34m(self, gens, check, already_echelonized)\u001b[0m\n\u001b[1;32m   4151\u001b[0m             \u001b[0;32mTrue\u001b[0m\u001b[0;34m\u001b[0m\u001b[0;34m\u001b[0m\u001b[0m\n\u001b[1;32m   4152\u001b[0m         \"\"\"\n\u001b[0;32m-> 4153\u001b[0;31m         \u001b[0;32mreturn\u001b[0m \u001b[0mself\u001b[0m\u001b[0;34m.\u001b[0m\u001b[0msubmodule_with_basis\u001b[0m\u001b[0;34m(\u001b[0m\u001b[0mgens\u001b[0m\u001b[0;34m,\u001b[0m \u001b[0mcheck\u001b[0m\u001b[0;34m=\u001b[0m\u001b[0mcheck\u001b[0m\u001b[0;34m,\u001b[0m \u001b[0malready_echelonized\u001b[0m\u001b[0;34m=\u001b[0m\u001b[0malready_echelonized\u001b[0m\u001b[0;34m)\u001b[0m\u001b[0;34m\u001b[0m\u001b[0;34m\u001b[0m\u001b[0m\n\u001b[0m\u001b[1;32m   4154\u001b[0m \u001b[0;34m\u001b[0m\u001b[0m\n\u001b[1;32m   4155\u001b[0m     \u001b[0;32mdef\u001b[0m \u001b[0mcomplement\u001b[0m\u001b[0;34m(\u001b[0m\u001b[0mself\u001b[0m\u001b[0;34m)\u001b[0m\u001b[0;34m:\u001b[0m\u001b[0;34m\u001b[0m\u001b[0;34m\u001b[0m\u001b[0m\n",
      "\u001b[0;32m/usr/lib/python3.9/site-packages/sage/modules/free_module.py\u001b[0m in \u001b[0;36msubmodule_with_basis\u001b[0;34m(self, basis, check, already_echelonized)\u001b[0m\n\u001b[1;32m   3469\u001b[0m             \u001b[0;34m[\u001b[0m \u001b[0;36m2\u001b[0m  \u001b[0;36m0\u001b[0m \u001b[0;34m-\u001b[0m\u001b[0mx\u001b[0m\u001b[0;34m]\u001b[0m\u001b[0;34m\u001b[0m\u001b[0;34m\u001b[0m\u001b[0m\n\u001b[1;32m   3470\u001b[0m         \"\"\"\n\u001b[0;32m-> 3471\u001b[0;31m         \u001b[0mV\u001b[0m \u001b[0;34m=\u001b[0m \u001b[0mself\u001b[0m\u001b[0;34m.\u001b[0m\u001b[0mspan_of_basis\u001b[0m\u001b[0;34m(\u001b[0m\u001b[0mbasis\u001b[0m\u001b[0;34m=\u001b[0m\u001b[0mbasis\u001b[0m\u001b[0;34m,\u001b[0m \u001b[0mcheck\u001b[0m\u001b[0;34m=\u001b[0m\u001b[0mcheck\u001b[0m\u001b[0;34m,\u001b[0m \u001b[0malready_echelonized\u001b[0m\u001b[0;34m=\u001b[0m\u001b[0malready_echelonized\u001b[0m\u001b[0;34m)\u001b[0m\u001b[0;34m\u001b[0m\u001b[0;34m\u001b[0m\u001b[0m\n\u001b[0m\u001b[1;32m   3472\u001b[0m         \u001b[0;32mif\u001b[0m \u001b[0mcheck\u001b[0m\u001b[0;34m:\u001b[0m\u001b[0;34m\u001b[0m\u001b[0;34m\u001b[0m\u001b[0m\n\u001b[1;32m   3473\u001b[0m             \u001b[0;32mif\u001b[0m \u001b[0;32mnot\u001b[0m \u001b[0mV\u001b[0m\u001b[0;34m.\u001b[0m\u001b[0mis_submodule\u001b[0m\u001b[0;34m(\u001b[0m\u001b[0mself\u001b[0m\u001b[0;34m)\u001b[0m\u001b[0;34m:\u001b[0m\u001b[0;34m\u001b[0m\u001b[0;34m\u001b[0m\u001b[0m\n",
      "\u001b[0;32m/usr/lib/python3.9/site-packages/sage/modules/free_module.py\u001b[0m in \u001b[0;36mspan_of_basis\u001b[0;34m(self, basis, base_ring, check, already_echelonized)\u001b[0m\n\u001b[1;32m   4003\u001b[0m             \u001b[0mbasis\u001b[0m \u001b[0;34m=\u001b[0m \u001b[0mbasis\u001b[0m\u001b[0;34m.\u001b[0m\u001b[0mgens\u001b[0m\u001b[0;34m(\u001b[0m\u001b[0;34m)\u001b[0m\u001b[0;34m\u001b[0m\u001b[0;34m\u001b[0m\u001b[0m\n\u001b[1;32m   4004\u001b[0m         \u001b[0;32mif\u001b[0m \u001b[0mbase_ring\u001b[0m \u001b[0;32mis\u001b[0m \u001b[0;32mNone\u001b[0m\u001b[0;34m:\u001b[0m\u001b[0;34m\u001b[0m\u001b[0;34m\u001b[0m\u001b[0m\n\u001b[0;32m-> 4005\u001b[0;31m             return FreeModule_submodule_with_basis_field(\n\u001b[0m\u001b[1;32m   4006\u001b[0m                 self.ambient_module(), basis=basis, check=check, already_echelonized=already_echelonized)\n\u001b[1;32m   4007\u001b[0m         \u001b[0;32melse\u001b[0m\u001b[0;34m:\u001b[0m\u001b[0;34m\u001b[0m\u001b[0;34m\u001b[0m\u001b[0m\n",
      "\u001b[0;32m/usr/lib/python3.9/site-packages/sage/modules/free_module.py\u001b[0m in \u001b[0;36m__init__\u001b[0;34m(self, ambient, basis, check, echelonize, echelonized_basis, already_echelonized)\u001b[0m\n\u001b[1;32m   6916\u001b[0m             \u001b[0;34m[\u001b[0m\u001b[0;36m4\u001b[0m \u001b[0;36m5\u001b[0m \u001b[0;36m6\u001b[0m\u001b[0;34m]\u001b[0m\u001b[0;34m\u001b[0m\u001b[0;34m\u001b[0m\u001b[0m\n\u001b[1;32m   6917\u001b[0m         \"\"\"\n\u001b[0;32m-> 6918\u001b[0;31m         FreeModule_submodule_with_basis_pid.__init__(\n\u001b[0m\u001b[1;32m   6919\u001b[0m             \u001b[0mself\u001b[0m\u001b[0;34m,\u001b[0m \u001b[0mambient\u001b[0m\u001b[0;34m,\u001b[0m \u001b[0mbasis\u001b[0m\u001b[0;34m=\u001b[0m\u001b[0mbasis\u001b[0m\u001b[0;34m,\u001b[0m \u001b[0mcheck\u001b[0m\u001b[0;34m=\u001b[0m\u001b[0mcheck\u001b[0m\u001b[0;34m,\u001b[0m \u001b[0mechelonize\u001b[0m\u001b[0;34m=\u001b[0m\u001b[0mechelonize\u001b[0m\u001b[0;34m,\u001b[0m\u001b[0;34m\u001b[0m\u001b[0;34m\u001b[0m\u001b[0m\n\u001b[1;32m   6920\u001b[0m             echelonized_basis=echelonized_basis, already_echelonized=already_echelonized)\n",
      "\u001b[0;32m/usr/lib/python3.9/site-packages/sage/modules/free_module.py\u001b[0m in \u001b[0;36m__init__\u001b[0;34m(self, ambient, basis, check, echelonize, echelonized_basis, already_echelonized)\u001b[0m\n\u001b[1;32m   5867\u001b[0m             \u001b[0mself\u001b[0m\u001b[0;34m.\u001b[0m\u001b[0m__echelonized_basis\u001b[0m \u001b[0;34m=\u001b[0m \u001b[0mbasis_seq\u001b[0m\u001b[0;34m(\u001b[0m\u001b[0mself\u001b[0m\u001b[0;34m,\u001b[0m \u001b[0mw\u001b[0m\u001b[0;34m)\u001b[0m\u001b[0;34m\u001b[0m\u001b[0;34m\u001b[0m\u001b[0m\n\u001b[1;32m   5868\u001b[0m         \u001b[0;32mif\u001b[0m \u001b[0mcheck\u001b[0m \u001b[0;32mand\u001b[0m \u001b[0mlen\u001b[0m\u001b[0;34m(\u001b[0m\u001b[0mbasis\u001b[0m\u001b[0;34m)\u001b[0m \u001b[0;34m!=\u001b[0m \u001b[0mlen\u001b[0m\u001b[0;34m(\u001b[0m\u001b[0mself\u001b[0m\u001b[0;34m.\u001b[0m\u001b[0m__echelonized_basis\u001b[0m\u001b[0;34m)\u001b[0m\u001b[0;34m:\u001b[0m\u001b[0;34m\u001b[0m\u001b[0;34m\u001b[0m\u001b[0m\n\u001b[0;32m-> 5869\u001b[0;31m             raise ValueError(\"The given basis vectors must be linearly \"\n\u001b[0m\u001b[1;32m   5870\u001b[0m                              \"independent.\")\n\u001b[1;32m   5871\u001b[0m \u001b[0;34m\u001b[0m\u001b[0m\n",
      "\u001b[0;31mValueError\u001b[0m: The given basis vectors must be linearly independent."
     ]
    }
   ],
   "source": [
    "U2=(QQbar^4).subspace_with_basis([[1,2,-1,3],[2,4,1,-2],[3,6,3,-7]])"
   ]
  },
  {
   "cell_type": "code",
   "execution_count": 57,
   "metadata": {},
   "outputs": [
    {
     "data": {
      "text/html": [
       "<html>\\[\\newcommand{\\Bold}[1]{\\mathbf{#1}}\\mathrm{True}\\]</html>"
      ],
      "text/latex": [
       "$$\\newcommand{\\Bold}[1]{\\mathbf{#1}}\\mathrm{True}$$"
      ],
      "text/plain": [
       "True"
      ]
     },
     "execution_count": 57,
     "metadata": {},
     "output_type": "execute_result"
    }
   ],
   "source": [
    "W2==U"
   ]
  },
  {
   "cell_type": "markdown",
   "metadata": {},
   "source": [
    "<p style=\"line-height:70px;\"><strong>Kako bismo taj primjer rješavali ručno?</strong></p>\n",
    "<div style=\"background-color: #F5FFFA; color: #000000; border: 2px solid #B0C4DE; border-radius: 15px; padding:0px 10px 25px; overflow:auto\">\n",
    "<h3>Definicija</h3>\n",
    "<p>Za matricu $A$ kažemo da je u <span style=\"color: #ff0000;\"><em>retčanoj kanonskoj formi</em></span> ako vrijede sljedeći uvjeti:</p>\n",
    "<ol>\n",
    "<li style=\"line-height:25px;\">Svi nul-retci, ako postoje, nalaze se na dnu matrice.</li>\n",
    "<li style=\"line-height:25px;\">Pivot u pojedinom retku se nalazi uvijek desno od pivota u prethodnom retku. <em><span style=\"color: #ff0000;\">Pivot</span></em> u pojedinom retku je prvi element u tom retku koji je različit od nule.</li>\n",
    "<li style=\"line-height:25px;\">Svi pivoti su jednaki 1.</li>\n",
    "<li style=\"line-height:25px;\">Svaki pivot je jedini element različit od nule u svojem stupcu.</li>\n",
    "</ol>\n",
    "</div>\n",
    "<p style=\"line-height:25px;\">Retčanu kanonsku formu matrice $A$ pronalazimo višestrukom primjenom elementarnih transformacija na njezine retke. Kod ručnog rješavanja zadataka kanonsku formu matrice tražit ćemo uglavnom tako da zadovoljimo samo prva dva uvjeta zbog manjeg broja potrebnih operacija, a iz tako dobivene forme matrice moći ćemo isto lagano donijeti sve potrebne zaključke. U SAGE-u postoji već gotova naredba koja daje retčanu kanonsku formu matrice koja zadovoljava sva četiri gore navedena uvjeta.</p>\n",
    "<ol type=\"a\"> </ol>"
   ]
  },
  {
   "cell_type": "code",
   "execution_count": 58,
   "metadata": {},
   "outputs": [],
   "source": [
    "A=matrix(QQ,[[1,2,-1,3],[2,4,1,-2],[3,6,3,-7]])\n",
    "B=matrix(QQ,[[1,2,-4,11],[2,4,-5,14]])"
   ]
  },
  {
   "cell_type": "markdown",
   "metadata": {},
   "source": [
    "<p>Definiramo matrice čiji retci se sastoje od vektora koji razapinju pojedine prostore.</p>"
   ]
  },
  {
   "cell_type": "code",
   "execution_count": 59,
   "metadata": {},
   "outputs": [
    {
     "data": {
      "text/html": [
       "<html>\\[\\newcommand{\\Bold}[1]{\\mathbf{#1}}\\left(\\left(\\begin{array}{rrrr}\n",
       "1 & 2 & -1 & 3 \\\\\n",
       "2 & 4 & 1 & -2 \\\\\n",
       "3 & 6 & 3 & -7\n",
       "\\end{array}\\right), \\left(\\begin{array}{rrrr}\n",
       "1 & 2 & -4 & 11 \\\\\n",
       "2 & 4 & -5 & 14\n",
       "\\end{array}\\right)\\right)\\]</html>"
      ],
      "text/latex": [
       "$$\\newcommand{\\Bold}[1]{\\mathbf{#1}}\\left(\\left(\\begin{array}{rrrr}\n",
       "1 & 2 & -1 & 3 \\\\\n",
       "2 & 4 & 1 & -2 \\\\\n",
       "3 & 6 & 3 & -7\n",
       "\\end{array}\\right), \\left(\\begin{array}{rrrr}\n",
       "1 & 2 & -4 & 11 \\\\\n",
       "2 & 4 & -5 & 14\n",
       "\\end{array}\\right)\\right)$$"
      ],
      "text/plain": [
       "(\n",
       "[ 1  2 -1  3]               \n",
       "[ 2  4  1 -2]  [ 1  2 -4 11]\n",
       "[ 3  6  3 -7], [ 2  4 -5 14]\n",
       ")"
      ]
     },
     "execution_count": 59,
     "metadata": {},
     "output_type": "execute_result"
    }
   ],
   "source": [
    "A,B"
   ]
  },
  {
   "cell_type": "markdown",
   "metadata": {},
   "source": [
    "<p style=\"line-height:25px;\">Elementarnim transformacijama nad retcima pronađemo retčane kanonske forme matrica $A$ i $B$. Kako njihove retčane kanonske forme imaju jednake nenul retke, retci matrica $A$ i $B$ razapinju isti potprostor, tj. $U=W$.</p>"
   ]
  },
  {
   "cell_type": "code",
   "execution_count": 60,
   "metadata": {},
   "outputs": [
    {
     "data": {
      "text/html": [
       "<html>\\[\\newcommand{\\Bold}[1]{\\mathbf{#1}}\\left(\\left(\\begin{array}{rrrr}\n",
       "1 & 2 & 0 & \\frac{1}{3} \\\\\n",
       "0 & 0 & 1 & -\\frac{8}{3} \\\\\n",
       "0 & 0 & 0 & 0\n",
       "\\end{array}\\right), \\left(\\begin{array}{rrrr}\n",
       "1 & 2 & 0 & \\frac{1}{3} \\\\\n",
       "0 & 0 & 1 & -\\frac{8}{3}\n",
       "\\end{array}\\right)\\right)\\]</html>"
      ],
      "text/latex": [
       "$$\\newcommand{\\Bold}[1]{\\mathbf{#1}}\\left(\\left(\\begin{array}{rrrr}\n",
       "1 & 2 & 0 & \\frac{1}{3} \\\\\n",
       "0 & 0 & 1 & -\\frac{8}{3} \\\\\n",
       "0 & 0 & 0 & 0\n",
       "\\end{array}\\right), \\left(\\begin{array}{rrrr}\n",
       "1 & 2 & 0 & \\frac{1}{3} \\\\\n",
       "0 & 0 & 1 & -\\frac{8}{3}\n",
       "\\end{array}\\right)\\right)$$"
      ],
      "text/plain": [
       "(\n",
       "[   1    2    0  1/3]                       \n",
       "[   0    0    1 -8/3]  [   1    2    0  1/3]\n",
       "[   0    0    0    0], [   0    0    1 -8/3]\n",
       ")"
      ]
     },
     "execution_count": 60,
     "metadata": {},
     "output_type": "execute_result"
    }
   ],
   "source": [
    "A.echelon_form(),B.echelon_form()"
   ]
  },
  {
   "cell_type": "code",
   "execution_count": 61,
   "metadata": {},
   "outputs": [],
   "source": [
    "A1=matrix([[1,2,-1,3],[2,4,1,-2],[3,6,3,-7]])\n",
    "B1=matrix([[1,2,-4,11],[2,4,-5,14]])"
   ]
  },
  {
   "cell_type": "markdown",
   "metadata": {},
   "source": [
    "<p style=\"line-height:25px;\">Sada SAGE shvaća matrice A1 i B1 po defaultu kao matrice nad prstenom $\\mathbb{Z}$ (jer su svi elementi u matricama cijeli brojevi, a nismo mu ništa posebno naglasili nad kojim skupom da promatra matrice). Gornju definiciju smo zapravo dali za matrice čiji elementi pripadaju nekom polju. Stoga moramo biti oprezni da SAGE-u sve precizno kažemo jer on zna i puno općenitije stvari od vektorskih prostora.</p>"
   ]
  },
  {
   "cell_type": "code",
   "execution_count": 62,
   "metadata": {},
   "outputs": [
    {
     "data": {
      "text/html": [
       "<html>\\[\\newcommand{\\Bold}[1]{\\mathbf{#1}}\\left(\\left(\\begin{array}{rrrr}\n",
       "1 & 2 & 2 & -5 \\\\\n",
       "0 & 0 & 3 & -8 \\\\\n",
       "0 & 0 & 0 & 0\n",
       "\\end{array}\\right), \\left(\\begin{array}{rrrr}\n",
       "1 & 2 & 2 & -5 \\\\\n",
       "0 & 0 & 3 & -8\n",
       "\\end{array}\\right)\\right)\\]</html>"
      ],
      "text/latex": [
       "$$\\newcommand{\\Bold}[1]{\\mathbf{#1}}\\left(\\left(\\begin{array}{rrrr}\n",
       "1 & 2 & 2 & -5 \\\\\n",
       "0 & 0 & 3 & -8 \\\\\n",
       "0 & 0 & 0 & 0\n",
       "\\end{array}\\right), \\left(\\begin{array}{rrrr}\n",
       "1 & 2 & 2 & -5 \\\\\n",
       "0 & 0 & 3 & -8\n",
       "\\end{array}\\right)\\right)$$"
      ],
      "text/plain": [
       "(\n",
       "[ 1  2  2 -5]               \n",
       "[ 0  0  3 -8]  [ 1  2  2 -5]\n",
       "[ 0  0  0  0], [ 0  0  3 -8]\n",
       ")"
      ]
     },
     "execution_count": 62,
     "metadata": {},
     "output_type": "execute_result"
    }
   ],
   "source": [
    "A1.echelon_form(),B1.echelon_form()"
   ]
  },
  {
   "cell_type": "code",
   "execution_count": 63,
   "metadata": {},
   "outputs": [
    {
     "data": {
      "text/html": [
       "<html>\\[\\newcommand{\\Bold}[1]{\\mathbf{#1}}\\left(\\Bold{Q}, \\Bold{Z}\\right)\\]</html>"
      ],
      "text/latex": [
       "$$\\newcommand{\\Bold}[1]{\\mathbf{#1}}\\left(\\Bold{Q}, \\Bold{Z}\\right)$$"
      ],
      "text/plain": [
       "(Rational Field, Integer Ring)"
      ]
     },
     "execution_count": 63,
     "metadata": {},
     "output_type": "execute_result"
    }
   ],
   "source": [
    "A.base_ring(),A1.base_ring()"
   ]
  },
  {
   "cell_type": "markdown",
   "metadata": {},
   "source": [
    "<h2>Zadaci</h2>"
   ]
  },
  {
   "cell_type": "markdown",
   "metadata": {},
   "source": [
    "<div style=\"background-color: #F5FFFA; color: #000000; border: 2px solid #B0C4DE; border-radius: 15px; padding:0px 10px 25px; overflow:auto\">\n",
    "<h3>1. zadatak</h3>\n",
    "<p>U prostoru $\\mathbb{R}^4$ promatramo sljedeće skupove vektora:</p>\n",
    "<ol style=\"list-style-type:lower-alpha;\">\n",
    "<li style=\"line-height:30px;\">$(1,2,-3,1), (2,0,4,1), (5,-4,14,-3)$</li>\n",
    "<li style=\"line-height:30px;\">$(2,1,2,1), (6,3,6,3), (5,1,4,3)$</li>\n",
    "<li style=\"line-height:30px;\">$(1,1,0,0), (1,0,1,0), (0,1,1,0)$</li>\n",
    "</ol>\n",
    "<p style=\"line-height:25px;\">Ispitajte koji su od navedenih skupova linearno nezavisni, a koji linearno zavisni. Izrazite pojedini vektor iz skupa kao linearnu kombinaciju preostalih, kad god je to moguće.</p>\n",
    "</div>\n",
    "<h3>Rješenje</h3>\n",
    "<p><strong>1. način: rješavanje homogenog sustava jednadžbi</strong></p>"
   ]
  },
  {
   "cell_type": "code",
   "execution_count": 64,
   "metadata": {},
   "outputs": [
    {
     "data": {
      "text/html": [
       "<html>\\[\\newcommand{\\Bold}[1]{\\mathbf{#1}}\\left(x + 2 \\, y + 5 \\, z,\\,2 \\, x - 4 \\, z,\\,-3 \\, x + 4 \\, y + 14 \\, z,\\,x + y - 3 \\, z\\right)\\]</html>"
      ],
      "text/latex": [
       "$$\\newcommand{\\Bold}[1]{\\mathbf{#1}}\\left(x + 2 \\, y + 5 \\, z,\\,2 \\, x - 4 \\, z,\\,-3 \\, x + 4 \\, y + 14 \\, z,\\,x + y - 3 \\, z\\right)$$"
      ],
      "text/plain": [
       "(x + 2*y + 5*z, 2*x - 4*z, -3*x + 4*y + 14*z, x + y - 3*z)"
      ]
     },
     "execution_count": 64,
     "metadata": {},
     "output_type": "execute_result"
    }
   ],
   "source": [
    "var(\"x y z\")\n",
    "a1=vector((1,2,-3,1))\n",
    "a2=vector((2,0,4,1))\n",
    "a3=vector((5,-4,14,-3))\n",
    "komb=x*a1+y*a2+z*a3; komb"
   ]
  },
  {
   "cell_type": "markdown",
   "metadata": {},
   "source": [
    "<p>Kako pripadni homogeni sustav ima samo trivijalno rješenje, vektori iz a) dijela zadatka su linearno nezavisni.</p>"
   ]
  },
  {
   "cell_type": "code",
   "execution_count": 65,
   "metadata": {},
   "outputs": [
    {
     "data": {
      "text/html": [
       "<html>\\[\\newcommand{\\Bold}[1]{\\mathbf{#1}}\\left[\\left[x = 0, y = 0, z = 0\\right]\\right]\\]</html>"
      ],
      "text/latex": [
       "$$\\newcommand{\\Bold}[1]{\\mathbf{#1}}\\left[\\left[x = 0, y = 0, z = 0\\right]\\right]$$"
      ],
      "text/plain": [
       "[[x == 0, y == 0, z == 0]]"
      ]
     },
     "execution_count": 65,
     "metadata": {},
     "output_type": "execute_result"
    }
   ],
   "source": [
    "solve([komb[0]==0,komb[1]==0,komb[2]==0,komb[3]==0],[x,y,z])"
   ]
  },
  {
   "cell_type": "code",
   "execution_count": 66,
   "metadata": {},
   "outputs": [
    {
     "data": {
      "text/html": [
       "<html>\\[\\newcommand{\\Bold}[1]{\\mathbf{#1}}\\left(2 \\, x + 6 \\, y + 5 \\, z,\\,x + 3 \\, y + z,\\,2 \\, x + 6 \\, y + 4 \\, z,\\,x + 3 \\, y + 3 \\, z\\right)\\]</html>"
      ],
      "text/latex": [
       "$$\\newcommand{\\Bold}[1]{\\mathbf{#1}}\\left(2 \\, x + 6 \\, y + 5 \\, z,\\,x + 3 \\, y + z,\\,2 \\, x + 6 \\, y + 4 \\, z,\\,x + 3 \\, y + 3 \\, z\\right)$$"
      ],
      "text/plain": [
       "(2*x + 6*y + 5*z, x + 3*y + z, 2*x + 6*y + 4*z, x + 3*y + 3*z)"
      ]
     },
     "execution_count": 66,
     "metadata": {},
     "output_type": "execute_result"
    }
   ],
   "source": [
    "b1=vector((2,1,2,1))\n",
    "b2=vector((6,3,6,3))\n",
    "b3=vector((5,1,4,3))\n",
    "komb2=x*b1+y*b2+z*b3; komb2"
   ]
  },
  {
   "cell_type": "markdown",
   "metadata": {},
   "source": [
    "<p>Kako pripadni homogeni sustav ima i netrivijalnih rješenja, vektori iz b) dijela zadatka su linearno zavisni.</p>"
   ]
  },
  {
   "cell_type": "code",
   "execution_count": 67,
   "metadata": {},
   "outputs": [
    {
     "data": {
      "text/html": [
       "<html>\\[\\newcommand{\\Bold}[1]{\\mathbf{#1}}\\left[\\left[x = -3 \\, r_{1}, y = r_{1}, z = 0\\right]\\right]\\]</html>"
      ],
      "text/latex": [
       "$$\\newcommand{\\Bold}[1]{\\mathbf{#1}}\\left[\\left[x = -3 \\, r_{1}, y = r_{1}, z = 0\\right]\\right]$$"
      ],
      "text/plain": [
       "[[x == -3*r1, y == r1, z == 0]]"
      ]
     },
     "execution_count": 67,
     "metadata": {},
     "output_type": "execute_result"
    }
   ],
   "source": [
    "solve([komb2[0]==0,komb2[1]==0,komb2[2]==0,komb2[3]==0],[x,y,z])"
   ]
  },
  {
   "cell_type": "code",
   "execution_count": 68,
   "metadata": {},
   "outputs": [
    {
     "data": {
      "text/html": [
       "<html>\\[\\newcommand{\\Bold}[1]{\\mathbf{#1}}\\left(x + y,\\,x + z,\\,y + z,\\,0\\right)\\]</html>"
      ],
      "text/latex": [
       "$$\\newcommand{\\Bold}[1]{\\mathbf{#1}}\\left(x + y,\\,x + z,\\,y + z,\\,0\\right)$$"
      ],
      "text/plain": [
       "(x + y, x + z, y + z, 0)"
      ]
     },
     "execution_count": 68,
     "metadata": {},
     "output_type": "execute_result"
    }
   ],
   "source": [
    "c1=vector((1,1,0,0))\n",
    "c2=vector((1,0,1,0))\n",
    "c3=vector((0,1,1,0))\n",
    "komb3=x*c1+y*c2+z*c3; komb3"
   ]
  },
  {
   "cell_type": "markdown",
   "metadata": {},
   "source": [
    "<p><span id=\"cell_outer_120\">\n",
    "<div id=\"cell_text_120\">\n",
    "<p>Kako pripadni homogeni sustav ima samo trivijalno rješenje, vektori iz c) dijela zadatka su linearno nezavisni.</p>\n",
    "</div>\n",
    "</span></p>\n",
    "<div id=\"cell_outer_119\">\n",
    "<div id=\"cell_119\"></div>\n",
    "</div>"
   ]
  },
  {
   "cell_type": "code",
   "execution_count": 69,
   "metadata": {},
   "outputs": [
    {
     "data": {
      "text/html": [
       "<html>\\[\\newcommand{\\Bold}[1]{\\mathbf{#1}}\\left[\\left[x = 0, y = 0, z = 0\\right]\\right]\\]</html>"
      ],
      "text/latex": [
       "$$\\newcommand{\\Bold}[1]{\\mathbf{#1}}\\left[\\left[x = 0, y = 0, z = 0\\right]\\right]$$"
      ],
      "text/plain": [
       "[[x == 0, y == 0, z == 0]]"
      ]
     },
     "execution_count": 69,
     "metadata": {},
     "output_type": "execute_result"
    }
   ],
   "source": [
    "solve([komb3[0]==0,komb3[1]==0,komb3[2]==0,komb3[3]==0],[x,y,z])"
   ]
  },
  {
   "cell_type": "markdown",
   "metadata": {},
   "source": [
    "<p><strong>2. način: računanje ranga matrice</strong></p>\n",
    "\n",
    "<p style=\"line-height:25px;\">Vektore smjestimo u stupce jedne matrice i izračunamo rang te matrice. Ako je matrica maksimalnog ranga (rang je jednak broju vektora), tada su vektori linearno nezavisni. Ako pak je rang matrice strogo manji od broja vektora, vektori su linearno zavisni.</p>"
   ]
  },
  {
   "cell_type": "code",
   "execution_count": 70,
   "metadata": {},
   "outputs": [
    {
     "data": {
      "text/html": [
       "<html>\\[\\newcommand{\\Bold}[1]{\\mathbf{#1}}\\left(\\begin{array}{rrr}\n",
       "1 & 2 & 5 \\\\\n",
       "2 & 0 & -4 \\\\\n",
       "-3 & 4 & 14 \\\\\n",
       "1 & 1 & -3\n",
       "\\end{array}\\right)\\]</html>"
      ],
      "text/latex": [
       "$$\\newcommand{\\Bold}[1]{\\mathbf{#1}}\\left(\\begin{array}{rrr}\n",
       "1 & 2 & 5 \\\\\n",
       "2 & 0 & -4 \\\\\n",
       "-3 & 4 & 14 \\\\\n",
       "1 & 1 & -3\n",
       "\\end{array}\\right)$$"
      ],
      "text/plain": [
       "[ 1  2  5]\n",
       "[ 2  0 -4]\n",
       "[-3  4 14]\n",
       "[ 1  1 -3]"
      ]
     },
     "execution_count": 70,
     "metadata": {},
     "output_type": "execute_result"
    }
   ],
   "source": [
    "A=matrix([a1,a2,a3]).transpose(); A"
   ]
  },
  {
   "cell_type": "markdown",
   "metadata": {},
   "source": [
    "<p>Matrica $A$ je maksimalnog ranga pa su vektori iz a) dijela zadatka linearno nezavisni.</p>"
   ]
  },
  {
   "cell_type": "code",
   "execution_count": 71,
   "metadata": {},
   "outputs": [
    {
     "data": {
      "text/html": [
       "<html>\\[\\newcommand{\\Bold}[1]{\\mathbf{#1}}3\\]</html>"
      ],
      "text/latex": [
       "$$\\newcommand{\\Bold}[1]{\\mathbf{#1}}3$$"
      ],
      "text/plain": [
       "3"
      ]
     },
     "execution_count": 71,
     "metadata": {},
     "output_type": "execute_result"
    }
   ],
   "source": [
    "rank(A)"
   ]
  },
  {
   "cell_type": "code",
   "execution_count": 72,
   "metadata": {},
   "outputs": [
    {
     "data": {
      "text/html": [
       "<html>\\[\\newcommand{\\Bold}[1]{\\mathbf{#1}}\\left(\\begin{array}{rrr}\n",
       "2 & 6 & 5 \\\\\n",
       "1 & 3 & 1 \\\\\n",
       "2 & 6 & 4 \\\\\n",
       "1 & 3 & 3\n",
       "\\end{array}\\right)\\]</html>"
      ],
      "text/latex": [
       "$$\\newcommand{\\Bold}[1]{\\mathbf{#1}}\\left(\\begin{array}{rrr}\n",
       "2 & 6 & 5 \\\\\n",
       "1 & 3 & 1 \\\\\n",
       "2 & 6 & 4 \\\\\n",
       "1 & 3 & 3\n",
       "\\end{array}\\right)$$"
      ],
      "text/plain": [
       "[2 6 5]\n",
       "[1 3 1]\n",
       "[2 6 4]\n",
       "[1 3 3]"
      ]
     },
     "execution_count": 72,
     "metadata": {},
     "output_type": "execute_result"
    }
   ],
   "source": [
    "B=matrix([b1,b2,b3]).transpose(); B"
   ]
  },
  {
   "cell_type": "markdown",
   "metadata": {},
   "source": [
    "<p>Matrica $B$ nije maksimalnog ranga pa su vektori iz b) dijela zadatka linearno zavisni.</p>"
   ]
  },
  {
   "cell_type": "code",
   "execution_count": 73,
   "metadata": {},
   "outputs": [
    {
     "data": {
      "text/html": [
       "<html>\\[\\newcommand{\\Bold}[1]{\\mathbf{#1}}2\\]</html>"
      ],
      "text/latex": [
       "$$\\newcommand{\\Bold}[1]{\\mathbf{#1}}2$$"
      ],
      "text/plain": [
       "2"
      ]
     },
     "execution_count": 73,
     "metadata": {},
     "output_type": "execute_result"
    }
   ],
   "source": [
    "B.rank()"
   ]
  },
  {
   "cell_type": "markdown",
   "metadata": {},
   "source": [
    "<p>Matrica $C$ je maksimalnog ranga pa su vektori iz c) dijela zadatka linearno nezavisni.</p>"
   ]
  },
  {
   "cell_type": "code",
   "execution_count": 74,
   "metadata": {},
   "outputs": [
    {
     "data": {
      "text/html": [
       "<html>\\[\\newcommand{\\Bold}[1]{\\mathbf{#1}}\\left(\\begin{array}{rrr}\n",
       "1 & 1 & 0 \\\\\n",
       "1 & 0 & 1 \\\\\n",
       "0 & 1 & 1 \\\\\n",
       "0 & 0 & 0\n",
       "\\end{array}\\right)\\]</html>"
      ],
      "text/latex": [
       "$$\\newcommand{\\Bold}[1]{\\mathbf{#1}}\\left(\\begin{array}{rrr}\n",
       "1 & 1 & 0 \\\\\n",
       "1 & 0 & 1 \\\\\n",
       "0 & 1 & 1 \\\\\n",
       "0 & 0 & 0\n",
       "\\end{array}\\right)$$"
      ],
      "text/plain": [
       "[1 1 0]\n",
       "[1 0 1]\n",
       "[0 1 1]\n",
       "[0 0 0]"
      ]
     },
     "execution_count": 74,
     "metadata": {},
     "output_type": "execute_result"
    }
   ],
   "source": [
    "C=matrix([c1,c2,c3]).transpose(); C"
   ]
  },
  {
   "cell_type": "code",
   "execution_count": 75,
   "metadata": {},
   "outputs": [
    {
     "data": {
      "text/html": [
       "<html>\\[\\newcommand{\\Bold}[1]{\\mathbf{#1}}3\\]</html>"
      ],
      "text/latex": [
       "$$\\newcommand{\\Bold}[1]{\\mathbf{#1}}3$$"
      ],
      "text/plain": [
       "3"
      ]
     },
     "execution_count": 75,
     "metadata": {},
     "output_type": "execute_result"
    }
   ],
   "source": [
    "C.rank()"
   ]
  },
  {
   "cell_type": "markdown",
   "metadata": {},
   "source": [
    "<p style=\"line-height:25px;\">Kako su vektori u a) i c) dijelu zadatka linearno nezavisni, niti jedan od tih vektora ne možemo izraziti kao linearnu kombinaciju preostalih vektora iz promatranog skupa. Vektori u b) dijelu zadatka su linearno zavisni pa se barem jedan vektor iz tog skupa može prikazati kao linearna kombinacija preostalih vektora.</p>\n",
    "\n",
    "<p style=\"line-height:30px;\">Rješavanjem homogenog sustava u b) dijelu zadatka smo dobili $x=-3r_1, y=r_1, z=0$. Kako je uvijek $z=0$, slijedi da je vektor $(5,1,4,3)$ nemoguće izraziti pomoću vektora $(2,1,2,1)$ i $(6,3,6,3)$. Nadalje, $x$ i $y$ ne moraju uvijek biti jednaki 0, što znači da svaki od vektora $(2,1,2,1)$ i $(6,3,6,3)$ možemo izraziti kao linearnu kombinaciju preostalih vektora.</p>\n",
    "\n",
    "<p>$(2,1,2,1)=\\frac{1}{3}\\cdot(6,3,6,3)+0\\cdot(5,1,4,3)$</p>"
   ]
  },
  {
   "cell_type": "code",
   "execution_count": 76,
   "metadata": {},
   "outputs": [
    {
     "data": {
      "text/html": [
       "<html>\\[\\newcommand{\\Bold}[1]{\\mathbf{#1}}\\left[6 \\, x + 5 \\, y = 2, 3 \\, x + y = 1, 6 \\, x + 4 \\, y = 2, 3 \\, x + 3 \\, y = 1\\right]\\]</html>"
      ],
      "text/latex": [
       "$$\\newcommand{\\Bold}[1]{\\mathbf{#1}}\\left[6 \\, x + 5 \\, y = 2, 3 \\, x + y = 1, 6 \\, x + 4 \\, y = 2, 3 \\, x + 3 \\, y = 1\\right]$$"
      ],
      "text/plain": [
       "[6*x + 5*y == 2, 3*x + y == 1, 6*x + 4*y == 2, 3*x + 3*y == 1]"
      ]
     },
     "execution_count": 76,
     "metadata": {},
     "output_type": "execute_result"
    }
   ],
   "source": [
    "izraz1=x*b2+y*b3\n",
    "sustav1=[izraz1[0]==b1[0],izraz1[1]==b1[1],izraz1[2]==b1[2],izraz1[3]==b1[3]]; sustav1"
   ]
  },
  {
   "cell_type": "code",
   "execution_count": 77,
   "metadata": {},
   "outputs": [
    {
     "data": {
      "text/html": [
       "<html>\\[\\newcommand{\\Bold}[1]{\\mathbf{#1}}\\left[\\left[x = \\left(\\frac{1}{3}\\right), y = 0\\right]\\right]\\]</html>"
      ],
      "text/latex": [
       "$$\\newcommand{\\Bold}[1]{\\mathbf{#1}}\\left[\\left[x = \\left(\\frac{1}{3}\\right), y = 0\\right]\\right]$$"
      ],
      "text/plain": [
       "[[x == (1/3), y == 0]]"
      ]
     },
     "execution_count": 77,
     "metadata": {},
     "output_type": "execute_result"
    }
   ],
   "source": [
    "solve(sustav1,[x,y])"
   ]
  },
  {
   "cell_type": "markdown",
   "metadata": {},
   "source": [
    "<p>$(6,3,6,3)=3\\cdot(2,1,2,1)+0\\cdot(5,1,4,3)$</p>"
   ]
  },
  {
   "cell_type": "code",
   "execution_count": 78,
   "metadata": {},
   "outputs": [
    {
     "data": {
      "text/html": [
       "<html>\\[\\newcommand{\\Bold}[1]{\\mathbf{#1}}\\left[2 \\, x + 5 \\, y = 6, x + y = 3, 2 \\, x + 4 \\, y = 6, x + 3 \\, y = 3\\right]\\]</html>"
      ],
      "text/latex": [
       "$$\\newcommand{\\Bold}[1]{\\mathbf{#1}}\\left[2 \\, x + 5 \\, y = 6, x + y = 3, 2 \\, x + 4 \\, y = 6, x + 3 \\, y = 3\\right]$$"
      ],
      "text/plain": [
       "[2*x + 5*y == 6, x + y == 3, 2*x + 4*y == 6, x + 3*y == 3]"
      ]
     },
     "execution_count": 78,
     "metadata": {},
     "output_type": "execute_result"
    }
   ],
   "source": [
    "izraz2=x*b1+y*b3\n",
    "sustav2=[izraz2[0]==b2[0],izraz2[1]==b2[1],izraz2[2]==b2[2],izraz2[3]==b2[3]]; sustav2"
   ]
  },
  {
   "cell_type": "code",
   "execution_count": 79,
   "metadata": {},
   "outputs": [
    {
     "data": {
      "text/html": [
       "<html>\\[\\newcommand{\\Bold}[1]{\\mathbf{#1}}\\left[\\left[x = 3, y = 0\\right]\\right]\\]</html>"
      ],
      "text/latex": [
       "$$\\newcommand{\\Bold}[1]{\\mathbf{#1}}\\left[\\left[x = 3, y = 0\\right]\\right]$$"
      ],
      "text/plain": [
       "[[x == 3, y == 0]]"
      ]
     },
     "execution_count": 79,
     "metadata": {},
     "output_type": "execute_result"
    }
   ],
   "source": [
    "solve(sustav2,[x,y])"
   ]
  },
  {
   "cell_type": "markdown",
   "metadata": {},
   "source": [
    "<p>vektor $(5,1,4,3)$ se ne može prikazati kao linearna kombinacija vektora $(2,1,2,1)$ i $(6,3,6,3)$</p>"
   ]
  },
  {
   "cell_type": "code",
   "execution_count": 80,
   "metadata": {},
   "outputs": [
    {
     "data": {
      "text/html": [
       "<html>\\[\\newcommand{\\Bold}[1]{\\mathbf{#1}}\\left[2 \\, x + 6 \\, y = 5, x + 3 \\, y = 1, 2 \\, x + 6 \\, y = 4, x + 3 \\, y = 3\\right]\\]</html>"
      ],
      "text/latex": [
       "$$\\newcommand{\\Bold}[1]{\\mathbf{#1}}\\left[2 \\, x + 6 \\, y = 5, x + 3 \\, y = 1, 2 \\, x + 6 \\, y = 4, x + 3 \\, y = 3\\right]$$"
      ],
      "text/plain": [
       "[2*x + 6*y == 5, x + 3*y == 1, 2*x + 6*y == 4, x + 3*y == 3]"
      ]
     },
     "execution_count": 80,
     "metadata": {},
     "output_type": "execute_result"
    }
   ],
   "source": [
    "izraz3=x*b1+y*b2\n",
    "sustav3=[izraz3[0]==b3[0],izraz3[1]==b3[1],izraz3[2]==b3[2],izraz3[3]==b3[3]]; sustav3"
   ]
  },
  {
   "cell_type": "code",
   "execution_count": 81,
   "metadata": {},
   "outputs": [
    {
     "data": {
      "text/html": [
       "<html>\\[\\newcommand{\\Bold}[1]{\\mathbf{#1}}\\left[\\right]\\]</html>"
      ],
      "text/latex": [
       "$$\\newcommand{\\Bold}[1]{\\mathbf{#1}}\\left[\\right]$$"
      ],
      "text/plain": [
       "[]"
      ]
     },
     "execution_count": 81,
     "metadata": {},
     "output_type": "execute_result"
    }
   ],
   "source": [
    "solve(sustav3,[x,y])"
   ]
  },
  {
   "cell_type": "markdown",
   "metadata": {},
   "source": [
    "<div style=\"background-color: #F5FFFA; color: #000000; border: 2px solid #B0C4DE; border-radius: 15px; padding:0px 10px 25px; overflow:auto\">\n",
    "<h3>2. zadatak</h3>\n",
    "<p>Riješite jednadžbu $17a+6x=-13b$ u prostoru $\\mathbb{R}^3$ ako je $a=(5,2,3)$ i $b=(6,-4,3)$.</p>\n",
    "</div>\n",
    "<h3>Rješenje</h3>"
   ]
  },
  {
   "cell_type": "code",
   "execution_count": 82,
   "metadata": {},
   "outputs": [],
   "source": [
    "var(\"x_1 x_2 x_3\")\n",
    "a=vector((5,2,3))\n",
    "b=vector((6,-4,3))\n",
    "x=vector((x_1,x_2,x_3))"
   ]
  },
  {
   "cell_type": "code",
   "execution_count": 83,
   "metadata": {},
   "outputs": [
    {
     "data": {
      "text/html": [
       "<html>\\[\\newcommand{\\Bold}[1]{\\mathbf{#1}}\\left[6 \\, x_{1} + 85 = \\left(-78\\right), 6 \\, x_{2} + 34 = 52, 6 \\, x_{3} + 51 = \\left(-39\\right)\\right]\\]</html>"
      ],
      "text/latex": [
       "$$\\newcommand{\\Bold}[1]{\\mathbf{#1}}\\left[6 \\, x_{1} + 85 = \\left(-78\\right), 6 \\, x_{2} + 34 = 52, 6 \\, x_{3} + 51 = \\left(-39\\right)\\right]$$"
      ],
      "text/plain": [
       "[6*x_1 + 85 == -78, 6*x_2 + 34 == 52, 6*x_3 + 51 == -39]"
      ]
     },
     "execution_count": 83,
     "metadata": {},
     "output_type": "execute_result"
    }
   ],
   "source": [
    "lijeva=17*a+6*x\n",
    "desna=-13*b\n",
    "sustav=[lijeva[k]==desna[k] for k in range(0,3)]; sustav"
   ]
  },
  {
   "cell_type": "markdown",
   "metadata": {},
   "source": [
    "<p>$x=\\big(-\\frac{163}{6},3,-15\\big)$</p>"
   ]
  },
  {
   "cell_type": "code",
   "execution_count": 84,
   "metadata": {},
   "outputs": [
    {
     "data": {
      "text/html": [
       "<html>\\[\\newcommand{\\Bold}[1]{\\mathbf{#1}}\\left[\\left[x_{1} = \\left(-\\frac{163}{6}\\right), x_{2} = 3, x_{3} = \\left(-15\\right)\\right]\\right]\\]</html>"
      ],
      "text/latex": [
       "$$\\newcommand{\\Bold}[1]{\\mathbf{#1}}\\left[\\left[x_{1} = \\left(-\\frac{163}{6}\\right), x_{2} = 3, x_{3} = \\left(-15\\right)\\right]\\right]$$"
      ],
      "text/plain": [
       "[[x_1 == (-163/6), x_2 == 3, x_3 == -15]]"
      ]
     },
     "execution_count": 84,
     "metadata": {},
     "output_type": "execute_result"
    }
   ],
   "source": [
    "solve(sustav,[x_1,x_2,x_3])"
   ]
  },
  {
   "cell_type": "markdown",
   "metadata": {},
   "source": [
    "<div style=\"background-color: #F5FFFA; color: #000000; border: 2px solid #B0C4DE; border-radius: 15px; padding:0px 10px 25px; overflow:auto\">\n",
    "<h3>3. zadatak</h3>\n",
    "<p>Riješite jednadžbu $7a+(6-5i)x=(-3+7i)b$ u prostoru $\\mathbb{C}^3$ ako je $a=(5,2-i,3+7i)$ i $b=(6+2i,-4,3i)$.</p>\n",
    "</div>\n",
    "<h3>Rješenje</h3>"
   ]
  },
  {
   "cell_type": "code",
   "execution_count": 85,
   "metadata": {},
   "outputs": [],
   "source": [
    "a=vector((5,2-I,3+7*I))\n",
    "b=vector((6+2*I,-4,3*I))\n",
    "x=vector((x_1,x_2,x_3))"
   ]
  },
  {
   "cell_type": "code",
   "execution_count": 86,
   "metadata": {},
   "outputs": [
    {
     "data": {
      "text/html": [
       "<html>\\[\\newcommand{\\Bold}[1]{\\mathbf{#1}}\\left[-\\left(5 i - 6\\right) \\, x_{1} + 35 = \\left(36 i - 32\\right), -\\left(5 i - 6\\right) \\, x_{2} - 7 i + 14 = \\left(-28 i + 12\\right), -\\left(5 i - 6\\right) \\, x_{3} + 49 i + 21 = \\left(-9 i - 21\\right)\\right]\\]</html>"
      ],
      "text/latex": [
       "$$\\newcommand{\\Bold}[1]{\\mathbf{#1}}\\left[-\\left(5 i - 6\\right) \\, x_{1} + 35 = \\left(36 i - 32\\right), -\\left(5 i - 6\\right) \\, x_{2} - 7 i + 14 = \\left(-28 i + 12\\right), -\\left(5 i - 6\\right) \\, x_{3} + 49 i + 21 = \\left(-9 i - 21\\right)\\right]$$"
      ],
      "text/plain": [
       "[-(5*I - 6)*x_1 + 35 == (36*I - 32),\n",
       " -(5*I - 6)*x_2 - 7*I + 14 == (-28*I + 12),\n",
       " -(5*I - 6)*x_3 + 49*I + 21 == (-9*I - 21)]"
      ]
     },
     "execution_count": 86,
     "metadata": {},
     "output_type": "execute_result"
    }
   ],
   "source": [
    "lijeva=7*a+(6-5*I)*x\n",
    "desna=(-3+7*I)*b\n",
    "sustav=[lijeva[k]==desna[k] for k in range(0,3)]; sustav"
   ]
  },
  {
   "cell_type": "code",
   "execution_count": 87,
   "metadata": {},
   "outputs": [
    {
     "data": {
      "text/html": [
       "<html>\\[\\newcommand{\\Bold}[1]{\\mathbf{#1}}\\left[\\left[x_{1} = \\left(-\\frac{119}{61} i - \\frac{582}{61}\\right), x_{2} = \\left(-\\frac{136}{61} i + \\frac{93}{61}\\right), x_{3} = \\left(-\\frac{558}{61} i + \\frac{38}{61}\\right)\\right]\\right]\\]</html>"
      ],
      "text/latex": [
       "$$\\newcommand{\\Bold}[1]{\\mathbf{#1}}\\left[\\left[x_{1} = \\left(-\\frac{119}{61} i - \\frac{582}{61}\\right), x_{2} = \\left(-\\frac{136}{61} i + \\frac{93}{61}\\right), x_{3} = \\left(-\\frac{558}{61} i + \\frac{38}{61}\\right)\\right]\\right]$$"
      ],
      "text/plain": [
       "[[x_1 == (-119/61*I - 582/61), x_2 == (-136/61*I + 93/61), x_3 == (-558/61*I + 38/61)]]"
      ]
     },
     "execution_count": 87,
     "metadata": {},
     "output_type": "execute_result"
    }
   ],
   "source": [
    "solve(sustav,[x_1,x_2,x_3])"
   ]
  },
  {
   "cell_type": "markdown",
   "metadata": {},
   "source": [
    "<div style=\"background-color: #F5FFFA; color: #000000; border: 2px solid #B0C4DE; border-radius: 15px; padding:0px 10px 25px; overflow:auto\">\n",
    "<h3>4. zadatak</h3>\n",
    "<p>Riješite jednadžbu $6a+17x=b$ u prostoru $\\mathcal{P}_4$ ako je $a=2-3t-6t^2+7t^3$ i $b=6+2t$.</p>\n",
    "</div>\n",
    "<h3>Rješenje</h3>"
   ]
  },
  {
   "cell_type": "code",
   "execution_count": 88,
   "metadata": {},
   "outputs": [],
   "source": [
    "var(\"k_0 k_1 k_2 k_3\")\n",
    "a=vector((2,-3,-6,7))\n",
    "b=vector((6,2,0,0))\n",
    "x=vector((k_0,k_1,k_2,k_3))"
   ]
  },
  {
   "cell_type": "code",
   "execution_count": 89,
   "metadata": {},
   "outputs": [
    {
     "data": {
      "text/html": [
       "<html>\\[\\newcommand{\\Bold}[1]{\\mathbf{#1}}\\left[17 \\, k_{0} + 12 = 6, 17 \\, k_{1} - 18 = 2, 17 \\, k_{2} - 36 = 0, 17 \\, k_{3} + 42 = 0\\right]\\]</html>"
      ],
      "text/latex": [
       "$$\\newcommand{\\Bold}[1]{\\mathbf{#1}}\\left[17 \\, k_{0} + 12 = 6, 17 \\, k_{1} - 18 = 2, 17 \\, k_{2} - 36 = 0, 17 \\, k_{3} + 42 = 0\\right]$$"
      ],
      "text/plain": [
       "[17*k_0 + 12 == 6, 17*k_1 - 18 == 2, 17*k_2 - 36 == 0, 17*k_3 + 42 == 0]"
      ]
     },
     "execution_count": 89,
     "metadata": {},
     "output_type": "execute_result"
    }
   ],
   "source": [
    "lijeva=6*a+17*x\n",
    "sustav=[lijeva[g]==b[g] for g in range(0,4)]; sustav"
   ]
  },
  {
   "cell_type": "markdown",
   "metadata": {},
   "source": [
    "<p>$x=-\\frac{6}{17}+\\frac{20}{17}t+\\frac{36}{17}t^2-\\frac{42}{17}t^3$</p>"
   ]
  },
  {
   "cell_type": "code",
   "execution_count": 90,
   "metadata": {},
   "outputs": [
    {
     "data": {
      "text/html": [
       "<html>\\[\\newcommand{\\Bold}[1]{\\mathbf{#1}}\\left[\\left[k_{0} = \\left(-\\frac{6}{17}\\right), k_{1} = \\left(\\frac{20}{17}\\right), k_{2} = \\left(\\frac{36}{17}\\right), k_{3} = \\left(-\\frac{42}{17}\\right)\\right]\\right]\\]</html>"
      ],
      "text/latex": [
       "$$\\newcommand{\\Bold}[1]{\\mathbf{#1}}\\left[\\left[k_{0} = \\left(-\\frac{6}{17}\\right), k_{1} = \\left(\\frac{20}{17}\\right), k_{2} = \\left(\\frac{36}{17}\\right), k_{3} = \\left(-\\frac{42}{17}\\right)\\right]\\right]$$"
      ],
      "text/plain": [
       "[[k_0 == (-6/17), k_1 == (20/17), k_2 == (36/17), k_3 == (-42/17)]]"
      ]
     },
     "execution_count": 90,
     "metadata": {},
     "output_type": "execute_result"
    }
   ],
   "source": [
    "solve(sustav,[k_0,k_1,k_2,k_3])"
   ]
  },
  {
   "cell_type": "markdown",
   "metadata": {},
   "source": [
    "<div style=\"background-color: #F5FFFA; color: #000000; border: 2px solid #B0C4DE; border-radius: 15px; padding:0px 10px 25px; overflow:auto\">\n",
    "<h3>5. zadatak</h3>\n",
    "<p>Odredite jednu bazu i dimenziju prostora rješenja $R(S)$ homogenog sustava</p>\n",
    "<p>$$\\begin{align}2x_1-3x_2+5x_3&=0\\\\[2pt] 4x_1-6x_2+10x_3&=0\\end{align}.$$</p>\n",
    "</div>\n",
    "<h3>Rješenje</h3>\n",
    "<p><strong>1. način: rješavanje zadanog homogenog sustava</strong></p>"
   ]
  },
  {
   "cell_type": "code",
   "execution_count": 91,
   "metadata": {},
   "outputs": [
    {
     "data": {
      "text/html": [
       "<html>\\[\\newcommand{\\Bold}[1]{\\mathbf{#1}}\\left[\\left[x_{1} = -\\frac{5}{2} \\, r_{2} + \\frac{3}{2} \\, r_{3}, x_{2} = r_{3}, x_{3} = r_{2}\\right]\\right]\\]</html>"
      ],
      "text/latex": [
       "$$\\newcommand{\\Bold}[1]{\\mathbf{#1}}\\left[\\left[x_{1} = -\\frac{5}{2} \\, r_{2} + \\frac{3}{2} \\, r_{3}, x_{2} = r_{3}, x_{3} = r_{2}\\right]\\right]$$"
      ],
      "text/plain": [
       "[[x_1 == -5/2*r2 + 3/2*r3, x_2 == r3, x_3 == r2]]"
      ]
     },
     "execution_count": 91,
     "metadata": {},
     "output_type": "execute_result"
    }
   ],
   "source": [
    "solve([2*x_1-3*x_2+5*x_3==0,4*x_1-6*x_2+10*x_3==0],[x_1,x_2,x_3])"
   ]
  },
  {
   "cell_type": "markdown",
   "metadata": {},
   "source": [
    "<p>$\\big(x_1,x_2,x_3\\big)=\\big(-\\frac{5}{2}r_2+\\frac{3}{2}r_3, r_3, r_2\\big)=r_2\\big(-\\frac{5}{2},0,1\\big)+r_3\\big(\\frac{3}{2},1,0\\big)$</p>\n",
    "\n",
    "<p style=\"line-height:35px;\">Iz općeg rješenja možemo očitati jednu bazu tako da gledamo brojeve uz parametre. U našem slučaju jedna baza za $R(S)$ je $\\mathcal{B}_1=\\big\\{\\big(-\\frac{5}{2},0,1\\big), \\big(\\frac{3}{2},1,0\\big)\\big\\}$ pa je $\\dim{R(S)}=2$.</p>\n",
    "\n",
    "<p style=\"line-height:25px;\">Da smo sustav riješili na drukčiji način, tj. da smo na primjer varijable $x_1$ i $x_2$ uzeli za parametre, dobili bismo jednu drugu bazu za $R(S)$, no dimenzija u svakom slučaju mora ostati ista.</p>"
   ]
  },
  {
   "cell_type": "code",
   "execution_count": 92,
   "metadata": {},
   "outputs": [
    {
     "data": {
      "text/html": [
       "<html>\\[\\newcommand{\\Bold}[1]{\\mathbf{#1}}\\left[\\left[x_{3} = \\frac{3}{5} \\, r_{4} - \\frac{2}{5} \\, r_{5}, x_{1} = r_{5}, x_{2} = r_{4}\\right]\\right]\\]</html>"
      ],
      "text/latex": [
       "$$\\newcommand{\\Bold}[1]{\\mathbf{#1}}\\left[\\left[x_{3} = \\frac{3}{5} \\, r_{4} - \\frac{2}{5} \\, r_{5}, x_{1} = r_{5}, x_{2} = r_{4}\\right]\\right]$$"
      ],
      "text/plain": [
       "[[x_3 == 3/5*r4 - 2/5*r5, x_1 == r5, x_2 == r4]]"
      ]
     },
     "execution_count": 92,
     "metadata": {},
     "output_type": "execute_result"
    }
   ],
   "source": [
    "solve([2*x_1-3*x_2+5*x_3==0,4*x_1-6*x_2+10*x_3==0],[x_3,x_1,x_2])"
   ]
  },
  {
   "cell_type": "markdown",
   "metadata": {},
   "source": [
    "<p>$\\big(x_1,x_2,x_3\\big)=\\big(r_5,r_4,\\frac{3}{5}r_4-\\frac{2}{5}r_5\\big)=r_4\\big(0,1,\\frac{3}{5}\\big)+r_5\\big(1,0,-\\frac{2}{5}\\big)$</p>\n",
    "\n",
    "<p>U ovom slučaju dobivamo jednu drugu bazu za $R(S)$ i to bazu $\\mathcal{B}_2=\\big\\{\\big(0,1,\\frac{3}{5}\\big), \\big(1,0,-\\frac{2}{5}\\big)\\big\\}$.</p>\n",
    "\n",
    "<p style=\"line-height:25px;\">Međutim, pretpostavimo da imamo u rješenju napisano da je baza za $R(S)$ skup $\\mathcal{B}_1$, a da smo svojim računanjem dobili da je baza za $R(S)$ skup $\\mathcal{B}_2$. Kako možemo provjeriti da je i naše rješenje $\\mathcal{B}_2$ također dobro ako znamo da je rješenje $\\mathcal{B}_1$ sigurno dobro? Možemo to provjeriti čak na dva relativno slična načina.</p>\n",
    "\n",
    "<p style=\"line-height:25px;\">Prvi način je da formiramo za svako od rješenja $\\mathcal{B}_1$ i $\\mathcal{B}_2$  matrice čiji retci će se sastojati od vektora iz pojedinih baza. Nakon toga pronađemo retčane kanonske forme tih matrica i ako su one jednake, tada je i naše rješenje $\\mathcal{B}_2$ ispravno rješenje.</p>"
   ]
  },
  {
   "cell_type": "code",
   "execution_count": 93,
   "metadata": {},
   "outputs": [],
   "source": [
    "A=matrix(QQ,[[-5/2,0,1],[3/2,1,0]])\n",
    "B=matrix(QQ,[[0,1,3/5],[1,0,-2/5]])"
   ]
  },
  {
   "cell_type": "code",
   "execution_count": 94,
   "metadata": {},
   "outputs": [
    {
     "data": {
      "text/html": [
       "<html>\\[\\newcommand{\\Bold}[1]{\\mathbf{#1}}\\left(\\left(\\begin{array}{rrr}\n",
       "1 & 0 & -\\frac{2}{5} \\\\\n",
       "0 & 1 & \\frac{3}{5}\n",
       "\\end{array}\\right), \\left(\\begin{array}{rrr}\n",
       "1 & 0 & -\\frac{2}{5} \\\\\n",
       "0 & 1 & \\frac{3}{5}\n",
       "\\end{array}\\right)\\right)\\]</html>"
      ],
      "text/latex": [
       "$$\\newcommand{\\Bold}[1]{\\mathbf{#1}}\\left(\\left(\\begin{array}{rrr}\n",
       "1 & 0 & -\\frac{2}{5} \\\\\n",
       "0 & 1 & \\frac{3}{5}\n",
       "\\end{array}\\right), \\left(\\begin{array}{rrr}\n",
       "1 & 0 & -\\frac{2}{5} \\\\\n",
       "0 & 1 & \\frac{3}{5}\n",
       "\\end{array}\\right)\\right)$$"
      ],
      "text/plain": [
       "(\n",
       "[   1    0 -2/5]  [   1    0 -2/5]\n",
       "[   0    1  3/5], [   0    1  3/5]\n",
       ")"
      ]
     },
     "execution_count": 94,
     "metadata": {},
     "output_type": "execute_result"
    }
   ],
   "source": [
    "A.echelon_form(),B.echelon_form()"
   ]
  },
  {
   "cell_type": "markdown",
   "metadata": {},
   "source": [
    "<p style=\"line-height:25px;\">Drugi način je da formiramo za svako od rješenja $\\mathcal{B}_1$ i  $\\mathcal{B}_2$  matrice čiji stupci će se sastojati od vektora iz  pojedinih baza. Isto tako formiramo i treću matricu čiji stupci se sastoje od svih vektora iz $\\mathcal{B}_1$ i  $\\mathcal{B}_2$. Nakon toga izračunamo rangove svih triju matrica. Ako su rangovi svih triju matrica međusobno jednaki, tada je i naše rješenje $\\mathcal{B}_2$ ispravno  rješenje. <span style=\"text-decoration: underline;\"><br>\n",
    "Napomena:</span> možemo vektore u matricama također pisati i u retke, umjesto u stupce.</p>"
   ]
  },
  {
   "cell_type": "code",
   "execution_count": 95,
   "metadata": {},
   "outputs": [],
   "source": [
    "A1=matrix(QQ,[[-5/2,0,1],[3/2,1,0]]).transpose()\n",
    "B1=matrix(QQ,[[0,1,3/5],[1,0,-2/5]]).transpose()\n",
    "C1=matrix(QQ,[[-5/2,0,1],[3/2,1,0],[0,1,3/5],[1,0,-2/5]]).transpose()"
   ]
  },
  {
   "cell_type": "markdown",
   "metadata": {},
   "source": [
    "<p>Uz pretpostavku da je $\\mathcal{B}_1$ sigurno dobro rješenje, dovoljno je zapravo samo provjeriti da su rangovi matrica B1 i C1 jednaki.</p>"
   ]
  },
  {
   "cell_type": "code",
   "execution_count": 96,
   "metadata": {},
   "outputs": [
    {
     "data": {
      "text/html": [
       "<html>\\[\\newcommand{\\Bold}[1]{\\mathbf{#1}}\\left(\\left(\\begin{array}{rr}\n",
       "-\\frac{5}{2} & \\frac{3}{2} \\\\\n",
       "0 & 1 \\\\\n",
       "1 & 0\n",
       "\\end{array}\\right), \\left(\\begin{array}{rr}\n",
       "0 & 1 \\\\\n",
       "1 & 0 \\\\\n",
       "\\frac{3}{5} & -\\frac{2}{5}\n",
       "\\end{array}\\right), \\left(\\begin{array}{rrrr}\n",
       "-\\frac{5}{2} & \\frac{3}{2} & 0 & 1 \\\\\n",
       "0 & 1 & 1 & 0 \\\\\n",
       "1 & 0 & \\frac{3}{5} & -\\frac{2}{5}\n",
       "\\end{array}\\right)\\right)\\]</html>"
      ],
      "text/latex": [
       "$$\\newcommand{\\Bold}[1]{\\mathbf{#1}}\\left(\\left(\\begin{array}{rr}\n",
       "-\\frac{5}{2} & \\frac{3}{2} \\\\\n",
       "0 & 1 \\\\\n",
       "1 & 0\n",
       "\\end{array}\\right), \\left(\\begin{array}{rr}\n",
       "0 & 1 \\\\\n",
       "1 & 0 \\\\\n",
       "\\frac{3}{5} & -\\frac{2}{5}\n",
       "\\end{array}\\right), \\left(\\begin{array}{rrrr}\n",
       "-\\frac{5}{2} & \\frac{3}{2} & 0 & 1 \\\\\n",
       "0 & 1 & 1 & 0 \\\\\n",
       "1 & 0 & \\frac{3}{5} & -\\frac{2}{5}\n",
       "\\end{array}\\right)\\right)$$"
      ],
      "text/plain": [
       "(\n",
       "[-5/2  3/2]  [   0    1]  [-5/2  3/2    0    1]\n",
       "[   0    1]  [   1    0]  [   0    1    1    0]\n",
       "[   1    0], [ 3/5 -2/5], [   1    0  3/5 -2/5]\n",
       ")"
      ]
     },
     "execution_count": 96,
     "metadata": {},
     "output_type": "execute_result"
    }
   ],
   "source": [
    "A1,B1,C1"
   ]
  },
  {
   "cell_type": "code",
   "execution_count": 97,
   "metadata": {},
   "outputs": [
    {
     "data": {
      "text/html": [
       "<html>\\[\\newcommand{\\Bold}[1]{\\mathbf{#1}}\\left(2, 2, 2\\right)\\]</html>"
      ],
      "text/latex": [
       "$$\\newcommand{\\Bold}[1]{\\mathbf{#1}}\\left(2, 2, 2\\right)$$"
      ],
      "text/plain": [
       "(2, 2, 2)"
      ]
     },
     "execution_count": 97,
     "metadata": {},
     "output_type": "execute_result"
    }
   ],
   "source": [
    "rank(A1),rank(B1),rank(C1)"
   ]
  },
  {
   "cell_type": "markdown",
   "metadata": {},
   "source": [
    "<p><strong>2. način: traženje jezgre matrice</strong></p>\n",
    "\n",
    "<p>Zadani homogen sustav možemo zapisati u matričnom obliku</p>\n",
    "<p style=\"line-height:30px;\">$$\\begin{bmatrix}2&-3&5\\\\ 4&-6&10\\end{bmatrix}\\begin{bmatrix}x_1\\\\ x_2\\\\ x_3\\end{bmatrix}=\\begin{bmatrix}0\\\\ 0\\end{bmatrix}.$$</p>\n",
    "<p style=\"line-height:50px;\">Sada zapravo tražimo sve vektore $\\big(x_1,x_2,x_3\\big)$ iz $\\mathbb{R}^3$ koje matrica $\\begin{bmatrix}2&-3&5\\\\ 4&-6&10\\end{bmatrix}$ preslikava u nulvektor u $\\mathbb{R}^2$. Skup svih takvih vektora $\\big(x_1,x_2,x_3\\big)$ zovemo jezgra matrice (preciznije, desna jezgra).</p>"
   ]
  },
  {
   "cell_type": "code",
   "execution_count": 98,
   "metadata": {},
   "outputs": [],
   "source": [
    "M=matrix(QQ,[[2,-3,5],[4,-6,10]])"
   ]
  },
  {
   "cell_type": "markdown",
   "metadata": {},
   "source": [
    "<p>Postoji već gotova naredba za traženje jezgre (tj. desne jezgre) matrice.</p>"
   ]
  },
  {
   "cell_type": "code",
   "execution_count": 99,
   "metadata": {},
   "outputs": [
    {
     "data": {
      "text/html": [
       "<html>\\[\\newcommand{\\Bold}[1]{\\mathbf{#1}}\\mathrm{RowSpan}_{\\Bold{Q}}\\left(\\begin{array}{rrr}\n",
       "1 & 0 & -\\frac{2}{5} \\\\\n",
       "0 & 1 & \\frac{3}{5}\n",
       "\\end{array}\\right)\\]</html>"
      ],
      "text/latex": [
       "$$\\newcommand{\\Bold}[1]{\\mathbf{#1}}\\mathrm{RowSpan}_{\\Bold{Q}}\\left(\\begin{array}{rrr}\n",
       "1 & 0 & -\\frac{2}{5} \\\\\n",
       "0 & 1 & \\frac{3}{5}\n",
       "\\end{array}\\right)$$"
      ],
      "text/plain": [
       "Vector space of degree 3 and dimension 2 over Rational Field\n",
       "Basis matrix:\n",
       "[   1    0 -2/5]\n",
       "[   0    1  3/5]"
      ]
     },
     "execution_count": 99,
     "metadata": {},
     "output_type": "execute_result"
    }
   ],
   "source": [
    "M.right_kernel()"
   ]
  },
  {
   "cell_type": "markdown",
   "metadata": {},
   "source": [
    "<p>dimenzija od $R(S)$</p>"
   ]
  },
  {
   "cell_type": "code",
   "execution_count": 100,
   "metadata": {},
   "outputs": [
    {
     "data": {
      "text/html": [
       "<html>\\[\\newcommand{\\Bold}[1]{\\mathbf{#1}}2\\]</html>"
      ],
      "text/latex": [
       "$$\\newcommand{\\Bold}[1]{\\mathbf{#1}}2$$"
      ],
      "text/plain": [
       "2"
      ]
     },
     "execution_count": 100,
     "metadata": {},
     "output_type": "execute_result"
    }
   ],
   "source": [
    "M.right_nullity()"
   ]
  },
  {
   "cell_type": "markdown",
   "metadata": {},
   "source": [
    "<div style=\"background-color: #F5FFFA; color: #000000; border: 2px solid #B0C4DE; border-radius: 15px; padding:0px 10px 25px; overflow:auto\">\n",
    "<h3>6. zadatak</h3>\n",
    "<p>Odredite jednu bazu i dimeziju prostora $R(S)$ svih rješenja homogenog sustava</p>\n",
    "<p>$$\\begin{align}2x_1-3x_2+5x_3&=0\\\\[2pt] -x_1+5x_2+7x_3&=0\\end{align}.$$</p>\n",
    "</div>\n",
    "<h3>Rješenje</h3>\n",
    "<p style=\"line-height:25px;\">Ovdje nećemo raditi više tako detaljnu diskusiju kao u prethodnom zadatku, nego ćemo zadatak riješiti na najjednostavniji mogući način pomoću dostupnih naredbi.</p>"
   ]
  },
  {
   "cell_type": "code",
   "execution_count": 101,
   "metadata": {},
   "outputs": [],
   "source": [
    "M=matrix(QQ,[[2,-3,5],[-1,5,7]])"
   ]
  },
  {
   "cell_type": "markdown",
   "metadata": {},
   "source": [
    "<p>jedna baza za $R(S)$</p>"
   ]
  },
  {
   "cell_type": "code",
   "execution_count": 102,
   "metadata": {},
   "outputs": [
    {
     "data": {
      "text/html": [
       "<html>\\[\\newcommand{\\Bold}[1]{\\mathbf{#1}}\\mathrm{RowSpan}_{\\Bold{Q}}\\left(\\begin{array}{rrr}\n",
       "1 & \\frac{19}{46} & -\\frac{7}{46}\n",
       "\\end{array}\\right)\\]</html>"
      ],
      "text/latex": [
       "$$\\newcommand{\\Bold}[1]{\\mathbf{#1}}\\mathrm{RowSpan}_{\\Bold{Q}}\\left(\\begin{array}{rrr}\n",
       "1 & \\frac{19}{46} & -\\frac{7}{46}\n",
       "\\end{array}\\right)$$"
      ],
      "text/plain": [
       "Vector space of degree 3 and dimension 1 over Rational Field\n",
       "Basis matrix:\n",
       "[    1 19/46 -7/46]"
      ]
     },
     "execution_count": 102,
     "metadata": {},
     "output_type": "execute_result"
    }
   ],
   "source": [
    "M.right_kernel()"
   ]
  },
  {
   "cell_type": "markdown",
   "metadata": {},
   "source": [
    "<p>dimenzija od $R(S)$</p>"
   ]
  },
  {
   "cell_type": "code",
   "execution_count": 103,
   "metadata": {},
   "outputs": [
    {
     "data": {
      "text/html": [
       "<html>\\[\\newcommand{\\Bold}[1]{\\mathbf{#1}}1\\]</html>"
      ],
      "text/latex": [
       "$$\\newcommand{\\Bold}[1]{\\mathbf{#1}}1$$"
      ],
      "text/plain": [
       "1"
      ]
     },
     "execution_count": 103,
     "metadata": {},
     "output_type": "execute_result"
    }
   ],
   "source": [
    "M.right_nullity()"
   ]
  },
  {
   "cell_type": "markdown",
   "metadata": {},
   "source": [
    "<div style=\"background-color: #F5FFFA; color: #000000; border: 2px solid #B0C4DE; border-radius: 15px; padding:0px 10px 25px; overflow:auto\">\n",
    "<h3>7. zadatak</h3>\n",
    "<p>Neka je $V$ potprostor od $\\mathbb{R}^4$ zadan s $V=\\big\\{(x_1,x_2,x_3,x_4)\\in\\mathbb{R}^4:x_1+x_2+x_3+x_4=0\\big\\}$. Odredite mu neku bazu i dimenziju.</p>\n",
    "</div>\n",
    "<h3>Rješenje</h3>\n",
    "<p>Skup $V$ je zapravo skup svih rješenja homogenog sustava $x_1+x_2+x_3+x_4=0$ od jedne linearne jednadžbe s četiri nepoznanice.</p>"
   ]
  },
  {
   "cell_type": "code",
   "execution_count": 104,
   "metadata": {},
   "outputs": [],
   "source": [
    "M=matrix(QQ,[[1,1,1,1]])"
   ]
  },
  {
   "cell_type": "markdown",
   "metadata": {},
   "source": [
    "<p>jedna baza za $V$</p>"
   ]
  },
  {
   "cell_type": "code",
   "execution_count": 105,
   "metadata": {},
   "outputs": [
    {
     "data": {
      "text/html": [
       "<html>\\[\\newcommand{\\Bold}[1]{\\mathbf{#1}}\\mathrm{RowSpan}_{\\Bold{Q}}\\left(\\begin{array}{rrrr}\n",
       "1 & 0 & 0 & -1 \\\\\n",
       "0 & 1 & 0 & -1 \\\\\n",
       "0 & 0 & 1 & -1\n",
       "\\end{array}\\right)\\]</html>"
      ],
      "text/latex": [
       "$$\\newcommand{\\Bold}[1]{\\mathbf{#1}}\\mathrm{RowSpan}_{\\Bold{Q}}\\left(\\begin{array}{rrrr}\n",
       "1 & 0 & 0 & -1 \\\\\n",
       "0 & 1 & 0 & -1 \\\\\n",
       "0 & 0 & 1 & -1\n",
       "\\end{array}\\right)$$"
      ],
      "text/plain": [
       "Vector space of degree 4 and dimension 3 over Rational Field\n",
       "Basis matrix:\n",
       "[ 1  0  0 -1]\n",
       "[ 0  1  0 -1]\n",
       "[ 0  0  1 -1]"
      ]
     },
     "execution_count": 105,
     "metadata": {},
     "output_type": "execute_result"
    }
   ],
   "source": [
    "M.right_kernel()"
   ]
  },
  {
   "cell_type": "markdown",
   "metadata": {},
   "source": [
    "<p>dimenzija od $V$</p>"
   ]
  },
  {
   "cell_type": "code",
   "execution_count": 106,
   "metadata": {},
   "outputs": [
    {
     "data": {
      "text/html": [
       "<html>\\[\\newcommand{\\Bold}[1]{\\mathbf{#1}}3\\]</html>"
      ],
      "text/latex": [
       "$$\\newcommand{\\Bold}[1]{\\mathbf{#1}}3$$"
      ],
      "text/plain": [
       "3"
      ]
     },
     "execution_count": 106,
     "metadata": {},
     "output_type": "execute_result"
    }
   ],
   "source": [
    "M.right_nullity()"
   ]
  },
  {
   "cell_type": "markdown",
   "metadata": {},
   "source": [
    "<div style=\"background-color: #F5FFFA; color: #000000; border: 2px solid #B0C4DE; border-radius: 15px; padding:0px 10px 25px; overflow:auto\">\n",
    "<h3>8. zadatak</h3>\n",
    "<p>Dokažite da je skup $\\mathcal{B}=\\big\\{(1,0,0),(1,2,0),(3,4,5)\\big\\}$ baza za $\\mathbb{R}^3$ i odredite koordinate vektora $a=(1,1,4)$ u bazi $\\mathcal{B}$.</p>\n",
    "</div>\n",
    "<h3>Rješenje</h3>\n",
    "<p style=\"line-height:25px;\">Kako je $\\dim{\\mathbb{R}^3}=3$, dovoljno je provjeriti da je $\\mathcal{B}$ linearno nezavisan skup jer će u tom slučaju biti ujedno i baza za $\\mathbb{R}^3$. Linearnu nezavisnost možemo provjeriti na tri načina: rješavanjem homogenog sustava, računanjem ranga matrice ili pak računanjem determinante matrice (jer je u ovom slučaju matrica kvadratna). Ovdje ćemo pokazati sva tri načina.</p>\n",
    "<p>Kako homogeni sustav ima samo trivijalno rješenje, skup $\\mathcal{B}$ je linearno nezavisan skup.</p>"
   ]
  },
  {
   "cell_type": "code",
   "execution_count": 107,
   "metadata": {},
   "outputs": [
    {
     "data": {
      "text/html": [
       "<html>\\[\\newcommand{\\Bold}[1]{\\mathbf{#1}}\\left(x + y + 3 \\, z,\\,2 \\, y + 4 \\, z,\\,5 \\, z\\right)\\]</html>"
      ],
      "text/latex": [
       "$$\\newcommand{\\Bold}[1]{\\mathbf{#1}}\\left(x + y + 3 \\, z,\\,2 \\, y + 4 \\, z,\\,5 \\, z\\right)$$"
      ],
      "text/plain": [
       "(x + y + 3*z, 2*y + 4*z, 5*z)"
      ]
     },
     "execution_count": 107,
     "metadata": {},
     "output_type": "execute_result"
    }
   ],
   "source": [
    "var(\"x y z\")\n",
    "a=vector((1,0,0))\n",
    "b=vector((1,2,0))\n",
    "c=vector((3,4,5))\n",
    "komb=x*a+y*b+z*c; komb"
   ]
  },
  {
   "cell_type": "code",
   "execution_count": 108,
   "metadata": {},
   "outputs": [
    {
     "data": {
      "text/html": [
       "<html>\\[\\newcommand{\\Bold}[1]{\\mathbf{#1}}\\left[\\left[x = 0, y = 0, z = 0\\right]\\right]\\]</html>"
      ],
      "text/latex": [
       "$$\\newcommand{\\Bold}[1]{\\mathbf{#1}}\\left[\\left[x = 0, y = 0, z = 0\\right]\\right]$$"
      ],
      "text/plain": [
       "[[x == 0, y == 0, z == 0]]"
      ]
     },
     "execution_count": 108,
     "metadata": {},
     "output_type": "execute_result"
    }
   ],
   "source": [
    "solve([komb[t]==0 for t in range(0,3)],[x,y,z])"
   ]
  },
  {
   "cell_type": "markdown",
   "metadata": {},
   "source": [
    "<p>Kako je rang matrice $A$ maksimalan (jednak broju vektora u $\\mathcal{B}$), skup $\\mathcal{B}$ je linearno nezavisan skup.</p>"
   ]
  },
  {
   "cell_type": "code",
   "execution_count": 109,
   "metadata": {},
   "outputs": [],
   "source": [
    "A=matrix(QQ,[[1,0,0],[1,2,0],[3,4,5]])"
   ]
  },
  {
   "cell_type": "code",
   "execution_count": 110,
   "metadata": {},
   "outputs": [
    {
     "data": {
      "text/html": [
       "<html>\\[\\newcommand{\\Bold}[1]{\\mathbf{#1}}3\\]</html>"
      ],
      "text/latex": [
       "$$\\newcommand{\\Bold}[1]{\\mathbf{#1}}3$$"
      ],
      "text/plain": [
       "3"
      ]
     },
     "execution_count": 110,
     "metadata": {},
     "output_type": "execute_result"
    }
   ],
   "source": [
    "rank(A)"
   ]
  },
  {
   "cell_type": "markdown",
   "metadata": {},
   "source": [
    "<p>Kako je determinanta matrice $A$ različita od nule, skup $\\mathcal{B}$ je linearno nezavisan skup.</p>"
   ]
  },
  {
   "cell_type": "code",
   "execution_count": 111,
   "metadata": {},
   "outputs": [
    {
     "data": {
      "text/html": [
       "<html>\\[\\newcommand{\\Bold}[1]{\\mathbf{#1}}10\\]</html>"
      ],
      "text/latex": [
       "$$\\newcommand{\\Bold}[1]{\\mathbf{#1}}10$$"
      ],
      "text/plain": [
       "10"
      ]
     },
     "execution_count": 111,
     "metadata": {},
     "output_type": "execute_result"
    }
   ],
   "source": [
    "A.det()"
   ]
  },
  {
   "cell_type": "markdown",
   "metadata": {},
   "source": [
    "<p style=\"line-height:25px;\">Koordinate vektora $a=(1,1,4)$ u bazi $\\mathcal{B}$ možemo brzo odrediti pomoću već gotovih SAGE naredbi. Najprije definiramo vektorski prostor $\\mathbb{R}^3$ i naglasimo SAGE-u da u tom vektorskom prostoru želimo raditi u bazi $\\mathcal{B}$. Iz tehničkih razloga zapravo ćemo definirati $\\mathbb{Q}^3$ kako bismo ostali na egzaktnim brojevima jer nam je na ovom primjeru dovoljno  samo polje racionalnih brojeva. Mogli smo vektorski prostor također definirati nad algebarskim zatvorenjem $\\overline{\\mathbb{Q}}$ polja $\\mathbb{Q}$ ili pak nad simboličkim prstenom $SR$.</p>"
   ]
  },
  {
   "cell_type": "code",
   "execution_count": 112,
   "metadata": {},
   "outputs": [],
   "source": [
    "V=VectorSpace(QQ,3).span_of_basis([[1,0,0],[1,2,0],[3,4,5]])"
   ]
  },
  {
   "cell_type": "markdown",
   "metadata": {},
   "source": [
    "<p>samo provjera da radimo u željenoj bazi</p>"
   ]
  },
  {
   "cell_type": "code",
   "execution_count": 113,
   "metadata": {},
   "outputs": [
    {
     "data": {
      "text/html": [
       "<html>\\[\\newcommand{\\Bold}[1]{\\mathbf{#1}}\\left[\\left(1,\\,0,\\,0\\right), \\left(1,\\,2,\\,0\\right), \\left(3,\\,4,\\,5\\right)\\right]\\]</html>"
      ],
      "text/latex": [
       "$$\\newcommand{\\Bold}[1]{\\mathbf{#1}}\\left[\\left(1,\\,0,\\,0\\right), \\left(1,\\,2,\\,0\\right), \\left(3,\\,4,\\,5\\right)\\right]$$"
      ],
      "text/plain": [
       "[\n",
       "(1, 0, 0),\n",
       "(1, 2, 0),\n",
       "(3, 4, 5)\n",
       "]"
      ]
     },
     "execution_count": 113,
     "metadata": {},
     "output_type": "execute_result"
    }
   ],
   "source": [
    "V.basis()"
   ]
  },
  {
   "cell_type": "markdown",
   "metadata": {},
   "source": [
    "<p>koordinate vektora $a=(1,1,4)$ u bazi $\\mathcal{B}$</p>"
   ]
  },
  {
   "cell_type": "code",
   "execution_count": 114,
   "metadata": {},
   "outputs": [
    {
     "data": {
      "text/html": [
       "<html>\\[\\newcommand{\\Bold}[1]{\\mathbf{#1}}\\left[-\\frac{3}{10}, -\\frac{11}{10}, \\frac{4}{5}\\right]\\]</html>"
      ],
      "text/latex": [
       "$$\\newcommand{\\Bold}[1]{\\mathbf{#1}}\\left[-\\frac{3}{10}, -\\frac{11}{10}, \\frac{4}{5}\\right]$$"
      ],
      "text/plain": [
       "[-3/10, -11/10, 4/5]"
      ]
     },
     "execution_count": 114,
     "metadata": {},
     "output_type": "execute_result"
    }
   ],
   "source": [
    "V.coordinates((1,1,4))"
   ]
  },
  {
   "cell_type": "markdown",
   "metadata": {},
   "source": [
    "<p>Kako bismo pronašli koordinate vektora $a=(1,1,4)$ u bazi $\\mathcal{B}$ kod ručnog rješavanja zadatka?</p>\n",
    "\n",
    "<p><strong>1. način: rješavanjem sustava linearnih jednadžbi</strong></p>"
   ]
  },
  {
   "cell_type": "code",
   "execution_count": 115,
   "metadata": {},
   "outputs": [],
   "source": [
    "v=vector((1,1,4))"
   ]
  },
  {
   "cell_type": "code",
   "execution_count": 116,
   "metadata": {},
   "outputs": [
    {
     "data": {
      "text/html": [
       "<html>\\[\\newcommand{\\Bold}[1]{\\mathbf{#1}}\\left[x + y + 3 \\, z = 1, 2 \\, y + 4 \\, z = 1, 5 \\, z = 4\\right]\\]</html>"
      ],
      "text/latex": [
       "$$\\newcommand{\\Bold}[1]{\\mathbf{#1}}\\left[x + y + 3 \\, z = 1, 2 \\, y + 4 \\, z = 1, 5 \\, z = 4\\right]$$"
      ],
      "text/plain": [
       "[x + y + 3*z == 1, 2*y + 4*z == 1, 5*z == 4]"
      ]
     },
     "execution_count": 116,
     "metadata": {},
     "output_type": "execute_result"
    }
   ],
   "source": [
    "sustav=[komb[t]==v[t] for t in range(0,3)]; sustav"
   ]
  },
  {
   "cell_type": "code",
   "execution_count": 117,
   "metadata": {},
   "outputs": [
    {
     "data": {
      "text/html": [
       "<html>\\[\\newcommand{\\Bold}[1]{\\mathbf{#1}}\\left[\\left[x = \\left(-\\frac{3}{10}\\right), y = \\left(-\\frac{11}{10}\\right), z = \\left(\\frac{4}{5}\\right)\\right]\\right]\\]</html>"
      ],
      "text/latex": [
       "$$\\newcommand{\\Bold}[1]{\\mathbf{#1}}\\left[\\left[x = \\left(-\\frac{3}{10}\\right), y = \\left(-\\frac{11}{10}\\right), z = \\left(\\frac{4}{5}\\right)\\right]\\right]$$"
      ],
      "text/plain": [
       "[[x == (-3/10), y == (-11/10), z == (4/5)]]"
      ]
     },
     "execution_count": 117,
     "metadata": {},
     "output_type": "execute_result"
    }
   ],
   "source": [
    "solve(sustav,[x,y,z])"
   ]
  },
  {
   "cell_type": "markdown",
   "metadata": {},
   "source": [
    "<p><strong>2. način: pomoću matrice prijelaza</strong></p>\n",
    "\n",
    "<p>matrica prijelaza iz kanonske baze u bazu $\\mathcal{B}$</p>"
   ]
  },
  {
   "cell_type": "code",
   "execution_count": 118,
   "metadata": {},
   "outputs": [
    {
     "data": {
      "text/html": [
       "<html>\\[\\newcommand{\\Bold}[1]{\\mathbf{#1}}\\left(\\begin{array}{rrr}\n",
       "1 & 1 & 3 \\\\\n",
       "0 & 2 & 4 \\\\\n",
       "0 & 0 & 5\n",
       "\\end{array}\\right)\\]</html>"
      ],
      "text/latex": [
       "$$\\newcommand{\\Bold}[1]{\\mathbf{#1}}\\left(\\begin{array}{rrr}\n",
       "1 & 1 & 3 \\\\\n",
       "0 & 2 & 4 \\\\\n",
       "0 & 0 & 5\n",
       "\\end{array}\\right)$$"
      ],
      "text/plain": [
       "[1 1 3]\n",
       "[0 2 4]\n",
       "[0 0 5]"
      ]
     },
     "execution_count": 118,
     "metadata": {},
     "output_type": "execute_result"
    }
   ],
   "source": [
    "T=matrix(QQ,[[1,0,0],[1,2,0],[3,4,5]]).transpose(); T"
   ]
  },
  {
   "cell_type": "markdown",
   "metadata": {},
   "source": [
    "<p>matrica prijelaza iz baze $\\mathcal{B}$ u kanonsku bazu</p>"
   ]
  },
  {
   "cell_type": "code",
   "execution_count": 119,
   "metadata": {},
   "outputs": [
    {
     "data": {
      "text/html": [
       "<html>\\[\\newcommand{\\Bold}[1]{\\mathbf{#1}}\\left(\\begin{array}{rrr}\n",
       "1 & -\\frac{1}{2} & -\\frac{1}{5} \\\\\n",
       "0 & \\frac{1}{2} & -\\frac{2}{5} \\\\\n",
       "0 & 0 & \\frac{1}{5}\n",
       "\\end{array}\\right)\\]</html>"
      ],
      "text/latex": [
       "$$\\newcommand{\\Bold}[1]{\\mathbf{#1}}\\left(\\begin{array}{rrr}\n",
       "1 & -\\frac{1}{2} & -\\frac{1}{5} \\\\\n",
       "0 & \\frac{1}{2} & -\\frac{2}{5} \\\\\n",
       "0 & 0 & \\frac{1}{5}\n",
       "\\end{array}\\right)$$"
      ],
      "text/plain": [
       "[   1 -1/2 -1/5]\n",
       "[   0  1/2 -2/5]\n",
       "[   0    0  1/5]"
      ]
     },
     "execution_count": 119,
     "metadata": {},
     "output_type": "execute_result"
    }
   ],
   "source": [
    "T^-1"
   ]
  },
  {
   "cell_type": "code",
   "execution_count": 120,
   "metadata": {},
   "outputs": [
    {
     "data": {
      "text/html": [
       "<html>\\[\\newcommand{\\Bold}[1]{\\mathbf{#1}}\\left(-\\frac{3}{10},\\,-\\frac{11}{10},\\,\\frac{4}{5}\\right)\\]</html>"
      ],
      "text/latex": [
       "$$\\newcommand{\\Bold}[1]{\\mathbf{#1}}\\left(-\\frac{3}{10},\\,-\\frac{11}{10},\\,\\frac{4}{5}\\right)$$"
      ],
      "text/plain": [
       "(-3/10, -11/10, 4/5)"
      ]
     },
     "execution_count": 120,
     "metadata": {},
     "output_type": "execute_result"
    }
   ],
   "source": [
    "T^-1*v"
   ]
  },
  {
   "cell_type": "markdown",
   "metadata": {},
   "source": [
    "<div style=\"background-color: #F5FFFA; color: #000000; border: 2px solid #B0C4DE; border-radius: 15px; padding:0px 10px 25px; overflow:auto\">\n",
    "<h3>9. zadatak</h3>\n",
    "<p style=\"line-height:25px;\">Odredite rang skupa vektora $a=(2,-4,6,2)$, $b=(3,4,1,6)$, $c=(5,0,7,8)$ u $\\mathbb{R}^4$. Jesu li $a, b, c$ linearno nezavisni vektori u $\\mathbb{R}^4?$</p>\n",
    "</div>\n",
    "<h3>Rješenje</h3>"
   ]
  },
  {
   "cell_type": "code",
   "execution_count": 121,
   "metadata": {},
   "outputs": [
    {
     "data": {
      "text/html": [
       "<html>\\[\\newcommand{\\Bold}[1]{\\mathbf{#1}}\\left(\\begin{array}{rrr}\n",
       "2 & 3 & 5 \\\\\n",
       "-4 & 4 & 0 \\\\\n",
       "6 & 1 & 7 \\\\\n",
       "2 & 6 & 8\n",
       "\\end{array}\\right)\\]</html>"
      ],
      "text/latex": [
       "$$\\newcommand{\\Bold}[1]{\\mathbf{#1}}\\left(\\begin{array}{rrr}\n",
       "2 & 3 & 5 \\\\\n",
       "-4 & 4 & 0 \\\\\n",
       "6 & 1 & 7 \\\\\n",
       "2 & 6 & 8\n",
       "\\end{array}\\right)$$"
      ],
      "text/plain": [
       "[ 2  3  5]\n",
       "[-4  4  0]\n",
       "[ 6  1  7]\n",
       "[ 2  6  8]"
      ]
     },
     "execution_count": 121,
     "metadata": {},
     "output_type": "execute_result"
    }
   ],
   "source": [
    "A=matrix(QQ,[[2,-4,6,2],[3,4,1,6],[5,0,7,8]]).transpose(); A"
   ]
  },
  {
   "cell_type": "markdown",
   "metadata": {},
   "source": [
    "<p>Rang zadanog skupa vektora jednak je 2. Kako taj rang nije jednak broju vektora, zadani vektori su linearno zavisni.</p>"
   ]
  },
  {
   "cell_type": "code",
   "execution_count": 122,
   "metadata": {},
   "outputs": [
    {
     "data": {
      "text/html": [
       "<html>\\[\\newcommand{\\Bold}[1]{\\mathbf{#1}}2\\]</html>"
      ],
      "text/latex": [
       "$$\\newcommand{\\Bold}[1]{\\mathbf{#1}}2$$"
      ],
      "text/plain": [
       "2"
      ]
     },
     "execution_count": 122,
     "metadata": {},
     "output_type": "execute_result"
    }
   ],
   "source": [
    "rank(A)"
   ]
  },
  {
   "cell_type": "markdown",
   "metadata": {},
   "source": [
    "<p style=\"line-height:25px;\">Iz svega zaključujemo da možemo uzeti maksimalno dva vektora iz skupa vektora $\\{a,b,c\\}$ tako da oni budu linearno nezavisni. Jedan mogući način odabira tih vektora možemo dobiti tako da pronađemo retčanu kanonsku formu matrice $A$. Pazite, vektori moraju biti zapisani u stupcima matrice $A$.</p>"
   ]
  },
  {
   "cell_type": "code",
   "execution_count": 123,
   "metadata": {},
   "outputs": [
    {
     "data": {
      "text/html": [
       "<html>\\[\\newcommand{\\Bold}[1]{\\mathbf{#1}}\\left(\\begin{array}{rrr}\n",
       "1 & 0 & 1 \\\\\n",
       "0 & 1 & 1 \\\\\n",
       "0 & 0 & 0 \\\\\n",
       "0 & 0 & 0\n",
       "\\end{array}\\right)\\]</html>"
      ],
      "text/latex": [
       "$$\\newcommand{\\Bold}[1]{\\mathbf{#1}}\\left(\\begin{array}{rrr}\n",
       "1 & 0 & 1 \\\\\n",
       "0 & 1 & 1 \\\\\n",
       "0 & 0 & 0 \\\\\n",
       "0 & 0 & 0\n",
       "\\end{array}\\right)$$"
      ],
      "text/plain": [
       "[1 0 1]\n",
       "[0 1 1]\n",
       "[0 0 0]\n",
       "[0 0 0]"
      ]
     },
     "execution_count": 123,
     "metadata": {},
     "output_type": "execute_result"
    }
   ],
   "source": [
    "A.echelon_form()"
   ]
  },
  {
   "cell_type": "markdown",
   "metadata": {},
   "source": [
    "<p style=\"line-height:25px;\">Iz retčane kanonske forme matrice $A$ vidimo da je vektor $c$ linearna kombinacija vektora $a$ i $b$, a vektori $a$ i $b$ su linearno nezavisni.<br>\n",
    "Naravno, mogli smo u matricu $A$, npr. u drugi stupac staviti vektor $c$, a u treći stupac vektor $b$.</p>"
   ]
  },
  {
   "cell_type": "code",
   "execution_count": 124,
   "metadata": {},
   "outputs": [],
   "source": [
    "A.swap_columns(1,2)"
   ]
  },
  {
   "cell_type": "code",
   "execution_count": 125,
   "metadata": {},
   "outputs": [
    {
     "data": {
      "text/html": [
       "<html>\\[\\newcommand{\\Bold}[1]{\\mathbf{#1}}\\left(\\begin{array}{rrr}\n",
       "2 & 5 & 3 \\\\\n",
       "-4 & 0 & 4 \\\\\n",
       "6 & 7 & 1 \\\\\n",
       "2 & 8 & 6\n",
       "\\end{array}\\right)\\]</html>"
      ],
      "text/latex": [
       "$$\\newcommand{\\Bold}[1]{\\mathbf{#1}}\\left(\\begin{array}{rrr}\n",
       "2 & 5 & 3 \\\\\n",
       "-4 & 0 & 4 \\\\\n",
       "6 & 7 & 1 \\\\\n",
       "2 & 8 & 6\n",
       "\\end{array}\\right)$$"
      ],
      "text/plain": [
       "[ 2  5  3]\n",
       "[-4  0  4]\n",
       "[ 6  7  1]\n",
       "[ 2  8  6]"
      ]
     },
     "execution_count": 125,
     "metadata": {},
     "output_type": "execute_result"
    }
   ],
   "source": [
    "A"
   ]
  },
  {
   "cell_type": "markdown",
   "metadata": {},
   "source": [
    "<p>Tada retčana kanonska forma izgleda</p>"
   ]
  },
  {
   "cell_type": "code",
   "execution_count": 126,
   "metadata": {},
   "outputs": [
    {
     "data": {
      "text/html": [
       "<html>\\[\\newcommand{\\Bold}[1]{\\mathbf{#1}}\\left(\\begin{array}{rrr}\n",
       "1 & 0 & -1 \\\\\n",
       "0 & 1 & 1 \\\\\n",
       "0 & 0 & 0 \\\\\n",
       "0 & 0 & 0\n",
       "\\end{array}\\right)\\]</html>"
      ],
      "text/latex": [
       "$$\\newcommand{\\Bold}[1]{\\mathbf{#1}}\\left(\\begin{array}{rrr}\n",
       "1 & 0 & -1 \\\\\n",
       "0 & 1 & 1 \\\\\n",
       "0 & 0 & 0 \\\\\n",
       "0 & 0 & 0\n",
       "\\end{array}\\right)$$"
      ],
      "text/plain": [
       "[ 1  0 -1]\n",
       "[ 0  1  1]\n",
       "[ 0  0  0]\n",
       "[ 0  0  0]"
      ]
     },
     "execution_count": 126,
     "metadata": {},
     "output_type": "execute_result"
    }
   ],
   "source": [
    "A.echelon_form()"
   ]
  },
  {
   "cell_type": "markdown",
   "metadata": {},
   "source": [
    "<p style=\"line-height:25px;\">iz koje ponovo vidimo da je treći stupac linearna kombinacija prva dva pa ovaj put zaključujemo da je vektor $b$ linearna kombinacija vektora $a$ i $c$, a vektori $a$ i $c$ su linearno nezavisni. Analogno možemo isprobati i sve preostale mogućnosti razmještaja vektora $a, b, c$ u stupce matrice $A$.</p>"
   ]
  },
  {
   "cell_type": "markdown",
   "metadata": {},
   "source": [
    "<div style=\"background-color: #F5FFFA; color: #000000; border: 2px solid #B0C4DE; border-radius: 15px; padding:0px 10px 25px; overflow:auto\">\n",
    "<h3>10. zadatak</h3>\n",
    "<p style=\"line-height:25px;\">Jesu li $p,q,r\\in\\mathcal{P}_4$ zadani s $p(t)=t^3+t^2+t$, $q(t)=t^3-t+1$, $r(t)=2t^3-t^2+t-2$ linearno nezavisni u $\\mathcal{P}_4$?</p>\n",
    "<p> Može li se $f(t)=t^3+3t^2+3$ prikazati kao linearna kombinacija polinoma $p, q, r$?</p> \n",
    "<p> Može li se $g(t)=t^3+3t^2+t+3$ prikazati kao linearna kombinacija polinoma $p, q , r$?</p>\n",
    "</div>\n",
    "<h3>Rješenje</h3>\n",
    "<p style=\"line-height:25px;\">Na sva pitanja ćemo najbrže odgovoriti tako da sve polinome prikažemo u kanonskoj bazi od $\\mathcal{P}_4$ i zatim te vektore smjestimo u stupce jedne matrice, a nakon toga pronađemo retčanu kanonsku formu te matrice. Kanonska baza za $\\mathcal{P}_4$ je skup $\\big\\{1,t,t^2,t^3\\big\\}$. Koordinate pojedinih polinoma u kanonskoj bazi su</p>\n",
    "<p>$$p(t)=(0,1,1,1),\\quad q(t)=(1,-1,0,1),\\quad r(t)=(-2,1,-1,2),\\quad f(t)=(3,0,3,1),\\quad g(t)=(3,1,3,1).$$</p>"
   ]
  },
  {
   "cell_type": "code",
   "execution_count": 127,
   "metadata": {},
   "outputs": [
    {
     "data": {
      "text/html": [
       "<html>\\[\\newcommand{\\Bold}[1]{\\mathbf{#1}}\\left(\\begin{array}{rrrrr}\n",
       "0 & 1 & -2 & 3 & 3 \\\\\n",
       "1 & -1 & 1 & 0 & 1 \\\\\n",
       "1 & 0 & -1 & 3 & 3 \\\\\n",
       "1 & 1 & 2 & 1 & 1\n",
       "\\end{array}\\right)\\]</html>"
      ],
      "text/latex": [
       "$$\\newcommand{\\Bold}[1]{\\mathbf{#1}}\\left(\\begin{array}{rrrrr}\n",
       "0 & 1 & -2 & 3 & 3 \\\\\n",
       "1 & -1 & 1 & 0 & 1 \\\\\n",
       "1 & 0 & -1 & 3 & 3 \\\\\n",
       "1 & 1 & 2 & 1 & 1\n",
       "\\end{array}\\right)$$"
      ],
      "text/plain": [
       "[ 0  1 -2  3  3]\n",
       "[ 1 -1  1  0  1]\n",
       "[ 1  0 -1  3  3]\n",
       "[ 1  1  2  1  1]"
      ]
     },
     "execution_count": 127,
     "metadata": {},
     "output_type": "execute_result"
    }
   ],
   "source": [
    "p=vector((0,1,1,1))\n",
    "q=vector((1,-1,0,1))\n",
    "r=vector((-2,1,-1,2))\n",
    "f=vector((3,0,3,1))\n",
    "g=vector((3,1,3,1))\n",
    "A=matrix(QQ,[p,q,r,f,g]).transpose(); A"
   ]
  },
  {
   "cell_type": "code",
   "execution_count": 128,
   "metadata": {},
   "outputs": [
    {
     "data": {
      "text/html": [
       "<html>\\[\\newcommand{\\Bold}[1]{\\mathbf{#1}}\\left(\\begin{array}{rrrrr}\n",
       "1 & 0 & 0 & 2 & 0 \\\\\n",
       "0 & 1 & 0 & 1 & 0 \\\\\n",
       "0 & 0 & 1 & -1 & 0 \\\\\n",
       "0 & 0 & 0 & 0 & 1\n",
       "\\end{array}\\right)\\]</html>"
      ],
      "text/latex": [
       "$$\\newcommand{\\Bold}[1]{\\mathbf{#1}}\\left(\\begin{array}{rrrrr}\n",
       "1 & 0 & 0 & 2 & 0 \\\\\n",
       "0 & 1 & 0 & 1 & 0 \\\\\n",
       "0 & 0 & 1 & -1 & 0 \\\\\n",
       "0 & 0 & 0 & 0 & 1\n",
       "\\end{array}\\right)$$"
      ],
      "text/plain": [
       "[ 1  0  0  2  0]\n",
       "[ 0  1  0  1  0]\n",
       "[ 0  0  1 -1  0]\n",
       "[ 0  0  0  0  1]"
      ]
     },
     "execution_count": 128,
     "metadata": {},
     "output_type": "execute_result"
    }
   ],
   "source": [
    "A.echelon_form()"
   ]
  },
  {
   "cell_type": "markdown",
   "metadata": {},
   "source": [
    "<p style=\"line-height:25px;\">Iz retčane kanonske forme matrice $A$ zaključujemo da su polinomi $p, q, r$ linearno nezavisni . Nadalje, vidimo također da se polinom $f$ može prikazati kao linearna kombinacija polinoma $p, q, r$, tj. polinom $f$ pripada potprostoru razapetom s polinomima $p, q, r$. Isto tako, vidimo da se polinom $g$ ne može prikazati kao linearna kombinacija polinoma $p, q, r$, tj. polinom $g$ ne pripada potprostoru razapetom s vektorima $p, q, r$. Drugim riječima, polinomi $p, q, r, g$ su linearno nezavisni pa čine bazu za $\\mathcal{P}_4$ jer je $\\dim{\\mathcal{P}_4}=4$.</p>\n",
    "\n",
    "<p>Ako želimo, možemo polinom $f$ izraziti kao linearnu kombinaciju polinoma $p, q, r$</p>"
   ]
  },
  {
   "cell_type": "code",
   "execution_count": 129,
   "metadata": {},
   "outputs": [
    {
     "data": {
      "text/html": [
       "<html>\\[\\newcommand{\\Bold}[1]{\\mathbf{#1}}\\mathrm{RowSpan}_{\\Bold{Q}}\\left(\\begin{array}{rrrr}\n",
       "0 & 1 & 1 & 1 \\\\\n",
       "1 & -1 & 0 & 1 \\\\\n",
       "-2 & 1 & -1 & 2\n",
       "\\end{array}\\right)\\]</html>"
      ],
      "text/latex": [
       "$$\\newcommand{\\Bold}[1]{\\mathbf{#1}}\\mathrm{RowSpan}_{\\Bold{Q}}\\left(\\begin{array}{rrrr}\n",
       "0 & 1 & 1 & 1 \\\\\n",
       "1 & -1 & 0 & 1 \\\\\n",
       "-2 & 1 & -1 & 2\n",
       "\\end{array}\\right)$$"
      ],
      "text/plain": [
       "Vector space of degree 4 and dimension 3 over Rational Field\n",
       "User basis matrix:\n",
       "[ 0  1  1  1]\n",
       "[ 1 -1  0  1]\n",
       "[-2  1 -1  2]"
      ]
     },
     "execution_count": 129,
     "metadata": {},
     "output_type": "execute_result"
    }
   ],
   "source": [
    "W=(QQ^4).subspace_with_basis([p,q,r]); W"
   ]
  },
  {
   "cell_type": "markdown",
   "metadata": {},
   "source": [
    "<p>$f(t)=2p(t)+q(t)-r(t)$</p>"
   ]
  },
  {
   "cell_type": "code",
   "execution_count": 130,
   "metadata": {},
   "outputs": [
    {
     "data": {
      "text/html": [
       "<html>\\[\\newcommand{\\Bold}[1]{\\mathbf{#1}}\\left[2, 1, -1\\right]\\]</html>"
      ],
      "text/latex": [
       "$$\\newcommand{\\Bold}[1]{\\mathbf{#1}}\\left[2, 1, -1\\right]$$"
      ],
      "text/plain": [
       "[2, 1, -1]"
      ]
     },
     "execution_count": 130,
     "metadata": {},
     "output_type": "execute_result"
    }
   ],
   "source": [
    "W.coordinates(f)"
   ]
  },
  {
   "cell_type": "markdown",
   "metadata": {},
   "source": [
    "<p>Još jedan način da provjerimo da polinom $g$ ne pripada potprostoru razapetom s polinomima $p, q, r$</p>"
   ]
  },
  {
   "cell_type": "code",
   "execution_count": 131,
   "metadata": {},
   "outputs": [
    {
     "ename": "ArithmeticError",
     "evalue": "vector is not in free module",
     "output_type": "error",
     "traceback": [
      "\u001b[0;31m---------------------------------------------------------------------------\u001b[0m",
      "\u001b[0;31mArithmeticError\u001b[0m                           Traceback (most recent call last)",
      "\u001b[0;32m/tmp/ipykernel_12608/3788379302.py\u001b[0m in \u001b[0;36m<module>\u001b[0;34m\u001b[0m\n\u001b[0;32m----> 1\u001b[0;31m \u001b[0mW\u001b[0m\u001b[0;34m.\u001b[0m\u001b[0mcoordinates\u001b[0m\u001b[0;34m(\u001b[0m\u001b[0mg\u001b[0m\u001b[0;34m)\u001b[0m\u001b[0;34m\u001b[0m\u001b[0;34m\u001b[0m\u001b[0m\n\u001b[0m",
      "\u001b[0;32m/usr/lib/python3.9/site-packages/sage/modules/free_module.py\u001b[0m in \u001b[0;36mcoordinates\u001b[0;34m(self, v, check)\u001b[0m\n\u001b[1;32m   1865\u001b[0m             \u001b[0;34m[\u001b[0m\u001b[0;36m2\u001b[0m\u001b[0;34m,\u001b[0m \u001b[0;34m-\u001b[0m\u001b[0;36m1\u001b[0m\u001b[0;34m]\u001b[0m\u001b[0;34m\u001b[0m\u001b[0;34m\u001b[0m\u001b[0m\n\u001b[1;32m   1866\u001b[0m         \"\"\"\n\u001b[0;32m-> 1867\u001b[0;31m         \u001b[0;32mreturn\u001b[0m \u001b[0mself\u001b[0m\u001b[0;34m.\u001b[0m\u001b[0mcoordinate_vector\u001b[0m\u001b[0;34m(\u001b[0m\u001b[0mv\u001b[0m\u001b[0;34m,\u001b[0m \u001b[0mcheck\u001b[0m\u001b[0;34m=\u001b[0m\u001b[0mcheck\u001b[0m\u001b[0;34m)\u001b[0m\u001b[0;34m.\u001b[0m\u001b[0mlist\u001b[0m\u001b[0;34m(\u001b[0m\u001b[0;34m)\u001b[0m\u001b[0;34m\u001b[0m\u001b[0;34m\u001b[0m\u001b[0m\n\u001b[0m\u001b[1;32m   1868\u001b[0m \u001b[0;34m\u001b[0m\u001b[0m\n\u001b[1;32m   1869\u001b[0m     \u001b[0;32mdef\u001b[0m \u001b[0mcoordinate_vector\u001b[0m\u001b[0;34m(\u001b[0m\u001b[0mself\u001b[0m\u001b[0;34m,\u001b[0m \u001b[0mv\u001b[0m\u001b[0;34m,\u001b[0m \u001b[0mcheck\u001b[0m\u001b[0;34m=\u001b[0m\u001b[0;32mTrue\u001b[0m\u001b[0;34m)\u001b[0m\u001b[0;34m:\u001b[0m\u001b[0;34m\u001b[0m\u001b[0;34m\u001b[0m\u001b[0m\n",
      "\u001b[0;32m/usr/lib/python3.9/site-packages/sage/modules/free_module.py\u001b[0m in \u001b[0;36mcoordinate_vector\u001b[0;34m(self, v, check)\u001b[0m\n\u001b[1;32m   6618\u001b[0m         \"\"\"\n\u001b[1;32m   6619\u001b[0m         \u001b[0;31m# First find the coordinates of v wrt echelon basis.\u001b[0m\u001b[0;34m\u001b[0m\u001b[0;34m\u001b[0m\u001b[0;34m\u001b[0m\u001b[0m\n\u001b[0;32m-> 6620\u001b[0;31m         \u001b[0mw\u001b[0m \u001b[0;34m=\u001b[0m \u001b[0mself\u001b[0m\u001b[0;34m.\u001b[0m\u001b[0mechelon_coordinate_vector\u001b[0m\u001b[0;34m(\u001b[0m\u001b[0mv\u001b[0m\u001b[0;34m,\u001b[0m \u001b[0mcheck\u001b[0m\u001b[0;34m=\u001b[0m\u001b[0mcheck\u001b[0m\u001b[0;34m)\u001b[0m\u001b[0;34m\u001b[0m\u001b[0;34m\u001b[0m\u001b[0m\n\u001b[0m\u001b[1;32m   6621\u001b[0m         \u001b[0;31m# Next use transformation matrix from echelon basis to\u001b[0m\u001b[0;34m\u001b[0m\u001b[0;34m\u001b[0m\u001b[0;34m\u001b[0m\u001b[0m\n\u001b[1;32m   6622\u001b[0m         \u001b[0;31m# user basis.\u001b[0m\u001b[0;34m\u001b[0m\u001b[0;34m\u001b[0m\u001b[0;34m\u001b[0m\u001b[0m\n",
      "\u001b[0;32m/usr/lib/python3.9/site-packages/sage/modules/free_module.py\u001b[0m in \u001b[0;36mechelon_coordinate_vector\u001b[0;34m(self, v, check)\u001b[0m\n\u001b[1;32m   6680\u001b[0m             \u001b[0;34m(\u001b[0m\u001b[0;36m1\u001b[0m\u001b[0;34m,\u001b[0m \u001b[0;36m18\u001b[0m\u001b[0;34m)\u001b[0m\u001b[0;34m\u001b[0m\u001b[0;34m\u001b[0m\u001b[0m\n\u001b[1;32m   6681\u001b[0m         \"\"\"\n\u001b[0;32m-> 6682\u001b[0;31m         \u001b[0;32mreturn\u001b[0m \u001b[0mFreeModule\u001b[0m\u001b[0;34m(\u001b[0m\u001b[0mself\u001b[0m\u001b[0;34m.\u001b[0m\u001b[0mbase_ring\u001b[0m\u001b[0;34m(\u001b[0m\u001b[0;34m)\u001b[0m\u001b[0;34m.\u001b[0m\u001b[0mfraction_field\u001b[0m\u001b[0;34m(\u001b[0m\u001b[0;34m)\u001b[0m\u001b[0;34m,\u001b[0m \u001b[0mself\u001b[0m\u001b[0;34m.\u001b[0m\u001b[0mrank\u001b[0m\u001b[0;34m(\u001b[0m\u001b[0;34m)\u001b[0m\u001b[0;34m)\u001b[0m\u001b[0;34m(\u001b[0m\u001b[0mself\u001b[0m\u001b[0;34m.\u001b[0m\u001b[0mechelon_coordinates\u001b[0m\u001b[0;34m(\u001b[0m\u001b[0mv\u001b[0m\u001b[0;34m,\u001b[0m \u001b[0mcheck\u001b[0m\u001b[0;34m=\u001b[0m\u001b[0mcheck\u001b[0m\u001b[0;34m)\u001b[0m\u001b[0;34m)\u001b[0m\u001b[0;34m\u001b[0m\u001b[0;34m\u001b[0m\u001b[0m\n\u001b[0m\u001b[1;32m   6683\u001b[0m \u001b[0;34m\u001b[0m\u001b[0m\n\u001b[1;32m   6684\u001b[0m     \u001b[0;32mdef\u001b[0m \u001b[0mhas_user_basis\u001b[0m\u001b[0;34m(\u001b[0m\u001b[0mself\u001b[0m\u001b[0;34m)\u001b[0m\u001b[0;34m:\u001b[0m\u001b[0;34m\u001b[0m\u001b[0;34m\u001b[0m\u001b[0m\n",
      "\u001b[0;32m/usr/lib/python3.9/site-packages/sage/modules/free_module.py\u001b[0m in \u001b[0;36mechelon_coordinates\u001b[0;34m(self, v, check)\u001b[0m\n\u001b[1;32m   6216\u001b[0m         \u001b[0mlc\u001b[0m \u001b[0;34m=\u001b[0m \u001b[0mE\u001b[0m\u001b[0;34m.\u001b[0m\u001b[0mlinear_combination_of_rows\u001b[0m\u001b[0;34m(\u001b[0m\u001b[0mx\u001b[0m\u001b[0;34m)\u001b[0m\u001b[0;34m\u001b[0m\u001b[0;34m\u001b[0m\u001b[0m\n\u001b[1;32m   6217\u001b[0m         \u001b[0;32mif\u001b[0m \u001b[0mlist\u001b[0m\u001b[0;34m(\u001b[0m\u001b[0mlc\u001b[0m\u001b[0;34m)\u001b[0m \u001b[0;34m!=\u001b[0m \u001b[0mlist\u001b[0m\u001b[0;34m(\u001b[0m\u001b[0mv\u001b[0m\u001b[0;34m)\u001b[0m\u001b[0;34m:\u001b[0m\u001b[0;34m\u001b[0m\u001b[0;34m\u001b[0m\u001b[0m\n\u001b[0;32m-> 6218\u001b[0;31m             \u001b[0;32mraise\u001b[0m \u001b[0mArithmeticError\u001b[0m\u001b[0;34m(\u001b[0m\u001b[0;34m\"vector is not in free module\"\u001b[0m\u001b[0;34m)\u001b[0m\u001b[0;34m\u001b[0m\u001b[0;34m\u001b[0m\u001b[0m\n\u001b[0m\u001b[1;32m   6219\u001b[0m         \u001b[0;32mreturn\u001b[0m \u001b[0mx\u001b[0m\u001b[0;34m\u001b[0m\u001b[0;34m\u001b[0m\u001b[0m\n\u001b[1;32m   6220\u001b[0m \u001b[0;34m\u001b[0m\u001b[0m\n",
      "\u001b[0;31mArithmeticError\u001b[0m: vector is not in free module"
     ]
    }
   ],
   "source": [
    "W.coordinates(g)"
   ]
  },
  {
   "cell_type": "markdown",
   "metadata": {},
   "source": [
    "<div style=\"background-color: #F5FFFA; color: #000000; border: 2px solid #B0C4DE; border-radius: 15px; padding:0px 10px 25px; overflow:auto\">\n",
    "<h3>11. zadatak</h3>\n",
    "<p>Dokažite da polinomi \n",
    "<p>$$f_1(t)=5,\\ \\ f_2(t)=t+1,\\ \\ f_3(t)=(t-2)(t+1),\\ \\ f_4(t)=(t-2)(t+1)(t+3)$$</p> \n",
    "<p>čine bazu za $\\mathcal{P}_4$ i pronađite koordinate polinoma $p(t)=21+13t-5t^2-2t^3$ u toj bazi.</p>\n",
    "</div>\n",
    "<h3>Rješenje</h3>"
   ]
  },
  {
   "cell_type": "code",
   "execution_count": 132,
   "metadata": {},
   "outputs": [
    {
     "data": {
      "text/html": [
       "<html>\\[\\newcommand{\\Bold}[1]{\\mathbf{#1}}\\left(t^{2} - t - 2, t^{3} + 2 \\, t^{2} - 5 \\, t - 6\\right)\\]</html>"
      ],
      "text/latex": [
       "$$\\newcommand{\\Bold}[1]{\\mathbf{#1}}\\left(t^{2} - t - 2, t^{3} + 2 \\, t^{2} - 5 \\, t - 6\\right)$$"
      ],
      "text/plain": [
       "(t^2 - t - 2, t^3 + 2*t^2 - 5*t - 6)"
      ]
     },
     "execution_count": 132,
     "metadata": {},
     "output_type": "execute_result"
    }
   ],
   "source": [
    "var(\"t\")\n",
    "expand((t-2)*(t+1)),expand((t-2)*(t+1)*(t+3))"
   ]
  },
  {
   "cell_type": "markdown",
   "metadata": {},
   "source": [
    "<p>Kanonska baza za $\\mathcal{P}_4$ je $\\big\\{1,t,t^2,t^3\\big\\}$. Koordinate polinoma $f_1(t), f_2(t), f_3(t), f_4(t), p(t)$ u kanonskoj bazi su</p>\n",
    "<p>$$f_1(t)=(5,0,0,0),\\ \\ f_2(t)=(1,1,0,0),\\ \\ f_3(t)=(-2,-1,1,0),\\ \\ f_4(t)=(-6,-5,2,1),\\ \\ p(t)=(21,13,-5,-2).$$</p>"
   ]
  },
  {
   "cell_type": "code",
   "execution_count": 133,
   "metadata": {},
   "outputs": [],
   "source": [
    "f1=vector((5,0,0,0))\n",
    "f2=vector((1,1,0,0))\n",
    "f3=vector((-2,-1,1,0))\n",
    "f4=vector((-6,-5,2,1))\n",
    "p=vector((21,13,-5,-2))"
   ]
  },
  {
   "cell_type": "code",
   "execution_count": 134,
   "metadata": {},
   "outputs": [
    {
     "data": {
      "text/html": [
       "<html>\\[\\newcommand{\\Bold}[1]{\\mathbf{#1}}\\left(\\begin{array}{rrrr}\n",
       "5 & 1 & -2 & -6 \\\\\n",
       "0 & 1 & -1 & -5 \\\\\n",
       "0 & 0 & 1 & 2 \\\\\n",
       "0 & 0 & 0 & 1\n",
       "\\end{array}\\right)\\]</html>"
      ],
      "text/latex": [
       "$$\\newcommand{\\Bold}[1]{\\mathbf{#1}}\\left(\\begin{array}{rrrr}\n",
       "5 & 1 & -2 & -6 \\\\\n",
       "0 & 1 & -1 & -5 \\\\\n",
       "0 & 0 & 1 & 2 \\\\\n",
       "0 & 0 & 0 & 1\n",
       "\\end{array}\\right)$$"
      ],
      "text/plain": [
       "[ 5  1 -2 -6]\n",
       "[ 0  1 -1 -5]\n",
       "[ 0  0  1  2]\n",
       "[ 0  0  0  1]"
      ]
     },
     "execution_count": 134,
     "metadata": {},
     "output_type": "execute_result"
    }
   ],
   "source": [
    "A=matrix(QQ,[f1,f2,f3,f4]).transpose(); A"
   ]
  },
  {
   "cell_type": "markdown",
   "metadata": {},
   "source": [
    "<p>Kako je determinanta matrice $A$ različita od nule, polinomi $f_1, f_2, f_3, f_4$ čine bazu za $\\mathcal{P}_4$.</p>"
   ]
  },
  {
   "cell_type": "code",
   "execution_count": 135,
   "metadata": {},
   "outputs": [
    {
     "data": {
      "text/html": [
       "<html>\\[\\newcommand{\\Bold}[1]{\\mathbf{#1}}5\\]</html>"
      ],
      "text/latex": [
       "$$\\newcommand{\\Bold}[1]{\\mathbf{#1}}5$$"
      ],
      "text/plain": [
       "5"
      ]
     },
     "execution_count": 135,
     "metadata": {},
     "output_type": "execute_result"
    }
   ],
   "source": [
    "A.det()"
   ]
  },
  {
   "cell_type": "markdown",
   "metadata": {},
   "source": [
    "<p>Koordinate polinoma $p$ u bazi $\\big\\{f_1,f_2,f_3,f_4\\big\\}$</p>"
   ]
  },
  {
   "cell_type": "code",
   "execution_count": 136,
   "metadata": {},
   "outputs": [],
   "source": [
    "V=VectorSpace(QQ,4).span_of_basis([f1,f2,f3,f4])"
   ]
  },
  {
   "cell_type": "code",
   "execution_count": 137,
   "metadata": {},
   "outputs": [
    {
     "data": {
      "text/html": [
       "<html>\\[\\newcommand{\\Bold}[1]{\\mathbf{#1}}\\left[1, 2, -1, -2\\right]\\]</html>"
      ],
      "text/latex": [
       "$$\\newcommand{\\Bold}[1]{\\mathbf{#1}}\\left[1, 2, -1, -2\\right]$$"
      ],
      "text/plain": [
       "[1, 2, -1, -2]"
      ]
     },
     "execution_count": 137,
     "metadata": {},
     "output_type": "execute_result"
    }
   ],
   "source": [
    "V.coordinates(p)"
   ]
  },
  {
   "cell_type": "markdown",
   "metadata": {},
   "source": [
    "<p>Potražimo još za vježbu koordinate polinoma $p$ u bazi $\\big\\{f_1,f_2,f_3,f_4\\big\\}$ pomoću matrice prijelaza</p>"
   ]
  },
  {
   "cell_type": "code",
   "execution_count": 138,
   "metadata": {},
   "outputs": [
    {
     "data": {
      "text/html": [
       "<html>\\[\\newcommand{\\Bold}[1]{\\mathbf{#1}}\\left(\\begin{array}{rrrr}\n",
       "\\frac{1}{5} & -\\frac{1}{5} & \\frac{1}{5} & -\\frac{1}{5} \\\\\n",
       "0 & 1 & 1 & 3 \\\\\n",
       "0 & 0 & 1 & -2 \\\\\n",
       "0 & 0 & 0 & 1\n",
       "\\end{array}\\right)\\]</html>"
      ],
      "text/latex": [
       "$$\\newcommand{\\Bold}[1]{\\mathbf{#1}}\\left(\\begin{array}{rrrr}\n",
       "\\frac{1}{5} & -\\frac{1}{5} & \\frac{1}{5} & -\\frac{1}{5} \\\\\n",
       "0 & 1 & 1 & 3 \\\\\n",
       "0 & 0 & 1 & -2 \\\\\n",
       "0 & 0 & 0 & 1\n",
       "\\end{array}\\right)$$"
      ],
      "text/plain": [
       "[ 1/5 -1/5  1/5 -1/5]\n",
       "[   0    1    1    3]\n",
       "[   0    0    1   -2]\n",
       "[   0    0    0    1]"
      ]
     },
     "execution_count": 138,
     "metadata": {},
     "output_type": "execute_result"
    }
   ],
   "source": [
    "A^-1"
   ]
  },
  {
   "cell_type": "code",
   "execution_count": 139,
   "metadata": {},
   "outputs": [
    {
     "data": {
      "text/html": [
       "<html>\\[\\newcommand{\\Bold}[1]{\\mathbf{#1}}\\left(1,\\,2,\\,-1,\\,-2\\right)\\]</html>"
      ],
      "text/latex": [
       "$$\\newcommand{\\Bold}[1]{\\mathbf{#1}}\\left(1,\\,2,\\,-1,\\,-2\\right)$$"
      ],
      "text/plain": [
       "(1, 2, -1, -2)"
      ]
     },
     "execution_count": 139,
     "metadata": {},
     "output_type": "execute_result"
    }
   ],
   "source": [
    "A^-1*p"
   ]
  },
  {
   "cell_type": "markdown",
   "metadata": {},
   "source": [
    "<div style=\"background-color: #F5FFFA; color: #000000; border: 2px solid #B0C4DE; border-radius: 15px; padding:0px 10px 25px; overflow:auto\">\n",
    "<h3>12. zadatak</h3>\n",
    "<p>Jesu li matrice</p>\n",
    "<p>$$A=\\begin{bmatrix}1&0\\\\ 1&1\\end{bmatrix},\\ \\ B=\\begin{bmatrix}1&1\\\\ 1&1\\end{bmatrix},\\ \\ C=\\begin{bmatrix}0&1\\\\ 1&1\\end{bmatrix}$$</p>\n",
    "<p>linearno nezavisni elementi vektorskog prostora $M_2(\\mathbb{R})$?</p>\n",
    "</div>\n",
    "<h3>Rješenje</h3>\n",
    "\n",
    "<p>Zadatak ćemo riješiti na dva načina: rješavanjem homogenog sustava i pomoću koordinata.</p>\n",
    "<p><strong>1. način: rješavanjem homogenog sustava linearnih jednadžbi</strong></p>"
   ]
  },
  {
   "cell_type": "code",
   "execution_count": 140,
   "metadata": {},
   "outputs": [],
   "source": [
    "A=matrix([[1,0],[1,1]])\n",
    "B=matrix([[1,1],[1,1]])\n",
    "C=matrix([[0,1],[1,1]])"
   ]
  },
  {
   "cell_type": "markdown",
   "metadata": {},
   "source": [
    "<p>Kako postoji samo trivijalno rješenje, matrice $A, B, C$ su linearno nezavisne u $M_2(\\mathbb{R})$.</p>"
   ]
  },
  {
   "cell_type": "code",
   "execution_count": 141,
   "metadata": {},
   "outputs": [
    {
     "data": {
      "text/html": [
       "<html>\\[\\newcommand{\\Bold}[1]{\\mathbf{#1}}\\left[\\left[x = 0, y = 0, z = 0\\right]\\right]\\]</html>"
      ],
      "text/latex": [
       "$$\\newcommand{\\Bold}[1]{\\mathbf{#1}}\\left[\\left[x = 0, y = 0, z = 0\\right]\\right]$$"
      ],
      "text/plain": [
       "[[x == 0, y == 0, z == 0]]"
      ]
     },
     "execution_count": 141,
     "metadata": {},
     "output_type": "execute_result"
    }
   ],
   "source": [
    "solve_mat(x*A+y*B+z*C,matrix(2),[x,y,z])"
   ]
  },
  {
   "cell_type": "markdown",
   "metadata": {},
   "source": [
    "<p><strong>2. način: pomoću koordinata</strong></p>\n",
    "<p style=\"line-height:50px;\">Matrice $\\begin{bmatrix}1&0\\\\ 0&0\\end{bmatrix},$ $\\begin{bmatrix}0&1\\\\ 0&0\\end{bmatrix},$ $\\begin{bmatrix}0&0\\\\ 1&0\\end{bmatrix},$ $\\begin{bmatrix}0&0\\\\ 0&1\\end{bmatrix}$ čine kanonsku bazu za $M_2(\\mathbb{R})$. Koordinate matrica $A, B, C$ u kanonskoj bazi su $A=(1,0,1,1),$ $B=(1,1,1,1),$ $C=(0,1,1,1)$. Smjestimo te vektore u stupce jedne matrice i izračunamo njezin rang.</p>"
   ]
  },
  {
   "cell_type": "code",
   "execution_count": 142,
   "metadata": {},
   "outputs": [
    {
     "data": {
      "text/html": [
       "<html>\\[\\newcommand{\\Bold}[1]{\\mathbf{#1}}\\left(\\begin{array}{rrr}\n",
       "1 & 1 & 0 \\\\\n",
       "0 & 1 & 1 \\\\\n",
       "1 & 1 & 1 \\\\\n",
       "1 & 1 & 1\n",
       "\\end{array}\\right)\\]</html>"
      ],
      "text/latex": [
       "$$\\newcommand{\\Bold}[1]{\\mathbf{#1}}\\left(\\begin{array}{rrr}\n",
       "1 & 1 & 0 \\\\\n",
       "0 & 1 & 1 \\\\\n",
       "1 & 1 & 1 \\\\\n",
       "1 & 1 & 1\n",
       "\\end{array}\\right)$$"
      ],
      "text/plain": [
       "[1 1 0]\n",
       "[0 1 1]\n",
       "[1 1 1]\n",
       "[1 1 1]"
      ]
     },
     "execution_count": 142,
     "metadata": {},
     "output_type": "execute_result"
    }
   ],
   "source": [
    "M=matrix([[1,0,1,1],[1,1,1,1],[0,1,1,1]]).transpose(); M"
   ]
  },
  {
   "cell_type": "markdown",
   "metadata": {},
   "source": [
    "<p>Kako je matrica $M$ maksimalnog ranga, zadane matrice $A, B, C$ su linearno nezavisne u $M_2(\\mathbb{R})$.</p>"
   ]
  },
  {
   "cell_type": "code",
   "execution_count": 143,
   "metadata": {},
   "outputs": [
    {
     "data": {
      "text/html": [
       "<html>\\[\\newcommand{\\Bold}[1]{\\mathbf{#1}}3\\]</html>"
      ],
      "text/latex": [
       "$$\\newcommand{\\Bold}[1]{\\mathbf{#1}}3$$"
      ],
      "text/plain": [
       "3"
      ]
     },
     "execution_count": 143,
     "metadata": {},
     "output_type": "execute_result"
    }
   ],
   "source": [
    "M.rank()"
   ]
  },
  {
   "cell_type": "markdown",
   "metadata": {},
   "source": [
    "<div style=\"background-color: #F5FFFA; color: #000000; border: 2px solid #B0C4DE; border-radius: 15px; padding:0px 10px 25px; overflow:auto\">\n",
    "<h3>13. zadatak</h3>\n",
    "<p>Dokažite da je skup $B=\\big\\{(0,1,0,0,0), (1,2,1,0,1), (1,1,0,0,0)\\big\\}$ linearno nezavisan u $\\mathbb{R}^5$ i nadopunite ga do baze za $\\mathbb{R}^5$.</p>\n",
    "</div>\n",
    "<h3>Rješenje</h3>"
   ]
  },
  {
   "cell_type": "code",
   "execution_count": 144,
   "metadata": {},
   "outputs": [
    {
     "data": {
      "text/html": [
       "<html>\\[\\newcommand{\\Bold}[1]{\\mathbf{#1}}\\left(\\begin{array}{rrr}\n",
       "0 & 1 & 1 \\\\\n",
       "1 & 2 & 1 \\\\\n",
       "0 & 1 & 0 \\\\\n",
       "0 & 0 & 0 \\\\\n",
       "0 & 1 & 0\n",
       "\\end{array}\\right)\\]</html>"
      ],
      "text/latex": [
       "$$\\newcommand{\\Bold}[1]{\\mathbf{#1}}\\left(\\begin{array}{rrr}\n",
       "0 & 1 & 1 \\\\\n",
       "1 & 2 & 1 \\\\\n",
       "0 & 1 & 0 \\\\\n",
       "0 & 0 & 0 \\\\\n",
       "0 & 1 & 0\n",
       "\\end{array}\\right)$$"
      ],
      "text/plain": [
       "[0 1 1]\n",
       "[1 2 1]\n",
       "[0 1 0]\n",
       "[0 0 0]\n",
       "[0 1 0]"
      ]
     },
     "execution_count": 144,
     "metadata": {},
     "output_type": "execute_result"
    }
   ],
   "source": [
    "M=matrix([[0,1,0,0,0],[1,2,1,0,1],[1,1,0,0,0]]).transpose(); M"
   ]
  },
  {
   "cell_type": "markdown",
   "metadata": {},
   "source": [
    "<p>Matrica $M$ je maksimalnog ranga pa je skup $B$ linearno nezavisan u $\\mathbb{R}^5$.</p>"
   ]
  },
  {
   "cell_type": "code",
   "execution_count": 145,
   "metadata": {},
   "outputs": [
    {
     "data": {
      "text/html": [
       "<html>\\[\\newcommand{\\Bold}[1]{\\mathbf{#1}}3\\]</html>"
      ],
      "text/latex": [
       "$$\\newcommand{\\Bold}[1]{\\mathbf{#1}}3$$"
      ],
      "text/plain": [
       "3"
      ]
     },
     "execution_count": 145,
     "metadata": {},
     "output_type": "execute_result"
    }
   ],
   "source": [
    "M.rank()"
   ]
  },
  {
   "cell_type": "markdown",
   "metadata": {},
   "source": [
    "<p style=\"line-height:30px;\">Kako je $\\dim{\\mathbb{R}^5}=5$, skupu $B$ još nedostaju dva vektora da bi on postao baza. Najjednostavnije je da nadopunjavamo s vektorima iz kanonske baze za $\\mathbb{R}^5$ ukoliko ništa drugo nije eksplicitno preporučeno, niti zabranjeno. Stupcima matrice $M$ dodat ćemo vektore iz kanonske baze i tako dobivenu matricu nakon toga svodimo na njezinu retčanu kanonsku formu iz koje ćemo vidjeti koja dva vektora iz kanonske baze možemo dodati skupu $B$ da bi i on postao baza za $\\mathbb{R}^5$. Naravno, možete se poigrati i s dodavanjem nekih drugih vektora, ne moraju nužno biti vektori iz kanonske baze. Ono što je važno zapamtiti: <span style=\"color: #ff0000;\">nadopuna linearno nezavisnog skupa do baze nije jedinstvena.</span></p>"
   ]
  },
  {
   "cell_type": "code",
   "execution_count": 146,
   "metadata": {},
   "outputs": [
    {
     "data": {
      "text/html": [
       "<html>\\[\\newcommand{\\Bold}[1]{\\mathbf{#1}}\\left(\\left(\\begin{array}{rrr}\n",
       "0 & 1 & 1 \\\\\n",
       "1 & 2 & 1 \\\\\n",
       "0 & 1 & 0 \\\\\n",
       "0 & 0 & 0 \\\\\n",
       "0 & 1 & 0\n",
       "\\end{array}\\right), \\left(\\begin{array}{rrrrrrrr}\n",
       "0 & 1 & 1 & 1 & 0 & 0 & 0 & 0 \\\\\n",
       "1 & 2 & 1 & 0 & 1 & 0 & 0 & 0 \\\\\n",
       "0 & 1 & 0 & 0 & 0 & 1 & 0 & 0 \\\\\n",
       "0 & 0 & 0 & 0 & 0 & 0 & 1 & 0 \\\\\n",
       "0 & 1 & 0 & 0 & 0 & 0 & 0 & 1\n",
       "\\end{array}\\right)\\right)\\]</html>"
      ],
      "text/latex": [
       "$$\\newcommand{\\Bold}[1]{\\mathbf{#1}}\\left(\\left(\\begin{array}{rrr}\n",
       "0 & 1 & 1 \\\\\n",
       "1 & 2 & 1 \\\\\n",
       "0 & 1 & 0 \\\\\n",
       "0 & 0 & 0 \\\\\n",
       "0 & 1 & 0\n",
       "\\end{array}\\right), \\left(\\begin{array}{rrrrrrrr}\n",
       "0 & 1 & 1 & 1 & 0 & 0 & 0 & 0 \\\\\n",
       "1 & 2 & 1 & 0 & 1 & 0 & 0 & 0 \\\\\n",
       "0 & 1 & 0 & 0 & 0 & 1 & 0 & 0 \\\\\n",
       "0 & 0 & 0 & 0 & 0 & 0 & 1 & 0 \\\\\n",
       "0 & 1 & 0 & 0 & 0 & 0 & 0 & 1\n",
       "\\end{array}\\right)\\right)$$"
      ],
      "text/plain": [
       "(\n",
       "[0 1 1]  [0 1 1 1 0 0 0 0]\n",
       "[1 2 1]  [1 2 1 0 1 0 0 0]\n",
       "[0 1 0]  [0 1 0 0 0 1 0 0]\n",
       "[0 0 0]  [0 0 0 0 0 0 1 0]\n",
       "[0 1 0], [0 1 0 0 0 0 0 1]\n",
       ")"
      ]
     },
     "execution_count": 146,
     "metadata": {},
     "output_type": "execute_result"
    }
   ],
   "source": [
    "M1=M.augment(identity_matrix(5))\n",
    "M,M1"
   ]
  },
  {
   "cell_type": "code",
   "execution_count": 147,
   "metadata": {},
   "outputs": [
    {
     "data": {
      "text/html": [
       "<html>\\[\\newcommand{\\Bold}[1]{\\mathbf{#1}}\\left(\\begin{array}{rrrrrrrr}\n",
       "1 & 0 & 0 & -1 & 1 & 0 & 0 & -1 \\\\\n",
       "0 & 1 & 0 & 0 & 0 & 0 & 0 & 1 \\\\\n",
       "0 & 0 & 1 & 1 & 0 & 0 & 0 & -1 \\\\\n",
       "0 & 0 & 0 & 0 & 0 & 1 & 0 & -1 \\\\\n",
       "0 & 0 & 0 & 0 & 0 & 0 & 1 & 0\n",
       "\\end{array}\\right)\\]</html>"
      ],
      "text/latex": [
       "$$\\newcommand{\\Bold}[1]{\\mathbf{#1}}\\left(\\begin{array}{rrrrrrrr}\n",
       "1 & 0 & 0 & -1 & 1 & 0 & 0 & -1 \\\\\n",
       "0 & 1 & 0 & 0 & 0 & 0 & 0 & 1 \\\\\n",
       "0 & 0 & 1 & 1 & 0 & 0 & 0 & -1 \\\\\n",
       "0 & 0 & 0 & 0 & 0 & 1 & 0 & -1 \\\\\n",
       "0 & 0 & 0 & 0 & 0 & 0 & 1 & 0\n",
       "\\end{array}\\right)$$"
      ],
      "text/plain": [
       "[ 1  0  0 -1  1  0  0 -1]\n",
       "[ 0  1  0  0  0  0  0  1]\n",
       "[ 0  0  1  1  0  0  0 -1]\n",
       "[ 0  0  0  0  0  1  0 -1]\n",
       "[ 0  0  0  0  0  0  1  0]"
      ]
     },
     "execution_count": 147,
     "metadata": {},
     "output_type": "execute_result"
    }
   ],
   "source": [
    "M1.echelon_form()"
   ]
  },
  {
   "cell_type": "markdown",
   "metadata": {},
   "source": [
    "<p style=\"line-height:30px;\">Iz retčane kanonske forme uočavamo da, npr. možemo skupu $B$ dodati vektore $(0,0,1,0,0)$ i $(0,0,0,1,0)$ pa da on postane baza.<br>\n",
    "Zamijenimo mjesta u matrici M1 stupcima u kojima su vektori $(0,0,1,0,0)$ i $(0,0,0,0,1)$ i pronađimo retčanu kanonsku formu te matrice.</p>"
   ]
  },
  {
   "cell_type": "code",
   "execution_count": 148,
   "metadata": {},
   "outputs": [
    {
     "data": {
      "text/html": [
       "<html>\\[\\newcommand{\\Bold}[1]{\\mathbf{#1}}\\left(\\begin{array}{rrrrrrrr}\n",
       "0 & 1 & 1 & 1 & 0 & 0 & 0 & 0 \\\\\n",
       "1 & 2 & 1 & 0 & 1 & 0 & 0 & 0 \\\\\n",
       "0 & 1 & 0 & 0 & 0 & 0 & 0 & 1 \\\\\n",
       "0 & 0 & 0 & 0 & 0 & 0 & 1 & 0 \\\\\n",
       "0 & 1 & 0 & 0 & 0 & 1 & 0 & 0\n",
       "\\end{array}\\right)\\]</html>"
      ],
      "text/latex": [
       "$$\\newcommand{\\Bold}[1]{\\mathbf{#1}}\\left(\\begin{array}{rrrrrrrr}\n",
       "0 & 1 & 1 & 1 & 0 & 0 & 0 & 0 \\\\\n",
       "1 & 2 & 1 & 0 & 1 & 0 & 0 & 0 \\\\\n",
       "0 & 1 & 0 & 0 & 0 & 0 & 0 & 1 \\\\\n",
       "0 & 0 & 0 & 0 & 0 & 0 & 1 & 0 \\\\\n",
       "0 & 1 & 0 & 0 & 0 & 1 & 0 & 0\n",
       "\\end{array}\\right)$$"
      ],
      "text/plain": [
       "[0 1 1 1 0 0 0 0]\n",
       "[1 2 1 0 1 0 0 0]\n",
       "[0 1 0 0 0 0 0 1]\n",
       "[0 0 0 0 0 0 1 0]\n",
       "[0 1 0 0 0 1 0 0]"
      ]
     },
     "execution_count": 148,
     "metadata": {},
     "output_type": "execute_result"
    }
   ],
   "source": [
    "M1.swap_columns(5,7)\n",
    "M1"
   ]
  },
  {
   "cell_type": "code",
   "execution_count": 149,
   "metadata": {},
   "outputs": [
    {
     "data": {
      "text/html": [
       "<html>\\[\\newcommand{\\Bold}[1]{\\mathbf{#1}}\\left(\\begin{array}{rrrrrrrr}\n",
       "1 & 0 & 0 & -1 & 1 & 0 & 0 & -1 \\\\\n",
       "0 & 1 & 0 & 0 & 0 & 0 & 0 & 1 \\\\\n",
       "0 & 0 & 1 & 1 & 0 & 0 & 0 & -1 \\\\\n",
       "0 & 0 & 0 & 0 & 0 & 1 & 0 & -1 \\\\\n",
       "0 & 0 & 0 & 0 & 0 & 0 & 1 & 0\n",
       "\\end{array}\\right)\\]</html>"
      ],
      "text/latex": [
       "$$\\newcommand{\\Bold}[1]{\\mathbf{#1}}\\left(\\begin{array}{rrrrrrrr}\n",
       "1 & 0 & 0 & -1 & 1 & 0 & 0 & -1 \\\\\n",
       "0 & 1 & 0 & 0 & 0 & 0 & 0 & 1 \\\\\n",
       "0 & 0 & 1 & 1 & 0 & 0 & 0 & -1 \\\\\n",
       "0 & 0 & 0 & 0 & 0 & 1 & 0 & -1 \\\\\n",
       "0 & 0 & 0 & 0 & 0 & 0 & 1 & 0\n",
       "\\end{array}\\right)$$"
      ],
      "text/plain": [
       "[ 1  0  0 -1  1  0  0 -1]\n",
       "[ 0  1  0  0  0  0  0  1]\n",
       "[ 0  0  1  1  0  0  0 -1]\n",
       "[ 0  0  0  0  0  1  0 -1]\n",
       "[ 0  0  0  0  0  0  1  0]"
      ]
     },
     "execution_count": 149,
     "metadata": {},
     "output_type": "execute_result"
    }
   ],
   "source": [
    "M1.echelon_form()"
   ]
  },
  {
   "cell_type": "markdown",
   "metadata": {},
   "source": [
    "<p style=\"line-height:30px;\">Sada uočavamo da skupu $B$ možemo također dodati vektore $(0,0,0,1,0)$ i $(0,0,0,0,1)$ pa da on postane baza. Ono što smo već i ranije mogli uočiti, npr. vektor $(1,0,0,0,0)$ je linearna kombinacija vektora iz skupa $B$ pa on niti u kojem slučaju zajedno s vektorima iz $B$ ne može činiti bazu za $\\mathbb{R}^5$. Za vježbu pogledajte koje sve još vektore iz kanonske baze možemo dodati skupu $B$ kako bismo ga nadopunili do baze i koje to vektore eventualno ne možemo dodati. Također, poigrajte se s još nekim drugim vektorima kojima bismo mogli nadopuniti skup $B$ do baze. Naravno da takvih mogućnosti ima beskonačno mnogo.</p>"
   ]
  },
  {
   "cell_type": "markdown",
   "metadata": {},
   "source": [
    "<div style=\"background-color: #F5FFFA; color: #000000; border: 2px solid #B0C4DE; border-radius: 15px; padding:0px 10px 25px; overflow:auto\">\n",
    "<h3>14. zadatak</h3>\n",
    "<p>Neka je $W$ potprostor od $\\mathbb{R}^5$ razapet s vektorima</p> \n",
    "<p>$$u_1=(1,2,-1,3,4),\\ \\ u_2=(2,4,-2,6,8),\\ \\ u_3=(1,3,2,2,6),\\ \\ u_4=(1,4,5,1,8),\\ \\ u_5=(2,7,3,3,9).$$</p>\n",
    "<p>Odredite dimenziju prostora $W$ i jednu bazu za $W$.</p>\n",
    "</div>\n",
    "<h3>Rješenje</h3>"
   ]
  },
  {
   "cell_type": "code",
   "execution_count": 150,
   "metadata": {},
   "outputs": [],
   "source": [
    "W=(QQ^5).subspace([[1,2,-1,3,4],[2,4,-2,6,8],[1,3,2,2,6],[1,4,5,1,8],[2,7,3,3,9]])"
   ]
  },
  {
   "cell_type": "markdown",
   "metadata": {},
   "source": [
    "<p>Baza je automatski svedena na \"kanonsku\"</p>"
   ]
  },
  {
   "cell_type": "code",
   "execution_count": 151,
   "metadata": {},
   "outputs": [
    {
     "data": {
      "text/html": [
       "<html>\\[\\newcommand{\\Bold}[1]{\\mathbf{#1}}\\left[\\left(1,\\,0,\\,0,\\,5,\\,\\frac{35}{4}\\right), \\left(0,\\,1,\\,0,\\,-1,\\,-\\frac{7}{4}\\right), \\left(0,\\,0,\\,1,\\,0,\\,\\frac{5}{4}\\right)\\right]\\]</html>"
      ],
      "text/latex": [
       "$$\\newcommand{\\Bold}[1]{\\mathbf{#1}}\\left[\\left(1,\\,0,\\,0,\\,5,\\,\\frac{35}{4}\\right), \\left(0,\\,1,\\,0,\\,-1,\\,-\\frac{7}{4}\\right), \\left(0,\\,0,\\,1,\\,0,\\,\\frac{5}{4}\\right)\\right]$$"
      ],
      "text/plain": [
       "[\n",
       "(1, 0, 0, 5, 35/4),\n",
       "(0, 1, 0, -1, -7/4),\n",
       "(0, 0, 1, 0, 5/4)\n",
       "]"
      ]
     },
     "execution_count": 151,
     "metadata": {},
     "output_type": "execute_result"
    }
   ],
   "source": [
    "W.basis()"
   ]
  },
  {
   "cell_type": "code",
   "execution_count": 152,
   "metadata": {},
   "outputs": [
    {
     "data": {
      "text/html": [
       "<html>\\[\\newcommand{\\Bold}[1]{\\mathbf{#1}}3\\]</html>"
      ],
      "text/latex": [
       "$$\\newcommand{\\Bold}[1]{\\mathbf{#1}}3$$"
      ],
      "text/plain": [
       "3"
      ]
     },
     "execution_count": 152,
     "metadata": {},
     "output_type": "execute_result"
    }
   ],
   "source": [
    "W.dimension()"
   ]
  },
  {
   "cell_type": "markdown",
   "metadata": {},
   "source": [
    "<p>Način na koji zadatak rješavamo ručno</p>\n",
    "\n",
    "<p><strong>1. način: ako želimo bazu svesti na kanonsku</strong></p>\n",
    "<p style=\"line-height:25px;\">Vektore kojima je potprostor razapet napišemo u retke jedne matrice i tu matricu svedemo na njezinu retčanu kanonsku formu iz koje očitamo \"kanonsku\" bazu za $W$</p>"
   ]
  },
  {
   "cell_type": "code",
   "execution_count": 153,
   "metadata": {},
   "outputs": [
    {
     "data": {
      "text/html": [
       "<html>\\[\\newcommand{\\Bold}[1]{\\mathbf{#1}}\\left(\\begin{array}{rrrrr}\n",
       "1 & 2 & -1 & 3 & 4 \\\\\n",
       "2 & 4 & -2 & 6 & 8 \\\\\n",
       "1 & 3 & 2 & 2 & 6 \\\\\n",
       "1 & 4 & 5 & 1 & 8 \\\\\n",
       "2 & 7 & 3 & 3 & 9\n",
       "\\end{array}\\right)\\]</html>"
      ],
      "text/latex": [
       "$$\\newcommand{\\Bold}[1]{\\mathbf{#1}}\\left(\\begin{array}{rrrrr}\n",
       "1 & 2 & -1 & 3 & 4 \\\\\n",
       "2 & 4 & -2 & 6 & 8 \\\\\n",
       "1 & 3 & 2 & 2 & 6 \\\\\n",
       "1 & 4 & 5 & 1 & 8 \\\\\n",
       "2 & 7 & 3 & 3 & 9\n",
       "\\end{array}\\right)$$"
      ],
      "text/plain": [
       "[ 1  2 -1  3  4]\n",
       "[ 2  4 -2  6  8]\n",
       "[ 1  3  2  2  6]\n",
       "[ 1  4  5  1  8]\n",
       "[ 2  7  3  3  9]"
      ]
     },
     "execution_count": 153,
     "metadata": {},
     "output_type": "execute_result"
    }
   ],
   "source": [
    "A=matrix(QQ,[[1,2,-1,3,4],[2,4,-2,6,8],[1,3,2,2,6],[1,4,5,1,8],[2,7,3,3,9]]); A"
   ]
  },
  {
   "cell_type": "markdown",
   "metadata": {},
   "source": [
    "<p>Prva tri retka u retčanoj kanonskoj formi matrice $A$ čine kanonsku bazu za $W$ (to smo dobili već i ranije pomoću gotovih SAGE naredbi)</p>"
   ]
  },
  {
   "cell_type": "code",
   "execution_count": 154,
   "metadata": {},
   "outputs": [
    {
     "data": {
      "text/html": [
       "<html>\\[\\newcommand{\\Bold}[1]{\\mathbf{#1}}\\left(\\begin{array}{rrrrr}\n",
       "1 & 0 & 0 & 5 & \\frac{35}{4} \\\\\n",
       "0 & 1 & 0 & -1 & -\\frac{7}{4} \\\\\n",
       "0 & 0 & 1 & 0 & \\frac{5}{4} \\\\\n",
       "0 & 0 & 0 & 0 & 0 \\\\\n",
       "0 & 0 & 0 & 0 & 0\n",
       "\\end{array}\\right)\\]</html>"
      ],
      "text/latex": [
       "$$\\newcommand{\\Bold}[1]{\\mathbf{#1}}\\left(\\begin{array}{rrrrr}\n",
       "1 & 0 & 0 & 5 & \\frac{35}{4} \\\\\n",
       "0 & 1 & 0 & -1 & -\\frac{7}{4} \\\\\n",
       "0 & 0 & 1 & 0 & \\frac{5}{4} \\\\\n",
       "0 & 0 & 0 & 0 & 0 \\\\\n",
       "0 & 0 & 0 & 0 & 0\n",
       "\\end{array}\\right)$$"
      ],
      "text/plain": [
       "[   1    0    0    5 35/4]\n",
       "[   0    1    0   -1 -7/4]\n",
       "[   0    0    1    0  5/4]\n",
       "[   0    0    0    0    0]\n",
       "[   0    0    0    0    0]"
      ]
     },
     "execution_count": 154,
     "metadata": {},
     "output_type": "execute_result"
    }
   ],
   "source": [
    "A.echelon_form()"
   ]
  },
  {
   "cell_type": "markdown",
   "metadata": {},
   "source": [
    "<p><strong>2. način: ako želimo među zadanim vektorima koji razapinju $W$ odabrati neke od njih koji će biti baza za $W$</strong></p>\n",
    "<p style=\"line-height:25px;\">Vektore kojima je potprostor razapet napišemo u stupce jedne matrice i tu matricu svedemo na njezinu retčanu kanonsku formu iz koje ćemo moći očitati jednu bazu koja je sastavljena od već ponuđenih vektora u zadatku.</p>"
   ]
  },
  {
   "cell_type": "code",
   "execution_count": 155,
   "metadata": {},
   "outputs": [
    {
     "data": {
      "text/html": [
       "<html>\\[\\newcommand{\\Bold}[1]{\\mathbf{#1}}\\left(\\begin{array}{rrrrr}\n",
       "1 & 2 & 1 & 1 & 2 \\\\\n",
       "2 & 4 & 3 & 4 & 7 \\\\\n",
       "-1 & -2 & 2 & 5 & 3 \\\\\n",
       "3 & 6 & 2 & 1 & 3 \\\\\n",
       "4 & 8 & 6 & 8 & 9\n",
       "\\end{array}\\right)\\]</html>"
      ],
      "text/latex": [
       "$$\\newcommand{\\Bold}[1]{\\mathbf{#1}}\\left(\\begin{array}{rrrrr}\n",
       "1 & 2 & 1 & 1 & 2 \\\\\n",
       "2 & 4 & 3 & 4 & 7 \\\\\n",
       "-1 & -2 & 2 & 5 & 3 \\\\\n",
       "3 & 6 & 2 & 1 & 3 \\\\\n",
       "4 & 8 & 6 & 8 & 9\n",
       "\\end{array}\\right)$$"
      ],
      "text/plain": [
       "[ 1  2  1  1  2]\n",
       "[ 2  4  3  4  7]\n",
       "[-1 -2  2  5  3]\n",
       "[ 3  6  2  1  3]\n",
       "[ 4  8  6  8  9]"
      ]
     },
     "execution_count": 155,
     "metadata": {},
     "output_type": "execute_result"
    }
   ],
   "source": [
    "B=A.transpose(); B"
   ]
  },
  {
   "cell_type": "code",
   "execution_count": 156,
   "metadata": {},
   "outputs": [
    {
     "data": {
      "text/html": [
       "<html>\\[\\newcommand{\\Bold}[1]{\\mathbf{#1}}\\left(\\begin{array}{rrrrr}\n",
       "1 & 2 & 0 & -1 & 0 \\\\\n",
       "0 & 0 & 1 & 2 & 0 \\\\\n",
       "0 & 0 & 0 & 0 & 1 \\\\\n",
       "0 & 0 & 0 & 0 & 0 \\\\\n",
       "0 & 0 & 0 & 0 & 0\n",
       "\\end{array}\\right)\\]</html>"
      ],
      "text/latex": [
       "$$\\newcommand{\\Bold}[1]{\\mathbf{#1}}\\left(\\begin{array}{rrrrr}\n",
       "1 & 2 & 0 & -1 & 0 \\\\\n",
       "0 & 0 & 1 & 2 & 0 \\\\\n",
       "0 & 0 & 0 & 0 & 1 \\\\\n",
       "0 & 0 & 0 & 0 & 0 \\\\\n",
       "0 & 0 & 0 & 0 & 0\n",
       "\\end{array}\\right)$$"
      ],
      "text/plain": [
       "[ 1  2  0 -1  0]\n",
       "[ 0  0  1  2  0]\n",
       "[ 0  0  0  0  1]\n",
       "[ 0  0  0  0  0]\n",
       "[ 0  0  0  0  0]"
      ]
     },
     "execution_count": 156,
     "metadata": {},
     "output_type": "execute_result"
    }
   ],
   "source": [
    "B.echelon_form()"
   ]
  },
  {
   "cell_type": "markdown",
   "metadata": {},
   "source": [
    "<p>Iz retčane kanonske forme matrice $B$ vidimo da za bazu potprostora $W$ možemo uzeti, npr. vektore</p> \n",
    "<p>$$u_1=(1,2,-1,3,4),\\ \\ u_3=(1,3,2,2,6),\\ \\ u_5=(2,7,3,3,9).$$</p> \n",
    "<p style=\"line-height:25px;\">Naime, biramo one vektore u bazu koji se nalaze u onim stupcima matrice $B$ koji sadrže pivote u njezinoj pripadnoj retčanoj kanonskoj formi.</p>"
   ]
  },
  {
   "cell_type": "markdown",
   "metadata": {},
   "source": [
    "<div style=\"background-color: #F5FFFA; color: #000000; border: 2px solid #B0C4DE; border-radius: 15px; padding:0px 10px 25px; overflow:auto\">\n",
    "<h3>15. zadatak</h3>\n",
    "<p>Zadana je matrica $M=\\begin{bmatrix}1&3&-2&5&4\\\\ 1&4&1&3&5\\\\ 1&4&2&4&3\\\\ 2&7&-3&6&13\\end{bmatrix}$.</p>\n",
    "<ol style=\"list-style-type:lower-alpha;\">\n",
    "<li style=\"line-height:30px;\">Odredite dimenziju i neku bazu potprostora od $\\mathbb{R}^4$ koji je razapet sa stupcima matrice $M$.</li>\n",
    "<li style=\"line-height:30px;\">Odredite dimenziju i neku bazu potprostora od $\\mathbb{R}^5$ koji je razapet sa retcima matrice $M$.</li>\n",
    "<ol>\n",
    "</div>\n",
    "<h3>Rješenje</h3>\n",
    "<p style=\"line-height:25px;\">Kao što smo to detaljno objasnili u prethodnom zadatku, možemo tražiti kanonsku bazu za pojedine potprostore ili pak izabrati već među postojećim vektorima one koji čine bazu za promatrane potprostore. Ovdje ćemo ponovo napraviti oba načina, ali nećemo raditi detaljna objašnjenja kao u prethodnom zadatku.</p>"
   ]
  },
  {
   "cell_type": "code",
   "execution_count": 157,
   "metadata": {},
   "outputs": [
    {
     "data": {
      "text/html": [
       "<html>\\[\\newcommand{\\Bold}[1]{\\mathbf{#1}}\\left(\\begin{array}{rrrrr}\n",
       "1 & 3 & -2 & 5 & 4 \\\\\n",
       "1 & 4 & 1 & 3 & 5 \\\\\n",
       "1 & 4 & 2 & 4 & 3 \\\\\n",
       "2 & 7 & -3 & 6 & 13\n",
       "\\end{array}\\right)\\]</html>"
      ],
      "text/latex": [
       "$$\\newcommand{\\Bold}[1]{\\mathbf{#1}}\\left(\\begin{array}{rrrrr}\n",
       "1 & 3 & -2 & 5 & 4 \\\\\n",
       "1 & 4 & 1 & 3 & 5 \\\\\n",
       "1 & 4 & 2 & 4 & 3 \\\\\n",
       "2 & 7 & -3 & 6 & 13\n",
       "\\end{array}\\right)$$"
      ],
      "text/plain": [
       "[ 1  3 -2  5  4]\n",
       "[ 1  4  1  3  5]\n",
       "[ 1  4  2  4  3]\n",
       "[ 2  7 -3  6 13]"
      ]
     },
     "execution_count": 157,
     "metadata": {},
     "output_type": "execute_result"
    }
   ],
   "source": [
    "M=matrix(QQ,[[1,3,-2,5,4],[1,4,1,3,5],[1,4,2,4,3],[2,7,-3,6,13]]); M"
   ]
  },
  {
   "cell_type": "markdown",
   "metadata": {},
   "source": [
    "<p><strong>a) dio</strong></p>"
   ]
  },
  {
   "cell_type": "code",
   "execution_count": 158,
   "metadata": {},
   "outputs": [
    {
     "data": {
      "text/html": [
       "<html>\\[\\newcommand{\\Bold}[1]{\\mathbf{#1}}\\left(\\left(\\begin{array}{rrrr}\n",
       "1 & 1 & 1 & 2 \\\\\n",
       "3 & 4 & 4 & 7 \\\\\n",
       "-2 & 1 & 2 & -3 \\\\\n",
       "5 & 3 & 4 & 6 \\\\\n",
       "4 & 5 & 3 & 13\n",
       "\\end{array}\\right), \\left(\\begin{array}{rrrr}\n",
       "1 & 0 & 0 & 1 \\\\\n",
       "0 & 1 & 0 & 3 \\\\\n",
       "0 & 0 & 1 & -2 \\\\\n",
       "0 & 0 & 0 & 0 \\\\\n",
       "0 & 0 & 0 & 0\n",
       "\\end{array}\\right)\\right)\\]</html>"
      ],
      "text/latex": [
       "$$\\newcommand{\\Bold}[1]{\\mathbf{#1}}\\left(\\left(\\begin{array}{rrrr}\n",
       "1 & 1 & 1 & 2 \\\\\n",
       "3 & 4 & 4 & 7 \\\\\n",
       "-2 & 1 & 2 & -3 \\\\\n",
       "5 & 3 & 4 & 6 \\\\\n",
       "4 & 5 & 3 & 13\n",
       "\\end{array}\\right), \\left(\\begin{array}{rrrr}\n",
       "1 & 0 & 0 & 1 \\\\\n",
       "0 & 1 & 0 & 3 \\\\\n",
       "0 & 0 & 1 & -2 \\\\\n",
       "0 & 0 & 0 & 0 \\\\\n",
       "0 & 0 & 0 & 0\n",
       "\\end{array}\\right)\\right)$$"
      ],
      "text/plain": [
       "(\n",
       "[ 1  1  1  2]  [ 1  0  0  1]\n",
       "[ 3  4  4  7]  [ 0  1  0  3]\n",
       "[-2  1  2 -3]  [ 0  0  1 -2]\n",
       "[ 5  3  4  6]  [ 0  0  0  0]\n",
       "[ 4  5  3 13], [ 0  0  0  0]\n",
       ")"
      ]
     },
     "execution_count": 158,
     "metadata": {},
     "output_type": "execute_result"
    }
   ],
   "source": [
    "M.transpose(), M.transpose().echelon_form()"
   ]
  },
  {
   "cell_type": "markdown",
   "metadata": {},
   "source": [
    "<p style=\"line-height:25px;\">Kanonska baza za potprostor koji je razapet sa stupcima matrice $M$ je skup $\\{(1,0,0,1), (0,1,0,3), (0,0,1,-2)\\}$ pa je dimenzija tog potprostora jednaka 3.</p>"
   ]
  },
  {
   "cell_type": "code",
   "execution_count": 159,
   "metadata": {},
   "outputs": [
    {
     "data": {
      "text/html": [
       "<html>\\[\\newcommand{\\Bold}[1]{\\mathbf{#1}}\\left(\\begin{array}{rrrrr}\n",
       "1 & 0 & 0 & 22 & -21 \\\\\n",
       "0 & 1 & 0 & -5 & 7 \\\\\n",
       "0 & 0 & 1 & 1 & -2 \\\\\n",
       "0 & 0 & 0 & 0 & 0\n",
       "\\end{array}\\right)\\]</html>"
      ],
      "text/latex": [
       "$$\\newcommand{\\Bold}[1]{\\mathbf{#1}}\\left(\\begin{array}{rrrrr}\n",
       "1 & 0 & 0 & 22 & -21 \\\\\n",
       "0 & 1 & 0 & -5 & 7 \\\\\n",
       "0 & 0 & 1 & 1 & -2 \\\\\n",
       "0 & 0 & 0 & 0 & 0\n",
       "\\end{array}\\right)$$"
      ],
      "text/plain": [
       "[  1   0   0  22 -21]\n",
       "[  0   1   0  -5   7]\n",
       "[  0   0   1   1  -2]\n",
       "[  0   0   0   0   0]"
      ]
     },
     "execution_count": 159,
     "metadata": {},
     "output_type": "execute_result"
    }
   ],
   "source": [
    "M.echelon_form()"
   ]
  },
  {
   "cell_type": "markdown",
   "metadata": {},
   "source": [
    "<p style=\"line-height:25px;\">Za bazu potprostora koji je razapet sa stupcima matrice $M$ možemo uzeti, npr. skup $\\{(1,1,1,2), (3,4,4,7), (-2,1,2,-3)\\}$. U toj bazi svi vektori su neki stupci matrice $M$.</p>\n",
    "<p><strong>b) dio</strong></p>"
   ]
  },
  {
   "cell_type": "code",
   "execution_count": 160,
   "metadata": {},
   "outputs": [
    {
     "data": {
      "text/html": [
       "<html>\\[\\newcommand{\\Bold}[1]{\\mathbf{#1}}\\left(\\begin{array}{rrrrr}\n",
       "1 & 0 & 0 & 22 & -21 \\\\\n",
       "0 & 1 & 0 & -5 & 7 \\\\\n",
       "0 & 0 & 1 & 1 & -2 \\\\\n",
       "0 & 0 & 0 & 0 & 0\n",
       "\\end{array}\\right)\\]</html>"
      ],
      "text/latex": [
       "$$\\newcommand{\\Bold}[1]{\\mathbf{#1}}\\left(\\begin{array}{rrrrr}\n",
       "1 & 0 & 0 & 22 & -21 \\\\\n",
       "0 & 1 & 0 & -5 & 7 \\\\\n",
       "0 & 0 & 1 & 1 & -2 \\\\\n",
       "0 & 0 & 0 & 0 & 0\n",
       "\\end{array}\\right)$$"
      ],
      "text/plain": [
       "[  1   0   0  22 -21]\n",
       "[  0   1   0  -5   7]\n",
       "[  0   0   1   1  -2]\n",
       "[  0   0   0   0   0]"
      ]
     },
     "execution_count": 160,
     "metadata": {},
     "output_type": "execute_result"
    }
   ],
   "source": [
    "M.echelon_form()"
   ]
  },
  {
   "cell_type": "markdown",
   "metadata": {},
   "source": [
    "<p style=\"line-height:25px;\">Kanonska baza za potprostor koji je razapet s retcima matrice $M$ je skup $\\{(1,0,0,22,-21), (0,1,0,-5,7), (0,0,1,1,-2)\\}$ pa je dimenzija tog potprostora jednaka također 3.</p>"
   ]
  },
  {
   "cell_type": "code",
   "execution_count": 161,
   "metadata": {},
   "outputs": [
    {
     "data": {
      "text/html": [
       "<html>\\[\\newcommand{\\Bold}[1]{\\mathbf{#1}}\\left(\\begin{array}{rrrr}\n",
       "1 & 0 & 0 & 1 \\\\\n",
       "0 & 1 & 0 & 3 \\\\\n",
       "0 & 0 & 1 & -2 \\\\\n",
       "0 & 0 & 0 & 0 \\\\\n",
       "0 & 0 & 0 & 0\n",
       "\\end{array}\\right)\\]</html>"
      ],
      "text/latex": [
       "$$\\newcommand{\\Bold}[1]{\\mathbf{#1}}\\left(\\begin{array}{rrrr}\n",
       "1 & 0 & 0 & 1 \\\\\n",
       "0 & 1 & 0 & 3 \\\\\n",
       "0 & 0 & 1 & -2 \\\\\n",
       "0 & 0 & 0 & 0 \\\\\n",
       "0 & 0 & 0 & 0\n",
       "\\end{array}\\right)$$"
      ],
      "text/plain": [
       "[ 1  0  0  1]\n",
       "[ 0  1  0  3]\n",
       "[ 0  0  1 -2]\n",
       "[ 0  0  0  0]\n",
       "[ 0  0  0  0]"
      ]
     },
     "execution_count": 161,
     "metadata": {},
     "output_type": "execute_result"
    }
   ],
   "source": [
    "M.transpose().echelon_form()"
   ]
  },
  {
   "cell_type": "markdown",
   "metadata": {},
   "source": [
    "<p style=\"line-height:25px;\">Za bazu potprostora koji je razapet s retcima matrice $M$ možemo uzeti, npr. skup $\\{(1,3,-2,5,4), (1,4,1,3,5), (1,4,2,4,3)\\}$. U toj bazi svi vektori su neki retci matrice $M$.</p>\n",
    "<p style=\"line-height:25px;\"><strong>Napomena.</strong> Kako je rang matrice po retcima jednak rangu matrice po stupcima, potprostori koji su razapeti sa retcima, odnosno stupcima matrice $M$ su jednakih dimenzija.</p>"
   ]
  },
  {
   "cell_type": "markdown",
   "metadata": {},
   "source": [
    "<div style=\"background-color: #F5FFFA; color: #000000; border: 2px solid #B0C4DE; border-radius: 15px; padding:0px 10px 25px; overflow:auto\">\n",
    "<h3>16. zadatak</h3>\n",
    "<p>Neka je $S=\\{(1,1,0), (-1,2,0), (0,3,0)\\}$.</p>\n",
    "<ol style=\"list-style-type:lower-alpha;\">\n",
    "<li style=\"line-height:30px;\">Je li $S$ linearno nezavisan ili zavisan skup u $\\mathbb{R}^3$?</li>\n",
    "<li style=\"line-height:30px;\">Ispitajte da li vektor $(3,2,0)$ pripada skupu $\\mathcal{L}(S)$.</li>\n",
    "<li style=\"line-height:30px;\">Može li se vektor $(3,2,0)$ na jedinstveni način prikazati pomoću vektora iz skupa $S$? Objasnite.</li>\n",
    "</ol>\n",
    "</div>\n",
    "<h3>Rješenje</h3>"
   ]
  },
  {
   "cell_type": "code",
   "execution_count": 162,
   "metadata": {},
   "outputs": [],
   "source": [
    "v1=vector((1,1,0))\n",
    "v2=vector((-1,2,0))\n",
    "v3=vector((0,3,0))\n",
    "w=vector((3,2,0))"
   ]
  },
  {
   "cell_type": "markdown",
   "metadata": {},
   "source": [
    "<p><strong>a) dio</strong></p>"
   ]
  },
  {
   "cell_type": "code",
   "execution_count": 163,
   "metadata": {},
   "outputs": [
    {
     "data": {
      "text/html": [
       "<html>\\[\\newcommand{\\Bold}[1]{\\mathbf{#1}}\\left(\\begin{array}{rrr}\n",
       "1 & -1 & 0 \\\\\n",
       "1 & 2 & 3 \\\\\n",
       "0 & 0 & 0\n",
       "\\end{array}\\right)\\]</html>"
      ],
      "text/latex": [
       "$$\\newcommand{\\Bold}[1]{\\mathbf{#1}}\\left(\\begin{array}{rrr}\n",
       "1 & -1 & 0 \\\\\n",
       "1 & 2 & 3 \\\\\n",
       "0 & 0 & 0\n",
       "\\end{array}\\right)$$"
      ],
      "text/plain": [
       "[ 1 -1  0]\n",
       "[ 1  2  3]\n",
       "[ 0  0  0]"
      ]
     },
     "execution_count": 163,
     "metadata": {},
     "output_type": "execute_result"
    }
   ],
   "source": [
    "A=matrix(QQ,[v1,v2,v3]).transpose(); A"
   ]
  },
  {
   "cell_type": "markdown",
   "metadata": {},
   "source": [
    "<p>Matrica $A$ nije maksimalnog ranga pa je skup $S$ linearno zavisan skup u $\\mathbb{R}^3$.</p>"
   ]
  },
  {
   "cell_type": "code",
   "execution_count": 164,
   "metadata": {},
   "outputs": [
    {
     "data": {
      "text/html": [
       "<html>\\[\\newcommand{\\Bold}[1]{\\mathbf{#1}}2\\]</html>"
      ],
      "text/latex": [
       "$$\\newcommand{\\Bold}[1]{\\mathbf{#1}}2$$"
      ],
      "text/plain": [
       "2"
      ]
     },
     "execution_count": 164,
     "metadata": {},
     "output_type": "execute_result"
    }
   ],
   "source": [
    "A.rank()"
   ]
  },
  {
   "cell_type": "markdown",
   "metadata": {},
   "source": [
    "<p><strong>b) dio</strong></p>"
   ]
  },
  {
   "cell_type": "code",
   "execution_count": 165,
   "metadata": {},
   "outputs": [
    {
     "data": {
      "text/html": [
       "<html>\\[\\newcommand{\\Bold}[1]{\\mathbf{#1}}\\left(\\begin{array}{rrrr}\n",
       "1 & -1 & 0 & 3 \\\\\n",
       "1 & 2 & 3 & 2 \\\\\n",
       "0 & 0 & 0 & 0\n",
       "\\end{array}\\right)\\]</html>"
      ],
      "text/latex": [
       "$$\\newcommand{\\Bold}[1]{\\mathbf{#1}}\\left(\\begin{array}{rrrr}\n",
       "1 & -1 & 0 & 3 \\\\\n",
       "1 & 2 & 3 & 2 \\\\\n",
       "0 & 0 & 0 & 0\n",
       "\\end{array}\\right)$$"
      ],
      "text/plain": [
       "[ 1 -1  0  3]\n",
       "[ 1  2  3  2]\n",
       "[ 0  0  0  0]"
      ]
     },
     "execution_count": 165,
     "metadata": {},
     "output_type": "execute_result"
    }
   ],
   "source": [
    "B=A.augment(w); B"
   ]
  },
  {
   "cell_type": "code",
   "execution_count": 166,
   "metadata": {},
   "outputs": [
    {
     "data": {
      "text/html": [
       "<html>\\[\\newcommand{\\Bold}[1]{\\mathbf{#1}}2\\]</html>"
      ],
      "text/latex": [
       "$$\\newcommand{\\Bold}[1]{\\mathbf{#1}}2$$"
      ],
      "text/plain": [
       "2"
      ]
     },
     "execution_count": 166,
     "metadata": {},
     "output_type": "execute_result"
    }
   ],
   "source": [
    "B.rank()"
   ]
  },
  {
   "cell_type": "markdown",
   "metadata": {},
   "source": [
    "<p>Kako matrice $A$ i $B$ imaju isti rang, vektor $(3,2,0)$ pripada skupu $\\mathcal{L}(S)$.</p>\n",
    "\n",
    "<p><strong>c) dio</strong></p>\n",
    "<p style=\"line-height:25px;\">Kako vektor $(3,2,0)$ pripada skupu $\\mathcal{L}(S)$ i kako je skup $S$ linearno zavisan, vektor $(3,2,0)$ se može na beskonačno mnogo načina prikazati pomoću vektora iz skupa $S$.</p>"
   ]
  },
  {
   "cell_type": "code",
   "execution_count": 167,
   "metadata": {},
   "outputs": [
    {
     "data": {
      "text/html": [
       "<html>\\[\\newcommand{\\Bold}[1]{\\mathbf{#1}}\\left[x - y = 3, x + 2 \\, y + 3 \\, z = 2, 0 = 0\\right]\\]</html>"
      ],
      "text/latex": [
       "$$\\newcommand{\\Bold}[1]{\\mathbf{#1}}\\left[x - y = 3, x + 2 \\, y + 3 \\, z = 2, 0 = 0\\right]$$"
      ],
      "text/plain": [
       "[x - y == 3, x + 2*y + 3*z == 2, 0 == 0]"
      ]
     },
     "execution_count": 167,
     "metadata": {},
     "output_type": "execute_result"
    }
   ],
   "source": [
    "komb=x*v1+y*v2+z*v3\n",
    "sustav=[komb[i]==w[i] for i in range(0,3)]; sustav"
   ]
  },
  {
   "cell_type": "markdown",
   "metadata": {},
   "source": [
    "<p>$(3,2,0)=\\big(-t+\\frac{8}{3}\\big)\\cdot(1,1,0)+\\big(-t-\\frac{1}{3}\\big)\\cdot(-1,2,0)+t\\cdot(0,3,0),\\quad t\\in\\mathbb{R}$</p>"
   ]
  },
  {
   "cell_type": "code",
   "execution_count": 168,
   "metadata": {},
   "outputs": [
    {
     "data": {
      "text/html": [
       "<html>\\[\\newcommand{\\Bold}[1]{\\mathbf{#1}}\\left[\\left[x = -r_{6} + \\frac{8}{3}, y = -r_{6} - \\frac{1}{3}, z = r_{6}\\right]\\right]\\]</html>"
      ],
      "text/latex": [
       "$$\\newcommand{\\Bold}[1]{\\mathbf{#1}}\\left[\\left[x = -r_{6} + \\frac{8}{3}, y = -r_{6} - \\frac{1}{3}, z = r_{6}\\right]\\right]$$"
      ],
      "text/plain": [
       "[[x == -r6 + 8/3, y == -r6 - 1/3, z == r6]]"
      ]
     },
     "execution_count": 168,
     "metadata": {},
     "output_type": "execute_result"
    }
   ],
   "source": [
    "solve(sustav,[x,y,z])"
   ]
  },
  {
   "cell_type": "markdown",
   "metadata": {},
   "source": [
    "<div style=\"background-color: #F5FFFA; color: #000000; border: 2px solid #B0C4DE; border-radius: 15px; padding:0px 10px 25px; overflow:auto\">\n",
    "<h3>17. zadatak</h3>\n",
    "<p>U $M_2(\\mathbb{R})$ zadan je skup $\\mathcal{B}=\\bigg\\{\\begin{bmatrix}2&3\\\\ 0&1\\end{bmatrix}, \\begin{bmatrix}5&4\\\\ -1&-1\\end{bmatrix}, \\begin{bmatrix}2&2\\\\ 1&1\\end{bmatrix}, \\begin{bmatrix}8&1\\\\ -3&4\\end{bmatrix}\\bigg\\}$.</p>\n",
    "<ol style=\"list-style-type:lower-alpha;\">\n",
    "<li style=\"line-height:40px;\">Dokažite da je skup $\\mathcal{B}$ baza za $M_2(\\mathbb{R})$.</li>\n",
    "<li style=\"line-height:60px;\">Odredite koordinate matrice $A=\\begin{bmatrix}2&0\\\\ 0&8\\end{bmatrix}$ u bazi $\\mathcal{B}$.</li>\n",
    "</ol>\n",
    "</div>\n",
    "<h3>Rješenje</h3>\n",
    "<p><strong>a) dio</strong></p>\n",
    "<p>Pokazat ćemo i ovdje više različitih načina rješavanja zadatka</p>\n",
    "<p><strong>rješavanje homogenog sustava linearnih jednadžbi</strong></p>"
   ]
  },
  {
   "cell_type": "code",
   "execution_count": 169,
   "metadata": {},
   "outputs": [],
   "source": [
    "var(\"x_1 x_2 x_3 x_4\")\n",
    "A1=matrix([[2,3],[0,1]])\n",
    "A2=matrix([[5,4],[-1,-1]])\n",
    "A3=matrix([[2,2],[1,1]])\n",
    "A4=matrix([[8,1],[-3,4]])"
   ]
  },
  {
   "cell_type": "code",
   "execution_count": 170,
   "metadata": {},
   "outputs": [
    {
     "data": {
      "text/html": [
       "<html>\\[\\newcommand{\\Bold}[1]{\\mathbf{#1}}\\left(\\begin{array}{rr}\n",
       "2 \\, x_{1} + 5 \\, x_{2} + 2 \\, x_{3} + 8 \\, x_{4} & 3 \\, x_{1} + 4 \\, x_{2} + 2 \\, x_{3} + x_{4} \\\\\n",
       "-x_{2} + x_{3} - 3 \\, x_{4} & x_{1} - x_{2} + x_{3} + 4 \\, x_{4}\n",
       "\\end{array}\\right)\\]</html>"
      ],
      "text/latex": [
       "$$\\newcommand{\\Bold}[1]{\\mathbf{#1}}\\left(\\begin{array}{rr}\n",
       "2 \\, x_{1} + 5 \\, x_{2} + 2 \\, x_{3} + 8 \\, x_{4} & 3 \\, x_{1} + 4 \\, x_{2} + 2 \\, x_{3} + x_{4} \\\\\n",
       "-x_{2} + x_{3} - 3 \\, x_{4} & x_{1} - x_{2} + x_{3} + 4 \\, x_{4}\n",
       "\\end{array}\\right)$$"
      ],
      "text/plain": [
       "[2*x_1 + 5*x_2 + 2*x_3 + 8*x_4   3*x_1 + 4*x_2 + 2*x_3 + x_4]\n",
       "[           -x_2 + x_3 - 3*x_4       x_1 - x_2 + x_3 + 4*x_4]"
      ]
     },
     "execution_count": 170,
     "metadata": {},
     "output_type": "execute_result"
    }
   ],
   "source": [
    "x_1*A1+x_2*A2+x_3*A3+x_4*A4"
   ]
  },
  {
   "cell_type": "markdown",
   "metadata": {},
   "source": [
    "<p style=\"line-height:30px;\">Kako zadani homogeni sustav ima samo trivijalno rješenje, skup $\\mathcal{B}$ je linearno nezavisan, a kako mu je broj elemenata jednak dimenziji prostora $M_2(\\mathbb{R})$, on je ujedno i baza za taj prostor.</p>"
   ]
  },
  {
   "cell_type": "code",
   "execution_count": 171,
   "metadata": {},
   "outputs": [
    {
     "data": {
      "text/html": [
       "<html>\\[\\newcommand{\\Bold}[1]{\\mathbf{#1}}\\left[\\left[x_{1} = 0, x_{2} = 0, x_{3} = 0, x_{4} = 0\\right]\\right]\\]</html>"
      ],
      "text/latex": [
       "$$\\newcommand{\\Bold}[1]{\\mathbf{#1}}\\left[\\left[x_{1} = 0, x_{2} = 0, x_{3} = 0, x_{4} = 0\\right]\\right]$$"
      ],
      "text/plain": [
       "[[x_1 == 0, x_2 == 0, x_3 == 0, x_4 == 0]]"
      ]
     },
     "execution_count": 171,
     "metadata": {},
     "output_type": "execute_result"
    }
   ],
   "source": [
    "solve_mat(x_1*A1+x_2*A2+x_3*A3+x_4*A4,matrix(2),[x_1,x_2,x_3,x_4])"
   ]
  },
  {
   "cell_type": "markdown",
   "metadata": {},
   "source": [
    "<p><strong>računanje ranga matrice</strong></p>"
   ]
  },
  {
   "cell_type": "code",
   "execution_count": 172,
   "metadata": {},
   "outputs": [
    {
     "data": {
      "text/html": [
       "<html>\\[\\newcommand{\\Bold}[1]{\\mathbf{#1}}\\left(\\begin{array}{rrrr}\n",
       "2 & 5 & 2 & 8 \\\\\n",
       "3 & 4 & 2 & 1 \\\\\n",
       "0 & -1 & 1 & -3 \\\\\n",
       "1 & -1 & 1 & 4\n",
       "\\end{array}\\right)\\]</html>"
      ],
      "text/latex": [
       "$$\\newcommand{\\Bold}[1]{\\mathbf{#1}}\\left(\\begin{array}{rrrr}\n",
       "2 & 5 & 2 & 8 \\\\\n",
       "3 & 4 & 2 & 1 \\\\\n",
       "0 & -1 & 1 & -3 \\\\\n",
       "1 & -1 & 1 & 4\n",
       "\\end{array}\\right)$$"
      ],
      "text/plain": [
       "[ 2  5  2  8]\n",
       "[ 3  4  2  1]\n",
       "[ 0 -1  1 -3]\n",
       "[ 1 -1  1  4]"
      ]
     },
     "execution_count": 172,
     "metadata": {},
     "output_type": "execute_result"
    }
   ],
   "source": [
    "v1=vector((2,3,0,1))\n",
    "v2=vector((5,4,-1,-1))\n",
    "v3=vector((2,2,1,1))\n",
    "v4=vector((8,1,-3,4))\n",
    "M=matrix([v1,v2,v3,v4]).transpose()\n",
    "M"
   ]
  },
  {
   "cell_type": "markdown",
   "metadata": {},
   "source": [
    "<p style=\"line-height:25px;\">Kako matrica $M$ ima maksimalni rang, skup $\\mathcal{B}$ je linearno nezavisan, <span id=\"cell_outer_341\">a kako mu je broj elemenata jednak dimenziji prostora $M_2(\\mathbb{R})$, on je ujedno i baza za taj prostor.<br /></span></p>"
   ]
  },
  {
   "cell_type": "code",
   "execution_count": 173,
   "metadata": {},
   "outputs": [
    {
     "data": {
      "text/html": [
       "<html>\\[\\newcommand{\\Bold}[1]{\\mathbf{#1}}4\\]</html>"
      ],
      "text/latex": [
       "$$\\newcommand{\\Bold}[1]{\\mathbf{#1}}4$$"
      ],
      "text/plain": [
       "4"
      ]
     },
     "execution_count": 173,
     "metadata": {},
     "output_type": "execute_result"
    }
   ],
   "source": [
    "M.rank()"
   ]
  },
  {
   "cell_type": "markdown",
   "metadata": {},
   "source": [
    "<p><strong>računanje determinante</strong></p>\n",
    "<p style=\"line-height:25px;\">Kako je determinanta matrice $M$ različita od nule, skup $\\mathcal{B}$ je linearno nezavisan, a kako mu je broj elemenata jednak dimenziji prostora $M_2(\\mathbb{R})$, on je ujedno i baza za taj prostor.</p>"
   ]
  },
  {
   "cell_type": "code",
   "execution_count": 174,
   "metadata": {},
   "outputs": [
    {
     "data": {
      "text/html": [
       "<html>\\[\\newcommand{\\Bold}[1]{\\mathbf{#1}}-98\\]</html>"
      ],
      "text/latex": [
       "$$\\newcommand{\\Bold}[1]{\\mathbf{#1}}-98$$"
      ],
      "text/plain": [
       "-98"
      ]
     },
     "execution_count": 174,
     "metadata": {},
     "output_type": "execute_result"
    }
   ],
   "source": [
    "M.det()"
   ]
  },
  {
   "cell_type": "markdown",
   "metadata": {},
   "source": [
    "<p><strong>b) dio</strong></p>\n",
    "<p>Ponovo pokazujemo više različitih načina rješavanja zadatka.</p>"
   ]
  },
  {
   "cell_type": "code",
   "execution_count": 175,
   "metadata": {},
   "outputs": [],
   "source": [
    "a=vector((2,0,0,8))\n",
    "A=matrix([[2,0],[0,8]])"
   ]
  },
  {
   "cell_type": "markdown",
   "metadata": {},
   "source": [
    "<p><strong>pomoću već gotovih SAGE naredbi</strong></p>"
   ]
  },
  {
   "cell_type": "code",
   "execution_count": 176,
   "metadata": {},
   "outputs": [],
   "source": [
    "V=VectorSpace(QQ,4).span_of_basis([v1,v2,v3,v4])"
   ]
  },
  {
   "cell_type": "code",
   "execution_count": 177,
   "metadata": {},
   "outputs": [
    {
     "data": {
      "text/html": [
       "<html>\\[\\newcommand{\\Bold}[1]{\\mathbf{#1}}\\left[2, -2, \\frac{4}{7}, \\frac{6}{7}\\right]\\]</html>"
      ],
      "text/latex": [
       "$$\\newcommand{\\Bold}[1]{\\mathbf{#1}}\\left[2, -2, \\frac{4}{7}, \\frac{6}{7}\\right]$$"
      ],
      "text/plain": [
       "[2, -2, 4/7, 6/7]"
      ]
     },
     "execution_count": 177,
     "metadata": {},
     "output_type": "execute_result"
    }
   ],
   "source": [
    "V.coordinates(a)"
   ]
  },
  {
   "cell_type": "markdown",
   "metadata": {},
   "source": [
    "<p><strong>rješavanjem sustava linearnih jednadžbi</strong></p>"
   ]
  },
  {
   "cell_type": "code",
   "execution_count": 178,
   "metadata": {},
   "outputs": [
    {
     "data": {
      "text/html": [
       "<html>\\[\\newcommand{\\Bold}[1]{\\mathbf{#1}}\\left(\\begin{array}{rr}\n",
       "2 \\, x_{1} + 5 \\, x_{2} + 2 \\, x_{3} + 8 \\, x_{4} & 3 \\, x_{1} + 4 \\, x_{2} + 2 \\, x_{3} + x_{4} \\\\\n",
       "-x_{2} + x_{3} - 3 \\, x_{4} & x_{1} - x_{2} + x_{3} + 4 \\, x_{4}\n",
       "\\end{array}\\right)\\]</html>"
      ],
      "text/latex": [
       "$$\\newcommand{\\Bold}[1]{\\mathbf{#1}}\\left(\\begin{array}{rr}\n",
       "2 \\, x_{1} + 5 \\, x_{2} + 2 \\, x_{3} + 8 \\, x_{4} & 3 \\, x_{1} + 4 \\, x_{2} + 2 \\, x_{3} + x_{4} \\\\\n",
       "-x_{2} + x_{3} - 3 \\, x_{4} & x_{1} - x_{2} + x_{3} + 4 \\, x_{4}\n",
       "\\end{array}\\right)$$"
      ],
      "text/plain": [
       "[2*x_1 + 5*x_2 + 2*x_3 + 8*x_4   3*x_1 + 4*x_2 + 2*x_3 + x_4]\n",
       "[           -x_2 + x_3 - 3*x_4       x_1 - x_2 + x_3 + 4*x_4]"
      ]
     },
     "execution_count": 178,
     "metadata": {},
     "output_type": "execute_result"
    }
   ],
   "source": [
    "x_1*A1+x_2*A2+x_3*A3+x_4*A4"
   ]
  },
  {
   "cell_type": "code",
   "execution_count": 179,
   "metadata": {},
   "outputs": [
    {
     "data": {
      "text/html": [
       "<html>\\[\\newcommand{\\Bold}[1]{\\mathbf{#1}}\\left[\\left[x_{1} = 2, x_{2} = \\left(-2\\right), x_{3} = \\left(\\frac{4}{7}\\right), x_{4} = \\left(\\frac{6}{7}\\right)\\right]\\right]\\]</html>"
      ],
      "text/latex": [
       "$$\\newcommand{\\Bold}[1]{\\mathbf{#1}}\\left[\\left[x_{1} = 2, x_{2} = \\left(-2\\right), x_{3} = \\left(\\frac{4}{7}\\right), x_{4} = \\left(\\frac{6}{7}\\right)\\right]\\right]$$"
      ],
      "text/plain": [
       "[[x_1 == 2, x_2 == -2, x_3 == (4/7), x_4 == (6/7)]]"
      ]
     },
     "execution_count": 179,
     "metadata": {},
     "output_type": "execute_result"
    }
   ],
   "source": [
    "solve_mat(x_1*A1+x_2*A2+x_3*A3+x_4*A4,A,[x_1,x_2,x_3,x_4])"
   ]
  },
  {
   "cell_type": "markdown",
   "metadata": {},
   "source": [
    "<p><strong>pomoću matrice prijelaza</strong></p>"
   ]
  },
  {
   "cell_type": "code",
   "execution_count": 180,
   "metadata": {},
   "outputs": [
    {
     "data": {
      "text/html": [
       "<html>\\[\\newcommand{\\Bold}[1]{\\mathbf{#1}}\\left(\\left(\\begin{array}{rrrr}\n",
       "2 & 5 & 2 & 8 \\\\\n",
       "3 & 4 & 2 & 1 \\\\\n",
       "0 & -1 & 1 & -3 \\\\\n",
       "1 & -1 & 1 & 4\n",
       "\\end{array}\\right), \\left(\\begin{array}{rrrr}\n",
       "-\\frac{3}{7} & \\frac{1}{2} & -\\frac{1}{2} & \\frac{5}{14} \\\\\n",
       "\\frac{1}{7} & 0 & 0 & -\\frac{2}{7} \\\\\n",
       "\\frac{16}{49} & -\\frac{3}{14} & \\frac{11}{14} & -\\frac{1}{98} \\\\\n",
       "\\frac{3}{49} & -\\frac{1}{14} & -\\frac{1}{14} & \\frac{9}{98}\n",
       "\\end{array}\\right)\\right)\\]</html>"
      ],
      "text/latex": [
       "$$\\newcommand{\\Bold}[1]{\\mathbf{#1}}\\left(\\left(\\begin{array}{rrrr}\n",
       "2 & 5 & 2 & 8 \\\\\n",
       "3 & 4 & 2 & 1 \\\\\n",
       "0 & -1 & 1 & -3 \\\\\n",
       "1 & -1 & 1 & 4\n",
       "\\end{array}\\right), \\left(\\begin{array}{rrrr}\n",
       "-\\frac{3}{7} & \\frac{1}{2} & -\\frac{1}{2} & \\frac{5}{14} \\\\\n",
       "\\frac{1}{7} & 0 & 0 & -\\frac{2}{7} \\\\\n",
       "\\frac{16}{49} & -\\frac{3}{14} & \\frac{11}{14} & -\\frac{1}{98} \\\\\n",
       "\\frac{3}{49} & -\\frac{1}{14} & -\\frac{1}{14} & \\frac{9}{98}\n",
       "\\end{array}\\right)\\right)$$"
      ],
      "text/plain": [
       "(\n",
       "[ 2  5  2  8]  [ -3/7   1/2  -1/2  5/14]\n",
       "[ 3  4  2  1]  [  1/7     0     0  -2/7]\n",
       "[ 0 -1  1 -3]  [16/49 -3/14 11/14 -1/98]\n",
       "[ 1 -1  1  4], [ 3/49 -1/14 -1/14  9/98]\n",
       ")"
      ]
     },
     "execution_count": 180,
     "metadata": {},
     "output_type": "execute_result"
    }
   ],
   "source": [
    "M,M^-1"
   ]
  },
  {
   "cell_type": "code",
   "execution_count": 181,
   "metadata": {},
   "outputs": [
    {
     "data": {
      "text/html": [
       "<html>\\[\\newcommand{\\Bold}[1]{\\mathbf{#1}}\\left(2,\\,-2,\\,\\frac{4}{7},\\,\\frac{6}{7}\\right)\\]</html>"
      ],
      "text/latex": [
       "$$\\newcommand{\\Bold}[1]{\\mathbf{#1}}\\left(2,\\,-2,\\,\\frac{4}{7},\\,\\frac{6}{7}\\right)$$"
      ],
      "text/plain": [
       "(2, -2, 4/7, 6/7)"
      ]
     },
     "execution_count": 181,
     "metadata": {},
     "output_type": "execute_result"
    }
   ],
   "source": [
    "M^-1*a"
   ]
  },
  {
   "cell_type": "markdown",
   "metadata": {},
   "source": [
    "<div style=\"background-color: #F5FFFA; color: #000000; border: 2px solid #B0C4DE; border-radius: 15px; padding:0px 10px 25px; overflow:auto\">\n",
    "<h3>18. zadatak</h3>\n",
    "<p>Odredite sve $\\lambda\\in\\mathbb{R}$ za koje su vektori $(\\lambda,-1,-1),$ $(-1,\\lambda,-1)$ i $(-1,-1,\\lambda)$ linearno nezavisni u $\\mathbb{R}^3$.</p>\n",
    "</div>\n",
    "<h3>Rješenje</h3>"
   ]
  },
  {
   "cell_type": "code",
   "execution_count": 182,
   "metadata": {},
   "outputs": [
    {
     "data": {
      "text/html": [
       "<html>\\[\\newcommand{\\Bold}[1]{\\mathbf{#1}}\\left(\\begin{array}{rrr}\n",
       "l & -1 & -1 \\\\\n",
       "-1 & l & -1 \\\\\n",
       "-1 & -1 & l\n",
       "\\end{array}\\right)\\]</html>"
      ],
      "text/latex": [
       "$$\\newcommand{\\Bold}[1]{\\mathbf{#1}}\\left(\\begin{array}{rrr}\n",
       "l & -1 & -1 \\\\\n",
       "-1 & l & -1 \\\\\n",
       "-1 & -1 & l\n",
       "\\end{array}\\right)$$"
      ],
      "text/plain": [
       "[ l -1 -1]\n",
       "[-1  l -1]\n",
       "[-1 -1  l]"
      ]
     },
     "execution_count": 182,
     "metadata": {},
     "output_type": "execute_result"
    }
   ],
   "source": [
    "var(\"l\")\n",
    "A=matrix([[l,-1,-1],[-1,l,-1],[-1,-1,l]]).transpose(); A"
   ]
  },
  {
   "cell_type": "code",
   "execution_count": 183,
   "metadata": {},
   "outputs": [
    {
     "data": {
      "text/html": [
       "<html>\\[\\newcommand{\\Bold}[1]{\\mathbf{#1}}l^{3} - 3 \\, l - 2\\]</html>"
      ],
      "text/latex": [
       "$$\\newcommand{\\Bold}[1]{\\mathbf{#1}}l^{3} - 3 \\, l - 2$$"
      ],
      "text/plain": [
       "l^3 - 3*l - 2"
      ]
     },
     "execution_count": 183,
     "metadata": {},
     "output_type": "execute_result"
    }
   ],
   "source": [
    "expand(det(A))"
   ]
  },
  {
   "cell_type": "code",
   "execution_count": 184,
   "metadata": {},
   "outputs": [
    {
     "data": {
      "text/html": [
       "<html>\\[\\newcommand{\\Bold}[1]{\\mathbf{#1}}\\left[l = 2, l = \\left(-1\\right)\\right]\\]</html>"
      ],
      "text/latex": [
       "$$\\newcommand{\\Bold}[1]{\\mathbf{#1}}\\left[l = 2, l = \\left(-1\\right)\\right]$$"
      ],
      "text/plain": [
       "[l == 2, l == -1]"
      ]
     },
     "execution_count": 184,
     "metadata": {},
     "output_type": "execute_result"
    }
   ],
   "source": [
    "solve(det(A)==0,l)"
   ]
  },
  {
   "cell_type": "markdown",
   "metadata": {},
   "source": [
    "<p>Zadani vektori su linearno nezavisni za sve one $\\lambda\\in\\mathbb{R}$ za koje je $\\det{A}\\neq0$, tj. za $\\lambda\\in\\mathbb{R}\\setminus\\{-1,2\\}$.</p>"
   ]
  },
  {
   "cell_type": "markdown",
   "metadata": {},
   "source": [
    "<div style=\"background-color: #F5FFFA; color: #000000; border: 2px solid #B0C4DE; border-radius: 15px; padding:0px 10px 25px; overflow:auto\">\n",
    "<h3>19. zadatak</h3>\n",
    "<p>Odredite dimenziju i neku bazu vektorskog prostora svih rješenja homogenog sustava linearnih jednadžbi</p>\n",
    "<p>$$\\begin{align}x+2y+z-3t&=0\\\\[2pt] 2x+4y+4z-t&=0\\\\[2pt] 3x+6y+7z+t&=0\\end{align}$$</p>\n",
    "<p>i nadopunite dobivenu bazu do baze za $\\mathbb{R}^4$.</p>\n",
    "</div>\n",
    "<h3>Rješenje</h3>\n",
    "<p style=\"line-height:25px;\">Već smo ranije na sličnim zadacima radili detaljne diskusije oko svih mogućih načina rješavanja. Ovdje ćemo zadatak riješiti što je moguće brže i elegantnije, nećemo ulaziti u diskusiju oko svih mogućih načina rješavanja tog zadatka.</p>"
   ]
  },
  {
   "cell_type": "code",
   "execution_count": 185,
   "metadata": {},
   "outputs": [
    {
     "data": {
      "text/html": [
       "<html>\\[\\newcommand{\\Bold}[1]{\\mathbf{#1}}\\left(\\begin{array}{rrrr}\n",
       "1 & 2 & 1 & -3 \\\\\n",
       "2 & 4 & 4 & -1 \\\\\n",
       "3 & 6 & 7 & 1\n",
       "\\end{array}\\right)\\]</html>"
      ],
      "text/latex": [
       "$$\\newcommand{\\Bold}[1]{\\mathbf{#1}}\\left(\\begin{array}{rrrr}\n",
       "1 & 2 & 1 & -3 \\\\\n",
       "2 & 4 & 4 & -1 \\\\\n",
       "3 & 6 & 7 & 1\n",
       "\\end{array}\\right)$$"
      ],
      "text/plain": [
       "[ 1  2  1 -3]\n",
       "[ 2  4  4 -1]\n",
       "[ 3  6  7  1]"
      ]
     },
     "execution_count": 185,
     "metadata": {},
     "output_type": "execute_result"
    }
   ],
   "source": [
    "A=matrix(QQ,[[1,2,1,-3],[2,4,4,-1],[3,6,7,1]]); A"
   ]
  },
  {
   "cell_type": "markdown",
   "metadata": {},
   "source": [
    "<p>jedna baza za prostor svih rješenja</p>"
   ]
  },
  {
   "cell_type": "code",
   "execution_count": 186,
   "metadata": {},
   "outputs": [
    {
     "data": {
      "text/html": [
       "<html>\\[\\newcommand{\\Bold}[1]{\\mathbf{#1}}\\mathrm{RowSpan}_{\\Bold{Q}}\\left(\\begin{array}{rrrr}\n",
       "1 & 0 & -\\frac{5}{11} & \\frac{2}{11} \\\\\n",
       "0 & 1 & -\\frac{10}{11} & \\frac{4}{11}\n",
       "\\end{array}\\right)\\]</html>"
      ],
      "text/latex": [
       "$$\\newcommand{\\Bold}[1]{\\mathbf{#1}}\\mathrm{RowSpan}_{\\Bold{Q}}\\left(\\begin{array}{rrrr}\n",
       "1 & 0 & -\\frac{5}{11} & \\frac{2}{11} \\\\\n",
       "0 & 1 & -\\frac{10}{11} & \\frac{4}{11}\n",
       "\\end{array}\\right)$$"
      ],
      "text/plain": [
       "Vector space of degree 4 and dimension 2 over Rational Field\n",
       "Basis matrix:\n",
       "[     1      0  -5/11   2/11]\n",
       "[     0      1 -10/11   4/11]"
      ]
     },
     "execution_count": 186,
     "metadata": {},
     "output_type": "execute_result"
    }
   ],
   "source": [
    "A.right_kernel()"
   ]
  },
  {
   "cell_type": "markdown",
   "metadata": {},
   "source": [
    "<p>dimenzija prostora svih rješenja</p>"
   ]
  },
  {
   "cell_type": "code",
   "execution_count": 187,
   "metadata": {},
   "outputs": [
    {
     "data": {
      "text/html": [
       "<html>\\[\\newcommand{\\Bold}[1]{\\mathbf{#1}}2\\]</html>"
      ],
      "text/latex": [
       "$$\\newcommand{\\Bold}[1]{\\mathbf{#1}}2$$"
      ],
      "text/plain": [
       "2"
      ]
     },
     "execution_count": 187,
     "metadata": {},
     "output_type": "execute_result"
    }
   ],
   "source": [
    "A.right_nullity()"
   ]
  },
  {
   "cell_type": "markdown",
   "metadata": {},
   "source": [
    "<p style=\"line-height:25px;\">Nadopuna dobivene baze do baze za $\\mathbb{R}^4$: nadopunjavat ćemo s vektorima iz kanonske baze od $\\mathbb{R}^4$. Za vježbu možete probati i s nekim drugim vektorima.</p>"
   ]
  },
  {
   "cell_type": "code",
   "execution_count": 188,
   "metadata": {},
   "outputs": [],
   "source": [
    "M=A.right_kernel().matrix().transpose()"
   ]
  },
  {
   "cell_type": "code",
   "execution_count": 189,
   "metadata": {},
   "outputs": [
    {
     "data": {
      "text/html": [
       "<html>\\[\\newcommand{\\Bold}[1]{\\mathbf{#1}}\\left(\\begin{array}{rrrrrr}\n",
       "1 & 0 & 1 & 0 & 0 & 0 \\\\\n",
       "0 & 1 & 0 & 1 & 0 & 0 \\\\\n",
       "-\\frac{5}{11} & -\\frac{10}{11} & 0 & 0 & 1 & 0 \\\\\n",
       "\\frac{2}{11} & \\frac{4}{11} & 0 & 0 & 0 & 1\n",
       "\\end{array}\\right)\\]</html>"
      ],
      "text/latex": [
       "$$\\newcommand{\\Bold}[1]{\\mathbf{#1}}\\left(\\begin{array}{rrrrrr}\n",
       "1 & 0 & 1 & 0 & 0 & 0 \\\\\n",
       "0 & 1 & 0 & 1 & 0 & 0 \\\\\n",
       "-\\frac{5}{11} & -\\frac{10}{11} & 0 & 0 & 1 & 0 \\\\\n",
       "\\frac{2}{11} & \\frac{4}{11} & 0 & 0 & 0 & 1\n",
       "\\end{array}\\right)$$"
      ],
      "text/plain": [
       "[     1      0      1      0      0      0]\n",
       "[     0      1      0      1      0      0]\n",
       "[ -5/11 -10/11      0      0      1      0]\n",
       "[  2/11   4/11      0      0      0      1]"
      ]
     },
     "execution_count": 189,
     "metadata": {},
     "output_type": "execute_result"
    }
   ],
   "source": [
    "M=M.augment(identity_matrix(4)); M"
   ]
  },
  {
   "cell_type": "code",
   "execution_count": 190,
   "metadata": {},
   "outputs": [
    {
     "data": {
      "text/html": [
       "<html>\\[\\newcommand{\\Bold}[1]{\\mathbf{#1}}\\left(\\begin{array}{rrrrrr}\n",
       "1 & 0 & 0 & -2 & 0 & \\frac{11}{2} \\\\\n",
       "0 & 1 & 0 & 1 & 0 & 0 \\\\\n",
       "0 & 0 & 1 & 2 & 0 & -\\frac{11}{2} \\\\\n",
       "0 & 0 & 0 & 0 & 1 & \\frac{5}{2}\n",
       "\\end{array}\\right)\\]</html>"
      ],
      "text/latex": [
       "$$\\newcommand{\\Bold}[1]{\\mathbf{#1}}\\left(\\begin{array}{rrrrrr}\n",
       "1 & 0 & 0 & -2 & 0 & \\frac{11}{2} \\\\\n",
       "0 & 1 & 0 & 1 & 0 & 0 \\\\\n",
       "0 & 0 & 1 & 2 & 0 & -\\frac{11}{2} \\\\\n",
       "0 & 0 & 0 & 0 & 1 & \\frac{5}{2}\n",
       "\\end{array}\\right)$$"
      ],
      "text/plain": [
       "[    1     0     0    -2     0  11/2]\n",
       "[    0     1     0     1     0     0]\n",
       "[    0     0     1     2     0 -11/2]\n",
       "[    0     0     0     0     1   5/2]"
      ]
     },
     "execution_count": 190,
     "metadata": {},
     "output_type": "execute_result"
    }
   ],
   "source": [
    "M.echelon_form()"
   ]
  },
  {
   "cell_type": "markdown",
   "metadata": {},
   "source": [
    "<p style=\"line-height:40px;\">Kako je skup svih rješenja zadanog homogenog sustava potprostor dimenzije 2 u $\\mathbb{R}^4$, do baze za prostor $\\mathbb{R}^4$ potreba su nam još dva vektora. Iz kanonske retčane forme matrice $M$ vidimo da možemo dobivenu bazu $\\big\\{\\big(1,0,-\\frac{5}{11},\\frac{2}{11}\\big), \\big(0,1,-\\frac{10}{11},\\frac{4}{11}\\big)\\big\\}$ za prostor svih rješenja homogenog sustava nadopuniti vektorima $(1,0,0,0)$ i $(0,0,1,0)$ do baze za prostor $\\mathbb{R}^4$. Vektori $(1,0,0,0)$ i $(0,0,1,0)$ su ujedno i primjeri dvaju vektora koji ne pripadaju promatranom potprostoru svih rješenja zadnog homogenog sustava. Jasno, takvih vektora još ima beskonačno mnogo.</p>"
   ]
  },
  {
   "cell_type": "markdown",
   "metadata": {},
   "source": [
    "<div style=\"background-color: #F5FFFA; color: #000000; border: 2px solid #B0C4DE; border-radius: 15px; padding:0px 10px 25px; overflow:auto\">\n",
    "<h3>20. zadatak</h3>\n",
    "<p>U vektorskom prostoru $\\mathbb{R}^3$ zadane su dvije njegove baze</p>\n",
    "<p>$$\\mathcal{B}_1=\\{(1,2,-1), (0,2,0), (1,1,1)\\}\\ \\text{ i }\\ \\mathcal{B}_2=\\{(0,2,1), (2,2,0), (1,-1,1)\\}.$$</p>\n",
    "<p>Vektor $\\vec{v}\\in\\mathbb{R}^3$ u bazi $\\mathcal{B}_1$ ima koordinate $(3,-1,2)$.</p>\n",
    "<ol style=\"list-style-type:lower-alpha;\">\n",
    "<li style=\"line-height:30px;\">Odredite matricu prijelaza $T$ iz baze $\\mathcal{B}_2$ u bazu $\\mathcal{B}_1$ i pomoću nje odredite koordinate vektora $\\vec{v}$ u bazi $\\mathcal{B}_2$.</li>\n",
    "<li style=\"line-height:30px;\">Odredite koordinate vektora $\\vec{v}$ u kanonskoj bazi prostora $\\mathbb{R}^3$.</li>\n",
    "</ol>\n",
    "</div>\n",
    "<h3>Rješenje</h3>\n",
    "<p><span style=\"font-size: large;\">$\\mathcal{B}_{\\tiny\\text{kan}}\\stackrel{\\ T_1\\ }{\\longrightarrow}\\mathcal{B}_1,\\quad \\mathcal{B}_{\\tiny\\text{kan}}\\stackrel{\\ T_2\\ }{\\longrightarrow}\\mathcal{B}_2$</span></p>"
   ]
  },
  {
   "cell_type": "code",
   "execution_count": 191,
   "metadata": {},
   "outputs": [],
   "source": [
    "T1=matrix([[1,2,-1],[0,2,0],[1,1,1]]).transpose()\n",
    "T2=matrix([[0,2,1],[2,2,0],[1,-1,1]]).transpose()"
   ]
  },
  {
   "cell_type": "markdown",
   "metadata": {},
   "source": [
    "<p>Matrica prijelaza iz baze $\\mathcal{B}_2$ u bazu $\\mathcal{B}_1$ je tada matrica $T_2^{-1}T_1$</p>"
   ]
  },
  {
   "cell_type": "code",
   "execution_count": 192,
   "metadata": {},
   "outputs": [
    {
     "data": {
      "text/html": [
       "<html>\\[\\newcommand{\\Bold}[1]{\\mathbf{#1}}\\left(\\begin{array}{rrr}\n",
       "-\\frac{1}{4} & \\frac{1}{2} & \\frac{1}{2} \\\\\n",
       "\\frac{7}{8} & \\frac{1}{4} & \\frac{1}{4} \\\\\n",
       "-\\frac{3}{4} & -\\frac{1}{2} & \\frac{1}{2}\n",
       "\\end{array}\\right)\\]</html>"
      ],
      "text/latex": [
       "$$\\newcommand{\\Bold}[1]{\\mathbf{#1}}\\left(\\begin{array}{rrr}\n",
       "-\\frac{1}{4} & \\frac{1}{2} & \\frac{1}{2} \\\\\n",
       "\\frac{7}{8} & \\frac{1}{4} & \\frac{1}{4} \\\\\n",
       "-\\frac{3}{4} & -\\frac{1}{2} & \\frac{1}{2}\n",
       "\\end{array}\\right)$$"
      ],
      "text/plain": [
       "[-1/4  1/2  1/2]\n",
       "[ 7/8  1/4  1/4]\n",
       "[-3/4 -1/2  1/2]"
      ]
     },
     "execution_count": 192,
     "metadata": {},
     "output_type": "execute_result"
    }
   ],
   "source": [
    "T=T2^-1*T1; T"
   ]
  },
  {
   "cell_type": "markdown",
   "metadata": {},
   "source": [
    "<p>koordinate vektora $\\vec{v}$ u bazi $\\mathcal{B}_2$</p>"
   ]
  },
  {
   "cell_type": "code",
   "execution_count": 193,
   "metadata": {},
   "outputs": [
    {
     "data": {
      "text/html": [
       "<html>\\[\\newcommand{\\Bold}[1]{\\mathbf{#1}}\\left(-\\frac{1}{4},\\,\\frac{23}{8},\\,-\\frac{3}{4}\\right)\\]</html>"
      ],
      "text/latex": [
       "$$\\newcommand{\\Bold}[1]{\\mathbf{#1}}\\left(-\\frac{1}{4},\\,\\frac{23}{8},\\,-\\frac{3}{4}\\right)$$"
      ],
      "text/plain": [
       "(-1/4, 23/8, -3/4)"
      ]
     },
     "execution_count": 193,
     "metadata": {},
     "output_type": "execute_result"
    }
   ],
   "source": [
    "T*vector((3,-1,2))"
   ]
  },
  {
   "cell_type": "markdown",
   "metadata": {},
   "source": [
    "<p>koordinate vektora $\\vec{v}$ u kanonskoj bazi prostora $\\mathbb{R}^3$</p>"
   ]
  },
  {
   "cell_type": "code",
   "execution_count": 194,
   "metadata": {},
   "outputs": [
    {
     "data": {
      "text/html": [
       "<html>\\[\\newcommand{\\Bold}[1]{\\mathbf{#1}}\\left(5,\\,6,\\,-1\\right)\\]</html>"
      ],
      "text/latex": [
       "$$\\newcommand{\\Bold}[1]{\\mathbf{#1}}\\left(5,\\,6,\\,-1\\right)$$"
      ],
      "text/plain": [
       "(5, 6, -1)"
      ]
     },
     "execution_count": 194,
     "metadata": {},
     "output_type": "execute_result"
    }
   ],
   "source": [
    "T1*vector((3,-1,2))"
   ]
  },
  {
   "cell_type": "markdown",
   "metadata": {},
   "source": [
    "<p style=\"line-height:25px;\"><strong>možemo zadatak u SAGE-u elegantno riješiti pomoću njegovih gotovih naredbi ako zanemarimo nametnute zahtjeve u samom zadatku</strong></p>\n",
    "\n",
    "<p>Najprije definiramo vektorski prostor $V$ dimenzije 3 i istaknemo da želimo raditi u bazi $\\mathcal{B}_1$</p>"
   ]
  },
  {
   "cell_type": "code",
   "execution_count": 195,
   "metadata": {},
   "outputs": [],
   "source": [
    "V=VectorSpace(QQ,3).span_of_basis([[1,2,-1],[0,2,0],[1,1,1]])"
   ]
  },
  {
   "cell_type": "markdown",
   "metadata": {},
   "source": [
    "<p>Provjera da u vektorskom prostoru $V$ trenutno radimo u bazi $\\mathcal{B}_1$</p>"
   ]
  },
  {
   "cell_type": "code",
   "execution_count": 196,
   "metadata": {},
   "outputs": [
    {
     "data": {
      "text/html": [
       "<html>\\[\\newcommand{\\Bold}[1]{\\mathbf{#1}}\\left[\\left(1,\\,2,\\,-1\\right), \\left(0,\\,2,\\,0\\right), \\left(1,\\,1,\\,1\\right)\\right]\\]</html>"
      ],
      "text/latex": [
       "$$\\newcommand{\\Bold}[1]{\\mathbf{#1}}\\left[\\left(1,\\,2,\\,-1\\right), \\left(0,\\,2,\\,0\\right), \\left(1,\\,1,\\,1\\right)\\right]$$"
      ],
      "text/plain": [
       "[\n",
       "(1, 2, -1),\n",
       "(0, 2, 0),\n",
       "(1, 1, 1)\n",
       "]"
      ]
     },
     "execution_count": 196,
     "metadata": {},
     "output_type": "execute_result"
    }
   ],
   "source": [
    "V.basis()"
   ]
  },
  {
   "cell_type": "markdown",
   "metadata": {},
   "source": [
    "<p>koordinate vektora $\\vec{v}$ u kanonskoj bazi prostora $\\mathbb{R}^3$</p>"
   ]
  },
  {
   "cell_type": "code",
   "execution_count": 197,
   "metadata": {},
   "outputs": [
    {
     "data": {
      "text/html": [
       "<html>\\[\\newcommand{\\Bold}[1]{\\mathbf{#1}}\\left(5,\\,6,\\,-1\\right)\\]</html>"
      ],
      "text/latex": [
       "$$\\newcommand{\\Bold}[1]{\\mathbf{#1}}\\left(5,\\,6,\\,-1\\right)$$"
      ],
      "text/plain": [
       "(5, 6, -1)"
      ]
     },
     "execution_count": 197,
     "metadata": {},
     "output_type": "execute_result"
    }
   ],
   "source": [
    "V.linear_combination_of_basis([3,-1,2])"
   ]
  },
  {
   "cell_type": "markdown",
   "metadata": {},
   "source": [
    "<p>Sada u vektorskom prostoru $V$ promijenimo tekuću bazu $\\mathcal{B}_1$ u bazu $\\mathcal{B}_2$</p>"
   ]
  },
  {
   "cell_type": "code",
   "execution_count": 198,
   "metadata": {},
   "outputs": [],
   "source": [
    "V=V.span_of_basis([[0,2,1],[2,2,0],[1,-1,1]])"
   ]
  },
  {
   "cell_type": "code",
   "execution_count": 199,
   "metadata": {},
   "outputs": [
    {
     "data": {
      "text/html": [
       "<html>\\[\\newcommand{\\Bold}[1]{\\mathbf{#1}}\\left[\\left(0,\\,2,\\,1\\right), \\left(2,\\,2,\\,0\\right), \\left(1,\\,-1,\\,1\\right)\\right]\\]</html>"
      ],
      "text/latex": [
       "$$\\newcommand{\\Bold}[1]{\\mathbf{#1}}\\left[\\left(0,\\,2,\\,1\\right), \\left(2,\\,2,\\,0\\right), \\left(1,\\,-1,\\,1\\right)\\right]$$"
      ],
      "text/plain": [
       "[\n",
       "(0, 2, 1),\n",
       "(2, 2, 0),\n",
       "(1, -1, 1)\n",
       "]"
      ]
     },
     "execution_count": 199,
     "metadata": {},
     "output_type": "execute_result"
    }
   ],
   "source": [
    "V.basis()"
   ]
  },
  {
   "cell_type": "markdown",
   "metadata": {},
   "source": [
    "<p>koordinate vektora $\\vec{v}$ u bazi $\\mathcal{B}_2$</p>"
   ]
  },
  {
   "cell_type": "code",
   "execution_count": 200,
   "metadata": {},
   "outputs": [
    {
     "data": {
      "text/html": [
       "<html>\\[\\newcommand{\\Bold}[1]{\\mathbf{#1}}\\left[-\\frac{1}{4}, \\frac{23}{8}, -\\frac{3}{4}\\right]\\]</html>"
      ],
      "text/latex": [
       "$$\\newcommand{\\Bold}[1]{\\mathbf{#1}}\\left[-\\frac{1}{4}, \\frac{23}{8}, -\\frac{3}{4}\\right]$$"
      ],
      "text/plain": [
       "[-1/4, 23/8, -3/4]"
      ]
     },
     "execution_count": 200,
     "metadata": {},
     "output_type": "execute_result"
    }
   ],
   "source": [
    "V.coordinates([5,6,-1])"
   ]
  },
  {
   "cell_type": "code",
   "execution_count": null,
   "metadata": {},
   "outputs": [],
   "source": []
  }
 ],
 "metadata": {
  "kernelspec": {
   "display_name": "SageMath 9.4",
   "language": "sage",
   "name": "sagemath"
  },
  "language": "python",
  "language_info": {
   "codemirror_mode": {
    "name": "ipython",
    "version": 3
   },
   "file_extension": ".py",
   "mimetype": "text/x-python",
   "name": "python",
   "nbconvert_exporter": "python",
   "pygments_lexer": "ipython3",
   "version": "3.9.6"
  }
 },
 "nbformat": 4,
 "nbformat_minor": 4
}
