{
 "cells": [
  {
   "cell_type": "markdown",
   "source": [
    "<h1>Sustavi linearnih jednadžbi i nejednadžbi</h1>\n",
    "<p><i>verzija: SageMath 9.4</i></p>"
   ],
   "metadata": {}
  },
  {
   "cell_type": "code",
   "execution_count": 1,
   "source": [
    "%display latex"
   ],
   "outputs": [],
   "metadata": {}
  },
  {
   "cell_type": "markdown",
   "source": [
    "<div style=\"background-color: #F5FFFA; color: #000000; border: 2px solid #B0C4DE; border-radius: 15px; padding:0px 10px 25px;\">\n",
    "<h3>1. zadatak</h3>\n",
    "<p>Riješite sustav</p>\n",
    "$$\\begin{align*}2x+3y+z&=2\\\\ x-3y+2z&=6\\\\ -2x+6y-z&=3\\end{align*}.$$\n",
    "</div>\n",
    "<h3>Rješenje</h3>\n",
    "<p><strong>1. način</strong> - pomoću naredbe <span style=\"color: #ff0000;\"><em>solve</em></span></p>"
   ],
   "metadata": {}
  },
  {
   "cell_type": "code",
   "execution_count": 2,
   "source": [
    "x,y,z = var('x y z')\n",
    "solve([2*x+3*y+z==2,x-3*y+2*z==6,-2*x+6*y-z==3],x,y,z)"
   ],
   "outputs": [
    {
     "output_type": "execute_result",
     "data": {
      "text/html": [
       "<html>\\[\\newcommand{\\Bold}[1]{\\mathbf{#1}}\\left[\\left[x = \\left(-\\frac{7}{3}\\right), y = \\left(\\frac{5}{9}\\right), z = 5\\right]\\right]\\]</html>"
      ],
      "text/latex": [
       "$$\\newcommand{\\Bold}[1]{\\mathbf{#1}}\\left[\\left[x = \\left(-\\frac{7}{3}\\right), y = \\left(\\frac{5}{9}\\right), z = 5\\right]\\right]$$"
      ],
      "text/plain": [
       "[[x == (-7/3), y == (5/9), z == 5]]"
      ]
     },
     "metadata": {},
     "execution_count": 2
    }
   ],
   "metadata": {}
  },
  {
   "cell_type": "markdown",
   "source": [
    "<p>ako želimo rješenje dobiti u obliku rječnika</p>"
   ],
   "metadata": {}
  },
  {
   "cell_type": "code",
   "execution_count": 3,
   "source": [
    "solve([2*x+3*y+z==2,x-3*y+2*z==6,-2*x+6*y-z==3],x,y,z,solution_dict=True)"
   ],
   "outputs": [
    {
     "output_type": "execute_result",
     "data": {
      "text/html": [
       "<html>\\[\\newcommand{\\Bold}[1]{\\mathbf{#1}}\\left[\\left\\{x : -\\frac{7}{3}, y : \\frac{5}{9}, z : 5\\right\\}\\right]\\]</html>"
      ],
      "text/latex": [
       "$$\\newcommand{\\Bold}[1]{\\mathbf{#1}}\\left[\\left\\{x : -\\frac{7}{3}, y : \\frac{5}{9}, z : 5\\right\\}\\right]$$"
      ],
      "text/plain": [
       "[{x: -7/3, y: 5/9, z: 5}]"
      ]
     },
     "metadata": {},
     "execution_count": 3
    }
   ],
   "metadata": {}
  },
  {
   "cell_type": "markdown",
   "source": [
    "<p><strong>2. način</strong> - pomoću matričnog zapisa</p>"
   ],
   "metadata": {}
  },
  {
   "cell_type": "code",
   "execution_count": 4,
   "source": [
    "A=matrix(3,3,[2,3,1,1,-3,2,-2,6,-1])\n",
    "B=matrix(3,1,[2,6,3])\n",
    "A.solve_right(B)"
   ],
   "outputs": [
    {
     "output_type": "execute_result",
     "data": {
      "text/html": [
       "<html>\\[\\newcommand{\\Bold}[1]{\\mathbf{#1}}\\left(\\begin{array}{r}\n",
       "-\\frac{7}{3} \\\\\n",
       "\\frac{5}{9} \\\\\n",
       "5\n",
       "\\end{array}\\right)\\]</html>"
      ],
      "text/latex": [
       "$$\\newcommand{\\Bold}[1]{\\mathbf{#1}}\\left(\\begin{array}{r}\n",
       "-\\frac{7}{3} \\\\\n",
       "\\frac{5}{9} \\\\\n",
       "5\n",
       "\\end{array}\\right)$$"
      ],
      "text/plain": [
       "[-7/3]\n",
       "[ 5/9]\n",
       "[   5]"
      ]
     },
     "metadata": {},
     "execution_count": 4
    }
   ],
   "metadata": {}
  },
  {
   "cell_type": "markdown",
   "source": [
    "<p><strong>3. način</strong> - možemo definirati svoju funkciju koja će rješavati linearni sustav koji je zadan u matričnom obliku (ova naša funkcija će biti korisna kod sustava koji nemaju jedinstveno rješenje).</p>\n",
    "<ul>\n",
    "<li><span style=\"color: #ff0000;\"><em>lijevo</em></span> - predstavlja matricu sustava</li>\n",
    "<li><span style=\"color: #ff0000;\"><em>desno</em></span> - predstavlja matricu slobodnih koeficijenata</li>\n",
    "<li><span style=\"color: #ff0000;\"><em>varijable</em></span> - lista nepoznanica</li>\n",
    "<li><span style=\"color: #ff0000;\"><em>parametri</em></span> - lista u kojoj je dan raspored nepoznanica onim redoslijedom kojim želimo po potrebi uzimati pojedine varijable za parametre. Ako ništa ne navedemo, tada se nepoznanice uzimaju za parametre onim redoslijedom kojim su dane u listi <span style=\"color: #ff0000;\"><em>varijable</em></span>. Nepoznanice se za parametre uzimaju počevši od kraja liste <span style=\"color: #ff0000;\"><em>parametri</em></span>.</span><em><br /></em></span></li>\n",
    "<li><span style=\"color: #ff0000;\"><em>rjecnik </em></span> - želimo li rješenje sustava dobiti u obliku rječnika<br /></li>\n",
    "</ul>"
   ],
   "metadata": {}
  },
  {
   "cell_type": "code",
   "execution_count": 5,
   "source": [
    "def linear_solve(lijevo,desno,varijable,parametri=None,rjecnik=False):\n",
    "    jednadzbe=[]\n",
    "    if parametri==None: parametri=varijable\n",
    "    lijeva_strana=lijevo*matrix([[t] for t in varijable])\n",
    "    for i in range(lijeva_strana.nrows()):\n",
    "        for j in range(lijeva_strana.ncols()):\n",
    "            jednadzbe.append(lijeva_strana[i,j]==desno[i,j])\n",
    "    rj=solve(jednadzbe,*parametri,solution_dict=rjecnik)\n",
    "    return rj"
   ],
   "outputs": [],
   "metadata": {}
  },
  {
   "cell_type": "code",
   "execution_count": 6,
   "source": [
    "linear_solve(A,B,[x,y,z])"
   ],
   "outputs": [
    {
     "output_type": "execute_result",
     "data": {
      "text/html": [
       "<html>\\[\\newcommand{\\Bold}[1]{\\mathbf{#1}}\\left[\\left[x = \\left(-\\frac{7}{3}\\right), y = \\left(\\frac{5}{9}\\right), z = 5\\right]\\right]\\]</html>"
      ],
      "text/latex": [
       "$$\\newcommand{\\Bold}[1]{\\mathbf{#1}}\\left[\\left[x = \\left(-\\frac{7}{3}\\right), y = \\left(\\frac{5}{9}\\right), z = 5\\right]\\right]$$"
      ],
      "text/plain": [
       "[[x == (-7/3), y == (5/9), z == 5]]"
      ]
     },
     "metadata": {},
     "execution_count": 6
    }
   ],
   "metadata": {}
  },
  {
   "cell_type": "code",
   "execution_count": 7,
   "source": [
    "linear_solve(A,B,[x,y,z],rjecnik=True)"
   ],
   "outputs": [
    {
     "output_type": "execute_result",
     "data": {
      "text/html": [
       "<html>\\[\\newcommand{\\Bold}[1]{\\mathbf{#1}}\\left[\\left\\{x : -\\frac{7}{3}, y : \\frac{5}{9}, z : 5\\right\\}\\right]\\]</html>"
      ],
      "text/latex": [
       "$$\\newcommand{\\Bold}[1]{\\mathbf{#1}}\\left[\\left\\{x : -\\frac{7}{3}, y : \\frac{5}{9}, z : 5\\right\\}\\right]$$"
      ],
      "text/plain": [
       "[{x: -7/3, y: 5/9, z: 5}]"
      ]
     },
     "metadata": {},
     "execution_count": 7
    }
   ],
   "metadata": {}
  },
  {
   "cell_type": "markdown",
   "source": [
    "<div style=\"background-color: #F5FFFA; color: #000000; border: 2px solid #B0C4DE; border-radius: 15px; padding:0px 10px 25px; overflow:auto\">\n",
    "<h3>2. zadatak</h3>\n",
    "<p>Zadan je sustav jednadžbi</p>\n",
    "$$\\begin{align*}x+y+2z+3u&=6\\\\ x-4y+2z-3u&=-4\\\\ 7y+2z+5u&=12\\\\ x+3y+4z+2u&=8\\end{align*}.$$\n",
    "<p>Odredite opće rješenje sustava, odredite uvjet pod kojim je suma komponenata rješenja pozitivna i nađite sva bazična rješenja.</p>\n",
    "</div>\n",
    "<h3>Rješenje</h3>\n",
    "\n",
    "<p>uočite da iako sustav ima beskonačno mnogo rješenje, <span style=\"color: #ff0000;\"><em>solve_right</em></span> metoda daje samo jedno specijalno rješenje, a naša funkcija <span style=\"color: #ff0000;\"><em>linear_solve</em></span> će dati sva rješenja</p>"
   ],
   "metadata": {}
  },
  {
   "cell_type": "code",
   "execution_count": 8,
   "source": [
    "x,y,z,u=var('x y z u')\n",
    "solve([x+y+2*z+3*u==6,x-4*y+2*z-3*u==-4,7*y+2*z+5*u==12,x+3*y+4*z+2*u==8],[x,y,z,u])"
   ],
   "outputs": [
    {
     "output_type": "execute_result",
     "data": {
      "text/html": [
       "<html>\\[\\newcommand{\\Bold}[1]{\\mathbf{#1}}\\left[\\left[x = -\\frac{26}{5} \\, r_{1} + 6, y = -\\frac{6}{5} \\, r_{1} + 2, z = \\frac{17}{10} \\, r_{1} - 1, u = r_{1}\\right]\\right]\\]</html>"
      ],
      "text/latex": [
       "$$\\newcommand{\\Bold}[1]{\\mathbf{#1}}\\left[\\left[x = -\\frac{26}{5} \\, r_{1} + 6, y = -\\frac{6}{5} \\, r_{1} + 2, z = \\frac{17}{10} \\, r_{1} - 1, u = r_{1}\\right]\\right]$$"
      ],
      "text/plain": [
       "[[x == -26/5*r1 + 6, y == -6/5*r1 + 2, z == 17/10*r1 - 1, u == r1]]"
      ]
     },
     "metadata": {},
     "execution_count": 8
    }
   ],
   "metadata": {}
  },
  {
   "cell_type": "code",
   "execution_count": 9,
   "source": [
    "A=matrix(4,4,[1,1,2,3,1,-4,2,-3,0,7,2,5,1,3,4,2])\n",
    "B=matrix(4,1,[6,-4,12,8])\n",
    "A.solve_right(B)"
   ],
   "outputs": [
    {
     "output_type": "execute_result",
     "data": {
      "text/html": [
       "<html>\\[\\newcommand{\\Bold}[1]{\\mathbf{#1}}\\left(\\begin{array}{r}\n",
       "6 \\\\\n",
       "2 \\\\\n",
       "-1 \\\\\n",
       "0\n",
       "\\end{array}\\right)\\]</html>"
      ],
      "text/latex": [
       "$$\\newcommand{\\Bold}[1]{\\mathbf{#1}}\\left(\\begin{array}{r}\n",
       "6 \\\\\n",
       "2 \\\\\n",
       "-1 \\\\\n",
       "0\n",
       "\\end{array}\\right)$$"
      ],
      "text/plain": [
       "[ 6]\n",
       "[ 2]\n",
       "[-1]\n",
       "[ 0]"
      ]
     },
     "metadata": {},
     "execution_count": 9
    }
   ],
   "metadata": {}
  },
  {
   "cell_type": "code",
   "execution_count": 10,
   "source": [
    "linear_solve(A,B,[x,y,z,u])"
   ],
   "outputs": [
    {
     "output_type": "execute_result",
     "data": {
      "text/html": [
       "<html>\\[\\newcommand{\\Bold}[1]{\\mathbf{#1}}\\left[\\left[x = -\\frac{26}{5} \\, r_{2} + 6, y = -\\frac{6}{5} \\, r_{2} + 2, z = \\frac{17}{10} \\, r_{2} - 1, u = r_{2}\\right]\\right]\\]</html>"
      ],
      "text/latex": [
       "$$\\newcommand{\\Bold}[1]{\\mathbf{#1}}\\left[\\left[x = -\\frac{26}{5} \\, r_{2} + 6, y = -\\frac{6}{5} \\, r_{2} + 2, z = \\frac{17}{10} \\, r_{2} - 1, u = r_{2}\\right]\\right]$$"
      ],
      "text/plain": [
       "[[x == -26/5*r2 + 6, y == -6/5*r2 + 2, z == 17/10*r2 - 1, u == r2]]"
      ]
     },
     "metadata": {},
     "execution_count": 10
    }
   ],
   "metadata": {}
  },
  {
   "cell_type": "markdown",
   "source": [
    "<p><strong>opće rješenje sustava u kojemu je varijabla $x$ parametar</strong></p>"
   ],
   "metadata": {}
  },
  {
   "cell_type": "code",
   "execution_count": 11,
   "source": [
    "solve([x+y+2*z+3*u==6,x-4*y+2*z-3*u==-4,7*y+2*z+5*u==12,x+3*y+4*z+2*u==8],[y,z,u,x])"
   ],
   "outputs": [
    {
     "output_type": "execute_result",
     "data": {
      "text/html": [
       "<html>\\[\\newcommand{\\Bold}[1]{\\mathbf{#1}}\\left[\\left[y = \\frac{3}{13} \\, r_{3} + \\frac{8}{13}, z = -\\frac{17}{52} \\, r_{3} + \\frac{25}{26}, u = -\\frac{5}{26} \\, r_{3} + \\frac{15}{13}, x = r_{3}\\right]\\right]\\]</html>"
      ],
      "text/latex": [
       "$$\\newcommand{\\Bold}[1]{\\mathbf{#1}}\\left[\\left[y = \\frac{3}{13} \\, r_{3} + \\frac{8}{13}, z = -\\frac{17}{52} \\, r_{3} + \\frac{25}{26}, u = -\\frac{5}{26} \\, r_{3} + \\frac{15}{13}, x = r_{3}\\right]\\right]$$"
      ],
      "text/plain": [
       "[[y == 3/13*r3 + 8/13, z == -17/52*r3 + 25/26, u == -5/26*r3 + 15/13, x == r3]]"
      ]
     },
     "metadata": {},
     "execution_count": 11
    }
   ],
   "metadata": {}
  },
  {
   "cell_type": "code",
   "execution_count": 12,
   "source": [
    "linear_solve(A,B,[x,y,z,u],[y,z,u,x])"
   ],
   "outputs": [
    {
     "output_type": "execute_result",
     "data": {
      "text/html": [
       "<html>\\[\\newcommand{\\Bold}[1]{\\mathbf{#1}}\\left[\\left[y = \\frac{3}{13} \\, r_{4} + \\frac{8}{13}, z = -\\frac{17}{52} \\, r_{4} + \\frac{25}{26}, u = -\\frac{5}{26} \\, r_{4} + \\frac{15}{13}, x = r_{4}\\right]\\right]\\]</html>"
      ],
      "text/latex": [
       "$$\\newcommand{\\Bold}[1]{\\mathbf{#1}}\\left[\\left[y = \\frac{3}{13} \\, r_{4} + \\frac{8}{13}, z = -\\frac{17}{52} \\, r_{4} + \\frac{25}{26}, u = -\\frac{5}{26} \\, r_{4} + \\frac{15}{13}, x = r_{4}\\right]\\right]$$"
      ],
      "text/plain": [
       "[[y == 3/13*r4 + 8/13, z == -17/52*r4 + 25/26, u == -5/26*r4 + 15/13, x == r4]]"
      ]
     },
     "metadata": {},
     "execution_count": 12
    }
   ],
   "metadata": {}
  },
  {
   "cell_type": "markdown",
   "source": [
    "<p><strong>opće rješenje sustava u kojemu je varijabla $y$ parametar</strong></p>"
   ],
   "metadata": {}
  },
  {
   "cell_type": "code",
   "execution_count": 13,
   "source": [
    "solve([x+y+2*z+3*u==6,x-4*y+2*z-3*u==-4,7*y+2*z+5*u==12,x+3*y+4*z+2*u==8],[x,z,u,y])"
   ],
   "outputs": [
    {
     "output_type": "execute_result",
     "data": {
      "text/html": [
       "<html>\\[\\newcommand{\\Bold}[1]{\\mathbf{#1}}\\left[\\left[x = \\frac{13}{3} \\, r_{5} - \\frac{8}{3}, z = -\\frac{17}{12} \\, r_{5} + \\frac{11}{6}, u = -\\frac{5}{6} \\, r_{5} + \\frac{5}{3}, y = r_{5}\\right]\\right]\\]</html>"
      ],
      "text/latex": [
       "$$\\newcommand{\\Bold}[1]{\\mathbf{#1}}\\left[\\left[x = \\frac{13}{3} \\, r_{5} - \\frac{8}{3}, z = -\\frac{17}{12} \\, r_{5} + \\frac{11}{6}, u = -\\frac{5}{6} \\, r_{5} + \\frac{5}{3}, y = r_{5}\\right]\\right]$$"
      ],
      "text/plain": [
       "[[x == 13/3*r5 - 8/3, z == -17/12*r5 + 11/6, u == -5/6*r5 + 5/3, y == r5]]"
      ]
     },
     "metadata": {},
     "execution_count": 13
    }
   ],
   "metadata": {}
  },
  {
   "cell_type": "code",
   "execution_count": 14,
   "source": [
    "linear_solve(A,B,[x,y,z,u],[x,z,u,y])"
   ],
   "outputs": [
    {
     "output_type": "execute_result",
     "data": {
      "text/html": [
       "<html>\\[\\newcommand{\\Bold}[1]{\\mathbf{#1}}\\left[\\left[x = \\frac{13}{3} \\, r_{6} - \\frac{8}{3}, z = -\\frac{17}{12} \\, r_{6} + \\frac{11}{6}, u = -\\frac{5}{6} \\, r_{6} + \\frac{5}{3}, y = r_{6}\\right]\\right]\\]</html>"
      ],
      "text/latex": [
       "$$\\newcommand{\\Bold}[1]{\\mathbf{#1}}\\left[\\left[x = \\frac{13}{3} \\, r_{6} - \\frac{8}{3}, z = -\\frac{17}{12} \\, r_{6} + \\frac{11}{6}, u = -\\frac{5}{6} \\, r_{6} + \\frac{5}{3}, y = r_{6}\\right]\\right]$$"
      ],
      "text/plain": [
       "[[x == 13/3*r6 - 8/3, z == -17/12*r6 + 11/6, u == -5/6*r6 + 5/3, y == r6]]"
      ]
     },
     "metadata": {},
     "execution_count": 14
    }
   ],
   "metadata": {}
  },
  {
   "cell_type": "markdown",
   "source": [
    "<p><strong>opće rješenje sustava u kojemu je varijabla $z$ parametar</strong></p>"
   ],
   "metadata": {}
  },
  {
   "cell_type": "code",
   "execution_count": 15,
   "source": [
    "solve([x+y+2*z+3*u==6,x-4*y+2*z-3*u==-4,7*y+2*z+5*u==12,x+3*y+4*z+2*u==8],[x,y,u,z])"
   ],
   "outputs": [
    {
     "output_type": "execute_result",
     "data": {
      "text/html": [
       "<html>\\[\\newcommand{\\Bold}[1]{\\mathbf{#1}}\\left[\\left[x = -\\frac{52}{17} \\, r_{7} + \\frac{50}{17}, y = -\\frac{12}{17} \\, r_{7} + \\frac{22}{17}, u = \\frac{10}{17} \\, r_{7} + \\frac{10}{17}, z = r_{7}\\right]\\right]\\]</html>"
      ],
      "text/latex": [
       "$$\\newcommand{\\Bold}[1]{\\mathbf{#1}}\\left[\\left[x = -\\frac{52}{17} \\, r_{7} + \\frac{50}{17}, y = -\\frac{12}{17} \\, r_{7} + \\frac{22}{17}, u = \\frac{10}{17} \\, r_{7} + \\frac{10}{17}, z = r_{7}\\right]\\right]$$"
      ],
      "text/plain": [
       "[[x == -52/17*r7 + 50/17, y == -12/17*r7 + 22/17, u == 10/17*r7 + 10/17, z == r7]]"
      ]
     },
     "metadata": {},
     "execution_count": 15
    }
   ],
   "metadata": {}
  },
  {
   "cell_type": "code",
   "execution_count": 16,
   "source": [
    "linear_solve(A,B,[x,y,z,u],[x,y,u,z])"
   ],
   "outputs": [
    {
     "output_type": "execute_result",
     "data": {
      "text/html": [
       "<html>\\[\\newcommand{\\Bold}[1]{\\mathbf{#1}}\\left[\\left[x = -\\frac{52}{17} \\, r_{8} + \\frac{50}{17}, y = -\\frac{12}{17} \\, r_{8} + \\frac{22}{17}, u = \\frac{10}{17} \\, r_{8} + \\frac{10}{17}, z = r_{8}\\right]\\right]\\]</html>"
      ],
      "text/latex": [
       "$$\\newcommand{\\Bold}[1]{\\mathbf{#1}}\\left[\\left[x = -\\frac{52}{17} \\, r_{8} + \\frac{50}{17}, y = -\\frac{12}{17} \\, r_{8} + \\frac{22}{17}, u = \\frac{10}{17} \\, r_{8} + \\frac{10}{17}, z = r_{8}\\right]\\right]$$"
      ],
      "text/plain": [
       "[[x == -52/17*r8 + 50/17, y == -12/17*r8 + 22/17, u == 10/17*r8 + 10/17, z == r8]]"
      ]
     },
     "metadata": {},
     "execution_count": 16
    }
   ],
   "metadata": {}
  },
  {
   "cell_type": "markdown",
   "source": [
    "<p><strong>opće rješenje sustava u kojemu je varijabla $u$ parametar</strong></p>"
   ],
   "metadata": {}
  },
  {
   "cell_type": "code",
   "execution_count": 17,
   "source": [
    "solve([x+y+2*z+3*u==6,x-4*y+2*z-3*u==-4,7*y+2*z+5*u==12,x+3*y+4*z+2*u==8],[x,y,z,u])"
   ],
   "outputs": [
    {
     "output_type": "execute_result",
     "data": {
      "text/html": [
       "<html>\\[\\newcommand{\\Bold}[1]{\\mathbf{#1}}\\left[\\left[x = -\\frac{26}{5} \\, r_{9} + 6, y = -\\frac{6}{5} \\, r_{9} + 2, z = \\frac{17}{10} \\, r_{9} - 1, u = r_{9}\\right]\\right]\\]</html>"
      ],
      "text/latex": [
       "$$\\newcommand{\\Bold}[1]{\\mathbf{#1}}\\left[\\left[x = -\\frac{26}{5} \\, r_{9} + 6, y = -\\frac{6}{5} \\, r_{9} + 2, z = \\frac{17}{10} \\, r_{9} - 1, u = r_{9}\\right]\\right]$$"
      ],
      "text/plain": [
       "[[x == -26/5*r9 + 6, y == -6/5*r9 + 2, z == 17/10*r9 - 1, u == r9]]"
      ]
     },
     "metadata": {},
     "execution_count": 17
    }
   ],
   "metadata": {}
  },
  {
   "cell_type": "code",
   "execution_count": 18,
   "source": [
    "linear_solve(A,B,[x,y,z,u])"
   ],
   "outputs": [
    {
     "output_type": "execute_result",
     "data": {
      "text/html": [
       "<html>\\[\\newcommand{\\Bold}[1]{\\mathbf{#1}}\\left[\\left[x = -\\frac{26}{5} \\, r_{10} + 6, y = -\\frac{6}{5} \\, r_{10} + 2, z = \\frac{17}{10} \\, r_{10} - 1, u = r_{10}\\right]\\right]\\]</html>"
      ],
      "text/latex": [
       "$$\\newcommand{\\Bold}[1]{\\mathbf{#1}}\\left[\\left[x = -\\frac{26}{5} \\, r_{10} + 6, y = -\\frac{6}{5} \\, r_{10} + 2, z = \\frac{17}{10} \\, r_{10} - 1, u = r_{10}\\right]\\right]$$"
      ],
      "text/plain": [
       "[[x == -26/5*r10 + 6, y == -6/5*r10 + 2, z == 17/10*r10 - 1, u == r10]]"
      ]
     },
     "metadata": {},
     "execution_count": 18
    }
   ],
   "metadata": {}
  },
  {
   "cell_type": "markdown",
   "source": [
    "<p><strong>uvjet da je suma komponenata rješenja pozitivna</strong> - pogledat ćemo taj uvjet na općem rješenju u kojemu je varijabla $y$ parametar (analogno bismo mogli pogledati i za ostale oblike općih rješenja)</p>"
   ],
   "metadata": {}
  },
  {
   "cell_type": "code",
   "execution_count": 19,
   "source": [
    "rjesenje=linear_solve(A,B,[x,y,z,u],[x,z,u,y],rjecnik=True);rjesenje"
   ],
   "outputs": [
    {
     "output_type": "execute_result",
     "data": {
      "text/html": [
       "<html>\\[\\newcommand{\\Bold}[1]{\\mathbf{#1}}\\left[\\left\\{x : \\frac{13}{3} \\, r_{11} - \\frac{8}{3}, z : -\\frac{17}{12} \\, r_{11} + \\frac{11}{6}, u : -\\frac{5}{6} \\, r_{11} + \\frac{5}{3}, y : r_{11}\\right\\}\\right]\\]</html>"
      ],
      "text/latex": [
       "$$\\newcommand{\\Bold}[1]{\\mathbf{#1}}\\left[\\left\\{x : \\frac{13}{3} \\, r_{11} - \\frac{8}{3}, z : -\\frac{17}{12} \\, r_{11} + \\frac{11}{6}, u : -\\frac{5}{6} \\, r_{11} + \\frac{5}{3}, y : r_{11}\\right\\}\\right]$$"
      ],
      "text/plain": [
       "[{x: 13/3*r11 - 8/3, z: -17/12*r11 + 11/6, u: -5/6*r11 + 5/3, y: r11}]"
      ]
     },
     "metadata": {},
     "execution_count": 19
    }
   ],
   "metadata": {}
  },
  {
   "cell_type": "code",
   "execution_count": 20,
   "source": [
    "uvjet=rjesenje[0][x]+rjesenje[0][y]+rjesenje[0][z]+rjesenje[0][u];uvjet"
   ],
   "outputs": [
    {
     "output_type": "execute_result",
     "data": {
      "text/html": [
       "<html>\\[\\newcommand{\\Bold}[1]{\\mathbf{#1}}\\frac{37}{12} \\, r_{11} + \\frac{5}{6}\\]</html>"
      ],
      "text/latex": [
       "$$\\newcommand{\\Bold}[1]{\\mathbf{#1}}\\frac{37}{12} \\, r_{11} + \\frac{5}{6}$$"
      ],
      "text/plain": [
       "37/12*r11 + 5/6"
      ]
     },
     "metadata": {},
     "execution_count": 20
    }
   ],
   "metadata": {}
  },
  {
   "cell_type": "code",
   "execution_count": 21,
   "source": [
    "solve(uvjet>0,rjesenje[0][y])"
   ],
   "outputs": [
    {
     "output_type": "execute_result",
     "data": {
      "text/html": [
       "<html>\\[\\newcommand{\\Bold}[1]{\\mathbf{#1}}\\left[\\left[r_{11} > \\left(-\\frac{10}{37}\\right)\\right]\\right]\\]</html>"
      ],
      "text/latex": [
       "$$\\newcommand{\\Bold}[1]{\\mathbf{#1}}\\left[\\left[r_{11} > \\left(-\\frac{10}{37}\\right)\\right]\\right]$$"
      ],
      "text/plain": [
       "[[r11 > (-10/37)]]"
      ]
     },
     "metadata": {},
     "execution_count": 21
    }
   ],
   "metadata": {}
  },
  {
   "cell_type": "markdown",
   "source": [
    "<h3>bazična rješenja</h3>\n",
    "\n",
    "<p>Ne postoji gotova naredba u SAGE-u koja bi ispisala sva bazična rješenja zadanog sustava. Stoga ćemo definirati svoju funkciju <span style=\"color: #ff0000;\"><em>bazicna_rjesenja</em></span>. Ta funkcija na ulazu traži sljedeće podatke:</p>\n",
    "<ul>\n",
    "<li><span style=\"color: #ff0000;\"><em>matrica</em></span> - matrica sustava koja može biti unešena i kao dvodimenzionalna python lista (nije potrebno pisati ključnu riječ <em><span style=\"color: #ff0000;\">matrix</span></em>, ali neće biti greška ako se i napiše)</li>\n",
    "<li><span style=\"color: #ff0000;\"><em>koeficijenti</em></span> - matrica slobodnih koeficijenata koja također može biti unešena i kao jednodimenzionalna python lista</li>\n",
    "<li><span style=\"color: #ff0000;\"><em>nepoznanice</em></span> - matrica nepoznanica koja se unosi kao jednodimenzionalna python lista</li>\n",
    "</ul>\n",
    "<p>Ukoliko je sustav kontradiktoran ili ima jedinstveno rješenje, funkcija <span style=\"color: #ff0000;\"><em>bazicna_rjesenja</em></span> će vas o tome obavijestiti.</p>"
   ],
   "metadata": {}
  },
  {
   "cell_type": "code",
   "execution_count": 22,
   "source": [
    "def bazicna_rjesenja(matrica,koeficijenti,nepoznanice):\n",
    "    if type(matrica)==list: matrica=matrix(matrica)\n",
    "    if type(koeficijenti)!=list: koeficijenti=koeficijenti.list()\n",
    "    if matrix(matrica.columns()+[tuple(koeficijenti)]).rank()!=matrica.rank():\n",
    "        return \"Error: sustav je kontradiktoran\"\n",
    "    brojParametara=len(nepoznanice)-matrica.rank()\n",
    "    if brojParametara==0:\n",
    "        return \"Error: sustav ima jedinstveno rjesenje\"\n",
    "    X=matrix(len(nepoznanice),1,nepoznanice)\n",
    "    lijevo=matrica*X\n",
    "    desno=matrix(len(koeficijenti),1,koeficijenti)\n",
    "    jednadzbe=[]\n",
    "    for i in range(lijevo.nrows()): \n",
    "         for j in range(lijevo.ncols()): \n",
    "             jednadzbe.append(lijevo[i,j]==desno[i,j])\n",
    "    parametri=Combinations(zip(nepoznanice,[0]*len(nepoznanice)),brojParametara)\n",
    "    for t in parametri:\n",
    "        var1=list(map(lambda q: q[0], t))\n",
    "        var2=list(filter(lambda q: not(q in var1), nepoznanice))\n",
    "        rjesenje=solve(list(map(lambda q: q.substitute(dict(t)), jednadzbe)),*var2)\n",
    "        if rjesenje!=[]:\n",
    "            rjesenje=list(map(lambda q: q[0]==q[1],t))+rjesenje[0]\n",
    "            print(rjesenje)\n",
    "    return None"
   ],
   "outputs": [],
   "metadata": {}
  },
  {
   "cell_type": "code",
   "execution_count": 23,
   "source": [
    "bazicna_rjesenja(A,B,[x,y,z,u])"
   ],
   "outputs": [
    {
     "output_type": "stream",
     "name": "stdout",
     "text": [
      "[x == 0, y == (8/13), z == (25/26), u == (15/13)]\n",
      "[y == 0, x == (-8/3), z == (11/6), u == (5/3)]\n",
      "[z == 0, x == (50/17), y == (22/17), u == (10/17)]\n",
      "[u == 0, x == 6, y == 2, z == -1]\n"
     ]
    }
   ],
   "metadata": {}
  },
  {
   "cell_type": "markdown",
   "source": [
    "<p><strong>Prvi zadatak i bazična rješenja</strong> - sustav u prvom zadatku ima jedinstveno rješenje, što naša funkcija <span style=\"color: #ff0000;\"><em>bazicna_rjesenja</em></span> to i prepoznaje</p>"
   ],
   "metadata": {}
  },
  {
   "cell_type": "code",
   "execution_count": 24,
   "source": [
    "bazicna_rjesenja([[2,3,1],[1,-3,2],[-2,6,-1]],[2,6,3],[x,y,z])"
   ],
   "outputs": [
    {
     "output_type": "execute_result",
     "data": {
      "text/html": [
       "<html>\\[\\newcommand{\\Bold}[1]{\\mathbf{#1}}\\verb|Error:|\\phantom{\\verb!x!}\\verb|sustav|\\phantom{\\verb!x!}\\verb|ima|\\phantom{\\verb!x!}\\verb|jedinstveno|\\phantom{\\verb!x!}\\verb|rjesenje|\\]</html>"
      ],
      "text/latex": [
       "$$\\newcommand{\\Bold}[1]{\\mathbf{#1}}\\verb|Error:|\\phantom{\\verb!x!}\\verb|sustav|\\phantom{\\verb!x!}\\verb|ima|\\phantom{\\verb!x!}\\verb|jedinstveno|\\phantom{\\verb!x!}\\verb|rjesenje|$$"
      ],
      "text/plain": [
       "'Error: sustav ima jedinstveno rjesenje'"
      ]
     },
     "metadata": {},
     "execution_count": 24
    }
   ],
   "metadata": {}
  },
  {
   "cell_type": "markdown",
   "source": [
    "<div style=\"background-color: #F5FFFA; color: #000000; border: 2px solid #B0C4DE; border-radius: 15px; padding:0px 10px 25px; overflow:auto\">\n",
    "<h3>3. zadatak</h3>\n",
    "<p>Zadan je sustav jednadžbi</p>\n",
    "$$\\begin{align*}2x_1+3x_2+2x_3+6x_4&=1\\\\ -2x_1+3x_2-6x_3+12x_4&=-19\\\\ 2x_1+6x_2+15x_4&=-8\\end{align*}.$$\n",
    "<p>Odredite opće rješenje sustava tako da varijable $x_3$ i $x_4$ budu parametri i nađite sva bazična rješenja.</p>\n",
    "</div>\n",
    "<h3>Rješenje</h3>"
   ],
   "metadata": {}
  },
  {
   "cell_type": "code",
   "execution_count": 25,
   "source": [
    "x1,x2,x3,x4=var('x1 x2 x3 x4')"
   ],
   "outputs": [],
   "metadata": {}
  },
  {
   "cell_type": "code",
   "execution_count": 26,
   "source": [
    "A=matrix(3,4,[2,3,2,6,-2,3,-6,12,2,6,0,15])\n",
    "B=matrix(3,1,[1,-19,-8])"
   ],
   "outputs": [],
   "metadata": {}
  },
  {
   "cell_type": "code",
   "execution_count": 27,
   "source": [
    "linear_solve(A,B,[x1,x2,x3,x4],[x1,x2,x4,x3])"
   ],
   "outputs": [
    {
     "output_type": "execute_result",
     "data": {
      "text/html": [
       "<html>\\[\\newcommand{\\Bold}[1]{\\mathbf{#1}}\\left[\\left[x_{1} = -2 \\, r_{12} + \\frac{3}{2} \\, r_{13} + 5, x_{2} = \\frac{2}{3} \\, r_{12} - 3 \\, r_{13} - 3, x_{4} = r_{13}, x_{3} = r_{12}\\right]\\right]\\]</html>"
      ],
      "text/latex": [
       "$$\\newcommand{\\Bold}[1]{\\mathbf{#1}}\\left[\\left[x_{1} = -2 \\, r_{12} + \\frac{3}{2} \\, r_{13} + 5, x_{2} = \\frac{2}{3} \\, r_{12} - 3 \\, r_{13} - 3, x_{4} = r_{13}, x_{3} = r_{12}\\right]\\right]$$"
      ],
      "text/plain": [
       "[[x1 == -2*r12 + 3/2*r13 + 5, x2 == 2/3*r12 - 3*r13 - 3, x4 == r13, x3 == r12]]"
      ]
     },
     "metadata": {},
     "execution_count": 27
    }
   ],
   "metadata": {}
  },
  {
   "cell_type": "markdown",
   "source": [
    "<p>ako želimo da varijable $x_1$ i $x_3$ budu parametri</p>"
   ],
   "metadata": {}
  },
  {
   "cell_type": "code",
   "execution_count": 28,
   "source": [
    "linear_solve(A,B,[x1,x2,x3,x4],[x2,x4,x3,x1])"
   ],
   "outputs": [
    {
     "output_type": "execute_result",
     "data": {
      "text/html": [
       "<html>\\[\\newcommand{\\Bold}[1]{\\mathbf{#1}}\\left[\\left[x_{2} = -2 \\, r_{14} - \\frac{10}{3} \\, r_{15} + 7, x_{4} = \\frac{2}{3} \\, r_{14} + \\frac{4}{3} \\, r_{15} - \\frac{10}{3}, x_{3} = r_{15}, x_{1} = r_{14}\\right]\\right]\\]</html>"
      ],
      "text/latex": [
       "$$\\newcommand{\\Bold}[1]{\\mathbf{#1}}\\left[\\left[x_{2} = -2 \\, r_{14} - \\frac{10}{3} \\, r_{15} + 7, x_{4} = \\frac{2}{3} \\, r_{14} + \\frac{4}{3} \\, r_{15} - \\frac{10}{3}, x_{3} = r_{15}, x_{1} = r_{14}\\right]\\right]$$"
      ],
      "text/plain": [
       "[[x2 == -2*r14 - 10/3*r15 + 7, x4 == 2/3*r14 + 4/3*r15 - 10/3, x3 == r15, x1 == r14]]"
      ]
     },
     "metadata": {},
     "execution_count": 28
    }
   ],
   "metadata": {}
  },
  {
   "cell_type": "markdown",
   "source": [
    "<p><strong>bazična rješenja</strong></p>"
   ],
   "metadata": {}
  },
  {
   "cell_type": "code",
   "execution_count": 29,
   "source": [
    "bazicna_rjesenja(A,B,[x1,x2,x3,x4])"
   ],
   "outputs": [
    {
     "output_type": "stream",
     "name": "stdout",
     "text": [
      "[x1 == 0, x2 == 0, x3 == (21/10), x4 == (-8/15)]\n",
      "[x1 == 0, x3 == 0, x2 == 7, x4 == (-10/3)]\n",
      "[x1 == 0, x4 == 0, x2 == (-4/3), x3 == (5/2)]\n",
      "[x2 == 0, x3 == 0, x1 == (7/2), x4 == -1]\n",
      "[x2 == 0, x4 == 0, x1 == -4, x3 == (9/2)]\n",
      "[x3 == 0, x4 == 0, x1 == 5, x2 == -3]\n"
     ]
    }
   ],
   "metadata": {}
  },
  {
   "cell_type": "markdown",
   "source": [
    "<div style=\"background-color: #F5FFFA; color: #000000; border: 2px solid #B0C4DE; border-radius: 15px; padding:0px 10px 25px;\">\n",
    "<h3>4. zadatak</h3>\n",
    "<p>Riješite sustav jednadžbi</p>\n",
    "$$\\begin{align*}x_1-4x_2+5x_3&=6\\\\ -3x_2+2x_3&=-12\\\\ 2x_1+7x_2&=35\\end{align*}.$$\n",
    "</div>\n",
    "<h3>Rješenje</h3>\n",
    "<p>Sustav je kontradiktoran.</p>"
   ],
   "metadata": {}
  },
  {
   "cell_type": "code",
   "execution_count": 30,
   "source": [
    "A=matrix(3,3,[1,-4,5,0,-3,2,2,7,0])\n",
    "B=matrix(3,1,[6,-12,35])"
   ],
   "outputs": [],
   "metadata": {}
  },
  {
   "cell_type": "code",
   "execution_count": 31,
   "source": [
    "linear_solve(A,B,[x1,x2,x3])"
   ],
   "outputs": [
    {
     "output_type": "execute_result",
     "data": {
      "text/html": [
       "<html>\\[\\newcommand{\\Bold}[1]{\\mathbf{#1}}\\left[\\right]\\]</html>"
      ],
      "text/latex": [
       "$$\\newcommand{\\Bold}[1]{\\mathbf{#1}}\\left[\\right]$$"
      ],
      "text/plain": [
       "[]"
      ]
     },
     "metadata": {},
     "execution_count": 31
    }
   ],
   "metadata": {}
  },
  {
   "cell_type": "markdown",
   "source": [
    "<p>Naša implementirana funkcija <span style=\"color: #ff0000;\"><em>bazicna_rjesenja</em></span> će nas također obavijestiti da se radi o kontradiktornom sustavu pa nema smisla tražiti bazična rješenja.</p>"
   ],
   "metadata": {}
  },
  {
   "cell_type": "code",
   "execution_count": 32,
   "source": [
    "bazicna_rjesenja(A,B,[x1,x2,x3])"
   ],
   "outputs": [
    {
     "output_type": "execute_result",
     "data": {
      "text/html": [
       "<html>\\[\\newcommand{\\Bold}[1]{\\mathbf{#1}}\\verb|Error:|\\phantom{\\verb!x!}\\verb|sustav|\\phantom{\\verb!x!}\\verb|je|\\phantom{\\verb!x!}\\verb|kontradiktoran|\\]</html>"
      ],
      "text/latex": [
       "$$\\newcommand{\\Bold}[1]{\\mathbf{#1}}\\verb|Error:|\\phantom{\\verb!x!}\\verb|sustav|\\phantom{\\verb!x!}\\verb|je|\\phantom{\\verb!x!}\\verb|kontradiktoran|$$"
      ],
      "text/plain": [
       "'Error: sustav je kontradiktoran'"
      ]
     },
     "metadata": {},
     "execution_count": 32
    }
   ],
   "metadata": {}
  },
  {
   "cell_type": "markdown",
   "source": [
    "<div style=\"background-color: #F5FFFA; color: #000000; border: 2px solid #B0C4DE; border-radius: 15px; padding:0px 10px 25px;\">\n",
    "<h3>5. zadatak</h3>\n",
    "<p>Odredite sva bazična rješenja sustava</p>\n",
    "$$\\begin{align*}-4x_1-3x_2-4x_3&=-1\\\\ x_1+x_2+x_3&=1\\\\ 14x_1+11x_2+14x_3&=5\\\\ 11x_1+9x_2+11x_3&=5\\end{align*}.$$\n",
    "</div>\n",
    "<h3>Rješenje</h3>\n",
    "<p>Pogledajmo najprije kako izgleda opće rješenje zadanog sustava.</p>"
   ],
   "metadata": {}
  },
  {
   "cell_type": "code",
   "execution_count": 33,
   "source": [
    "A=matrix(4,3,[-4,-3,-4,1,1,1,14,11,14,11,9,11])\n",
    "B=matrix(4,1,[-1,1,5,5])"
   ],
   "outputs": [],
   "metadata": {}
  },
  {
   "cell_type": "code",
   "execution_count": 34,
   "source": [
    "linear_solve(A,B,[x1,x2,x3])"
   ],
   "outputs": [
    {
     "output_type": "execute_result",
     "data": {
      "text/html": [
       "<html>\\[\\newcommand{\\Bold}[1]{\\mathbf{#1}}\\left[\\left[x_{1} = -r_{16} - 2, x_{2} = 3, x_{3} = r_{16}\\right]\\right]\\]</html>"
      ],
      "text/latex": [
       "$$\\newcommand{\\Bold}[1]{\\mathbf{#1}}\\left[\\left[x_{1} = -r_{16} - 2, x_{2} = 3, x_{3} = r_{16}\\right]\\right]$$"
      ],
      "text/plain": [
       "[[x1 == -r16 - 2, x2 == 3, x3 == r16]]"
      ]
     },
     "metadata": {},
     "execution_count": 34
    }
   ],
   "metadata": {}
  },
  {
   "cell_type": "markdown",
   "source": [
    "<p>Vidimo da je nepoznanica $x_2$ uvijek jednaka 3 pa nećemo imati maksimalni broj bazičnih rješenja. Naša implementirana funkcija <span style=\"color: #ff0000;\"><em>bazicna_rjesenja</em></span> također dobro reagira u takvim situacijama i ispisat će samo dva bazična rješenja u ovom slučaju.</p>"
   ],
   "metadata": {}
  },
  {
   "cell_type": "code",
   "execution_count": 35,
   "source": [
    "bazicna_rjesenja(A,B,[x1,x2,x3])"
   ],
   "outputs": [
    {
     "output_type": "stream",
     "name": "stdout",
     "text": [
      "[x1 == 0, x2 == 3, x3 == -2]\n",
      "[x3 == 0, x1 == -2, x2 == 3]\n"
     ]
    }
   ],
   "metadata": {}
  },
  {
   "cell_type": "markdown",
   "source": [
    "<div style=\"background-color: #F5FFFA; color: #000000; border: 2px solid #B0C4DE; border-radius: 15px; padding:0px 10px 25px; overflow:auto\">\n",
    "<h3>6. zadatak</h3>\n",
    "<p>Odredite inverznu matricu matrice $A=\\begin{bmatrix}0&1&-1&4\\\\ 2&1&0&1\\\\ 3&2&2&5\\\\ -2&-4&-1&1\\end{bmatrix}$.</p>\n",
    "</div>\n",
    "<h3>Rješenje</h3>\n",
    "<p>Kao što smo računali ranije inverze od $2\\times2$ i $3\\times3$ matrica, tako možemo računati inverz bilo koje kvadratne matrice reda $n$.</p>"
   ],
   "metadata": {}
  },
  {
   "cell_type": "code",
   "execution_count": 36,
   "source": [
    "A=matrix(4,4,[0,1,-1,4,2,1,0,1,3,2,2,5,-2,-4,-1,1])"
   ],
   "outputs": [],
   "metadata": {}
  },
  {
   "cell_type": "code",
   "execution_count": 37,
   "source": [
    "A^-1"
   ],
   "outputs": [
    {
     "output_type": "execute_result",
     "data": {
      "text/html": [
       "<html>\\[\\newcommand{\\Bold}[1]{\\mathbf{#1}}\\left(\\begin{array}{rrrr}\n",
       "-\\frac{13}{82} & \\frac{53}{82} & -\\frac{1}{41} & \\frac{9}{82} \\\\\n",
       "\\frac{15}{82} & -\\frac{17}{82} & -\\frac{2}{41} & -\\frac{23}{82} \\\\\n",
       "-\\frac{23}{82} & -\\frac{45}{82} & \\frac{14}{41} & -\\frac{3}{82} \\\\\n",
       "\\frac{11}{82} & -\\frac{7}{82} & \\frac{4}{41} & \\frac{5}{82}\n",
       "\\end{array}\\right)\\]</html>"
      ],
      "text/latex": [
       "$$\\newcommand{\\Bold}[1]{\\mathbf{#1}}\\left(\\begin{array}{rrrr}\n",
       "-\\frac{13}{82} & \\frac{53}{82} & -\\frac{1}{41} & \\frac{9}{82} \\\\\n",
       "\\frac{15}{82} & -\\frac{17}{82} & -\\frac{2}{41} & -\\frac{23}{82} \\\\\n",
       "-\\frac{23}{82} & -\\frac{45}{82} & \\frac{14}{41} & -\\frac{3}{82} \\\\\n",
       "\\frac{11}{82} & -\\frac{7}{82} & \\frac{4}{41} & \\frac{5}{82}\n",
       "\\end{array}\\right)$$"
      ],
      "text/plain": [
       "[-13/82  53/82  -1/41   9/82]\n",
       "[ 15/82 -17/82  -2/41 -23/82]\n",
       "[-23/82 -45/82  14/41  -3/82]\n",
       "[ 11/82  -7/82   4/41   5/82]"
      ]
     },
     "metadata": {},
     "execution_count": 37
    }
   ],
   "metadata": {}
  },
  {
   "cell_type": "code",
   "execution_count": 38,
   "source": [
    "A.inverse()"
   ],
   "outputs": [
    {
     "output_type": "execute_result",
     "data": {
      "text/html": [
       "<html>\\[\\newcommand{\\Bold}[1]{\\mathbf{#1}}\\left(\\begin{array}{rrrr}\n",
       "-\\frac{13}{82} & \\frac{53}{82} & -\\frac{1}{41} & \\frac{9}{82} \\\\\n",
       "\\frac{15}{82} & -\\frac{17}{82} & -\\frac{2}{41} & -\\frac{23}{82} \\\\\n",
       "-\\frac{23}{82} & -\\frac{45}{82} & \\frac{14}{41} & -\\frac{3}{82} \\\\\n",
       "\\frac{11}{82} & -\\frac{7}{82} & \\frac{4}{41} & \\frac{5}{82}\n",
       "\\end{array}\\right)\\]</html>"
      ],
      "text/latex": [
       "$$\\newcommand{\\Bold}[1]{\\mathbf{#1}}\\left(\\begin{array}{rrrr}\n",
       "-\\frac{13}{82} & \\frac{53}{82} & -\\frac{1}{41} & \\frac{9}{82} \\\\\n",
       "\\frac{15}{82} & -\\frac{17}{82} & -\\frac{2}{41} & -\\frac{23}{82} \\\\\n",
       "-\\frac{23}{82} & -\\frac{45}{82} & \\frac{14}{41} & -\\frac{3}{82} \\\\\n",
       "\\frac{11}{82} & -\\frac{7}{82} & \\frac{4}{41} & \\frac{5}{82}\n",
       "\\end{array}\\right)$$"
      ],
      "text/plain": [
       "[-13/82  53/82  -1/41   9/82]\n",
       "[ 15/82 -17/82  -2/41 -23/82]\n",
       "[-23/82 -45/82  14/41  -3/82]\n",
       "[ 11/82  -7/82   4/41   5/82]"
      ]
     },
     "metadata": {},
     "execution_count": 38
    }
   ],
   "metadata": {}
  },
  {
   "cell_type": "code",
   "execution_count": 39,
   "source": [
    "~A"
   ],
   "outputs": [
    {
     "output_type": "execute_result",
     "data": {
      "text/html": [
       "<html>\\[\\newcommand{\\Bold}[1]{\\mathbf{#1}}\\left(\\begin{array}{rrrr}\n",
       "-\\frac{13}{82} & \\frac{53}{82} & -\\frac{1}{41} & \\frac{9}{82} \\\\\n",
       "\\frac{15}{82} & -\\frac{17}{82} & -\\frac{2}{41} & -\\frac{23}{82} \\\\\n",
       "-\\frac{23}{82} & -\\frac{45}{82} & \\frac{14}{41} & -\\frac{3}{82} \\\\\n",
       "\\frac{11}{82} & -\\frac{7}{82} & \\frac{4}{41} & \\frac{5}{82}\n",
       "\\end{array}\\right)\\]</html>"
      ],
      "text/latex": [
       "$$\\newcommand{\\Bold}[1]{\\mathbf{#1}}\\left(\\begin{array}{rrrr}\n",
       "-\\frac{13}{82} & \\frac{53}{82} & -\\frac{1}{41} & \\frac{9}{82} \\\\\n",
       "\\frac{15}{82} & -\\frac{17}{82} & -\\frac{2}{41} & -\\frac{23}{82} \\\\\n",
       "-\\frac{23}{82} & -\\frac{45}{82} & \\frac{14}{41} & -\\frac{3}{82} \\\\\n",
       "\\frac{11}{82} & -\\frac{7}{82} & \\frac{4}{41} & \\frac{5}{82}\n",
       "\\end{array}\\right)$$"
      ],
      "text/plain": [
       "[-13/82  53/82  -1/41   9/82]\n",
       "[ 15/82 -17/82  -2/41 -23/82]\n",
       "[-23/82 -45/82  14/41  -3/82]\n",
       "[ 11/82  -7/82   4/41   5/82]"
      ]
     },
     "metadata": {},
     "execution_count": 39
    }
   ],
   "metadata": {}
  },
  {
   "cell_type": "markdown",
   "source": [
    "<div style=\"background-color: #F5FFFA; color: #000000; border: 2px solid #B0C4DE; border-radius: 15px; padding:0px 10px 25px; overflow:auto\">\n",
    "<h3>7. zadatak</h3>\n",
    "<p>Odredite rangove sljedećih matrica:</p>\n",
    "$$A=\\begin{bmatrix}2&6&-4&1&2\\\\ 4&-12&8&0&-4\\\\ -3&9&2&-2&3\\end{bmatrix},\\quad B=\\begin{bmatrix}1&-2&0&4&3&0\\\\ -2&0&5&2&6&1\\\\ 0&1&1&3&-2&-1\\\\ -1&-2&5&6&9&1\\\\ 1&0&2&10&-1&-2\\end{bmatrix},\\quad C=\\begin{bmatrix}3&2&0&1\\\\ 1&-1&1&1\\\\ 4&2&-1&1\\\\ 0&0&2&1\\end{bmatrix}.$$\n",
    "</div>\n",
    "<h3>Rješenje</h3>"
   ],
   "metadata": {}
  },
  {
   "cell_type": "code",
   "execution_count": 40,
   "source": [
    "A=matrix(3,5,[2,6,-4,1,2,4,-12,8,0,-4,-3,9,2,-2,3])\n",
    "B=matrix(5,6,[1,-2,0,4,3,0,-2,0,5,2,6,1,0,1,1,3,-2,-1,-1,-2,5,6,9,1,1,0,2,10,-1,-2])\n",
    "C=matrix(4,4,[3,2,0,1,1,-1,1,1,4,2,-1,1,0,0,2,1])"
   ],
   "outputs": [],
   "metadata": {}
  },
  {
   "cell_type": "code",
   "execution_count": 41,
   "source": [
    "A.rank(),B.rank(),C.rank()"
   ],
   "outputs": [
    {
     "output_type": "execute_result",
     "data": {
      "text/html": [
       "<html>\\[\\newcommand{\\Bold}[1]{\\mathbf{#1}}\\left(3, 3, 4\\right)\\]</html>"
      ],
      "text/latex": [
       "$$\\newcommand{\\Bold}[1]{\\mathbf{#1}}\\left(3, 3, 4\\right)$$"
      ],
      "text/plain": [
       "(3, 3, 4)"
      ]
     },
     "metadata": {},
     "execution_count": 41
    }
   ],
   "metadata": {}
  },
  {
   "cell_type": "code",
   "execution_count": 42,
   "source": [
    "rank(A),rank(B),rank(C)"
   ],
   "outputs": [
    {
     "output_type": "execute_result",
     "data": {
      "text/html": [
       "<html>\\[\\newcommand{\\Bold}[1]{\\mathbf{#1}}\\left(3, 3, 4\\right)\\]</html>"
      ],
      "text/latex": [
       "$$\\newcommand{\\Bold}[1]{\\mathbf{#1}}\\left(3, 3, 4\\right)$$"
      ],
      "text/plain": [
       "(3, 3, 4)"
      ]
     },
     "metadata": {},
     "execution_count": 42
    }
   ],
   "metadata": {}
  },
  {
   "cell_type": "markdown",
   "source": [
    "<div style=\"background-color: #F5FFFA; color: #000000; border: 2px solid #B0C4DE; border-radius: 15px; padding:0px 10px 25px; overflow:auto\">\n",
    "<h3>8. zadatak</h3>\n",
    "<p>U ovisnosti o $k\\in\\mathbb{R}$ riješite sustav linearnih jednadžbi</p>\n",
    "$$\\begin{align*}x-2y&=1\\\\ x-y+kz&=-2\\\\ ky+4z&=6\\end{align*}.$$\n",
    "</div>\n",
    "<h3>Rješenje</h3>"
   ],
   "metadata": {}
  },
  {
   "cell_type": "code",
   "execution_count": 43,
   "source": [
    "k=var('k')"
   ],
   "outputs": [],
   "metadata": {}
  },
  {
   "cell_type": "markdown",
   "source": [
    "<p>Komentirajmo najprije jedinstvenost rješenja pomoću Cramerovog pravila.</p>"
   ],
   "metadata": {}
  },
  {
   "cell_type": "code",
   "execution_count": 44,
   "source": [
    "A=matrix(3,3,[1,-2,0,1,-1,k,0,k,4])\n",
    "A.det()"
   ],
   "outputs": [
    {
     "output_type": "execute_result",
     "data": {
      "text/html": [
       "<html>\\[\\newcommand{\\Bold}[1]{\\mathbf{#1}}-k^{2} + 4\\]</html>"
      ],
      "text/latex": [
       "$$\\newcommand{\\Bold}[1]{\\mathbf{#1}}-k^{2} + 4$$"
      ],
      "text/plain": [
       "-k^2 + 4"
      ]
     },
     "metadata": {},
     "execution_count": 44
    }
   ],
   "metadata": {}
  },
  {
   "cell_type": "code",
   "execution_count": 45,
   "source": [
    "solve(A.det()==0,k)"
   ],
   "outputs": [
    {
     "output_type": "execute_result",
     "data": {
      "text/html": [
       "<html>\\[\\newcommand{\\Bold}[1]{\\mathbf{#1}}\\left[k = \\left(-2\\right), k = 2\\right]\\]</html>"
      ],
      "text/latex": [
       "$$\\newcommand{\\Bold}[1]{\\mathbf{#1}}\\left[k = \\left(-2\\right), k = 2\\right]$$"
      ],
      "text/plain": [
       "[k == -2, k == 2]"
      ]
     },
     "metadata": {},
     "execution_count": 45
    }
   ],
   "metadata": {}
  },
  {
   "cell_type": "markdown",
   "source": [
    "<p>Zaključujemo da sustav za $k\\in\\mathbb{R}\\setminus\\{-2,2\\}$ ima jedinstveno rješenje koje je dano s</p>"
   ],
   "metadata": {}
  },
  {
   "cell_type": "code",
   "execution_count": 46,
   "source": [
    "linear_solve(A,matrix(3,1,[1,-2,6]),[x,y,z])"
   ],
   "outputs": [
    {
     "output_type": "execute_result",
     "data": {
      "text/html": [
       "<html>\\[\\newcommand{\\Bold}[1]{\\mathbf{#1}}\\left[\\left[x = \\frac{k + 10}{k - 2}, y = \\frac{6}{k - 2}, z = -\\frac{3}{k - 2}\\right]\\right]\\]</html>"
      ],
      "text/latex": [
       "$$\\newcommand{\\Bold}[1]{\\mathbf{#1}}\\left[\\left[x = \\frac{k + 10}{k - 2}, y = \\frac{6}{k - 2}, z = -\\frac{3}{k - 2}\\right]\\right]$$"
      ],
      "text/plain": [
       "[[x == (k + 10)/(k - 2), y == 6/(k - 2), z == -3/(k - 2)]]"
      ]
     },
     "metadata": {},
     "execution_count": 46
    }
   ],
   "metadata": {}
  },
  {
   "cell_type": "markdown",
   "source": [
    "<p><strong>slučaj $k=-2$: sustav ima beskonačno mnogo rješenja</strong></p>"
   ],
   "metadata": {}
  },
  {
   "cell_type": "code",
   "execution_count": 47,
   "source": [
    "A.subs(k=-2)"
   ],
   "outputs": [
    {
     "output_type": "execute_result",
     "data": {
      "text/html": [
       "<html>\\[\\newcommand{\\Bold}[1]{\\mathbf{#1}}\\left(\\begin{array}{rrr}\n",
       "1 & -2 & 0 \\\\\n",
       "1 & -1 & -2 \\\\\n",
       "0 & -2 & 4\n",
       "\\end{array}\\right)\\]</html>"
      ],
      "text/latex": [
       "$$\\newcommand{\\Bold}[1]{\\mathbf{#1}}\\left(\\begin{array}{rrr}\n",
       "1 & -2 & 0 \\\\\n",
       "1 & -1 & -2 \\\\\n",
       "0 & -2 & 4\n",
       "\\end{array}\\right)$$"
      ],
      "text/plain": [
       "[ 1 -2  0]\n",
       "[ 1 -1 -2]\n",
       "[ 0 -2  4]"
      ]
     },
     "metadata": {},
     "execution_count": 47
    }
   ],
   "metadata": {}
  },
  {
   "cell_type": "code",
   "execution_count": 48,
   "source": [
    "A.subs({k:-2})"
   ],
   "outputs": [
    {
     "output_type": "execute_result",
     "data": {
      "text/html": [
       "<html>\\[\\newcommand{\\Bold}[1]{\\mathbf{#1}}\\left(\\begin{array}{rrr}\n",
       "1 & -2 & 0 \\\\\n",
       "1 & -1 & -2 \\\\\n",
       "0 & -2 & 4\n",
       "\\end{array}\\right)\\]</html>"
      ],
      "text/latex": [
       "$$\\newcommand{\\Bold}[1]{\\mathbf{#1}}\\left(\\begin{array}{rrr}\n",
       "1 & -2 & 0 \\\\\n",
       "1 & -1 & -2 \\\\\n",
       "0 & -2 & 4\n",
       "\\end{array}\\right)$$"
      ],
      "text/plain": [
       "[ 1 -2  0]\n",
       "[ 1 -1 -2]\n",
       "[ 0 -2  4]"
      ]
     },
     "metadata": {},
     "execution_count": 48
    }
   ],
   "metadata": {}
  },
  {
   "cell_type": "code",
   "execution_count": 49,
   "source": [
    "linear_solve(A.subs(k=-2),matrix(3,1,[1,-2,6]),[x,y,z])"
   ],
   "outputs": [
    {
     "output_type": "execute_result",
     "data": {
      "text/html": [
       "<html>\\[\\newcommand{\\Bold}[1]{\\mathbf{#1}}\\left[\\left[x = 4 \\, r_{17} - 5, y = 2 \\, r_{17} - 3, z = r_{17}\\right]\\right]\\]</html>"
      ],
      "text/latex": [
       "$$\\newcommand{\\Bold}[1]{\\mathbf{#1}}\\left[\\left[x = 4 \\, r_{17} - 5, y = 2 \\, r_{17} - 3, z = r_{17}\\right]\\right]$$"
      ],
      "text/plain": [
       "[[x == 4*r17 - 5, y == 2*r17 - 3, z == r17]]"
      ]
     },
     "metadata": {},
     "execution_count": 49
    }
   ],
   "metadata": {}
  },
  {
   "cell_type": "markdown",
   "source": [
    "<p><strong>slučaj $k=2$: sustav je kontradiktoran</strong></p>"
   ],
   "metadata": {}
  },
  {
   "cell_type": "code",
   "execution_count": 50,
   "source": [
    "linear_solve(A.subs(k=2),matrix(3,1,[1,-2,6]),[x,y,z])"
   ],
   "outputs": [
    {
     "output_type": "execute_result",
     "data": {
      "text/html": [
       "<html>\\[\\newcommand{\\Bold}[1]{\\mathbf{#1}}\\left[\\right]\\]</html>"
      ],
      "text/latex": [
       "$$\\newcommand{\\Bold}[1]{\\mathbf{#1}}\\left[\\right]$$"
      ],
      "text/plain": [
       "[]"
      ]
     },
     "metadata": {},
     "execution_count": 50
    }
   ],
   "metadata": {}
  },
  {
   "cell_type": "markdown",
   "source": [
    "<div style=\"background-color: #F5FFFA; color: #000000; border: 2px solid #B0C4DE; border-radius: 15px; padding:0px 10px 25px; overflow:auto\">\n",
    "<h3>9. zadatak</h3>\n",
    "<p>Odredite sve $a\\in\\mathbb{R}$ za koje donji sustav ima i netrivijalnih rješenja i za takve $a$-ove nađite opća rješenja promatranog sustava.</p><br/>\n",
    "$$\\begin{align*}-x+3y+az&=0\\\\ 2x-4y+z&=0\\\\ -3x+ay-2az&=0\\end{align*}.$$\n",
    "</div>\n",
    "<h3>Rješenje</h3>\n",
    "<p>U rješavanju zadatka koristimo Roucheov teorem.</p>"
   ],
   "metadata": {}
  },
  {
   "cell_type": "code",
   "execution_count": 51,
   "source": [
    "a=var('a')"
   ],
   "outputs": [],
   "metadata": {}
  },
  {
   "cell_type": "code",
   "execution_count": 52,
   "source": [
    "A=matrix(3,3,[-1,3,a,2,-4,1,-3,a,-2*a])"
   ],
   "outputs": [],
   "metadata": {}
  },
  {
   "cell_type": "code",
   "execution_count": 53,
   "source": [
    "det(A)"
   ],
   "outputs": [
    {
     "output_type": "execute_result",
     "data": {
      "text/html": [
       "<html>\\[\\newcommand{\\Bold}[1]{\\mathbf{#1}}2 \\, a^{2} - 7 \\, a - 9\\]</html>"
      ],
      "text/latex": [
       "$$\\newcommand{\\Bold}[1]{\\mathbf{#1}}2 \\, a^{2} - 7 \\, a - 9$$"
      ],
      "text/plain": [
       "2*a^2 - 7*a - 9"
      ]
     },
     "metadata": {},
     "execution_count": 53
    }
   ],
   "metadata": {}
  },
  {
   "cell_type": "code",
   "execution_count": 54,
   "source": [
    "solve(det(A)==0,a)"
   ],
   "outputs": [
    {
     "output_type": "execute_result",
     "data": {
      "text/html": [
       "<html>\\[\\newcommand{\\Bold}[1]{\\mathbf{#1}}\\left[a = \\left(\\frac{9}{2}\\right), a = \\left(-1\\right)\\right]\\]</html>"
      ],
      "text/latex": [
       "$$\\newcommand{\\Bold}[1]{\\mathbf{#1}}\\left[a = \\left(\\frac{9}{2}\\right), a = \\left(-1\\right)\\right]$$"
      ],
      "text/plain": [
       "[a == (9/2), a == -1]"
      ]
     },
     "metadata": {},
     "execution_count": 54
    }
   ],
   "metadata": {}
  },
  {
   "cell_type": "markdown",
   "source": [
    "<p>Zaključujemo da sustav ima i netrivijalnih rješenja ako i samo ako je $a=\\frac{9}{2}$ ili $a=-1$.</p>\n",
    "\n",
    "<p><strong>opće rješenje sustava za $a=\\frac{9}{2}$ </strong>(varijablu $y$ smo uzeli za parametar)<strong><br /></strong></p>"
   ],
   "metadata": {}
  },
  {
   "cell_type": "code",
   "execution_count": 55,
   "source": [
    "linear_solve(A.subs(a=9/2),matrix(3,1,[0,0,0]),[x,y,z],[x,z,y])"
   ],
   "outputs": [
    {
     "output_type": "execute_result",
     "data": {
      "text/html": [
       "<html>\\[\\newcommand{\\Bold}[1]{\\mathbf{#1}}\\left[\\left[x = \\frac{21}{10} \\, r_{18}, z = -\\frac{1}{5} \\, r_{18}, y = r_{18}\\right]\\right]\\]</html>"
      ],
      "text/latex": [
       "$$\\newcommand{\\Bold}[1]{\\mathbf{#1}}\\left[\\left[x = \\frac{21}{10} \\, r_{18}, z = -\\frac{1}{5} \\, r_{18}, y = r_{18}\\right]\\right]$$"
      ],
      "text/plain": [
       "[[x == 21/10*r18, z == -1/5*r18, y == r18]]"
      ]
     },
     "metadata": {},
     "execution_count": 55
    }
   ],
   "metadata": {}
  },
  {
   "cell_type": "markdown",
   "source": [
    "<p><strong>opće rješenje sustava za $a=-1$</strong> (varijablu $y$ smo uzeli za parametar)</p>"
   ],
   "metadata": {}
  },
  {
   "cell_type": "code",
   "execution_count": 56,
   "source": [
    "linear_solve(A.subs(a=-1),matrix(3,1,[0,0,0]),[x,y,z],[x,z,y])"
   ],
   "outputs": [
    {
     "output_type": "execute_result",
     "data": {
      "text/html": [
       "<html>\\[\\newcommand{\\Bold}[1]{\\mathbf{#1}}\\left[\\left[x = r_{19}, z = 2 \\, r_{19}, y = r_{19}\\right]\\right]\\]</html>"
      ],
      "text/latex": [
       "$$\\newcommand{\\Bold}[1]{\\mathbf{#1}}\\left[\\left[x = r_{19}, z = 2 \\, r_{19}, y = r_{19}\\right]\\right]$$"
      ],
      "text/plain": [
       "[[x == r19, z == 2*r19, y == r19]]"
      ]
     },
     "metadata": {},
     "execution_count": 56
    }
   ],
   "metadata": {}
  },
  {
   "cell_type": "markdown",
   "source": [
    "<div style=\"background-color: #F5FFFA; color: #000000; border: 2px solid #B0C4DE; border-radius: 15px; padding:0px 10px 25px; overflow:auto\">\n",
    "<h3>10. zadatak</h3>\n",
    "<p>Riješite sustav linearnih nejednadžbi</p>\n",
    "$$\\begin{align*}3x_1-4x_2&\\leq6\\\\ 3x_1+4x_2&\\leq12\\\\ 2x_1-x_2&\\geq0\\end{align*}.$$\n",
    "</div>\n",
    "<h3>Rješenje</h3>\n",
    "<p>Uočite u prve tri liste izračunata vršna rješenja</p>"
   ],
   "metadata": {}
  },
  {
   "cell_type": "code",
   "execution_count": 57,
   "source": [
    "solve([3*x1-4*x2<=6,3*x1+4*x2<=12,2*x1-x2>=0],x1,x2)"
   ],
   "outputs": [
    {
     "output_type": "execute_result",
     "data": {
      "text/html": [
       "<html>\\[\\newcommand{\\Bold}[1]{\\mathbf{#1}}\\left[\\left[x_{1} = \\left(-\\frac{6}{5}\\right), x_{2} = \\left(-\\frac{12}{5}\\right)\\right], \\left[x_{1} = \\left(\\frac{12}{11}\\right), x_{2} = \\left(\\frac{24}{11}\\right)\\right], \\left[x_{1} = 3, x_{2} = \\left(\\frac{3}{4}\\right)\\right], \\left[x_{1} = -\\frac{4}{3} \\, x_{2} + 4, \\left(\\frac{3}{4}\\right) < x_{2}, x_{2} < \\left(\\frac{24}{11}\\right)\\right], \\left[x_{1} = \\frac{1}{2} \\, x_{2}, \\left(-\\frac{12}{5}\\right) < x_{2}, x_{2} < \\left(\\frac{24}{11}\\right)\\right], \\left[x_{1} = \\frac{4}{3} \\, x_{2} + 2, \\left(-\\frac{12}{5}\\right) < x_{2}, x_{2} < \\left(\\frac{3}{4}\\right)\\right], \\left[\\frac{1}{2} \\, x_{2} < x_{1}, x_{1} < \\min\\left(\\frac{4}{3} \\, x_{2} + 2, -\\frac{4}{3} \\, x_{2} + 4\\right), \\left(-\\frac{12}{5}\\right) < x_{2}, x_{2} < \\left(\\frac{24}{11}\\right)\\right]\\right]\\]</html>"
      ],
      "text/latex": [
       "$$\\newcommand{\\Bold}[1]{\\mathbf{#1}}\\left[\\left[x_{1} = \\left(-\\frac{6}{5}\\right), x_{2} = \\left(-\\frac{12}{5}\\right)\\right], \\left[x_{1} = \\left(\\frac{12}{11}\\right), x_{2} = \\left(\\frac{24}{11}\\right)\\right], \\left[x_{1} = 3, x_{2} = \\left(\\frac{3}{4}\\right)\\right], \\left[x_{1} = -\\frac{4}{3} \\, x_{2} + 4, \\left(\\frac{3}{4}\\right) < x_{2}, x_{2} < \\left(\\frac{24}{11}\\right)\\right], \\left[x_{1} = \\frac{1}{2} \\, x_{2}, \\left(-\\frac{12}{5}\\right) < x_{2}, x_{2} < \\left(\\frac{24}{11}\\right)\\right], \\left[x_{1} = \\frac{4}{3} \\, x_{2} + 2, \\left(-\\frac{12}{5}\\right) < x_{2}, x_{2} < \\left(\\frac{3}{4}\\right)\\right], \\left[\\frac{1}{2} \\, x_{2} < x_{1}, x_{1} < \\min\\left(\\frac{4}{3} \\, x_{2} + 2, -\\frac{4}{3} \\, x_{2} + 4\\right), \\left(-\\frac{12}{5}\\right) < x_{2}, x_{2} < \\left(\\frac{24}{11}\\right)\\right]\\right]$$"
      ],
      "text/plain": [
       "[[x1 == (-6/5), x2 == (-12/5)], [x1 == (12/11), x2 == (24/11)], [x1 == 3, x2 == (3/4)], [x1 == -4/3*x2 + 4, (3/4) < x2, x2 < (24/11)], [x1 == 1/2*x2, (-12/5) < x2, x2 < (24/11)], [x1 == 4/3*x2 + 2, (-12/5) < x2, x2 < (3/4)], [1/2*x2 < x1, x1 < min(4/3*x2 + 2, -4/3*x2 + 4), (-12/5) < x2, x2 < (24/11)]]"
      ]
     },
     "metadata": {},
     "execution_count": 57
    }
   ],
   "metadata": {}
  },
  {
   "cell_type": "markdown",
   "source": [
    "<p>grafička metoda</p>"
   ],
   "metadata": {}
  },
  {
   "cell_type": "code",
   "execution_count": 58,
   "source": [
    "region_plot([3*x1-4*x2<=6,3*x1+4*x2<=12,2*x1-x2>=0],(x1,-2,4),(x2,-3,3),\n",
    "            incol='yellow',borderwidth=2,bordercol='black',plot_points=300,figsize=(6,4))"
   ],
   "outputs": [
    {
     "output_type": "execute_result",
     "data": {
      "image/png": "[encoded data removed]",
      "text/plain": [
       "Graphics object consisting of 2 graphics primitives"
      ]
     },
     "metadata": {},
     "execution_count": 58
    }
   ],
   "metadata": {}
  },
  {
   "cell_type": "markdown",
   "source": [
    "<div style=\"background-color: #F5FFFA; color: #000000; border: 2px solid #B0C4DE; border-radius: 15px; padding:0px 10px 25px; overflow:auto\">\n",
    "<h3>11. zadatak</h3>\n",
    "<p>Riješite sustav linearnih nejednadžbi</p>\n",
    "$$\\begin{align*}4x_1+5x_2&\\leq10\\\\ x_1-2x_2&\\leq1\\\\ 3x_1-4x_2&\\geq-6\\\\ x_1&\\geq0\\\\ x_2&\\geq0\\end{align*}.$$\n",
    "</div>\n",
    "<h3>Rješenje</h3>\n",
    "<p>Uočite svih pet izračunatih vršnih rješenja</p>"
   ],
   "metadata": {}
  },
  {
   "cell_type": "code",
   "execution_count": 59,
   "source": [
    "solve([4*x1+5*x2<=10,x1-2*x2<=1,3*x1-4*x2>=-6,x1>=0,x2>=0],x1,x2)"
   ],
   "outputs": [
    {
     "output_type": "execute_result",
     "data": {
      "text/html": [
       "<html>\\[\\newcommand{\\Bold}[1]{\\mathbf{#1}}\\left[\\left[\\max\\left(0, \\frac{4}{3} \\, x_{2} - 2\\right) < x_{1}, x_{1} < \\min\\left(2 \\, x_{2} + 1, -\\frac{5}{4} \\, x_{2} + \\frac{5}{2}\\right), 0 < x_{2}, x_{2} < \\left(\\frac{54}{31}\\right)\\right], \\left[x_{1} = 0, 0 < x_{2}, x_{2} < \\left(\\frac{3}{2}\\right)\\right], \\left[x_{1} = 0, x_{2} = 0\\right], \\left[x_{1} = 0, x_{2} = \\left(\\frac{3}{2}\\right)\\right], \\left[x_{1} = \\left(\\frac{10}{31}\\right), x_{2} = \\left(\\frac{54}{31}\\right)\\right], \\left[x_{1} = 1, x_{2} = 0\\right], \\left[x_{1} = \\left(\\frac{25}{13}\\right), x_{2} = \\left(\\frac{6}{13}\\right)\\right], \\left[x_{1} = -\\frac{5}{4} \\, x_{2} + \\frac{5}{2}, \\left(\\frac{6}{13}\\right) < x_{2}, x_{2} < \\left(\\frac{54}{31}\\right)\\right], \\left[x_{1} = 2 \\, x_{2} + 1, 0 < x_{2}, x_{2} < \\left(\\frac{6}{13}\\right)\\right], \\left[x_{1} = \\frac{4}{3} \\, x_{2} - 2, \\left(\\frac{3}{2}\\right) < x_{2}, x_{2} < \\left(\\frac{54}{31}\\right)\\right], \\left[x_{2} = 0, 0 < x_{1}, x_{1} < 1\\right]\\right]\\]</html>"
      ],
      "text/latex": [
       "$$\\newcommand{\\Bold}[1]{\\mathbf{#1}}\\left[\\left[\\max\\left(0, \\frac{4}{3} \\, x_{2} - 2\\right) < x_{1}, x_{1} < \\min\\left(2 \\, x_{2} + 1, -\\frac{5}{4} \\, x_{2} + \\frac{5}{2}\\right), 0 < x_{2}, x_{2} < \\left(\\frac{54}{31}\\right)\\right], \\left[x_{1} = 0, 0 < x_{2}, x_{2} < \\left(\\frac{3}{2}\\right)\\right], \\left[x_{1} = 0, x_{2} = 0\\right], \\left[x_{1} = 0, x_{2} = \\left(\\frac{3}{2}\\right)\\right], \\left[x_{1} = \\left(\\frac{10}{31}\\right), x_{2} = \\left(\\frac{54}{31}\\right)\\right], \\left[x_{1} = 1, x_{2} = 0\\right], \\left[x_{1} = \\left(\\frac{25}{13}\\right), x_{2} = \\left(\\frac{6}{13}\\right)\\right], \\left[x_{1} = -\\frac{5}{4} \\, x_{2} + \\frac{5}{2}, \\left(\\frac{6}{13}\\right) < x_{2}, x_{2} < \\left(\\frac{54}{31}\\right)\\right], \\left[x_{1} = 2 \\, x_{2} + 1, 0 < x_{2}, x_{2} < \\left(\\frac{6}{13}\\right)\\right], \\left[x_{1} = \\frac{4}{3} \\, x_{2} - 2, \\left(\\frac{3}{2}\\right) < x_{2}, x_{2} < \\left(\\frac{54}{31}\\right)\\right], \\left[x_{2} = 0, 0 < x_{1}, x_{1} < 1\\right]\\right]$$"
      ],
      "text/plain": [
       "[[max(0, 4/3*x2 - 2) < x1, x1 < min(2*x2 + 1, -5/4*x2 + 5/2), 0 < x2, x2 < (54/31)], [x1 == 0, 0 < x2, x2 < (3/2)], [x1 == 0, x2 == 0], [x1 == 0, x2 == (3/2)], [x1 == (10/31), x2 == (54/31)], [x1 == 1, x2 == 0], [x1 == (25/13), x2 == (6/13)], [x1 == -5/4*x2 + 5/2, (6/13) < x2, x2 < (54/31)], [x1 == 2*x2 + 1, 0 < x2, x2 < (6/13)], [x1 == 4/3*x2 - 2, (3/2) < x2, x2 < (54/31)], [x2 == 0, 0 < x1, x1 < 1]]"
      ]
     },
     "metadata": {},
     "execution_count": 59
    }
   ],
   "metadata": {}
  },
  {
   "cell_type": "markdown",
   "source": [
    "<p>grafička metoda</p>"
   ],
   "metadata": {}
  },
  {
   "cell_type": "code",
   "execution_count": 60,
   "source": [
    "region_plot([4*x1+5*x2<=10,x1-2*x2<=1,3*x1-4*x2>=-6,x1>=0,x2>=0],(x1,-1,3),(x2,-1,3),\n",
    "            incol='yellow',borderwidth=2,bordercol='black',plot_points=250,aspect_ratio=1,figsize=(6,4))"
   ],
   "outputs": [
    {
     "output_type": "execute_result",
     "data": {
      "image/png": "[encoded data removed]",
      "text/plain": [
       "Graphics object consisting of 2 graphics primitives"
      ]
     },
     "metadata": {},
     "execution_count": 60
    }
   ],
   "metadata": {}
  },
  {
   "cell_type": "markdown",
   "source": [
    "<div style=\"background-color: #F5FFFA; color: #000000; border: 2px solid #B0C4DE; border-radius: 15px; padding:0px 10px 25px; overflow:auto\">\n",
    "<h3>12. zadatak</h3>\n",
    "<p>Riješite sustav linearnih nejednadžbi</p>\n",
    "$$\\begin{align*}-12x_1+3x_2&\\leq3\\\\ 4x_1-10x_2&\\leq5\\\\ x_1&\\geq0\\end{align*}.$$\n",
    "</div>\n",
    "<h3>Rješenje</h3>\n",
    "<p>uočite oba izračunata vršna rješenja</p>"
   ],
   "metadata": {}
  },
  {
   "cell_type": "code",
   "execution_count": 61,
   "source": [
    "solve([-12*x1+3*x2<=3,4*x1-10*x2<=5,x1>=0],x1,x2)"
   ],
   "outputs": [
    {
     "output_type": "execute_result",
     "data": {
      "text/html": [
       "<html>\\[\\newcommand{\\Bold}[1]{\\mathbf{#1}}\\left[\\left[\\max\\left(0, \\frac{1}{4} \\, x_{2} - \\frac{1}{4}\\right) < x_{1}, x_{1} < \\frac{5}{2} \\, x_{2} + \\frac{5}{4}, \\left(-\\frac{1}{2}\\right) < x_{2}\\right], \\left[x_{1} = 0, \\left(-\\frac{1}{2}\\right) < x_{2}, x_{2} < 1\\right], \\left[x_{1} = 0, x_{2} = \\left(-\\frac{1}{2}\\right)\\right], \\left[x_{1} = 0, x_{2} = 1\\right], \\left[x_{1} = \\frac{1}{4} \\, x_{2} - \\frac{1}{4}, 1 < x_{2}\\right], \\left[x_{1} = \\frac{5}{2} \\, x_{2} + \\frac{5}{4}, \\left(-\\frac{1}{2}\\right) < x_{2}\\right]\\right]\\]</html>"
      ],
      "text/latex": [
       "$$\\newcommand{\\Bold}[1]{\\mathbf{#1}}\\left[\\left[\\max\\left(0, \\frac{1}{4} \\, x_{2} - \\frac{1}{4}\\right) < x_{1}, x_{1} < \\frac{5}{2} \\, x_{2} + \\frac{5}{4}, \\left(-\\frac{1}{2}\\right) < x_{2}\\right], \\left[x_{1} = 0, \\left(-\\frac{1}{2}\\right) < x_{2}, x_{2} < 1\\right], \\left[x_{1} = 0, x_{2} = \\left(-\\frac{1}{2}\\right)\\right], \\left[x_{1} = 0, x_{2} = 1\\right], \\left[x_{1} = \\frac{1}{4} \\, x_{2} - \\frac{1}{4}, 1 < x_{2}\\right], \\left[x_{1} = \\frac{5}{2} \\, x_{2} + \\frac{5}{4}, \\left(-\\frac{1}{2}\\right) < x_{2}\\right]\\right]$$"
      ],
      "text/plain": [
       "[[max(0, 1/4*x2 - 1/4) < x1, x1 < 5/2*x2 + 5/4, (-1/2) < x2], [x1 == 0, (-1/2) < x2, x2 < 1], [x1 == 0, x2 == (-1/2)], [x1 == 0, x2 == 1], [x1 == 1/4*x2 - 1/4, 1 < x2], [x1 == 5/2*x2 + 5/4, (-1/2) < x2]]"
      ]
     },
     "metadata": {},
     "execution_count": 61
    }
   ],
   "metadata": {}
  },
  {
   "cell_type": "markdown",
   "source": [
    "<p>grafička metoda - uočite da je rješenje neomeđen skup u ravnini</p>"
   ],
   "metadata": {}
  },
  {
   "cell_type": "code",
   "execution_count": 62,
   "source": [
    "region_plot([-12*x1+3*x2<=3,4*x1-10*x2<=5,x1>=0],(x1,-1,3),(x2,-1,3),\n",
    "            incol='yellow',borderwidth=2,bordercol='black',plot_points=250,aspect_ratio=1,figsize=(6,4))"
   ],
   "outputs": [
    {
     "output_type": "execute_result",
     "data": {
      "image/png": "[encoded data removed]",
      "text/plain": [
       "Graphics object consisting of 2 graphics primitives"
      ]
     },
     "metadata": {},
     "execution_count": 62
    }
   ],
   "metadata": {}
  },
  {
   "cell_type": "markdown",
   "source": [
    "<h1>Maxima</h1>\n",
    "\n",
    "<p>Možda niste znali, ali unutar SAGE worksheeta možete direktno koristiti i <span style=\"color: #ff0000;\"><em>maxima</em></span> kod. To možete napraviti globalno tako da u meniju na početku worksheeta umjesto <em><span style=\"color: #ff0000;\">sage</span></em>, odaberete <span style=\"color: #ff0000;\"><em>maxima</em></span>; ili pak možete lokalno samo unutar pojedine ćelije koristiti <em><span style=\"color: #ff0000;\">maxima</span></em> kod tako da na početku te ćelije najprije napišete <em><span style=\"color: #ff0000;\">%maxima</span></em>, a nakon toga unutar te ćelije počnete pisati <span style=\"color: #ff0000;\"><em>maxima</em></span> kod.  Dolje ćemo pokazati lokalno korištenje maxime unutar pojedine ćelije na nekoliko prethodnih gore napravljenih zadataka. Nećemo ponovo prepisivati zadatke, nego ćemo samo napisati redni broj zadatka.</p>\n",
    "\n",
    "<p><strong>1. zadatak</strong></p>"
   ],
   "metadata": {}
  },
  {
   "cell_type": "code",
   "execution_count": 63,
   "source": [
    "%%maxima\n",
    "linsolve([2*x+3*y+z=2, x-3*y+2*z=6, -2*x+6*y-z=3], [x,y,z]);"
   ],
   "outputs": [
    {
     "output_type": "stream",
     "name": "stdout",
     "text": [
      "[x=-7/3,y=5/9,z=5]\n"
     ]
    }
   ],
   "metadata": {}
  },
  {
   "cell_type": "markdown",
   "source": [
    "<p>matrica sustava, proširena matrica sustava i rangovi tih matrica</p>"
   ],
   "metadata": {}
  },
  {
   "cell_type": "code",
   "execution_count": 64,
   "source": [
    "%%maxima\n",
    "M: coefmatrix([2*x+3*y+z=2, x-3*y+2*z=6, -2*x+6*y-z=3], [x,y,z]);\n",
    "Mp: augcoefmatrix([2*x+3*y+z=2, x-3*y+2*z=6, -2*x+6*y-z=3], [x,y,z]);\n",
    "[rank(M),rank(Mp)];"
   ],
   "outputs": [
    {
     "output_type": "stream",
     "name": "stdout",
     "text": [
      "matrix([2,3,1],[1,-3,2],[-2,6,-1])\n",
      "matrix([2,3,1,-2],[1,-3,2,-6],[-2,6,-1,-3])\n",
      "[3,3]\n"
     ]
    }
   ],
   "metadata": {}
  },
  {
   "cell_type": "markdown",
   "source": [
    "<p><strong>2. zadatak</strong></p>\n",
    "\n",
    "<p>opće rješenje gdje je varijabla $u$ parametar i pripadno bazično rješenje</p>"
   ],
   "metadata": {}
  },
  {
   "cell_type": "code",
   "execution_count": 65,
   "source": [
    "%%maxima\n",
    "sustav: [x+y+2*z+3*u=6,x-4*y+2*z-3*u=-4,7*y+2*z+5*u=12,x+3*y+4*z+2*u=8]$\n",
    "rj1:linsolve(sustav,[x,y,z,u]);\n",
    "subst(0,%rnum_list[1],rj1);"
   ],
   "outputs": [
    {
     "output_type": "stream",
     "name": "stdout",
     "text": [
      "\n",
      "[x=-(26*%r1-30)/5,y=-(6*%r1-10)/5,z=(17*%r1-10)/10,u=%r1]\n",
      "[x=6,y=2,z=-1,u=0]\n"
     ]
    }
   ],
   "metadata": {}
  },
  {
   "cell_type": "markdown",
   "source": [
    "<p>opće rješenje gdje je varijabla $z$ parametar i pripadno bazično rješenje</p>"
   ],
   "metadata": {}
  },
  {
   "cell_type": "code",
   "execution_count": 66,
   "source": [
    "%%maxima\n",
    "rj2: linsolve(sustav,[x,y,u,z]);\n",
    "subst(0,%rnum_list[1],rj2);"
   ],
   "outputs": [
    {
     "output_type": "stream",
     "name": "stdout",
     "text": [
      "[x=-(52*%r2-50)/17,y=-(12*%r2-22)/17,u=(10*%r2+10)/17,z=%r2]\n",
      "[x=50/17,y=22/17,u=10/17,z=0]\n"
     ]
    }
   ],
   "metadata": {}
  },
  {
   "cell_type": "markdown",
   "source": [
    "<p>prethodna dva primjera u kojima ne uvodimo nova slova za parametre</p>"
   ],
   "metadata": {}
  },
  {
   "cell_type": "code",
   "execution_count": 67,
   "source": [
    "%%maxima\n",
    "linsolve_params: false$\n",
    "r1:linsolve(sustav,[x,y,z,u]);\n",
    "subst(0,u,r1);"
   ],
   "outputs": [
    {
     "output_type": "stream",
     "name": "stdout",
     "text": [
      "\n",
      "[x=-(26*u-30)/5,y=-(6*u-10)/5,z=(17*u-10)/10]\n",
      "[x=6,y=2,z=-1]\n"
     ]
    }
   ],
   "metadata": {}
  },
  {
   "cell_type": "code",
   "execution_count": 68,
   "source": [
    "%%maxima\n",
    "r2:linsolve(sustav,[x,y,u,z]);\n",
    "subst(0,z,r2);"
   ],
   "outputs": [
    {
     "output_type": "stream",
     "name": "stdout",
     "text": [
      "[x=-(52*z-50)/17,y=-(12*z-22)/17,u=(10*z+10)/17]\n",
      "[x=50/17,y=22/17,u=10/17]\n"
     ]
    }
   ],
   "metadata": {}
  },
  {
   "cell_type": "markdown",
   "source": [
    "<p>uvjet pod kojim je suma komponenata rješenja pozitivna ako uzmemo opće rješenje u kojemu je varijabla $y$ parametar</p>"
   ],
   "metadata": {}
  },
  {
   "cell_type": "code",
   "execution_count": 69,
   "source": [
    "%%maxima\n",
    "load(fourier_elim)$\n",
    "r3:linsolve(sustav,[x,z,u,y]);\n",
    "nejednakost:sum(rhs(r3[i]),i,1,3)+y;\n",
    "fourier_elim([nejednakost>0],[y]);"
   ],
   "outputs": [
    {
     "output_type": "stream",
     "name": "stdout",
     "text": [
      "\n",
      "[x=(13*y-8)/3,z=-(17*y-22)/12,u=-(5*y-10)/6]\n",
      "(-(17*y-22)/12)+(13*y-8)/3-(5*y-10)/6+y\n",
      "[-10/37<y]\n"
     ]
    }
   ],
   "metadata": {}
  },
  {
   "cell_type": "markdown",
   "source": [
    "<p><strong>6. zadatak</strong></p>"
   ],
   "metadata": {}
  },
  {
   "cell_type": "code",
   "execution_count": 70,
   "source": [
    "%%maxima\n",
    "A: matrix([0,1,-1,4],[2,1,0,1],[3,2,2,5],[-2,-4,-1,1])$\n",
    "invert(A)"
   ],
   "outputs": [
    {
     "output_type": "stream",
     "name": "stdout",
     "text": [
      "\n",
      "matrix([-13/82,53/82,-1/41,9/82],[15/82,-17/82,-2/41,-23/82],[-23/82,-45/82,14/41,-3/82],[11/82,-7/82,4/41,5/82])\n"
     ]
    }
   ],
   "metadata": {}
  },
  {
   "cell_type": "code",
   "execution_count": 71,
   "source": [
    "%%maxima\n",
    "doallmxops: false$\n",
    "invert(A);"
   ],
   "outputs": [
    {
     "output_type": "stream",
     "name": "stdout",
     "text": [
      "\n",
      "-matrix([13,-53,2,-9],[-15,17,4,23],[23,45,-28,3],[-11,7,-8,-5])/82\n"
     ]
    }
   ],
   "metadata": {}
  },
  {
   "cell_type": "code",
   "execution_count": null,
   "source": [],
   "outputs": [],
   "metadata": {}
  }
 ],
 "metadata": {
  "kernelspec": {
   "display_name": "SageMath 9.4",
   "language": "sage",
   "name": "sagemath"
  },
  "language": "python",
  "language_info": {
   "name": "python",
   "version": "3.9.7",
   "mimetype": "text/x-python",
   "codemirror_mode": {
    "name": "ipython",
    "version": 3
   },
   "pygments_lexer": "ipython3",
   "nbconvert_exporter": "python",
   "file_extension": ".py"
  }
 },
 "nbformat": 4,
 "nbformat_minor": 2
}